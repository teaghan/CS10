{
 "cells": [
  {
   "cell_type": "markdown",
   "id": "90ebb1e6-ba89-473f-b294-2ce9f8737ab6",
   "metadata": {},
   "source": [
    "# Loops\n",
    "\n",
    "*By completing these challenges, you'll demonstrate that you understand key programming concepts.*\n",
    "\n",
    "Use the provided code cells to answer each question.\n",
    "\n",
    "When you’ve finished all of the questions in this challenge (bonus level questions are optional), call me over to read it and sign off on it. I’ll also want to run your programs, so make sure the notebook runs properly!\n",
    "\n",
    "Don’t forget to use comments appropriately."
   ]
  },
  {
   "cell_type": "markdown",
   "id": "8ff1a94b-6af6-4cfc-afcc-d8d1bb67685c",
   "metadata": {},
   "source": [
    "\n",
    "### Level 1\n",
    "\n",
    "1. Iterate 0 to 10 using **`for`** loop and **`print()`** each number, do the same using **`while`** loop."
   ]
  },
  {
   "cell_type": "code",
   "execution_count": null,
   "id": "8347603a-4002-4665-bb7c-c23becca753e",
   "metadata": {},
   "outputs": [],
   "source": []
  },
  {
   "cell_type": "markdown",
   "id": "829e9f9b-5c41-407b-9418-839870cedd61",
   "metadata": {},
   "source": [
    "2. Iterate 10 to 0 using **`for`** loop and **`print()`** each number, do the same using **`while`** loop."
   ]
  },
  {
   "cell_type": "code",
   "execution_count": null,
   "id": "6a675afd-6463-4e31-84ea-acaf5610dcf0",
   "metadata": {},
   "outputs": [],
   "source": []
  },
  {
   "cell_type": "markdown",
   "id": "cc02d46b-86d0-4e97-8c72-56aad1543bde",
   "metadata": {},
   "source": [
    "3. Write a nested `for` loop that makes eight rows of seven `#`s, so we get on the output the following rectangle:\n",
    "\n",
    "```python\n",
    "# # # # # # # #\n",
    "# # # # # # # #\n",
    "# # # # # # # #\n",
    "# # # # # # # #\n",
    "# # # # # # # #\n",
    "# # # # # # # #\n",
    "# # # # # # # #\n",
    "# # # # # # # #\n",
    "```\n",
    "\n",
    "`💡 Hint: A nested for loop is a loop within a loop:`\n",
    "\n",
    "```python\n",
    "for i in range(3):\n",
    "    for j in range(5):\n",
    "        # Do something\n",
    "```\n",
    "\n",
    "`💡 Hint: You can use the \"end\" argument in a print call to not create a new line after the print:`\n",
    "\n",
    "```python\n",
    "print('a', end=' ')\n",
    "```"
   ]
  },
  {
   "cell_type": "code",
   "execution_count": null,
   "id": "b905224d-12f6-4352-adce-4dc01c7a6612",
   "metadata": {},
   "outputs": [],
   "source": []
  },
  {
   "cell_type": "markdown",
   "id": "6505d606-5636-4f96-b543-9e6aebc8c376",
   "metadata": {},
   "source": [
    "4. Use loop(s) to create the following:\n",
    "\n",
    "```py\n",
    "      #\n",
    "     ###\n",
    "    #####\n",
    "   #######\n",
    "  #########\n",
    " ###########\n",
    "#############\n",
    "```"
   ]
  },
  {
   "cell_type": "code",
   "execution_count": null,
   "id": "099478a6-66a1-4276-8b7c-326dae1b69d7",
   "metadata": {},
   "outputs": [],
   "source": []
  },
  {
   "cell_type": "markdown",
   "id": "5971f907-e5d4-403f-96ae-d0ea239dc91c",
   "metadata": {},
   "source": [
    "\n",
    "5. Print the following pattern using loops\n",
    "\n",
    "```py\n",
    "   0 x 0 = 0\n",
    "   1 x 1 = 1\n",
    "   2 x 2 = 4\n",
    "   3 x 3 = 9\n",
    "   4 x 4 = 16\n",
    "   5 x 5 = 25\n",
    "   6 x 6 = 36\n",
    "   7 x 7 = 49\n",
    "   8 x 8 = 64\n",
    "   9 x 9 = 81\n",
    "   10 x 10 = 100\n",
    "```"
   ]
  },
  {
   "cell_type": "code",
   "execution_count": null,
   "id": "bff1eb0e-df1f-4d37-8a9d-6d328d88d6b3",
   "metadata": {},
   "outputs": [],
   "source": []
  },
  {
   "cell_type": "markdown",
   "id": "53034ceb-5734-4f1c-bf8a-1283eb1bdb35",
   "metadata": {},
   "source": [
    "6. Iterate through the list, `['Python', 'Numpy','Pandas','Scikit', 'Pytorch']` using a **`for`** loop and print out the items.\n",
    "\n",
    "Remember, you can create a list of strings as such:\n",
    "\n",
    "```python\n",
    "fruits = ['apple', 'banana', 'pear']\n",
    "```"
   ]
  },
  {
   "cell_type": "code",
   "execution_count": null,
   "id": "6b91b7c2-85fb-411c-a85b-e5ddd32891a8",
   "metadata": {},
   "outputs": [],
   "source": []
  },
  {
   "cell_type": "markdown",
   "id": "993e5d3e-ab7c-4506-9004-413f16a41d6f",
   "metadata": {},
   "source": [
    "7. Use a **`for`** loop to iterate from 0 to 100 and print only even numbers.\n",
    "\n",
    "**Hint:**\n",
    "\n",
    "If I want to check if a number is evenly divisible by 3, I can use the `%` symbol in Python, which is called the *Modulo Operator*. It returns the remainder of dividing the left hand operand by right hand operand. \n",
    "\n",
    "For example:"
   ]
  },
  {
   "cell_type": "code",
   "execution_count": 1,
   "id": "68d349e3-65f1-414e-9e1d-1fd2ee0f2523",
   "metadata": {
    "execution": {
     "iopub.execute_input": "2023-11-07T22:25:50.484562Z",
     "iopub.status.busy": "2023-11-07T22:25:50.484321Z",
     "iopub.status.idle": "2023-11-07T22:25:50.489159Z",
     "shell.execute_reply": "2023-11-07T22:25:50.488371Z",
     "shell.execute_reply.started": "2023-11-07T22:25:50.484537Z"
    },
    "tags": []
   },
   "outputs": [
    {
     "name": "stdout",
     "output_type": "stream",
     "text": [
      "2\n",
      "0\n",
      "True\n"
     ]
    }
   ],
   "source": [
    "# Calculate the remainder of dividing 8 and 9 by 3\n",
    "print(8%3)\n",
    "print(9%3)\n",
    "# This next print checks whether or not 9 is evenly divisible by 3\n",
    "print(9%3==0)"
   ]
  },
  {
   "cell_type": "code",
   "execution_count": null,
   "id": "2de54b66-e49b-443a-8cc3-1b264c55c597",
   "metadata": {},
   "outputs": [],
   "source": []
  },
  {
   "cell_type": "markdown",
   "id": "2f9faaae-1ef4-4c0a-badb-e8da5675fb0a",
   "metadata": {},
   "source": [
    "8. Use a **`for`** loop to iterate from 0 to 100 and print only odd numbers"
   ]
  },
  {
   "cell_type": "code",
   "execution_count": null,
   "id": "7aaa849c-0112-41b3-ba51-9cbbaf5b23bd",
   "metadata": {},
   "outputs": [],
   "source": []
  },
  {
   "cell_type": "markdown",
   "id": "84eada43-c604-432a-9109-dba11f2ac979",
   "metadata": {},
   "source": [
    "### Level 2\n",
    "\n",
    "9.  Use **`for`** loop to iterate from 0 to 100 and print the sum of all numbers.\n",
    "\n",
    "**Hint:** Remember, you can define a variable outside of the `for` loop and update it within the loop.\n",
    "\n",
    "> Check your answer: The sum of all numbers form 1 to 100 is 5050."
   ]
  },
  {
   "cell_type": "code",
   "execution_count": null,
   "id": "c6e81224-f8ef-4b47-af85-5d9d6e93d100",
   "metadata": {},
   "outputs": [],
   "source": []
  },
  {
   "cell_type": "markdown",
   "id": "8ca5ea81-4ab2-4970-baef-01642ac57e0c",
   "metadata": {},
   "source": [
    "10. Use a **`for`** loop to iterate from 0 to 100 and print the sum of all evens and the sum of all odds.\n",
    "\n",
    "> Check your answer: The sum of all evens is 2550. And the sum of all odds is 2500."
   ]
  },
  {
   "cell_type": "code",
   "execution_count": null,
   "id": "cae60068-5e79-4ff3-bd79-b09508182c9e",
   "metadata": {},
   "outputs": [],
   "source": []
  },
  {
   "cell_type": "markdown",
   "id": "7f42e06e-8a65-404d-ace0-39e6bb9beae7",
   "metadata": {},
   "source": [
    "11. **Guess the Number Game:** Write a program that generates a random number between 1 and 100 and asks the user to guess it. If the user's guess is too high, the program should print \"Too high\" and if the guess is too low, the program should print \"Too low\". The program should continue asking the user for guesses until they correctly guess the number.\n"
   ]
  },
  {
   "cell_type": "markdown",
   "id": "069b717c-649b-4672-b7f5-9b7902f16fe4",
   "metadata": {},
   "source": [
    "### Bonus Level\n",
    "\n",
    "12. **Hangman:** Write a program that allows the user to play a game of Hangman, where they try to guess a hidden word by guessing one letter at a time. The program should choose a random word from a list, and then ask the user to guess a letter. If the letter is in the word, the program should reveal its position in the word, otherwise it should draw a part of a hangman's gallows."
   ]
  },
  {
   "cell_type": "code",
   "execution_count": null,
   "id": "ea01ec10-2de5-429c-9413-b5b06798a85d",
   "metadata": {},
   "outputs": [],
   "source": []
  },
  {
   "cell_type": "markdown",
   "id": "eed3bfea-3061-4bf5-b3bc-1d89c92f085c",
   "metadata": {},
   "source": [
    "13. Download the `countries.py` from Teams and upload it to your project by dragging it to the `FILES` section on the left hand panel. You can load this list of country names into the variable `countries` by using the following code\n",
    "\n",
    "```python\n",
    "from countries import countries\n",
    "```\n",
    "\n",
    "Loop through the countries and extract all the countries containing the word **`land`**.\n",
    "\n"
   ]
  },
  {
   "cell_type": "code",
   "execution_count": null,
   "id": "7fe3dd76-11a1-4177-9665-d1140e02d6f9",
   "metadata": {},
   "outputs": [],
   "source": []
  },
  {
   "cell_type": "markdown",
   "id": "118ebc2b-fe7f-44f6-9d2a-ada6911066ab",
   "metadata": {},
   "source": [
    "14. This is a fruit list, `['banana', 'orange', 'mango', 'lemon']` reverse the order using a loop.\n"
   ]
  },
  {
   "cell_type": "code",
   "execution_count": null,
   "id": "ef563e63-3516-4214-8808-e85632e5281d",
   "metadata": {},
   "outputs": [],
   "source": []
  },
  {
   "cell_type": "markdown",
   "id": "d41d40b3-2180-437e-8a68-4e341a31d7f1",
   "metadata": {
    "execution": {
     "iopub.execute_input": "2023-11-07T21:53:52.100038Z",
     "iopub.status.busy": "2023-11-07T21:53:52.099612Z",
     "iopub.status.idle": "2023-11-07T21:53:52.106671Z",
     "shell.execute_reply": "2023-11-07T21:53:52.105685Z",
     "shell.execute_reply.started": "2023-11-07T21:53:52.100013Z"
    },
    "tags": []
   },
   "source": [
    "15. Download the `countries_details_data.py` from Teams and upload it to your project by dragging it to the `FILES` section on the left hand panel. You can load this list of country data into the variable `country_data` by using the following code\n",
    "\n",
    "```python\n",
    "from countries_details_data import country_data\n",
    "```\n",
    "\n",
    "- What are the total number of languages in the data?\n",
    "- Find the ten most spoken languages from the data?\n",
    "- Find the 10 most populated countries in the world?"
   ]
  },
  {
   "cell_type": "code",
   "execution_count": null,
   "id": "1cd0c6ff-cacf-441f-9018-94d621ac2575",
   "metadata": {},
   "outputs": [],
   "source": []
  }
 ],
 "metadata": {
  "kernelspec": {
   "display_name": "Python 3 (ipykernel)",
   "language": "python",
   "name": "python3"
  },
  "language_info": {
   "codemirror_mode": {
    "name": "ipython",
    "version": 3
   },
   "file_extension": ".py",
   "mimetype": "text/x-python",
   "name": "python",
   "nbconvert_exporter": "python",
   "pygments_lexer": "ipython3",
   "version": "3.10.12"
  }
 },
 "nbformat": 4,
 "nbformat_minor": 5
}
