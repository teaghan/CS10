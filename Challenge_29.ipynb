{
 "cells": [
  {
   "cell_type": "markdown",
   "id": "21d5bc26-4ee2-409e-b4cf-bdb0dd2d0d15",
   "metadata": {},
   "source": [
    "# Strings and formatting\n",
    "\n",
    "*By completing these challenges, you'll demonstrate that you understand key programming concepts.*\n",
    "\n",
    "**Use the provided code cells to answer at least five of the following question.**\n",
    "\n",
    "When you’ve finished, call me over to read it and sign off on it. I’ll also want to run your programs, so make sure the notebook runs properly!\n",
    "\n",
    "Don’t forget to use comments appropriately."
   ]
  },
  {
   "cell_type": "markdown",
   "id": "5f97cd2e-c83f-4146-994f-10caa121ecbc",
   "metadata": {},
   "source": [
    "1. \n",
    "a) Join the list of strings **`['Computer', 'Studies', '10']`** to a single string with spaces, **`Computer Studies 10`**. Assign this string a variable named **`course`**."
   ]
  },
  {
   "cell_type": "code",
   "execution_count": null,
   "id": "44000c75-01cd-4043-b771-21ca6050f70d",
   "metadata": {},
   "outputs": [],
   "source": []
  },
  {
   "cell_type": "markdown",
   "id": "a320ae7e-85db-429c-a16d-39dce91f9a99",
   "metadata": {},
   "source": [
    "c) Print the length of the **`course`** string using **`len()`** method."
   ]
  },
  {
   "cell_type": "code",
   "execution_count": null,
   "id": "db62b995-84a3-43c5-a6ea-d487eb26329c",
   "metadata": {},
   "outputs": [],
   "source": []
  },
  {
   "cell_type": "markdown",
   "id": "ab3eb79f-7fc7-44c0-b89d-1195dad86b24",
   "metadata": {},
   "source": [
    "d) Print the results when you change all the characters of the variable **`course`** to uppercase and lowercase letters using **[upper()](https://github.com/milaan9/02_Python_Datatypes/blob/main/002_Python_String_Methods/026_Python_String_upper%28%29.ipynb)** and **[lower()](https://github.com/milaan9/02_Python_Datatypes/blob/main/002_Python_String_Methods/025_Python_String_lower%28%29.ipynb)** method."
   ]
  },
  {
   "cell_type": "code",
   "execution_count": null,
   "id": "624c9a91-b960-457e-b158-7844756024b4",
   "metadata": {},
   "outputs": [],
   "source": []
  },
  {
   "cell_type": "markdown",
   "id": "973d2228-8273-45e3-b90d-3dee52b5bedb",
   "metadata": {},
   "source": [
    "e) Print the results when you use **[capitalize()](https://github.com/milaan9/02_Python_Datatypes/blob/main/002_Python_String_Methods/001_Python_String_capitalize%28%29.ipynb)**, **[title()](https://github.com/milaan9/02_Python_Datatypes/blob/main/002_Python_String_Methods/042_Python_String_title%28%29.ipynb)**, **[swapcase()](https://github.com/milaan9/02_Python_Datatypes/blob/main/002_Python_String_Methods/027_Python_String_swapcase%28%29.ipynb)** methods to format the value of **`course`**."
   ]
  },
  {
   "cell_type": "code",
   "execution_count": null,
   "id": "c7ed128f-2eee-4531-bcff-b99af38eef20",
   "metadata": {},
   "outputs": [],
   "source": []
  },
  {
   "cell_type": "markdown",
   "id": "784229ba-79d0-4c97-b718-3c9c05e9f1a5",
   "metadata": {},
   "source": [
    "f) Split the **`course`** variable into words using space as the separator (**[split()](https://github.com/milaan9/02_Python_Datatypes/blob/main/002_Python_String_Methods/038_Python_String_split%28%29.ipynb)**) and print the first word."
   ]
  },
  {
   "cell_type": "code",
   "execution_count": null,
   "id": "2a267941-e43f-47bb-b57b-b5382a9ce4ab",
   "metadata": {},
   "outputs": [],
   "source": []
  },
  {
   "cell_type": "markdown",
   "id": "d2fe7eab-6b2f-455b-beb4-8a456fe4f3cb",
   "metadata": {},
   "source": [
    "g) Check if **`course`** contains the word **`Studies`** using the method: **[index()](https://github.com/milaan9/02_Python_Datatypes/blob/main/002_Python_String_Methods/010_Python_String_index%28%29.ipynb)**, **[find()](https://github.com/milaan9/02_Python_Datatypes/blob/main/002_Python_String_Methods/008_Python_String_find%28%29.ipynb)** or other methods."
   ]
  },
  {
   "cell_type": "code",
   "execution_count": null,
   "id": "2b981a74-eb5d-4e36-82bd-f8cdc72b8d37",
   "metadata": {},
   "outputs": [],
   "source": []
  },
  {
   "cell_type": "markdown",
   "id": "3c4ca892-95ee-46ed-9e74-733865e12dfb",
   "metadata": {},
   "source": [
    "h) Change **`Computer Studies 10`** to **`Computer Studies Infinite`** using the **[replace()](https://github.com/milaan9/02_Python_Datatypes/blob/main/002_Python_String_Methods/035_Python_String_replace%28%29.ipynb)** method or other methods."
   ]
  },
  {
   "cell_type": "code",
   "execution_count": null,
   "id": "82b3ab0e-c29e-40b8-b953-249467295526",
   "metadata": {},
   "outputs": [],
   "source": []
  },
  {
   "cell_type": "markdown",
   "id": "a54acfd7-5702-4a7b-a6ed-2b2b7d15cb33",
   "metadata": {},
   "source": [
    "i) Use indexing to find the character at index 9 in the string **`Computer Studies 10`**."
   ]
  },
  {
   "cell_type": "code",
   "execution_count": null,
   "id": "7db60096-73d4-4eb2-a80f-c56041640cad",
   "metadata": {},
   "outputs": [],
   "source": []
  },
  {
   "cell_type": "markdown",
   "id": "614e1db7-aa68-4ad3-a883-fb3f5177a93c",
   "metadata": {},
   "source": [
    "j) What is the second last index of the string **`Computer Studies 10`**?\n"
   ]
  },
  {
   "cell_type": "code",
   "execution_count": null,
   "id": "b3a9fd9b-aec3-4758-aa76-5ee12b95049e",
   "metadata": {},
   "outputs": [],
   "source": []
  },
  {
   "cell_type": "markdown",
   "id": "4ea1f087-3918-44cb-a862-04914265c954",
   "metadata": {},
   "source": [
    "2. Print the following as strings **using string formatting methods**:\n",
    "\n",
    "```python\n",
    "8 + 6 = 14\n",
    "8 - 6 = 2\n",
    "8 * 6 = 48\n",
    "8 / 6 = 1.33\n",
    "8 % 6 = 2\n",
    "8 // 6 = 1\n",
    "8 ** 6 = 262144\n",
    "```\n",
    "\n",
    "To do this, first define variables like\n",
    "\n",
    "```python\n",
    "number_a = 8\n",
    "number_b = 6\n",
    "```\n",
    "\n",
    "Then use these variables to format and print a string:\n",
    "\n",
    "```python\n",
    "print('{} and {}'.format(number_a, number_b))\n",
    "```"
   ]
  },
  {
   "cell_type": "markdown",
   "id": "f390a1dd-2401-413d-8c06-f880ead89d22",
   "metadata": {},
   "source": []
  },
  {
   "cell_type": "code",
   "execution_count": null,
   "id": "731b972b-68bc-4509-b0b2-0675cf47086b",
   "metadata": {},
   "outputs": [],
   "source": []
  },
  {
   "cell_type": "markdown",
   "id": "b05d7374-48b4-42e4-8e56-925ec599c752",
   "metadata": {},
   "source": [
    "3. In your own words, explain the difference between commenting code and documenting code. Explain why both are necessary. (You can use a markdown cell for this).\n"
   ]
  },
  {
   "cell_type": "code",
   "execution_count": null,
   "id": "ec4162b5-0d92-4b45-9998-41bc8b4f77f4",
   "metadata": {},
   "outputs": [],
   "source": []
  },
  {
   "cell_type": "markdown",
   "id": "36f1adaa-0817-4cd9-b5cf-b1de9df16116",
   "metadata": {},
   "source": [
    "## Next Challenge\n",
    "\n",
    "Now you can move onto Challenge 30 before starting Lesson 8."
   ]
  },
  {
   "cell_type": "code",
   "execution_count": null,
   "id": "2272c3c1-e99e-460e-b993-2b45501c7826",
   "metadata": {},
   "outputs": [],
   "source": []
  }
 ],
 "metadata": {
  "kernelspec": {
   "display_name": "Python 3 (ipykernel)",
   "language": "python",
   "name": "python3"
  },
  "language_info": {
   "codemirror_mode": {
    "name": "ipython",
    "version": 3
   },
   "file_extension": ".py",
   "mimetype": "text/x-python",
   "name": "python",
   "nbconvert_exporter": "python",
   "pygments_lexer": "ipython3",
   "version": "3.10.12"
  }
 },
 "nbformat": 4,
 "nbformat_minor": 5
}
