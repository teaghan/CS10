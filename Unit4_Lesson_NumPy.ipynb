{
 "cells": [
  {
   "cell_type": "markdown",
   "metadata": {
    "ExecuteTime": {
     "end_time": "2021-05-27T18:42:32.348446Z",
     "start_time": "2021-05-27T18:42:32.329894Z"
    }
   },
   "source": [
    "<small><small><i>\n",
    "All the IPython Notebooks in this lecture series by Dr. Milan Parmar are available @ **[GitHub](https://github.com/milaan9/09_Python_NumPy_Module)**\n",
    "</i></small></small>"
   ]
  },
  {
   "cell_type": "markdown",
   "metadata": {},
   "source": [
    "# Python NumPy\n",
    "\n",
    "In this class, you will learn various NumPy concepts like how to install NumPy, arrays, functions, matrix multiplication, etc. This NumPy in Python tutorial will help you learn all Python NumPy basics.\n",
    "\n",
    "**[Numpy](http://www.numpy.org/)** (‘Numerical Python’) is the core open source library for scientific computing in Python. It is a Linear Algebra Library for Python, it is so important for Finance with Python. It is a very useful library to perform mathematical and statistical operations in Python. It provides a high-performance multidimensional array object, and tools for working with these arrays. In this part, we will review the essential functions that you need to know for the tutorial on 'TensorFlow.'"
   ]
  },
  {
   "cell_type": "markdown",
   "metadata": {},
   "source": [
    "## Why use NumPy?\n",
    "\n",
    "NumPy is memory efficiency, meaning it can handle the vast amount of data more accessible than any other library. Besides, NumPy is very convenient to work with, especially for matrix multiplication and reshaping. On top of that, NumPy is fast. In fact, TensorFlow and Scikit learn to use NumPy array to compute the matrix multiplication in the back end."
   ]
  },
  {
   "cell_type": "markdown",
   "metadata": {},
   "source": [
    "# Python NumPy Array: \n",
    "\n",
    "A numpy array is a grid of values, all of the same type, and is indexed by a tuple of nonnegative integers. The number of dimensions is the rank of the array; the shape of an array is a tuple of integers giving the size of the array along each dimension.\n",
    "\n",
    "Numpy array is a powerful N-dimensional array object which is in the form of rows and columns. We can initialize NumPy arrays from nested Python lists and access it elements."
   ]
  },
  {
   "cell_type": "markdown",
   "metadata": {
    "ExecuteTime": {
     "end_time": "2021-05-27T18:42:42.296170Z",
     "start_time": "2021-05-27T18:42:42.277617Z"
    }
   },
   "source": [
    "## NumPy Array Types:\n",
    "\n",
    "<div>\n",
    "<img src=\"images/array.png\" width=\"700\"/>\n",
    "</div>"
   ]
  },
  {
   "cell_type": "markdown",
   "metadata": {},
   "source": [
    "## Create a NumPy Array\n",
    "\n",
    "Simplest way to create an array in Numpy is to use Python List"
   ]
  },
  {
   "cell_type": "markdown",
   "metadata": {},
   "source": [
    "### Load in NumPy Library"
   ]
  },
  {
   "cell_type": "code",
   "execution_count": 1,
   "metadata": {
    "ExecuteTime": {
     "end_time": "2021-07-06T15:02:08.826412Z",
     "start_time": "2021-07-06T15:02:08.496336Z"
    }
   },
   "outputs": [],
   "source": [
    "import numpy as np"
   ]
  },
  {
   "cell_type": "code",
   "execution_count": 2,
   "metadata": {
    "ExecuteTime": {
     "end_time": "2021-07-06T15:02:08.857663Z",
     "start_time": "2021-07-06T15:02:08.830319Z"
    }
   },
   "outputs": [
    {
     "data": {
      "text/plain": [
       "[1, 2, 3, 4]"
      ]
     },
     "execution_count": 2,
     "metadata": {},
     "output_type": "execute_result"
    }
   ],
   "source": [
    "my_list = [1,2,3,4]\n",
    "my_list"
   ]
  },
  {
   "cell_type": "markdown",
   "metadata": {},
   "source": [
    "To convert python list to a numpy array by using the object **`np.array`**."
   ]
  },
  {
   "cell_type": "code",
   "execution_count": 3,
   "metadata": {
    "ExecuteTime": {
     "end_time": "2021-07-06T15:02:08.951412Z",
     "start_time": "2021-07-06T15:02:08.863522Z"
    }
   },
   "outputs": [
    {
     "data": {
      "text/plain": [
       "array([1, 2, 3, 4])"
      ]
     },
     "execution_count": 3,
     "metadata": {},
     "output_type": "execute_result"
    }
   ],
   "source": [
    "numpy_array_from_list = np.array(my_list)\n",
    "numpy_array_from_list"
   ]
  },
  {
   "cell_type": "markdown",
   "metadata": {},
   "source": [
    "In practice, there is no need to declare a Python List. The operation can be combined."
   ]
  },
  {
   "cell_type": "code",
   "execution_count": 4,
   "metadata": {
    "ExecuteTime": {
     "end_time": "2021-07-06T15:02:09.059808Z",
     "start_time": "2021-07-06T15:02:08.958248Z"
    }
   },
   "outputs": [
    {
     "data": {
      "text/plain": [
       "array([1, 2, 3, 4])"
      ]
     },
     "execution_count": 4,
     "metadata": {},
     "output_type": "execute_result"
    }
   ],
   "source": [
    "my_list1  = np.array([1,2,3,4])\n",
    "my_list1"
   ]
  },
  {
   "cell_type": "markdown",
   "metadata": {},
   "source": [
    ">**NOTE:** Numpy documentation states use of **`np.ndarray`** to create an array. However, this the recommended method\n",
    "\n",
    "You can also create a numpy array from a Tuple"
   ]
  },
  {
   "cell_type": "code",
   "execution_count": 5,
   "metadata": {
    "ExecuteTime": {
     "end_time": "2021-07-06T15:02:09.154539Z",
     "start_time": "2021-07-06T15:02:09.063716Z"
    }
   },
   "outputs": [
    {
     "data": {
      "text/plain": [
       "array([1, 2, 3, 4])"
      ]
     },
     "execution_count": 5,
     "metadata": {},
     "output_type": "execute_result"
    }
   ],
   "source": [
    "my_list2 = np.array(range(1,5))\n",
    "my_list2"
   ]
  },
  {
   "cell_type": "markdown",
   "metadata": {},
   "source": [
    "## Numpy Array basics "
   ]
  },
  {
   "cell_type": "markdown",
   "metadata": {},
   "source": [
    "We can initialize numpy arrays from nested Python lists, and access elements using square brackets **`[]`**:"
   ]
  },
  {
   "cell_type": "code",
   "execution_count": 6,
   "metadata": {
    "ExecuteTime": {
     "end_time": "2021-07-06T15:02:09.264883Z",
     "start_time": "2021-07-06T15:02:09.160396Z"
    }
   },
   "outputs": [
    {
     "name": "stdout",
     "output_type": "stream",
     "text": [
      "[1 2 3]\n",
      "<class 'numpy.ndarray'>\n"
     ]
    }
   ],
   "source": [
    "a = np.array([1,2,3]) # Create a 1D array\n",
    "print(a) \n",
    "print(type(a))  # Prints \"<class 'numpy.ndarray'>\""
   ]
  },
  {
   "cell_type": "code",
   "execution_count": 7,
   "metadata": {
    "ExecuteTime": {
     "end_time": "2021-07-06T15:02:09.385003Z",
     "start_time": "2021-07-06T15:02:09.273675Z"
    }
   },
   "outputs": [
    {
     "name": "stdout",
     "output_type": "stream",
     "text": [
      "[[9. 8. 7.]\n",
      " [6. 5. 4.]]\n"
     ]
    }
   ],
   "source": [
    "b = np.array([[9.0,8.0,7.0],[6.0,5.0,4.0]]) # Create a 2D array\n",
    "print(b)"
   ]
  },
  {
   "cell_type": "code",
   "execution_count": 8,
   "metadata": {
    "ExecuteTime": {
     "end_time": "2021-07-06T15:02:09.510004Z",
     "start_time": "2021-07-06T15:02:09.391841Z"
    }
   },
   "outputs": [
    {
     "data": {
      "text/plain": [
       "array([[1, 2, 3],\n",
       "       [4, 5, 6],\n",
       "       [7, 8, 9]])"
      ]
     },
     "execution_count": 8,
     "metadata": {},
     "output_type": "execute_result"
    }
   ],
   "source": [
    "my_matrix = [[1,2,3],[4,5,6],[7,8,9]] # Create a 2D array with 3 rows\n",
    "my_matrix\n",
    "np.array(my_matrix)"
   ]
  },
  {
   "cell_type": "code",
   "execution_count": 9,
   "metadata": {
    "ExecuteTime": {
     "end_time": "2021-07-06T15:02:09.619866Z",
     "start_time": "2021-07-06T15:02:09.519767Z"
    }
   },
   "outputs": [
    {
     "data": {
      "text/plain": [
       "1"
      ]
     },
     "execution_count": 9,
     "metadata": {},
     "output_type": "execute_result"
    }
   ],
   "source": [
    "# Get Dimension\n",
    "a.ndim"
   ]
  },
  {
   "cell_type": "code",
   "execution_count": 10,
   "metadata": {
    "ExecuteTime": {
     "end_time": "2021-07-06T15:02:09.743889Z",
     "start_time": "2021-07-06T15:02:09.626702Z"
    }
   },
   "outputs": [
    {
     "data": {
      "text/plain": [
       "(2, 3)"
      ]
     },
     "execution_count": 10,
     "metadata": {},
     "output_type": "execute_result"
    }
   ],
   "source": [
    "# Get Shape\n",
    "b.shape"
   ]
  },
  {
   "cell_type": "code",
   "execution_count": 11,
   "metadata": {
    "ExecuteTime": {
     "end_time": "2021-07-06T15:02:09.989980Z",
     "start_time": "2021-07-06T15:02:09.749259Z"
    }
   },
   "outputs": [
    {
     "data": {
      "text/plain": [
       "4"
      ]
     },
     "execution_count": 11,
     "metadata": {},
     "output_type": "execute_result"
    }
   ],
   "source": [
    "# Get Size\n",
    "a.itemsize"
   ]
  },
  {
   "cell_type": "code",
   "execution_count": 12,
   "metadata": {
    "ExecuteTime": {
     "end_time": "2021-07-06T15:02:10.079824Z",
     "start_time": "2021-07-06T15:02:09.997305Z"
    }
   },
   "outputs": [
    {
     "data": {
      "text/plain": [
       "8"
      ]
     },
     "execution_count": 12,
     "metadata": {},
     "output_type": "execute_result"
    }
   ],
   "source": [
    "# Get Size\n",
    "b.itemsize"
   ]
  },
  {
   "cell_type": "code",
   "execution_count": 13,
   "metadata": {
    "ExecuteTime": {
     "end_time": "2021-07-06T15:02:10.211657Z",
     "start_time": "2021-07-06T15:02:10.089593Z"
    }
   },
   "outputs": [
    {
     "data": {
      "text/plain": [
       "12"
      ]
     },
     "execution_count": 13,
     "metadata": {},
     "output_type": "execute_result"
    }
   ],
   "source": [
    "# Get total size\n",
    "a.nbytes  # a.nbytes = a.size * a.itemsize"
   ]
  },
  {
   "cell_type": "code",
   "execution_count": 14,
   "metadata": {
    "ExecuteTime": {
     "end_time": "2021-07-06T15:02:10.361071Z",
     "start_time": "2021-07-06T15:02:10.216541Z"
    },
    "scrolled": true
   },
   "outputs": [
    {
     "data": {
      "text/plain": [
       "3"
      ]
     },
     "execution_count": 14,
     "metadata": {},
     "output_type": "execute_result"
    }
   ],
   "source": [
    "# Get number of elements\n",
    "a.size"
   ]
  },
  {
   "cell_type": "markdown",
   "metadata": {},
   "source": [
    "You can read all about numpy datatypes in this **[documentation](https://numpy.org/doc/stable/reference/arrays.dtypes.html)**."
   ]
  },
  {
   "cell_type": "markdown",
   "metadata": {},
   "source": [
    "### Random number"
   ]
  },
  {
   "cell_type": "markdown",
   "metadata": {},
   "source": [
    "#### `rand`\n",
    "Random values in a given shape from a uniform distribution over [0, 1)"
   ]
  },
  {
   "cell_type": "code",
   "execution_count": 22,
   "metadata": {
    "ExecuteTime": {
     "end_time": "2021-07-06T15:02:11.310771Z",
     "start_time": "2021-07-06T15:02:11.172105Z"
    }
   },
   "outputs": [
    {
     "data": {
      "text/plain": [
       "array([0.22672978, 0.55283762, 0.10276143])"
      ]
     },
     "execution_count": 22,
     "metadata": {},
     "output_type": "execute_result"
    }
   ],
   "source": [
    "np.random.rand(3)"
   ]
  },
  {
   "cell_type": "code",
   "execution_count": 23,
   "metadata": {
    "ExecuteTime": {
     "end_time": "2021-07-06T15:02:11.435771Z",
     "start_time": "2021-07-06T15:02:11.322495Z"
    }
   },
   "outputs": [
    {
     "data": {
      "text/plain": [
       "array([[0.2559205 , 0.60786967, 0.83770503, 0.45359369, 0.27764243],\n",
       "       [0.38209653, 0.44225798, 0.63158859, 0.81893678, 0.79823164],\n",
       "       [0.69791535, 0.69343173, 0.04763428, 0.1097501 , 0.30920635]])"
      ]
     },
     "execution_count": 23,
     "metadata": {},
     "output_type": "execute_result"
    }
   ],
   "source": [
    "np.random.rand(3,5)"
   ]
  },
  {
   "cell_type": "markdown",
   "metadata": {},
   "source": [
    "#### `randint`\n",
    "Return random integers from **low** (inclusive) to **high** (exclusive)."
   ]
  },
  {
   "cell_type": "code",
   "execution_count": 27,
   "metadata": {
    "ExecuteTime": {
     "end_time": "2021-07-06T15:02:11.903058Z",
     "start_time": "2021-07-06T15:02:11.814680Z"
    }
   },
   "outputs": [
    {
     "data": {
      "text/plain": [
       "85"
      ]
     },
     "execution_count": 27,
     "metadata": {},
     "output_type": "execute_result"
    }
   ],
   "source": [
    "np.random.randint(2,100)"
   ]
  },
  {
   "cell_type": "code",
   "execution_count": 28,
   "metadata": {
    "ExecuteTime": {
     "end_time": "2021-07-06T15:02:12.031477Z",
     "start_time": "2021-07-06T15:02:11.905986Z"
    }
   },
   "outputs": [
    {
     "data": {
      "text/plain": [
       "array([[ 1,  2,  2],\n",
       "       [ 5,  3,  2],\n",
       "       [ 6, -1,  2]])"
      ]
     },
     "execution_count": 28,
     "metadata": {},
     "output_type": "execute_result"
    }
   ],
   "source": [
    "# Random Integer values\n",
    "np.random.randint(-4,8, size=(3,3))"
   ]
  },
  {
   "cell_type": "markdown",
   "metadata": {},
   "source": [
    "### Array Attributes and Methods\n"
   ]
  },
  {
   "cell_type": "code",
   "execution_count": 32,
   "metadata": {
    "ExecuteTime": {
     "end_time": "2021-07-06T15:02:12.431373Z",
     "start_time": "2021-07-06T15:02:12.317118Z"
    },
    "scrolled": true
   },
   "outputs": [
    {
     "data": {
      "text/plain": [
       "array([5, 9, 9, 2, 2, 3, 6, 1])"
      ]
     },
     "execution_count": 32,
     "metadata": {},
     "output_type": "execute_result"
    }
   ],
   "source": [
    "rana = np.random.randint(1,10,8)\n",
    "rana"
   ]
  },
  {
   "cell_type": "markdown",
   "metadata": {},
   "source": [
    "#### `max`, `min`, `argmax`, `argmin`"
   ]
  },
  {
   "cell_type": "code",
   "execution_count": 33,
   "metadata": {
    "ExecuteTime": {
     "end_time": "2021-07-06T15:02:12.556370Z",
     "start_time": "2021-07-06T15:02:12.439187Z"
    }
   },
   "outputs": [
    {
     "data": {
      "text/plain": [
       "array([5, 9, 9, 2, 2, 3, 6, 1])"
      ]
     },
     "execution_count": 33,
     "metadata": {},
     "output_type": "execute_result"
    }
   ],
   "source": [
    "rana"
   ]
  },
  {
   "cell_type": "code",
   "execution_count": 34,
   "metadata": {
    "ExecuteTime": {
     "end_time": "2021-07-06T15:02:12.681371Z",
     "start_time": "2021-07-06T15:02:12.562233Z"
    }
   },
   "outputs": [
    {
     "data": {
      "text/plain": [
       "9"
      ]
     },
     "execution_count": 34,
     "metadata": {},
     "output_type": "execute_result"
    }
   ],
   "source": [
    "rana.max()"
   ]
  },
  {
   "cell_type": "code",
   "execution_count": 35,
   "metadata": {
    "ExecuteTime": {
     "end_time": "2021-07-06T15:02:12.821996Z",
     "start_time": "2021-07-06T15:02:12.686256Z"
    }
   },
   "outputs": [
    {
     "data": {
      "text/plain": [
       "1"
      ]
     },
     "execution_count": 35,
     "metadata": {},
     "output_type": "execute_result"
    }
   ],
   "source": [
    "rana.argmax()"
   ]
  },
  {
   "cell_type": "code",
   "execution_count": 36,
   "metadata": {
    "ExecuteTime": {
     "end_time": "2021-07-06T15:02:12.915256Z",
     "start_time": "2021-07-06T15:02:12.826879Z"
    }
   },
   "outputs": [
    {
     "data": {
      "text/plain": [
       "1"
      ]
     },
     "execution_count": 36,
     "metadata": {},
     "output_type": "execute_result"
    }
   ],
   "source": [
    "rana.min()"
   ]
  },
  {
   "cell_type": "code",
   "execution_count": 37,
   "metadata": {
    "ExecuteTime": {
     "end_time": "2021-07-06T15:02:13.024631Z",
     "start_time": "2021-07-06T15:02:12.920142Z"
    }
   },
   "outputs": [
    {
     "data": {
      "text/plain": [
       "7"
      ]
     },
     "execution_count": 37,
     "metadata": {},
     "output_type": "execute_result"
    }
   ],
   "source": [
    "rana.argmin()"
   ]
  },
  {
   "cell_type": "markdown",
   "metadata": {},
   "source": [
    "### Numpy also provides many functions to create arrays:"
   ]
  },
  {
   "cell_type": "code",
   "execution_count": 38,
   "metadata": {
    "ExecuteTime": {
     "end_time": "2021-07-06T15:02:13.101293Z",
     "start_time": "2021-07-06T15:02:13.027562Z"
    }
   },
   "outputs": [
    {
     "data": {
      "text/plain": [
       "array([0., 0., 0., 0., 0.])"
      ]
     },
     "execution_count": 38,
     "metadata": {},
     "output_type": "execute_result"
    }
   ],
   "source": [
    "# Generating Zeros\n",
    "np.zeros(5)"
   ]
  },
  {
   "cell_type": "code",
   "execution_count": 39,
   "metadata": {
    "ExecuteTime": {
     "end_time": "2021-07-06T15:02:13.210179Z",
     "start_time": "2021-07-06T15:02:13.106175Z"
    },
    "scrolled": true
   },
   "outputs": [
    {
     "data": {
      "text/plain": [
       "array([[0., 0., 0.],\n",
       "       [0., 0., 0.]])"
      ]
     },
     "execution_count": 39,
     "metadata": {},
     "output_type": "execute_result"
    }
   ],
   "source": [
    "# All 0s matrix\n",
    "np.zeros((2,3))  # pass a tupple"
   ]
  },
  {
   "cell_type": "code",
   "execution_count": 40,
   "metadata": {
    "ExecuteTime": {
     "end_time": "2021-07-06T15:02:13.322481Z",
     "start_time": "2021-07-06T15:02:13.217015Z"
    }
   },
   "outputs": [
    {
     "data": {
      "text/plain": [
       "array([1., 1., 1.])"
      ]
     },
     "execution_count": 40,
     "metadata": {},
     "output_type": "execute_result"
    }
   ],
   "source": [
    "# Generating Zeros\n",
    "np.ones(3)       # one function"
   ]
  },
  {
   "cell_type": "code",
   "execution_count": 1,
   "metadata": {
    "ExecuteTime": {
     "end_time": "2021-07-06T15:02:13.475314Z",
     "start_time": "2021-07-06T15:02:13.329319Z"
    },
    "execution": {
     "iopub.execute_input": "2023-11-16T23:48:38.997395Z",
     "iopub.status.busy": "2023-11-16T23:48:38.995270Z",
     "iopub.status.idle": "2023-11-16T23:48:39.230063Z",
     "shell.execute_reply": "2023-11-16T23:48:39.228859Z",
     "shell.execute_reply.started": "2023-11-16T23:48:38.997331Z"
    },
    "tags": []
   },
   "outputs": [
    {
     "ename": "NameError",
     "evalue": "name 'np' is not defined",
     "output_type": "error",
     "traceback": [
      "\u001b[0;31m---------------------------------------------------------------------------\u001b[0m",
      "\u001b[0;31mNameError\u001b[0m                                 Traceback (most recent call last)",
      "Cell \u001b[0;32mIn[1], line 1\u001b[0m\n\u001b[0;32m----> 1\u001b[0m \u001b[43mnp\u001b[49m\u001b[38;5;241m.\u001b[39mones(\u001b[38;5;241m3\u001b[39m)\u001b[38;5;241m*\u001b[39m\u001b[38;5;241m5\u001b[39m\n",
      "\u001b[0;31mNameError\u001b[0m: name 'np' is not defined"
     ]
    }
   ],
   "source": [
    "\n",
    "np.ones(3)*5"
   ]
  },
  {
   "cell_type": "code",
   "execution_count": 42,
   "metadata": {
    "ExecuteTime": {
     "end_time": "2021-07-06T15:02:13.569061Z",
     "start_time": "2021-07-06T15:02:13.482151Z"
    }
   },
   "outputs": [
    {
     "data": {
      "text/plain": [
       "array([[1., 1., 1.],\n",
       "       [1., 1., 1.],\n",
       "       [1., 1., 1.]])"
      ]
     },
     "execution_count": 42,
     "metadata": {},
     "output_type": "execute_result"
    }
   ],
   "source": [
    "np.ones((3,3))"
   ]
  },
  {
   "cell_type": "code",
   "execution_count": 47,
   "metadata": {
    "ExecuteTime": {
     "end_time": "2021-07-06T15:02:14.068085Z",
     "start_time": "2021-07-06T15:02:13.978241Z"
    }
   },
   "outputs": [
    {
     "name": "stdout",
     "output_type": "stream",
     "text": [
      "[[1 2 3]\n",
      " [1 2 3]\n",
      " [1 2 3]]\n"
     ]
    }
   ],
   "source": [
    "# Repeat an array\n",
    "arr = np.array([[1,2,3]])\n",
    "r1 = np.repeat(arr,3, axis=0)\n",
    "print(r1)"
   ]
  },
  {
   "cell_type": "markdown",
   "metadata": {
    "tags": []
   },
   "source": [
    "# NumPy Basics\n",
    "\n",
    "Below is a compilation of functions, and NumPy uses that will be helpful when using numpy further. You can also check out the `NumPy Cheat Sheet Data Analysis in Python.pdf` in the Lessons folder. "
   ]
  },
  {
   "cell_type": "markdown",
   "metadata": {},
   "source": [
    "### NumPy Basics\n",
    "\n",
    "| Operator | Description |\n",
    "|:---- |:---- |\n",
    "| **`np.array([1,2,3])`**           | **1d array** | \n",
    "| **`np.array([(1,2,3),(4,5,6)])`** | **2d array** | \n",
    "| **`np.arange(start,stop,step)`**  | **range array**  | "
   ]
  },
  {
   "cell_type": "markdown",
   "metadata": {},
   "source": [
    "### Placeholders\n",
    "\n",
    "| Operator | Description |\n",
    "|:---- |:---- |\n",
    "| **`np.linspace(0,2,9)`**      | **Add evenly spaced values btw interval to array of length** |\n",
    "| **`np.zeros((1,2))`**         | **Create and array filled with zeros** |\n",
    "| **`np.ones((1,2))`**          | **Creates an array filled with ones** |\n",
    "| **`np.random.random((5,5))`** | **Creates random array** |\n",
    "| **`np.empty((2,2))`**         | **Creates an empty array** |"
   ]
  },
  {
   "cell_type": "markdown",
   "metadata": {},
   "source": [
    "### Array\n",
    "\n",
    "| Operator | Description |\n",
    "|:---- |:---- |\n",
    "| **`array.shape`**        | **Dimensions (Rows,Columns)** |\n",
    "| **`len(array)`**         | **Length of Array** |\n",
    "| **`array.ndim`**         | **Number of Array Dimensions** |\n",
    "| **`array.dtype`**        | **Data Type** |\n",
    "| **`array.astype(type)`** | **Converts to Data Type** |\n",
    "| **`type(array)`**        | **Type of Array** |"
   ]
  },
  {
   "cell_type": "markdown",
   "metadata": {},
   "source": [
    "### Copying/Sorting\n",
    "\n",
    "| Operator | Description |\n",
    "|:---- |:---- |\n",
    "| **`np.copy(array)`**       | **Creates copy of array** |\n",
    "| **`other = array.copy()`** | **Creates deep copy of array** |\n",
    "| **`array.sort()`**         | **Sorts an array** |\n",
    "| **`array.sort(axis=0)`**   | **Sorts axis of array** |"
   ]
  },
  {
   "cell_type": "markdown",
   "metadata": {},
   "source": [
    "## Array Manipulation"
   ]
  },
  {
   "cell_type": "markdown",
   "metadata": {},
   "source": [
    "### Adding or Removing Elements\n",
    "\n",
    "| Operator | Description |\n",
    "|:---- |:---- |\n",
    "| **`np.append(a,b)`**               | **Append items to array** |\n",
    "| **`np.insert(array, 1, 2, axis)`** | **Insert items into array at axis 0 or 1** |\n",
    "| **`np.resize((2,4))`**             | **Resize array to shape(2,4)** |\n",
    "| **`np.delete(array,1,axis)`**      | **Deletes items from array** |"
   ]
  },
  {
   "cell_type": "markdown",
   "metadata": {},
   "source": [
    "### Combining Arrays\n",
    "\n",
    "| Operator | Description |\n",
    "|:---- |:---- |\n",
    "| **`np.concatenate((a,b),axis=0)`** | **Split an array into multiple sub-arrays.** |\n",
    "| **`np.vstack((a,b))`**             | **Split an array in sub-arrays of (nearly) identical size** |\n",
    "| **`np.hstack((a,b))`**             | **Split the array horizontally at 3rd index** |"
   ]
  },
  {
   "cell_type": "markdown",
   "metadata": {},
   "source": [
    "### More\n",
    "\n",
    "| Operator | Description |\n",
    "|:---- |:---- |\n",
    "| **`other = ndarray.flatten()`**       | **Flattens a 2d array to 1d** |\n",
    "| **`array = np.transpose(other)`**     | **Transpose array** |\n",
    "| **`array.T`**                         | **Transpose array** |\n",
    "| **`inverse = np.linalg.inv(matrix)`** | **Inverse of a given matrix** |"
   ]
  },
  {
   "cell_type": "markdown",
   "metadata": {},
   "source": [
    "## Slicing and Subsetting\n",
    "\n",
    "| Operator | Description |\n",
    "|:---- |:---- |\n",
    "| **`array[i]`**        | **1d array at index i** |\n",
    "| **`array[i,j]`**      | **2d array at index[i][j]** |\n",
    "| **`array[i<4]`**      | **Boolean Indexing, see Tricks** |\n",
    "| **`array[0:3]`**      | **Select items of index 0, 1 and 2** |\n",
    "| **`array[0:2,1]`**    | **Select items of rows 0 and 1 at column 1** |\n",
    "| **`array[:1]`**       | **Select items of row 0 (equals array[0:1, :])** |\n",
    "| **`array[1:2, :]`**   | **Select items of row 1** |\n",
    "| **`[comment]: <> (`** | **array[1,...]** |\n",
    "| **`array[ : :-1]`**   | **Reverses array** |"
   ]
  },
  {
   "cell_type": "markdown",
   "metadata": {},
   "source": [
    "## Mathematics"
   ]
  },
  {
   "cell_type": "markdown",
   "metadata": {},
   "source": [
    "### Operations\n",
    "\n",
    "| Operator | Description |\n",
    "|:---- |:---- |\n",
    "| **`np.add(x,y)`**        | **Addition** |\n",
    "| **`np.substract(x,y)`**  | **Subtraction** |\n",
    "| **`np.divide(x,y)`**     | **Division** |\n",
    "| **`np.multiply(x,y)`**   | **Multiplication** |\n",
    "| **`np.sqrt(x)`**         | **Square Root** |\n",
    "| **`np.sin(x)`**          | **Element-wise sine** |\n",
    "| **`np.cos(x)`**          | **Element-wise cosine** |\n",
    "| **`np.log(x)`**          | **Element-wise natural log** |\n",
    "| **`np.dot(x,y)`**        | **Dot product** |\n",
    "| **`np.roots([1,0,-4])`** | **Roots of a given polynomial coefficients** |"
   ]
  },
  {
   "cell_type": "markdown",
   "metadata": {},
   "source": [
    "### Comparison\n",
    "\n",
    "| Operator | Description |\n",
    "|:----: |:---- |\n",
    "| **`==`** | **Equal** |\n",
    "| **`!=`** | **Not equal** |\n",
    "| **`<`**  | **Smaller than** |\n",
    "| **`>`**  | **Greater than** |\n",
    "| **`<=`** | **Smaller than or equal** |\n",
    "| **`>=`** | **Greater than or equal** |\n",
    "| **`np.array_equal(x,y)`** | **Array-wise comparison** |"
   ]
  },
  {
   "cell_type": "markdown",
   "metadata": {},
   "source": [
    "## Basic Statistics\n",
    "\n",
    "| Operator | Description |\n",
    "|:---- |:---- |\n",
    "| **`np.mean(array)`**   | **Mean** |\n",
    "| **`np.median(array)`** | **Median** |\n",
    "| **`array.corrcoef()`** | **Correlation Coefficient** |\n",
    "| **`np.std(array)`**    | **Standard Deviation** |"
   ]
  },
  {
   "cell_type": "markdown",
   "metadata": {},
   "source": [
    "### More\n",
    "\n",
    "| Operator | Description |\n",
    "|:---- |:---- |\n",
    "| **`array.sum()`**          | **Array-wise sum** |\n",
    "| **`array.min()`**          | **Array-wise minimum value** |\n",
    "| **`array.max(axis=0)`**    | **Maximum value of specified axis** |\n",
    "| **`array.cumsum(axis=0)`** | **Cumulative sum of specified axis** |"
   ]
  },
  {
   "cell_type": "code",
   "execution_count": null,
   "metadata": {},
   "outputs": [],
   "source": []
  }
 ],
 "metadata": {
  "hide_input": false,
  "kernelspec": {
   "display_name": "Python 3 (ipykernel)",
   "language": "python",
   "name": "python3"
  },
  "language_info": {
   "codemirror_mode": {
    "name": "ipython",
    "version": 3
   },
   "file_extension": ".py",
   "mimetype": "text/x-python",
   "name": "python",
   "nbconvert_exporter": "python",
   "pygments_lexer": "ipython3",
   "version": "3.10.12"
  },
  "toc": {
   "base_numbering": 1,
   "nav_menu": {},
   "number_sections": true,
   "sideBar": true,
   "skip_h1_title": false,
   "title_cell": "Table of Contents",
   "title_sidebar": "Contents",
   "toc_cell": false,
   "toc_position": {
    "height": "calc(100% - 180px)",
    "left": "10px",
    "top": "150px",
    "width": "208px"
   },
   "toc_section_display": true,
   "toc_window_display": false
  },
  "varInspector": {
   "cols": {
    "lenName": 16,
    "lenType": 16,
    "lenVar": 40
   },
   "kernels_config": {
    "python": {
     "delete_cmd_postfix": "",
     "delete_cmd_prefix": "del ",
     "library": "var_list.py",
     "varRefreshCmd": "print(var_dic_list())"
    },
    "r": {
     "delete_cmd_postfix": ") ",
     "delete_cmd_prefix": "rm(",
     "library": "var_list.r",
     "varRefreshCmd": "cat(var_dic_list()) "
    }
   },
   "types_to_exclude": [
    "module",
    "function",
    "builtin_function_or_method",
    "instance",
    "_Feature"
   ],
   "window_display": false
  }
 },
 "nbformat": 4,
 "nbformat_minor": 4
}
