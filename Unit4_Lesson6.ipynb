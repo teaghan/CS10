{
 "cells": [
  {
   "cell_type": "markdown",
   "metadata": {},
   "source": [
    "> *The creation of the lessons in this unit relied heavily on the existing lessons created by Mrs. FitzZaland as well as the [lecture series](https://github.com/milaan9/04_Python_Functions) produced by Dr. Milaan Parmar. Additionally, these lessons have largely been modelled off of the book [Think Python](https://open.umn.edu/opentextbooks/textbooks/43) by Allen Downey.*"
   ]
  },
  {
   "cell_type": "markdown",
   "metadata": {},
   "source": [
    "# Function Argument and Parameter\n",
    "\n",
    "The argument is a value, a variable, or an object that we pass to a function or method call. \n",
    "\n",
    "There can be two types of data passed in the function.\n",
    "\n",
    "* The First type of data is the data passed in the function call. This data is called **arguments**.\n",
    "\n",
    "* The second type of data is the data received in the function definition. This data is called **parameters**.\n",
    "\n",
    "    - Arguments can be literals, variables and expressions. \n",
    "    - Parameters must be variable to hold incoming values.\n",
    "\n",
    "Alternatively, arguments can be called as **actual parameters** or **actual arguments** and parameters can be called as **formal parameters** or **formal arguments**."
   ]
  },
  {
   "cell_type": "markdown",
   "metadata": {},
   "source": [
    "# Python Function Arguments\n",
    "\n",
    "In Python, you can define a function that takes variable number of arguments. In this article, you will learn to define such functions using default, keyword and arbitrary arguments.\n",
    "\n",
    "In Python, there are 2 types of arguments allowed.\n",
    "\n",
    "1. Positional Arguments (Basic)\n",
    "2. Variable Function Arguments\n"
   ]
  },
  {
   "cell_type": "markdown",
   "metadata": {},
   "source": [
    "## Positional Arguments (Basic)\n",
    "\n",
    "In the previous lesson, we learned about defining a function and calling it. Otherwise, the function call will result in an error. For example:"
   ]
  },
  {
   "cell_type": "code",
   "execution_count": 1,
   "metadata": {
    "ExecuteTime": {
     "end_time": "2021-10-08T17:53:46.249389Z",
     "start_time": "2021-10-08T17:53:46.233763Z"
    },
    "execution": {
     "iopub.execute_input": "2023-10-29T21:37:02.049864Z",
     "iopub.status.busy": "2023-10-29T21:37:02.048367Z",
     "iopub.status.idle": "2023-10-29T21:37:02.055758Z",
     "shell.execute_reply": "2023-10-29T21:37:02.054726Z",
     "shell.execute_reply.started": "2023-10-29T21:37:02.049808Z"
    },
    "tags": []
   },
   "outputs": [
    {
     "name": "stdout",
     "output_type": "stream",
     "text": [
      "Hello Arthur, Good morning!\n"
     ]
    }
   ],
   "source": [
    "# Example 1:\n",
    "\n",
    "def greet(name, msg):\n",
    "    \"\"\"This function greets to the person with the provided message\"\"\"\n",
    "    print(\"Hello\", name + ', ' + msg)\n",
    "\n",
    "greet(\"Arthur\", \"Good morning!\")"
   ]
  },
  {
   "cell_type": "markdown",
   "metadata": {},
   "source": [
    "**Explanation:**\n",
    "\n",
    "Here, the function **`greet()`** has two parameters.\n",
    "\n",
    "Since we have called this function with two arguments, it runs smoothly and we do not get any error.\n",
    "\n",
    "If we call it with a different number of arguments, the interpreter will show an error message. Below is a call to this function with one and no arguments along with their respective error messages.\n",
    "\n",
    "```python\n",
    "greet(\"Arthur\")    # only one argument\n",
    "```\n",
    "\n",
    "Which produces the error:\n",
    "\n",
    "```python\n",
    "TypeError: greet() missing 1 required positional argument: 'msg'\n",
    "```"
   ]
  },
  {
   "cell_type": "markdown",
   "metadata": {},
   "source": [
    "## Variable Function Arguments\n",
    "\n",
    "Up until now, functions had a fixed number of arguments. In Python, there are other ways to define a function that can take variable number of arguments.\n",
    "\n",
    "Three different forms of this type are described below:\n",
    "\n",
    "1. Default Arguments\n",
    "2. Keyword Arguments\n",
    "3. Arbitrary/Variable-length Arguments\n"
   ]
  },
  {
   "cell_type": "markdown",
   "metadata": {},
   "source": [
    "### Python Default Arguments\n",
    "\n",
    "Default arguments are arguments that take the default value during the function call. If we do not pass any argument to the function, then the default argument will take place. We can assign default values using the **`=`** assignment operator. For example:"
   ]
  },
  {
   "cell_type": "code",
   "execution_count": 8,
   "metadata": {
    "ExecuteTime": {
     "end_time": "2021-10-08T17:54:03.695692Z",
     "start_time": "2021-10-08T17:54:03.679093Z"
    }
   },
   "outputs": [
    {
     "name": "stdout",
     "output_type": "stream",
     "text": [
      "Hello Alan, Good morning!\n",
      "Hello Bruce, How do you do?\n",
      "Hello Carson, Good night!\n"
     ]
    }
   ],
   "source": [
    "# Example 1:\n",
    "\n",
    "def greet(name, msg=\"Good morning!\"):  # two arguments: `name` is fixed arg and 'msg' is variable arg\n",
    "\n",
    "    print(\"Hello\", name + ', ' + msg)\n",
    "\n",
    "\n",
    "greet(\"Alan\")\n",
    "greet(\"Bruce\", \"How do you do?\")\n",
    "greet(\"Carson\",\"Good night!\")"
   ]
  },
  {
   "cell_type": "markdown",
   "metadata": {},
   "source": [
    "**Explanation:**\n",
    "\n",
    "In this function, the parameter **`name`** does not have a default value and is required (mandatory) during a call.\n",
    "\n",
    "On the other hand, the parameter **`msg`** has a default value of **`\"Good morning!\"`**. So, it is optional during a call. If a value is provided, it will overwrite the default value.\n",
    "\n",
    "Any number of arguments in a function can have a default value. But once we have a default argument, all the arguments to its right must also have default values.\n",
    "\n",
    "This means to say, non-default arguments cannot follow default arguments. For example, if we had defined the function header above as:\n",
    "\n",
    "```python\n",
    ">>> def greet(msg = \"Good morning!\", name):\n",
    "```\n",
    "\n",
    "We would get an error as:\n",
    "```python\n",
    "SyntaxError: non-default argument follows default argument\n",
    "```"
   ]
  },
  {
   "cell_type": "markdown",
   "metadata": {},
   "source": [
    "### Python Keyword Arguments\n",
    "\n",
    "Keyword arguments are related to the function calls. A keyword argument is an argument value, passed to function preceded by the variable name and an equals sign.\n",
    "\n",
    "This allows you to skip arguments or place them out of order because the Python interpreter is able to use the keywords provided to match the values with parameters."
   ]
  },
  {
   "cell_type": "code",
   "execution_count": 11,
   "metadata": {
    "ExecuteTime": {
     "end_time": "2021-10-08T17:54:06.818254Z",
     "start_time": "2021-10-08T17:54:06.799703Z"
    },
    "scrolled": true
   },
   "outputs": [
    {
     "name": "stdout",
     "output_type": "stream",
     "text": [
      "Hello Eric, How do you do?\n",
      "Hello Eric, How do you do?\n",
      "Hello Eric, How do you do?\n",
      "Hello Eric, How do you do?\n"
     ]
    }
   ],
   "source": [
    "# Example 1:\n",
    "\n",
    "greet(\"Eric\", \"How do you do?\")\n",
    "\n",
    "# 2 keyword arguments\n",
    "greet(name = \"Eric\",msg = \"How do you do?\")\n",
    "\n",
    "# 2 keyword arguments (out of order)\n",
    "greet(msg = \"How do you do?\",name = \"Eric\") \n",
    "\n",
    "# 1 positional, 1 keyword argument\n",
    "greet(\"Eric\", msg = \"How do you do?\")           "
   ]
  },
  {
   "cell_type": "markdown",
   "metadata": {},
   "source": [
    "As we can see, we can mix positional arguments with keyword arguments during a function call. But we must keep in mind that keyword arguments must follow positional arguments."
   ]
  },
  {
   "cell_type": "markdown",
   "metadata": {},
   "source": [
    "### Python Arbitrary/Variable-length Arguments\n",
    "\n",
    "Sometimes, we do not know in advance the number of arguments that will be passed into a function. Python allows us to handle this kind of situation through function calls with an arbitrary number of arguments.\n",
    "\n",
    "We can pass any number of arguments to this function. Internally all these values are represented in the form of a **tuple**.\n",
    "\n",
    "In the function definition, we use an asterisk **`*`** before the parameter name to denote this kind of argument. For example:"
   ]
  },
  {
   "cell_type": "code",
   "execution_count": 20,
   "metadata": {
    "ExecuteTime": {
     "end_time": "2021-10-08T17:54:10.415429Z",
     "start_time": "2021-10-08T17:54:10.407618Z"
    },
    "scrolled": true
   },
   "outputs": [
    {
     "name": "stdout",
     "output_type": "stream",
     "text": [
      "Hello Gary\n",
      "Hello Hank\n",
      "Hello Ivan\n",
      "Hello John\n"
     ]
    }
   ],
   "source": [
    "# Example 1: \n",
    "\n",
    "def greet(*names):\n",
    "    \"\"\"This function greets all the person in the names tuple.\"\"\"\n",
    "    # names is a tuple with arguments\n",
    "    for name in names:\n",
    "        print(\"Hello\", name)\n",
    "\n",
    "greet(\"Gary\", \"Hank\", \"Ivan\", \"John\")"
   ]
  },
  {
   "cell_type": "markdown",
   "metadata": {},
   "source": [
    "Here, we have called the function with multiple arguments. These arguments get wrapped up into a tuple before being passed into the function. Inside the function, we use a **`for`** loop to retrieve all the arguments back."
   ]
  },
  {
   "cell_type": "markdown",
   "metadata": {},
   "source": [
    "# Python Modules\n",
    "\n",
    "Now you will learn to create and import custom modules in Python. Also, you will find different techniques to import and use custom and built-in modules in Python."
   ]
  },
  {
   "cell_type": "markdown",
   "metadata": {},
   "source": [
    "## What are modules in Python?\n",
    "\n",
    "Module containing a set of codes or a set of functions which can be included to an application. Modules refer to the Python file, which contains Python code like Python statements, classes, functions, variables, etc. A file with Python code is defined with extension **`.py`**\n",
    "\n",
    "For example: In **`main.py`**, where the **`main`** is the module name.\n",
    "\n",
    "In Python, large code is divided into small modules. The benefit of modules is, it provides a way to share reusable functions."
   ]
  },
  {
   "cell_type": "markdown",
   "metadata": {},
   "source": [
    "## Advantage\n",
    "\n",
    "* **Reusability**: Module can be used in some other python code. Hence it provides the facility of code reusability.\n",
    "* **Categorization**: Similar type of attributes can be placed in one module."
   ]
  },
  {
   "cell_type": "markdown",
   "metadata": {
    "execution": {
     "iopub.execute_input": "2023-10-29T21:41:25.649837Z",
     "iopub.status.busy": "2023-10-29T21:41:25.649357Z",
     "iopub.status.idle": "2023-10-29T21:41:25.658502Z",
     "shell.execute_reply": "2023-10-29T21:41:25.657190Z",
     "shell.execute_reply.started": "2023-10-29T21:41:25.649802Z"
    },
    "tags": []
   },
   "source": [
    "## Creating a module in Python\n",
    "\n",
    "A file containing Python code, for example: **`example.py`**, is called a module, and its module name would be **`example`**.\n",
    "\n",
    "We use modules to break down large programs into small manageable and organized files. Furthermore, modules provide reusability of code.\n",
    "\n",
    "We can define our most used functions in a module and import it, instead of copying their definitions into different programs.\n",
    "\n",
    "The module contains Python code like classes, functions, methods, but it also has variables. A variable can list, tuple, dict, etc.\n",
    "\n",
    "Let us create a module. \n",
    "\n",
    "**1. Create a new python script called `example.py` and type the following.**\n",
    "\n",
    "```python\n",
    "# Python Module example\n",
    "\n",
    "def add(a, b):\n",
    "    \"\"\"This program adds two numbers and return the result\"\"\"\n",
    "    result = a + b\n",
    "    return result\n",
    "```\n",
    "\n",
    "Here, we have defined a function **`add()`** inside a module named **`example`**. \n",
    "\n",
    "The function takes in two numbers and returns their sum."
   ]
  },
  {
   "cell_type": "markdown",
   "metadata": {},
   "source": [
    "## How to import modules in Python?\n",
    "\n",
    "We can import the definitions inside a module to another module or the interactive interpreter in Python.\n",
    "\n",
    "We use the **`import`** keyword to do this. To import our previously defined module example, we type the following in the Python prompt."
   ]
  },
  {
   "cell_type": "markdown",
   "metadata": {
    "execution": {
     "iopub.execute_input": "2023-10-29T21:43:16.018497Z",
     "iopub.status.busy": "2023-10-29T21:43:16.018126Z",
     "iopub.status.idle": "2023-10-29T21:43:16.024668Z",
     "shell.execute_reply": "2023-10-29T21:43:16.023762Z",
     "shell.execute_reply.started": "2023-10-29T21:43:16.018469Z"
    },
    "tags": []
   },
   "source": [
    "```python\n",
    "import example\n",
    "```\n",
    "This does not import the names of the functions defined in **`example`** directly in the current symbol table. It only imports the module name **`example`** there.\n",
    "\n",
    "Using the module name we can access the function using the dot **`.`** operator. \n",
    "\n",
    "For example:"
   ]
  },
  {
   "cell_type": "code",
   "execution_count": 5,
   "metadata": {
    "execution": {
     "iopub.execute_input": "2023-10-29T21:44:25.628679Z",
     "iopub.status.busy": "2023-10-29T21:44:25.628277Z",
     "iopub.status.idle": "2023-10-29T21:44:25.688997Z",
     "shell.execute_reply": "2023-10-29T21:44:25.688154Z",
     "shell.execute_reply.started": "2023-10-29T21:44:25.628650Z"
    },
    "tags": []
   },
   "outputs": [
    {
     "data": {
      "text/plain": [
       "9.6"
      ]
     },
     "execution_count": 5,
     "metadata": {},
     "output_type": "execute_result"
    }
   ],
   "source": [
    "import example\n",
    "example.add(3,6.6)"
   ]
  },
  {
   "cell_type": "markdown",
   "metadata": {},
   "source": [
    "**2. Test your module by creating a notebook, importing the module, and calling the `add` function.**"
   ]
  },
  {
   "cell_type": "markdown",
   "metadata": {},
   "source": [
    "## Standard Modules\n",
    "\n",
    "Python has tons of standard modules. You can check out the full list of **[Python standard modules](https://docs.python.org/3/py-modindex.html)** and their use cases. These files are in the Lib directory inside the location where you installed Python.\n",
    "\n",
    "Standard modules can be imported the same way as we import our user-defined modules.\n",
    "\n",
    "There are various ways to import modules. They are listed below:"
   ]
  },
  {
   "cell_type": "code",
   "execution_count": 9,
   "metadata": {
    "execution": {
     "iopub.execute_input": "2023-10-29T21:49:09.011291Z",
     "iopub.status.busy": "2023-10-29T21:49:09.010925Z",
     "iopub.status.idle": "2023-10-29T21:49:09.015856Z",
     "shell.execute_reply": "2023-10-29T21:49:09.015156Z",
     "shell.execute_reply.started": "2023-10-29T21:49:09.011263Z"
    },
    "tags": []
   },
   "outputs": [
    {
     "name": "stdout",
     "output_type": "stream",
     "text": [
      "The value of pi is 3.141592653589793\n"
     ]
    }
   ],
   "source": [
    "# Example 1: \n",
    "\n",
    "# import statement example to import standard module math\n",
    "import math\n",
    "\n",
    "# Call the pi attribute of math\n",
    "print(\"The value of pi is\", math.pi)"
   ]
  },
  {
   "cell_type": "code",
   "execution_count": 12,
   "metadata": {
    "execution": {
     "iopub.execute_input": "2023-10-29T21:49:52.848672Z",
     "iopub.status.busy": "2023-10-29T21:49:52.848280Z",
     "iopub.status.idle": "2023-10-29T21:49:52.854318Z",
     "shell.execute_reply": "2023-10-29T21:49:52.853290Z",
     "shell.execute_reply.started": "2023-10-29T21:49:52.848626Z"
    },
    "tags": []
   },
   "outputs": [
    {
     "name": "stdout",
     "output_type": "stream",
     "text": [
      "The value of pi is 3.141592653589793\n"
     ]
    }
   ],
   "source": [
    "from math import pi\n",
    "\n",
    "# Example 1: \n",
    "\n",
    "# import pi directly from the module math\n",
    "from math import pi\n",
    "\n",
    "# Call the pi attribute of math\n",
    "print(\"The value of pi is\", pi)"
   ]
  },
  {
   "cell_type": "markdown",
   "metadata": {
    "execution": {
     "iopub.execute_input": "2023-10-29T21:50:30.241189Z",
     "iopub.status.busy": "2023-10-29T21:50:30.240838Z",
     "iopub.status.idle": "2023-10-29T21:50:30.247256Z",
     "shell.execute_reply": "2023-10-29T21:50:30.246228Z",
     "shell.execute_reply.started": "2023-10-29T21:50:30.241162Z"
    },
    "tags": []
   },
   "source": [
    "### `import` with renaming\n",
    "\n",
    "We can import a module by renaming it as follows:"
   ]
  },
  {
   "cell_type": "code",
   "execution_count": 15,
   "metadata": {
    "execution": {
     "iopub.execute_input": "2023-10-29T21:50:50.399757Z",
     "iopub.status.busy": "2023-10-29T21:50:50.399359Z",
     "iopub.status.idle": "2023-10-29T21:50:50.404546Z",
     "shell.execute_reply": "2023-10-29T21:50:50.403827Z",
     "shell.execute_reply.started": "2023-10-29T21:50:50.399728Z"
    },
    "tags": []
   },
   "outputs": [
    {
     "name": "stdout",
     "output_type": "stream",
     "text": [
      "The value of pi is 3.141592653589793\n"
     ]
    }
   ],
   "source": [
    "# Example 3: \n",
    "\n",
    "# import module by renaming it\n",
    "import math as m\n",
    "print(\"The value of pi is\", m.pi)"
   ]
  },
  {
   "cell_type": "markdown",
   "metadata": {},
   "source": [
    "## Incremental Development\n",
    "\n",
    "As you write larger functions, you might find yourself spending more time debugging.\n",
    "\n",
    "To deal with increasingly complex programs, you might want to try a process called **incremental\n",
    "development**. \n",
    "\n",
    "The goal of incremental development is to avoid long debugging sessions by\n",
    "adding and testing only a small amount of ode at a time.\n",
    "\n",
    "\n",
    ">For example, suppose you want to find the distance between two points, given by the coordinates $(x_1, y_1)$ and $(x_2, y_2)$.\n",
    "\n",
    "> By the Pythagorean theorem, the distance is: $distance = \\sqrt{(x_2− x_1)^2 + (y_2 - y_1)^2}$\n",
    "\n",
    "> The first step is to consider what a distance function should look like in Python – what are the inputs (parameters) and what is the output (return value)?\n",
    "\n",
    "> Immediately you can write an outline of the function.\n",
    "\n",
    "**3. In your notebook, create a function with the following code:**\n",
    "\n",
    "```python\n",
    "def distance(x1, y1, x2, y2):\n",
    "    # Given two points (x1, y1) and (x2, y2)\n",
    "    # this function will return the distance\n",
    "    # between them\n",
    "    \n",
    "    return 0.0\n",
    "```\n",
    "\n",
    "Obviously, this version doesn’t compute distances; it always returns zero. But it is syntactically correct, and it runs which means that you can test it before you make it more complicated.\n",
    "\n",
    "**4. Add a function call below your function and a print statement:**\n",
    "\n",
    "```python\n",
    "dist = distance(1, 2, 4, 6)\n",
    "print(dist)\n",
    "```\n",
    "\n",
    "> **Note:** I chose the arguments (1, 2, 4, 6) so that the horizontal distance is 3, the vertical distance is 4; and the distance between the two points is 5. When testing a function, it is very useful to know the right answer.\n",
    "\n",
    "At this point we’ve confirmed that the function is syntactically correct, and we can start adding code to the body. A reasonable next step is to fid the differences $x_2-x_1$ and $y_2-y_1$. \n",
    "\n",
    "The next version of the program stores these values in temporary variables and prints them:\n",
    "\n",
    "\n",
    "**5. Edit your function:**\n",
    "\n",
    "```python\n",
    "def distance(x1, y1, x2, y2):\n",
    "    # Given two points (x1, y1) and (x2, y2)\n",
    "    # this function will return the distance\n",
    "    # between them\n",
    "    \n",
    "    dx = x2 - x1\n",
    "    dy = y2 - y1\n",
    "    print('dx is ', dx)\n",
    "    print('dy is ', dy)\n",
    "    return 0.0\n",
    "```\n",
    "\n",
    "**6. Call your function. The output should be:**\n",
    "\n",
    "```python\n",
    "dx is 3\n",
    "dy is 4\n",
    "```\n",
    "\n",
    "If the output is what you expect it to be, we know that the function is getting the right arguments and performing the first computation correctly. If not, there are just a few lines to check.\n",
    "\n",
    "Next, we’ll compute the sum of squares of `dx` and `dy`\n",
    "\n",
    "**7. Edit your function:**\n",
    "\n",
    "```python\n",
    "def distance(x1, y1, x2, y2):\n",
    "    # Given two points (x1, y1) and (x2, y2)\n",
    "    # this function will return the distance\n",
    "    # between them\n",
    "    \n",
    "    dx = x2 - x1\n",
    "    dy = y2 - y1\n",
    "    dsquared = dx**2 + dy**2\n",
    "    print('dsquared is ', dsquared)\n",
    "    return 0.0\n",
    "```\n",
    "\n",
    "**8. Call your function.**\n",
    "\n",
    "You should get 25. Again, if you didn’t, there are only a few lines of code where the\n",
    "problem could be.\n",
    "\n",
    "Next, we’ll use the math module and math.sqrt to compute and return the result\n",
    "\n",
    "**9. Edit your code so that it uses the the math module and `math.sqrt`:**\n",
    "\n",
    "```python\n",
    "import math\n",
    "\n",
    "def distance(x1, y1, x2, y2):\n",
    "    # Given two points (x1, y1) and (x2, y2)\n",
    "    # this function will return the distance\n",
    "    # between them\n",
    "    \n",
    "    dx = x2 - x1\n",
    "    dy = y2 - y1\n",
    "    dsquared = dx**2 + dy**2\n",
    "    result = math.sqrt(dsquared)\n",
    "    print('result)\n",
    "    return result\n",
    "```\n",
    "\n",
    "**10. Call your function.**\n",
    "\n",
    "If it works correctly, you’re almost done. The final version of the function shouldn’t display anything when it runs; it should only return a value. \n",
    "\n",
    "The `print` statements we wrote are useful for debugging, but once you get the function working, you should remove them. \n",
    "\n",
    "Code like that is called **scaffolding** because it is helpful for building the program, but is not part of the final product.\n",
    "\n",
    "> When you start out, you should add only a line or two of code at a time. As you get more experienced programming, you might fid yourself writing and debugging bigger chunks of code. Either way, incremental development can save you a lot of debugging time.\n",
    "\n",
    "### Key aspects of Incremental Debugging:\n",
    "\n",
    "- Start with a working program and make small incremental changes. At any point if there is an error, you should have a good idea where it is.\n",
    "- Use variables to hold intermediate values so you can display and check them.\n",
    "- Once the program is working, you might want to remove some of the scaffolding or consolidate multiple statements into compound expressions, but only if it does not make the program difficult to read."
   ]
  },
  {
   "cell_type": "markdown",
   "metadata": {},
   "source": [
    "## Boolean Functions\n",
    "\n",
    "Functions can also return Booleans, which is often convenient for hiding complicated tests inside functions.\n",
    "\n",
    "**10. Create a new function in your notebook and call it.**\n",
    "\n",
    "```python\n",
    "def isDivisible(x y):\n",
    "    if x % y == 0:\n",
    "        return True\n",
    "    else:\n",
    "        return False\n",
    "\n",
    "\n",
    "print(isDivisible(10, 2))\n",
    "print(isDivisible(10, 3))\n",
    "```\n",
    "\n",
    "\n",
    "In Python, the `%` symbol is known as the modulus operator or the remainder operator. It is used to find the remainder of the division operation between two numbers.\n",
    "\n",
    "For example:\n",
    "\n",
    "- `10 % 2 = 0`, when 10 is divided by 2 there is no remainder\n",
    "\n",
    "- `5 % 2 = 1`, when 5 is divided by 2, the remainder is 1\n",
    "\n",
    "- `5 % 3 = 2`, when 5 is divided by 3, the remainder is 2\n",
    "\n",
    "In this program, it calculates the remainder when `x` is divided by `y`: `x % y`\n",
    "\n",
    "And then it compares that result to `0`. `x % y == 0`\n",
    "\n",
    "It is common to give Boolean functions names that sound like yes/no questions; `isDivisible` returns either `True` or `False` to indicate whether x is divisible by y.\n",
    "\n",
    "Since the result of the `==` operator is a Boolean value, we can optimize this function by returning it directly.\n",
    "\n",
    "**11. Edit your program:**\n",
    "\n",
    "```python\n",
    "def isDivisible(x y):\n",
    "    return x % y == 0\n",
    "\n",
    "print(isDivisible(10, 2))\n",
    "print(isDivisible(10, 3))\n",
    "```"
   ]
  },
  {
   "cell_type": "markdown",
   "metadata": {},
   "source": [
    "## Debugging\n",
    "\n",
    "Breaking a large program into smaller functions creates natural checkpoints for debugging. \n",
    "\n",
    "If a function is not working, there are three possibilities to consider:\n",
    "\n",
    "- There is something wrong with the arguments the function is getting; a precondition is violated\n",
    "- There is something wrong with the function; a postcondition is violated.\n",
    "- There is something wrong with the return value or the way it is being used.\n",
    "\n",
    "To rule out the first possibility, you can add a `print` statement at the beginning of the function and display the values of the parameters (and maybe their types).\n",
    "\n",
    "If the parameters look good, add a `print` statement before each `return` statement and display the `return` value. Consider calling the function with values that make it easy to check the result.\n",
    "\n",
    "If the function seems to be working, look at the function call to make sure the return value is being used correctly.\n",
    "\n",
    "A little bit of scaffolding can save a lot of debugging."
   ]
  },
  {
   "cell_type": "markdown",
   "metadata": {},
   "source": [
    "## Glossary\n",
    "\n",
    "This list may help you to understand the terms used in this lesson.\n",
    "\n",
    "- **dot notation:** The syntax for calling a function in another module by specifying the module name followed by a dot (period) and the function name.\n",
    "- **import statement:** A statement that reads a module file and creates a module object.\n",
    "- **incremental development:** A program development plan intended to avoid debugging by adding and testing only a small amount of code at a time.\n",
    "- **module:** A file that contains a collection of related functions and other definitions.\n",
    "- **module object:** A value created by an import statement that provides access to the values defined in a module.\n",
    "- **modulus operator:** An operator, denoted with a percent sign (%), that works on integers and returns the remainder when one number is divided by another.\n",
    "- **scaffolding:** Code that is used during program development but is not part of the final version.\n",
    "- **temporary variable:** A variable used to store an intermediate value in a complex calculation."
   ]
  },
  {
   "cell_type": "markdown",
   "metadata": {},
   "source": [
    "## Challenge\n",
    "\n",
    "**12. Download the [Challenge_28.ipynb](https://github.com/teaghan/CS10/blob/main/Challenge_28.ipynb) file from GitHub.**\n",
    "\n",
    "**13. Upload this file into your own *Project* on Deepnote by dragging the `Challenge_28.ipynb` file onto the Notebooks tab on the left-hand side.** \n",
    "\n",
    "**14. Use this notebook to complete Challenge 28 in Deepnote.**"
   ]
  },
  {
   "cell_type": "code",
   "execution_count": null,
   "metadata": {},
   "outputs": [],
   "source": []
  }
 ],
 "metadata": {
  "hide_input": false,
  "kernelspec": {
   "display_name": "Python 3 (ipykernel)",
   "language": "python",
   "name": "python3"
  },
  "language_info": {
   "codemirror_mode": {
    "name": "ipython",
    "version": 3
   },
   "file_extension": ".py",
   "mimetype": "text/x-python",
   "name": "python",
   "nbconvert_exporter": "python",
   "pygments_lexer": "ipython3",
   "version": "3.10.12"
  },
  "toc": {
   "base_numbering": 1,
   "nav_menu": {},
   "number_sections": true,
   "sideBar": true,
   "skip_h1_title": false,
   "title_cell": "Table of Contents",
   "title_sidebar": "Contents",
   "toc_cell": false,
   "toc_position": {},
   "toc_section_display": true,
   "toc_window_display": false
  },
  "varInspector": {
   "cols": {
    "lenName": 16,
    "lenType": 16,
    "lenVar": 40
   },
   "kernels_config": {
    "python": {
     "delete_cmd_postfix": "",
     "delete_cmd_prefix": "del ",
     "library": "var_list.py",
     "varRefreshCmd": "print(var_dic_list())"
    },
    "r": {
     "delete_cmd_postfix": ") ",
     "delete_cmd_prefix": "rm(",
     "library": "var_list.r",
     "varRefreshCmd": "cat(var_dic_list()) "
    }
   },
   "types_to_exclude": [
    "module",
    "function",
    "builtin_function_or_method",
    "instance",
    "_Feature"
   ],
   "window_display": false
  }
 },
 "nbformat": 4,
 "nbformat_minor": 4
}
