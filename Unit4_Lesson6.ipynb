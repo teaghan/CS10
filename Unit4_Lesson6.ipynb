{
 "cells": [
  {
   "cell_type": "markdown",
   "metadata": {},
   "source": [
    "> *The creation of the lessons in this unit relied heavily on the existing lessons created by Mrs. FitzZaland as well as the [lecture series](https://github.com/milaan9/04_Python_Functions) produced by Dr. Milaan Parmar. Additionally, these lessons have largely been modelled off of the book [Think Python](https://open.umn.edu/opentextbooks/textbooks/43) by Allen Downey.*"
   ]
  },
  {
   "cell_type": "markdown",
   "metadata": {
    "jp-MarkdownHeadingCollapsed": true,
    "tags": []
   },
   "source": [
    "# Function Arguments, Tuples, and Modules\n",
    "\n",
    "In this lesson we'll explore different types of function arguments; introduce a new datatype; and start working with modules.\n",
    "\n",
    "<div class=\"alert alert-info\"><h4>Tasks</h4><p>Alert boxes like this will provide you with tasks that you must do while going through this lesson.</p></div>\n",
    "\n",
    "An **argument** is a value, a variable, or an object that is passed to a function when it is \"called\". \n",
    "\n",
    "**Parameters** are the variables assigned when the function is defined and are used to hold incoming values.\n",
    "\n",
    "In the following example, `name` and `msg` are the parameters of the function, whereas `\"Arthur\"` and `\"Good morning!\"` are the arguments used when calling the function.\n",
    "\n",
    "```python\n",
    "def greet(name, msg):\n",
    "    print(\"Hello\", name + ', ' + msg)\n",
    "\n",
    "greet(\"Arthur\", \"Good morning!\")\n",
    "```"
   ]
  },
  {
   "cell_type": "markdown",
   "metadata": {},
   "source": [
    "# Python Function Arguments\n",
    "\n",
    "In Python, there are 3 ways assign the arguments of a function:\n",
    "\n",
    "1. Positional Arguments\n",
    "2. Default Arguments\n",
    "3. Arbitrary numbers of arguments"
   ]
  },
  {
   "cell_type": "markdown",
   "metadata": {},
   "source": [
    "## Positional Arguments\n",
    "\n",
    "In the previous lesson, we learned about defining a function and calling it. \n",
    "\n",
    "For example:"
   ]
  },
  {
   "cell_type": "code",
   "execution_count": 1,
   "metadata": {
    "ExecuteTime": {
     "end_time": "2021-10-08T17:53:46.249389Z",
     "start_time": "2021-10-08T17:53:46.233763Z"
    },
    "execution": {
     "iopub.execute_input": "2023-12-03T03:48:56.260228Z",
     "iopub.status.busy": "2023-12-03T03:48:56.259696Z",
     "iopub.status.idle": "2023-12-03T03:48:56.264744Z",
     "shell.execute_reply": "2023-12-03T03:48:56.263885Z",
     "shell.execute_reply.started": "2023-12-03T03:48:56.260203Z"
    },
    "tags": []
   },
   "outputs": [
    {
     "name": "stdout",
     "output_type": "stream",
     "text": [
      "Hello Arthur, Good morning!\n"
     ]
    }
   ],
   "source": [
    "# Example\n",
    "def greet(name, msg):\n",
    "    \"\"\"This function greets to the person with the provided message\"\"\"\n",
    "    print(\"Hello\", name + ', ' + msg)\n",
    "\n",
    "greet(\"Arthur\", \"Good morning!\")"
   ]
  },
  {
   "cell_type": "markdown",
   "metadata": {},
   "source": [
    "**Explanation:**\n",
    "\n",
    "Here, the function **`greet()`** has two parameters.\n",
    "\n",
    "Since we have called this function with two arguments, it runs smoothly and we do not get any error.\n",
    "\n",
    "If we call it with a different number of arguments, the interpreter will show an error message:"
   ]
  },
  {
   "cell_type": "code",
   "execution_count": 2,
   "metadata": {
    "execution": {
     "iopub.execute_input": "2023-12-03T03:48:56.266144Z",
     "iopub.status.busy": "2023-12-03T03:48:56.265793Z",
     "iopub.status.idle": "2023-12-03T03:48:56.652853Z",
     "shell.execute_reply": "2023-12-03T03:48:56.651059Z",
     "shell.execute_reply.started": "2023-12-03T03:48:56.266121Z"
    },
    "tags": []
   },
   "outputs": [
    {
     "ename": "TypeError",
     "evalue": "greet() missing 1 required positional argument: 'msg'",
     "output_type": "error",
     "traceback": [
      "\u001b[0;31m---------------------------------------------------------------------------\u001b[0m",
      "\u001b[0;31mTypeError\u001b[0m                                 Traceback (most recent call last)",
      "Cell \u001b[0;32mIn[2], line 1\u001b[0m\n\u001b[0;32m----> 1\u001b[0m \u001b[43mgreet\u001b[49m\u001b[43m(\u001b[49m\u001b[38;5;124;43m\"\u001b[39;49m\u001b[38;5;124;43mArthur\u001b[39;49m\u001b[38;5;124;43m\"\u001b[39;49m\u001b[43m)\u001b[49m\n",
      "\u001b[0;31mTypeError\u001b[0m: greet() missing 1 required positional argument: 'msg'"
     ]
    }
   ],
   "source": [
    "greet(\"Arthur\")"
   ]
  },
  {
   "cell_type": "markdown",
   "metadata": {},
   "source": [
    "## Python Default Arguments\n",
    "\n",
    "Default arguments are arguments that are assigned a default value during the function call. \n",
    "\n",
    "If we do not pass an argument to this parameter, then the default argument will be used. \n",
    "\n",
    "We assign default values using the **`=`** assignment operator."
   ]
  },
  {
   "cell_type": "code",
   "execution_count": 3,
   "metadata": {
    "ExecuteTime": {
     "end_time": "2021-10-08T17:54:03.695692Z",
     "start_time": "2021-10-08T17:54:03.679093Z"
    },
    "execution": {
     "iopub.execute_input": "2023-12-03T03:48:59.675886Z",
     "iopub.status.busy": "2023-12-03T03:48:59.673258Z",
     "iopub.status.idle": "2023-12-03T03:48:59.687114Z",
     "shell.execute_reply": "2023-12-03T03:48:59.685000Z",
     "shell.execute_reply.started": "2023-12-03T03:48:59.675808Z"
    },
    "tags": []
   },
   "outputs": [
    {
     "name": "stdout",
     "output_type": "stream",
     "text": [
      "Hello Alan, Good morning!\n",
      "Hello Bruce, How do you do?\n",
      "Hello Carson, Good night!\n"
     ]
    }
   ],
   "source": [
    "# Example\n",
    "def greet(name, msg=\"Good morning!\"):\n",
    "    print(\"Hello\", name + ', ' + msg)\n",
    "\n",
    "greet(\"Alan\")\n",
    "greet(\"Bruce\", \"How do you do?\")\n",
    "greet(\"Carson\",\"Good night!\")"
   ]
  },
  {
   "cell_type": "markdown",
   "metadata": {},
   "source": [
    "**Explanation:**\n",
    "\n",
    "In this function, the parameter **`name`** does not have a default value and is required when the function is called.\n",
    "\n",
    "On the other hand, the parameter **`msg`** has a default value of **`\"Good morning!\"`**. Therefore, assigning an argument to this parameter is optional during a call. If a value is provided, it will overwrite the default value.\n",
    "\n",
    "When defining a function, the non-default arguments must come before any default arguments:"
   ]
  },
  {
   "cell_type": "code",
   "execution_count": 4,
   "metadata": {
    "execution": {
     "iopub.execute_input": "2023-12-03T03:49:00.358605Z",
     "iopub.status.busy": "2023-12-03T03:49:00.356749Z",
     "iopub.status.idle": "2023-12-03T03:49:00.368694Z",
     "shell.execute_reply": "2023-12-03T03:49:00.366812Z",
     "shell.execute_reply.started": "2023-12-03T03:49:00.358527Z"
    },
    "tags": []
   },
   "outputs": [
    {
     "ename": "SyntaxError",
     "evalue": "non-default argument follows default argument (4190724443.py, line 1)",
     "output_type": "error",
     "traceback": [
      "\u001b[0;36m  Cell \u001b[0;32mIn[4], line 1\u001b[0;36m\u001b[0m\n\u001b[0;31m    def greet(msg=\"Good morning!\", name):\u001b[0m\n\u001b[0m                                   ^\u001b[0m\n\u001b[0;31mSyntaxError\u001b[0m\u001b[0;31m:\u001b[0m non-default argument follows default argument\n"
     ]
    }
   ],
   "source": [
    "def greet(msg=\"Good morning!\", name):\n",
    "    print(\"Hello\", name + ', ' + msg)"
   ]
  },
  {
   "cell_type": "markdown",
   "metadata": {},
   "source": [
    "### Python Keyword Arguments\n",
    "\n",
    "We saw in the previous lesson that we can use keywords when calling out function, which will automatically match the provided values with the correct parameters - even if they are in a different order."
   ]
  },
  {
   "cell_type": "code",
   "execution_count": 5,
   "metadata": {
    "ExecuteTime": {
     "end_time": "2021-10-08T17:54:06.818254Z",
     "start_time": "2021-10-08T17:54:06.799703Z"
    },
    "execution": {
     "iopub.execute_input": "2023-12-03T03:49:01.160705Z",
     "iopub.status.busy": "2023-12-03T03:49:01.158407Z",
     "iopub.status.idle": "2023-12-03T03:49:01.171576Z",
     "shell.execute_reply": "2023-12-03T03:49:01.169212Z",
     "shell.execute_reply.started": "2023-12-03T03:49:01.160602Z"
    },
    "scrolled": true,
    "tags": []
   },
   "outputs": [
    {
     "name": "stdout",
     "output_type": "stream",
     "text": [
      "Hello Eric, How do you do?\n",
      "Hello Eric, How do you do?\n",
      "Hello Eric, How do you do?\n",
      "Hello Eric, How do you do?\n"
     ]
    }
   ],
   "source": [
    "# Example\n",
    "def greet(name, msg=\"Good morning!\"):\n",
    "    print(\"Hello\", name + ', ' + msg)\n",
    "    \n",
    "greet(\"Eric\", \"How do you do?\")\n",
    "\n",
    "# Using two keyword arguments\n",
    "greet(name = \"Eric\",msg = \"How do you do?\")\n",
    "\n",
    "# Using two keyword arguments out of order\n",
    "greet(msg = \"How do you do?\",name = \"Eric\") \n",
    "\n",
    "# Using one positional and one keyword argument\n",
    "greet(\"Eric\", msg = \"How do you do?\")           "
   ]
  },
  {
   "cell_type": "markdown",
   "metadata": {},
   "source": [
    "<div class=\"alert alert-info\"><h4>1.</h4><p>Create a new notebook and name it Lesson6_Tasks.</p></div>\n",
    "\n",
    "<div class=\"alert alert-info\"><h4>2.</h4><p>In this notebook, define a new function using the following code:</p></div>\n",
    "\n",
    "```python\n",
    "def student_data(name, stud_id, grade, school='GISS'):\n",
    "    print('Details of: ', name)\n",
    "    print('Student ID: ', stud_id)\n",
    "    print('Grade: ', grade)\n",
    "    print('School: ', school)\n",
    "\n",
    "student_data('Taylor', 100433, 10)\n",
    "student_data('A`mvery', 102222, 6, 'SSE')\n",
    "```\n",
    "\n",
    "<div class=\"alert alert-info\"><h4>3.</h4><p>Now test this function with the following calls:</p></div>\n",
    "\n",
    "```python\n",
    "student_data('Taylor', 111111, 10)\n",
    "print()\n",
    "student_data('Avery', 222222, 6, 'SSE')\n",
    "print()\n",
    "student_data('Quinn', school='GISS', grade=11, stud_id=333333)\n",
    "```"
   ]
  },
  {
   "cell_type": "markdown",
   "metadata": {},
   "source": [
    "## Arbitrary Number of Parameters: \n",
    "\n",
    "In some cases it may be useful to define a function that takes in an arbitrary number of parameters. \n",
    "\n",
    "The following example shows you how this can be done."
   ]
  },
  {
   "cell_type": "code",
   "execution_count": 6,
   "metadata": {
    "execution": {
     "iopub.execute_input": "2023-12-03T03:49:02.144459Z",
     "iopub.status.busy": "2023-12-03T03:49:02.142728Z",
     "iopub.status.idle": "2023-12-03T03:49:02.156608Z",
     "shell.execute_reply": "2023-12-03T03:49:02.154621Z",
     "shell.execute_reply.started": "2023-12-03T03:49:02.144374Z"
    },
    "tags": []
   },
   "outputs": [
    {
     "name": "stdout",
     "output_type": "stream",
     "text": [
      "Hello Gary\n",
      "Hello Hank\n",
      "Hello Ivan\n",
      "Hello John\n"
     ]
    }
   ],
   "source": [
    "# Example\n",
    "def greet(*names):\n",
    "    \"\"\"This function greets all the person in the names tuple.\"\"\"\n",
    "    # names is a tuple with arguments\n",
    "    for name in names:\n",
    "        print(\"Hello\", name)\n",
    "\n",
    "greet(\"Gary\", \"Hank\", \"Ivan\", \"John\")"
   ]
  },
  {
   "cell_type": "markdown",
   "metadata": {},
   "source": [
    "We can pass any number of arguments to this function. \n",
    "\n",
    "These arguments get wrapped up into a **tuple** before being passed into the function."
   ]
  },
  {
   "cell_type": "markdown",
   "metadata": {},
   "source": [
    "## Python Tuples `()`\n",
    "\n",
    "A **[tuple](https://github.com/milaan9/02_Python_Datatypes/blob/main/004_Python_Tuple.ipynb)** is an **ordered sequence** of items - similar to a list. The only difference is that tuples are **immutable**. This means that once a tuple is created, it cannot be modified.\n",
    "\n",
    "Tuples are used to **write-protect data** and are usually faster than lists since they cannot be changed dynamically.\n",
    "\n",
    "A tuple is defined within parentheses **`()`** where items are separated by commas.\n",
    "\n",
    "Similar to lists, we can use the slicing operator **`[]`** to extract items but we cannot change its value."
   ]
  },
  {
   "cell_type": "code",
   "execution_count": 7,
   "metadata": {
    "execution": {
     "iopub.execute_input": "2023-12-03T03:49:03.197990Z",
     "iopub.status.busy": "2023-12-03T03:49:03.196658Z",
     "iopub.status.idle": "2023-12-03T03:49:03.206512Z",
     "shell.execute_reply": "2023-12-03T03:49:03.204564Z",
     "shell.execute_reply.started": "2023-12-03T03:49:03.197936Z"
    },
    "tags": []
   },
   "outputs": [
    {
     "name": "stdout",
     "output_type": "stream",
     "text": [
      "program\n"
     ]
    }
   ],
   "source": [
    "# Create tuple\n",
    "t = (6, 'program', 1.3)\n",
    "\n",
    "# Index into the second item (index=1)\n",
    "print(t[1])"
   ]
  },
  {
   "cell_type": "markdown",
   "metadata": {
    "execution": {
     "iopub.execute_input": "2023-12-03T02:00:48.098620Z",
     "iopub.status.busy": "2023-12-03T02:00:48.097415Z",
     "iopub.status.idle": "2023-12-03T02:00:48.111807Z",
     "shell.execute_reply": "2023-12-03T02:00:48.109447Z",
     "shell.execute_reply.started": "2023-12-03T02:00:48.098553Z"
    },
    "tags": []
   },
   "source": [
    "<div class=\"alert alert-info\"><h4>4.</h4><p>Add the following code to your notebook:</p></div>\n",
    "\n",
    "```python\n",
    "my_tuple = (1, 3.4, 'apple', False, 10)\n",
    "print(my_tuple[2:4])\n",
    "```\n",
    "\n",
    "<div class=\"alert alert-info\"><h4>5.</h4><p>Also add the following function to your notebook which accepts an arbitrary number of arguments:</p></div>\n",
    "\n",
    "```python\n",
    "def print_items(*items):\n",
    "    '''This function prints all of the arguments separated by a space.'''\n",
    "    for item in items:\n",
    "        print(item, end=' ')\n",
    "\n",
    "print_items('cereal', 'banana', 'blueberries', 'milk')\n",
    "```"
   ]
  },
  {
   "cell_type": "markdown",
   "metadata": {},
   "source": [
    "# Python Modules\n",
    "\n",
    "Now you will learn how to create, import, and use custom modules in Python. \n",
    "\n",
    "If it would be beneficial for your learning, feel free to take a look at [this one](https://www.youtube.com/watch?v=1oFneicTaII)  on python modules."
   ]
  },
  {
   "cell_type": "markdown",
   "metadata": {},
   "source": [
    "## What are modules in Python?\n",
    "\n",
    "A module contains a set of code or functions, which can be used elsewhere.\n",
    "\n",
    "> A module refers to a Python file (with the extension **`.py`**).\n",
    "\n",
    "By using modules, large amounts of code can be divided into smaller modules, which helps with organization. \n",
    "\n",
    "Another benefit of modules is that they provide a way to share reusable functions."
   ]
  },
  {
   "cell_type": "markdown",
   "metadata": {
    "execution": {
     "iopub.execute_input": "2023-10-29T21:41:25.649837Z",
     "iopub.status.busy": "2023-10-29T21:41:25.649357Z",
     "iopub.status.idle": "2023-10-29T21:41:25.658502Z",
     "shell.execute_reply": "2023-10-29T21:41:25.657190Z",
     "shell.execute_reply.started": "2023-10-29T21:41:25.649802Z"
    },
    "tags": []
   },
   "source": [
    "## Creating a module\n",
    "\n",
    "A file containing Python code, for example: **`example.py`**, is called a module, and its module name would be **`example`**.\n",
    "\n",
    "We can define our most used functions in a module and import it, instead of copying their definitions into different programs.\n",
    "\n",
    "The module contains Python code like classes, functions, methods, but it also has variables. All of these will be *imported* when we import the module.\n",
    "\n",
    "Let's create a module. \n",
    "\n",
    "<div class=\"alert alert-info\"><h4>6.</h4><p>Create a new python script in the your Files tab. Name this file `example.py` and type the following code in the file:</p></div>\n",
    "\n",
    "\n",
    "```python\n",
    "# Python Module example\n",
    "\n",
    "def add(a, b):\n",
    "    \"\"\"This program adds two numbers and return the result\"\"\"\n",
    "    result = a + b\n",
    "    return result\n",
    "```\n",
    "\n",
    "Here, we have defined a function **`add()`** inside a module named **`example`**. \n",
    "\n",
    "The function takes in two numbers and returns their sum."
   ]
  },
  {
   "cell_type": "markdown",
   "metadata": {},
   "source": [
    "## Importing a module\n",
    "\n",
    "We can import the definitions that were made inside a module into another module or a notebook like your Lesson6_Tasks notebook.\n",
    "\n",
    "We use the **`import`** keyword to do this. To import our previously defined module example, we type the following in the Python prompt.\n",
    "\n",
    "<div class=\"alert alert-info\"><h4>7.</h4><p>In your Lesson6_Tasks notebook, import your module by typing the following code into a code cell:</p></div>\n",
    "\n",
    "```python\n",
    "import example\n",
    "```\n",
    "\n",
    "This does not import the names of the functions defined in **`example`** directly in the current symbol table. It only imports the module name **`example`** there.\n",
    "\n",
    "Using the module name we can access the function using the dot **`.`** operator. \n",
    "\n",
    "<div class=\"alert alert-info\"><h4>8.</h4><p>After importing your module, try testing the add function by using the following code:</p></div>\n",
    "\n",
    "```python\n",
    "import example\n",
    "example.add(3,6.6)\n",
    "```"
   ]
  },
  {
   "cell_type": "markdown",
   "metadata": {},
   "source": [
    "## Standard Modules\n",
    "\n",
    "Python has tons of standard modules. You can check out the full list of **[Python standard modules](https://docs.python.org/3/py-modindex.html)** and their use cases. These files are in the Lib directory inside the location where Python is installed.\n",
    "\n",
    "Standard modules can be imported the same way as we import our user-defined modules.\n",
    "\n",
    "There are various ways to import modules. They are listed below:"
   ]
  },
  {
   "cell_type": "code",
   "execution_count": 8,
   "metadata": {
    "execution": {
     "iopub.execute_input": "2023-12-03T03:49:05.654790Z",
     "iopub.status.busy": "2023-12-03T03:49:05.652421Z",
     "iopub.status.idle": "2023-12-03T03:49:05.665774Z",
     "shell.execute_reply": "2023-12-03T03:49:05.663845Z",
     "shell.execute_reply.started": "2023-12-03T03:49:05.654684Z"
    },
    "tags": []
   },
   "outputs": [
    {
     "name": "stdout",
     "output_type": "stream",
     "text": [
      "The value of pi is 3.141592653589793\n"
     ]
    }
   ],
   "source": [
    "# Example\n",
    "\n",
    "# import statement example to import standard module math\n",
    "import math\n",
    "\n",
    "# Call the pi attribute of math\n",
    "print(\"The value of pi is\", math.pi)"
   ]
  },
  {
   "cell_type": "markdown",
   "metadata": {},
   "source": [
    "You can also import functions or variables in a module directly by using the `from` statement"
   ]
  },
  {
   "cell_type": "code",
   "execution_count": 9,
   "metadata": {
    "execution": {
     "iopub.execute_input": "2023-12-03T03:49:06.452740Z",
     "iopub.status.busy": "2023-12-03T03:49:06.451156Z",
     "iopub.status.idle": "2023-12-03T03:49:06.462064Z",
     "shell.execute_reply": "2023-12-03T03:49:06.460166Z",
     "shell.execute_reply.started": "2023-12-03T03:49:06.452665Z"
    },
    "tags": []
   },
   "outputs": [
    {
     "name": "stdout",
     "output_type": "stream",
     "text": [
      "The value of pi is 3.141592653589793\n"
     ]
    }
   ],
   "source": [
    "# Example\n",
    "\n",
    "# import pi directly from the module math\n",
    "from math import pi\n",
    "\n",
    "# Call the pi attribute of math\n",
    "print(\"The value of pi is\", pi)"
   ]
  },
  {
   "cell_type": "markdown",
   "metadata": {
    "execution": {
     "iopub.execute_input": "2023-10-29T21:50:30.241189Z",
     "iopub.status.busy": "2023-10-29T21:50:30.240838Z",
     "iopub.status.idle": "2023-10-29T21:50:30.247256Z",
     "shell.execute_reply": "2023-10-29T21:50:30.246228Z",
     "shell.execute_reply.started": "2023-10-29T21:50:30.241162Z"
    },
    "tags": []
   },
   "source": [
    "### `import` with renaming\n",
    "\n",
    "We can import a module by renaming it as follows:"
   ]
  },
  {
   "cell_type": "code",
   "execution_count": 10,
   "metadata": {
    "execution": {
     "iopub.execute_input": "2023-12-03T03:49:07.190299Z",
     "iopub.status.busy": "2023-12-03T03:49:07.188555Z",
     "iopub.status.idle": "2023-12-03T03:49:07.200430Z",
     "shell.execute_reply": "2023-12-03T03:49:07.198322Z",
     "shell.execute_reply.started": "2023-12-03T03:49:07.190223Z"
    },
    "tags": []
   },
   "outputs": [
    {
     "name": "stdout",
     "output_type": "stream",
     "text": [
      "The value of pi is 3.141592653589793\n"
     ]
    }
   ],
   "source": [
    "# Example \n",
    "\n",
    "# import module by renaming it\n",
    "import math as m\n",
    "print(\"The value of pi is\", m.pi)"
   ]
  },
  {
   "cell_type": "markdown",
   "metadata": {
    "execution": {
     "iopub.execute_input": "2023-12-03T03:40:53.788710Z",
     "iopub.status.busy": "2023-12-03T03:40:53.786226Z",
     "iopub.status.idle": "2023-12-03T03:40:53.801173Z",
     "shell.execute_reply": "2023-12-03T03:40:53.798144Z",
     "shell.execute_reply.started": "2023-12-03T03:40:53.788625Z"
    },
    "tags": []
   },
   "source": [
    "<div class=\"alert alert-info\"><h4>9.</h4><p>In your notebook, try out following code:</p></div>\n",
    "\n",
    "```python\n",
    "import math as m\n",
    "m.sqrt(16)\n",
    "```"
   ]
  },
  {
   "cell_type": "markdown",
   "metadata": {},
   "source": [
    "## Incremental Development\n",
    "\n",
    "As you write larger functions, you might find yourself spending more time debugging.\n",
    "\n",
    "To deal with increasingly complex programs, you might want to try a process called **incremental development**. \n",
    "\n",
    "The goal of incremental development is to avoid long debugging sessions by\n",
    "adding and testing only a small amount of ode at a time.\n",
    "\n",
    "\n",
    ">For example, suppose you want to find the distance between two points, given by the coordinates $(x_1, y_1)$ and $(x_2, y_2)$.\n",
    "\n",
    "> By the Pythagorean theorem, the distance is: $distance = \\sqrt{(x_2− x_1)^2 + (y_2 - y_1)^2}$\n",
    "\n",
    "> The first step is to consider what a distance function should look like in Python – what are the inputs (parameters) and what is the output (return value)?\n",
    "\n",
    "> Immediately you can write an outline of the function.\n",
    "\n",
    "<div class=\"alert alert-info\"><h4>10.</h4><p>In your notebook, create a function with the following code:</p></div>\n",
    "\n",
    "```python\n",
    "def distance(x1, y1, x2, y2):\n",
    "    # Given two points (x1, y1) and (x2, y2)\n",
    "    # this function will return the distance\n",
    "    # between them\n",
    "    \n",
    "    return 0.0\n",
    "```\n",
    "\n",
    "Obviously, this version doesn’t compute distances; it always returns zero. But it is syntactically correct, and it runs which means that you can test it before you make it more complicated.\n",
    "\n",
    "<div class=\"alert alert-info\"><h4>11.</h4><p>Add a function call below your function and a print statement:</p></div>\n",
    "\n",
    "```python\n",
    "dist = distance(1, 2, 4, 6)\n",
    "print(dist)\n",
    "```\n",
    "\n",
    "> **Note:** I chose the arguments (1, 2, 4, 6) so that the horizontal distance is 3, the vertical distance is 4; and the distance between the two points is 5. When testing a function, it is very useful to know the right answer.\n",
    "\n",
    "At this point we’ve confirmed that the function is syntactically correct, and we can start adding code to the body. A reasonable next step is to fid the differences $x_2-x_1$ and $y_2-y_1$. \n",
    "\n",
    "The next version of the program stores these values in temporary variables and prints them:\n",
    "\n",
    "<div class=\"alert alert-info\"><h4>12.</h4><p>Edit your function:</p></div>\n",
    "\n",
    "```python\n",
    "def distance(x1, y1, x2, y2):\n",
    "    # Given two points (x1, y1) and (x2, y2)\n",
    "    # this function will return the distance\n",
    "    # between them\n",
    "    \n",
    "    dx = x2 - x1\n",
    "    dy = y2 - y1\n",
    "    print('dx is ', dx)\n",
    "    print('dy is ', dy)\n",
    "    return 0.0\n",
    "```\n",
    "\n",
    "<div class=\"alert alert-info\"><h4>13.</h4><p>Call your function. The output should be:</p></div>\n",
    "\n",
    "\n",
    "```python\n",
    "dx is 3\n",
    "dy is 4\n",
    "```\n",
    "\n",
    "If the output is what you expect it to be, we know that the function is getting the right arguments and performing the first computation correctly. If not, there are just a few lines to check.\n",
    "\n",
    "Next, we’ll compute the sum of squares of `dx` and `dy`\n",
    "\n",
    "<div class=\"alert alert-info\"><h4>14.</h4><p>Edit your function:</p></div>\n",
    "\n",
    "\n",
    "```python\n",
    "def distance(x1, y1, x2, y2):\n",
    "    # Given two points (x1, y1) and (x2, y2)\n",
    "    # this function will return the distance\n",
    "    # between them\n",
    "    \n",
    "    dx = x2 - x1\n",
    "    dy = y2 - y1\n",
    "    dsquared = dx**2 + dy**2\n",
    "    print('dsquared is ', dsquared)\n",
    "    return 0.0\n",
    "```\n",
    "\n",
    "<div class=\"alert alert-info\"><h4>15.</h4><p>Call your function.</p></div>\n",
    "\n",
    "\n",
    "You should get 25. Again, if you didn’t, there are only a few lines of code where the\n",
    "problem could be.\n",
    "\n",
    "Next, we’ll use the math module and math.sqrt to compute and return the result\n",
    "\n",
    "\n",
    "<div class=\"alert alert-info\"><h4>16.</h4><p>Edit your code so that it uses the the math module and `math.sqrt`:</p></div>\n",
    "\n",
    "```python\n",
    "import math\n",
    "\n",
    "def distance(x1, y1, x2, y2):\n",
    "    # Given two points (x1, y1) and (x2, y2)\n",
    "    # this function will return the distance\n",
    "    # between them\n",
    "    \n",
    "    dx = x2 - x1\n",
    "    dy = y2 - y1\n",
    "    dsquared = dx**2 + dy**2\n",
    "    result = math.sqrt(dsquared)\n",
    "    print('result)\n",
    "    return result\n",
    "```\n",
    "\n",
    "<div class=\"alert alert-info\"><h4>17.</h4><p>Call your function.</p></div>\n",
    "\n",
    "If it works correctly, you’re almost done. The final version of the function shouldn’t display anything when it runs; it should only return a value. \n",
    "\n",
    "The `print` statements we wrote are useful for debugging, but once you get the function working, you should remove them. \n",
    "\n",
    "Code like that is called **scaffolding** because it is helpful for building the program, but is not part of the final product.\n",
    "\n",
    "> When you start out, you should add only a line or two of code at a time. As you get more experienced programming, you might fid yourself writing and debugging bigger chunks of code. Either way, incremental development can save you a lot of debugging time.\n",
    "\n",
    "### Key aspects of Incremental Debugging:\n",
    "\n",
    "- Start with a working program and make small incremental changes. At any point if there is an error, you should have a good idea where it is.\n",
    "- Use variables to hold intermediate values so you can display and check them.\n",
    "- Once the program is working, you might want to remove some of the scaffolding or consolidate multiple statements into compound expressions, but only if it does not make the program difficult to read."
   ]
  },
  {
   "cell_type": "markdown",
   "metadata": {},
   "source": [
    "## Boolean Functions\n",
    "\n",
    "Functions can also return Booleans, which is often convenient for hiding complicated tests inside functions.\n",
    "\n",
    "<div class=\"alert alert-info\"><h4>18.</h4><p>Define the below function in your notebook and call it.</p></div>\n",
    "\n",
    "```python\n",
    "def isDivisible(x y):\n",
    "    if x % y == 0:\n",
    "        return True\n",
    "    else:\n",
    "        return False\n",
    "\n",
    "\n",
    "print(isDivisible(10, 2))\n",
    "print(isDivisible(10, 3))\n",
    "```\n",
    "\n",
    "\n",
    "In Python, the `%` symbol is known as the modulus operator or the remainder operator. It is used to find the remainder of the division operation between two numbers.\n",
    "\n",
    "For example:\n",
    "\n",
    "- `10 % 2 = 0`, when 10 is divided by 2 there is no remainder\n",
    "\n",
    "- `5 % 2 = 1`, when 5 is divided by 2, the remainder is 1\n",
    "\n",
    "- `5 % 3 = 2`, when 5 is divided by 3, the remainder is 2\n",
    "\n",
    "In this program, it calculates the remainder when `x` is divided by `y`: `x % y`\n",
    "\n",
    "And then it compares that result to `0`. `x % y == 0`\n",
    "\n",
    "It is common to give Boolean functions names that sound like yes/no questions; `isDivisible` returns either `True` or `False` to indicate whether x is divisible by y.\n",
    "\n",
    "Since the result of the `==` operator is a Boolean value, we can optimize this function by returning it directly.\n",
    "\n",
    "<div class=\"alert alert-info\"><h4>19.</h4><p>Edit your program:</p></div>\n",
    "\n",
    "```python\n",
    "def isDivisible(x y):\n",
    "    return x % y == 0\n",
    "\n",
    "print(isDivisible(10, 2))\n",
    "print(isDivisible(10, 3))\n",
    "```"
   ]
  },
  {
   "cell_type": "markdown",
   "metadata": {},
   "source": [
    "## Debugging\n",
    "\n",
    "Breaking a large program into smaller functions creates natural checkpoints for debugging. \n",
    "\n",
    "If a function is not working, there are three possibilities to consider:\n",
    "\n",
    "- There is something wrong with the arguments the function is getting; a precondition is violated\n",
    "- There is something wrong with the function; a postcondition is violated.\n",
    "- There is something wrong with the return value or the way it is being used.\n",
    "\n",
    "To rule out the first possibility, you can add a `print` statement at the beginning of the function and display the values of the parameters (and maybe their types).\n",
    "\n",
    "If the parameters look good, add a `print` statement before each `return` statement and display the `return` value. Consider calling the function with values that make it easy to check the result.\n",
    "\n",
    "If the function seems to be working, look at the function call to make sure the return value is being used correctly.\n",
    "\n",
    "A little bit of scaffolding can save a lot of debugging."
   ]
  },
  {
   "cell_type": "markdown",
   "metadata": {},
   "source": [
    "## Glossary\n",
    "\n",
    "This list may help you to understand the terms used in this lesson.\n",
    "\n",
    "- **dot notation:** The syntax for calling a function in another module by specifying the module name followed by a dot (period) and the function name.\n",
    "- **import statement:** A statement that reads a module file and creates a module object.\n",
    "- **incremental development:** A program development plan intended to avoid debugging by adding and testing only a small amount of code at a time.\n",
    "- **module:** A file that contains a collection of related functions and other definitions.\n",
    "- **module object:** A value created by an import statement that provides access to the values defined in a module.\n",
    "- **modulus operator:** An operator, denoted with a percent sign (%), that works on integers and returns the remainder when one number is divided by another.\n",
    "- **scaffolding:** Code that is used during program development but is not part of the final version.\n",
    "- **temporary variable:** A variable used to store an intermediate value in a complex calculation."
   ]
  },
  {
   "cell_type": "markdown",
   "metadata": {},
   "source": [
    "## Challenge\n",
    "\n",
    "**1. Download `Challenge_28.ipynb` from Teams.**\n",
    "\n",
    "**2. Upload this file into your own *Project* on Deepnote by dragging the `Challenge_28.ipynb` file onto the Notebooks tab on the left-hand side.** \n",
    "\n",
    "**3. Use this notebook to complete Challenge 28 in Deepnote.**"
   ]
  },
  {
   "cell_type": "code",
   "execution_count": null,
   "metadata": {},
   "outputs": [],
   "source": []
  }
 ],
 "metadata": {
  "hide_input": false,
  "kernelspec": {
   "display_name": "Python 3 (ipykernel)",
   "language": "python",
   "name": "python3"
  },
  "language_info": {
   "codemirror_mode": {
    "name": "ipython",
    "version": 3
   },
   "file_extension": ".py",
   "mimetype": "text/x-python",
   "name": "python",
   "nbconvert_exporter": "python",
   "pygments_lexer": "ipython3",
   "version": "3.10.12"
  },
  "toc": {
   "base_numbering": 1,
   "nav_menu": {},
   "number_sections": true,
   "sideBar": true,
   "skip_h1_title": false,
   "title_cell": "Table of Contents",
   "title_sidebar": "Contents",
   "toc_cell": false,
   "toc_position": {},
   "toc_section_display": true,
   "toc_window_display": false
  },
  "varInspector": {
   "cols": {
    "lenName": 16,
    "lenType": 16,
    "lenVar": 40
   },
   "kernels_config": {
    "python": {
     "delete_cmd_postfix": "",
     "delete_cmd_prefix": "del ",
     "library": "var_list.py",
     "varRefreshCmd": "print(var_dic_list())"
    },
    "r": {
     "delete_cmd_postfix": ") ",
     "delete_cmd_prefix": "rm(",
     "library": "var_list.r",
     "varRefreshCmd": "cat(var_dic_list()) "
    }
   },
   "types_to_exclude": [
    "module",
    "function",
    "builtin_function_or_method",
    "instance",
    "_Feature"
   ],
   "window_display": false
  }
 },
 "nbformat": 4,
 "nbformat_minor": 4
}
