{
 "cells": [
  {
   "cell_type": "markdown",
   "metadata": {},
   "source": [
    "> *The creation of the lessons in this unit relied heavily on the existing lessons created by Mrs. FitzZaland as well as the [lecture series](https://github.com/milaan9/03_Python_Flow_Control) produced by Dr. Milaan Parmar. Additionally, these lessons have largely been modelled off of the book [Think Python](https://open.umn.edu/opentextbooks/textbooks/43) by Allen Downey.*"
   ]
  },
  {
   "cell_type": "markdown",
   "metadata": {},
   "source": [
    "# Loops in Python\n",
    "\n",
    "Python loops are used to repeatedly execute a block of statements.\n",
    "\n",
    "In Python, we have **two types of looping statements**, namely:\n",
    "<div>\n",
    "<img src=\"images/loop1.png\" width=\"200\"/>\n",
    "</div>"
   ]
  },
  {
   "cell_type": "markdown",
   "metadata": {},
   "source": [
    "## Updating Variables\n",
    "\n",
    "One common use of for loops is to update a variable.\n",
    "\n",
    "As you already know, it’s legal in Python to make more than one assignment to the same variable. A new assignment (or reassignment) makes an existing variable refer to a new value (and stop referring to the old value)."
   ]
  },
  {
   "cell_type": "code",
   "execution_count": 1,
   "metadata": {
    "execution": {
     "iopub.execute_input": "2023-12-07T23:37:37.991854Z",
     "iopub.status.busy": "2023-12-07T23:37:37.991651Z",
     "iopub.status.idle": "2023-12-07T23:37:37.996265Z",
     "shell.execute_reply": "2023-12-07T23:37:37.995555Z",
     "shell.execute_reply.started": "2023-12-07T23:37:37.991835Z"
    },
    "tags": []
   },
   "outputs": [
    {
     "name": "stdout",
     "output_type": "stream",
     "text": [
      "5\n",
      "7\n"
     ]
    }
   ],
   "source": [
    "x = 5\n",
    "print(x)\n",
    "x = 7\n",
    "print(x)"
   ]
  },
  {
   "cell_type": "markdown",
   "metadata": {},
   "source": [
    "In this example, the first time we display `x`, its value is `5`. The second time we display `x`, its value\n",
    "is `7`.\n",
    "\n",
    "A common kind of reassignment is an update, where the new value of the variable depends on\n",
    "the old.\n",
    "\n",
    "<div class=\"alert alert-info\"><h4>1.</h4><p>Create a new notebook and name it Lesson4_Tasks.</p></div>\n",
    "\n",
    "<div class=\"alert alert-info\"><h4>2.</h4><p>In a code cell, test the following variable update:</p></div>\n",
    "\n",
    "```python\n",
    "y = 4\n",
    "print(y)\n",
    "y = y + 1\n",
    "print(y)\n",
    "```"
   ]
  },
  {
   "cell_type": "markdown",
   "metadata": {},
   "source": [
    "In this example, we set the value of `y` to be `4`. Then we get the current value of `y`, add one, and\n",
    "update `y` with the new value.\n",
    "\n",
    "If we tried to do the 2nd step before we set the value of `y` to be `4`, we’d get an error, because\n",
    "Python evaluates the right side before it assigns a value to `y`.\n",
    "\n",
    "Before you can update a variable, you have to **initialize** it.\n",
    "\n",
    "Updating a variable by adding 1 is called an **increment**; subtracting 1 is called a **decrement**."
   ]
  },
  {
   "cell_type": "markdown",
   "metadata": {},
   "source": [
    "# The `for` Loop\n",
    "\n",
    "In this class, you'll learn to iterate over a sequence of elements using the different variations of the **`for`** loop. We use a **`for`** loop when we want to repeat a code block for a **fixed number of times**."
   ]
  },
  {
   "cell_type": "markdown",
   "metadata": {},
   "source": [
    "## What is a `for` loop? \n",
    "\n",
    "The for loop in Python is used to iterate over a sequence (**[string](https://github.com/milaan9/02_Python_Datatypes/blob/main/002_Python_String.ipynb)**, **[list](https://github.com/milaan9/02_Python_Datatypes/blob/main/003_Python_List.ipynb)**, **[dictionary](https://github.com/milaan9/02_Python_Datatypes/blob/main/005_Python_Dictionary.ipynb)**, **[set](https://github.com/milaan9/02_Python_Datatypes/blob/main/006_Python_Sets.ipynb)**, or **[tuple](https://github.com/milaan9/02_Python_Datatypes/blob/main/004_Python_Tuple.ipynb)**)."
   ]
  },
  {
   "cell_type": "markdown",
   "metadata": {},
   "source": [
    "## Why use `for` loops?\n",
    "\n",
    "* **Definite Iteration:** When we know how many times we wanted to run a loop, then we use count-controlled loops such as **`for`** loops. It is also known as definite iteration. \n",
    ">For example, Calculate the percentage of 50 students. here we know we need to iterate a loop 50 times (1 iteration for each student).\n",
    "* **Reduces the code’s complexity:** A loop repeats a specific block of code a fixed number of times. It reduces the repetition of lines of code, thus reducing the complexity of the code. By using **`for`** loops and **`while`** loops, we can automate and repeat tasks in an efficient manner.\n",
    "* **Loop through sequences:** We can also use **`for`** loops to iterate over lists, strings, tuples, dictionaries, etc., and perform various operations on the items within the sequence."
   ]
  },
  {
   "cell_type": "markdown",
   "metadata": {},
   "source": [
    "### Syntax :\n",
    "\n",
    "```python  \n",
    "for element in sequence:\n",
    "    # Statements \n",
    "```\n",
    "\n",
    "1. In this example, we are iterating through **`sequence`**.\n",
    "\n",
    "2. Each item of **`sequence`** gets assigned to **`element`** - one at a time.\n",
    "\n",
    "3. All of the **`statements`** in the body of the for loop are executed with each value in **`sequence`**. \n",
    "\n",
    "4. The loop continues until we reach the last item in the **`sequence`**. \n",
    "\n",
    "> The body of for loop is separated from the rest of the code using indentation.\n",
    "\n",
    "<div>\n",
    "<img src=\"images/for0.png\" width=\"400\"/>\n",
    "</div>"
   ]
  },
  {
   "cell_type": "code",
   "execution_count": 2,
   "metadata": {
    "ExecuteTime": {
     "end_time": "2021-10-04T12:09:49.251313Z",
     "start_time": "2021-10-04T12:09:49.240575Z"
    },
    "execution": {
     "iopub.execute_input": "2023-12-07T23:37:37.997164Z",
     "iopub.status.busy": "2023-12-07T23:37:37.996962Z",
     "iopub.status.idle": "2023-12-07T23:37:38.141318Z",
     "shell.execute_reply": "2023-12-07T23:37:38.139442Z",
     "shell.execute_reply.started": "2023-12-07T23:37:37.997146Z"
    }
   },
   "outputs": [
    {
     "name": "stdout",
     "output_type": "stream",
     "text": [
      "one\n",
      "two\n",
      "three\n",
      "four\n",
      "five\n"
     ]
    }
   ],
   "source": [
    "# Example\n",
    "\n",
    "words = ['one', 'two', 'three', 'four', 'five']\n",
    "for i in words:\n",
    "    print(i)"
   ]
  },
  {
   "cell_type": "markdown",
   "metadata": {},
   "source": [
    "# Lists\n",
    "\n",
    "Wait what was that all about?!\n",
    "\n",
    "Don't worry, we haven't discussed lists yet, but we can do that here.\n",
    "\n",
    "\n",
    "## Defining a List\n",
    "\n",
    "A list is a versatile and mutable data type in Python that can hold elements of different data types. Elements in a list are ordered and can be accessed by their index.\n",
    "\n",
    "<div class=\"alert alert-info\"><h4>3.</h4><p>In new code cell, define the following list:</p></div>\n",
    "\n",
    "```python\n",
    "# Defining a list\n",
    "my_list = [1, 2, 3, 'apple', 'banana', True, 3.14]\n",
    "print('Original List:', my_list)\n",
    "```\n",
    "\n",
    "## The length of a List\n",
    "\n",
    "You can determine the length of a list by using the built-in python function `len()`\n",
    "\n",
    "<div class=\"alert alert-info\"><h4>4.</h4><p>Determine the length of your list:</p></div>\n",
    "\n",
    "```python\n",
    "# Print length of list\n",
    "print('Length of the list:', len(my_list))\n",
    "```\n",
    "\n",
    "## Indexing (including negative indices)\n",
    "\n",
    "List indices start at 0, meaning the first element is at index 0. Negative indices count from the end, with -1 representing the last element.\n",
    "\n",
    "<div class=\"alert alert-info\"><h4>5.</h4><p>In new code cell, print the first and last elements in your list:</p></div>\n",
    "\n",
    "```python\n",
    "# Indexing\n",
    "first_element = my_list[0]\n",
    "last_element = my_list[-1]\n",
    "print('First Element:', first_element)\n",
    "print('Last Element:', last_element)\n",
    "```\n",
    "\n",
    "## Slicing\n",
    "\n",
    "Slicing allows you to create a new list by extracting a portion of an existing list.\n",
    "\n",
    "<div class=\"alert alert-info\"><h4>6.</h4><p>In new code cell, print the 3rd to 5th elements in your list:</p></div>\n",
    "\n",
    "```python\n",
    "# Slicing\n",
    "subset = my_list[2:5]  # Elements from index 2 to 4 (5-1)\n",
    "print('Subset:', subset)\n",
    "```\n",
    "\n",
    "## Append\n",
    "\n",
    "The `append` method adds an element to the end of the list.\n",
    "\n",
    "<div class=\"alert alert-info\"><h4>7.</h4><p>In new code cell, add the following string to the end of your list:</p></div>\n",
    "\n",
    "\n",
    "```python\n",
    "# Append\n",
    "my_list.append('grape')\n",
    "print('List after Append:', my_list)\n",
    "```\n",
    "\n",
    "## Del\n",
    "\n",
    "The `del` statement removes an element or a slice from a list.\n",
    "\n",
    "<div class=\"alert alert-info\"><h4>8.</h4><p>In new code cell, remove the 3rd item from your list:</p></div>\n",
    "\n",
    "```python\n",
    "# Del\n",
    "del my_list[2]  # Removes the element at index 2\n",
    "print('List after Del:', my_list)\n",
    "```"
   ]
  },
  {
   "cell_type": "markdown",
   "metadata": {},
   "source": [
    "# Back to loops\n",
    "\n",
    "It's often useful to iterate through the items in a list.\n",
    "\n",
    "For instance, if you wanted to calculate the sum and/or average of all of the items in a list, you could do something like the following:"
   ]
  },
  {
   "cell_type": "code",
   "execution_count": 3,
   "metadata": {
    "ExecuteTime": {
     "end_time": "2021-10-04T12:09:49.282564Z",
     "start_time": "2021-10-04T12:09:49.259620Z"
    },
    "execution": {
     "iopub.execute_input": "2023-12-07T23:37:38.144273Z",
     "iopub.status.busy": "2023-12-07T23:37:38.143613Z",
     "iopub.status.idle": "2023-12-07T23:37:38.156274Z",
     "shell.execute_reply": "2023-12-07T23:37:38.154862Z",
     "shell.execute_reply.started": "2023-12-07T23:37:38.144217Z"
    },
    "tags": []
   },
   "outputs": [
    {
     "name": "stdout",
     "output_type": "stream",
     "text": [
      "Sum = 150\n",
      "Average = 30.0\n"
     ]
    }
   ],
   "source": [
    "# Define your list\n",
    "numbers = [10, 20, 30, 40, 50]\n",
    "\n",
    "# Define a variable used for calculating the sum\n",
    "total = 0\n",
    "\n",
    "# Iterate through the items in the list\n",
    "for i in numbers:\n",
    "    # Add the current number to the sum\n",
    "    total = total + i\n",
    "\n",
    "# Determine number of items in the list\n",
    "list_size = len(numbers)\n",
    "\n",
    "# Calculate the average\n",
    "average = total / list_size\n",
    "print(f'Sum = {total}')\n",
    "print(f'Average = {average}')"
   ]
  },
  {
   "cell_type": "markdown",
   "metadata": {},
   "source": [
    "> **Notice here that we had to define `total` before the `for` loop in order to update it!**"
   ]
  },
  {
   "cell_type": "markdown",
   "metadata": {},
   "source": [
    "## Using the `for` loop with the `range()` function\n",
    "\n",
    "The **[range()](https://github.com/milaan9/04_Python_Functions/blob/main/002_Python_Functions_Built_in/053_Python_range%28%29.ipynb)** function returns a sequence of numbers starting from 0 (by default) and it increments by 1 (by default) until a final limit is reached.\n",
    "\n",
    ">The **`range()`** function is often used with for loops to specify the how many times the code block will be executed. \n",
    "\n",
    "For example, **`range(5)`** will generate numbers from 0 to 4 (5 numbers). \n",
    "\n",
    "<div>\n",
    "<img src=\"images/forrange.png\" width=\"600\"/>\n",
    "</div>\n",
    "\n",
    "This **`range()`** function does not store all the values in memory; it would be inefficient. So it remembers the start, stop, step size and generates the next number on the go.\n",
    "\n",
    "We can also define the start, stop and step size as **`range(start, stop, step_size)`**. The **`step_size`** defaults to 1 if not provided."
   ]
  },
  {
   "cell_type": "code",
   "execution_count": 4,
   "metadata": {
    "ExecuteTime": {
     "end_time": "2021-10-04T12:09:49.435886Z",
     "start_time": "2021-10-04T12:09:49.292334Z"
    },
    "execution": {
     "iopub.execute_input": "2023-12-07T23:37:38.157828Z",
     "iopub.status.busy": "2023-12-07T23:37:38.157493Z",
     "iopub.status.idle": "2023-12-07T23:37:38.169404Z",
     "shell.execute_reply": "2023-12-07T23:37:38.168426Z",
     "shell.execute_reply.started": "2023-12-07T23:37:38.157798Z"
    },
    "tags": []
   },
   "outputs": [
    {
     "name": "stdout",
     "output_type": "stream",
     "text": [
      "[0, 1, 2, 3, 4, 5, 6, 7, 8, 9]\n",
      "[1, 2, 3, 4, 5, 6, 7, 8, 9]\n",
      "[1, 3, 5, 7, 9]\n"
     ]
    }
   ],
   "source": [
    "# Examples\n",
    "\n",
    "# using range(stop)\n",
    "print(list(range(10)))\n",
    "\n",
    "# using range(start, stop)\n",
    "print(list(range(1, 10)))\n",
    "\n",
    "# using range(start, stop, stepsize)\n",
    "print(list(range(1, 10, 2)))"
   ]
  },
  {
   "cell_type": "markdown",
   "metadata": {},
   "source": [
    "<div class=\"alert alert-info\"><h4>9.</h4><p>In separate code cells, try out each of the following three for loops:</p></div>\n",
    "\n",
    "```python\n",
    "for num in range(4):\n",
    "    print(num)\n",
    "```\n",
    "\n",
    "```python\n",
    "for i in range(1, 5):\n",
    "    print(num)\n",
    "```\n",
    "\n",
    "```python\n",
    "for i in range (2, 5, 2):\n",
    "    print(num)\n",
    "```"
   ]
  },
  {
   "cell_type": "markdown",
   "metadata": {},
   "source": [
    "## `for` loops with `if-else`\n",
    "\n",
    "A **`for`** loop can include  `if`-`else` statements. \n",
    "\n",
    "Remember that the **`if-else`** checks the condition and if the condition is **`True`** it executes the block of code present inside the **`if`** block and if the condition is **`False`**, it will execute the block of code present inside the **`else`** block."
   ]
  },
  {
   "cell_type": "code",
   "execution_count": 5,
   "metadata": {
    "ExecuteTime": {
     "end_time": "2021-10-04T12:09:50.657566Z",
     "start_time": "2021-10-04T12:09:50.539403Z"
    },
    "execution": {
     "iopub.execute_input": "2023-12-07T23:37:38.170672Z",
     "iopub.status.busy": "2023-12-07T23:37:38.170443Z",
     "iopub.status.idle": "2023-12-07T23:37:38.188278Z",
     "shell.execute_reply": "2023-12-07T23:37:38.187333Z",
     "shell.execute_reply.started": "2023-12-07T23:37:38.170651Z"
    },
    "tags": []
   },
   "outputs": [
    {
     "name": "stdout",
     "output_type": "stream",
     "text": [
      "Odd Number: 1\n",
      "Even Number: 2\n",
      "Odd Number: 3\n",
      "Even Number: 4\n",
      "Odd Number: 5\n"
     ]
    }
   ],
   "source": [
    "# Example: Print all even and odd numbers\n",
    "for i in range(1, 6):\n",
    "    if i % 2 == 0:\n",
    "        print('Even Number:', i)\n",
    "    else:\n",
    "        print('Odd Number:', i)"
   ]
  },
  {
   "cell_type": "markdown",
   "metadata": {},
   "source": [
    "## Using Control Statements in `for` loops\n",
    "\n",
    "**Control statements** like **`break`** and **`continue`** can be used to control the execution flow of **`for`** loops in. Let's look at how this can be done."
   ]
  },
  {
   "cell_type": "markdown",
   "metadata": {},
   "source": [
    "### a) Using `break` in `for` loops\n",
    "\n",
    "Using the **`break`** statement, we can exit from the **`for`** loop before it has looped through all the elements in the sequence. \n",
    "\n",
    "In the for loop below, we break out of the **`for`** loop once we hit the number 3 in our list."
   ]
  },
  {
   "cell_type": "code",
   "execution_count": 6,
   "metadata": {
    "ExecuteTime": {
     "end_time": "2021-10-04T12:09:51.556493Z",
     "start_time": "2021-10-04T12:09:51.407569Z"
    },
    "execution": {
     "iopub.execute_input": "2023-12-07T23:37:38.190866Z",
     "iopub.status.busy": "2023-12-07T23:37:38.190601Z",
     "iopub.status.idle": "2023-12-07T23:37:38.209524Z",
     "shell.execute_reply": "2023-12-07T23:37:38.208226Z",
     "shell.execute_reply.started": "2023-12-07T23:37:38.190841Z"
    },
    "tags": []
   },
   "outputs": [
    {
     "name": "stdout",
     "output_type": "stream",
     "text": [
      "0\n",
      "1\n",
      "2\n",
      "3\n",
      "This print occurs outside of the for loop\n"
     ]
    }
   ],
   "source": [
    "numbers = [0,1,2,3,4,5]\n",
    "for number in numbers:\n",
    "    print(number)\n",
    "    if number == 3:\n",
    "        break\n",
    "print('This print occurs outside of the for loop')"
   ]
  },
  {
   "cell_type": "markdown",
   "metadata": {},
   "source": [
    "<div class=\"alert alert-info\"><h4>10.</h4><p>Before running the next snippet of code, try to guess what the print(i) statemtent will print.</p></div>\n",
    "\n",
    "```python\n",
    "color = ['Green', 'Pink', 'Blue']\n",
    "for i in color:\n",
    "    if (i == 'Pink'):\n",
    "        break\n",
    "print(i)\n",
    "```"
   ]
  },
  {
   "cell_type": "markdown",
   "metadata": {},
   "source": [
    "### b) Using `continue` in `for` loops\n",
    "\n",
    "The **`continue`** statement is used to skip the block of code in the loop for the current iteration only and continue with the next iteration. \n",
    "\n",
    "<div class=\"alert alert-info\"><h4>10.</h4><p>Before running the next snippet of code, try to guess what the print(i) statemtents will print.</p></div>\n",
    "\n",
    "```python\n",
    "color = ['Green', 'Pink', 'Blue']\n",
    "for i in color:\n",
    "    if (i == 'Pink'):\n",
    "        continue\n",
    "    print(i)\n",
    "```"
   ]
  },
  {
   "cell_type": "markdown",
   "metadata": {},
   "source": [
    "### c) `pass` in `for` loop\n",
    "\n",
    "The **`pass`** statement is a null statement, i.e., nothing happens when the statement is executed. Primarily they are used in empty functions when they are in the development stage. When the interpreter finds a pass statement in the program, it returns no operation."
   ]
  },
  {
   "cell_type": "code",
   "execution_count": 7,
   "metadata": {
    "ExecuteTime": {
     "end_time": "2021-10-04T12:09:52.625830Z",
     "start_time": "2021-10-04T12:09:52.493506Z"
    },
    "execution": {
     "iopub.execute_input": "2023-12-07T23:37:38.211088Z",
     "iopub.status.busy": "2023-12-07T23:37:38.210770Z",
     "iopub.status.idle": "2023-12-07T23:37:38.227269Z",
     "shell.execute_reply": "2023-12-07T23:37:38.225923Z",
     "shell.execute_reply.started": "2023-12-07T23:37:38.211059Z"
    },
    "tags": []
   },
   "outputs": [],
   "source": [
    "# Example\n",
    "for number in range(6):\n",
    "    # Fill in code here later\n",
    "    pass"
   ]
  },
  {
   "cell_type": "markdown",
   "metadata": {},
   "source": [
    "There are many helper functions that make **`for`** loops even more powerful and easy to use. For example **[enumerate()](https://github.com/milaan9/04_Python_Functions/blob/main/002_Python_Functions_Built_in/018_Python_enumerate%28%29.ipynb)**, **[zip()](https://github.com/milaan9/04_Python_Functions/blob/main/002_Python_Functions_Built_in/066_Python_zip%28%29.ipynb)**, **[sorted()](https://github.com/milaan9/04_Python_Functions/blob/main/002_Python_Functions_Built_in/060_Python_sorted%28%29.ipynb)**, **[reversed()](https://github.com/milaan9/04_Python_Functions/blob/main/002_Python_Functions_Built_in/055_Python_reversed%28%29.ipynb)**"
   ]
  },
  {
   "cell_type": "code",
   "execution_count": 8,
   "metadata": {
    "ExecuteTime": {
     "end_time": "2021-10-04T12:09:53.129735Z",
     "start_time": "2021-10-04T12:09:53.015969Z"
    },
    "execution": {
     "iopub.execute_input": "2023-12-07T23:37:38.229689Z",
     "iopub.status.busy": "2023-12-07T23:37:38.228731Z",
     "iopub.status.idle": "2023-12-07T23:37:38.241771Z",
     "shell.execute_reply": "2023-12-07T23:37:38.240633Z",
     "shell.execute_reply.started": "2023-12-07T23:37:38.229648Z"
    },
    "tags": []
   },
   "outputs": [
    {
     "name": "stdout",
     "output_type": "stream",
     "text": [
      "reversed:\n",
      "c\n",
      "b\n",
      "a\n",
      "\n",
      "enuemerated:\n",
      "0 = a\n",
      "1 = b\n",
      "2 = c\n",
      "\n",
      "zip'ed: \n",
      "a : x\n",
      "b : y\n",
      "c : z\n"
     ]
    }
   ],
   "source": [
    "# Examples:\n",
    "\n",
    "print(\"reversed:\")\n",
    "for ch in reversed(\"abc\"):\n",
    "    print(ch)\n",
    "\n",
    "print(\"\\nenuemerated:\")\n",
    "for i,ch in enumerate(\"abc\"):\n",
    "    print(i,\"=\",ch)\n",
    "    \n",
    "print(\"\\nzip'ed: \")\n",
    "for a,x in zip(\"abc\",\"xyz\"):\n",
    "    print(a,\":\",x)"
   ]
  },
  {
   "cell_type": "markdown",
   "metadata": {},
   "source": [
    "## Nested `for` loops\n",
    "\n",
    "**A nested `for` loop** is a **`for`** loop inside another **`for`** a loop. \n",
    "\n",
    "A nested loop has one loop inside of another. In Python, you can use any loop inside any other loop. For instance, a **`for`** loop inside a while loop, a **`while`** inside **`for`** in and so on.\n",
    "\n",
    "> In nested loops, the inner loop finishes all of its iteration for each iteration of the outer loop. \n",
    "\n",
    "\n",
    "**Syntax:**\n",
    "\n",
    "```python\n",
    "# outer for loop\n",
    "for element1 in sequence1: \n",
    "    # inner for loop\n",
    "    for element2 in sequence:\n",
    "        # body of inner for loop\n",
    "    # body of outer for loop\n",
    "# other statements\n",
    "```"
   ]
  },
  {
   "cell_type": "markdown",
   "metadata": {},
   "source": [
    "### A `for` loop inside a `for` loop"
   ]
  },
  {
   "cell_type": "markdown",
   "metadata": {},
   "source": [
    "In this example, we are using a **`for`** loop inside a **`for`** loop. In this example, we are printing a multiplication table of the first ten numbers.\n",
    "\n",
    "<div>\n",
    "<img src=\"images/nforloop1.png\" width=\"600\"/>\n",
    "</div>\n",
    "\n",
    "1. Both **`for`** loops use the **[range()](https://github.com/milaan9/04_Python_Functions/blob/main/002_Python_Functions_Built_in/053_Python_range%28%29.ipynb)** function to iterate over the first ten numbers (1-10).\n",
    "2. The inner **`for`** loop will execute ten times for each outer number\n",
    "3. In the body of the inner loop, we will print the multiplication of the outer number and current inner number\n",
    "\n",
    "<div class=\"alert alert-info\"><h4>11.</h4><p>In a new code cell, try out the above nested for loop.</p></div>"
   ]
  },
  {
   "cell_type": "markdown",
   "metadata": {},
   "source": [
    "# The `while` Loop"
   ]
  },
  {
   "cell_type": "markdown",
   "metadata": {},
   "source": [
    "## What is a `while` loop?\n",
    "\n",
    "The **`while`** loop in Python is used to iterate over a block of code as long as the expression/condition is **`True`**. When the condition becomes **`False`**, execution comes out of the loop immediately.\n",
    "\n",
    "### Use Cases:\n",
    "\n",
    "- Ideal when you don't know in advance how many iterations are needed.\n",
    "- Useful for scenarios where the number of iterations depends on a certain condition.\n",
    "\n",
    "> Note: Python interprets any non-zero value as **`True`**, whereas **`None`** and **`0`** are interpreted as **`False`**."
   ]
  },
  {
   "cell_type": "markdown",
   "metadata": {},
   "source": [
    "### Syntax: \n",
    "\n",
    "```python\n",
    "while condition:\n",
    "    #body of while loop\n",
    "```\n",
    "1. In the **`while`** loop, the expression/condition is checked first.\n",
    "2. The body of the loop is entered only if the expression/condition evaluates to **`True`**.\n",
    "3. After one iteration, the expression/condition is checked again. This process continues until the test_expression evaluates to **`False`**.\n",
    "\n",
    "<div>\n",
    "<img src=\"images/wh0.png\" width=\"400\"/>\n",
    "</div>\n",
    "\n",
    ">**Note:** An **infinite loop** occurs when a program keeps executing within one loop, never leaving it. To exit out of infinite loops on the command line, press **CTRL + C**. In a notebook, you can use the `Stop` button."
   ]
  },
  {
   "cell_type": "code",
   "execution_count": 9,
   "metadata": {
    "execution": {
     "iopub.execute_input": "2023-12-07T23:37:38.243131Z",
     "iopub.status.busy": "2023-12-07T23:37:38.242800Z",
     "iopub.status.idle": "2023-12-07T23:37:38.373366Z",
     "shell.execute_reply": "2023-12-07T23:37:38.371605Z",
     "shell.execute_reply.started": "2023-12-07T23:37:38.243102Z"
    },
    "tags": []
   },
   "outputs": [
    {
     "name": "stdout",
     "output_type": "stream",
     "text": [
      "Sum of first 10 numbers is: 55\n"
     ]
    }
   ],
   "source": [
    "# Example\n",
    "\n",
    "num = 10\n",
    "\n",
    "# Define a variable to keep track of the sum\n",
    "total = 0\n",
    "\n",
    "# Define a variable as the counter\n",
    "i = 1\n",
    "\n",
    "# Continue the while loop for as long as i is less than 10\n",
    "while i <= num:\n",
    "    total = total + i\n",
    "    i = i + 1\n",
    "print(\"Sum of first 10 numbers is:\", total)"
   ]
  },
  {
   "cell_type": "markdown",
   "metadata": {
    "execution": {
     "iopub.execute_input": "2023-12-07T22:35:29.550639Z",
     "iopub.status.busy": "2023-12-07T22:35:29.548829Z",
     "iopub.status.idle": "2023-12-07T22:35:43.059184Z",
     "shell.execute_reply": "2023-12-07T22:35:43.057313Z",
     "shell.execute_reply.started": "2023-12-07T22:35:29.550569Z"
    },
    "tags": []
   },
   "source": [
    "<div class=\"alert alert-info\"><h4>12.</h4><p>In a new code cell, try out the following code:</p></div>\n",
    "\n",
    "```python\n",
    "# Example of a while True loop with a break statement\n",
    "while True:\n",
    "    user_input = input(\"Enter a number (type 'exit' to end): \")\n",
    "\n",
    "    if user_input == 'exit':\n",
    "        print(\"Exiting the loop.\")\n",
    "        break\n",
    "\n",
    "    try:\n",
    "        number = float(user_input)\n",
    "        square = number ** 2\n",
    "        print(f\"The square of {number} is {square}\")\n",
    "    except ValueError:\n",
    "        print(\"Invalid input. Please enter a valid number or type 'exit' to end.\")\n",
    "```"
   ]
  },
  {
   "cell_type": "markdown",
   "metadata": {},
   "source": [
    "## Debugging\n",
    "\n",
    "As you start writing bigger programs, you might find yourself spending more time debugging.\n",
    "\n",
    "More code means more chances to make an error and more places for bugs to hide.\n",
    "\n",
    "One way to cut your debugging time is **debugging by bisection**. For example, if there are 100 lines in your program and you check them one at a time, it would take 100 steps.\n",
    "\n",
    "Instead, try to break the problem in half. Look at the middle of the program, or near it, for an intermediate value you can check. Add a print statement (or something else that has a verifiable effect) and run the program.\n",
    "\n",
    "If the mid-point check is incorrect, there must be a problem in the first half of the program. If it is correct, the problem is in the second half.\n",
    "\n",
    "Evey time you perform a check like this, you halve the number of lines you have to search.\n",
    "After six steps (which is fewer than 100), you would be down to one or two lines of code, at\n",
    "least in theory.\n",
    "\n",
    "In practice, it is not always clear what the middle of the program is and not always possible to\n",
    "check it. It doesn’t make sense to count lines and find the exact midpoint. Instead, think about\n",
    "places in the program where there might be errors and places where it is easy to put a check.\n",
    "Then choose a spot where you think the chances are about the same that the bug is before or\n",
    "after the check."
   ]
  },
  {
   "cell_type": "markdown",
   "metadata": {},
   "source": [
    "## Glossary\n",
    "\n",
    "This list may help you to understand the terms used in this lesson.\n",
    "\n",
    "- **decrement:** An update that decreases the value of a variable (often by one).\n",
    "\n",
    "- **increment:** An update that increases the value of a variable (often by one).\n",
    "- **infinite loop:** A loop in which the terminating condition is never satisfied.\n",
    "- **initialization:** An assignment that gives an initial value to a variable that will be updated.\n",
    "- **iteration:** Repeated execution of a set of statements using a loop.\n",
    "- **reassignment:** Assigning a new value to a variable that already exists.\n",
    "- **update:** An assignment where the new value of the variable depends on the old."
   ]
  },
  {
   "cell_type": "markdown",
   "metadata": {},
   "source": [
    "## Challenge\n",
    "\n",
    "**1. Download `Challenge_26.ipynb` from Teams.**\n",
    "\n",
    "**2. Upload this file into your own *Project* on Deepnote by dragging the `Challenge_26.ipynb` file onto the Notebooks tab on the left-hand side.** \n",
    "\n",
    "**3. Use this notebook to complete Challenge 26 in Deepnote.**"
   ]
  },
  {
   "cell_type": "code",
   "execution_count": null,
   "metadata": {},
   "outputs": [],
   "source": []
  }
 ],
 "metadata": {
  "hide_input": false,
  "kernelspec": {
   "display_name": "Python 3 (ipykernel)",
   "language": "python",
   "name": "python3"
  },
  "language_info": {
   "codemirror_mode": {
    "name": "ipython",
    "version": 3
   },
   "file_extension": ".py",
   "mimetype": "text/x-python",
   "name": "python",
   "nbconvert_exporter": "python",
   "pygments_lexer": "ipython3",
   "version": "3.10.12"
  },
  "toc": {
   "base_numbering": 1,
   "nav_menu": {},
   "number_sections": true,
   "sideBar": true,
   "skip_h1_title": false,
   "title_cell": "Table of Contents",
   "title_sidebar": "Contents",
   "toc_cell": false,
   "toc_position": {},
   "toc_section_display": true,
   "toc_window_display": false
  },
  "varInspector": {
   "cols": {
    "lenName": 16,
    "lenType": 16,
    "lenVar": 40
   },
   "kernels_config": {
    "python": {
     "delete_cmd_postfix": "",
     "delete_cmd_prefix": "del ",
     "library": "var_list.py",
     "varRefreshCmd": "print(var_dic_list())"
    },
    "r": {
     "delete_cmd_postfix": ") ",
     "delete_cmd_prefix": "rm(",
     "library": "var_list.r",
     "varRefreshCmd": "cat(var_dic_list()) "
    }
   },
   "types_to_exclude": [
    "module",
    "function",
    "builtin_function_or_method",
    "instance",
    "_Feature"
   ],
   "window_display": false
  }
 },
 "nbformat": 4,
 "nbformat_minor": 4
}
