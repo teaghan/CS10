{
 "cells": [
  {
   "cell_type": "markdown",
   "metadata": {
    "cell_id": "e9ef7860c76342f1a622247bb05ebcf3",
    "deepnote_cell_type": "markdown"
   },
   "source": [
    "# Variables, Expressions and Statements\n",
    "\n",
    "*By completing these challenges, you'll demonstrate that you understand key programming concepts.*\n",
    "\n",
    "This notebook will give you a file to organize your answers and show some code to support your answers.\n",
    "\n",
    "**Remember to provide full sentence answers in Markdown cells as well as code to support your answer where necessary.**"
   ]
  },
  {
   "cell_type": "markdown",
   "metadata": {
    "cell_id": "112d9d3ba4bd437898fe2c9ad6431ce6",
    "deepnote_cell_type": "markdown"
   },
   "source": [
    "*Repeating my advice from the previous challenge, whenever you learn a new feature, you should try it out in interactive mode and make errors on purpose to see what goes wrong.*\n",
    "\n",
    "1. You’ve seen that `n = 42` is legal. What about `42 = n`?"
   ]
  },
  {
   "cell_type": "markdown",
   "metadata": {
    "cell_id": "233ee56d4dbd4ed080b6d7603a03b54a",
    "deepnote_cell_type": "markdown"
   },
   "source": []
  },
  {
   "cell_type": "code",
   "execution_count": null,
   "metadata": {
    "cell_id": "e8b8bdfcaee94e148974f19fa5c3f04e",
    "deepnote_cell_type": "code"
   },
   "outputs": [],
   "source": []
  },
  {
   "cell_type": "markdown",
   "metadata": {
    "cell_id": "434f0b76fe9b482e896c0ce52446b084",
    "deepnote_cell_type": "markdown"
   },
   "source": [
    "2. What about `x = y = 7`?"
   ]
  },
  {
   "cell_type": "markdown",
   "metadata": {
    "cell_id": "34bcef89f5954c83a3878e7b0aba63b0",
    "deepnote_cell_type": "markdown"
   },
   "source": []
  },
  {
   "cell_type": "code",
   "execution_count": null,
   "metadata": {
    "cell_id": "0eff992dd7d94c20aee55822fe117702",
    "deepnote_cell_type": "code"
   },
   "outputs": [],
   "source": []
  },
  {
   "cell_type": "markdown",
   "metadata": {
    "cell_id": "99ae5de62af045eda86434f5bac5bc76",
    "deepnote_cell_type": "markdown"
   },
   "source": [
    "3. In some programming languages every statement ends with a semicolon `;`. What happens if you put a semicolon at the end of a Python statement?"
   ]
  },
  {
   "cell_type": "markdown",
   "metadata": {
    "cell_id": "26c540fb371547b19f87ac21ee7b5265",
    "deepnote_cell_type": "markdown"
   },
   "source": []
  },
  {
   "cell_type": "code",
   "execution_count": null,
   "metadata": {
    "cell_id": "9a7c43ea0834441cb5d12c05f11e2bd2",
    "deepnote_cell_type": "code",
    "tags": []
   },
   "outputs": [],
   "source": []
  },
  {
   "cell_type": "markdown",
   "metadata": {
    "cell_id": "b3b58efa5a7e4fc4b192dcbc4cfcd3ac",
    "deepnote_cell_type": "markdown"
   },
   "source": [
    "4. What if you put a period at the end of a statement?"
   ]
  },
  {
   "cell_type": "markdown",
   "metadata": {
    "cell_id": "c4b4c18327da4efe819fb4db128069e0",
    "deepnote_cell_type": "markdown"
   },
   "source": []
  },
  {
   "cell_type": "code",
   "execution_count": null,
   "metadata": {
    "cell_id": "785eeb0dd69c45a4a330e06868a381c1",
    "deepnote_cell_type": "code"
   },
   "outputs": [],
   "source": []
  },
  {
   "cell_type": "markdown",
   "metadata": {
    "cell_id": "5f6eeb8b8f174ac3a98b6c8484864183",
    "deepnote_cell_type": "markdown"
   },
   "source": [
    "5. In math notation you can multiply `x` and `y` like this: `xy`. What happens if you try that in Python?\n",
    "\n",
    "(Note that you defined `x` and `y` above using the statement `x = y = 7`)"
   ]
  },
  {
   "cell_type": "markdown",
   "metadata": {
    "cell_id": "011dd2b6d7c3487e9f1fbb747ea90391",
    "deepnote_cell_type": "markdown"
   },
   "source": []
  },
  {
   "cell_type": "code",
   "execution_count": null,
   "metadata": {
    "cell_id": "5315f179152047b5b6fd12db9c55ae18",
    "deepnote_cell_type": "code"
   },
   "outputs": [],
   "source": []
  },
  {
   "cell_type": "markdown",
   "metadata": {
    "cell_id": "78230c3d193a4e09a128b1de4c51ebf2",
    "deepnote_cell_type": "markdown"
   },
   "source": [
    "6. Assume that we execute the following assignment statements:\n",
    "```python\n",
    "width = 17\n",
    "height = 12.0\n",
    "delimiter = '.'\n",
    "```\n",
    "\n",
    "For each of the following expressions, write the result and the type (of the result).\n",
    "\n",
    "- a. `width/2`\n",
    "- b. `width/2.0`\n",
    "- c. `height/3`\n",
    "- d. `1 + 2 * 5`\n",
    "- e. `delimiter * 5`"
   ]
  },
  {
   "cell_type": "markdown",
   "metadata": {
    "cell_id": "2136c275081e456b95f04ccbada83c60",
    "deepnote_cell_type": "markdown"
   },
   "source": []
  },
  {
   "cell_type": "code",
   "execution_count": null,
   "metadata": {
    "cell_id": "88da1b39fb7f41a88db0035335bea2b0",
    "deepnote_cell_type": "code"
   },
   "outputs": [],
   "source": []
  },
  {
   "cell_type": "markdown",
   "metadata": {
    "cell_id": "bd1d2c3596c245df8b67846f4d36f778",
    "deepnote_cell_type": "markdown"
   },
   "source": [
    "7. The volume of a sphere with radius $r$ is $\\frac{4}{3}\\pi r^3$. What is the volume of a sphere with radius 5? Be sure to include your code and answer in the cells below."
   ]
  },
  {
   "cell_type": "code",
   "execution_count": null,
   "metadata": {
    "cell_id": "306f1b1c4f3e414ab4334ef0e4fac8d4",
    "deepnote_cell_type": "code"
   },
   "outputs": [],
   "source": []
  },
  {
   "cell_type": "markdown",
   "metadata": {
    "cell_id": "99b40c8f7d524471907b59e3b962e30d",
    "deepnote_cell_type": "markdown"
   },
   "source": []
  },
  {
   "cell_type": "markdown",
   "metadata": {
    "cell_id": "19de593b5f254eee9a25c7a392831b22",
    "deepnote_cell_type": "markdown"
   },
   "source": [
    "In the next few questions, **use script mode to write these programs and run them from the command line** (you may want to review Script Mode from Lesson 2). Take a screen shot of your code and the result when you ran the code. Add both screenshots to your portfolio. (Don’t forget to use comments appropriately!)\n",
    "\n",
    "8. Write a program that will ask for the total price of the bill, then ask how many diners there are. Divide the total bill by the number of diners and show how much each person must pay.\n",
    "\n",
    "9. Write a program that will ask for a number of days and then will show how many hours, minutes, and seconds are in that number of days.\n",
    "\n",
    "10. Write a program that will ask the user to enter their first name, then ask them to enter their middle name, then ask them to enter their surname. Join them together with a space between names and display their complete name.\n",
    "\n",
    "**Bonus:**\n",
    "\n",
    "Use this notebook to answer the following questions:\n",
    "\n",
    "11. Suppose the cover price of a book is \\$24.95, but bookstores get a 40\\% discount. Shipping costs \\$3 for the first copy and 75 cents for each additional copy. What is the total wholesale cost for 60 copies?\n",
    "\n",
    "12. If I leave my house at 06:52:00 am and run 1 mile at an easy pace (00:08:15 per mile), then 3 miles at tempo (00:07:12 per mile) and 1 mile at an easy pace again, what time do I get home for breakfast?\n",
    "\n",
    "13. Define the following variables:\n",
    "```python\n",
    "a = 2\n",
    "b = 3\n",
    "c = 2\n",
    "```\n",
    "\n",
    "Find and print the result of the following mathematical formula:\n",
    "\n",
    "$result = 6a^3 - \\frac{8b^2 }{4c} + 11$"
   ]
  },
  {
   "cell_type": "code",
   "execution_count": null,
   "metadata": {},
   "outputs": [],
   "source": []
  },
  {
   "cell_type": "code",
   "execution_count": null,
   "metadata": {},
   "outputs": [],
   "source": []
  },
  {
   "cell_type": "markdown",
   "metadata": {},
   "source": [
    "When you’ve finished this challenge, call me over to look at your portfolio and sign off on it."
   ]
  },
  {
   "cell_type": "code",
   "execution_count": null,
   "metadata": {},
   "outputs": [],
   "source": []
  }
 ],
 "metadata": {
  "deepnote": {},
  "deepnote_execution_queue": [],
  "deepnote_notebook_id": "3180af78827d4455bf172f03f634ae8d",
  "kernelspec": {
   "display_name": "Python 3 (ipykernel)",
   "language": "python",
   "name": "python3"
  },
  "language_info": {
   "codemirror_mode": {
    "name": "ipython",
    "version": 3
   },
   "file_extension": ".py",
   "mimetype": "text/x-python",
   "name": "python",
   "nbconvert_exporter": "python",
   "pygments_lexer": "ipython3",
   "version": "3.10.12"
  }
 },
 "nbformat": 4,
 "nbformat_minor": 4
}
