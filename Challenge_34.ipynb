{
 "cells": [
  {
   "cell_type": "markdown",
   "id": "66035d1e-d563-472e-8f78-01f8220578b5",
   "metadata": {},
   "source": [
    "# File I/O\n",
    "\n",
    "*By completing these challenges, you'll demonstrate that you understand key programming concepts.*\n",
    "\n",
    "**Use the provided code cells to answer all of the following question.**\n",
    "\n",
    "When you’ve finished, call me over to read it and sign off on it. I’ll also want to run your programs, so make sure the notebook runs properly!\n",
    "\n",
    "Don’t forget to use comments appropriately."
   ]
  },
  {
   "cell_type": "markdown",
   "id": "4806597f-93d3-4f9f-a69f-7f67b4ff08f4",
   "metadata": {},
   "source": [
    "\n",
    "### Level 1\n",
    "\n",
    "1. Write a function which counts number of lines and number of words in a text file.\n",
    "Use this function to read and count the number of lines and words in the following files:\n",
    "- `speech_barack_obama.txt`\n",
    "- `speech_michelle_obama.txt`\n",
    "- `speech_donald_trump.txt`\n",
    "- `speech_melina_trump.txt`"
   ]
  },
  {
   "cell_type": "code",
   "execution_count": null,
   "id": "17f64898-5971-4e9b-978f-2443ad603445",
   "metadata": {},
   "outputs": [],
   "source": []
  },
  {
   "cell_type": "markdown",
   "id": "b4bc283a-746e-4a7a-825a-a2a47f437d17",
   "metadata": {},
   "source": [
    "### Level 2\n",
    "\n",
    "2. Extract all incoming email addresses as a list from the `email_exchanges_big.txt` file."
   ]
  },
  {
   "cell_type": "code",
   "execution_count": null,
   "id": "cd93b362-dd47-4ec7-b0d3-3a52fb41c281",
   "metadata": {},
   "outputs": [],
   "source": []
  },
  {
   "cell_type": "markdown",
   "id": "e61507d9-6da5-4d33-99c3-03a83d4be6c0",
   "metadata": {},
   "source": [
    "3. Find the most common words a given text file; name of your function **`find_most_common_words`**\n",
    "\n",
    "The function will take two parameters: a file and a positive integer, indicating the number of words to return. Your function will return a list of tuples in descending order. \n",
    "\n",
    "```python\n",
    "# Your output should look like this\n",
    "print(find_most_common_words('sample.txt', 10))\n",
    "[(10, 'the'),\n",
    "(8, 'be'),\n",
    "(6, 'to'),\n",
    "(6, 'of'),\n",
    "(5, 'and'),\n",
    "(4, 'a'),\n",
    "(4, 'in'),\n",
    "(3, 'that'),\n",
    "(2, 'have'),\n",
    "(2, 'I')]\n",
    "\n",
    "# Your output should look like this\n",
    "print(find_most_common_words('sample.txt', 5))\n",
    "\n",
    "[(10, 'the'),\n",
    "(8, 'be'),\n",
    "(6, 'to'),\n",
    "(6, 'of'),\n",
    "(5, 'and')]\n",
    "```"
   ]
  },
  {
   "cell_type": "code",
   "execution_count": null,
   "id": "7996ef5a-57c3-44bb-b642-5a87ca6049ad",
   "metadata": {},
   "outputs": [],
   "source": []
  },
  {
   "cell_type": "markdown",
   "id": "d9c03236-9102-4fad-88a1-cd5af0a8c5fc",
   "metadata": {},
   "source": [
    "4. Adjust your function so that it now takes a third argument `output_file`, which is a string that denotes the path and filename of a `.txt` file. The function should use this path to save the results of the most common words, etc."
   ]
  },
  {
   "cell_type": "code",
   "execution_count": null,
   "id": "577bb915-1250-49d8-b9d8-ece43171b353",
   "metadata": {},
   "outputs": [],
   "source": []
  },
  {
   "cell_type": "markdown",
   "id": "843bf157-c749-4cb4-9dce-95fbdc4d89d9",
   "metadata": {},
   "source": [
    "5. Use the function, `find_most_frequent_words` to find the ten most common words in\n",
    "- `speech_barack_obama.txt`\n",
    "- `speech_michelle_obama.txt`\n",
    "- `speech_donald_trump.txt`\n",
    "- `speech_melina_trump.txt`"
   ]
  },
  {
   "cell_type": "code",
   "execution_count": null,
   "id": "18a5f5dd-90cf-48b4-acdb-dad024210f3f",
   "metadata": {},
   "outputs": [],
   "source": []
  },
  {
   "cell_type": "markdown",
   "id": "d42c179c-726c-4706-a93f-994e676a4247",
   "metadata": {},
   "source": [
    "6. Read the **[hacker_news.csv](https://github.com/milaan9/05_Python_Files/blob/main/hacker_news.csv)** file and count the number of lines containing\n",
    "  - **`python`** or **`Python`**\n",
    "  - **`JavaScript`**, **`javascript`** or **`Javascript`**\n",
    "  - **`Java`** and not **`JavaScript`**"
   ]
  },
  {
   "cell_type": "code",
   "execution_count": null,
   "id": "7b427602-7429-472a-9fa1-f23fc71b75d7",
   "metadata": {},
   "outputs": [],
   "source": []
  },
  {
   "cell_type": "code",
   "execution_count": null,
   "id": "f3457aa3-9c05-4ce5-80c7-f1fdffc15623",
   "metadata": {},
   "outputs": [],
   "source": []
  }
 ],
 "metadata": {
  "kernelspec": {
   "display_name": "Python 3 (ipykernel)",
   "language": "python",
   "name": "python3"
  },
  "language_info": {
   "codemirror_mode": {
    "name": "ipython",
    "version": 3
   },
   "file_extension": ".py",
   "mimetype": "text/x-python",
   "name": "python",
   "nbconvert_exporter": "python",
   "pygments_lexer": "ipython3",
   "version": "3.10.12"
  }
 },
 "nbformat": 4,
 "nbformat_minor": 5
}
