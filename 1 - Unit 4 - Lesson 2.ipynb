{
 "cells": [
  {
   "cell_type": "markdown",
   "id": "18bec6a4-058e-4001-a0fb-d6a1cd0f7428",
   "metadata": {
    "tags": []
   },
   "source": [
    "<small><small><i>\n",
    "The creation of the lessons in this unit relied heavily on the existing lessons created by Mrs. FitzZaland as well as the **[lecture series](https://github.com/milaan9/01_Python_Introduction)** produced by Dr. Milaan Parmar.\n",
    "</i></small></small>"
   ]
  },
  {
   "cell_type": "markdown",
   "id": "2ce3162b-4598-4b6d-8884-43035b2a6245",
   "metadata": {},
   "source": [
    "# Variables, Expressions and Statements\n",
    "\n",
    "One of the most powerful features of a programming language is the ability to manipulate variables. A\n",
    "variable is a name that refers to a value.\n",
    "\n",
    "Variables are a fundamental concept in programming, and they are used to store and manipulate values\n",
    "or data. They are like containers that can hold different types of information, such as numbers, text, or\n",
    "logical values, and allow programmers to perform complex operations on that data.\n",
    "\n",
    "Variables are important in programming because they enable flexibility and efficiency in code. They allow\n",
    "programmers to store and manipulate data dynamically, meaning that the same code can be reused for\n",
    "different data inputs. For example, imagine you are writing a program to calculate the area of a\n",
    "rectangle. Instead of hard-coding the values of the length and width of the rectangle into the code, you\n",
    "can use variables to store these values and calculate the area based on the variable values. This allows\n",
    "you to easily change the dimensions of the rectangle without having to modify the code.\n",
    "\n",
    "Variables also allow for better organization of code. By giving variables meaningful names, programmers\n",
    "can make their code more readable and easier to understand. For example, instead of using a generic\n",
    "name like \"num1\" for a variable that stores a number, a programmer could use a more descriptive name\n",
    "like \"userAge\" or \"totalScore\" to convey the purpose of the variable.\n",
    "\n",
    "In summary, variables are important in programming because they allow for flexibility, efficiency, and\n",
    "organization of code. They enable programmers to store and manipulate data dynamically, which makes\n",
    "their code more adaptable and reusable."
   ]
  },
  {
   "cell_type": "markdown",
   "id": "c107bbcd-ec5f-46d3-85de-7c0cd0fe2b3a",
   "metadata": {},
   "source": [
    "## Variables\n",
    "\n",
    "In Python, a variable is a named container that stores a value. Think of it like a box with a label on it, where you can put something inside and then use the label to refer to it later.\n",
    "\n",
    "\n",
    "For example, let's say you want to store the number 5 in a variable called `my_Number`.\n",
    "\n",
    "1. In a notebook, you can define this variable in a code cell:\n",
    "\n",
    "```python\n",
    "my_Number = 5\n",
    "``` \n",
    "\n",
    "Now, whenever you want to use the number 5 in your program, you can just refer to it using\n",
    "the variable name my_Number.\n",
    "\n",
    "\n",
    "2. Output `my_Number` to the screen by entering the following code into another code cell:\n",
    "\n",
    "```python \n",
    "print(my_Number)\n",
    "```\n",
    "\n",
    "It should have output the number 5 to the screen.\n",
    "\n",
    "\n",
    "Variables can hold many different types of values in Python, including numbers, strings, and\n",
    "even more complex data structures like lists and dictionaries. By using variables, you can make\n",
    "your code more readable and easier to manage, since you can refer to values by name rather\n",
    "than hardcoding them into your code.\n",
    "\n",
    "## Assignment Statements\n",
    "\n",
    "An assignment statement creates new variables and gives them values.\n",
    "3. Type the following 3 assignment statements into the shell:\n",
    "\n",
    "```python\n",
    "message = 'And now for something completely different'\n",
    "``` \n",
    "This statement creates a new variable named message and storedstores the\n",
    "string 'And now for something completely different' into the variable named\n",
    "`message`.\n",
    "\n",
    "```python\n",
    "n = 17\n",
    "``` \n",
    "\n",
    "This statement gives the integer 17 to `n`.\n",
    "\n",
    "```python\n",
    "pi = 3.1415926535897932\n",
    "``` \n",
    "\n",
    "This statement assigns the (approximate) value of `p` to pi.\n",
    "\n",
    "A common way to represent variables on paper is to write the name with an arrow pointing to\n",
    "the variable’s value. This kind of figure is called a **state diagram** because it shows what state\n",
    "each of the variables is in (think of it as the variable’s state of mind).\n",
    "\n",
    "![state diagram](images/state_diagram.png)\n",
    "\n",
    "\n",
    "## Variable Names\n",
    "\n",
    "Giving variables descriptive names makes it easier to understand what a program does. You\n",
    "could have called the `my_Number` variable `x` or `y` and Python would have run the program just\n",
    "the same. But those names don't really tell you much about what information the variable\n",
    "might hold. As you create longer programs, you'll have difficulty keeping track of your variables\n",
    "if you don't give them descriptive names.\n",
    "\n",
    "Variable names in Python are **case sensitive**, which means the same variable name in a\n",
    "different case is considered a different variable. So `spam`, `SPAM`, `Spam`, and `sPAM` are four\n",
    "different variables in Python.\n",
    "\n",
    "Variable names are usually lowercase. If there's more than one word in the variable name, it's\n",
    "a good idea to capitalize each word after the first. For example, the variable name\n",
    "`whatIHadForBreakfastThisMorning` is much easier to read than\n",
    "`whatihadforbreakfastthismorning`.\n",
    "\n",
    "Capitalizing your variables this way is called camel case because it resembles the humps on a\n",
    "camel's back. It makes your code easier to read. Although variable names can be as long as\n",
    "you like, programmers prefer using shorter variable names to make code easier to\n",
    "understand `breakfast` or `foodThisMorning` is more readable than\n",
    "`whatIHadForBreakfastThisMorning`.\n",
    "These are conventions - optional but standard ways of doing things in Python programming.\n",
    "Variable names can contain both letters and numbers, but they can’t begin with a number. \n",
    "\n",
    "## Python Keywords\n",
    "\n",
    "Keywords are the reserved words in Python.\n",
    "\n",
    "**We cannot use a keyword as a **variable name, function name or any other identifier**. They are used to define the syntax and structure of the Python language.\n",
    "\n",
    "In Python, keywords are **case sensitive**.\n",
    "\n",
    "There are **36** keywords in Python 3.9. This number can vary slightly over the course of time.\n",
    "\n",
    "All the keywords except **`True`**, **`False`** and **`None`** are in lowercase and they must be written as they are. The list of all the keywords is given below.\n",
    "\n",
    "**Keywords in Python**\n",
    "\n",
    "|     |     |     |     |\n",
    "|:----|:----|:----|:----|\n",
    "| **`False`** | **`break`** | **`for`** | **`not`** |\n",
    "| **`None`**  | **`class`** | **`from`** | **`or`** |\n",
    "| **`True`**  | **`continue`** | **`global`** | **`pass`** |\n",
    "| **`__peg_parser__`** |**`def`** | **`if`** | **`raise`** |\n",
    "| **`and`** | **`del`** | **`import`** | **`return`** |\n",
    "| **`as`** | **`elif`** | **`in`** | **`try`** |\n",
    "| **`assert`** | **`else`** | **`is`** | **`while`** |\n",
    "| **`async`** | **`except`** | **`lambda`** | **`with`** |\n",
    "| **`await`** | **`finally`** | **`nonlocal`** |  **`yield`**  |\n",
    "\n",
    "Trying to create a variable with the same name as any reserved word results in an **error**:\n",
    "\n",
    "```python\n",
    ">>>for = 6\n",
    "\n",
    "File \"<ipython-input-1-50b154750974>\", line 1\n",
    "for = 6 # It will give error becasue \"for\" is keyword and we cannot use as a variable name.\n",
    "        ^\n",
    "SyntaxError: invalid syntax\n",
    "```"
   ]
  },
  {
   "cell_type": "markdown",
   "id": "996bbae0-eb31-4f91-88ca-292e0bfd8633",
   "metadata": {
    "execution": {
     "iopub.execute_input": "2023-10-08T21:31:19.451272Z",
     "iopub.status.busy": "2023-10-08T21:31:19.450811Z",
     "iopub.status.idle": "2023-10-08T21:31:19.469948Z",
     "shell.execute_reply": "2023-10-08T21:31:19.468969Z",
     "shell.execute_reply.started": "2023-10-08T21:31:19.451240Z"
    },
    "tags": []
   },
   "source": [
    "4. Run the following statements code cells to see if they are all valid variable names:\n",
    "\n",
    "```python\n",
    "76 trombones = ‘big parade’\n",
    "```\n",
    "```python\n",
    "more@ = 1000000\n",
    "```\n",
    "```python\n",
    "class = ‘Advanced Theoretical Zymurgy’\n",
    "```\n",
    "\n",
    "## Expressions and Statements\n",
    "\n",
    "An expression is a combination of values, variables, and operators. A value all by itself is\n",
    "considered an expression, and so is a variable, so the following are all legal expressions:"
   ]
  },
  {
   "cell_type": "code",
   "execution_count": 1,
   "id": "ad5b4f4c-6f73-489b-b549-e807ceb467d5",
   "metadata": {
    "execution": {
     "iopub.execute_input": "2023-10-09T02:31:00.896937Z",
     "iopub.status.busy": "2023-10-09T02:31:00.896656Z",
     "iopub.status.idle": "2023-10-09T02:31:00.904285Z",
     "shell.execute_reply": "2023-10-09T02:31:00.903389Z",
     "shell.execute_reply.started": "2023-10-09T02:31:00.896911Z"
    },
    "tags": []
   },
   "outputs": [
    {
     "data": {
      "text/plain": [
       "42"
      ]
     },
     "execution_count": 1,
     "metadata": {},
     "output_type": "execute_result"
    }
   ],
   "source": [
    "42"
   ]
  },
  {
   "cell_type": "code",
   "execution_count": 2,
   "id": "4d8ecbc0-8bcf-48ca-b9e7-3b3a63de0981",
   "metadata": {
    "execution": {
     "iopub.execute_input": "2023-10-09T02:31:00.905495Z",
     "iopub.status.busy": "2023-10-09T02:31:00.905223Z",
     "iopub.status.idle": "2023-10-09T02:31:01.039207Z",
     "shell.execute_reply": "2023-10-09T02:31:01.038408Z",
     "shell.execute_reply.started": "2023-10-09T02:31:00.905470Z"
    },
    "tags": []
   },
   "outputs": [
    {
     "data": {
      "text/plain": [
       "17"
      ]
     },
     "execution_count": 2,
     "metadata": {},
     "output_type": "execute_result"
    }
   ],
   "source": [
    "n = 17\n",
    "n"
   ]
  },
  {
   "cell_type": "code",
   "execution_count": 3,
   "id": "f0659bbc-ac6b-4020-983e-eca468a61907",
   "metadata": {
    "execution": {
     "iopub.execute_input": "2023-10-09T02:31:01.040577Z",
     "iopub.status.busy": "2023-10-09T02:31:01.040155Z",
     "iopub.status.idle": "2023-10-09T02:31:01.052540Z",
     "shell.execute_reply": "2023-10-09T02:31:01.051778Z",
     "shell.execute_reply.started": "2023-10-09T02:31:01.040552Z"
    },
    "tags": []
   },
   "outputs": [
    {
     "data": {
      "text/plain": [
       "42"
      ]
     },
     "execution_count": 3,
     "metadata": {},
     "output_type": "execute_result"
    }
   ],
   "source": [
    "n + 25"
   ]
  },
  {
   "cell_type": "markdown",
   "id": "f5f4b3a9-b1ca-4135-a3d1-3e93b166ebd8",
   "metadata": {},
   "source": [
    "When you type an expression at the prompt, the interpreter evaluates it, which means that it\n",
    "finds the value of the expression. In this example, `n` has the value `17` and `n+25` has the value\n",
    "`42`.\n",
    "\n",
    "A statement is a unit of code that has an effect, like creating a variable or displaying a value.\n",
    "\n",
    "```python\n",
    "n = 17\n",
    "print(n)\n",
    "```\n",
    "\n",
    "The first line is an assignment statement that gives a value to n. The second line is a print\n",
    "statement that displays the value of n.\n",
    "When you type a statement, the interpreter executes it, which means that it does whatever the\n",
    "statement says."
   ]
  },
  {
   "cell_type": "markdown",
   "id": "1de533fd-b4df-42bc-897f-0e47a4ac0065",
   "metadata": {},
   "source": [
    "# Script Mode\n",
    "\n",
    "So far, we have run Python in interactive mode, which means that you have been interacting\n",
    "directly with the interpreter using notebooks.\n",
    "\n",
    "Notebooks are excellent place to\n",
    "experiment with small code snippets and create visualizations, but every\n",
    "programmer needs to be able to edit and save\n",
    "script files to run programs again and again.\n",
    "\n",
    "JupyerLab and Deepnote both include a **file editor**, which gives you the ability to write and execute Python\n",
    "programs using script mode. The built-in file editor also includes several features, like code\n",
    "completion and automatic indentation, that will speed up your coding workflow.\n",
    "\n",
    "5. To open the file editor in your project, click on the `+` beside *Files* in the left-hand panel and give the file the name `helloWorld2.py`. A blank window will appear for you to type your program's code into.\n",
    "\n",
    "![create file](images/new_file.png)"
   ]
  },
  {
   "cell_type": "markdown",
   "id": "037a5fca-7da0-49d7-8cd0-a8d6f7e88e78",
   "metadata": {
    "execution": {
     "iopub.execute_input": "2023-10-08T22:00:59.857980Z",
     "iopub.status.busy": "2023-10-08T22:00:59.857402Z",
     "iopub.status.idle": "2023-10-08T22:00:59.881047Z",
     "shell.execute_reply": "2023-10-08T22:00:59.879826Z",
     "shell.execute_reply.started": "2023-10-08T22:00:59.857935Z"
    },
    "tags": []
   },
   "source": [
    "6. Enter this program into the new fileeditor window.\n",
    "\n",
    "```python\n",
    "# This program says hello and asks for my name.\n",
    "print('Hello world!')\n",
    "print('What is your name?')\n",
    "myName = input()\n",
    "print('It is nice to meet you, ')\n",
    "print(myName)\n",
    "```\n",
    "\n",
    "Notice that IDLE will write different types of instructions using different colours. Colours can be\n",
    "a useful debugging tool.\n",
    "\n",
    "7. Once you've entered your code, Deepnote will save it automatically.\n",
    "\n",
    "\n",
    "Now it's time to run your program. Just like on your own computer, you can open a *Terminal* to interact with the system in Deepnote. This is where you will run your scripts from.\n",
    "\n",
    "8. Open a Terminal from the left-hand panel:\n",
    "\n",
    "![new terminal](images/new_terminal.png)\n",
    "\n",
    "9. Run your program by typing `python helloWorld2.py` followed by pressing `Enter`\n",
    "\n",
    "Your program will run in the shell.\n",
    "Enter your name when the program asks for\n",
    "it. When you type your name and press `Enter`,\n",
    "the program will greet you by name.\n",
    "\n",
    "![run program](images/hello_world.png)\n",
    "\n",
    "\n",
    "If you get an error message instead, go back and check your code against mine."
   ]
  },
  {
   "cell_type": "markdown",
   "id": "99737852-edb5-4ca1-ba9f-0a1c06f8acd1",
   "metadata": {
    "execution": {
     "iopub.execute_input": "2023-10-08T22:12:21.555222Z",
     "iopub.status.busy": "2023-10-08T22:12:21.554467Z",
     "iopub.status.idle": "2023-10-08T22:12:21.579253Z",
     "shell.execute_reply": "2023-10-08T22:12:21.578157Z",
     "shell.execute_reply.started": "2023-10-08T22:12:21.555184Z"
    },
    "tags": []
   },
   "source": [
    "## Comments\n",
    "\n",
    "The first line of the helloWorld2 program is a comment:\n",
    "```python\n",
    "# This program says hello and asks for my name.\n",
    "```\n",
    "A comment in Python starts with the hash character, `#`, and\n",
    "extends to the end of the physical line.\n",
    "\n",
    "\n",
    "Comments are for programmers. They describe and explain your code to other programmers\n",
    "and can remind you what certain parts of your code do.\n",
    "\n",
    "Python ignores everything after the hash mark\n",
    "and up to the end of the line. You can insert\n",
    "them anywhere in your code, even inline with\n",
    "other code:"
   ]
  },
  {
   "cell_type": "code",
   "execution_count": 4,
   "id": "ee927913-44df-4a52-8e48-e7633dd308fb",
   "metadata": {
    "execution": {
     "iopub.execute_input": "2023-10-09T02:31:01.053778Z",
     "iopub.status.busy": "2023-10-09T02:31:01.053529Z",
     "iopub.status.idle": "2023-10-09T02:31:01.185153Z",
     "shell.execute_reply": "2023-10-09T02:31:01.184358Z",
     "shell.execute_reply.started": "2023-10-09T02:31:01.053754Z"
    },
    "tags": []
   },
   "outputs": [
    {
     "name": "stdout",
     "output_type": "stream",
     "text": [
      "This will run.\n"
     ]
    }
   ],
   "source": [
    "print('This will run.') # This won't run"
   ]
  },
  {
   "cell_type": "markdown",
   "id": "b01efccd-0e43-4511-802e-402087e1e159",
   "metadata": {},
   "source": [
    "Comments should be short, sweet, and to the point.\n",
    "\n",
    "Most programmers write so many programs, that they forget what some of them do. It’s a\n",
    "programming convention to start each program with a comment that describes what the\n",
    "program will do.\n",
    "\n",
    "**It’s also a good idea to add\n",
    "comments throughout your\n",
    "code to explain in natural\n",
    "language what the code is doing.**\n",
    "\n",
    "For example:"
   ]
  },
  {
   "cell_type": "code",
   "execution_count": 5,
   "id": "bcafbcf3-8458-4510-b57d-840de24ce95f",
   "metadata": {
    "execution": {
     "iopub.execute_input": "2023-10-09T02:31:01.186457Z",
     "iopub.status.busy": "2023-10-09T02:31:01.186146Z",
     "iopub.status.idle": "2023-10-09T02:31:01.269379Z",
     "shell.execute_reply": "2023-10-09T02:31:01.268591Z",
     "shell.execute_reply.started": "2023-10-09T02:31:01.186431Z"
    },
    "tags": []
   },
   "outputs": [
    {
     "name": "stdout",
     "output_type": "stream",
     "text": [
      "50.0\n"
     ]
    }
   ],
   "source": [
    "minute = 30\n",
    "\n",
    "# Compute the percentage of the hour that has elapsed\n",
    "percentage = (minute * 100) / 60\n",
    "print(percentage)"
   ]
  },
  {
   "cell_type": "markdown",
   "id": "0c093620-8952-438e-a5ca-420d7ed5b69d",
   "metadata": {},
   "source": [
    "Comments are most useful when they document non-obvious features of the code. It is\n",
    "reasonable to assume that the reader can figure out **what** the code does; it is more useful to\n",
    "explain **why**.\n",
    "\n",
    "This comment is redundant and useless:"
   ]
  },
  {
   "cell_type": "code",
   "execution_count": 6,
   "id": "8bb8b5a5-39e0-4cb3-ba85-e50c1e174543",
   "metadata": {
    "execution": {
     "iopub.execute_input": "2023-10-09T02:31:01.270622Z",
     "iopub.status.busy": "2023-10-09T02:31:01.270333Z",
     "iopub.status.idle": "2023-10-09T02:31:01.507457Z",
     "shell.execute_reply": "2023-10-09T02:31:01.506589Z",
     "shell.execute_reply.started": "2023-10-09T02:31:01.270597Z"
    },
    "tags": []
   },
   "outputs": [],
   "source": [
    "v = 5 # assign 5 to v"
   ]
  },
  {
   "cell_type": "markdown",
   "id": "fc0fb10c-3cd9-4518-9203-f180d6303656",
   "metadata": {},
   "source": [
    "This comment contains useful information that\n",
    "is not in the code:"
   ]
  },
  {
   "cell_type": "code",
   "execution_count": 7,
   "id": "4eff6382-f7ca-46a8-8232-005b9763d6fb",
   "metadata": {
    "execution": {
     "iopub.execute_input": "2023-10-09T02:31:01.510920Z",
     "iopub.status.busy": "2023-10-09T02:31:01.510606Z",
     "iopub.status.idle": "2023-10-09T02:31:01.519468Z",
     "shell.execute_reply": "2023-10-09T02:31:01.518682Z",
     "shell.execute_reply.started": "2023-10-09T02:31:01.510895Z"
    },
    "tags": []
   },
   "outputs": [],
   "source": [
    "v = 5 # velocity in meters/second"
   ]
  },
  {
   "cell_type": "markdown",
   "id": "4d063d0e-3c98-4e3e-9a63-b9e3f44eb03f",
   "metadata": {},
   "source": [
    "Good variable names can reduce the need for comments, but long names can make complex\n",
    "expressions hard to read."
   ]
  },
  {
   "cell_type": "markdown",
   "id": "d8c265eb-29a2-4a69-8d69-ec15e48b87c3",
   "metadata": {},
   "source": [
    "## Keyboard Input\n",
    "\n",
    "The fourth line of the helloWorld2 program uses the **input** function:\n",
    "\n",
    "```python\n",
    "myName = input()\n",
    "```\n",
    "\n",
    "In this program, when `input()` is called, the program waits for the user to enter text. The text\n",
    "string that the user enters is then stored in the variable `myName`.\n",
    "\n",
    "Python provides a built-in function called `input` that stops the program and waits for the user to\n",
    "type something. When the user presses Return or Enter, the program resumes, and the input\n",
    "function returns what the user typed as a string.\n",
    "\n",
    "\n",
    "Before getting input from the user, it’s a good idea to print a prompt telling the user what to\n",
    "type like you did in the line:\n",
    "\n",
    "```python\n",
    "print('What is your name?')\n",
    "```\n",
    "\n",
    "The input function can also take a prompt as an argument. You’ll learn more about arguments\n",
    "and functions a little later in the unit, for now it’s enough to know that whatever you put inside\n",
    "the parentheses after input will be output to the screen as a prompt.\n",
    "\n",
    "This means that these 2 lines of code:\n",
    "```python\n",
    "print('What is your name?')\n",
    "myName = input()\n",
    "```\n",
    "\n",
    "Can be replaced with this line of code:\n",
    "\n",
    "```python\n",
    "myName = input('What is your name?\\n')\n",
    "```\n",
    "\n",
    "This one line of code will display `What is your name?` on the screen, move the cursor to the\n",
    "next line, wait for the user to type something, when the user presses Enter, it will save their\n",
    "answer as a string in the variable myName.\n",
    "\n",
    "Remember that the sequence \\n at the end of the prompt represents a newline, which is a\n",
    "special character that causes a line break. It makes the user’s input appear below the prompt.\n",
    "\n",
    "11. Edit your helloWorld2 program and replace those 2 lines of code with 1 line.\n",
    "\n",
    "\n",
    "```python\n",
    "# This program says hello and asks for my name.\n",
    "print('Hello world!')\n",
    "myName = input('What is your name?')\n",
    "print('It is nice to meet you, ')\n",
    "print(myName)\n",
    "```"
   ]
  },
  {
   "cell_type": "markdown",
   "id": "f5b7aac4-1da4-4880-b77d-56bd2a5f7ac5",
   "metadata": {},
   "source": [
    "## Order of Operations\n",
    "In the last lesson, you learned about the Arithmetic Operators `+`, `-`, `*`, `/`. Just like in mathematics,\n",
    "in Python when an expression contains more than one operator, the order of the evaluation\n",
    "depends on the **order of operations**.\n",
    "\n",
    "**PEMDAS** is a useful way to remember the order:\n",
    "\n",
    "- Parentheses\n",
    "- Exponentiation\n",
    "- Multiplication and Division\n",
    "- Addition and Subtractions\n",
    "\n",
    "For example:\n"
   ]
  },
  {
   "cell_type": "code",
   "execution_count": 8,
   "id": "19324c4c-a459-44fe-9229-bc1968f2c049",
   "metadata": {
    "execution": {
     "iopub.execute_input": "2023-10-09T02:31:01.520601Z",
     "iopub.status.busy": "2023-10-09T02:31:01.520320Z",
     "iopub.status.idle": "2023-10-09T02:31:01.535429Z",
     "shell.execute_reply": "2023-10-09T02:31:01.534674Z",
     "shell.execute_reply.started": "2023-10-09T02:31:01.520576Z"
    },
    "tags": []
   },
   "outputs": [
    {
     "data": {
      "text/plain": [
       "14"
      ]
     },
     "execution_count": 8,
     "metadata": {},
     "output_type": "execute_result"
    }
   ],
   "source": [
    "2 + 3 * 4"
   ]
  },
  {
   "cell_type": "code",
   "execution_count": 9,
   "id": "ab4e490f-3835-4960-b837-363fb4ea689b",
   "metadata": {
    "execution": {
     "iopub.execute_input": "2023-10-09T02:31:01.536764Z",
     "iopub.status.busy": "2023-10-09T02:31:01.536293Z",
     "iopub.status.idle": "2023-10-09T02:31:01.870956Z",
     "shell.execute_reply": "2023-10-09T02:31:01.870164Z",
     "shell.execute_reply.started": "2023-10-09T02:31:01.536739Z"
    },
    "tags": []
   },
   "outputs": [
    {
     "data": {
      "text/plain": [
       "20"
      ]
     },
     "execution_count": 9,
     "metadata": {},
     "output_type": "execute_result"
    }
   ],
   "source": [
    "(2 + 3) * 4"
   ]
  },
  {
   "cell_type": "markdown",
   "id": "a5c760c8-b01a-42ba-8c87-61fc77b1a80e",
   "metadata": {},
   "source": [
    "When in doubt, use brackets to make the order obvious.\n",
    "\n",
    "Python uses two multiplication symbols to represent exponents: `4**2` is the same as $4^2$"
   ]
  },
  {
   "cell_type": "code",
   "execution_count": 10,
   "id": "02141ef1-1d9d-4b3a-aff5-274f032c3db2",
   "metadata": {
    "execution": {
     "iopub.execute_input": "2023-10-09T02:31:01.872059Z",
     "iopub.status.busy": "2023-10-09T02:31:01.871817Z",
     "iopub.status.idle": "2023-10-09T02:31:01.944812Z",
     "shell.execute_reply": "2023-10-09T02:31:01.944029Z",
     "shell.execute_reply.started": "2023-10-09T02:31:01.872036Z"
    },
    "tags": []
   },
   "outputs": [
    {
     "data": {
      "text/plain": [
       "9"
      ]
     },
     "execution_count": 10,
     "metadata": {},
     "output_type": "execute_result"
    }
   ],
   "source": [
    "3**2"
   ]
  },
  {
   "cell_type": "code",
   "execution_count": 11,
   "id": "908788d6-6261-4df9-a9f7-2f54741a5343",
   "metadata": {
    "execution": {
     "iopub.execute_input": "2023-10-09T02:31:01.945953Z",
     "iopub.status.busy": "2023-10-09T02:31:01.945699Z",
     "iopub.status.idle": "2023-10-09T02:31:02.010271Z",
     "shell.execute_reply": "2023-10-09T02:31:02.009547Z",
     "shell.execute_reply.started": "2023-10-09T02:31:01.945928Z"
    },
    "tags": []
   },
   "outputs": [
    {
     "data": {
      "text/plain": [
       "27"
      ]
     },
     "execution_count": 11,
     "metadata": {},
     "output_type": "execute_result"
    }
   ],
   "source": [
    "3**3"
   ]
  },
  {
   "cell_type": "code",
   "execution_count": 12,
   "id": "631d638d-616a-401e-a585-af4c55ec0b8e",
   "metadata": {
    "execution": {
     "iopub.execute_input": "2023-10-09T02:31:02.011589Z",
     "iopub.status.busy": "2023-10-09T02:31:02.011113Z",
     "iopub.status.idle": "2023-10-09T02:31:02.069217Z",
     "shell.execute_reply": "2023-10-09T02:31:02.068469Z",
     "shell.execute_reply.started": "2023-10-09T02:31:02.011563Z"
    },
    "tags": []
   },
   "outputs": [
    {
     "data": {
      "text/plain": [
       "1000000"
      ]
     },
     "execution_count": 12,
     "metadata": {},
     "output_type": "execute_result"
    }
   ],
   "source": [
    "10**6"
   ]
  },
  {
   "cell_type": "markdown",
   "id": "277aa468-654b-49cb-b96e-0599f83ea227",
   "metadata": {},
   "source": [
    "## String Operators\n",
    "\n",
    "In general, you can’t perform mathematical operations on strings, even if the strings look like\n",
    "numbers, so the following are illegal:\n",
    "`‘2’ – ‘1’` `‘eggs’ / ‘easy’` `‘third’ * ‘a charm’`\n",
    "\n",
    "\n",
    "But there are two exceptions: `+` and `*`.\n",
    "\n",
    "The `+` operator performs string concatenation, which means it joins the strings by linking them\n",
    "end-to-end. For example:\n",
    "\n",
    "\n"
   ]
  },
  {
   "cell_type": "code",
   "execution_count": 13,
   "id": "6769fd80-828a-4933-adf2-a775f3740ec4",
   "metadata": {
    "execution": {
     "iopub.execute_input": "2023-10-09T02:31:02.070252Z",
     "iopub.status.busy": "2023-10-09T02:31:02.070017Z",
     "iopub.status.idle": "2023-10-09T02:31:02.295968Z",
     "shell.execute_reply": "2023-10-09T02:31:02.295191Z",
     "shell.execute_reply.started": "2023-10-09T02:31:02.070228Z"
    },
    "tags": []
   },
   "outputs": [
    {
     "data": {
      "text/plain": [
       "'throatwarbler'"
      ]
     },
     "execution_count": 13,
     "metadata": {},
     "output_type": "execute_result"
    }
   ],
   "source": [
    "first = 'throat'\n",
    "second = 'warbler'\n",
    "first + second"
   ]
  },
  {
   "cell_type": "markdown",
   "id": "b5da0aa9-5880-442f-bfec-6e78257a081f",
   "metadata": {},
   "source": [
    "The `*` operator also works on strings; it performs repetition.\n",
    "For example:\n"
   ]
  },
  {
   "cell_type": "code",
   "execution_count": 14,
   "id": "a125a6c4-da68-4ac1-9dd9-6178bf59f1d3",
   "metadata": {
    "execution": {
     "iopub.execute_input": "2023-10-09T02:31:02.297147Z",
     "iopub.status.busy": "2023-10-09T02:31:02.296848Z",
     "iopub.status.idle": "2023-10-09T02:31:02.398526Z",
     "shell.execute_reply": "2023-10-09T02:31:02.397689Z",
     "shell.execute_reply.started": "2023-10-09T02:31:02.297124Z"
    },
    "tags": []
   },
   "outputs": [
    {
     "data": {
      "text/plain": [
       "'SpamSpamSpam'"
      ]
     },
     "execution_count": 14,
     "metadata": {},
     "output_type": "execute_result"
    }
   ],
   "source": [
    "'Spam' * 3"
   ]
  },
  {
   "cell_type": "markdown",
   "id": "afc34d32-fb05-4d08-b4ac-b5793b9451c6",
   "metadata": {},
   "source": [
    "The use of + and * makes sense by analogy with addition and multiplication. Just as `4 * 3` is\n",
    "equivalent to `4 + 4 + 4`, we expect `‘Spam’ * 3` to be the same as `‘Spam’ + ‘Spam’ + ‘Spam’`, and it\n",
    "is.\n",
    "\n",
    "## Debugging\n",
    "\n",
    "Three kinds of errors can occur in a program:\n",
    "\n",
    "- Syntax errors\n",
    "- Runtime errors\n",
    "- Semantic errors\n",
    "\n",
    "It is useful to distinguish between them in order to track them down more quickly.\n",
    "\n",
    "**Syntax Error:** Syntax refers to the structure of a program and the rules about that structure.\n",
    "For example, parentheses have to come in matching pairs, so `(1 + 2)` is legal, but `8)` is a syntax\n",
    "error.\n",
    "\n",
    "If there is a syntax error anywhere in your program, Python displays an error message and\n",
    "quits, and you will not be able to run the program. During the first few weeks of your\n",
    "programming career, you might spend a lot of time tracking down syntax errors. As you gain\n",
    "experience, you will make fewer errors and find them faster.\n",
    "\n",
    "**Runtime error:** The second type of error is a runtime error, so called because the error does\n",
    "not appear until after the program has started running. These errors are also called **exceptions**\n",
    "because they usually indicate that something exceptional (and bad) has happened.\n",
    "\n",
    "Runtime errors are rare in the simple programs you will see in the first few lessons, so it might\n",
    "be a while before you encounter one.\n",
    "\n",
    "**Semantic error:** The third type of error is “semantic”, which means related to meaning. If there\n",
    "is a semantic error in your program, it ill run without generating error messages, but it will not\n",
    "do the right thing. It will do something else. Specifically, it ill do what you told it to do.\n",
    "\n",
    "Identifying semantic errors can be tricky because it requires you to work backward by looking at\n",
    "the output of the program and trying to figure out what it is doing.\n",
    "\n",
    "## Glossary\n",
    "This list may help you to understand the terms used in this lesson. Please read it carefully.\n",
    "- **assignment:** A statement that assigns a value to a variable.\n",
    "- **concatenate:** To join two operands end-to-end.\n",
    "- **comment:** Information in a program that is meant for other programmers (or anyone\n",
    "reading the source code) and has no effect on the execution of the program.\n",
    "- **expression:** A combination of variables, operators, and values that represents a single\n",
    "result value.\n",
    "- **evaluate:** To simplify an expression by performing the operations in order to yield a\n",
    "single value.\n",
    "- **keyword:** A reserved word that is used by the compiler to parse a program; you cannot\n",
    "use keywords like if, def, and while as variable names.\n",
    "- **operator**: A special symbol that represents a simple computation like addition,\n",
    "multiplication, or string concatenation.\n",
    "- **operand:** One of the values on which an operator operates.\n",
    "- **Order of operations:** The set of rules governing the order in which expressions involving\n",
    "multiple operators and operands are evaluated.\n",
    "- **state diagram: A graphical representation of a set of variables and the values they refer\n",
    "to.\n",
    "- **statement:** A section of code that represents a command or action. So far, most of the\n",
    "statements we have seen are assignment statements.\n",
    "- **variable:** A name that refers to a value.\n",
    "\n",
    "\n",
    "**Next you should do Challenge 24.**"
   ]
  },
  {
   "cell_type": "code",
   "execution_count": null,
   "id": "211909de-5e6d-4084-82c1-c0da09a5fe87",
   "metadata": {},
   "outputs": [],
   "source": []
  }
 ],
 "metadata": {
  "kernelspec": {
   "display_name": "Python 3 (ipykernel)",
   "language": "python",
   "name": "python3"
  },
  "language_info": {
   "codemirror_mode": {
    "name": "ipython",
    "version": 3
   },
   "file_extension": ".py",
   "mimetype": "text/x-python",
   "name": "python",
   "nbconvert_exporter": "python",
   "pygments_lexer": "ipython3",
   "version": "3.10.12"
  }
 },
 "nbformat": 4,
 "nbformat_minor": 5
}
