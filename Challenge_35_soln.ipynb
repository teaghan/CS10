{
 "cells": [
  {
   "cell_type": "markdown",
   "id": "a1fd8447-5401-455a-a5ca-da802c45adf9",
   "metadata": {
    "execution": {
     "iopub.execute_input": "2023-02-24T18:34:37.192592Z",
     "iopub.status.busy": "2023-02-24T18:34:37.192078Z",
     "iopub.status.idle": "2023-02-24T18:34:37.775460Z",
     "shell.execute_reply": "2023-02-24T18:34:37.774489Z",
     "shell.execute_reply.started": "2023-02-24T18:34:37.192537Z"
    },
    "tags": []
   },
   "source": [
    "# Investigating Galaxy Data\n",
    "\n",
    "Today we are going to revisit our Pandas and Matplotlib skills in order to investigate some real data that was taken from the NGC5533 galaxy.\n",
    "\n",
    "The investigation we are going to undergo is very much a real-world application of these skills. In fact, this same research endevour was carried out by physicists to provide one of the first pieces of evidence of Dark Matter in our universe. \n",
    "\n",
    "> Don't worry, you will not need to know any physics ahead of time. I will provide you with a bit of background information as well as any equations you need."
   ]
  },
  {
   "cell_type": "markdown",
   "id": "a5e46498-0809-46df-8832-06871d2c9aa3",
   "metadata": {},
   "source": [
    "## NGC5533\n",
    "\n",
    "We will be studying stars in the [NGC5533](https://en.wikipedia.org/wiki/NGC_5533) galaxy, which is a spiral galaxy in the constellation Boötes.\n",
    "\n",
    "![ngc5533](NGC5533.jpg)\n"
   ]
  },
  {
   "cell_type": "markdown",
   "id": "325d9984-4681-4065-b6ab-8cd5cd12b841",
   "metadata": {},
   "source": [
    "# Circular Motion and Gravity\n",
    "\n",
    "Similar to how the Earth rotates around the Sun, stars in a galaxy rotate around the centre of the galaxy (which is typically a black hole). **The speed at which the stars rotate at depends on how much mass is *enclosed* within their orbit**. For instance, the enclosed mass within the Earth's orbit is dominated by the mass of the Sun.\n",
    "\n",
    "> A **rotation curve** is a plot of the rotational (or orbital) velocity of stars in a galaxy in terms of their distance from the center of the galaxy (also known as the radius). \n",
    "\n",
    "\n",
    "Here is an example of a rotation curve for the galaxy NGC3198:\n",
    "\n",
    "![rc](rotation.png)\n",
    "\n",
    "\n",
    "\n",
    "\n",
    "Using photometric data of the luminous matter (i.e. the stuff we can see), a rotation curve of a galaxy can be created. It is used to estimate the enclosed mass within a radius by equating the centripetal force to the gravitational force. By doing so, you can find the following relationship:\n",
    "\n",
    "\\begin{equation}\n",
    "M_{enc}=\\frac{v^2r}{G}\n",
    "\\end{equation}\n",
    "\n",
    "where:\n",
    "\n",
    "$v$ = orbital speed of the star\n",
    "\n",
    "$G$ = gravitational constant\n",
    "                \n",
    "$M_{enc}$ = enclosed mass within the star's orbit\n",
    "        \n",
    "$r$ = radius or distance from the center of the galaxy\n",
    "\n",
    "\n",
    "\n",
    "Since stars are very massive objects - and the distances we are considering are also very large - we typically use the units of sollar masses ($M_\\odot$) and kiloparsecs ($1\\mathrm{kpc}=3.086\\times10^{19}\\mathrm{m}$). We can also set our gravitational constant to be in similar units, where $G=4.30\\times 10^{-6}\\mathrm{kpc}\\cdot\\mathrm{km}^2/ M_\\odot / \\mathrm{s}^2$."
   ]
  },
  {
   "cell_type": "markdown",
   "id": "a20aad95-090c-479e-931a-d91ce7243b26",
   "metadata": {},
   "source": [
    "### 1. Import the following modules under the given variable names\n",
    "- `numpy` as `np`\n",
    "- `pandas` as `pd`\n",
    "- `matplotlib.pyplot` as `plt`"
   ]
  },
  {
   "cell_type": "code",
   "execution_count": 1,
   "id": "784c4bc5-259b-447c-82f8-27071dff94e4",
   "metadata": {
    "execution": {
     "iopub.execute_input": "2023-12-07T19:55:55.429815Z",
     "iopub.status.busy": "2023-12-07T19:55:55.429627Z",
     "iopub.status.idle": "2023-12-07T19:55:56.218821Z",
     "shell.execute_reply": "2023-12-07T19:55:56.217714Z",
     "shell.execute_reply.started": "2023-12-07T19:55:55.429798Z"
    },
    "tags": []
   },
   "outputs": [],
   "source": [
    "import pandas as pd \n",
    "import numpy as np\n",
    "import matplotlib.pyplot as plt"
   ]
  },
  {
   "cell_type": "markdown",
   "id": "ba5f44fc-4de0-4cf4-a7d7-cd368affcc5a",
   "metadata": {},
   "source": [
    "### 2. Define a variable `G` and assign it to the value of the gravitational constant above.\n",
    "- **Tip:** To keep track of the units of your variables, it is useful to include the units in a comment beside the variable definition. For example:\n",
    "\n",
    "```python\n",
    "acceleration = 20 # m / s^2\n",
    "```"
   ]
  },
  {
   "cell_type": "code",
   "execution_count": 2,
   "id": "cc0d1d6e-37db-4f4a-b3a2-680223f9ef00",
   "metadata": {
    "execution": {
     "iopub.execute_input": "2023-12-07T19:55:56.220190Z",
     "iopub.status.busy": "2023-12-07T19:55:56.219837Z",
     "iopub.status.idle": "2023-12-07T19:55:56.225852Z",
     "shell.execute_reply": "2023-12-07T19:55:56.224812Z",
     "shell.execute_reply.started": "2023-12-07T19:55:56.220167Z"
    },
    "tags": []
   },
   "outputs": [],
   "source": [
    "# The gravitational constant \n",
    "G = 4.300917270038e-06 # kpc.km^2/𝑀_solar/s^2"
   ]
  },
  {
   "cell_type": "markdown",
   "id": "2d78d99b-5166-4d72-afbe-e779186bc184",
   "metadata": {},
   "source": [
    "### 3. Refer to the equations above to define the function:\n",
    "- `calculate_enclosed_mass` which calculates **and returns** `M_enc` from input arguments `v` and `r`. \n",
    "    - You can use the global variable `G` defined previously. "
   ]
  },
  {
   "cell_type": "code",
   "execution_count": 3,
   "id": "50ce7094-f51f-4742-905e-25318eb981cb",
   "metadata": {
    "execution": {
     "iopub.execute_input": "2023-12-07T19:55:56.226935Z",
     "iopub.status.busy": "2023-12-07T19:55:56.226734Z",
     "iopub.status.idle": "2023-12-07T19:55:56.296738Z",
     "shell.execute_reply": "2023-12-07T19:55:56.294889Z",
     "shell.execute_reply.started": "2023-12-07T19:55:56.226917Z"
    },
    "tags": []
   },
   "outputs": [],
   "source": [
    "def calculate_enclosed_mass(r, v):\n",
    "    return v**2 * r / G"
   ]
  },
  {
   "cell_type": "markdown",
   "id": "7902461a-71a6-4421-b6ac-eac0f763897b",
   "metadata": {},
   "source": [
    "### 4. Load the `NGC5533.csv` file into a Pandas dataframe and assign this to the variable `galaxy_df`.\n",
    "- Display the data in your notebook to get an understanding of what is included in the file."
   ]
  },
  {
   "cell_type": "code",
   "execution_count": 4,
   "id": "49c4468b-e6c2-44a1-bc63-0552e4322841",
   "metadata": {
    "execution": {
     "iopub.execute_input": "2023-12-07T19:55:56.300173Z",
     "iopub.status.busy": "2023-12-07T19:55:56.299534Z",
     "iopub.status.idle": "2023-12-07T19:55:56.358854Z",
     "shell.execute_reply": "2023-12-07T19:55:56.358066Z",
     "shell.execute_reply.started": "2023-12-07T19:55:56.300101Z"
    },
    "tags": []
   },
   "outputs": [
    {
     "data": {
      "text/html": [
       "<div>\n",
       "<style scoped>\n",
       "    .dataframe tbody tr th:only-of-type {\n",
       "        vertical-align: middle;\n",
       "    }\n",
       "\n",
       "    .dataframe tbody tr th {\n",
       "        vertical-align: top;\n",
       "    }\n",
       "\n",
       "    .dataframe thead th {\n",
       "        text-align: right;\n",
       "    }\n",
       "</style>\n",
       "<table border=\"1\" class=\"dataframe\">\n",
       "  <thead>\n",
       "    <tr style=\"text-align: right;\">\n",
       "      <th></th>\n",
       "      <th>Distance (kpc)</th>\n",
       "      <th>Velocity (km/s)</th>\n",
       "      <th>Enclosed Black Hole Mass (solar masses)</th>\n",
       "      <th>Enclosed Bulge Mass (solar masses)</th>\n",
       "      <th>Enclosed Disk Mass (solar masses)</th>\n",
       "      <th>Enclosed Gas Mass (solar masses)</th>\n",
       "    </tr>\n",
       "  </thead>\n",
       "  <tbody>\n",
       "    <tr>\n",
       "      <th>0</th>\n",
       "      <td>0.2870</td>\n",
       "      <td>296.0137</td>\n",
       "      <td>2.875024e+09</td>\n",
       "      <td>2.471273e+09</td>\n",
       "      <td>8.228282e+07</td>\n",
       "      <td>2.222303e-05</td>\n",
       "    </tr>\n",
       "    <tr>\n",
       "      <th>1</th>\n",
       "      <td>0.5840</td>\n",
       "      <td>284.4247</td>\n",
       "      <td>2.875024e+09</td>\n",
       "      <td>6.879160e+09</td>\n",
       "      <td>1.710320e+08</td>\n",
       "      <td>1.282361e+05</td>\n",
       "    </tr>\n",
       "    <tr>\n",
       "      <th>2</th>\n",
       "      <td>0.8895</td>\n",
       "      <td>274.9315</td>\n",
       "      <td>2.875024e+09</td>\n",
       "      <td>1.171199e+10</td>\n",
       "      <td>4.608944e+08</td>\n",
       "      <td>8.290364e+05</td>\n",
       "    </tr>\n",
       "    <tr>\n",
       "      <th>3</th>\n",
       "      <td>1.1944</td>\n",
       "      <td>275.1781</td>\n",
       "      <td>2.875024e+09</td>\n",
       "      <td>1.637696e+10</td>\n",
       "      <td>6.864635e+08</td>\n",
       "      <td>2.447962e+06</td>\n",
       "    </tr>\n",
       "    <tr>\n",
       "      <th>4</th>\n",
       "      <td>1.4950</td>\n",
       "      <td>273.4521</td>\n",
       "      <td>2.875024e+09</td>\n",
       "      <td>2.067437e+10</td>\n",
       "      <td>9.119764e+08</td>\n",
       "      <td>5.495112e+06</td>\n",
       "    </tr>\n",
       "    <tr>\n",
       "      <th>...</th>\n",
       "      <td>...</td>\n",
       "      <td>...</td>\n",
       "      <td>...</td>\n",
       "      <td>...</td>\n",
       "      <td>...</td>\n",
       "      <td>...</td>\n",
       "    </tr>\n",
       "    <tr>\n",
       "      <th>64</th>\n",
       "      <td>84.1629</td>\n",
       "      <td>220.7407</td>\n",
       "      <td>2.875024e+09</td>\n",
       "      <td>6.588378e+10</td>\n",
       "      <td>1.733391e+11</td>\n",
       "      <td>5.658086e+10</td>\n",
       "    </tr>\n",
       "    <tr>\n",
       "      <th>65</th>\n",
       "      <td>86.9066</td>\n",
       "      <td>223.0864</td>\n",
       "      <td>2.875024e+09</td>\n",
       "      <td>6.586235e+10</td>\n",
       "      <td>1.714435e+11</td>\n",
       "      <td>5.843151e+10</td>\n",
       "    </tr>\n",
       "    <tr>\n",
       "      <th>66</th>\n",
       "      <td>89.4159</td>\n",
       "      <td>222.9630</td>\n",
       "      <td>2.875024e+09</td>\n",
       "      <td>6.584433e+10</td>\n",
       "      <td>1.710907e+11</td>\n",
       "      <td>5.902571e+10</td>\n",
       "    </tr>\n",
       "    <tr>\n",
       "      <th>67</th>\n",
       "      <td>94.6947</td>\n",
       "      <td>225.8025</td>\n",
       "      <td>2.875024e+09</td>\n",
       "      <td>6.581071e+10</td>\n",
       "      <td>1.697026e+11</td>\n",
       "      <td>6.017022e+10</td>\n",
       "    </tr>\n",
       "    <tr>\n",
       "      <th>68</th>\n",
       "      <td>102.5875</td>\n",
       "      <td>228.5185</td>\n",
       "      <td>2.875024e+09</td>\n",
       "      <td>6.576938e+10</td>\n",
       "      <td>1.676311e+11</td>\n",
       "      <td>6.161700e+10</td>\n",
       "    </tr>\n",
       "  </tbody>\n",
       "</table>\n",
       "<p>69 rows × 6 columns</p>\n",
       "</div>"
      ],
      "text/plain": [
       "    Distance (kpc)  Velocity (km/s)  Enclosed Black Hole Mass (solar masses)  \\\n",
       "0           0.2870         296.0137                             2.875024e+09   \n",
       "1           0.5840         284.4247                             2.875024e+09   \n",
       "2           0.8895         274.9315                             2.875024e+09   \n",
       "3           1.1944         275.1781                             2.875024e+09   \n",
       "4           1.4950         273.4521                             2.875024e+09   \n",
       "..             ...              ...                                      ...   \n",
       "64         84.1629         220.7407                             2.875024e+09   \n",
       "65         86.9066         223.0864                             2.875024e+09   \n",
       "66         89.4159         222.9630                             2.875024e+09   \n",
       "67         94.6947         225.8025                             2.875024e+09   \n",
       "68        102.5875         228.5185                             2.875024e+09   \n",
       "\n",
       "    Enclosed Bulge Mass (solar masses)  Enclosed Disk Mass (solar masses)  \\\n",
       "0                         2.471273e+09                       8.228282e+07   \n",
       "1                         6.879160e+09                       1.710320e+08   \n",
       "2                         1.171199e+10                       4.608944e+08   \n",
       "3                         1.637696e+10                       6.864635e+08   \n",
       "4                         2.067437e+10                       9.119764e+08   \n",
       "..                                 ...                                ...   \n",
       "64                        6.588378e+10                       1.733391e+11   \n",
       "65                        6.586235e+10                       1.714435e+11   \n",
       "66                        6.584433e+10                       1.710907e+11   \n",
       "67                        6.581071e+10                       1.697026e+11   \n",
       "68                        6.576938e+10                       1.676311e+11   \n",
       "\n",
       "    Enclosed Gas Mass (solar masses)  \n",
       "0                       2.222303e-05  \n",
       "1                       1.282361e+05  \n",
       "2                       8.290364e+05  \n",
       "3                       2.447962e+06  \n",
       "4                       5.495112e+06  \n",
       "..                               ...  \n",
       "64                      5.658086e+10  \n",
       "65                      5.843151e+10  \n",
       "66                      5.902571e+10  \n",
       "67                      6.017022e+10  \n",
       "68                      6.161700e+10  \n",
       "\n",
       "[69 rows x 6 columns]"
      ]
     },
     "execution_count": 4,
     "metadata": {},
     "output_type": "execute_result"
    }
   ],
   "source": [
    "galaxy_df = pd.read_csv('NGC5533.csv')\n",
    "galaxy_df"
   ]
  },
  {
   "cell_type": "markdown",
   "id": "1cf86e4e-729f-4e69-89cf-f06959a0a9a0",
   "metadata": {},
   "source": [
    "You will notice that there are several columns in this dataset. The first two represent rotation curve information for stars in the NGC5533 galaxy:\n",
    "- **Distance (kpc)**: Distance measurements (in kiloparsecs) from the centre of the galaxy to the star.\n",
    "- **Velocity (km/s)**: Orbital velocity measurements (in km/s) of the star orbiting the centre of the galaxy.\n",
    "\n",
    "You will also notice several *enclosed mass* columns which are all in units of Solar Masses. We will look into these shortly.\n",
    "\n",
    "### 5. Using `plt.scatter` create a rotation curve for the NGC5533 galaxy.\n",
    "- Velocity should be on the vertical axis and radius should be on the horizontal axis.\n",
    "- Include a title.\n",
    "- Label your axes appropriately (and include units).\n",
    "- Before running `plt.show()`, call `plt.grid()` or `ax.grid()` to include gridlines on your plot."
   ]
  },
  {
   "cell_type": "code",
   "execution_count": 5,
   "id": "ca5d31eb-a5f4-4e7c-bbe7-1528128b77c3",
   "metadata": {
    "execution": {
     "iopub.execute_input": "2023-12-07T19:55:56.361636Z",
     "iopub.status.busy": "2023-12-07T19:55:56.361410Z",
     "iopub.status.idle": "2023-12-07T19:55:56.559539Z",
     "shell.execute_reply": "2023-12-07T19:55:56.558304Z",
     "shell.execute_reply.started": "2023-12-07T19:55:56.361616Z"
    },
    "tags": []
   },
   "outputs": [
    {
     "data": {
      "image/png": "[encoded data removed]",
      "text/plain": [
       "<Figure size 900x300 with 1 Axes>"
      ]
     },
     "metadata": {},
     "output_type": "display_data"
    }
   ],
   "source": [
    "# Plot \n",
    "plt.figure(figsize=(9,3))                                               \n",
    "plt.scatter(galaxy_df['Distance (kpc)'], galaxy_df['Velocity (km/s)'], \n",
    "            marker='o', s=8, color='gray')\n",
    "plt.xlabel('Radius (kpc)',size=12)\n",
    "plt.ylabel('Velocity (km/s)',size=12)\n",
    "plt.title(str('Observed Velocity of NGC 5533'), size=14)\n",
    "plt.xlim(0,np.max(galaxy_df['Distance (kpc)'])+5)\n",
    "plt.ylim(0,np.max(galaxy_df['Velocity (km/s)'])+100)\n",
    "plt.grid()\n",
    "plt.show()"
   ]
  },
  {
   "cell_type": "markdown",
   "id": "a7bc4538-80b0-418e-91fe-52eeb661feb1",
   "metadata": {},
   "source": [
    "# Galaxy Structure\n",
    "\n",
    "As seen in the image below, there are multiple sources that contribute to the mass of a galaxy. Some of the main sources include:\n",
    "\n",
    "- a central black hole\n",
    "- the mass of the stars in the \"bulge\" of the galaxy\n",
    "- the main stellar disk\n",
    "- the surrounding gas cloud. \n",
    "\n",
    "These contributions make up what is reffered to as the **luminous matter** of the galaxy.\n",
    "\n",
    "When we measure the enclosed mass for a given star, some of these masses will increase as you move further away from the centre of the galaxy since you are \"enclosing\" more mass in that star's orbit.\n",
    "\n",
    "![structure](galaxy_structure.png)"
   ]
  },
  {
   "cell_type": "markdown",
   "id": "924e3ee8-f7c7-4a1c-87e2-05666568b07e",
   "metadata": {},
   "source": [
    "### 6. Create another `scatter` plot of the different mass contributions as a function of the distance from the centre of the galaxy.\n",
    "\n",
    "- Mass should be on the vertical axis and radius should be on the horizontal axis.\n",
    "- Include a title.\n",
    "- Label your axes appropriately (and include units).\n",
    "- Before running `plt.show()`, call `plt.grid()` or `ax.grid()` to include gridlines on your plot.\n",
    "- Include a legend that should look similar to the one below:\n",
    "\n",
    "![legend](mass_legend.png)"
   ]
  },
  {
   "cell_type": "code",
   "execution_count": 6,
   "id": "de6d033a-d09d-40cc-8d0a-faca8dfbe9c4",
   "metadata": {
    "execution": {
     "iopub.execute_input": "2023-12-07T19:55:56.560830Z",
     "iopub.status.busy": "2023-12-07T19:55:56.560606Z",
     "iopub.status.idle": "2023-12-07T19:55:56.830383Z",
     "shell.execute_reply": "2023-12-07T19:55:56.829379Z",
     "shell.execute_reply.started": "2023-12-07T19:55:56.560810Z"
    },
    "tags": []
   },
   "outputs": [
    {
     "data": {
      "image/png": "[encoded data removed]",
      "text/plain": [
       "<Figure size 900x300 with 1 Axes>"
      ]
     },
     "metadata": {},
     "output_type": "display_data"
    }
   ],
   "source": [
    "# Mass components\n",
    "r = galaxy_df['Distance (kpc)']\n",
    "v = galaxy_df['Velocity (km/s)']\n",
    "M_BH = galaxy_df['Enclosed Black Hole Mass (solar masses)']\n",
    "M_bulge = galaxy_df['Enclosed Bulge Mass (solar masses)']\n",
    "M_disk = galaxy_df['Enclosed Disk Mass (solar masses)']\n",
    "M_gas = galaxy_df['Enclosed Gas Mass (solar masses)']\n",
    "\n",
    "# Plot \n",
    "plt.figure(figsize=(9,3))                                               \n",
    "\n",
    "for M, label in zip([M_BH, M_bulge, M_disk, M_gas],\n",
    "                    ['Black Hole', 'Bulge', 'Disk', 'Gas']):\n",
    "    plt.scatter(r, M, s=20, label=label)\n",
    "plt.xlabel('Radius (kpc)',size=12)\n",
    "plt.ylabel('Solar Masses',size=12)\n",
    "plt.title(str('Mass components of NGC 5533'), size=14)\n",
    "plt.xlim(0,np.max(r)+5)\n",
    "plt.ylim(-1e10,np.max(M_disk)+1e11)\n",
    "plt.legend()\n",
    "plt.grid()\n",
    "plt.show()"
   ]
  },
  {
   "cell_type": "markdown",
   "id": "1703209c-c9fc-4f42-85c8-e20d24d81a5f",
   "metadata": {},
   "source": [
    "> **Our goal is to combine these contributions and compare this to the measured enclosed mass that we can obtain from the radial velocity curve of the galaxy.**\n",
    "\n",
    "### 7. Calculate the enclosed luminous mass `M_lum` by include these four contributions such that\n",
    "\n",
    "\\begin{equation}\n",
    "M_{lum} = M_{BH} + M_{bulge} + M_{disk} + M_{gas}\n",
    "\\label{eq:M_enc}\n",
    "\\end{equation}\n",
    "\n",
    "where:\n",
    "\n",
    "$M_{BH}$ = mass of the central black hole\n",
    "\n",
    "$M_{bulge}$ = mass of the galaxy bulge\n",
    "\n",
    "$M_{disk}$ = mass of the main stellar disk\n",
    "\n",
    "$M_{gas}$ = mass of the main gas cloud\n",
    "\n",
    "**Note:** Since each of your masses is actually a Sequence of values (one for each distance), by adding them together, your luminous mass will also be a Sequence of values!"
   ]
  },
  {
   "cell_type": "code",
   "execution_count": 7,
   "id": "ddcd4a94-4dab-48e7-b70e-9b4636c5385a",
   "metadata": {
    "execution": {
     "iopub.execute_input": "2023-12-07T19:55:56.831790Z",
     "iopub.status.busy": "2023-12-07T19:55:56.831559Z",
     "iopub.status.idle": "2023-12-07T19:55:56.840376Z",
     "shell.execute_reply": "2023-12-07T19:55:56.839550Z",
     "shell.execute_reply.started": "2023-12-07T19:55:56.831770Z"
    },
    "tags": []
   },
   "outputs": [
    {
     "data": {
      "text/plain": [
       "0     5.428580e+09\n",
       "1     9.925345e+09\n",
       "2     1.504873e+10\n",
       "3     1.994090e+10\n",
       "4     2.446687e+10\n",
       "          ...     \n",
       "64    2.986788e+11\n",
       "65    2.986124e+11\n",
       "66    2.988357e+11\n",
       "67    2.985585e+11\n",
       "68    2.978925e+11\n",
       "Length: 69, dtype: float64"
      ]
     },
     "execution_count": 7,
     "metadata": {},
     "output_type": "execute_result"
    }
   ],
   "source": [
    "M_lum = M_BH + M_bulge + M_disk + M_gas\n",
    "M_lum"
   ]
  },
  {
   "cell_type": "markdown",
   "id": "1dc4b6e5-b437-4201-9eed-050fc284c33e",
   "metadata": {},
   "source": [
    "### 8. Use your `calculate_enclosed_mass` function to calculate the *actual* enclosed mass by using the measurements of **`Distance (kpc)`** and **`Velocity (km/s)`** from the original data file. Assign this to the variable `M_meas`.\n",
    "\n",
    "> Again, this should provide a sequence of enclosed masses - one for each star."
   ]
  },
  {
   "cell_type": "code",
   "execution_count": 8,
   "id": "94ea8f80-97d2-4df0-9c04-597b98450f5d",
   "metadata": {
    "execution": {
     "iopub.execute_input": "2023-12-07T19:55:56.841373Z",
     "iopub.status.busy": "2023-12-07T19:55:56.841167Z",
     "iopub.status.idle": "2023-12-07T19:55:56.953305Z",
     "shell.execute_reply": "2023-12-07T19:55:56.951993Z",
     "shell.execute_reply.started": "2023-12-07T19:55:56.841355Z"
    },
    "tags": []
   },
   "outputs": [
    {
     "data": {
      "text/plain": [
       "0     5.847153e+09\n",
       "1     1.098465e+10\n",
       "2     1.563270e+10\n",
       "3     2.102889e+10\n",
       "4     2.599218e+10\n",
       "          ...     \n",
       "64    9.535082e+11\n",
       "65    1.005629e+12\n",
       "66    1.033521e+12\n",
       "67    1.122592e+12\n",
       "68    1.245593e+12\n",
       "Length: 69, dtype: float64"
      ]
     },
     "execution_count": 8,
     "metadata": {},
     "output_type": "execute_result"
    }
   ],
   "source": [
    "# From RV curve\n",
    "M_meas = calculate_enclosed_mass(r, v)\n",
    "M_meas"
   ]
  },
  {
   "cell_type": "markdown",
   "id": "374db547-2777-44f8-b72d-08a0be613247",
   "metadata": {},
   "source": [
    "### 9. Create a scatter plot that compares `M_lum` and `M_meas`.\n",
    "\n",
    "- Mass should be on the vertical axis and radius should be on the horizontal axis.\n",
    "- Include a title.\n",
    "- Label your axes appropriately (and include units).\n",
    "- Before running `plt.show()`, call `plt.grid()` or `ax.grid()` to include gridlines on your plot.\n",
    "- Include a legend that should have two entries (Luminous and Measured)."
   ]
  },
  {
   "cell_type": "code",
   "execution_count": 9,
   "id": "4cf038f6-e48e-40f0-95a9-46a4b2389cab",
   "metadata": {
    "execution": {
     "iopub.execute_input": "2023-12-07T19:55:56.954950Z",
     "iopub.status.busy": "2023-12-07T19:55:56.954628Z",
     "iopub.status.idle": "2023-12-07T19:55:57.215061Z",
     "shell.execute_reply": "2023-12-07T19:55:57.214102Z",
     "shell.execute_reply.started": "2023-12-07T19:55:56.954920Z"
    },
    "tags": []
   },
   "outputs": [
    {
     "data": {
      "image/png": "[encoded data removed]",
      "text/plain": [
       "<Figure size 900x300 with 1 Axes>"
      ]
     },
     "metadata": {},
     "output_type": "display_data"
    }
   ],
   "source": [
    "# Plot \n",
    "plt.figure(figsize=(9,3))                                               \n",
    "\n",
    "plt.scatter(r, M_lum, s=20, label='Luminous Matter')\n",
    "plt.scatter(r, M_meas, s=20, label='Total Matter')\n",
    "\n",
    "plt.xlabel('Radius (kpc)',size=12)\n",
    "plt.ylabel('Solar Masses',size=12)\n",
    "plt.title(str('Mass Comparison for NGC 5533'), size=14)\n",
    "plt.xlim(0,np.max(r)+5)\n",
    "plt.ylim(-1e10,np.max(M_meas)+1e11)\n",
    "plt.legend()\n",
    "plt.grid()\n",
    "plt.show()"
   ]
  },
  {
   "cell_type": "markdown",
   "id": "30e76a49-d73e-4d7e-8f42-7c1b4066d62a",
   "metadata": {},
   "source": [
    "### 10. **Reflect:** What do you notice about this comparison?\n",
    "> Remember: The luminous matter consists of the mass from all of the stars, gas, central black hole, etc. But the measured mass is the mass that is *actually* enclosed within each star's orbit. If they disagree by a substantial amount, there must be something BIG missing."
   ]
  },
  {
   "cell_type": "markdown",
   "id": "6d393c04-5055-419f-b115-e588ba87f769",
   "metadata": {},
   "source": []
  },
  {
   "cell_type": "markdown",
   "id": "c853d6ea-bb9b-47db-8e0d-fe3ef854d5ad",
   "metadata": {},
   "source": [
    "### 11. Calculate the difference between the two enclosed masses: `M_meas - M_lum`. What is this difference equal to for the star that is furthest away from the centre of the galaxy?\n"
   ]
  },
  {
   "cell_type": "code",
   "execution_count": 10,
   "id": "35a7403a-a9f5-41c5-b0e8-24123cdfc1b0",
   "metadata": {
    "execution": {
     "iopub.execute_input": "2023-12-07T19:55:57.216221Z",
     "iopub.status.busy": "2023-12-07T19:55:57.215974Z",
     "iopub.status.idle": "2023-12-07T19:55:57.222750Z",
     "shell.execute_reply": "2023-12-07T19:55:57.221922Z",
     "shell.execute_reply.started": "2023-12-07T19:55:57.216201Z"
    },
    "tags": []
   },
   "outputs": [
    {
     "name": "stdout",
     "output_type": "stream",
     "text": [
      "The missing enclosed mass is 9.477e+11 solar masses\n"
     ]
    }
   ],
   "source": [
    "M_diff = M_meas - M_lum # Solar masses\n",
    "print(f'The missing enclosed mass is {M_diff.iloc[-1]:0.3e} solar masses')"
   ]
  },
  {
   "cell_type": "markdown",
   "id": "a2a9f950-e019-4d34-bcdd-3fbb8adb9c29",
   "metadata": {},
   "source": [
    "### 12. **Reflect:** What does this difference in mass tell you?"
   ]
  },
  {
   "cell_type": "markdown",
   "id": "c4be5ee9-d516-4f13-ae28-a6c10f765920",
   "metadata": {},
   "source": []
  },
  {
   "cell_type": "code",
   "execution_count": null,
   "id": "2431a0fe-d09e-42a3-8a9c-9935e89e2a81",
   "metadata": {},
   "outputs": [],
   "source": []
  }
 ],
 "metadata": {
  "kernelspec": {
   "display_name": "Python 3 (ipykernel)",
   "language": "python",
   "name": "python3"
  },
  "language_info": {
   "codemirror_mode": {
    "name": "ipython",
    "version": 3
   },
   "file_extension": ".py",
   "mimetype": "text/x-python",
   "name": "python",
   "nbconvert_exporter": "python",
   "pygments_lexer": "ipython3",
   "version": "3.10.12"
  }
 },
 "nbformat": 4,
 "nbformat_minor": 5
}
