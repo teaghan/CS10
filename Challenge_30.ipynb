{
 "cells": [
  {
   "cell_type": "markdown",
   "id": "f974969f-d068-4419-b0c9-d86c209961f0",
   "metadata": {},
   "source": [
    "# Problem-Solving\n",
    "\n",
    "*By completing these challenges, you'll demonstrate that you understand key programming concepts.*\n",
    "\n",
    "Create code cells within this notebook or create scripts to run from the Terminal to **answer at least two of the questions below.**\n",
    "\n",
    "When you’ve finished, call me over to read it and sign off on it. I’ll also want to run your programs, so make sure the notebook runs properly!\n",
    "\n",
    "- Use functions throughout your code to **keep your program organized, readable, and efficient.**\n",
    "- For each of your functions, **include a docstring** that provides a brief description of what the function does, what parameter it takes (with its type), and what it returns (with its type).\n",
    "- Don’t forget to **use comments** appropriately."
   ]
  },
  {
   "cell_type": "markdown",
   "id": "6efb779e-fac2-4357-8ed3-ddd4ef927b18",
   "metadata": {},
   "source": [
    "1. Fibonacci Sequence: create a program that generates the Fibonacci sequence up to a certain number of terms.\n",
    "2. Binary to Decimal converter: create a program that converts a binary number to a decimal number using loops and conditionals.\n",
    "3. Palindrome Checker: create a program that checks if a word or phrase is a palindrome (spelled the same way forwards and backwards).\n",
    "4. Hangman with Graphics: write a hangman game that includes graphics of the hangman being drawn as the user guesses incorrectly.\n",
    "5. Blackjack: create a program that allows the user to play a game of blackjack against the computer.\n",
    "6. Caesar cipher: create a program that encrypts messages using the Caesar Cipher algorithm. Bonus: have it also decrypt messages.\n",
    "7. Morse Code Converter: create a program that converts text to Morse code and vice versa."
   ]
  },
  {
   "cell_type": "code",
   "execution_count": null,
   "id": "5ce9a936-c406-4c46-872e-3e16359887db",
   "metadata": {},
   "outputs": [],
   "source": []
  }
 ],
 "metadata": {
  "kernelspec": {
   "display_name": "Python 3 (ipykernel)",
   "language": "python",
   "name": "python3"
  },
  "language_info": {
   "codemirror_mode": {
    "name": "ipython",
    "version": 3
   },
   "file_extension": ".py",
   "mimetype": "text/x-python",
   "name": "python",
   "nbconvert_exporter": "python",
   "pygments_lexer": "ipython3",
   "version": "3.10.12"
  }
 },
 "nbformat": 4,
 "nbformat_minor": 5
}
