{
 "cells": [
  {
   "cell_type": "markdown",
   "metadata": {
    "ExecuteTime": {
     "end_time": "2021-05-27T18:42:32.348446Z",
     "start_time": "2021-05-27T18:42:32.329894Z"
    }
   },
   "source": [
    "> *The creation of the lessons in this unit relied heavily on the existing lessons created by Mrs. FitzZaland as well as the [lecture series](https://github.com/milaan9/09_Python_NumPy_Module) produced by Dr. Milaan Parmar. Additionally, these lessons have largely been modelled off of the book [Think Python](https://open.umn.edu/opentextbooks/textbooks/43) by Allen Downey.*"
   ]
  },
  {
   "cell_type": "markdown",
   "metadata": {},
   "source": [
    "# NumPy\n",
    "\n",
    "This NumPy lesson will help you learn all the NumPy basics.\n",
    "\n",
    "If it would be beneficial for your learning, feel free to **take a look at [this video](https://www.youtube.com/watch?v=xECXZ3tyONo) on NumPy.**\n",
    "\n",
    "<div class=\"alert alert-info\"><h4>Tasks</h4><p>Alert boxes like this will provide you with tasks that you must do while going through this lesson.</p></div>\n",
    "\n",
    "**[Numpy](http://www.numpy.org/)** (‘Numerical Python’) is the core open source library for scientific computing in Python. It is a Linear Algebra Library for Python. \n",
    "\n",
    "It is a very useful library that allows you to perform mathematical and statistical operations in Python."
   ]
  },
  {
   "cell_type": "markdown",
   "metadata": {},
   "source": [
    "## Why use NumPy?\n",
    "\n",
    "NumPy is memory efficiency, which allows it to handle mathematical operations between large amounts of data. Additionally, there are many built-in functions that makes programming a lot easier since you don't have to start from scratch!"
   ]
  },
  {
   "cell_type": "markdown",
   "metadata": {},
   "source": [
    "# NumPy Arrays: \n",
    "\n",
    "A numpy array is a grid of values, all of the same type.\n",
    "\n",
    "A numpy array is a powerful N-dimensional array object which is in the form of rows and columns. \n",
    "\n",
    "We can initialize NumPy arrays from nested lists and access the elements easily."
   ]
  },
  {
   "cell_type": "markdown",
   "metadata": {
    "ExecuteTime": {
     "end_time": "2021-05-27T18:42:42.296170Z",
     "start_time": "2021-05-27T18:42:42.277617Z"
    }
   },
   "source": [
    "## NumPy Array Types:\n",
    "\n",
    "<div>\n",
    "<img src=\"images/array.png\" width=\"700\"/>\n",
    "</div>"
   ]
  },
  {
   "cell_type": "markdown",
   "metadata": {},
   "source": [
    "## Load the NumPy Library\n",
    "\n",
    "Numpy is a module that can be imported like any other module:"
   ]
  },
  {
   "cell_type": "code",
   "execution_count": 1,
   "metadata": {
    "ExecuteTime": {
     "end_time": "2021-07-06T15:02:08.826412Z",
     "start_time": "2021-07-06T15:02:08.496336Z"
    },
    "execution": {
     "iopub.execute_input": "2023-12-03T20:57:05.203058Z",
     "iopub.status.busy": "2023-12-03T20:57:05.202808Z",
     "iopub.status.idle": "2023-12-03T20:57:05.347282Z",
     "shell.execute_reply": "2023-12-03T20:57:05.345410Z",
     "shell.execute_reply.started": "2023-12-03T20:57:05.203022Z"
    },
    "tags": []
   },
   "outputs": [],
   "source": [
    "import numpy as np"
   ]
  },
  {
   "cell_type": "markdown",
   "metadata": {},
   "source": [
    "## Creating a NumPy Array\n",
    "\n",
    "The simplest way to create an array in Numpy is to use lists"
   ]
  },
  {
   "cell_type": "code",
   "execution_count": 2,
   "metadata": {
    "ExecuteTime": {
     "end_time": "2021-07-06T15:02:08.857663Z",
     "start_time": "2021-07-06T15:02:08.830319Z"
    },
    "execution": {
     "iopub.execute_input": "2023-12-03T20:57:05.348695Z",
     "iopub.status.busy": "2023-12-03T20:57:05.348378Z",
     "iopub.status.idle": "2023-12-03T20:57:05.359939Z",
     "shell.execute_reply": "2023-12-03T20:57:05.358430Z",
     "shell.execute_reply.started": "2023-12-03T20:57:05.348672Z"
    },
    "tags": []
   },
   "outputs": [
    {
     "data": {
      "text/plain": [
       "[1, 2, 3, 4]"
      ]
     },
     "execution_count": 2,
     "metadata": {},
     "output_type": "execute_result"
    }
   ],
   "source": [
    "my_list = [1,2,3,4]\n",
    "my_list"
   ]
  },
  {
   "cell_type": "markdown",
   "metadata": {},
   "source": [
    "To convert python list to a numpy array by using the object **`np.array`**."
   ]
  },
  {
   "cell_type": "code",
   "execution_count": 3,
   "metadata": {
    "ExecuteTime": {
     "end_time": "2021-07-06T15:02:08.951412Z",
     "start_time": "2021-07-06T15:02:08.863522Z"
    },
    "execution": {
     "iopub.execute_input": "2023-12-03T20:57:05.361579Z",
     "iopub.status.busy": "2023-12-03T20:57:05.361294Z",
     "iopub.status.idle": "2023-12-03T20:57:05.407639Z",
     "shell.execute_reply": "2023-12-03T20:57:05.406143Z",
     "shell.execute_reply.started": "2023-12-03T20:57:05.361553Z"
    },
    "tags": []
   },
   "outputs": [
    {
     "data": {
      "text/plain": [
       "array([1, 2, 3, 4])"
      ]
     },
     "execution_count": 3,
     "metadata": {},
     "output_type": "execute_result"
    }
   ],
   "source": [
    "numpy_array_from_list = np.array(my_list)\n",
    "numpy_array_from_list"
   ]
  },
  {
   "cell_type": "markdown",
   "metadata": {},
   "source": [
    "In practice, there is no need to declare a list first; the operation can be combined:"
   ]
  },
  {
   "cell_type": "code",
   "execution_count": 4,
   "metadata": {
    "ExecuteTime": {
     "end_time": "2021-07-06T15:02:09.059808Z",
     "start_time": "2021-07-06T15:02:08.958248Z"
    },
    "execution": {
     "iopub.execute_input": "2023-12-03T20:57:05.411801Z",
     "iopub.status.busy": "2023-12-03T20:57:05.411344Z",
     "iopub.status.idle": "2023-12-03T20:57:05.493612Z",
     "shell.execute_reply": "2023-12-03T20:57:05.491505Z",
     "shell.execute_reply.started": "2023-12-03T20:57:05.411762Z"
    },
    "tags": []
   },
   "outputs": [
    {
     "data": {
      "text/plain": [
       "array([1, 2, 3, 4])"
      ]
     },
     "execution_count": 4,
     "metadata": {},
     "output_type": "execute_result"
    }
   ],
   "source": [
    "my_array  = np.array([1,2,3,4])\n",
    "my_array"
   ]
  },
  {
   "cell_type": "markdown",
   "metadata": {},
   "source": [
    "You can also create a numpy array from a tuple, which is what's created by the `range()` function:"
   ]
  },
  {
   "cell_type": "code",
   "execution_count": 5,
   "metadata": {
    "ExecuteTime": {
     "end_time": "2021-07-06T15:02:09.154539Z",
     "start_time": "2021-07-06T15:02:09.063716Z"
    },
    "execution": {
     "iopub.execute_input": "2023-12-03T20:57:06.158317Z",
     "iopub.status.busy": "2023-12-03T20:57:06.156018Z",
     "iopub.status.idle": "2023-12-03T20:57:06.169177Z",
     "shell.execute_reply": "2023-12-03T20:57:06.167279Z",
     "shell.execute_reply.started": "2023-12-03T20:57:06.158244Z"
    },
    "tags": []
   },
   "outputs": [
    {
     "data": {
      "text/plain": [
       "array([1, 2, 3, 4])"
      ]
     },
     "execution_count": 5,
     "metadata": {},
     "output_type": "execute_result"
    }
   ],
   "source": [
    "my_array2 = np.array(range(1,5))\n",
    "my_array2"
   ]
  },
  {
   "cell_type": "markdown",
   "metadata": {},
   "source": [
    "## Numpy Array basics "
   ]
  },
  {
   "cell_type": "markdown",
   "metadata": {},
   "source": [
    "To create a 2D array, we can initialize numpy arrays from nested lists:"
   ]
  },
  {
   "cell_type": "code",
   "execution_count": 6,
   "metadata": {
    "ExecuteTime": {
     "end_time": "2021-07-06T15:02:09.510004Z",
     "start_time": "2021-07-06T15:02:09.391841Z"
    },
    "execution": {
     "iopub.execute_input": "2023-12-03T20:57:07.153473Z",
     "iopub.status.busy": "2023-12-03T20:57:07.151421Z",
     "iopub.status.idle": "2023-12-03T20:57:07.165507Z",
     "shell.execute_reply": "2023-12-03T20:57:07.163874Z",
     "shell.execute_reply.started": "2023-12-03T20:57:07.153401Z"
    },
    "tags": []
   },
   "outputs": [
    {
     "data": {
      "text/plain": [
       "array([[1, 2, 3],\n",
       "       [4, 5, 6],\n",
       "       [7, 8, 9]])"
      ]
     },
     "execution_count": 6,
     "metadata": {},
     "output_type": "execute_result"
    }
   ],
   "source": [
    "my_matrix = [[1,2,3],[4,5,6],[7,8,9]] # Create a 2D array with 3 rows\n",
    "my_matrix = np.array(my_matrix)\n",
    "my_matrix"
   ]
  },
  {
   "cell_type": "code",
   "execution_count": 7,
   "metadata": {
    "ExecuteTime": {
     "end_time": "2021-07-06T15:02:09.619866Z",
     "start_time": "2021-07-06T15:02:09.519767Z"
    },
    "execution": {
     "iopub.execute_input": "2023-12-03T20:57:07.558090Z",
     "iopub.status.busy": "2023-12-03T20:57:07.556409Z",
     "iopub.status.idle": "2023-12-03T20:57:07.568873Z",
     "shell.execute_reply": "2023-12-03T20:57:07.566851Z",
     "shell.execute_reply.started": "2023-12-03T20:57:07.557989Z"
    },
    "tags": []
   },
   "outputs": [
    {
     "data": {
      "text/plain": [
       "2"
      ]
     },
     "execution_count": 7,
     "metadata": {},
     "output_type": "execute_result"
    }
   ],
   "source": [
    "# Get Dimension\n",
    "my_matrix.ndim"
   ]
  },
  {
   "cell_type": "code",
   "execution_count": 8,
   "metadata": {
    "ExecuteTime": {
     "end_time": "2021-07-06T15:02:09.743889Z",
     "start_time": "2021-07-06T15:02:09.626702Z"
    },
    "execution": {
     "iopub.execute_input": "2023-12-03T20:57:08.326314Z",
     "iopub.status.busy": "2023-12-03T20:57:08.324546Z",
     "iopub.status.idle": "2023-12-03T20:57:08.336838Z",
     "shell.execute_reply": "2023-12-03T20:57:08.335105Z",
     "shell.execute_reply.started": "2023-12-03T20:57:08.326242Z"
    },
    "tags": []
   },
   "outputs": [
    {
     "data": {
      "text/plain": [
       "(3, 3)"
      ]
     },
     "execution_count": 8,
     "metadata": {},
     "output_type": "execute_result"
    }
   ],
   "source": [
    "# Get Shape\n",
    "my_matrix.shape"
   ]
  },
  {
   "cell_type": "markdown",
   "metadata": {},
   "source": [
    "You can access elements using square brackets **`[]`** remembering that indexing starts with `0` in python."
   ]
  },
  {
   "cell_type": "code",
   "execution_count": 9,
   "metadata": {
    "execution": {
     "iopub.execute_input": "2023-12-03T20:57:09.021359Z",
     "iopub.status.busy": "2023-12-03T20:57:09.019092Z",
     "iopub.status.idle": "2023-12-03T20:57:09.032713Z",
     "shell.execute_reply": "2023-12-03T20:57:09.031229Z",
     "shell.execute_reply.started": "2023-12-03T20:57:09.021269Z"
    },
    "tags": []
   },
   "outputs": [
    {
     "data": {
      "text/plain": [
       "8"
      ]
     },
     "execution_count": 9,
     "metadata": {},
     "output_type": "execute_result"
    }
   ],
   "source": [
    "# Access the element in the third row and the second column\n",
    "my_matrix[2,1]"
   ]
  },
  {
   "cell_type": "markdown",
   "metadata": {},
   "source": [
    "<div class=\"alert alert-info\"><h4>1.</h4><p>Create a new notebook and name it Lesson8_Tasks.</p></div>\n",
    "\n",
    "<div class=\"alert alert-info\"><h4>2.</h4><p>In your notebook, define a numpy array using the following code.</p></div>\n",
    "\n",
    "```python\n",
    "# Creating a 2D array\n",
    "arr_2d = np.array([[10, 20, 30, 31, 32, 33], [40, 50, 60, 61, 62, 63]])\n",
    "print(\"\\n2D Array:\")\n",
    "print(arr_2d)\n",
    "```\n",
    "<div class=\"alert alert-info\"><h4>3.</h4><p>And print the following attributes.</p></div>\n",
    "\n",
    "\n",
    "```python\n",
    "# Print some attributes\n",
    "print(\"\\nShape:\", arr_2d.shape)\n",
    "print(\"Size:\", arr_2d.size)\n",
    "print(\"Data:\", arr_2d.dtype)\n",
    "```"
   ]
  },
  {
   "cell_type": "markdown",
   "metadata": {},
   "source": [
    "### Random number"
   ]
  },
  {
   "cell_type": "markdown",
   "metadata": {},
   "source": [
    "Similar to the `random` module we have previously used, NumPy can generate random numbers **and** random arrays of numbers.\n",
    "\n",
    "#### `rand`\n",
    "Random values in a given shape from a uniform distribution over [0, 1)"
   ]
  },
  {
   "cell_type": "code",
   "execution_count": 10,
   "metadata": {
    "ExecuteTime": {
     "end_time": "2021-07-06T15:02:11.310771Z",
     "start_time": "2021-07-06T15:02:11.172105Z"
    },
    "execution": {
     "iopub.execute_input": "2023-12-03T20:57:11.376552Z",
     "iopub.status.busy": "2023-12-03T20:57:11.374923Z",
     "iopub.status.idle": "2023-12-03T20:57:11.388020Z",
     "shell.execute_reply": "2023-12-03T20:57:11.386280Z",
     "shell.execute_reply.started": "2023-12-03T20:57:11.376478Z"
    },
    "tags": []
   },
   "outputs": [
    {
     "data": {
      "text/plain": [
       "array([0.93042974, 0.14071076, 0.16490938])"
      ]
     },
     "execution_count": 10,
     "metadata": {},
     "output_type": "execute_result"
    }
   ],
   "source": [
    "# Generate 3 random numbers\n",
    "np.random.rand(3)"
   ]
  },
  {
   "cell_type": "code",
   "execution_count": 11,
   "metadata": {
    "ExecuteTime": {
     "end_time": "2021-07-06T15:02:11.435771Z",
     "start_time": "2021-07-06T15:02:11.322495Z"
    },
    "execution": {
     "iopub.execute_input": "2023-12-03T20:57:11.672148Z",
     "iopub.status.busy": "2023-12-03T20:57:11.670483Z",
     "iopub.status.idle": "2023-12-03T20:57:11.683837Z",
     "shell.execute_reply": "2023-12-03T20:57:11.682247Z",
     "shell.execute_reply.started": "2023-12-03T20:57:11.672017Z"
    },
    "tags": []
   },
   "outputs": [
    {
     "data": {
      "text/plain": [
       "array([[0.43738223, 0.75087772, 0.19141358, 0.09529116, 0.33262787],\n",
       "       [0.29162604, 0.24798631, 0.94816722, 0.30005522, 0.13561988],\n",
       "       [0.56788581, 0.64802705, 0.77097514, 0.33379527, 0.33643366]])"
      ]
     },
     "execution_count": 11,
     "metadata": {},
     "output_type": "execute_result"
    }
   ],
   "source": [
    "# Generate a 2D array of random numbers\n",
    "np.random.rand(3,5)"
   ]
  },
  {
   "cell_type": "markdown",
   "metadata": {},
   "source": [
    "#### `randint`\n",
    "Return random integers from **low** (inclusive) to **high** (exclusive)."
   ]
  },
  {
   "cell_type": "code",
   "execution_count": 12,
   "metadata": {
    "ExecuteTime": {
     "end_time": "2021-07-06T15:02:11.903058Z",
     "start_time": "2021-07-06T15:02:11.814680Z"
    },
    "execution": {
     "iopub.execute_input": "2023-12-03T20:57:14.950511Z",
     "iopub.status.busy": "2023-12-03T20:57:14.948269Z",
     "iopub.status.idle": "2023-12-03T20:57:14.960884Z",
     "shell.execute_reply": "2023-12-03T20:57:14.958931Z",
     "shell.execute_reply.started": "2023-12-03T20:57:14.950436Z"
    },
    "tags": []
   },
   "outputs": [
    {
     "data": {
      "text/plain": [
       "50"
      ]
     },
     "execution_count": 12,
     "metadata": {},
     "output_type": "execute_result"
    }
   ],
   "source": [
    "np.random.randint(2,100)"
   ]
  },
  {
   "cell_type": "code",
   "execution_count": 13,
   "metadata": {
    "ExecuteTime": {
     "end_time": "2021-07-06T15:02:12.031477Z",
     "start_time": "2021-07-06T15:02:11.905986Z"
    },
    "execution": {
     "iopub.execute_input": "2023-12-03T20:57:15.685258Z",
     "iopub.status.busy": "2023-12-03T20:57:15.684419Z",
     "iopub.status.idle": "2023-12-03T20:57:15.693847Z",
     "shell.execute_reply": "2023-12-03T20:57:15.692651Z",
     "shell.execute_reply.started": "2023-12-03T20:57:15.685205Z"
    },
    "tags": []
   },
   "outputs": [
    {
     "data": {
      "text/plain": [
       "array([[ 7,  7,  7],\n",
       "       [ 7,  7,  3],\n",
       "       [-4,  4,  6]])"
      ]
     },
     "execution_count": 13,
     "metadata": {},
     "output_type": "execute_result"
    }
   ],
   "source": [
    "# Random Integer values in a 2D array\n",
    "np.random.randint(-4,8, size=(3,3))"
   ]
  },
  {
   "cell_type": "markdown",
   "metadata": {},
   "source": [
    "### Some more Array Attributes and Methods\n"
   ]
  },
  {
   "cell_type": "code",
   "execution_count": 14,
   "metadata": {
    "ExecuteTime": {
     "end_time": "2021-07-06T15:02:12.431373Z",
     "start_time": "2021-07-06T15:02:12.317118Z"
    },
    "execution": {
     "iopub.execute_input": "2023-12-03T20:57:16.825775Z",
     "iopub.status.busy": "2023-12-03T20:57:16.824929Z",
     "iopub.status.idle": "2023-12-03T20:57:16.836816Z",
     "shell.execute_reply": "2023-12-03T20:57:16.835165Z",
     "shell.execute_reply.started": "2023-12-03T20:57:16.825724Z"
    },
    "scrolled": true,
    "tags": []
   },
   "outputs": [
    {
     "data": {
      "text/plain": [
       "array([1, 9, 4, 6, 3, 8, 9, 1])"
      ]
     },
     "execution_count": 14,
     "metadata": {},
     "output_type": "execute_result"
    }
   ],
   "source": [
    "# Generate a random array of integers\n",
    "ran_arr = np.random.randint(1,10,8)\n",
    "ran_arr"
   ]
  },
  {
   "cell_type": "markdown",
   "metadata": {},
   "source": [
    "#### `max`, `min`, `argmax`, `argmin`"
   ]
  },
  {
   "cell_type": "code",
   "execution_count": 15,
   "metadata": {
    "ExecuteTime": {
     "end_time": "2021-07-06T15:02:12.681371Z",
     "start_time": "2021-07-06T15:02:12.562233Z"
    },
    "execution": {
     "iopub.execute_input": "2023-12-03T20:57:18.135726Z",
     "iopub.status.busy": "2023-12-03T20:57:18.134926Z",
     "iopub.status.idle": "2023-12-03T20:57:18.144968Z",
     "shell.execute_reply": "2023-12-03T20:57:18.143637Z",
     "shell.execute_reply.started": "2023-12-03T20:57:18.135677Z"
    },
    "tags": []
   },
   "outputs": [
    {
     "data": {
      "text/plain": [
       "9"
      ]
     },
     "execution_count": 15,
     "metadata": {},
     "output_type": "execute_result"
    }
   ],
   "source": [
    "# Obtain the maximum value in the array\n",
    "ran_arr.max()"
   ]
  },
  {
   "cell_type": "code",
   "execution_count": 16,
   "metadata": {
    "ExecuteTime": {
     "end_time": "2021-07-06T15:02:12.821996Z",
     "start_time": "2021-07-06T15:02:12.686256Z"
    },
    "execution": {
     "iopub.execute_input": "2023-12-03T20:57:18.581583Z",
     "iopub.status.busy": "2023-12-03T20:57:18.580021Z",
     "iopub.status.idle": "2023-12-03T20:57:18.593467Z",
     "shell.execute_reply": "2023-12-03T20:57:18.591596Z",
     "shell.execute_reply.started": "2023-12-03T20:57:18.581503Z"
    },
    "tags": []
   },
   "outputs": [
    {
     "data": {
      "text/plain": [
       "1"
      ]
     },
     "execution_count": 16,
     "metadata": {},
     "output_type": "execute_result"
    }
   ],
   "source": [
    "# Determine the index of the maximum value in the array\n",
    "ran_arr.argmax()"
   ]
  },
  {
   "cell_type": "code",
   "execution_count": 17,
   "metadata": {
    "ExecuteTime": {
     "end_time": "2021-07-06T15:02:12.915256Z",
     "start_time": "2021-07-06T15:02:12.826879Z"
    },
    "execution": {
     "iopub.execute_input": "2023-12-03T20:57:20.320112Z",
     "iopub.status.busy": "2023-12-03T20:57:20.319616Z",
     "iopub.status.idle": "2023-12-03T20:57:20.327695Z",
     "shell.execute_reply": "2023-12-03T20:57:20.326419Z",
     "shell.execute_reply.started": "2023-12-03T20:57:20.320071Z"
    },
    "tags": []
   },
   "outputs": [
    {
     "name": "stdout",
     "output_type": "stream",
     "text": [
      "The smallest value in the array is 1, which is found at index 0.\n"
     ]
    }
   ],
   "source": [
    "# The same can be done for the minimum\n",
    "print(f'The smallest value in the array is {ran_arr.min()}, which is found at index {ran_arr.argmin()}.')"
   ]
  },
  {
   "cell_type": "markdown",
   "metadata": {},
   "source": [
    "### Numpy also provides many functions to create arrays:"
   ]
  },
  {
   "cell_type": "code",
   "execution_count": 18,
   "metadata": {
    "ExecuteTime": {
     "end_time": "2021-07-06T15:02:13.101293Z",
     "start_time": "2021-07-06T15:02:13.027562Z"
    },
    "execution": {
     "iopub.execute_input": "2023-12-03T20:57:21.901389Z",
     "iopub.status.busy": "2023-12-03T20:57:21.900626Z",
     "iopub.status.idle": "2023-12-03T20:57:21.909228Z",
     "shell.execute_reply": "2023-12-03T20:57:21.908243Z",
     "shell.execute_reply.started": "2023-12-03T20:57:21.901345Z"
    },
    "tags": []
   },
   "outputs": [
    {
     "data": {
      "text/plain": [
       "array([0., 0., 0., 0., 0.])"
      ]
     },
     "execution_count": 18,
     "metadata": {},
     "output_type": "execute_result"
    }
   ],
   "source": [
    "# Generating an array of zeros\n",
    "np.zeros(5)"
   ]
  },
  {
   "cell_type": "code",
   "execution_count": 19,
   "metadata": {
    "ExecuteTime": {
     "end_time": "2021-07-06T15:02:13.210179Z",
     "start_time": "2021-07-06T15:02:13.106175Z"
    },
    "execution": {
     "iopub.execute_input": "2023-12-03T20:57:23.256310Z",
     "iopub.status.busy": "2023-12-03T20:57:23.255801Z",
     "iopub.status.idle": "2023-12-03T20:57:23.264277Z",
     "shell.execute_reply": "2023-12-03T20:57:23.263235Z",
     "shell.execute_reply.started": "2023-12-03T20:57:23.256266Z"
    },
    "scrolled": true,
    "tags": []
   },
   "outputs": [
    {
     "data": {
      "text/plain": [
       "array([[0., 0., 0.],\n",
       "       [0., 0., 0.]])"
      ]
     },
     "execution_count": 19,
     "metadata": {},
     "output_type": "execute_result"
    }
   ],
   "source": [
    "# Generating a 2D array of zeros\n",
    "# pass a tupple to define the shape\n",
    "np.zeros((2,3))"
   ]
  },
  {
   "cell_type": "code",
   "execution_count": 20,
   "metadata": {
    "ExecuteTime": {
     "end_time": "2021-07-06T15:02:13.322481Z",
     "start_time": "2021-07-06T15:02:13.217015Z"
    },
    "execution": {
     "iopub.execute_input": "2023-12-03T20:57:23.615583Z",
     "iopub.status.busy": "2023-12-03T20:57:23.614933Z",
     "iopub.status.idle": "2023-12-03T20:57:23.622060Z",
     "shell.execute_reply": "2023-12-03T20:57:23.621258Z",
     "shell.execute_reply.started": "2023-12-03T20:57:23.615547Z"
    },
    "tags": []
   },
   "outputs": [
    {
     "data": {
      "text/plain": [
       "array([1., 1., 1.])"
      ]
     },
     "execution_count": 20,
     "metadata": {},
     "output_type": "execute_result"
    }
   ],
   "source": [
    "# Generating ones\n",
    "np.ones(3)"
   ]
  },
  {
   "cell_type": "code",
   "execution_count": 21,
   "metadata": {
    "ExecuteTime": {
     "end_time": "2021-07-06T15:02:13.475314Z",
     "start_time": "2021-07-06T15:02:13.329319Z"
    },
    "execution": {
     "iopub.execute_input": "2023-12-03T20:57:24.033649Z",
     "iopub.status.busy": "2023-12-03T20:57:24.032110Z",
     "iopub.status.idle": "2023-12-03T20:57:24.043583Z",
     "shell.execute_reply": "2023-12-03T20:57:24.042505Z",
     "shell.execute_reply.started": "2023-12-03T20:57:24.033581Z"
    },
    "tags": []
   },
   "outputs": [
    {
     "data": {
      "text/plain": [
       "array([5., 5., 5.])"
      ]
     },
     "execution_count": 21,
     "metadata": {},
     "output_type": "execute_result"
    }
   ],
   "source": [
    "# Generate an array of 5s\n",
    "np.ones(3)*5"
   ]
  },
  {
   "cell_type": "code",
   "execution_count": 22,
   "metadata": {
    "ExecuteTime": {
     "end_time": "2021-07-06T15:02:13.569061Z",
     "start_time": "2021-07-06T15:02:13.482151Z"
    },
    "execution": {
     "iopub.execute_input": "2023-12-03T20:57:24.508216Z",
     "iopub.status.busy": "2023-12-03T20:57:24.506529Z",
     "iopub.status.idle": "2023-12-03T20:57:24.518331Z",
     "shell.execute_reply": "2023-12-03T20:57:24.517148Z",
     "shell.execute_reply.started": "2023-12-03T20:57:24.508102Z"
    },
    "tags": []
   },
   "outputs": [
    {
     "data": {
      "text/plain": [
       "array([[1., 1., 1.],\n",
       "       [1., 1., 1.],\n",
       "       [1., 1., 1.]])"
      ]
     },
     "execution_count": 22,
     "metadata": {},
     "output_type": "execute_result"
    }
   ],
   "source": [
    "# Generate a 2D array of ones\n",
    "np.ones((3,3))"
   ]
  },
  {
   "cell_type": "code",
   "execution_count": 23,
   "metadata": {
    "ExecuteTime": {
     "end_time": "2021-07-06T15:02:14.068085Z",
     "start_time": "2021-07-06T15:02:13.978241Z"
    },
    "execution": {
     "iopub.execute_input": "2023-12-03T20:57:25.381311Z",
     "iopub.status.busy": "2023-12-03T20:57:25.379624Z",
     "iopub.status.idle": "2023-12-03T20:57:25.389764Z",
     "shell.execute_reply": "2023-12-03T20:57:25.388463Z",
     "shell.execute_reply.started": "2023-12-03T20:57:25.381235Z"
    },
    "tags": []
   },
   "outputs": [
    {
     "name": "stdout",
     "output_type": "stream",
     "text": [
      "[[1 2 3]\n",
      " [1 2 3]\n",
      " [1 2 3]]\n"
     ]
    }
   ],
   "source": [
    "# Repeat an array\n",
    "arr = np.array([[1,2,3]])\n",
    "r1 = np.repeat(arr,3, axis=0)\n",
    "print(r1)"
   ]
  },
  {
   "cell_type": "markdown",
   "metadata": {},
   "source": [
    "## Array indexing\n",
    "\n",
    "Numpy offers several ways to index into arrays and accessing/changing specific elements, rows, columns, etc.\n",
    "\n",
    "**Slicing:** Similar to Python lists, numpy arrays can be sliced. Since arrays may be multidimensional, you must specify a slice for each dimension of the array."
   ]
  },
  {
   "cell_type": "code",
   "execution_count": 24,
   "metadata": {
    "execution": {
     "iopub.execute_input": "2023-12-03T20:57:26.987294Z",
     "iopub.status.busy": "2023-12-03T20:57:26.985692Z",
     "iopub.status.idle": "2023-12-03T20:57:26.996863Z",
     "shell.execute_reply": "2023-12-03T20:57:26.995780Z",
     "shell.execute_reply.started": "2023-12-03T20:57:26.987224Z"
    },
    "tags": []
   },
   "outputs": [
    {
     "data": {
      "text/plain": [
       "array([ 3,  4,  5,  6,  7,  8,  9, 10, 11, 12])"
      ]
     },
     "execution_count": 24,
     "metadata": {},
     "output_type": "execute_result"
    }
   ],
   "source": [
    "# Generate a 1D array\n",
    "a = np.arange(3,13)\n",
    "a"
   ]
  },
  {
   "cell_type": "code",
   "execution_count": 25,
   "metadata": {
    "execution": {
     "iopub.execute_input": "2023-12-03T20:57:27.672446Z",
     "iopub.status.busy": "2023-12-03T20:57:27.670664Z",
     "iopub.status.idle": "2023-12-03T20:57:27.681731Z",
     "shell.execute_reply": "2023-12-03T20:57:27.680210Z",
     "shell.execute_reply.started": "2023-12-03T20:57:27.672366Z"
    },
    "tags": []
   },
   "outputs": [
    {
     "data": {
      "text/plain": [
       "4"
      ]
     },
     "execution_count": 25,
     "metadata": {},
     "output_type": "execute_result"
    }
   ],
   "source": [
    "# Integer indexing\n",
    "a[1]"
   ]
  },
  {
   "cell_type": "code",
   "execution_count": 26,
   "metadata": {
    "execution": {
     "iopub.execute_input": "2023-12-03T20:57:28.016105Z",
     "iopub.status.busy": "2023-12-03T20:57:28.014516Z",
     "iopub.status.idle": "2023-12-03T20:57:28.026542Z",
     "shell.execute_reply": "2023-12-03T20:57:28.025000Z",
     "shell.execute_reply.started": "2023-12-03T20:57:28.016002Z"
    },
    "tags": []
   },
   "outputs": [
    {
     "data": {
      "text/plain": [
       "array([4, 5, 6])"
      ]
     },
     "execution_count": 26,
     "metadata": {},
     "output_type": "execute_result"
    }
   ],
   "source": [
    "# Slicing\n",
    "a[1:4]"
   ]
  },
  {
   "cell_type": "code",
   "execution_count": 27,
   "metadata": {
    "execution": {
     "iopub.execute_input": "2023-12-03T20:57:28.352513Z",
     "iopub.status.busy": "2023-12-03T20:57:28.350927Z",
     "iopub.status.idle": "2023-12-03T20:57:28.361761Z",
     "shell.execute_reply": "2023-12-03T20:57:28.360602Z",
     "shell.execute_reply.started": "2023-12-03T20:57:28.352445Z"
    },
    "tags": []
   },
   "outputs": [
    {
     "data": {
      "text/plain": [
       "array([3, 4, 5, 6])"
      ]
     },
     "execution_count": 27,
     "metadata": {},
     "output_type": "execute_result"
    }
   ],
   "source": [
    "# Slicing\n",
    "a[:4]"
   ]
  },
  {
   "cell_type": "code",
   "execution_count": 28,
   "metadata": {
    "execution": {
     "iopub.execute_input": "2023-12-03T20:57:28.797512Z",
     "iopub.status.busy": "2023-12-03T20:57:28.795665Z",
     "iopub.status.idle": "2023-12-03T20:57:28.806701Z",
     "shell.execute_reply": "2023-12-03T20:57:28.805496Z",
     "shell.execute_reply.started": "2023-12-03T20:57:28.797443Z"
    },
    "tags": []
   },
   "outputs": [
    {
     "data": {
      "text/plain": [
       "array([ 7,  8,  9, 10, 11, 12])"
      ]
     },
     "execution_count": 28,
     "metadata": {},
     "output_type": "execute_result"
    }
   ],
   "source": [
    "# Slicing\n",
    "a[4:]"
   ]
  },
  {
   "cell_type": "code",
   "execution_count": 29,
   "metadata": {
    "execution": {
     "iopub.execute_input": "2023-12-03T20:57:29.600866Z",
     "iopub.status.busy": "2023-12-03T20:57:29.599972Z",
     "iopub.status.idle": "2023-12-03T20:57:29.612424Z",
     "shell.execute_reply": "2023-12-03T20:57:29.610575Z",
     "shell.execute_reply.started": "2023-12-03T20:57:29.600796Z"
    },
    "tags": []
   },
   "outputs": [
    {
     "data": {
      "text/plain": [
       "array([3, 4, 5, 6, 7])"
      ]
     },
     "execution_count": 29,
     "metadata": {},
     "output_type": "execute_result"
    }
   ],
   "source": [
    "# Slice and assign to a new variable\n",
    "slice_a = a[0:5]\n",
    "slice_a"
   ]
  },
  {
   "cell_type": "markdown",
   "metadata": {},
   "source": [
    "You can also assign elements of the array to new values"
   ]
  },
  {
   "cell_type": "code",
   "execution_count": 30,
   "metadata": {
    "execution": {
     "iopub.execute_input": "2023-12-03T20:57:30.548502Z",
     "iopub.status.busy": "2023-12-03T20:57:30.546732Z",
     "iopub.status.idle": "2023-12-03T20:57:30.557203Z",
     "shell.execute_reply": "2023-12-03T20:57:30.555939Z",
     "shell.execute_reply.started": "2023-12-03T20:57:30.548436Z"
    },
    "tags": []
   },
   "outputs": [
    {
     "data": {
      "text/plain": [
       "array([ 3,  4,  5, 10,  7])"
      ]
     },
     "execution_count": 30,
     "metadata": {},
     "output_type": "execute_result"
    }
   ],
   "source": [
    "slice_a[3] = 10\n",
    "slice_a"
   ]
  },
  {
   "cell_type": "markdown",
   "metadata": {},
   "source": [
    "But notice that this actually changes the original array as well!"
   ]
  },
  {
   "cell_type": "code",
   "execution_count": 31,
   "metadata": {
    "execution": {
     "iopub.execute_input": "2023-12-03T20:57:31.563874Z",
     "iopub.status.busy": "2023-12-03T20:57:31.562247Z",
     "iopub.status.idle": "2023-12-03T20:57:31.574191Z",
     "shell.execute_reply": "2023-12-03T20:57:31.572530Z",
     "shell.execute_reply.started": "2023-12-03T20:57:31.563804Z"
    },
    "tags": []
   },
   "outputs": [
    {
     "data": {
      "text/plain": [
       "array([ 3,  4,  5, 10,  7,  8,  9, 10, 11, 12])"
      ]
     },
     "execution_count": 31,
     "metadata": {},
     "output_type": "execute_result"
    }
   ],
   "source": [
    "a"
   ]
  },
  {
   "cell_type": "markdown",
   "metadata": {},
   "source": [
    "To avoid this, you can create a copy instead"
   ]
  },
  {
   "cell_type": "code",
   "execution_count": 32,
   "metadata": {
    "execution": {
     "iopub.execute_input": "2023-12-03T20:57:33.264719Z",
     "iopub.status.busy": "2023-12-03T20:57:33.263200Z",
     "iopub.status.idle": "2023-12-03T20:57:33.274220Z",
     "shell.execute_reply": "2023-12-03T20:57:33.272572Z",
     "shell.execute_reply.started": "2023-12-03T20:57:33.264650Z"
    },
    "tags": []
   },
   "outputs": [
    {
     "name": "stdout",
     "output_type": "stream",
     "text": [
      "[ 3  4  5 10  7] [ 3  4  5  6  7  8  9 10 11 12]\n"
     ]
    }
   ],
   "source": [
    "b = np.arange(3,13)\n",
    "slice_b = b[0:5].copy()\n",
    "slice_b[3] = 10\n",
    "\n",
    "print(slice_b, b)"
   ]
  },
  {
   "cell_type": "markdown",
   "metadata": {},
   "source": [
    "### Indexing 2D arrays\n",
    "\n",
    "The first index of a 2D array is into the rows, and the second index determines the column(s)."
   ]
  },
  {
   "cell_type": "code",
   "execution_count": 33,
   "metadata": {
    "execution": {
     "iopub.execute_input": "2023-12-03T20:57:34.637859Z",
     "iopub.status.busy": "2023-12-03T20:57:34.636153Z",
     "iopub.status.idle": "2023-12-03T20:57:34.649335Z",
     "shell.execute_reply": "2023-12-03T20:57:34.647687Z",
     "shell.execute_reply.started": "2023-12-03T20:57:34.637788Z"
    },
    "tags": []
   },
   "outputs": [
    {
     "data": {
      "text/plain": [
       "array([[ 5, 10, 20],\n",
       "       [20, 25, 30],\n",
       "       [35, 40, 10]])"
      ]
     },
     "execution_count": 33,
     "metadata": {},
     "output_type": "execute_result"
    }
   ],
   "source": [
    "# Create a 2D array\n",
    "mat = np.array(([5,10,20],[20,25,30],[35,40,10]))\n",
    "mat"
   ]
  },
  {
   "cell_type": "code",
   "execution_count": 34,
   "metadata": {
    "execution": {
     "iopub.execute_input": "2023-12-03T20:57:35.250185Z",
     "iopub.status.busy": "2023-12-03T20:57:35.248313Z",
     "iopub.status.idle": "2023-12-03T20:57:35.260970Z",
     "shell.execute_reply": "2023-12-03T20:57:35.259763Z",
     "shell.execute_reply.started": "2023-12-03T20:57:35.250022Z"
    },
    "tags": []
   },
   "outputs": [
    {
     "data": {
      "text/plain": [
       "array([ 5, 10, 20])"
      ]
     },
     "execution_count": 34,
     "metadata": {},
     "output_type": "execute_result"
    }
   ],
   "source": [
    "# Select the first row\n",
    "mat[0]"
   ]
  },
  {
   "cell_type": "code",
   "execution_count": 35,
   "metadata": {
    "execution": {
     "iopub.execute_input": "2023-12-03T20:57:35.883753Z",
     "iopub.status.busy": "2023-12-03T20:57:35.882696Z",
     "iopub.status.idle": "2023-12-03T20:57:35.894263Z",
     "shell.execute_reply": "2023-12-03T20:57:35.892426Z",
     "shell.execute_reply.started": "2023-12-03T20:57:35.883704Z"
    },
    "tags": []
   },
   "outputs": [
    {
     "data": {
      "text/plain": [
       "array([10, 25, 40])"
      ]
     },
     "execution_count": 35,
     "metadata": {},
     "output_type": "execute_result"
    }
   ],
   "source": [
    "# Select the second column \n",
    "mat[:, 1]"
   ]
  },
  {
   "cell_type": "code",
   "execution_count": 36,
   "metadata": {
    "execution": {
     "iopub.execute_input": "2023-12-03T20:57:36.267516Z",
     "iopub.status.busy": "2023-12-03T20:57:36.266445Z",
     "iopub.status.idle": "2023-12-03T20:57:36.279233Z",
     "shell.execute_reply": "2023-12-03T20:57:36.277865Z",
     "shell.execute_reply.started": "2023-12-03T20:57:36.267451Z"
    },
    "tags": []
   },
   "outputs": [
    {
     "data": {
      "text/plain": [
       "array([[10, 20],\n",
       "       [25, 30]])"
      ]
     },
     "execution_count": 36,
     "metadata": {},
     "output_type": "execute_result"
    }
   ],
   "source": [
    "# Select the first and second rows and the second and third columns \n",
    "mat[:2, 1:]"
   ]
  },
  {
   "cell_type": "code",
   "execution_count": 37,
   "metadata": {
    "execution": {
     "iopub.execute_input": "2023-12-03T20:57:36.711706Z",
     "iopub.status.busy": "2023-12-03T20:57:36.710194Z",
     "iopub.status.idle": "2023-12-03T20:57:36.724112Z",
     "shell.execute_reply": "2023-12-03T20:57:36.722876Z",
     "shell.execute_reply.started": "2023-12-03T20:57:36.711638Z"
    },
    "tags": []
   },
   "outputs": [
    {
     "data": {
      "text/plain": [
       "array([[  5, 100, 100],\n",
       "       [ 20, 100, 100],\n",
       "       [ 35,  40,  10]])"
      ]
     },
     "execution_count": 37,
     "metadata": {},
     "output_type": "execute_result"
    }
   ],
   "source": [
    "# You can reassign multiple elements of the array to the same value\n",
    "mat[:2, 1:] = 100\n",
    "mat"
   ]
  },
  {
   "cell_type": "markdown",
   "metadata": {},
   "source": [
    "<div class=\"alert alert-info\"><h4>4.</h4><p>In your notebook, experiment with indexing into your arr_2d array:</p></div>\n",
    "\n",
    "```python\n",
    "# For example\n",
    "print(\"Row 2:\", arr_2d[1, :])\n",
    "print(\"Last column:\", arr_2d[:, -1])\n",
    "```\n",
    "\n",
    "<div class=\"alert alert-info\"><h4>5.</h4><p>In a new code cell, create a new array by indexing into your previous one:</p></div>\n",
    "\n",
    "```python\n",
    "new_arr = arr_2d[1,2:5]\n",
    "print(new_arr)\n",
    "```\n",
    "\n",
    "<div class=\"alert alert-info\"><h4>6.</h4><p>Assign some of the values of this new array to a random integer</p></div>\n",
    "\n",
    "```python\n",
    "new_arr[1:] = np.random.randint(9)\n",
    "print(new_arr)\n",
    "```\n",
    "\n",
    "<div class=\"alert alert-info\"><h4>7.</h4><p>Take a look at your original array as well...</p></div>\n",
    "\n",
    "```python\n",
    "print(arr_2d)\n",
    "```"
   ]
  },
  {
   "cell_type": "markdown",
   "metadata": {},
   "source": [
    "### Operations\n",
    "\n",
    "NumPy provides a variety of operations that can be performed on arrays and also between arrays:"
   ]
  },
  {
   "cell_type": "code",
   "execution_count": 38,
   "metadata": {
    "execution": {
     "iopub.execute_input": "2023-12-03T20:58:06.835737Z",
     "iopub.status.busy": "2023-12-03T20:58:06.833803Z",
     "iopub.status.idle": "2023-12-03T20:58:06.849972Z",
     "shell.execute_reply": "2023-12-03T20:58:06.848301Z",
     "shell.execute_reply.started": "2023-12-03T20:58:06.835627Z"
    },
    "tags": []
   },
   "outputs": [
    {
     "name": "stdout",
     "output_type": "stream",
     "text": [
      "arr_2d plus 2:\n",
      "\n",
      "[[ 3  4  5]\n",
      " [ 6  7  8]\n",
      " [ 9 10 11]]\n",
      "\n",
      "\n",
      "arr_2d times 2:\n",
      "\n",
      "[[ 2  4  6]\n",
      " [ 8 10 12]\n",
      " [14 16 18]]\n",
      "\n",
      "\n",
      "arr_2d squared:\n",
      "\n",
      "[[ 1  4  9]\n",
      " [16 25 36]\n",
      " [49 64 81]]\n",
      "\n",
      "\n",
      "arr_2d square rooted:\n",
      "\n",
      "[[1.         1.41421356 1.73205081]\n",
      " [2.         2.23606798 2.44948974]\n",
      " [2.64575131 2.82842712 3.        ]]\n"
     ]
    }
   ],
   "source": [
    "arr_2d = np.array([[1, 2, 3], [4, 5, 6], [7, 8, 9]])\n",
    "\n",
    "# Array operations\n",
    "arr_sum = arr_2d + 2\n",
    "arr_product = arr_2d * 2\n",
    "arr_squared = arr_2d ** 2\n",
    "arr_sqrroot = np.sqrt(arr_2d)\n",
    "\n",
    "print(\"arr_2d plus 2:\\n\")\n",
    "print(arr_sum)\n",
    "\n",
    "print(\"\\n\\narr_2d times 2:\\n\")\n",
    "print(arr_product)\n",
    "\n",
    "print(\"\\n\\narr_2d squared:\\n\")\n",
    "print(arr_squared)\n",
    "\n",
    "print(\"\\n\\narr_2d square rooted:\\n\")\n",
    "print(arr_sqrroot)"
   ]
  },
  {
   "cell_type": "markdown",
   "metadata": {},
   "source": [
    "<div class=\"alert alert-info\"><h4>7.</h4><p>Add the following code to your notebook:</p></div>\n",
    "\n",
    "```python\n",
    "# Create a random array of the same shape as our original one\n",
    "print('Original:\\n', arr_2d)\n",
    "\n",
    "arr_2d_rand = np.random.randint(1,10,arr_2d.shape)\n",
    "print('\\nRandom:\\n', arr_2d_rand)\n",
    "\n",
    "arr_2d_prod = arr_2d*arr_2d_rand\n",
    "print('\\nProduct between the two:\\n', arr_2d_prod)\n",
    "```\n",
    "\n",
    "<div class=\"alert alert-info\"><h4>8.</h4><p>What do you notice about the multiplication that you did? What values are multiplied by each other? Include your observations in a Mardown cell in your notebook.</p></div>"
   ]
  },
  {
   "cell_type": "markdown",
   "metadata": {
    "tags": []
   },
   "source": [
    "# NumPy Basics\n",
    "\n",
    "Below is a compilation of functions, and NumPy uses that will be helpful when using numpy further. You can also check out the `NumPy Cheat Sheet Data Analysis in Python.pdf` in the Lessons folder. "
   ]
  },
  {
   "cell_type": "markdown",
   "metadata": {},
   "source": [
    "### NumPy Basics\n",
    "\n",
    "| Operator | Description |\n",
    "|:---- |:---- |\n",
    "| **`np.array([1,2,3])`**           | **1d array** | \n",
    "| **`np.array([(1,2,3),(4,5,6)])`** | **2d array** | \n",
    "| **`np.arange(start,stop,step)`**  | **range array**  | "
   ]
  },
  {
   "cell_type": "markdown",
   "metadata": {},
   "source": [
    "### Placeholders\n",
    "\n",
    "| Operator | Description |\n",
    "|:---- |:---- |\n",
    "| **`np.linspace(0,2,9)`**      | **Add evenly spaced values btw interval to array of length** |\n",
    "| **`np.zeros((1,2))`**         | **Create and array filled with zeros** |\n",
    "| **`np.ones((1,2))`**          | **Creates an array filled with ones** |\n",
    "| **`np.random.random((5,5))`** | **Creates random array** |\n",
    "| **`np.empty((2,2))`**         | **Creates an empty array** |"
   ]
  },
  {
   "cell_type": "markdown",
   "metadata": {},
   "source": [
    "### Array\n",
    "\n",
    "| Operator | Description |\n",
    "|:---- |:---- |\n",
    "| **`array.shape`**        | **Dimensions (Rows,Columns)** |\n",
    "| **`len(array)`**         | **Length of Array** |\n",
    "| **`array.ndim`**         | **Number of Array Dimensions** |\n",
    "| **`array.dtype`**        | **Data Type** |\n",
    "| **`array.astype(type)`** | **Converts to Data Type** |\n",
    "| **`type(array)`**        | **Type of Array** |"
   ]
  },
  {
   "cell_type": "markdown",
   "metadata": {},
   "source": [
    "### Copying/Sorting\n",
    "\n",
    "| Operator | Description |\n",
    "|:---- |:---- |\n",
    "| **`np.copy(array)`**       | **Creates copy of array** |\n",
    "| **`other = array.copy()`** | **Creates deep copy of array** |\n",
    "| **`array.sort()`**         | **Sorts an array** |\n",
    "| **`array.sort(axis=0)`**   | **Sorts axis of array** |"
   ]
  },
  {
   "cell_type": "markdown",
   "metadata": {},
   "source": [
    "## Array Manipulation"
   ]
  },
  {
   "cell_type": "markdown",
   "metadata": {},
   "source": [
    "### Adding or Removing Elements\n",
    "\n",
    "| Operator | Description |\n",
    "|:---- |:---- |\n",
    "| **`np.append(a,b)`**               | **Append items to array** |\n",
    "| **`np.insert(array, 1, 2, axis)`** | **Insert items into array at axis 0 or 1** |\n",
    "| **`np.resize((2,4))`**             | **Resize array to shape(2,4)** |\n",
    "| **`np.delete(array,1,axis)`**      | **Deletes items from array** |"
   ]
  },
  {
   "cell_type": "markdown",
   "metadata": {},
   "source": [
    "### Combining Arrays\n",
    "\n",
    "| Operator | Description |\n",
    "|:---- |:---- |\n",
    "| **`np.concatenate((a,b),axis=0)`** | **Split an array into multiple sub-arrays.** |\n",
    "| **`np.vstack((a,b))`**             | **Split an array in sub-arrays of (nearly) identical size** |\n",
    "| **`np.hstack((a,b))`**             | **Split the array horizontally at 3rd index** |"
   ]
  },
  {
   "cell_type": "markdown",
   "metadata": {},
   "source": [
    "### More\n",
    "\n",
    "| Operator | Description |\n",
    "|:---- |:---- |\n",
    "| **`other = ndarray.flatten()`**       | **Flattens a 2d array to 1d** |\n",
    "| **`array = np.transpose(other)`**     | **Transpose array** |\n",
    "| **`array.T`**                         | **Transpose array** |\n",
    "| **`inverse = np.linalg.inv(matrix)`** | **Inverse of a given matrix** |"
   ]
  },
  {
   "cell_type": "markdown",
   "metadata": {},
   "source": [
    "## Slicing and Subsetting\n",
    "\n",
    "| Operator | Description |\n",
    "|:---- |:---- |\n",
    "| **`array[i]`**        | **1d array at index i** |\n",
    "| **`array[i,j]`**      | **2d array at index[i][j]** |\n",
    "| **`array[i<4]`**      | **Boolean Indexing, see Tricks** |\n",
    "| **`array[0:3]`**      | **Select items of index 0, 1 and 2** |\n",
    "| **`array[0:2,1]`**    | **Select items of rows 0 and 1 at column 1** |\n",
    "| **`array[:1]`**       | **Select items of row 0 (equals array[0:1, :])** |\n",
    "| **`array[1:2, :]`**   | **Select items of row 1** |\n",
    "| **`[comment]: <> (`** | **array[1,...]** |\n",
    "| **`array[ : :-1]`**   | **Reverses array** |"
   ]
  },
  {
   "cell_type": "markdown",
   "metadata": {},
   "source": [
    "## Mathematics"
   ]
  },
  {
   "cell_type": "markdown",
   "metadata": {},
   "source": [
    "### Operations\n",
    "\n",
    "| Operator | Description |\n",
    "|:---- |:---- |\n",
    "| **`np.add(x,y)`**        | **Addition** |\n",
    "| **`np.substract(x,y)`**  | **Subtraction** |\n",
    "| **`np.divide(x,y)`**     | **Division** |\n",
    "| **`np.multiply(x,y)`**   | **Multiplication** |\n",
    "| **`np.sqrt(x)`**         | **Square Root** |\n",
    "| **`np.sin(x)`**          | **Element-wise sine** |\n",
    "| **`np.cos(x)`**          | **Element-wise cosine** |\n",
    "| **`np.log(x)`**          | **Element-wise natural log** |\n",
    "| **`np.dot(x,y)`**        | **Dot product** |\n",
    "| **`np.roots([1,0,-4])`** | **Roots of a given polynomial coefficients** |"
   ]
  },
  {
   "cell_type": "markdown",
   "metadata": {},
   "source": [
    "### Comparison\n",
    "\n",
    "| Operator | Description |\n",
    "|:----: |:---- |\n",
    "| **`==`** | **Equal** |\n",
    "| **`!=`** | **Not equal** |\n",
    "| **`<`**  | **Smaller than** |\n",
    "| **`>`**  | **Greater than** |\n",
    "| **`<=`** | **Smaller than or equal** |\n",
    "| **`>=`** | **Greater than or equal** |\n",
    "| **`np.array_equal(x,y)`** | **Array-wise comparison** |"
   ]
  },
  {
   "cell_type": "markdown",
   "metadata": {},
   "source": [
    "## Basic Statistics\n",
    "\n",
    "| Operator | Description |\n",
    "|:---- |:---- |\n",
    "| **`np.mean(array)`**   | **Mean** |\n",
    "| **`np.median(array)`** | **Median** |\n",
    "| **`array.corrcoef()`** | **Correlation Coefficient** |\n",
    "| **`np.std(array)`**    | **Standard Deviation** |"
   ]
  },
  {
   "cell_type": "markdown",
   "metadata": {},
   "source": [
    "### More\n",
    "\n",
    "| Operator | Description |\n",
    "|:---- |:---- |\n",
    "| **`array.sum()`**          | **Array-wise sum** |\n",
    "| **`array.min()`**          | **Array-wise minimum value** |\n",
    "| **`array.max(axis=0)`**    | **Maximum value of specified axis** |\n",
    "| **`array.cumsum(axis=0)`** | **Cumulative sum of specified axis** |"
   ]
  },
  {
   "cell_type": "markdown",
   "metadata": {},
   "source": [
    "## Challenge\n",
    "\n",
    "**1. Download `Challenge_33.ipynb` from Teams.**\n",
    "\n",
    "**2. Upload this file into your own *Project* on Deepnote by dragging the `Challenge_33.ipynb` file onto the Notebooks tab on the left-hand side.** \n",
    "\n",
    "**3. Use this notebook to complete Challenge 33 in Deepnote.**"
   ]
  },
  {
   "cell_type": "code",
   "execution_count": null,
   "metadata": {},
   "outputs": [],
   "source": []
  }
 ],
 "metadata": {
  "hide_input": false,
  "kernelspec": {
   "display_name": "Python 3 (ipykernel)",
   "language": "python",
   "name": "python3"
  },
  "language_info": {
   "codemirror_mode": {
    "name": "ipython",
    "version": 3
   },
   "file_extension": ".py",
   "mimetype": "text/x-python",
   "name": "python",
   "nbconvert_exporter": "python",
   "pygments_lexer": "ipython3",
   "version": "3.10.12"
  },
  "toc": {
   "base_numbering": 1,
   "nav_menu": {},
   "number_sections": true,
   "sideBar": true,
   "skip_h1_title": false,
   "title_cell": "Table of Contents",
   "title_sidebar": "Contents",
   "toc_cell": false,
   "toc_position": {
    "height": "calc(100% - 180px)",
    "left": "10px",
    "top": "150px",
    "width": "208px"
   },
   "toc_section_display": true,
   "toc_window_display": false
  },
  "varInspector": {
   "cols": {
    "lenName": 16,
    "lenType": 16,
    "lenVar": 40
   },
   "kernels_config": {
    "python": {
     "delete_cmd_postfix": "",
     "delete_cmd_prefix": "del ",
     "library": "var_list.py",
     "varRefreshCmd": "print(var_dic_list())"
    },
    "r": {
     "delete_cmd_postfix": ") ",
     "delete_cmd_prefix": "rm(",
     "library": "var_list.r",
     "varRefreshCmd": "cat(var_dic_list()) "
    }
   },
   "types_to_exclude": [
    "module",
    "function",
    "builtin_function_or_method",
    "instance",
    "_Feature"
   ],
   "window_display": false
  }
 },
 "nbformat": 4,
 "nbformat_minor": 4
}
