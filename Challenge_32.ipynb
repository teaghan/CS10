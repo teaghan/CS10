{
 "cells": [
  {
   "cell_type": "markdown",
   "id": "2d9ecd9f-402c-4e34-972f-c366f5e64ebc",
   "metadata": {},
   "source": [
    "# Using Matplotlib to explore data on video game sales\n",
    "\n",
    "*By completing these challenges, you'll demonstrate that you understand key programming concepts.*"
   ]
  },
  {
   "cell_type": "markdown",
   "id": "70120f93-3fcb-4a92-9482-a2a470ea870c",
   "metadata": {},
   "source": [
    "For this challenge, we will use the `vgsales.csv` file that you used in Challenge 31.\n",
    "\n",
    "1. Make the following imports:\n",
    "    - the `pandas` module and assign it to the variable name `pd`\n",
    "    - the `matplotlib.pyplot` module and assign it to the variable name `plt`"
   ]
  },
  {
   "cell_type": "code",
   "execution_count": null,
   "id": "894008c8-d257-4b6e-ad1b-a60b7c19b329",
   "metadata": {},
   "outputs": [],
   "source": []
  },
  {
   "cell_type": "markdown",
   "id": "5bb7210d-1f99-4f6b-a08a-6adce79bf066",
   "metadata": {},
   "source": [
    "2. Load the `vgsales.csv` file into a pandas DataFrame and display the data within your notebook."
   ]
  },
  {
   "cell_type": "code",
   "execution_count": null,
   "id": "ed6fa445-05f4-49a1-93da-f567ee270a64",
   "metadata": {},
   "outputs": [],
   "source": []
  },
  {
   "cell_type": "markdown",
   "id": "1cdb35c7-526a-4776-9815-91a2b21e7560",
   "metadata": {},
   "source": [
    "3. Using this dataframe, create a series for the number of video games sold each year. Assign this new series to a variable. (Hint: take a look at the \"Real-World\" examples in the lesson)."
   ]
  },
  {
   "cell_type": "code",
   "execution_count": null,
   "id": "d2ff4730-f8fd-41e5-bbd2-5e91ba1be680",
   "metadata": {},
   "outputs": [],
   "source": []
  },
  {
   "cell_type": "markdown",
   "id": "88c13bab-7dd6-42c6-b89d-97821c7f71f9",
   "metadata": {},
   "source": [
    "4. If you print this Series, you'll notice that rows are in descending order of number of games. You can use the following line of code to sort series based on the row names:\n",
    "\n",
    "```python\n",
    "sorted_indices = sorted(your_series.index)\n",
    "print(your_series[sorted_indices])\n",
    "```\n",
    "\n",
    "Resort your Series in order of the year. Print the result to make sure that it worked."
   ]
  },
  {
   "cell_type": "code",
   "execution_count": null,
   "id": "0c6b682d-a3d6-4edb-9d32-1b4333443aed",
   "metadata": {},
   "outputs": [],
   "source": []
  },
  {
   "cell_type": "markdown",
   "id": "6bb01b12-40f0-4b4e-8671-c96814072166",
   "metadata": {},
   "source": [
    "5. Use this Series to create a bar chart like the one below. Can you make yours prettier somehow?\n",
    "\n",
    "![year bar](games_per_year.png)"
   ]
  },
  {
   "cell_type": "code",
   "execution_count": null,
   "id": "da7a7b64-4747-4dbd-8211-f03b09b6d025",
   "metadata": {},
   "outputs": [],
   "source": []
  },
  {
   "cell_type": "markdown",
   "id": "5303bcd2-196f-4757-83be-90e6e9e5c15b",
   "metadata": {},
   "source": [
    "6. Use a similar procedure to create a pie chart of the 10 most common platforms in this dataset. Your pie chart should look something like the one below (but hopefully nicer).\n",
    "\n",
    "![platform pie](platform_pie.png)"
   ]
  },
  {
   "cell_type": "code",
   "execution_count": null,
   "id": "b587da82-4ade-451e-afc3-f3734195b05e",
   "metadata": {},
   "outputs": [],
   "source": []
  },
  {
   "cell_type": "markdown",
   "id": "54611941-c3df-4207-bf6f-e7d6f5d90850",
   "metadata": {},
   "source": [
    "7. Create one more plot that shows something interesting about the data. You get to choose what that plot includes!"
   ]
  },
  {
   "cell_type": "code",
   "execution_count": null,
   "id": "9ec5cd59-85b9-40e2-a933-18da3a82c88d",
   "metadata": {},
   "outputs": [],
   "source": []
  }
 ],
 "metadata": {
  "kernelspec": {
   "display_name": "Python 3 (ipykernel)",
   "language": "python",
   "name": "python3"
  },
  "language_info": {
   "codemirror_mode": {
    "name": "ipython",
    "version": 3
   },
   "file_extension": ".py",
   "mimetype": "text/x-python",
   "name": "python",
   "nbconvert_exporter": "python",
   "pygments_lexer": "ipython3",
   "version": "3.10.12"
  }
 },
 "nbformat": 4,
 "nbformat_minor": 5
}
