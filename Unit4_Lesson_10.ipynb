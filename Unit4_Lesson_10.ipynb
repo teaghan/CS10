{
 "cells": [
  {
   "cell_type": "markdown",
   "metadata": {
    "ExecuteTime": {
     "end_time": "2021-05-27T18:42:32.348446Z",
     "start_time": "2021-05-27T18:42:32.329894Z"
    }
   },
   "source": [
    "> *The creation of the lessons in this unit relied heavily on the existing lessons created by Mrs. FitzZaland as well as the [lecture series](https://github.com/milaan9/09_Python_NumPy_Module) produced by Dr. Milaan Parmar. Additionally, these lessons have largely been modelled off of the book [Think Python](https://open.umn.edu/opentextbooks/textbooks/43) by Allen Downey.*"
   ]
  },
  {
   "cell_type": "markdown",
   "metadata": {},
   "source": [
    "# Python NumPy\n",
    "\n",
    "In this lesson, you will learn various NumPy concepts like how to install NumPy, arrays, functions, matrix multiplication, etc. This NumPy in Python tutorial will help you learn all Python NumPy basics.\n",
    "\n",
    "**If you'd like, you can check out [this video](https://www.youtube.com/watch?v=xECXZ3tyONo) on NumPy.**\n",
    "\n",
    "**[Numpy](http://www.numpy.org/)** (‘Numerical Python’) is the core open source library for scientific computing in Python. It is a Linear Algebra Library for Python, it is so important for Finance with Python. It is a very useful library to perform mathematical and statistical operations in Python. It provides a high-performance multidimensional array object, and tools for working with these arrays. In this part, we will review the essential functions that you need to know for the tutorial on 'TensorFlow.'"
   ]
  },
  {
   "cell_type": "markdown",
   "metadata": {},
   "source": [
    "## Why use NumPy?\n",
    "\n",
    "NumPy is memory efficiency, meaning it can handle the vast amount of data more accessible than any other library. Besides, NumPy is very convenient to work with, especially for matrix multiplication and reshaping. On top of that, NumPy is fast. In fact, TensorFlow and Scikit learn to use NumPy array to compute the matrix multiplication in the back end."
   ]
  },
  {
   "cell_type": "markdown",
   "metadata": {},
   "source": [
    "# Python NumPy Array: \n",
    "\n",
    "A numpy array is a grid of values, all of the same type, and is indexed by a tuple of nonnegative integers. The number of dimensions is the rank of the array; the shape of an array is a tuple of integers giving the size of the array along each dimension.\n",
    "\n",
    "Numpy array is a powerful N-dimensional array object which is in the form of rows and columns. We can initialize NumPy arrays from nested Python lists and access it elements."
   ]
  },
  {
   "cell_type": "markdown",
   "metadata": {
    "ExecuteTime": {
     "end_time": "2021-05-27T18:42:42.296170Z",
     "start_time": "2021-05-27T18:42:42.277617Z"
    }
   },
   "source": [
    "## NumPy Array Types:\n",
    "\n",
    "<div>\n",
    "<img src=\"images/array.png\" width=\"700\"/>\n",
    "</div>"
   ]
  },
  {
   "cell_type": "markdown",
   "metadata": {},
   "source": [
    "## Create a NumPy Array\n",
    "\n",
    "Simplest way to create an array in Numpy is to use Python List"
   ]
  },
  {
   "cell_type": "markdown",
   "metadata": {},
   "source": [
    "### Load in NumPy Library"
   ]
  },
  {
   "cell_type": "code",
   "execution_count": 1,
   "metadata": {
    "ExecuteTime": {
     "end_time": "2021-07-06T15:02:08.826412Z",
     "start_time": "2021-07-06T15:02:08.496336Z"
    },
    "execution": {
     "iopub.execute_input": "2023-11-27T00:29:53.770654Z",
     "iopub.status.busy": "2023-11-27T00:29:53.770448Z",
     "iopub.status.idle": "2023-11-27T00:29:53.908584Z",
     "shell.execute_reply": "2023-11-27T00:29:53.906761Z",
     "shell.execute_reply.started": "2023-11-27T00:29:53.770633Z"
    }
   },
   "outputs": [],
   "source": [
    "import numpy as np"
   ]
  },
  {
   "cell_type": "code",
   "execution_count": 2,
   "metadata": {
    "ExecuteTime": {
     "end_time": "2021-07-06T15:02:08.857663Z",
     "start_time": "2021-07-06T15:02:08.830319Z"
    },
    "execution": {
     "iopub.execute_input": "2023-11-27T00:29:53.909836Z",
     "iopub.status.busy": "2023-11-27T00:29:53.909544Z",
     "iopub.status.idle": "2023-11-27T00:29:53.918292Z",
     "shell.execute_reply": "2023-11-27T00:29:53.917396Z",
     "shell.execute_reply.started": "2023-11-27T00:29:53.909814Z"
    }
   },
   "outputs": [
    {
     "data": {
      "text/plain": [
       "[1, 2, 3, 4]"
      ]
     },
     "execution_count": 2,
     "metadata": {},
     "output_type": "execute_result"
    }
   ],
   "source": [
    "my_list = [1,2,3,4]\n",
    "my_list"
   ]
  },
  {
   "cell_type": "markdown",
   "metadata": {},
   "source": [
    "To convert python list to a numpy array by using the object **`np.array`**."
   ]
  },
  {
   "cell_type": "code",
   "execution_count": 3,
   "metadata": {
    "ExecuteTime": {
     "end_time": "2021-07-06T15:02:08.951412Z",
     "start_time": "2021-07-06T15:02:08.863522Z"
    },
    "execution": {
     "iopub.execute_input": "2023-11-27T00:29:53.919533Z",
     "iopub.status.busy": "2023-11-27T00:29:53.919301Z",
     "iopub.status.idle": "2023-11-27T00:29:53.938918Z",
     "shell.execute_reply": "2023-11-27T00:29:53.937767Z",
     "shell.execute_reply.started": "2023-11-27T00:29:53.919512Z"
    }
   },
   "outputs": [
    {
     "data": {
      "text/plain": [
       "array([1, 2, 3, 4])"
      ]
     },
     "execution_count": 3,
     "metadata": {},
     "output_type": "execute_result"
    }
   ],
   "source": [
    "numpy_array_from_list = np.array(my_list)\n",
    "numpy_array_from_list"
   ]
  },
  {
   "cell_type": "markdown",
   "metadata": {},
   "source": [
    "In practice, there is no need to declare a Python List. The operation can be combined."
   ]
  },
  {
   "cell_type": "code",
   "execution_count": 4,
   "metadata": {
    "ExecuteTime": {
     "end_time": "2021-07-06T15:02:09.059808Z",
     "start_time": "2021-07-06T15:02:08.958248Z"
    },
    "execution": {
     "iopub.execute_input": "2023-11-27T00:29:53.940462Z",
     "iopub.status.busy": "2023-11-27T00:29:53.940157Z",
     "iopub.status.idle": "2023-11-27T00:29:53.950977Z",
     "shell.execute_reply": "2023-11-27T00:29:53.949968Z",
     "shell.execute_reply.started": "2023-11-27T00:29:53.940437Z"
    }
   },
   "outputs": [
    {
     "data": {
      "text/plain": [
       "array([1, 2, 3, 4])"
      ]
     },
     "execution_count": 4,
     "metadata": {},
     "output_type": "execute_result"
    }
   ],
   "source": [
    "my_list1  = np.array([1,2,3,4])\n",
    "my_list1"
   ]
  },
  {
   "cell_type": "markdown",
   "metadata": {},
   "source": [
    ">**NOTE:** Numpy documentation states use of **`np.ndarray`** to create an array. However, this the recommended method\n",
    "\n",
    "You can also create a numpy array from a Tuple"
   ]
  },
  {
   "cell_type": "code",
   "execution_count": 5,
   "metadata": {
    "ExecuteTime": {
     "end_time": "2021-07-06T15:02:09.154539Z",
     "start_time": "2021-07-06T15:02:09.063716Z"
    },
    "execution": {
     "iopub.execute_input": "2023-11-27T00:29:53.954149Z",
     "iopub.status.busy": "2023-11-27T00:29:53.953858Z",
     "iopub.status.idle": "2023-11-27T00:29:53.964144Z",
     "shell.execute_reply": "2023-11-27T00:29:53.963189Z",
     "shell.execute_reply.started": "2023-11-27T00:29:53.954125Z"
    }
   },
   "outputs": [
    {
     "data": {
      "text/plain": [
       "array([1, 2, 3, 4])"
      ]
     },
     "execution_count": 5,
     "metadata": {},
     "output_type": "execute_result"
    }
   ],
   "source": [
    "my_list2 = np.array(range(1,5))\n",
    "my_list2"
   ]
  },
  {
   "cell_type": "markdown",
   "metadata": {},
   "source": [
    "## Numpy Array basics "
   ]
  },
  {
   "cell_type": "markdown",
   "metadata": {},
   "source": [
    "We can initialize numpy arrays from nested Python lists, and access elements using square brackets **`[]`**:"
   ]
  },
  {
   "cell_type": "code",
   "execution_count": 6,
   "metadata": {
    "ExecuteTime": {
     "end_time": "2021-07-06T15:02:09.264883Z",
     "start_time": "2021-07-06T15:02:09.160396Z"
    },
    "execution": {
     "iopub.execute_input": "2023-11-27T00:29:53.965255Z",
     "iopub.status.busy": "2023-11-27T00:29:53.965004Z",
     "iopub.status.idle": "2023-11-27T00:29:53.975681Z",
     "shell.execute_reply": "2023-11-27T00:29:53.974770Z",
     "shell.execute_reply.started": "2023-11-27T00:29:53.965224Z"
    }
   },
   "outputs": [
    {
     "name": "stdout",
     "output_type": "stream",
     "text": [
      "[1 2 3]\n",
      "<class 'numpy.ndarray'>\n"
     ]
    }
   ],
   "source": [
    "a = np.array([1,2,3]) # Create a 1D array\n",
    "print(a) \n",
    "print(type(a))  # Prints \"<class 'numpy.ndarray'>\""
   ]
  },
  {
   "cell_type": "code",
   "execution_count": 7,
   "metadata": {
    "ExecuteTime": {
     "end_time": "2021-07-06T15:02:09.385003Z",
     "start_time": "2021-07-06T15:02:09.273675Z"
    },
    "execution": {
     "iopub.execute_input": "2023-11-27T00:29:53.976923Z",
     "iopub.status.busy": "2023-11-27T00:29:53.976679Z",
     "iopub.status.idle": "2023-11-27T00:29:53.998813Z",
     "shell.execute_reply": "2023-11-27T00:29:53.997157Z",
     "shell.execute_reply.started": "2023-11-27T00:29:53.976902Z"
    }
   },
   "outputs": [
    {
     "name": "stdout",
     "output_type": "stream",
     "text": [
      "[[9. 8. 7.]\n",
      " [6. 5. 4.]]\n"
     ]
    }
   ],
   "source": [
    "b = np.array([[9.0,8.0,7.0],[6.0,5.0,4.0]]) # Create a 2D array\n",
    "print(b)"
   ]
  },
  {
   "cell_type": "code",
   "execution_count": 8,
   "metadata": {
    "ExecuteTime": {
     "end_time": "2021-07-06T15:02:09.510004Z",
     "start_time": "2021-07-06T15:02:09.391841Z"
    },
    "execution": {
     "iopub.execute_input": "2023-11-27T00:29:54.001409Z",
     "iopub.status.busy": "2023-11-27T00:29:54.000525Z",
     "iopub.status.idle": "2023-11-27T00:29:54.063449Z",
     "shell.execute_reply": "2023-11-27T00:29:54.061553Z",
     "shell.execute_reply.started": "2023-11-27T00:29:54.001366Z"
    }
   },
   "outputs": [
    {
     "data": {
      "text/plain": [
       "array([[1, 2, 3],\n",
       "       [4, 5, 6],\n",
       "       [7, 8, 9]])"
      ]
     },
     "execution_count": 8,
     "metadata": {},
     "output_type": "execute_result"
    }
   ],
   "source": [
    "my_matrix = [[1,2,3],[4,5,6],[7,8,9]] # Create a 2D array with 3 rows\n",
    "my_matrix = np.array(my_matrix)\n",
    "my_matrix"
   ]
  },
  {
   "cell_type": "code",
   "execution_count": 9,
   "metadata": {
    "ExecuteTime": {
     "end_time": "2021-07-06T15:02:09.619866Z",
     "start_time": "2021-07-06T15:02:09.519767Z"
    },
    "execution": {
     "iopub.execute_input": "2023-11-27T00:29:54.066741Z",
     "iopub.status.busy": "2023-11-27T00:29:54.065793Z",
     "iopub.status.idle": "2023-11-27T00:29:54.078121Z",
     "shell.execute_reply": "2023-11-27T00:29:54.077012Z",
     "shell.execute_reply.started": "2023-11-27T00:29:54.066682Z"
    },
    "tags": []
   },
   "outputs": [
    {
     "data": {
      "text/plain": [
       "2"
      ]
     },
     "execution_count": 9,
     "metadata": {},
     "output_type": "execute_result"
    }
   ],
   "source": [
    "# Get Dimension\n",
    "my_matrix.ndim"
   ]
  },
  {
   "cell_type": "code",
   "execution_count": 10,
   "metadata": {
    "ExecuteTime": {
     "end_time": "2021-07-06T15:02:09.743889Z",
     "start_time": "2021-07-06T15:02:09.626702Z"
    },
    "execution": {
     "iopub.execute_input": "2023-11-27T00:29:54.079645Z",
     "iopub.status.busy": "2023-11-27T00:29:54.079378Z",
     "iopub.status.idle": "2023-11-27T00:29:54.095799Z",
     "shell.execute_reply": "2023-11-27T00:29:54.094523Z",
     "shell.execute_reply.started": "2023-11-27T00:29:54.079621Z"
    }
   },
   "outputs": [
    {
     "data": {
      "text/plain": [
       "(3, 3)"
      ]
     },
     "execution_count": 10,
     "metadata": {},
     "output_type": "execute_result"
    }
   ],
   "source": [
    "# Get Shape\n",
    "my_matrix.shape"
   ]
  },
  {
   "cell_type": "markdown",
   "metadata": {},
   "source": [
    "You can read all about numpy datatypes in this **[documentation](https://numpy.org/doc/stable/reference/arrays.dtypes.html)**."
   ]
  },
  {
   "cell_type": "markdown",
   "metadata": {},
   "source": [
    "### Random number"
   ]
  },
  {
   "cell_type": "markdown",
   "metadata": {},
   "source": [
    "#### `rand`\n",
    "Random values in a given shape from a uniform distribution over [0, 1)"
   ]
  },
  {
   "cell_type": "code",
   "execution_count": 11,
   "metadata": {
    "ExecuteTime": {
     "end_time": "2021-07-06T15:02:11.310771Z",
     "start_time": "2021-07-06T15:02:11.172105Z"
    },
    "execution": {
     "iopub.execute_input": "2023-11-27T00:29:54.097415Z",
     "iopub.status.busy": "2023-11-27T00:29:54.097109Z",
     "iopub.status.idle": "2023-11-27T00:29:54.112264Z",
     "shell.execute_reply": "2023-11-27T00:29:54.111072Z",
     "shell.execute_reply.started": "2023-11-27T00:29:54.097389Z"
    }
   },
   "outputs": [
    {
     "data": {
      "text/plain": [
       "array([0.16707999, 0.07703355, 0.98187932])"
      ]
     },
     "execution_count": 11,
     "metadata": {},
     "output_type": "execute_result"
    }
   ],
   "source": [
    "# Generate 3 random numbers\n",
    "np.random.rand(3)"
   ]
  },
  {
   "cell_type": "code",
   "execution_count": 12,
   "metadata": {
    "ExecuteTime": {
     "end_time": "2021-07-06T15:02:11.435771Z",
     "start_time": "2021-07-06T15:02:11.322495Z"
    },
    "execution": {
     "iopub.execute_input": "2023-11-27T00:29:54.113712Z",
     "iopub.status.busy": "2023-11-27T00:29:54.113410Z",
     "iopub.status.idle": "2023-11-27T00:29:54.124370Z",
     "shell.execute_reply": "2023-11-27T00:29:54.123456Z",
     "shell.execute_reply.started": "2023-11-27T00:29:54.113685Z"
    }
   },
   "outputs": [
    {
     "data": {
      "text/plain": [
       "array([[0.77425285, 0.83922238, 0.34417499, 0.36124115, 0.53910694],\n",
       "       [0.01732124, 0.18540371, 0.21901847, 0.28644021, 0.54559845],\n",
       "       [0.033953  , 0.23105084, 0.56778174, 0.42112556, 0.6119045 ]])"
      ]
     },
     "execution_count": 12,
     "metadata": {},
     "output_type": "execute_result"
    }
   ],
   "source": [
    "# Generate a 2D array of random numbers\n",
    "np.random.rand(3,5)"
   ]
  },
  {
   "cell_type": "markdown",
   "metadata": {},
   "source": [
    "#### `randint`\n",
    "Return random integers from **low** (inclusive) to **high** (exclusive)."
   ]
  },
  {
   "cell_type": "code",
   "execution_count": 13,
   "metadata": {
    "ExecuteTime": {
     "end_time": "2021-07-06T15:02:11.903058Z",
     "start_time": "2021-07-06T15:02:11.814680Z"
    },
    "execution": {
     "iopub.execute_input": "2023-11-27T00:29:54.125492Z",
     "iopub.status.busy": "2023-11-27T00:29:54.125268Z",
     "iopub.status.idle": "2023-11-27T00:29:54.136698Z",
     "shell.execute_reply": "2023-11-27T00:29:54.135686Z",
     "shell.execute_reply.started": "2023-11-27T00:29:54.125472Z"
    }
   },
   "outputs": [
    {
     "data": {
      "text/plain": [
       "34"
      ]
     },
     "execution_count": 13,
     "metadata": {},
     "output_type": "execute_result"
    }
   ],
   "source": [
    "np.random.randint(2,100)"
   ]
  },
  {
   "cell_type": "code",
   "execution_count": 14,
   "metadata": {
    "ExecuteTime": {
     "end_time": "2021-07-06T15:02:12.031477Z",
     "start_time": "2021-07-06T15:02:11.905986Z"
    },
    "execution": {
     "iopub.execute_input": "2023-11-27T00:29:54.137916Z",
     "iopub.status.busy": "2023-11-27T00:29:54.137685Z",
     "iopub.status.idle": "2023-11-27T00:29:54.152683Z",
     "shell.execute_reply": "2023-11-27T00:29:54.151245Z",
     "shell.execute_reply.started": "2023-11-27T00:29:54.137896Z"
    }
   },
   "outputs": [
    {
     "data": {
      "text/plain": [
       "array([[ 0, -4,  6],\n",
       "       [-3, -3,  4],\n",
       "       [ 5,  5,  6]])"
      ]
     },
     "execution_count": 14,
     "metadata": {},
     "output_type": "execute_result"
    }
   ],
   "source": [
    "# Random Integer values\n",
    "np.random.randint(-4,8, size=(3,3))"
   ]
  },
  {
   "cell_type": "markdown",
   "metadata": {},
   "source": [
    "### Array Attributes and Methods\n"
   ]
  },
  {
   "cell_type": "code",
   "execution_count": 15,
   "metadata": {
    "ExecuteTime": {
     "end_time": "2021-07-06T15:02:12.431373Z",
     "start_time": "2021-07-06T15:02:12.317118Z"
    },
    "execution": {
     "iopub.execute_input": "2023-11-27T00:29:54.154206Z",
     "iopub.status.busy": "2023-11-27T00:29:54.153879Z",
     "iopub.status.idle": "2023-11-27T00:29:54.165351Z",
     "shell.execute_reply": "2023-11-27T00:29:54.164419Z",
     "shell.execute_reply.started": "2023-11-27T00:29:54.154178Z"
    },
    "scrolled": true
   },
   "outputs": [
    {
     "data": {
      "text/plain": [
       "array([6, 8, 8, 8, 1, 3, 7, 3])"
      ]
     },
     "execution_count": 15,
     "metadata": {},
     "output_type": "execute_result"
    }
   ],
   "source": [
    "rana = np.random.randint(1,10,8)\n",
    "rana"
   ]
  },
  {
   "cell_type": "markdown",
   "metadata": {},
   "source": [
    "#### `max`, `min`, `argmax`, `argmin`"
   ]
  },
  {
   "cell_type": "code",
   "execution_count": 16,
   "metadata": {
    "ExecuteTime": {
     "end_time": "2021-07-06T15:02:12.556370Z",
     "start_time": "2021-07-06T15:02:12.439187Z"
    },
    "execution": {
     "iopub.execute_input": "2023-11-27T00:29:54.166527Z",
     "iopub.status.busy": "2023-11-27T00:29:54.166286Z",
     "iopub.status.idle": "2023-11-27T00:29:54.178419Z",
     "shell.execute_reply": "2023-11-27T00:29:54.177415Z",
     "shell.execute_reply.started": "2023-11-27T00:29:54.166505Z"
    }
   },
   "outputs": [
    {
     "data": {
      "text/plain": [
       "array([6, 8, 8, 8, 1, 3, 7, 3])"
      ]
     },
     "execution_count": 16,
     "metadata": {},
     "output_type": "execute_result"
    }
   ],
   "source": [
    "rana"
   ]
  },
  {
   "cell_type": "code",
   "execution_count": 17,
   "metadata": {
    "ExecuteTime": {
     "end_time": "2021-07-06T15:02:12.681371Z",
     "start_time": "2021-07-06T15:02:12.562233Z"
    },
    "execution": {
     "iopub.execute_input": "2023-11-27T00:29:54.179719Z",
     "iopub.status.busy": "2023-11-27T00:29:54.179476Z",
     "iopub.status.idle": "2023-11-27T00:29:54.251732Z",
     "shell.execute_reply": "2023-11-27T00:29:54.249994Z",
     "shell.execute_reply.started": "2023-11-27T00:29:54.179697Z"
    }
   },
   "outputs": [
    {
     "data": {
      "text/plain": [
       "8"
      ]
     },
     "execution_count": 17,
     "metadata": {},
     "output_type": "execute_result"
    }
   ],
   "source": [
    "rana.max()"
   ]
  },
  {
   "cell_type": "code",
   "execution_count": 18,
   "metadata": {
    "ExecuteTime": {
     "end_time": "2021-07-06T15:02:12.821996Z",
     "start_time": "2021-07-06T15:02:12.686256Z"
    },
    "execution": {
     "iopub.execute_input": "2023-11-27T00:29:54.255068Z",
     "iopub.status.busy": "2023-11-27T00:29:54.253810Z",
     "iopub.status.idle": "2023-11-27T00:29:54.264305Z",
     "shell.execute_reply": "2023-11-27T00:29:54.263218Z",
     "shell.execute_reply.started": "2023-11-27T00:29:54.254970Z"
    }
   },
   "outputs": [
    {
     "data": {
      "text/plain": [
       "1"
      ]
     },
     "execution_count": 18,
     "metadata": {},
     "output_type": "execute_result"
    }
   ],
   "source": [
    "rana.argmax()"
   ]
  },
  {
   "cell_type": "code",
   "execution_count": 19,
   "metadata": {
    "ExecuteTime": {
     "end_time": "2021-07-06T15:02:12.915256Z",
     "start_time": "2021-07-06T15:02:12.826879Z"
    },
    "execution": {
     "iopub.execute_input": "2023-11-27T00:29:54.270789Z",
     "iopub.status.busy": "2023-11-27T00:29:54.270335Z",
     "iopub.status.idle": "2023-11-27T00:29:54.277423Z",
     "shell.execute_reply": "2023-11-27T00:29:54.276463Z",
     "shell.execute_reply.started": "2023-11-27T00:29:54.270760Z"
    }
   },
   "outputs": [
    {
     "data": {
      "text/plain": [
       "1"
      ]
     },
     "execution_count": 19,
     "metadata": {},
     "output_type": "execute_result"
    }
   ],
   "source": [
    "rana.min()"
   ]
  },
  {
   "cell_type": "code",
   "execution_count": 20,
   "metadata": {
    "ExecuteTime": {
     "end_time": "2021-07-06T15:02:13.024631Z",
     "start_time": "2021-07-06T15:02:12.920142Z"
    },
    "execution": {
     "iopub.execute_input": "2023-11-27T00:29:54.278657Z",
     "iopub.status.busy": "2023-11-27T00:29:54.278426Z",
     "iopub.status.idle": "2023-11-27T00:29:54.290634Z",
     "shell.execute_reply": "2023-11-27T00:29:54.289547Z",
     "shell.execute_reply.started": "2023-11-27T00:29:54.278637Z"
    }
   },
   "outputs": [
    {
     "data": {
      "text/plain": [
       "4"
      ]
     },
     "execution_count": 20,
     "metadata": {},
     "output_type": "execute_result"
    }
   ],
   "source": [
    "rana.argmin()"
   ]
  },
  {
   "cell_type": "markdown",
   "metadata": {},
   "source": [
    "### Numpy also provides many functions to create arrays:"
   ]
  },
  {
   "cell_type": "code",
   "execution_count": 21,
   "metadata": {
    "ExecuteTime": {
     "end_time": "2021-07-06T15:02:13.101293Z",
     "start_time": "2021-07-06T15:02:13.027562Z"
    },
    "execution": {
     "iopub.execute_input": "2023-11-27T00:29:54.292022Z",
     "iopub.status.busy": "2023-11-27T00:29:54.291757Z",
     "iopub.status.idle": "2023-11-27T00:29:54.312569Z",
     "shell.execute_reply": "2023-11-27T00:29:54.311359Z",
     "shell.execute_reply.started": "2023-11-27T00:29:54.291998Z"
    }
   },
   "outputs": [
    {
     "data": {
      "text/plain": [
       "array([0., 0., 0., 0., 0.])"
      ]
     },
     "execution_count": 21,
     "metadata": {},
     "output_type": "execute_result"
    }
   ],
   "source": [
    "# Generating Zeros\n",
    "np.zeros(5)"
   ]
  },
  {
   "cell_type": "code",
   "execution_count": 22,
   "metadata": {
    "ExecuteTime": {
     "end_time": "2021-07-06T15:02:13.210179Z",
     "start_time": "2021-07-06T15:02:13.106175Z"
    },
    "execution": {
     "iopub.execute_input": "2023-11-27T00:29:54.313920Z",
     "iopub.status.busy": "2023-11-27T00:29:54.313611Z",
     "iopub.status.idle": "2023-11-27T00:29:54.326391Z",
     "shell.execute_reply": "2023-11-27T00:29:54.324977Z",
     "shell.execute_reply.started": "2023-11-27T00:29:54.313892Z"
    },
    "scrolled": true
   },
   "outputs": [
    {
     "data": {
      "text/plain": [
       "array([[0., 0., 0.],\n",
       "       [0., 0., 0.]])"
      ]
     },
     "execution_count": 22,
     "metadata": {},
     "output_type": "execute_result"
    }
   ],
   "source": [
    "# All 0s matrix\n",
    "np.zeros((2,3))  # pass a tupple"
   ]
  },
  {
   "cell_type": "code",
   "execution_count": 23,
   "metadata": {
    "ExecuteTime": {
     "end_time": "2021-07-06T15:02:13.322481Z",
     "start_time": "2021-07-06T15:02:13.217015Z"
    },
    "execution": {
     "iopub.execute_input": "2023-11-27T00:29:54.327973Z",
     "iopub.status.busy": "2023-11-27T00:29:54.327671Z",
     "iopub.status.idle": "2023-11-27T00:29:54.338588Z",
     "shell.execute_reply": "2023-11-27T00:29:54.337736Z",
     "shell.execute_reply.started": "2023-11-27T00:29:54.327947Z"
    }
   },
   "outputs": [
    {
     "data": {
      "text/plain": [
       "array([1., 1., 1.])"
      ]
     },
     "execution_count": 23,
     "metadata": {},
     "output_type": "execute_result"
    }
   ],
   "source": [
    "# Generating Zeros\n",
    "np.ones(3)       # one function"
   ]
  },
  {
   "cell_type": "code",
   "execution_count": 24,
   "metadata": {
    "ExecuteTime": {
     "end_time": "2021-07-06T15:02:13.475314Z",
     "start_time": "2021-07-06T15:02:13.329319Z"
    },
    "execution": {
     "iopub.execute_input": "2023-11-27T00:29:54.339757Z",
     "iopub.status.busy": "2023-11-27T00:29:54.339534Z",
     "iopub.status.idle": "2023-11-27T00:29:54.350921Z",
     "shell.execute_reply": "2023-11-27T00:29:54.349988Z",
     "shell.execute_reply.started": "2023-11-27T00:29:54.339738Z"
    },
    "tags": []
   },
   "outputs": [
    {
     "data": {
      "text/plain": [
       "array([5., 5., 5.])"
      ]
     },
     "execution_count": 24,
     "metadata": {},
     "output_type": "execute_result"
    }
   ],
   "source": [
    "# Generate an array of 5s\n",
    "np.ones(3)*5"
   ]
  },
  {
   "cell_type": "code",
   "execution_count": 25,
   "metadata": {
    "ExecuteTime": {
     "end_time": "2021-07-06T15:02:13.569061Z",
     "start_time": "2021-07-06T15:02:13.482151Z"
    },
    "execution": {
     "iopub.execute_input": "2023-11-27T00:29:54.352534Z",
     "iopub.status.busy": "2023-11-27T00:29:54.352275Z",
     "iopub.status.idle": "2023-11-27T00:29:54.364549Z",
     "shell.execute_reply": "2023-11-27T00:29:54.363475Z",
     "shell.execute_reply.started": "2023-11-27T00:29:54.352512Z"
    },
    "tags": []
   },
   "outputs": [
    {
     "data": {
      "text/plain": [
       "array([[1., 1., 1.],\n",
       "       [1., 1., 1.],\n",
       "       [1., 1., 1.]])"
      ]
     },
     "execution_count": 25,
     "metadata": {},
     "output_type": "execute_result"
    }
   ],
   "source": [
    "# Generate a 2D array of ones\n",
    "np.ones((3,3))"
   ]
  },
  {
   "cell_type": "code",
   "execution_count": 26,
   "metadata": {
    "ExecuteTime": {
     "end_time": "2021-07-06T15:02:14.068085Z",
     "start_time": "2021-07-06T15:02:13.978241Z"
    },
    "execution": {
     "iopub.execute_input": "2023-11-27T00:29:54.366265Z",
     "iopub.status.busy": "2023-11-27T00:29:54.365879Z",
     "iopub.status.idle": "2023-11-27T00:29:54.376737Z",
     "shell.execute_reply": "2023-11-27T00:29:54.375795Z",
     "shell.execute_reply.started": "2023-11-27T00:29:54.366229Z"
    }
   },
   "outputs": [
    {
     "name": "stdout",
     "output_type": "stream",
     "text": [
      "[[1 2 3]\n",
      " [1 2 3]\n",
      " [1 2 3]]\n"
     ]
    }
   ],
   "source": [
    "# Repeat an array\n",
    "arr = np.array([[1,2,3]])\n",
    "r1 = np.repeat(arr,3, axis=0)\n",
    "print(r1)"
   ]
  },
  {
   "cell_type": "markdown",
   "metadata": {},
   "source": [
    "## Array indexing\n",
    "\n",
    "Numpy offers several ways to index into arrays and accessing/changing specific elements, rows, columns, etc.\n",
    "\n",
    "**Slicing:** Similar to Python lists, numpy arrays can be sliced. Since arrays may be multidimensional, you must specify a slice for each dimension of the array."
   ]
  },
  {
   "cell_type": "code",
   "execution_count": 27,
   "metadata": {
    "execution": {
     "iopub.execute_input": "2023-11-27T00:29:54.378021Z",
     "iopub.status.busy": "2023-11-27T00:29:54.377777Z",
     "iopub.status.idle": "2023-11-27T00:29:54.390819Z",
     "shell.execute_reply": "2023-11-27T00:29:54.389773Z",
     "shell.execute_reply.started": "2023-11-27T00:29:54.377998Z"
    },
    "tags": []
   },
   "outputs": [
    {
     "data": {
      "text/plain": [
       "array([ 3,  4,  5,  6,  7,  8,  9, 10, 11, 12])"
      ]
     },
     "execution_count": 27,
     "metadata": {},
     "output_type": "execute_result"
    }
   ],
   "source": [
    "# Generate a 1D array\n",
    "a = np.arange(3,13)\n",
    "a"
   ]
  },
  {
   "cell_type": "code",
   "execution_count": 28,
   "metadata": {
    "execution": {
     "iopub.execute_input": "2023-11-27T00:29:54.392375Z",
     "iopub.status.busy": "2023-11-27T00:29:54.392115Z",
     "iopub.status.idle": "2023-11-27T00:29:54.403054Z",
     "shell.execute_reply": "2023-11-27T00:29:54.402059Z",
     "shell.execute_reply.started": "2023-11-27T00:29:54.392355Z"
    },
    "tags": []
   },
   "outputs": [
    {
     "data": {
      "text/plain": [
       "4"
      ]
     },
     "execution_count": 28,
     "metadata": {},
     "output_type": "execute_result"
    }
   ],
   "source": [
    "# Integer indexing\n",
    "a[1]"
   ]
  },
  {
   "cell_type": "code",
   "execution_count": 29,
   "metadata": {
    "execution": {
     "iopub.execute_input": "2023-11-27T00:29:54.404195Z",
     "iopub.status.busy": "2023-11-27T00:29:54.403955Z",
     "iopub.status.idle": "2023-11-27T00:29:54.417682Z",
     "shell.execute_reply": "2023-11-27T00:29:54.415866Z",
     "shell.execute_reply.started": "2023-11-27T00:29:54.404174Z"
    },
    "tags": []
   },
   "outputs": [
    {
     "data": {
      "text/plain": [
       "array([4, 5, 6])"
      ]
     },
     "execution_count": 29,
     "metadata": {},
     "output_type": "execute_result"
    }
   ],
   "source": [
    "# Slicing\n",
    "a[1:4]"
   ]
  },
  {
   "cell_type": "code",
   "execution_count": 30,
   "metadata": {
    "execution": {
     "iopub.execute_input": "2023-11-27T00:29:54.421005Z",
     "iopub.status.busy": "2023-11-27T00:29:54.419918Z",
     "iopub.status.idle": "2023-11-27T00:29:54.436003Z",
     "shell.execute_reply": "2023-11-27T00:29:54.434619Z",
     "shell.execute_reply.started": "2023-11-27T00:29:54.420942Z"
    },
    "tags": []
   },
   "outputs": [
    {
     "data": {
      "text/plain": [
       "array([3, 4, 5, 6])"
      ]
     },
     "execution_count": 30,
     "metadata": {},
     "output_type": "execute_result"
    }
   ],
   "source": [
    "# Slicing\n",
    "a[:4]"
   ]
  },
  {
   "cell_type": "code",
   "execution_count": 31,
   "metadata": {
    "execution": {
     "iopub.execute_input": "2023-11-27T00:29:54.437750Z",
     "iopub.status.busy": "2023-11-27T00:29:54.437390Z",
     "iopub.status.idle": "2023-11-27T00:29:54.447523Z",
     "shell.execute_reply": "2023-11-27T00:29:54.446426Z",
     "shell.execute_reply.started": "2023-11-27T00:29:54.437718Z"
    },
    "tags": []
   },
   "outputs": [
    {
     "data": {
      "text/plain": [
       "array([ 7,  8,  9, 10, 11, 12])"
      ]
     },
     "execution_count": 31,
     "metadata": {},
     "output_type": "execute_result"
    }
   ],
   "source": [
    "# Slicing\n",
    "a[4:]"
   ]
  },
  {
   "cell_type": "code",
   "execution_count": 32,
   "metadata": {
    "execution": {
     "iopub.execute_input": "2023-11-27T00:29:54.448756Z",
     "iopub.status.busy": "2023-11-27T00:29:54.448515Z",
     "iopub.status.idle": "2023-11-27T00:29:54.459224Z",
     "shell.execute_reply": "2023-11-27T00:29:54.458416Z",
     "shell.execute_reply.started": "2023-11-27T00:29:54.448735Z"
    },
    "tags": []
   },
   "outputs": [
    {
     "data": {
      "text/plain": [
       "array([3, 4, 5, 6, 7])"
      ]
     },
     "execution_count": 32,
     "metadata": {},
     "output_type": "execute_result"
    }
   ],
   "source": [
    "# Slice and assign to a new variable\n",
    "slice_a = a[0:5]\n",
    "slice_a"
   ]
  },
  {
   "cell_type": "markdown",
   "metadata": {},
   "source": [
    "You can also assign elements of the array to new values"
   ]
  },
  {
   "cell_type": "code",
   "execution_count": 33,
   "metadata": {
    "execution": {
     "iopub.execute_input": "2023-11-27T00:29:54.460449Z",
     "iopub.status.busy": "2023-11-27T00:29:54.460207Z",
     "iopub.status.idle": "2023-11-27T00:29:54.472404Z",
     "shell.execute_reply": "2023-11-27T00:29:54.471441Z",
     "shell.execute_reply.started": "2023-11-27T00:29:54.460429Z"
    },
    "tags": []
   },
   "outputs": [
    {
     "data": {
      "text/plain": [
       "array([ 3,  4,  5, 10,  7])"
      ]
     },
     "execution_count": 33,
     "metadata": {},
     "output_type": "execute_result"
    }
   ],
   "source": [
    "slice_a[3] = 10\n",
    "slice_a"
   ]
  },
  {
   "cell_type": "markdown",
   "metadata": {},
   "source": [
    "But notice that this actually changes the original array as well!"
   ]
  },
  {
   "cell_type": "code",
   "execution_count": 34,
   "metadata": {
    "execution": {
     "iopub.execute_input": "2023-11-27T00:29:54.473662Z",
     "iopub.status.busy": "2023-11-27T00:29:54.473431Z",
     "iopub.status.idle": "2023-11-27T00:29:54.485808Z",
     "shell.execute_reply": "2023-11-27T00:29:54.484804Z",
     "shell.execute_reply.started": "2023-11-27T00:29:54.473642Z"
    },
    "tags": []
   },
   "outputs": [
    {
     "data": {
      "text/plain": [
       "array([ 3,  4,  5, 10,  7,  8,  9, 10, 11, 12])"
      ]
     },
     "execution_count": 34,
     "metadata": {},
     "output_type": "execute_result"
    }
   ],
   "source": [
    "a"
   ]
  },
  {
   "cell_type": "markdown",
   "metadata": {},
   "source": [
    "To avoid this, you can create a copy instead"
   ]
  },
  {
   "cell_type": "code",
   "execution_count": 35,
   "metadata": {
    "execution": {
     "iopub.execute_input": "2023-11-27T00:29:54.487104Z",
     "iopub.status.busy": "2023-11-27T00:29:54.486848Z",
     "iopub.status.idle": "2023-11-27T00:29:54.498490Z",
     "shell.execute_reply": "2023-11-27T00:29:54.497491Z",
     "shell.execute_reply.started": "2023-11-27T00:29:54.487082Z"
    },
    "tags": []
   },
   "outputs": [
    {
     "name": "stdout",
     "output_type": "stream",
     "text": [
      "[ 3  4  5 10  7] [ 3  4  5  6  7  8  9 10 11 12]\n"
     ]
    }
   ],
   "source": [
    "b = np.arange(3,13)\n",
    "slice_b = b[0:5].copy()\n",
    "slice_b[3] = 10\n",
    "\n",
    "print(slice_b, b)"
   ]
  },
  {
   "cell_type": "markdown",
   "metadata": {},
   "source": [
    "### Indexing 2D arrays\n",
    "\n",
    "The first index of a 2D array is into the rows, and the second index determines the column(s)."
   ]
  },
  {
   "cell_type": "code",
   "execution_count": 36,
   "metadata": {
    "execution": {
     "iopub.execute_input": "2023-11-27T00:29:54.499736Z",
     "iopub.status.busy": "2023-11-27T00:29:54.499503Z",
     "iopub.status.idle": "2023-11-27T00:29:54.518089Z",
     "shell.execute_reply": "2023-11-27T00:29:54.516329Z",
     "shell.execute_reply.started": "2023-11-27T00:29:54.499717Z"
    },
    "tags": []
   },
   "outputs": [
    {
     "data": {
      "text/plain": [
       "array([[ 5, 10, 20],\n",
       "       [20, 25, 30],\n",
       "       [35, 40, 10]])"
      ]
     },
     "execution_count": 36,
     "metadata": {},
     "output_type": "execute_result"
    }
   ],
   "source": [
    "# Create a 2D array\n",
    "mat = np.array(([5,10,20],[20,25,30],[35,40,10]))\n",
    "mat"
   ]
  },
  {
   "cell_type": "code",
   "execution_count": 37,
   "metadata": {
    "execution": {
     "iopub.execute_input": "2023-11-27T00:29:54.521500Z",
     "iopub.status.busy": "2023-11-27T00:29:54.520820Z",
     "iopub.status.idle": "2023-11-27T00:29:54.531848Z",
     "shell.execute_reply": "2023-11-27T00:29:54.530282Z",
     "shell.execute_reply.started": "2023-11-27T00:29:54.521440Z"
    },
    "tags": []
   },
   "outputs": [
    {
     "data": {
      "text/plain": [
       "array([ 5, 10, 20])"
      ]
     },
     "execution_count": 37,
     "metadata": {},
     "output_type": "execute_result"
    }
   ],
   "source": [
    "# Select the first row\n",
    "mat[0]"
   ]
  },
  {
   "cell_type": "code",
   "execution_count": 38,
   "metadata": {
    "execution": {
     "iopub.execute_input": "2023-11-27T00:29:54.534075Z",
     "iopub.status.busy": "2023-11-27T00:29:54.533689Z",
     "iopub.status.idle": "2023-11-27T00:29:54.542426Z",
     "shell.execute_reply": "2023-11-27T00:29:54.541239Z",
     "shell.execute_reply.started": "2023-11-27T00:29:54.534023Z"
    },
    "tags": []
   },
   "outputs": [
    {
     "data": {
      "text/plain": [
       "array([10, 25, 40])"
      ]
     },
     "execution_count": 38,
     "metadata": {},
     "output_type": "execute_result"
    }
   ],
   "source": [
    "# Select the second column \n",
    "mat[:, 1]"
   ]
  },
  {
   "cell_type": "code",
   "execution_count": 39,
   "metadata": {
    "execution": {
     "iopub.execute_input": "2023-11-27T00:29:54.544000Z",
     "iopub.status.busy": "2023-11-27T00:29:54.543771Z",
     "iopub.status.idle": "2023-11-27T00:29:54.559615Z",
     "shell.execute_reply": "2023-11-27T00:29:54.558436Z",
     "shell.execute_reply.started": "2023-11-27T00:29:54.543980Z"
    },
    "tags": []
   },
   "outputs": [
    {
     "data": {
      "text/plain": [
       "array([[10, 20],\n",
       "       [25, 30]])"
      ]
     },
     "execution_count": 39,
     "metadata": {},
     "output_type": "execute_result"
    }
   ],
   "source": [
    "# Select the first and second rows and the second and third columns \n",
    "mat[:2, 1:]"
   ]
  },
  {
   "cell_type": "code",
   "execution_count": 40,
   "metadata": {
    "execution": {
     "iopub.execute_input": "2023-11-27T00:29:54.561404Z",
     "iopub.status.busy": "2023-11-27T00:29:54.561103Z",
     "iopub.status.idle": "2023-11-27T00:29:54.621467Z",
     "shell.execute_reply": "2023-11-27T00:29:54.619574Z",
     "shell.execute_reply.started": "2023-11-27T00:29:54.561379Z"
    },
    "tags": []
   },
   "outputs": [
    {
     "data": {
      "text/plain": [
       "array([[  5, 100, 100],\n",
       "       [ 20, 100, 100],\n",
       "       [ 35,  40,  10]])"
      ]
     },
     "execution_count": 40,
     "metadata": {},
     "output_type": "execute_result"
    }
   ],
   "source": [
    "# You can reassign multiple elements of the array to the same value\n",
    "mat[:2, 1:] = 100\n",
    "mat"
   ]
  },
  {
   "cell_type": "markdown",
   "metadata": {
    "tags": []
   },
   "source": [
    "# NumPy Basics\n",
    "\n",
    "Below is a compilation of functions, and NumPy uses that will be helpful when using numpy further. You can also check out the `NumPy Cheat Sheet Data Analysis in Python.pdf` in the Lessons folder. "
   ]
  },
  {
   "cell_type": "markdown",
   "metadata": {},
   "source": [
    "### NumPy Basics\n",
    "\n",
    "| Operator | Description |\n",
    "|:---- |:---- |\n",
    "| **`np.array([1,2,3])`**           | **1d array** | \n",
    "| **`np.array([(1,2,3),(4,5,6)])`** | **2d array** | \n",
    "| **`np.arange(start,stop,step)`**  | **range array**  | "
   ]
  },
  {
   "cell_type": "markdown",
   "metadata": {},
   "source": [
    "### Placeholders\n",
    "\n",
    "| Operator | Description |\n",
    "|:---- |:---- |\n",
    "| **`np.linspace(0,2,9)`**      | **Add evenly spaced values btw interval to array of length** |\n",
    "| **`np.zeros((1,2))`**         | **Create and array filled with zeros** |\n",
    "| **`np.ones((1,2))`**          | **Creates an array filled with ones** |\n",
    "| **`np.random.random((5,5))`** | **Creates random array** |\n",
    "| **`np.empty((2,2))`**         | **Creates an empty array** |"
   ]
  },
  {
   "cell_type": "markdown",
   "metadata": {},
   "source": [
    "### Array\n",
    "\n",
    "| Operator | Description |\n",
    "|:---- |:---- |\n",
    "| **`array.shape`**        | **Dimensions (Rows,Columns)** |\n",
    "| **`len(array)`**         | **Length of Array** |\n",
    "| **`array.ndim`**         | **Number of Array Dimensions** |\n",
    "| **`array.dtype`**        | **Data Type** |\n",
    "| **`array.astype(type)`** | **Converts to Data Type** |\n",
    "| **`type(array)`**        | **Type of Array** |"
   ]
  },
  {
   "cell_type": "markdown",
   "metadata": {},
   "source": [
    "### Copying/Sorting\n",
    "\n",
    "| Operator | Description |\n",
    "|:---- |:---- |\n",
    "| **`np.copy(array)`**       | **Creates copy of array** |\n",
    "| **`other = array.copy()`** | **Creates deep copy of array** |\n",
    "| **`array.sort()`**         | **Sorts an array** |\n",
    "| **`array.sort(axis=0)`**   | **Sorts axis of array** |"
   ]
  },
  {
   "cell_type": "markdown",
   "metadata": {},
   "source": [
    "## Array Manipulation"
   ]
  },
  {
   "cell_type": "markdown",
   "metadata": {},
   "source": [
    "### Adding or Removing Elements\n",
    "\n",
    "| Operator | Description |\n",
    "|:---- |:---- |\n",
    "| **`np.append(a,b)`**               | **Append items to array** |\n",
    "| **`np.insert(array, 1, 2, axis)`** | **Insert items into array at axis 0 or 1** |\n",
    "| **`np.resize((2,4))`**             | **Resize array to shape(2,4)** |\n",
    "| **`np.delete(array,1,axis)`**      | **Deletes items from array** |"
   ]
  },
  {
   "cell_type": "markdown",
   "metadata": {},
   "source": [
    "### Combining Arrays\n",
    "\n",
    "| Operator | Description |\n",
    "|:---- |:---- |\n",
    "| **`np.concatenate((a,b),axis=0)`** | **Split an array into multiple sub-arrays.** |\n",
    "| **`np.vstack((a,b))`**             | **Split an array in sub-arrays of (nearly) identical size** |\n",
    "| **`np.hstack((a,b))`**             | **Split the array horizontally at 3rd index** |"
   ]
  },
  {
   "cell_type": "markdown",
   "metadata": {},
   "source": [
    "### More\n",
    "\n",
    "| Operator | Description |\n",
    "|:---- |:---- |\n",
    "| **`other = ndarray.flatten()`**       | **Flattens a 2d array to 1d** |\n",
    "| **`array = np.transpose(other)`**     | **Transpose array** |\n",
    "| **`array.T`**                         | **Transpose array** |\n",
    "| **`inverse = np.linalg.inv(matrix)`** | **Inverse of a given matrix** |"
   ]
  },
  {
   "cell_type": "markdown",
   "metadata": {},
   "source": [
    "## Slicing and Subsetting\n",
    "\n",
    "| Operator | Description |\n",
    "|:---- |:---- |\n",
    "| **`array[i]`**        | **1d array at index i** |\n",
    "| **`array[i,j]`**      | **2d array at index[i][j]** |\n",
    "| **`array[i<4]`**      | **Boolean Indexing, see Tricks** |\n",
    "| **`array[0:3]`**      | **Select items of index 0, 1 and 2** |\n",
    "| **`array[0:2,1]`**    | **Select items of rows 0 and 1 at column 1** |\n",
    "| **`array[:1]`**       | **Select items of row 0 (equals array[0:1, :])** |\n",
    "| **`array[1:2, :]`**   | **Select items of row 1** |\n",
    "| **`[comment]: <> (`** | **array[1,...]** |\n",
    "| **`array[ : :-1]`**   | **Reverses array** |"
   ]
  },
  {
   "cell_type": "markdown",
   "metadata": {},
   "source": [
    "## Mathematics"
   ]
  },
  {
   "cell_type": "markdown",
   "metadata": {},
   "source": [
    "### Operations\n",
    "\n",
    "| Operator | Description |\n",
    "|:---- |:---- |\n",
    "| **`np.add(x,y)`**        | **Addition** |\n",
    "| **`np.substract(x,y)`**  | **Subtraction** |\n",
    "| **`np.divide(x,y)`**     | **Division** |\n",
    "| **`np.multiply(x,y)`**   | **Multiplication** |\n",
    "| **`np.sqrt(x)`**         | **Square Root** |\n",
    "| **`np.sin(x)`**          | **Element-wise sine** |\n",
    "| **`np.cos(x)`**          | **Element-wise cosine** |\n",
    "| **`np.log(x)`**          | **Element-wise natural log** |\n",
    "| **`np.dot(x,y)`**        | **Dot product** |\n",
    "| **`np.roots([1,0,-4])`** | **Roots of a given polynomial coefficients** |"
   ]
  },
  {
   "cell_type": "markdown",
   "metadata": {},
   "source": [
    "### Comparison\n",
    "\n",
    "| Operator | Description |\n",
    "|:----: |:---- |\n",
    "| **`==`** | **Equal** |\n",
    "| **`!=`** | **Not equal** |\n",
    "| **`<`**  | **Smaller than** |\n",
    "| **`>`**  | **Greater than** |\n",
    "| **`<=`** | **Smaller than or equal** |\n",
    "| **`>=`** | **Greater than or equal** |\n",
    "| **`np.array_equal(x,y)`** | **Array-wise comparison** |"
   ]
  },
  {
   "cell_type": "markdown",
   "metadata": {},
   "source": [
    "## Basic Statistics\n",
    "\n",
    "| Operator | Description |\n",
    "|:---- |:---- |\n",
    "| **`np.mean(array)`**   | **Mean** |\n",
    "| **`np.median(array)`** | **Median** |\n",
    "| **`array.corrcoef()`** | **Correlation Coefficient** |\n",
    "| **`np.std(array)`**    | **Standard Deviation** |"
   ]
  },
  {
   "cell_type": "markdown",
   "metadata": {},
   "source": [
    "### More\n",
    "\n",
    "| Operator | Description |\n",
    "|:---- |:---- |\n",
    "| **`array.sum()`**          | **Array-wise sum** |\n",
    "| **`array.min()`**          | **Array-wise minimum value** |\n",
    "| **`array.max(axis=0)`**    | **Maximum value of specified axis** |\n",
    "| **`array.cumsum(axis=0)`** | **Cumulative sum of specified axis** |"
   ]
  },
  {
   "cell_type": "markdown",
   "metadata": {},
   "source": [
    "## Challenge\n",
    "\n",
    "**1. Download `Challenge_33.ipynb` from Teams.**\n",
    "\n",
    "**2. Upload this file into your own *Project* on Deepnote by dragging the `Challenge_33.ipynb` file onto the Notebooks tab on the left-hand side.** \n",
    "\n",
    "**3. Use this notebook to complete Challenge 33 in Deepnote.**"
   ]
  },
  {
   "cell_type": "code",
   "execution_count": null,
   "metadata": {},
   "outputs": [],
   "source": []
  }
 ],
 "metadata": {
  "hide_input": false,
  "kernelspec": {
   "display_name": "Python 3 (ipykernel)",
   "language": "python",
   "name": "python3"
  },
  "language_info": {
   "codemirror_mode": {
    "name": "ipython",
    "version": 3
   },
   "file_extension": ".py",
   "mimetype": "text/x-python",
   "name": "python",
   "nbconvert_exporter": "python",
   "pygments_lexer": "ipython3",
   "version": "3.10.12"
  },
  "toc": {
   "base_numbering": 1,
   "nav_menu": {},
   "number_sections": true,
   "sideBar": true,
   "skip_h1_title": false,
   "title_cell": "Table of Contents",
   "title_sidebar": "Contents",
   "toc_cell": false,
   "toc_position": {
    "height": "calc(100% - 180px)",
    "left": "10px",
    "top": "150px",
    "width": "208px"
   },
   "toc_section_display": true,
   "toc_window_display": false
  },
  "varInspector": {
   "cols": {
    "lenName": 16,
    "lenType": 16,
    "lenVar": 40
   },
   "kernels_config": {
    "python": {
     "delete_cmd_postfix": "",
     "delete_cmd_prefix": "del ",
     "library": "var_list.py",
     "varRefreshCmd": "print(var_dic_list())"
    },
    "r": {
     "delete_cmd_postfix": ") ",
     "delete_cmd_prefix": "rm(",
     "library": "var_list.r",
     "varRefreshCmd": "cat(var_dic_list()) "
    }
   },
   "types_to_exclude": [
    "module",
    "function",
    "builtin_function_or_method",
    "instance",
    "_Feature"
   ],
   "window_display": false
  }
 },
 "nbformat": 4,
 "nbformat_minor": 4
}
