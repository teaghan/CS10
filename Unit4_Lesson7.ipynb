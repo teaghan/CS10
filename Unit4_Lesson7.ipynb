{
 "cells": [
  {
   "cell_type": "markdown",
   "metadata": {},
   "source": [
    "> *The creation of the lessons in this unit relied heavily on the existing lessons created by Mrs. FitzZaland as well as the [lecture series](https://github.com/milaan9/02_Python_Datatypes) produced by Dr. Milaan Parmar. Additionally, these lessons have largely been modelled off of the book [Think Python](https://open.umn.edu/opentextbooks/textbooks/43) by Allen Downey.*"
   ]
  },
  {
   "cell_type": "markdown",
   "metadata": {},
   "source": [
    "# Python Strings and Docstrings\n",
    "\n",
    "In this lesson you will learn how to format strings in Python and explore the importance of documenting your code.\n",
    "\n",
    "<div class=\"alert alert-info\"><h4>Tasks</h4><p>Alert boxes like this will provide you with tasks that you must do while going through this lesson.</p></div>"
   ]
  },
  {
   "cell_type": "markdown",
   "metadata": {},
   "source": [
    "## Python String Formatting\n",
    "\n",
    "If it would be beneficial for your learning, feel free to **take a look at [this video](https://www.youtube.com/watch?v=1oFneicTaII), which provides a nice explanation of one of the string formatting methods that can be used in python..**"
   ]
  },
  {
   "cell_type": "markdown",
   "metadata": {},
   "source": [
    "### Escape Sequence\n",
    "\n",
    "Strings can be enclosed by either single `''` or double `\"\"` quotes. This can be handy when our string includes a single or double quote, because we can just use the other type when enclosing our string:"
   ]
  },
  {
   "cell_type": "code",
   "execution_count": 1,
   "metadata": {
    "execution": {
     "iopub.execute_input": "2023-12-03T19:39:52.046205Z",
     "iopub.status.busy": "2023-12-03T19:39:52.045968Z",
     "iopub.status.idle": "2023-12-03T19:39:52.050852Z",
     "shell.execute_reply": "2023-12-03T19:39:52.050015Z",
     "shell.execute_reply.started": "2023-12-03T19:39:52.046182Z"
    },
    "tags": []
   },
   "outputs": [
    {
     "name": "stdout",
     "output_type": "stream",
     "text": [
      "That's great!\n"
     ]
    }
   ],
   "source": [
    "print(\"That's great!\")"
   ]
  },
  {
   "cell_type": "markdown",
   "metadata": {},
   "source": [
    "However, if we want to print a string that includes both single and double quotes, like `He said, \"What's there?\"`, then we can't avoid the issue so simply."
   ]
  },
  {
   "cell_type": "code",
   "execution_count": 2,
   "metadata": {
    "ExecuteTime": {
     "end_time": "2021-10-02T09:54:32.852463Z",
     "start_time": "2021-10-02T09:54:32.833909Z"
    },
    "execution": {
     "iopub.execute_input": "2023-12-03T19:39:52.052104Z",
     "iopub.status.busy": "2023-12-03T19:39:52.051799Z",
     "iopub.status.idle": "2023-12-03T19:39:52.208745Z",
     "shell.execute_reply": "2023-12-03T19:39:52.204247Z",
     "shell.execute_reply.started": "2023-12-03T19:39:52.052081Z"
    },
    "tags": []
   },
   "outputs": [
    {
     "ename": "SyntaxError",
     "evalue": "unterminated string literal (detected at line 1) (3245963823.py, line 1)",
     "output_type": "error",
     "traceback": [
      "\u001b[0;36m  Cell \u001b[0;32mIn[2], line 1\u001b[0;36m\u001b[0m\n\u001b[0;31m    print(\"He said, \"What's there?\"\")\u001b[0m\n\u001b[0m                         ^\u001b[0m\n\u001b[0;31mSyntaxError\u001b[0m\u001b[0;31m:\u001b[0m unterminated string literal (detected at line 1)\n"
     ]
    }
   ],
   "source": [
    "print(\"He said, \"What's there?\"\")"
   ]
  },
  {
   "cell_type": "markdown",
   "metadata": {},
   "source": [
    "Most commonly, we use escape sequences to help out in these cases.\n",
    "\n",
    ">To insert characters that are illegal in a string, use an escape character. An escape character is a backslash `\\` followed by the character you want to insert.\n",
    "\n",
    "If we use a single quote to represent a string, all the single quotes inside the string must be *escaped*."
   ]
  },
  {
   "cell_type": "code",
   "execution_count": 3,
   "metadata": {
    "ExecuteTime": {
     "end_time": "2021-10-02T09:54:33.392579Z",
     "start_time": "2021-10-02T09:54:33.385742Z"
    },
    "execution": {
     "iopub.execute_input": "2023-12-03T19:39:53.696416Z",
     "iopub.status.busy": "2023-12-03T19:39:53.694782Z",
     "iopub.status.idle": "2023-12-03T19:39:53.704609Z",
     "shell.execute_reply": "2023-12-03T19:39:53.703151Z",
     "shell.execute_reply.started": "2023-12-03T19:39:53.696347Z"
    },
    "scrolled": true,
    "tags": []
   },
   "outputs": [
    {
     "name": "stdout",
     "output_type": "stream",
     "text": [
      "He said, \"What's there?\"\n",
      "He said, \"What's there?\"\n"
     ]
    }
   ],
   "source": [
    "# Escaping single quotes\n",
    "print('He said, \"What\\'s there?\"')\n",
    "\n",
    "# Escaping double quotes\n",
    "print(\"He said, \\\"What's there?\\\"\")"
   ]
  },
  {
   "cell_type": "markdown",
   "metadata": {},
   "source": [
    "### Here is a list of all the escape sequences supported by Python.\n",
    "\n",
    "| Escape Sequence | Description |\n",
    "|:----:| :--- |\n",
    "| **`\\\\`** |   Backslash | \n",
    "| **`\\'`** |   Single quote | \n",
    "| **`\\\"`** |   Double quote | \n",
    "| **`\\a`** |   ASCII Bell | \n",
    "| **`\\b`** |   ASCII Backspace | \n",
    "| **`\\f`** |   ASCII Formfeed | \n",
    "| **`\\n`** |   ASCII Linefeed | \n",
    "| **`\\t`** |   ASCII Horizontal Tab | \n",
    "| **`\\v`** |   ASCII Vertical Tab | "
   ]
  },
  {
   "cell_type": "code",
   "execution_count": 4,
   "metadata": {
    "ExecuteTime": {
     "end_time": "2021-10-02T09:54:34.777531Z",
     "start_time": "2021-10-02T09:54:34.757023Z"
    },
    "execution": {
     "iopub.execute_input": "2023-12-03T19:39:54.098534Z",
     "iopub.status.busy": "2023-12-03T19:39:54.096734Z",
     "iopub.status.idle": "2023-12-03T19:39:54.107335Z",
     "shell.execute_reply": "2023-12-03T19:39:54.105347Z",
     "shell.execute_reply.started": "2023-12-03T19:39:54.098469Z"
    },
    "tags": []
   },
   "outputs": [
    {
     "name": "stdout",
     "output_type": "stream",
     "text": [
      "C:\\Python32\\Lib\n",
      "This is printed\n",
      "in two lines\n"
     ]
    }
   ],
   "source": [
    "# Some examples\n",
    "\n",
    "print(\"C:\\\\Python32\\\\Lib\")\n",
    "\n",
    "print(\"This is printed\\nin two lines\")"
   ]
  },
  {
   "cell_type": "markdown",
   "metadata": {},
   "source": [
    "<div class=\"alert alert-info\"><h4>1.</h4><p>Create a new notebook and name it Lesson7_Tasks.</p></div>\n",
    "\n",
    "\n",
    "<div class=\"alert alert-info\"><h4>2.</h4><p>Test out the following code in your notebook.</p></div>\n",
    "\n",
    "```python\n",
    "# Creating a multiline string with escape sequences\n",
    "formatted_text = \"Python Escape Sequences\\n\\n\"\\\n",
    "                  \"\\t- \\\\n: Newline\\n\"\\\n",
    "                  \"\\t- \\\\t: Tab\\n\"\\\n",
    "                  \"\\t- \\\\\\\\ : Backslash\\n\"\\\n",
    "                  \"\\t- \\\\\\\": Double Quote\\n\"\\\n",
    "                  \"\\t- \\\\' : Single Quote\"\n",
    "\n",
    "# Printing the formatted text\n",
    "print(formatted_text)\n",
    "```"
   ]
  },
  {
   "cell_type": "markdown",
   "metadata": {},
   "source": [
    "## F-Strings\n",
    "\n",
    "F-strings, also known as \"formatted string literals,\" provide a concise and convenient way to embed expressions inside string literals in Python. Introduced in Python 3.6, f-strings offer a more readable and efficient alternative to older string formatting methods.\n",
    "\n",
    "We'll explore the basics of f-strings and demonstrate how to use them in various scenarios.\n",
    "\n",
    "### Basic Syntax\n",
    "\n",
    "The basic syntax of an f-string involves prefixing a string with the letter 'f' or 'F' and placing expressions inside curly braces `{}`. These expressions are evaluated at runtime and their results are embedded into the string."
   ]
  },
  {
   "cell_type": "code",
   "execution_count": 5,
   "metadata": {
    "execution": {
     "iopub.execute_input": "2023-12-03T19:39:54.714100Z",
     "iopub.status.busy": "2023-12-03T19:39:54.712394Z",
     "iopub.status.idle": "2023-12-03T19:39:54.723457Z",
     "shell.execute_reply": "2023-12-03T19:39:54.721600Z",
     "shell.execute_reply.started": "2023-12-03T19:39:54.713985Z"
    },
    "tags": []
   },
   "outputs": [
    {
     "name": "stdout",
     "output_type": "stream",
     "text": [
      "Hello, my name is Alice and I am 30 years old.\n"
     ]
    }
   ],
   "source": [
    "name = \"Alice\"\n",
    "age = 30\n",
    "\n",
    "# Basic f-string\n",
    "greeting = f\"Hello, my name is {name} and I am {age} years old.\"\n",
    "print(greeting)"
   ]
  },
  {
   "cell_type": "markdown",
   "metadata": {},
   "source": [
    "### Expressions inside F-Strings\n",
    "You can include any valid Python expressions inside the curly braces of an f-string. This allows for the inclusion of variables, mathematical operations, function calls, and more.\n",
    "\n",
    "<div class=\"alert alert-info\"><h4>3.</h4><p>Test out the following code in your notebook.</p></div>\n",
    "\n",
    "```python\n",
    "a = 5\n",
    "b = 10\n",
    "\n",
    "# Using expressions inside f-string\n",
    "result = f\"The sum of {a} and {b} is {a + b}.\"\n",
    "print(result)\n",
    "```"
   ]
  },
  {
   "cell_type": "markdown",
   "metadata": {},
   "source": [
    "### Formatting Options\n",
    "\n",
    "F-strings support various formatting options, such as specifying the number of decimal places for floating-point numbers or formatting dates."
   ]
  },
  {
   "cell_type": "code",
   "execution_count": 6,
   "metadata": {
    "execution": {
     "iopub.execute_input": "2023-12-03T19:39:55.667031Z",
     "iopub.status.busy": "2023-12-03T19:39:55.665081Z",
     "iopub.status.idle": "2023-12-03T19:39:55.677409Z",
     "shell.execute_reply": "2023-12-03T19:39:55.675316Z",
     "shell.execute_reply.started": "2023-12-03T19:39:55.666958Z"
    },
    "tags": []
   },
   "outputs": [
    {
     "name": "stdout",
     "output_type": "stream",
     "text": [
      "The value of pi is approximately 3.14.\n"
     ]
    }
   ],
   "source": [
    "pi = 3.141592653589793\n",
    "\n",
    "# Formatting a floating-point number\n",
    "formatted_pi = f\"The value of pi is approximately {pi:.2f}.\"\n",
    "print(formatted_pi)"
   ]
  },
  {
   "cell_type": "markdown",
   "metadata": {},
   "source": [
    "### Some more formatting options\n",
    "\n",
    "F-strings in Python support various formatting options for numbers, including integers, floating-point numbers, and more. Here are some examples of f-string formats for numbers:\n",
    "\n",
    "#### Adding Commas to Integers\n",
    "To add commas as thousands separators for large integers, you can use the comma as a separator:"
   ]
  },
  {
   "cell_type": "code",
   "execution_count": 7,
   "metadata": {
    "execution": {
     "iopub.execute_input": "2023-12-03T19:39:56.195537Z",
     "iopub.status.busy": "2023-12-03T19:39:56.193500Z",
     "iopub.status.idle": "2023-12-03T19:39:56.201994Z",
     "shell.execute_reply": "2023-12-03T19:39:56.200665Z",
     "shell.execute_reply.started": "2023-12-03T19:39:56.195467Z"
    },
    "tags": []
   },
   "outputs": [
    {
     "name": "stdout",
     "output_type": "stream",
     "text": [
      "The large number is: 1,000,000\n"
     ]
    }
   ],
   "source": [
    "# Formatting integer with commas\n",
    "large_number = 1000000\n",
    "formatted_large_number = f\"The large number is: {large_number:,}\"\n",
    "print(formatted_large_number)"
   ]
  },
  {
   "cell_type": "markdown",
   "metadata": {},
   "source": [
    "#### Padding Numbers\n",
    "\n",
    "You can pad numbers with zeros or spaces using the 0 or (space) as fill characters:"
   ]
  },
  {
   "cell_type": "code",
   "execution_count": 8,
   "metadata": {
    "execution": {
     "iopub.execute_input": "2023-12-03T19:39:56.791292Z",
     "iopub.status.busy": "2023-12-03T19:39:56.790178Z",
     "iopub.status.idle": "2023-12-03T19:39:56.801444Z",
     "shell.execute_reply": "2023-12-03T19:39:56.799844Z",
     "shell.execute_reply.started": "2023-12-03T19:39:56.791202Z"
    },
    "tags": []
   },
   "outputs": [
    {
     "name": "stdout",
     "output_type": "stream",
     "text": [
      "The padded number is: 00046\n",
      "The padded space number is:    46\n"
     ]
    }
   ],
   "source": [
    "num_int = 46\n",
    "\n",
    "# Padding numbers with zeros\n",
    "padded_num = f\"The padded number is: {num_int:05}\"\n",
    "print(padded_num)\n",
    "\n",
    "# Padding numbers with spaces\n",
    "padded_space_num = f\"The padded space number is: {num_int:5}\"\n",
    "print(padded_space_num)"
   ]
  },
  {
   "cell_type": "markdown",
   "metadata": {},
   "source": [
    "#### Scientific Notation\n",
    "\n",
    "For very large or very small numbers, you can use scientific notation:"
   ]
  },
  {
   "cell_type": "code",
   "execution_count": 9,
   "metadata": {
    "execution": {
     "iopub.execute_input": "2023-12-03T19:39:57.354726Z",
     "iopub.status.busy": "2023-12-03T19:39:57.352651Z",
     "iopub.status.idle": "2023-12-03T19:39:57.363752Z",
     "shell.execute_reply": "2023-12-03T19:39:57.361850Z",
     "shell.execute_reply.started": "2023-12-03T19:39:57.354658Z"
    },
    "tags": []
   },
   "outputs": [
    {
     "name": "stdout",
     "output_type": "stream",
     "text": [
      "The number in scientific notation is: 1.23e+06\n"
     ]
    }
   ],
   "source": [
    "# Scientific notation\n",
    "large_float = 1.23e6\n",
    "formatted_sci_notation = f\"The number in scientific notation is: {large_float:.2e}\"\n",
    "print(formatted_sci_notation)"
   ]
  },
  {
   "cell_type": "markdown",
   "metadata": {},
   "source": [
    "By using `{pi:.2f}`, we rounded pi to two decimal places before using it in the string.\n",
    "\n",
    "\n",
    "### Using F-Strings in Functions\n",
    "\n",
    "\n",
    "F-strings can be used inside functions to create dynamic strings based on function arguments.\n",
    "\n",
    "<div class=\"alert alert-info\"><h4>4.</h4><p>Test out the following code in your notebook.</p></div>\n",
    "\n",
    "```python\n",
    "def greet_person(name, age):\n",
    "    return f\"Hello, {name}! You are {age} years old.\"\n",
    "greeting = greet_person(\"Bob\", 25)\n",
    "print(greeting)\n",
    "```"
   ]
  },
  {
   "cell_type": "markdown",
   "metadata": {},
   "source": [
    "## Other formatting methods\n",
    "\n",
    "There are older types of string formatting that you may come across including those that look like the following examples."
   ]
  },
  {
   "cell_type": "code",
   "execution_count": 10,
   "metadata": {
    "execution": {
     "iopub.execute_input": "2023-12-03T19:39:58.205019Z",
     "iopub.status.busy": "2023-12-03T19:39:58.203525Z",
     "iopub.status.idle": "2023-12-03T19:39:58.215077Z",
     "shell.execute_reply": "2023-12-03T19:39:58.213499Z",
     "shell.execute_reply.started": "2023-12-03T19:39:58.204955Z"
    },
    "tags": []
   },
   "outputs": [
    {
     "data": {
      "text/plain": [
       "'Exponent representation: 1.966365e+03'"
      ]
     },
     "execution_count": 10,
     "metadata": {},
     "output_type": "execute_result"
    }
   ],
   "source": [
    "# Formatting floats\n",
    "\"Exponent representation: {0:e}\".format(1966.365)"
   ]
  },
  {
   "cell_type": "code",
   "execution_count": 11,
   "metadata": {
    "execution": {
     "iopub.execute_input": "2023-12-03T19:39:58.431112Z",
     "iopub.status.busy": "2023-12-03T19:39:58.429579Z",
     "iopub.status.idle": "2023-12-03T19:39:58.439412Z",
     "shell.execute_reply": "2023-12-03T19:39:58.437795Z",
     "shell.execute_reply.started": "2023-12-03T19:39:58.431013Z"
    },
    "tags": []
   },
   "outputs": [
    {
     "name": "stdout",
     "output_type": "stream",
     "text": [
      "The value of x is 36.35\n"
     ]
    }
   ],
   "source": [
    "x = 36.3456789\n",
    "print('The value of x is %3.2f' % x)"
   ]
  },
  {
   "cell_type": "markdown",
   "metadata": {},
   "source": [
    "## Common Python String Methods\n",
    "\n",
    "Strings can be tranformed by a variety of functions that are all \"methods\" of a string. To call a method on a string, you follow the string with a **`.`** then the function name. Some string methods include include:\n",
    "\n",
    "- Changing the case of your string: **`upper()`**, **`lower()`**, **`captialize()`**, **`title()`** and **`swapcase()`**,\n",
    "    - Note that `capitalize` makes the first letter of the string a capital only, while **`title`** selects upper case for the first letter of every word.\n",
    "\n",
    "- Some really useful ones: **`join()`**, **`split()`**, **`find()`**, and **`replace()`** \n",
    "\n",
    "- Padding strings: **`center(n)`**, **`ljust(n)`** and **`rjust(n)`** each place the string into a longer string of length n  padded by spaces (centered, left-justified or right-justified respectively). **`zfill(n)`** works similarly but pads with leading zeros.\n",
    "\n",
    "- Stripping strings: Often we want to remove spaces, this is achived with the functions **`strip()`**, **`lstrip()`**, and **`rstrip()`** respectively to remove from spaces from the both end, just left or just the right respectively.\n",
    "\n",
    "Here is a complete list of all the **[built-in methods to work with Strings in Python](https://github.com/milaan9/02_Python_Datatypes/tree/main/002_Python_String_Methods)**."
   ]
  },
  {
   "cell_type": "code",
   "execution_count": 12,
   "metadata": {
    "ExecuteTime": {
     "end_time": "2021-10-02T09:54:41.294533Z",
     "start_time": "2021-10-02T09:54:41.282814Z"
    },
    "execution": {
     "iopub.execute_input": "2023-12-03T19:39:59.019222Z",
     "iopub.status.busy": "2023-12-03T19:39:59.017156Z",
     "iopub.status.idle": "2023-12-03T19:39:59.027383Z",
     "shell.execute_reply": "2023-12-03T19:39:59.025739Z",
     "shell.execute_reply.started": "2023-12-03T19:39:59.019150Z"
    },
    "scrolled": true,
    "tags": []
   },
   "outputs": [
    {
     "name": "stdout",
     "output_type": "stream",
     "text": [
      "Hello world! vs Hello World!\n"
     ]
    }
   ],
   "source": [
    "# Example\n",
    "s = \"heLLo wORLd!\"\n",
    "print(s.capitalize(), \"vs\", s.title())"
   ]
  },
  {
   "cell_type": "markdown",
   "metadata": {},
   "source": [
    "<div class=\"alert alert-info\"><h4>5.</h4><p>Test out the following code in your notebook.</p></div>\n",
    "\n",
    "```python\n",
    "word_list = ['Hello', 'World']\n",
    "print(word_list)\n",
    "\n",
    "s = (' ').join(word_list)\n",
    "print(s)\n",
    "\n",
    "print(s.replace(\"World\",\"Class\"))\n",
    "```"
   ]
  },
  {
   "cell_type": "markdown",
   "metadata": {
    "ExecuteTime": {
     "end_time": "2021-10-02T09:54:41.665189Z",
     "start_time": "2021-10-02T09:54:41.658355Z"
    },
    "execution": {
     "iopub.execute_input": "2023-11-16T18:18:12.273619Z",
     "iopub.status.busy": "2023-11-16T18:18:12.272875Z",
     "iopub.status.idle": "2023-11-16T18:18:12.302949Z",
     "shell.execute_reply": "2023-11-16T18:18:12.300942Z",
     "shell.execute_reply.started": "2023-11-16T18:18:12.273561Z"
    },
    "tags": []
   },
   "source": [
    "Here are some more examples:"
   ]
  },
  {
   "cell_type": "code",
   "execution_count": 13,
   "metadata": {
    "ExecuteTime": {
     "end_time": "2021-10-02T09:54:42.050983Z",
     "start_time": "2021-10-02T09:54:42.036334Z"
    },
    "execution": {
     "iopub.execute_input": "2023-12-03T19:39:59.959299Z",
     "iopub.status.busy": "2023-12-03T19:39:59.958164Z",
     "iopub.status.idle": "2023-12-03T19:39:59.969584Z",
     "shell.execute_reply": "2023-12-03T19:39:59.967787Z",
     "shell.execute_reply.started": "2023-12-03T19:39:59.959205Z"
    },
    "tags": []
   },
   "outputs": [
    {
     "name": "stdout",
     "output_type": "stream",
     "text": [
      "2\n",
      "1\n",
      "1\n"
     ]
    }
   ],
   "source": [
    "# count(): returns occurrences of substring in string, count(substring, start=.., end=..)\n",
    "\n",
    "challenge = 'Python Datatypes'\n",
    "print(challenge.count('y')) # 2\n",
    "print(challenge.count('y', 6, 14)) # 1\n",
    "print(challenge.count('ty')) # 1"
   ]
  },
  {
   "cell_type": "code",
   "execution_count": 14,
   "metadata": {
    "ExecuteTime": {
     "end_time": "2021-10-02T09:54:42.358641Z",
     "start_time": "2021-10-02T09:54:42.343993Z"
    },
    "execution": {
     "iopub.execute_input": "2023-12-03T19:40:00.207143Z",
     "iopub.status.busy": "2023-12-03T19:40:00.204866Z",
     "iopub.status.idle": "2023-12-03T19:40:00.216157Z",
     "shell.execute_reply": "2023-12-03T19:40:00.214452Z",
     "shell.execute_reply.started": "2023-12-03T19:40:00.207022Z"
    },
    "tags": []
   },
   "outputs": [
    {
     "name": "stdout",
     "output_type": "stream",
     "text": [
      "True\n",
      "False\n"
     ]
    }
   ],
   "source": [
    "# endswith(): Checks if a string ends with a specified ending\n",
    "challenge = 'Python Datatypes'\n",
    "print(challenge.endswith('es'))   # True\n",
    "print(challenge.endswith('type')) # False"
   ]
  },
  {
   "cell_type": "code",
   "execution_count": 15,
   "metadata": {
    "ExecuteTime": {
     "end_time": "2021-10-02T09:54:43.388076Z",
     "start_time": "2021-10-02T09:54:43.373431Z"
    },
    "execution": {
     "iopub.execute_input": "2023-12-03T19:40:00.520357Z",
     "iopub.status.busy": "2023-12-03T19:40:00.518205Z",
     "iopub.status.idle": "2023-12-03T19:40:00.528908Z",
     "shell.execute_reply": "2023-12-03T19:40:00.527485Z",
     "shell.execute_reply.started": "2023-12-03T19:40:00.520246Z"
    },
    "tags": []
   },
   "outputs": [
    {
     "name": "stdout",
     "output_type": "stream",
     "text": [
      "1\n",
      "2\n"
     ]
    }
   ],
   "source": [
    "# index(): Returns the index of substring\n",
    "challenge = 'Python Datatypes'\n",
    "print(challenge.find('y'))  # 1\n",
    "print(challenge.find('th')) # 2"
   ]
  },
  {
   "cell_type": "markdown",
   "metadata": {},
   "source": [
    "# Why Documenting Your Code is So Important\n",
    "\n",
    ">*“Code is more often read than written.”*\n",
    "\n",
    "-- Guido van Rossum, creator of the Python programming language\n",
    "\n",
    "Previously, we briefly discussed commenting and introduced the concept of docstrings; here seems like a good time to revisit these ideas and expand on their usefulness.\n",
    "    \n",
    "When you write code professionally, you write it for two primary audiences: your users and developers (including yourself). Both audiences are equally important. If you’re like me, you’ve probably opened up old programs and wondered to yourself, “What in the world was I thinking?” \n",
    "\n",
    ">If you’re having a problem reading your own code, imagine what your users or other developers are experiencing when they’re trying to use or contribute to your code.\n",
    "\n",
    "As you learn more about Python, you’ll run into situations where you want to do something complicated, and you find what looks like a great library that can get the job done. However, when you start using the library, you look for examples, write-ups, or even official documentation on how to do something specific and can’t immediately find the solution.\n",
    "\n",
    "\n",
    "After searching, you come to realize that the documentation is lacking or even worse, missing entirely. This is a frustrating feeling that deters you from using the library, no matter how great or efficient the code is. Daniele Procida summarized this situation best:\n",
    "\n",
    ">*“It doesn’t matter how good your software is, because if the documentation is not good enough, people will not use it.”*"
   ]
  },
  {
   "cell_type": "markdown",
   "metadata": {},
   "source": [
    "## Commenting vs Documenting Code\n",
    "\n",
    "In general, commenting is describing your code to/for developers. The intended main audience is the maintainers and developers of the Python code. In conjunction with well-written code, **comments** help to guide the reader to better understand your code and its purpose and design.\n",
    "\n",
    "> “Code tells you how; Comments tell you why.”\n",
    "\n",
    "—- Jeff Atwood (aka Coding Horror)\n",
    "\n",
    "**Documenting** code is describing its use and functionality to your users. While it may be helpful in the development process, the main intended audience is the users.\n",
    "\n",
    "\n",
    "As you already know, comments are created in Python using the pound sign (#) and should be brief statements no longer than a few sentences. If a comment is going to be greater than 72 characters, using multiple lines for the comment is appropriate.\n",
    "\n",
    "\n",
    "For example:\n",
    "\n",
    "```python\n",
    "import numpy as np\n",
    "\n",
    "def calc_hypotenuse(a, b):\n",
    "    # Calculates the length of the hypotenus of a right angle triangle\n",
    "    # with leg lengths a and b\n",
    "    c = np.sqrt(a**2 + b**2)\n",
    "    return c\n",
    "```\n",
    "\n",
    "Commenting your code serves multiple purposes including:\n",
    "- **Planning and Reviewing:** When you are developing new portions of your code, it may be appropriate to first use comments as a way of planning or outlining that section of code. Remember to remove these comments once the actual coding has been implemented and reviewed/tested.\n",
    "\n",
    "```python\n",
    "# First step\n",
    "# Second step\n",
    "# Third step\n",
    "```\n",
    "\n",
    "- **Code Description:** Comments can be used to explain the intent of specific sections of code.\n",
    "\n",
    "```python\n",
    "# Attempt a connection based on previous settings. If unsuccessful, prompt user for new settings\n",
    "```\n",
    "\n",
    "- **Algorithmic Description:** When algorithms are used, especially complicated ones, it can be useful to explain how the algorithm works or how it’s implemented within your code. It may also be appropriate to describe why a specific algorithm was selected over another.\n",
    "\n",
    "```python\n",
    "# Using a quick sort for performance gains\n",
    "```\n",
    "\n",
    "- **Tagging:** The use of tagging can be used to label specific sections of code where known issues or areas of improvement are located. Some examples are: BUG, FIXME, and TODO.\n",
    "\n",
    "```python\n",
    "# TODO: add condition for when val is None\n",
    "```\n",
    "\n",
    "> Comments to your code should be kept brief and focused. Avoid using long comments when possible. Design your code to comment itself. The easiest way to understand code is by reading it. When you design your code using clear, easy-to-understand concepts, the reader will be able to quickly conceptualize your intent.\n",
    "\n",
    "Remember that comments are designed for the reader, including yourself, to help guide them in understanding the purpose and design of the software. Comments are ignored by the Python interpreter and do not affect the execution of your code."
   ]
  },
  {
   "cell_type": "markdown",
   "metadata": {
    "jp-MarkdownHeadingCollapsed": true,
    "tags": []
   },
   "source": [
    "## Documenting your code\n",
    "\n",
    "Documenting your code, on the other hand, involves adding **docstrings** to your functions, modules, and classes to provide detailed explanations of what your code does, what arguments it takes, what it returns, and how to use it.\n",
    "\n",
    "> Unlike comments, **docstrings** are not ignored by the Python interpreter and can be accessed using the `help()` function.\n",
    "\n",
    "\n",
    "Feel free to check out [this video](https://www.youtube.com/watch?v=QZhANCk5OXc), which provides a nice explanation of docstrings.\n",
    "\n",
    "<div class=\"alert alert-info\"><h4>6.</h4><p>Test out the following code in your notebook.</p></div>\n",
    "\n",
    "```python\n",
    "help(abs)\n",
    "```\n",
    "\n",
    "When you pass an object or function name as an argument to the `help()` function, Python will search for the **docstring** associated with that object and display it in the console.\n",
    "\n",
    "In this example, we used the `help()` function to get information about the built-in abs() function in Python. The docstring for `abs()` tells us that it returns the absolute value of a number.\n",
    "\n",
    "**Docstrings** are enclosed in triple quotes (`\"\"\" \"\"\"` or `''' '''`) and are considered part of the code.\n",
    "\n",
    "> Docstrings should be placed immediately after the `def` statement for a function, or the `class` statement for a class. Instead of using a comment, docstrings are a much better way to document what your function does.\n",
    "\n",
    "A docstring should provide a brief description of what the code does, how to use it, and any other relevant information.\n",
    "\n",
    "\n",
    "<div class=\"alert alert-info\"><h4>7.</h4><p>Create a new program (a python script) in your Files panel and save it as highFive.py.</p></div>\n",
    "\n",
    "<div class=\"alert alert-info\"><h4>8.</h4><p>Include the following code in highFive.py.</p></div>\n",
    "\n",
    "```python\n",
    "def high_five(name):\n",
    "    '''\n",
    "    Give someone a virutal high-five!\n",
    "    \n",
    "    Parameters:\n",
    "    name (str): The name of the person you want to give a high-five to.\n",
    "    \n",
    "    Returns\n",
    "    str: A message that says \"High five, [name]!\n",
    "    '''\n",
    "    \n",
    "    return 'High five, {}!'.format(name)\n",
    "\n",
    "# Test the high five function\n",
    "print(high_five('Jimmy'))\n",
    "```\n",
    "\n",
    "This function takes in a name as an argument and returns a message that says \"High five,\n",
    "[name]!\".\n",
    "\n",
    "<div class=\"alert alert-info\"><h4>9.</h4><p>Import and run your program from your notebook:</p></div>\n",
    "\n",
    "```python\n",
    "from highFive import high_five\n",
    "```\n",
    "\n",
    "<div class=\"alert alert-info\"><h4>10.</h4><p>After your program runs, add the following another code cell to your notebook:</p></div>\n",
    "\n",
    "```python\n",
    "help(high_five)\n",
    "```\n",
    "\n",
    "If you write a function and include a docstring to document, the help function will display your function’s docstring.\n",
    "\n",
    "You probably noticed that the docstring in the example above was multi-lined.\n",
    "\n",
    "All function docstrings should have the following parts:\n",
    "- A one-line summary line\n",
    "\n",
    "- A blank line proceeding the summary\n",
    "- What parameter it takes (with its type)\n",
    "- Another blank line\n",
    "- What it returns (with its type)\n",
    "\n",
    "The main difference between commenting and documenting your code is that comments are\n",
    "more focused on explaining how the code works, while docstrings provide more detailed\n",
    "explanations of what the code does and how to use it. Comments are often used to explain\n",
    "complex lines of code, while docstrings are used to document entire functions, modules, and classes.\n",
    "\n",
    "In summary, commenting is useful for providing short explanations of specific lines of code, while documenting is useful for providing more detailed explanations of entire functions, modules, and classes. Both commenting and documenting your code are important practices to help other developers understand your code and make it easier to maintain and update in the future."
   ]
  },
  {
   "cell_type": "markdown",
   "metadata": {},
   "source": [
    "## Challenge\n",
    "\n",
    "**1. Download `Challenge_29.ipynb` from Teams.**\n",
    "\n",
    "**2. Upload this file into your own *Project* on Deepnote by dragging the `Challenge_29.ipynb` file onto the Notebooks tab on the left-hand side.** \n",
    "\n",
    "**3. Use this notebook to complete Challenge 29 in Deepnote.**"
   ]
  },
  {
   "cell_type": "code",
   "execution_count": null,
   "metadata": {},
   "outputs": [],
   "source": []
  }
 ],
 "metadata": {
  "hide_input": false,
  "kernelspec": {
   "display_name": "Python 3 (ipykernel)",
   "language": "python",
   "name": "python3"
  },
  "language_info": {
   "codemirror_mode": {
    "name": "ipython",
    "version": 3
   },
   "file_extension": ".py",
   "mimetype": "text/x-python",
   "name": "python",
   "nbconvert_exporter": "python",
   "pygments_lexer": "ipython3",
   "version": "3.10.12"
  },
  "toc": {
   "base_numbering": 1,
   "nav_menu": {},
   "number_sections": true,
   "sideBar": true,
   "skip_h1_title": false,
   "title_cell": "Table of Contents",
   "title_sidebar": "Contents",
   "toc_cell": false,
   "toc_position": {},
   "toc_section_display": true,
   "toc_window_display": false
  },
  "varInspector": {
   "cols": {
    "lenName": 16,
    "lenType": 16,
    "lenVar": 40
   },
   "kernels_config": {
    "python": {
     "delete_cmd_postfix": "",
     "delete_cmd_prefix": "del ",
     "library": "var_list.py",
     "varRefreshCmd": "print(var_dic_list())"
    },
    "r": {
     "delete_cmd_postfix": ") ",
     "delete_cmd_prefix": "rm(",
     "library": "var_list.r",
     "varRefreshCmd": "cat(var_dic_list()) "
    }
   },
   "types_to_exclude": [
    "module",
    "function",
    "builtin_function_or_method",
    "instance",
    "_Feature"
   ],
   "window_display": false
  }
 },
 "nbformat": 4,
 "nbformat_minor": 4
}
