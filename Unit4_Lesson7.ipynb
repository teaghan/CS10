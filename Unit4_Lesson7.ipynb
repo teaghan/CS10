{
 "cells": [
  {
   "cell_type": "markdown",
   "metadata": {},
   "source": [
    "> *The creation of the lessons in this unit relied heavily on the existing lessons created by Mrs. FitzZaland as well as the [lecture series](https://github.com/milaan9/02_Python_Datatypes) produced by Dr. Milaan Parmar. Additionally, these lessons have largely been modelled off of the book [Think Python](https://open.umn.edu/opentextbooks/textbooks/43) by Allen Downey.*\n",
    "\n",
    "<small><small><i>\n",
    "All the IPython Notebooks in **Python Datatypes** lecture series by **[Dr. Milaan Parmar](https://www.linkedin.com/in/milaanparmar/)** are available @ **[GitHub](https://github.com/milaan9/02_Python_Datatypes)**\n",
    "</i></small></small>"
   ]
  },
  {
   "cell_type": "markdown",
   "metadata": {},
   "source": [
    "# Python Strings and Docstrings\n",
    "\n",
    "In this lesson you will learn to format strings in Python and explore the importance of docstrings."
   ]
  },
  {
   "cell_type": "markdown",
   "metadata": {},
   "source": [
    "## Python String Formatting\n",
    "\n",
    "If you'd like to check it out, [this video](https://www.youtube.com/watch?v=nghuHvKLhJA) provides a nice explanation of one of the string formatting methods that can be used in python."
   ]
  },
  {
   "cell_type": "markdown",
   "metadata": {},
   "source": [
    "### Escape Sequence\n",
    "\n",
    "If we want to print a text like `He said, \"What's there?\"`, we can neither use single quotes nor double quotes. This will result in a SyntaxError as the text itself contains both single and double quotes."
   ]
  },
  {
   "cell_type": "code",
   "execution_count": 1,
   "metadata": {
    "ExecuteTime": {
     "end_time": "2021-10-02T09:54:32.852463Z",
     "start_time": "2021-10-02T09:54:32.833909Z"
    },
    "execution": {
     "iopub.execute_input": "2023-11-16T18:18:08.197607Z",
     "iopub.status.busy": "2023-11-16T18:18:08.197421Z",
     "iopub.status.idle": "2023-11-16T18:18:08.206769Z",
     "shell.execute_reply": "2023-11-16T18:18:08.205101Z",
     "shell.execute_reply.started": "2023-11-16T18:18:08.197589Z"
    },
    "tags": []
   },
   "outputs": [
    {
     "ename": "SyntaxError",
     "evalue": "unterminated string literal (detected at line 1) (3245963823.py, line 1)",
     "output_type": "error",
     "traceback": [
      "\u001b[0;36m  Cell \u001b[0;32mIn[1], line 1\u001b[0;36m\u001b[0m\n\u001b[0;31m    print(\"He said, \"What's there?\"\")\u001b[0m\n\u001b[0m                         ^\u001b[0m\n\u001b[0;31mSyntaxError\u001b[0m\u001b[0;31m:\u001b[0m unterminated string literal (detected at line 1)\n"
     ]
    }
   ],
   "source": [
    "print(\"He said, \"What's there?\"\")"
   ]
  },
  {
   "cell_type": "markdown",
   "metadata": {},
   "source": [
    "One way to get around this problem is to use triple quotes. \n",
    "\n",
    "Alternatively, we can use escape sequences:\n",
    "\n",
    ">An escape sequence starts with a backslash and is interpreted differently. If we use a single quote to represent a string, all the single quotes inside the string must be escaped. Similar is the case with double quotes. \n",
    "\n",
    "Here is how it can be done to represent the above text:"
   ]
  },
  {
   "cell_type": "code",
   "execution_count": 2,
   "metadata": {
    "ExecuteTime": {
     "end_time": "2021-10-02T09:54:33.392579Z",
     "start_time": "2021-10-02T09:54:33.385742Z"
    },
    "execution": {
     "iopub.execute_input": "2023-11-16T18:18:09.995411Z",
     "iopub.status.busy": "2023-11-16T18:18:09.993901Z",
     "iopub.status.idle": "2023-11-16T18:18:10.004627Z",
     "shell.execute_reply": "2023-11-16T18:18:10.002973Z",
     "shell.execute_reply.started": "2023-11-16T18:18:09.995346Z"
    },
    "scrolled": true,
    "tags": []
   },
   "outputs": [
    {
     "name": "stdout",
     "output_type": "stream",
     "text": [
      "He said, \"What's there?\"\n",
      "He said, \"What's there?\"\n",
      "He said, \"What's there?\"\n"
     ]
    }
   ],
   "source": [
    "# using triple quotes\n",
    "print('''He said, \"What's there?\"''')\n",
    "\n",
    "# escaping single quotes\n",
    "print('He said, \"What\\'s there?\"')\n",
    "\n",
    "# escaping double quotes\n",
    "print(\"He said, \\\"What's there?\\\"\")"
   ]
  },
  {
   "cell_type": "markdown",
   "metadata": {},
   "source": [
    "### Here is a list of all the escape sequences supported by Python.\n",
    "\n",
    "| Escape Sequence | Description |\n",
    "|:----:| :--- |\n",
    "| **`\\\\`** |   Backslash | \n",
    "| **`\\'`** |   Single quote | \n",
    "| **`\\\"`** |   Double quote | \n",
    "| **`\\a`** |   ASCII Bell | \n",
    "| **`\\b`** |   ASCII Backspace | \n",
    "| **`\\f`** |   ASCII Formfeed | \n",
    "| **`\\n`** |   ASCII Linefeed | \n",
    "| **`\\t`** |   ASCII Horizontal Tab | \n",
    "| **`\\v`** |   ASCII Vertical Tab | "
   ]
  },
  {
   "cell_type": "code",
   "execution_count": 3,
   "metadata": {
    "ExecuteTime": {
     "end_time": "2021-10-02T09:54:34.777531Z",
     "start_time": "2021-10-02T09:54:34.757023Z"
    },
    "execution": {
     "iopub.execute_input": "2023-11-16T18:18:10.294856Z",
     "iopub.status.busy": "2023-11-16T18:18:10.292940Z",
     "iopub.status.idle": "2023-11-16T18:18:10.302705Z",
     "shell.execute_reply": "2023-11-16T18:18:10.301221Z",
     "shell.execute_reply.started": "2023-11-16T18:18:10.294772Z"
    },
    "tags": []
   },
   "outputs": [
    {
     "name": "stdout",
     "output_type": "stream",
     "text": [
      "C:\\Python32\\Lib\n",
      "This is printed\n",
      "in two lines\n"
     ]
    }
   ],
   "source": [
    "# Here are some examples\n",
    "\n",
    "print(\"C:\\\\Python32\\\\Lib\")\n",
    "#C:\\Python32\\Lib\n",
    "\n",
    "print(\"This is printed\\nin two lines\")\n",
    "#This is printed\n",
    "#in two lines"
   ]
  },
  {
   "cell_type": "markdown",
   "metadata": {},
   "source": [
    "### The `format()` Method for Formatting Strings\n",
    "\n",
    "The **`format()`** method that is available with the string object is very versatile and powerful in formatting strings. Format strings contain curly braces **`{}`** as placeholders or replacement fields which get replaced.\n",
    "\n",
    "We can use positional arguments or keyword arguments to specify the order."
   ]
  },
  {
   "cell_type": "code",
   "execution_count": 4,
   "metadata": {
    "ExecuteTime": {
     "end_time": "2021-10-02T09:54:37.316939Z",
     "start_time": "2021-10-02T09:54:37.306200Z"
    },
    "execution": {
     "iopub.execute_input": "2023-11-16T18:18:10.577152Z",
     "iopub.status.busy": "2023-11-16T18:18:10.575260Z",
     "iopub.status.idle": "2023-11-16T18:18:10.588165Z",
     "shell.execute_reply": "2023-11-16T18:18:10.586595Z",
     "shell.execute_reply.started": "2023-11-16T18:18:10.577072Z"
    },
    "scrolled": true,
    "tags": []
   },
   "outputs": [
    {
     "name": "stdout",
     "output_type": "stream",
     "text": [
      "\n",
      "--- Default Order ---\n",
      "Allan, Bill and Cory\n",
      "\n",
      "--- Positional Order ---\n",
      "Bill, Allan and Cory\n",
      "\n",
      "--- Keyword Order ---\n",
      "Cory, Bill and Allan\n"
     ]
    }
   ],
   "source": [
    "# Python string format() method\n",
    "\n",
    "# default(implicit) order\n",
    "default_order = \"{}, {} and {}\".format('Allan','Bill','Cory')\n",
    "print('\\n--- Default Order ---')\n",
    "print(default_order)\n",
    "\n",
    "# order using positional argument\n",
    "positional_order = \"{1}, {0} and {2}\".format('Allan','Bill','Cory')\n",
    "print('\\n--- Positional Order ---')\n",
    "print(positional_order)\n",
    "\n",
    "# order using keyword argument\n",
    "keyword_order = \"{s}, {b} and {j}\".format(j='Allan',b='Bill',s='Cory')\n",
    "print('\\n--- Keyword Order ---')\n",
    "print(keyword_order)"
   ]
  },
  {
   "cell_type": "markdown",
   "metadata": {},
   "source": [
    "The **`format()`** method can have optional format specifications. They are separated from the field name using colon. For example, we can left-justify **`<`**, right-justify **`>`** or center **`^`** a string in the given space.\n",
    "\n",
    "We can also format integers as binary, hexadecimal, etc. and floats can be rounded or displayed in the exponent format. There are tons of formatting you can use. Visit here for all the **[string formatting available with the format()](https://github.com/milaan9/02_Python_Datatypes/blob/main/002_Python_String_Methods/009_Python_String_format%28%29.ipynb)** method."
   ]
  },
  {
   "cell_type": "code",
   "execution_count": 5,
   "metadata": {
    "ExecuteTime": {
     "end_time": "2021-10-02T09:54:38.229170Z",
     "start_time": "2021-10-02T09:54:38.209640Z"
    },
    "execution": {
     "iopub.execute_input": "2023-11-16T18:18:10.838130Z",
     "iopub.status.busy": "2023-11-16T18:18:10.836027Z",
     "iopub.status.idle": "2023-11-16T18:18:10.847349Z",
     "shell.execute_reply": "2023-11-16T18:18:10.846143Z",
     "shell.execute_reply.started": "2023-11-16T18:18:10.838064Z"
    },
    "tags": []
   },
   "outputs": [
    {
     "data": {
      "text/plain": [
       "'Binary representation of 12 is 1100'"
      ]
     },
     "execution_count": 5,
     "metadata": {},
     "output_type": "execute_result"
    }
   ],
   "source": [
    "# formatting integers\n",
    "\"Binary representation of {0} is {0:b}\".format(12)"
   ]
  },
  {
   "cell_type": "code",
   "execution_count": 6,
   "metadata": {
    "ExecuteTime": {
     "end_time": "2021-10-02T09:54:38.677476Z",
     "start_time": "2021-10-02T09:54:38.656969Z"
    },
    "execution": {
     "iopub.execute_input": "2023-11-16T18:18:10.919087Z",
     "iopub.status.busy": "2023-11-16T18:18:10.917764Z",
     "iopub.status.idle": "2023-11-16T18:18:10.955713Z",
     "shell.execute_reply": "2023-11-16T18:18:10.953635Z",
     "shell.execute_reply.started": "2023-11-16T18:18:10.919002Z"
    },
    "tags": []
   },
   "outputs": [
    {
     "data": {
      "text/plain": [
       "'Exponent representation: 1.966365e+03'"
      ]
     },
     "execution_count": 6,
     "metadata": {},
     "output_type": "execute_result"
    }
   ],
   "source": [
    "# formatting floats\n",
    "\"Exponent representation: {0:e}\".format(1966.365)"
   ]
  },
  {
   "cell_type": "code",
   "execution_count": 7,
   "metadata": {
    "ExecuteTime": {
     "end_time": "2021-10-02T09:54:39.076947Z",
     "start_time": "2021-10-02T09:54:39.057413Z"
    },
    "execution": {
     "iopub.execute_input": "2023-11-16T18:18:11.036965Z",
     "iopub.status.busy": "2023-11-16T18:18:11.035751Z",
     "iopub.status.idle": "2023-11-16T18:18:11.047493Z",
     "shell.execute_reply": "2023-11-16T18:18:11.045722Z",
     "shell.execute_reply.started": "2023-11-16T18:18:11.036907Z"
    },
    "scrolled": true,
    "tags": []
   },
   "outputs": [
    {
     "data": {
      "text/plain": [
       "'One third is: 0.333'"
      ]
     },
     "execution_count": 7,
     "metadata": {},
     "output_type": "execute_result"
    }
   ],
   "source": [
    "# round off\n",
    "\"One third is: {0:.3f}\".format(1/3)"
   ]
  },
  {
   "cell_type": "code",
   "execution_count": 8,
   "metadata": {
    "ExecuteTime": {
     "end_time": "2021-10-02T09:54:39.431483Z",
     "start_time": "2021-10-02T09:54:39.414885Z"
    },
    "execution": {
     "iopub.execute_input": "2023-11-16T18:18:11.196026Z",
     "iopub.status.busy": "2023-11-16T18:18:11.194253Z",
     "iopub.status.idle": "2023-11-16T18:18:11.205411Z",
     "shell.execute_reply": "2023-11-16T18:18:11.204061Z",
     "shell.execute_reply.started": "2023-11-16T18:18:11.195962Z"
    },
    "tags": []
   },
   "outputs": [
    {
     "data": {
      "text/plain": [
       "'|bread     |  butter  |       jam|'"
      ]
     },
     "execution_count": 8,
     "metadata": {},
     "output_type": "execute_result"
    }
   ],
   "source": [
    "# string alignment\n",
    "\"|{:<10}|{:^10}|{:>10}|\".format('bread','butter','jam')"
   ]
  },
  {
   "cell_type": "markdown",
   "metadata": {},
   "source": [
    "### Old style formatting\n",
    "\n",
    "Alternatively, we can use the **`%`** operator to accomplish string formatting.\n",
    "\n",
    "Here are a couple of examples:"
   ]
  },
  {
   "cell_type": "code",
   "execution_count": 9,
   "metadata": {
    "ExecuteTime": {
     "end_time": "2021-10-02T09:54:40.123964Z",
     "start_time": "2021-10-02T09:54:40.114198Z"
    },
    "execution": {
     "iopub.execute_input": "2023-11-16T18:18:11.472251Z",
     "iopub.status.busy": "2023-11-16T18:18:11.470773Z",
     "iopub.status.idle": "2023-11-16T18:18:11.480249Z",
     "shell.execute_reply": "2023-11-16T18:18:11.478565Z",
     "shell.execute_reply.started": "2023-11-16T18:18:11.472188Z"
    },
    "tags": []
   },
   "outputs": [
    {
     "name": "stdout",
     "output_type": "stream",
     "text": [
      "The value of x is 36.35\n"
     ]
    }
   ],
   "source": [
    "x = 36.3456789\n",
    "print('The value of x is %3.2f' %x)"
   ]
  },
  {
   "cell_type": "code",
   "execution_count": 10,
   "metadata": {
    "ExecuteTime": {
     "end_time": "2021-10-02T09:54:40.507801Z",
     "start_time": "2021-10-02T09:54:40.491203Z"
    },
    "execution": {
     "iopub.execute_input": "2023-11-16T18:18:11.711176Z",
     "iopub.status.busy": "2023-11-16T18:18:11.709431Z",
     "iopub.status.idle": "2023-11-16T18:18:11.718728Z",
     "shell.execute_reply": "2023-11-16T18:18:11.717189Z",
     "shell.execute_reply.started": "2023-11-16T18:18:11.711112Z"
    },
    "tags": []
   },
   "outputs": [
    {
     "name": "stdout",
     "output_type": "stream",
     "text": [
      "The value of x is 36.3457\n"
     ]
    }
   ],
   "source": [
    "print('The value of x is %3.4f' %x)"
   ]
  },
  {
   "cell_type": "markdown",
   "metadata": {},
   "source": [
    "## Common Python String Methods\n",
    "\n",
    "There are numerous methods available with the string object. The **`format()`** method that we mentioned above is one of them. \n",
    "\n",
    "Strings can be tranformed by a variety of functions that are all methods on a string. That is they are called by putting the function name with a **`.`** after the string. They include:\n",
    "\n",
    "* Upper vs lower case: **`upper()`**, **`lower()`**, **`captialize()`**, **`title()`** and **`swapcase()`**, **`join()`**, **`split()`**, **`find()`**, **`replace()`** etc, with mostly the obvious meaning. Note that `capitalize` makes the first letter of the string a capital only, while **`title`** selects upper case for the first letter of every word.\n",
    "\n",
    "\n",
    "* Padding strings: **`center(n)`**, **`ljust(n)`** and **`rjust(n)`** each place the string into a longer string of length n  padded by spaces (centered, left-justified or right-justified respectively). **`zfill(n)`** works similarly but pads with leading zeros.\n",
    "\n",
    "\n",
    "* Stripping strings: Often we want to remove spaces, this is achived with the functions **`strip()`**, **`lstrip()`**, and **`rstrip()`** respectively to remove from spaces from the both end, just left or just the right respectively. An optional argument can be used to list a set of other characters to be removed.\n",
    "\n",
    "Here is a complete list of all the **[built-in methods to work with Strings in Python](https://github.com/milaan9/02_Python_Datatypes/tree/main/002_Python_String_Methods)**."
   ]
  },
  {
   "cell_type": "code",
   "execution_count": 11,
   "metadata": {
    "ExecuteTime": {
     "end_time": "2021-10-02T09:54:41.294533Z",
     "start_time": "2021-10-02T09:54:41.282814Z"
    },
    "execution": {
     "iopub.execute_input": "2023-11-16T18:18:12.089968Z",
     "iopub.status.busy": "2023-11-16T18:18:12.089219Z",
     "iopub.status.idle": "2023-11-16T18:18:12.103982Z",
     "shell.execute_reply": "2023-11-16T18:18:12.102828Z",
     "shell.execute_reply.started": "2023-11-16T18:18:12.089906Z"
    },
    "scrolled": true,
    "tags": []
   },
   "outputs": [
    {
     "name": "stdout",
     "output_type": "stream",
     "text": [
      "Hello world! vs Hello World!\n",
      "upper case: 'HELLO WORLD!' lower case: 'hello world!' and swapped: 'HEllO WorlD!'\n",
      "|         Hello World          |\n",
      "|lots of space|\n",
      "%s without leading/trailing d,h,L or ! = |%s| eLLo wOR\n",
      "Hello Class\n"
     ]
    }
   ],
   "source": [
    "# Examples:\n",
    "\n",
    "s = \"heLLo wORLd!\"\n",
    "print(s.capitalize(), \"vs\", s.title())\n",
    "\n",
    "print(\"upper case: '%s'\"%s.upper(),\"lower case: '%s'\"%s.lower(),\"and swapped: '%s'\"%s.swapcase())\n",
    "\n",
    "print('|%s|' % \"Hello World\".center(30)) # center in 30 characters\n",
    "\n",
    "print('|%s|'% \"     lots of space             \".strip()) # remove leading and trailing whitespace\n",
    "\n",
    "print('%s without leading/trailing d,h,L or ! = |%s|',s.strip(\"dhL!\"))\n",
    "\n",
    "print(\"Hello World\".replace(\"World\",\"Class\"))"
   ]
  },
  {
   "cell_type": "code",
   "execution_count": 12,
   "metadata": {
    "ExecuteTime": {
     "end_time": "2021-10-02T09:54:41.665189Z",
     "start_time": "2021-10-02T09:54:41.658355Z"
    },
    "execution": {
     "iopub.execute_input": "2023-11-16T18:18:12.273619Z",
     "iopub.status.busy": "2023-11-16T18:18:12.272875Z",
     "iopub.status.idle": "2023-11-16T18:18:12.302949Z",
     "shell.execute_reply": "2023-11-16T18:18:12.300942Z",
     "shell.execute_reply.started": "2023-11-16T18:18:12.273561Z"
    },
    "tags": []
   },
   "outputs": [
    {
     "name": "stdout",
     "output_type": "stream",
     "text": [
      "Python datatypes\n"
     ]
    }
   ],
   "source": [
    "# capitalize(): Converts the first character the string to Capital Letter\n",
    "\n",
    "challenge = 'Python Datatypes'\n",
    "print(challenge.capitalize()) # 'Python datatypes'"
   ]
  },
  {
   "cell_type": "code",
   "execution_count": 13,
   "metadata": {
    "ExecuteTime": {
     "end_time": "2021-10-02T09:54:42.050983Z",
     "start_time": "2021-10-02T09:54:42.036334Z"
    },
    "execution": {
     "iopub.execute_input": "2023-11-16T18:18:12.861233Z",
     "iopub.status.busy": "2023-11-16T18:18:12.859775Z",
     "iopub.status.idle": "2023-11-16T18:18:12.870386Z",
     "shell.execute_reply": "2023-11-16T18:18:12.869022Z",
     "shell.execute_reply.started": "2023-11-16T18:18:12.861166Z"
    },
    "tags": []
   },
   "outputs": [
    {
     "name": "stdout",
     "output_type": "stream",
     "text": [
      "2\n",
      "1\n",
      "1\n"
     ]
    }
   ],
   "source": [
    "# count(): returns occurrences of substring in string, count(substring, start=.., end=..)\n",
    "\n",
    "challenge = 'Python Datatypes'\n",
    "print(challenge.count('y')) # 2\n",
    "print(challenge.count('y', 6, 14)) # 1\n",
    "print(challenge.count('ty')) # 1"
   ]
  },
  {
   "cell_type": "code",
   "execution_count": 14,
   "metadata": {
    "ExecuteTime": {
     "end_time": "2021-10-02T09:54:42.358641Z",
     "start_time": "2021-10-02T09:54:42.343993Z"
    },
    "execution": {
     "iopub.execute_input": "2023-11-16T18:18:12.876521Z",
     "iopub.status.busy": "2023-11-16T18:18:12.876135Z",
     "iopub.status.idle": "2023-11-16T18:18:12.910570Z",
     "shell.execute_reply": "2023-11-16T18:18:12.908564Z",
     "shell.execute_reply.started": "2023-11-16T18:18:12.876490Z"
    },
    "tags": []
   },
   "outputs": [
    {
     "name": "stdout",
     "output_type": "stream",
     "text": [
      "True\n",
      "False\n"
     ]
    }
   ],
   "source": [
    "# endswith(): Checks if a string ends with a specified ending\n",
    "\n",
    "challenge = 'Python Datatypes'\n",
    "print(challenge.endswith('es'))   # True\n",
    "print(challenge.endswith('type')) # False"
   ]
  },
  {
   "cell_type": "code",
   "execution_count": 15,
   "metadata": {
    "ExecuteTime": {
     "end_time": "2021-10-02T09:54:43.388076Z",
     "start_time": "2021-10-02T09:54:43.373431Z"
    },
    "execution": {
     "iopub.execute_input": "2023-11-16T18:18:13.000388Z",
     "iopub.status.busy": "2023-11-16T18:18:12.999316Z",
     "iopub.status.idle": "2023-11-16T18:18:13.009196Z",
     "shell.execute_reply": "2023-11-16T18:18:13.007530Z",
     "shell.execute_reply.started": "2023-11-16T18:18:13.000328Z"
    },
    "tags": []
   },
   "outputs": [
    {
     "name": "stdout",
     "output_type": "stream",
     "text": [
      "1\n",
      "2\n"
     ]
    }
   ],
   "source": [
    "# index(): Returns the index of substring\n",
    "\n",
    "challenge = 'Python Datatypes'\n",
    "print(challenge.find('y'))  # 1\n",
    "print(challenge.find('th')) # 2"
   ]
  },
  {
   "cell_type": "markdown",
   "metadata": {},
   "source": [
    "# Why Documenting Your Code is So Important\n",
    "\n",
    ">*“Code is more often read than written.”*\n",
    "\n",
    "-- Guido van Rossum, creator of the Python programming language\n",
    "\n",
    "Previously, we briefly discussed commenting and introduced the concept of docstrings; here seems like a good time to revisit this idea and expand on it's usefulness.\n",
    "    \n",
    "When you write code professionally, you write it for two primary audiences: your users and developers (including yourself). Both audiences are equally important. If you’re like me, you’ve probably opened up old programs and wondered to yourself, “What in the world was I thinking?” \n",
    "\n",
    ">If you’re having a problem reading your own code, imagine what your users or other developers are experiencing when they’re trying to use or contribute to your code.\n",
    "\n",
    "As you learn more about Python, you’ll run into situations where you want to do something complicated, and you find what looks like a great library that can get the job done. However, when you start using the library, you look for examples, write-ups, or even official documentation on how to do something specific and can’t immediately find the solution.\n",
    "\n",
    "\n",
    "After searching, you come to realize that the documentation is lacking or even worse, missing entirely. This is a frustrating feeling that deters you from using the library, no matter how great or efficient the code is. Daniele Procida summarized this situation best:\n",
    "\n",
    ">*“It doesn’t matter how good your software is, because if the documentation is not good enough, people will not use it.”*"
   ]
  },
  {
   "cell_type": "markdown",
   "metadata": {},
   "source": [
    "## Commenting vs Documenting Code\n",
    "\n",
    "In general, commenting is describing your code to/for developers. The intended main audience is the maintainers and developers of the Python code. In conjunction with well-written code, **comments** help to guide the reader to better understand your code and its purpose and design.\n",
    "\n",
    "> “Code tells you how; Comments tell you why.”\n",
    "\n",
    "—- Jeff Atwood (aka Coding Horror)\n",
    "\n",
    "**Documenting** code is describing its use and functionality to your users. While it may be helpful in the development process, the main intended audience is the users.\n",
    "\n",
    "\n",
    "As you already know, comments are created in Python using the pound sign (#) and should be brief statements no longer than a few sentences. If a comment is going to be greater than 72 characters, using multiple lines for the comment is appropriate.\n",
    "\n",
    "\n",
    "For example:\n",
    "\n",
    "```python\n",
    "import numpy as np\n",
    "\n",
    "def calc_hypotenuse(a, b):\n",
    "    # Calculates the length of the hypotenus of a right angle triangle\n",
    "    # with leg lengths a and b\n",
    "    c = np.sqrt(a**2 + b**2)\n",
    "    return c\n",
    "```\n",
    "\n",
    "Commenting your code serves multiple purposes including:\n",
    "- **Planning and Reviewing:** When you are developing new portions of your code, it may be appropriate to first use comments as a way of planning or outlining that section of code. Remember to remove these comments once the actual coding has been implemented and reviewed/tested.\n",
    "\n",
    "```python\n",
    "# First step\n",
    "# Second step\n",
    "# Third step\n",
    "```\n",
    "\n",
    "- **Code Description:** Comments can be used to explain the intent of specific sections of code.\n",
    "\n",
    "```python\n",
    "# Attempt a connection based on previous settings. If unsuccessful, prompt user for new settings\n",
    "```\n",
    "\n",
    "- **Algorithmic Description:** When algorithms are used, especially complicated ones, it can be useful to explain how the algorithm works or how it’s implemented within your code. It may also be appropriate to describe why a specific algorithm was selected over another.\n",
    "\n",
    "```python\n",
    "# Using a quick sort for performance gains\n",
    "```\n",
    "\n",
    "- **Tagging:** The use of tagging can be used to label specific sections of code where known issues or areas of improvement are located. Some examples are: BUG, FIXME, and TODO.\n",
    "\n",
    "```python\n",
    "# TODO: add condition for when val is None\n",
    "```\n",
    "\n",
    "> Comments to your code should be kept brief and focused. Avoid using long comments when possible. Design your code to comment itself. The easiest way to understand code is by reading it. When you design your code using clear, easy-to-understand concepts, the reader will be able to quickly conceptualize your intent.\n",
    "\n",
    "Remember that comments are designed for the reader, including yourself, to help guide them in understanding the purpose and design of the software. Comments are ignored by the Python interpreter and do not affect the execution of your code."
   ]
  },
  {
   "cell_type": "markdown",
   "metadata": {
    "jp-MarkdownHeadingCollapsed": true,
    "tags": []
   },
   "source": [
    "## Documenting your code\n",
    "\n",
    "Documenting your code, on the other hand, involves adding **docstrings** to your functions, modules, and classes to provide detailed explanations of what your code does, what arguments it takes, what it returns, and how to use it.\n",
    "\n",
    "> Unlike comments, **docstrings** are not ignored by the Python interpreter and can be accessed using the `help()` function.\n",
    "\n",
    "\n",
    "Feel free to check out [this video](https://www.youtube.com/watch?v=QZhANCk5OXc), which provides a nice explanation of docstrings.\n",
    "\n",
    "**1. In a new notebook, enter the code:**\n",
    "\n",
    "```python\n",
    "help(abs)\n",
    "```\n",
    "\n",
    "When you pass an object or function name as an argument to the `help()` function, Python will search for the **docstring** associated with that object and display it in the console.\n",
    "\n",
    "In this example, we used the `help()` function to get information about the built-in abs() function in Python. The docstring for `abs()` tells us that it returns the absolute value of a number.\n",
    "\n",
    "**Docstrings** are enclosed in triple quotes (`\"\"\" \"\"\"` or `''' '''`) and are considered part of the code.\n",
    "\n",
    "> Docstrings should be placed immediately after the `def` statement for a function, or the `class` statement for a class. Instead of using a comment, docstrings are a much better way to document what your function does.\n",
    "\n",
    "A docstring should provide a brief description of what the code does, how to use it, and any other relevant information.\n",
    "\n",
    "**2. Create a new program and save it as highFive.py.**\n",
    "\n",
    "```python\n",
    "def high_five(name):\n",
    "    '''\n",
    "    Give someone a virutal high-five!\n",
    "    \n",
    "    Parameters:\n",
    "    name (str): The name of the person you want to give a high-five to.\n",
    "    \n",
    "    Returns\n",
    "    str: A message that says \"High five, [name]!\n",
    "    '''\n",
    "    \n",
    "    return 'High five, {}!'.format(name)\n",
    "\n",
    "# Test the high five function\n",
    "print(high_five('Jimmy'))\n",
    "```\n",
    "\n",
    "This function takes in a name as an argument and returns a message that says \"High five,\n",
    "[name]!\".\n",
    "\n",
    "**3. Import and run your program from your notebook.**\n",
    "\n",
    "```python\n",
    "from highFive import high_five\n",
    "```\n",
    "\n",
    "**4. After your program runs, add the following another code cell to your notebook:**\n",
    "\n",
    "```python\n",
    "help(high_five)\n",
    "```\n",
    "\n",
    "If you write a function and include a docstring to document, the help function will display your function’s docstring.\n",
    "\n",
    "You probably noticed that the docstring in the example above was multi-lined.\n",
    "\n",
    "All function docstrings should have the following parts:\n",
    "- A one-line summary line\n",
    "- A blank line proceeding the summary\n",
    "- What parameter it takes (with its type)\n",
    "- Another blank line\n",
    "- What it returns (with its type)\n",
    "\n",
    "The main difference between commenting and documenting your code is that comments are\n",
    "more focused on explaining how the code works, while docstrings provide more detailed\n",
    "explanations of what the code does and how to use it. Comments are often used to explain\n",
    "complex lines of code, while docstrings are used to document entire functions, modules, and classes.\n",
    "\n",
    "In summary, commenting is useful for providing short explanations of specific lines of code, while documenting is useful for providing more detailed explanations of entire functions, modules, and classes. Both commenting and documenting your code are important practices to help other developers understand your code and make it easier to maintain and update in the future."
   ]
  },
  {
   "cell_type": "markdown",
   "metadata": {},
   "source": [
    "## Challenge\n",
    "\n",
    "**5. Download `Challenge_29.ipynb` from Teams.**\n",
    "\n",
    "**6. Upload this file into your own *Project* on Deepnote by dragging the `Challenge_29.ipynb` file onto the Notebooks tab on the left-hand side.** \n",
    "\n",
    "**7. Use this notebook to complete Challenge 29 in Deepnote.**"
   ]
  },
  {
   "cell_type": "code",
   "execution_count": null,
   "metadata": {},
   "outputs": [],
   "source": []
  }
 ],
 "metadata": {
  "hide_input": false,
  "kernelspec": {
   "display_name": "Python 3 (ipykernel)",
   "language": "python",
   "name": "python3"
  },
  "language_info": {
   "codemirror_mode": {
    "name": "ipython",
    "version": 3
   },
   "file_extension": ".py",
   "mimetype": "text/x-python",
   "name": "python",
   "nbconvert_exporter": "python",
   "pygments_lexer": "ipython3",
   "version": "3.10.12"
  },
  "toc": {
   "base_numbering": 1,
   "nav_menu": {},
   "number_sections": true,
   "sideBar": true,
   "skip_h1_title": false,
   "title_cell": "Table of Contents",
   "title_sidebar": "Contents",
   "toc_cell": false,
   "toc_position": {},
   "toc_section_display": true,
   "toc_window_display": false
  },
  "varInspector": {
   "cols": {
    "lenName": 16,
    "lenType": 16,
    "lenVar": 40
   },
   "kernels_config": {
    "python": {
     "delete_cmd_postfix": "",
     "delete_cmd_prefix": "del ",
     "library": "var_list.py",
     "varRefreshCmd": "print(var_dic_list())"
    },
    "r": {
     "delete_cmd_postfix": ") ",
     "delete_cmd_prefix": "rm(",
     "library": "var_list.r",
     "varRefreshCmd": "cat(var_dic_list()) "
    }
   },
   "types_to_exclude": [
    "module",
    "function",
    "builtin_function_or_method",
    "instance",
    "_Feature"
   ],
   "window_display": false
  }
 },
 "nbformat": 4,
 "nbformat_minor": 4
}
