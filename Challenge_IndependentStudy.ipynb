{
 "cells": [
  {
   "cell_type": "markdown",
   "id": "eb479cac-7134-461b-ad14-0dd6f997f190",
   "metadata": {},
   "source": [
    "# What's next?\n",
    "\n",
    "Once you have completed Challenge 30 in Python, you are now free to either:\n",
    "- continue onto Challenge 31+ and develop your python skills further\n",
    "- **OR** develop your skills in a different programming language\n",
    "\n",
    "## Independent study\n",
    "\n",
    "For instance, if you happened to want to learn a language like C#, you could follow an online tutorial to transfer the skills you have learned in Python to C#. I found a [tutorial](https://learn.microsoft.com/en-us/collections/yz26f8y64n7k07?WT.mc_id=dotnet-35129-website) offered by Microsoft.\n",
    "\n",
    "If you are going this route, **you must show me evidence of your progress**. \n",
    "\n",
    "- This means that you will **add a post to your portfolio each day**, which summarizes what you have learned that day. \n",
    "    - You can use these posts as a way of taking notes for yourself.\n",
    "- You will also periodically show me examples of your code and explain to me what you're working on.\n",
    "    - You can teach me something new!"
   ]
  },
  {
   "cell_type": "code",
   "execution_count": null,
   "id": "66ed97b2-e578-4279-bfb8-2a54a7663485",
   "metadata": {},
   "outputs": [],
   "source": []
  }
 ],
 "metadata": {
  "kernelspec": {
   "display_name": "Python 3 (ipykernel)",
   "language": "python",
   "name": "python3"
  },
  "language_info": {
   "codemirror_mode": {
    "name": "ipython",
    "version": 3
   },
   "file_extension": ".py",
   "mimetype": "text/x-python",
   "name": "python",
   "nbconvert_exporter": "python",
   "pygments_lexer": "ipython3",
   "version": "3.10.12"
  }
 },
 "nbformat": 4,
 "nbformat_minor": 5
}
