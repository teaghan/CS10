{
 "cells": [
  {
   "cell_type": "markdown",
   "id": "90ebb1e6-ba89-473f-b294-2ce9f8737ab6",
   "metadata": {},
   "source": [
    "# Modules\n",
    "\n",
    "*By completing these challenges, you'll demonstrate that you understand key programming concepts.*\n",
    "\n",
    "**Use the provided code cells to answer at least five of the following question.**\n",
    "\n",
    "When you’ve finished, call me over to read it and sign off on it. I’ll also want to run your programs, so make sure the notebook runs properly!\n",
    "\n",
    "Don’t forget to use comments appropriately."
   ]
  },
  {
   "cell_type": "markdown",
   "id": "8ff1a94b-6af6-4cfc-afcc-d8d1bb67685c",
   "metadata": {},
   "source": [
    "### Level 1\n",
    "\n",
    "1. Write a function which generates a six digit/character **`random_user_id`**.\n",
    "```python\n",
    "print(random_user_id());\n",
    "'1ee33d'\n",
    "```\n",
    "\n",
    "Remember that you can use the random module as follows:\n",
    "\n",
    "```python\n",
    "# Program to generate random numbers\n",
    "\n",
    "# Import the random module\n",
    "import random\n",
    "\n",
    "# Generate a pseudorandom number between 0 and 9\n",
    "x = random.randint(0,9)\n",
    "print(x)\n",
    "```\n",
    "\n",
    "Try looking up a new module that will help with getting the characters!"
   ]
  },
  {
   "cell_type": "code",
   "execution_count": null,
   "id": "dcd3be01-bfed-4e21-abc0-1b312e9b0354",
   "metadata": {},
   "outputs": [],
   "source": []
  },
  {
   "cell_type": "markdown",
   "id": "73611a51-6560-4141-bd98-c1581635860e",
   "metadata": {},
   "source": [
    "2. Modify the previous task. Declare a function named **`user_id_gen_by_user`**. It doesn’t take any parameters but it takes two inputs using **`input()`**. One of the inputs is the number of characters and the second input is the number of IDs which are supposed to be generated.\n",
    "   \n",
    "```python\n",
    "print(user_id_gen_by_user()) # user input: 5 5\n",
    "#output:\n",
    "#kcsy2\n",
    "#SMFYb\n",
    "#bWmeq\n",
    "#ZXOYh\n",
    "#2Rgxf\n",
    "``` \n",
    " \n",
    "```python\n",
    "print(user_id_gen_by_user()) # 16 5\n",
    "#1GCSgPLMaBAVQZ26\n",
    "#YD7eFwNQKNs7qXaT\n",
    "#ycArC5yrRupyG00S\n",
    "#UbGxOFI7UXSWAyKN\n",
    "#dIV0SSUTgAdKwStr\n",
    "```"
   ]
  },
  {
   "cell_type": "code",
   "execution_count": null,
   "id": "02e3f85b-1c4e-4d24-8dc0-abf9d2cefcd5",
   "metadata": {},
   "outputs": [],
   "source": []
  },
  {
   "cell_type": "markdown",
   "id": "3bf0bfcd-9b88-43bc-b81f-a8e317e7cd64",
   "metadata": {},
   "source": [
    "3. Write a function named **`rgb_color_gen`**. It will generate rgb colors (3 values ranging from 0 to 255 each).\n",
    "   \n",
    "```python\n",
    "print(rgb_color_gen()) \n",
    "#rgb(125,244,255) - the output should be in this form\n",
    "```"
   ]
  },
  {
   "cell_type": "code",
   "execution_count": null,
   "id": "e97a29d6-3aaa-461d-9ff8-e8f60e30809b",
   "metadata": {},
   "outputs": [],
   "source": []
  },
  {
   "cell_type": "markdown",
   "id": "def5f087-0e6c-442a-b66e-a1ae7f413975",
   "metadata": {},
   "source": [
    "### Level 2\n",
    "\n",
    "4. Write a function **`list_of_hexa_colors`** which returns any number of hexadecimal colors in an array (six hexadecimal numbers written after **`#`**. Hexadecimal numeral system is made out of 16 symbols, 0-9 and first 6 letters of the alphabet, a-f. Check the task 6 for output examples)."
   ]
  },
  {
   "cell_type": "code",
   "execution_count": null,
   "id": "bc1f88de-02a2-4212-bfcd-485161f04e81",
   "metadata": {},
   "outputs": [],
   "source": []
  },
  {
   "cell_type": "markdown",
   "id": "102818bd-d855-4268-8323-04ae13100177",
   "metadata": {},
   "source": [
    "5. Write a function **`list_of_rgb_colors`** which returns any number of RGB colors in an array.\n"
   ]
  },
  {
   "cell_type": "code",
   "execution_count": null,
   "id": "d47c8e76-5359-457e-83da-4368940b12cc",
   "metadata": {},
   "outputs": [],
   "source": []
  },
  {
   "cell_type": "markdown",
   "id": "455f6d16-76a5-4e55-9d9c-685e459b3dc1",
   "metadata": {},
   "source": [
    "6. Write a function **`generate_colors`** which can generate any number of hexa or rgb colors.\n",
    "\n",
    "```python\n",
    "generate_colors('hexa', 3) # ['#a3e12f','#03ed55','#eb3d2b'] \n",
    "generate_colors('hexa', 1) # ['#b334ef']\n",
    "generate_colors('rgb', 3)  # ['rgb(5, 55, 175','rgb(50, 105, 100','rgb(15, 26, 80'] \n",
    "generate_colors('rgb', 1)  # ['rgb(33,79, 176)']\n",
    "```"
   ]
  },
  {
   "cell_type": "code",
   "execution_count": null,
   "id": "381a524a-139f-42fe-89e6-9f25e8819178",
   "metadata": {},
   "outputs": [],
   "source": []
  },
  {
   "cell_type": "markdown",
   "id": "4fda5b41-5e04-47e2-abbb-5a87fd8689df",
   "metadata": {},
   "source": [
    "### Level 3\n",
    "\n",
    "7. Write a function called **`shuffle_list`**, it takes a list as a parameter and it returns a shuffled list"
   ]
  },
  {
   "cell_type": "code",
   "execution_count": null,
   "id": "a8d36abb-723f-4f8f-8688-cae6152e98bd",
   "metadata": {},
   "outputs": [],
   "source": []
  },
  {
   "cell_type": "markdown",
   "id": "0f017df3-889a-4697-a970-957803f5b8f9",
   "metadata": {},
   "source": [
    "8. Write a function which returns an array of seven random numbers in a range of 0-9. All the numbers must be unique."
   ]
  },
  {
   "cell_type": "code",
   "execution_count": null,
   "id": "6b91b7c2-85fb-411c-a85b-e5ddd32891a8",
   "metadata": {},
   "outputs": [],
   "source": []
  }
 ],
 "metadata": {
  "kernelspec": {
   "display_name": "Python 3 (ipykernel)",
   "language": "python",
   "name": "python3"
  },
  "language_info": {
   "codemirror_mode": {
    "name": "ipython",
    "version": 3
   },
   "file_extension": ".py",
   "mimetype": "text/x-python",
   "name": "python",
   "nbconvert_exporter": "python",
   "pygments_lexer": "ipython3",
   "version": "3.10.12"
  }
 },
 "nbformat": 4,
 "nbformat_minor": 5
}
