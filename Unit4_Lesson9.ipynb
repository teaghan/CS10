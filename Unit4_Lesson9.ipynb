{
 "cells": [
  {
   "cell_type": "markdown",
   "metadata": {},
   "source": [
    "> *The creation of the lessons in this unit relied heavily on the existing lessons created by Mrs. FitzZaland as well as the [lecture series](https://github.com/milaan9/10_Python_Pandas_Module) produced by Dr. Milaan Parmar. Additionally, these lessons have largely been modelled off of the book [Think Python](https://open.umn.edu/opentextbooks/textbooks/43) by Allen Downey.*"
   ]
  },
  {
   "cell_type": "markdown",
   "metadata": {},
   "source": [
    "# Pandas\n",
    "\n",
    "This Pandas lesson will help you learn all the Pandas basics.\n",
    "\n",
    "If it would be beneficial for your learning, feel free to **take a look at [this 20 minute video](https://www.youtube.com/watch?v=zN2Hua6oII0)** that goes through most of the content covered in this lesson.\n",
    "\n",
    "<div class=\"alert alert-info\"><h4>Tasks</h4><p>Alert boxes like this will provide you with tasks that you must do while going through this lesson.</p></div>\n",
    "\n",
    "**[Pandas](https://pandas.pydata.org/)** provides a fast, flexible, handy, and expressive data structure tool that is designed to make working with 'relational' or 'labeled' data both easy and intuitive. It aims to be the fundamental high-level building block for doing practical, real world complex data analysis in Python.\n",
    "\n",
    "> Pandas is kind of like a simple version of Excel for Python.\n",
    "\n",
    "Pandas is well suited for many different kinds of data including:\n",
    "\n",
    "* Tabular data with heterogeneously-typed columns, as in an SQL table or Excel spreadsheet\n",
    "* Time series data\n",
    "* Arbitrary matrix data with row and column labels\n",
    "* Any other form of observational / statistical data sets"
   ]
  },
  {
   "cell_type": "markdown",
   "metadata": {},
   "source": [
    "# Pandas' DataFrame\n",
    "\n",
    "In this lesson, you will learn about Pandas' DataFrame. The lesson covers the basics of DataFrames: its attributes, functions, and how to use DataFrames for data analysis.\n",
    "\n",
    "> The DataFrame is the most widely used data structure in Pandas. You can imagine it as a table in a database or a spreadsheet."
   ]
  },
  {
   "cell_type": "markdown",
   "metadata": {},
   "source": [
    "## What is a DataFrame in Pandas\n",
    "\n",
    "A DataFrame is a tabular (rows and columns) representation of data. It is a two-dimensional data structure that allows for the data to be in different types (unlike numpy arrays which only allow for a single data type).\n",
    "\n",
    "A Dataframe is a size-mutable structure, which means that data can be added or deleted from it; unlike a data series, which does not allow operations that change its size.\n",
    "\n",
    "<div>\n",
    "<img src=\"images/dataframe.png\" width=\"600\"/>\n",
    "</div>"
   ]
  },
  {
   "cell_type": "markdown",
   "metadata": {},
   "source": [
    "## DataFrame creation\n",
    "\n",
    "Data is available in various forms and types like CSV, SQL table, JSON, or Python structures like list, dictionaries, etc. We need to convert all such different data formats into a DataFrame so that we can use pandas libraries to analyze the data efficiently.\n",
    "\n",
    "To create a DataFrame, we can use either the DataFrame constructor or pandas built-in functions."
   ]
  },
  {
   "cell_type": "markdown",
   "metadata": {},
   "source": [
    "### DataFrame constructor\n",
    "\n",
    "```python\n",
    "pandas.DataFrame(data=None, index=None, columns=None, dtype=None, copy=False)\n",
    "```"
   ]
  },
  {
   "cell_type": "markdown",
   "metadata": {},
   "source": [
    "#### Parameters:\n",
    "\n",
    "- **`data`**: This can either be a **`dict`**, **`list`**, **`set`**, **`ndarray`**, **`iterable`**, or a DataFrame. If the input is not provided, then it creates an empty DataFrame. The resultant column order follows the order of the inserted data.\n",
    "\n",
    "- **`index`**: (Optional) It takes the list of row index for the DataFrame. The default value is a range of integers 0, 1,…n.\n",
    "\n",
    "\n",
    "- **`columns`** : (Optional) It takes the list of column headers for the DataFrame. The default value is a range of integers 0, 1,…n.\n",
    "\n",
    "\n",
    "- **`dtype`**: (Optional) By default, It infers the data type from the data, but this option applies any specific data type to the whole DataFrame."
   ]
  },
  {
   "cell_type": "markdown",
   "metadata": {},
   "source": [
    "## Dictionaries\n",
    "\n",
    "One way to create a DataFrame is to organize your data into a dictionary, which is actually something we haven't looked at yet!\n",
    "\n",
    "### What is a Dictionary?\n",
    "\n",
    "A dictionary in Python is an unordered collection of items. It consists of key-value pairs where each key must be unique. Dictionaries are defined using curly braces `{}` and can be used to store and retrieve data efficiently.\n",
    "\n",
    "<div>\n",
    "<img src=\"images/dictionary.png\" width=\"600\"/>\n",
    "</div>\n",
    "\n",
    "* **Dictionaries are mutable** i.e., the values can be updated.\n",
    "\n",
    "* Keys must be unique and are immutable; i.e. the keys can't be changed\n",
    "\n",
    "### Creating a Dictionary\n",
    "\n",
    "Let's start by creating a simple dictionary:"
   ]
  },
  {
   "cell_type": "code",
   "execution_count": 1,
   "metadata": {
    "execution": {
     "iopub.execute_input": "2023-12-06T23:09:51.689385Z",
     "iopub.status.busy": "2023-12-06T23:09:51.689112Z",
     "iopub.status.idle": "2023-12-06T23:09:51.694382Z",
     "shell.execute_reply": "2023-12-06T23:09:51.692886Z",
     "shell.execute_reply.started": "2023-12-06T23:09:51.689363Z"
    },
    "tags": []
   },
   "outputs": [
    {
     "name": "stdout",
     "output_type": "stream",
     "text": [
      "{'name': 'Taylor', 'age': 25, 'city': 'New York'}\n"
     ]
    }
   ],
   "source": [
    "# Creating a dictionary\n",
    "my_dict = {'name': 'Taylor', 'age': 25, 'city': 'New York'}\n",
    "print(my_dict)"
   ]
  },
  {
   "cell_type": "markdown",
   "metadata": {},
   "source": [
    "### Accessing Values\n",
    "\n",
    "You can access the values in a dictionary using the keys:"
   ]
  },
  {
   "cell_type": "code",
   "execution_count": 2,
   "metadata": {
    "execution": {
     "iopub.execute_input": "2023-12-06T23:09:51.698242Z",
     "iopub.status.busy": "2023-12-06T23:09:51.696779Z",
     "iopub.status.idle": "2023-12-06T23:09:51.856709Z",
     "shell.execute_reply": "2023-12-06T23:09:51.854985Z",
     "shell.execute_reply.started": "2023-12-06T23:09:51.698172Z"
    },
    "tags": []
   },
   "outputs": [
    {
     "name": "stdout",
     "output_type": "stream",
     "text": [
      "Name: Taylor\n",
      "Age: 25\n",
      "City: New York\n"
     ]
    }
   ],
   "source": [
    "print(\"Name:\", my_dict['name'])\n",
    "print(\"Age:\", my_dict['age'])\n",
    "print(\"City:\", my_dict['city'])"
   ]
  },
  {
   "cell_type": "markdown",
   "metadata": {
    "execution": {
     "iopub.execute_input": "2023-12-04T00:12:02.992427Z",
     "iopub.status.busy": "2023-12-04T00:12:02.990641Z",
     "iopub.status.idle": "2023-12-04T00:12:03.004350Z",
     "shell.execute_reply": "2023-12-04T00:12:03.002904Z",
     "shell.execute_reply.started": "2023-12-04T00:12:02.992359Z"
    },
    "tags": []
   },
   "source": [
    "<div class=\"alert alert-info\"><h4>1.</h4><p>Create a new notebook and name it Lesson9_Tasks.</p></div>\n",
    "\n",
    "<div class=\"alert alert-info\"><h4>2.</h4><p>In your notebook, define a dictionary using the following code.</p></div>\n",
    "\n",
    "```python\n",
    "my_dict = {'name': 'Taylor', 'age': 25, 'city': 'New York'}\n",
    "```\n",
    "\n",
    "### Adding New Key-Value Pairs\n",
    "\n",
    "You can add new key-value pairs to the dictionary:\n",
    "\n",
    "<div class=\"alert alert-info\"><h4>3.</h4><p>Try adding the following key/value pair to you dictionary:</p></div>\n",
    "\n",
    "```python\n",
    "my_dict['occupation'] = 'Engineer'\n",
    "print(\"Updated Dictionary:\", my_dict)\n",
    "```\n",
    "\n",
    "### Dictionary Methods\n",
    "\n",
    "\n",
    "`keys()`: Returns a list of all keys in the dictionary.\n",
    "\n",
    "<div class=\"alert alert-info\"><h4>4.</h4><p>Print the keys in your dictionary:</p></div>\n",
    "\n",
    "```python\n",
    "# Using keys()\n",
    "keys = my_dict.keys()\n",
    "print(\"Keys:\", keys)\n",
    "```\n",
    "\n",
    "`values()`: Returns a list of all values in the dictionary.\n",
    "\n",
    "<div class=\"alert alert-info\"><h4>5.</h4><p>Print the values in your dictionary:</p></div>\n",
    "\n",
    "```python\n",
    "# Using values()\n",
    "values = my_dict.values()\n",
    "print(\"Values:\", values)\n",
    "```\n",
    "\n",
    "`items()`: Returns a list of key-value pairs as tuples.\n",
    "\n",
    "<div class=\"alert alert-info\"><h4>6.</h4><p>Print the key-value pairs in your dictionary:</p></div>\n",
    "\n",
    "```python\n",
    "# Using items()\n",
    "items = my_dict.items()\n",
    "print(\"Items:\", items)\n",
    "```"
   ]
  },
  {
   "cell_type": "markdown",
   "metadata": {},
   "source": [
    "### Creating a Dataframe from a dictionary\n",
    "\n",
    "Ok now back to Pandas!\n",
    "\n",
    "When we have data in a **`dict`** (or any default data structures in Python) we can convert it into a DataFrame using the DataFrame constructor **`pd.DataFrame(dict)`**. \n",
    "\n",
    "It creates a DataFrame where the **`dict`** keys will be column labels, and the **`dict`** values will be the columns’ data. "
   ]
  },
  {
   "cell_type": "code",
   "execution_count": 3,
   "metadata": {
    "ExecuteTime": {
     "end_time": "2021-07-06T16:31:40.726150Z",
     "start_time": "2021-07-06T16:31:40.693928Z"
    },
    "execution": {
     "iopub.execute_input": "2023-12-06T23:09:51.859686Z",
     "iopub.status.busy": "2023-12-06T23:09:51.858808Z",
     "iopub.status.idle": "2023-12-06T23:09:51.878013Z",
     "shell.execute_reply": "2023-12-06T23:09:51.876796Z",
     "shell.execute_reply.started": "2023-12-06T23:09:51.859628Z"
    },
    "tags": []
   },
   "outputs": [
    {
     "data": {
      "text/plain": [
       "{'Name': ['Joe', 'Nat'], 'Age': [20, 21], 'Marks': [85.1, 77.8]}"
      ]
     },
     "execution_count": 3,
     "metadata": {},
     "output_type": "execute_result"
    }
   ],
   "source": [
    "# Example of creating a dictionary\n",
    "student_dict = {'Name':['Joe','Nat'], 'Age':[20,21], 'Marks':[85.10, 77.80]}\n",
    "student_dict"
   ]
  },
  {
   "cell_type": "markdown",
   "metadata": {},
   "source": [
    "In the example above, **'Name'**, **'Age'** and **'Marks'** are the keys in the **`dict`**. \n",
    "\n",
    "When you convert the dictionary into a DataFrame, these keys will become the column labels of the DataFrame:"
   ]
  },
  {
   "cell_type": "code",
   "execution_count": 4,
   "metadata": {
    "ExecuteTime": {
     "end_time": "2021-07-06T16:31:42.199775Z",
     "start_time": "2021-07-06T16:31:40.732987Z"
    },
    "execution": {
     "iopub.execute_input": "2023-12-06T23:09:51.879693Z",
     "iopub.status.busy": "2023-12-06T23:09:51.879349Z",
     "iopub.status.idle": "2023-12-06T23:09:52.789919Z",
     "shell.execute_reply": "2023-12-06T23:09:52.789016Z",
     "shell.execute_reply.started": "2023-12-06T23:09:51.879662Z"
    },
    "tags": []
   },
   "outputs": [
    {
     "name": "stdout",
     "output_type": "stream",
     "text": [
      "{'Name': ['Joe', 'Nat'], 'Age': [20, 21], 'Marks': [85.1, 77.8]}\n",
      "  Name  Age  Marks\n",
      "0  Joe   20   85.1\n",
      "1  Nat   21   77.8\n"
     ]
    }
   ],
   "source": [
    "import pandas as pd\n",
    "\n",
    "# Defining your dictionary object\n",
    "student_dict = {'Name': ['Joe', 'Nat'], 'Age': [20, 21], 'Marks': [85.10, 77.80]}\n",
    "print(student_dict)\n",
    "\n",
    "# Create DataFrame from dict\n",
    "student_df = pd.DataFrame(student_dict)\n",
    "print(student_df)"
   ]
  },
  {
   "cell_type": "markdown",
   "metadata": {},
   "source": [
    "> Note that - similar to what we did with numpy - here we have imported pandas under the name `pd`"
   ]
  },
  {
   "cell_type": "markdown",
   "metadata": {},
   "source": [
    "One nice feature of working in a notebook like this, is that the notebook has a built-in pretty display format for Pandas' DataFrames. You can use this display by simply writing the DataFrame object without the print statement as seen below. (Note that this has to be the last line your code cell to display).\n",
    "\n",
    "(Also note that Deepnote's display is slightly different than the native JupyterLab display.)"
   ]
  },
  {
   "cell_type": "code",
   "execution_count": 5,
   "metadata": {
    "execution": {
     "iopub.execute_input": "2023-12-06T23:09:52.791178Z",
     "iopub.status.busy": "2023-12-06T23:09:52.790827Z",
     "iopub.status.idle": "2023-12-06T23:09:52.800526Z",
     "shell.execute_reply": "2023-12-06T23:09:52.799564Z",
     "shell.execute_reply.started": "2023-12-06T23:09:52.791155Z"
    },
    "tags": []
   },
   "outputs": [
    {
     "data": {
      "text/html": [
       "<div>\n",
       "<style scoped>\n",
       "    .dataframe tbody tr th:only-of-type {\n",
       "        vertical-align: middle;\n",
       "    }\n",
       "\n",
       "    .dataframe tbody tr th {\n",
       "        vertical-align: top;\n",
       "    }\n",
       "\n",
       "    .dataframe thead th {\n",
       "        text-align: right;\n",
       "    }\n",
       "</style>\n",
       "<table border=\"1\" class=\"dataframe\">\n",
       "  <thead>\n",
       "    <tr style=\"text-align: right;\">\n",
       "      <th></th>\n",
       "      <th>Name</th>\n",
       "      <th>Age</th>\n",
       "      <th>Marks</th>\n",
       "    </tr>\n",
       "  </thead>\n",
       "  <tbody>\n",
       "    <tr>\n",
       "      <th>0</th>\n",
       "      <td>Joe</td>\n",
       "      <td>20</td>\n",
       "      <td>85.1</td>\n",
       "    </tr>\n",
       "    <tr>\n",
       "      <th>1</th>\n",
       "      <td>Nat</td>\n",
       "      <td>21</td>\n",
       "      <td>77.8</td>\n",
       "    </tr>\n",
       "  </tbody>\n",
       "</table>\n",
       "</div>"
      ],
      "text/plain": [
       "  Name  Age  Marks\n",
       "0  Joe   20   85.1\n",
       "1  Nat   21   77.8"
      ]
     },
     "execution_count": 5,
     "metadata": {},
     "output_type": "execute_result"
    }
   ],
   "source": [
    "student_df"
   ]
  },
  {
   "cell_type": "markdown",
   "metadata": {},
   "source": [
    "<div class=\"alert alert-info\"><h4>7.</h4><p>In a new code cell, convert the following dictionary into a dataframe:</p></div>\n",
    "\n",
    "```python\n",
    "{'X':[78,85,96,80,86], 'Y':[84,94,89,83,86],'Z':[86,97,96,72,83]}\n",
    "```\n",
    "\n",
    "You can also provide labels for each row using the index parameter of the DataFrame or assigning this attribute after you have already defined your dataframe.\n",
    "\n",
    "<div class=\"alert alert-info\"><h4>8.</h4><p>Add row labels to your DataFrame:</p></div>\n",
    "\n",
    "```python\n",
    "# For example\n",
    "df.index=['a','b','c','d','e']\n",
    "```\n",
    "\n",
    "where `df` is the variable name for your own DataFrame.\n",
    "\n",
    "<div class=\"alert alert-info\"><h4>9.</h4><p>Display your dataframe in your notebook to see what it looks like.</p></div>"
   ]
  },
  {
   "cell_type": "markdown",
   "metadata": {},
   "source": [
    "### Indexing\n",
    "\n",
    "With Pandas, we can use labeled indexing. \n",
    "\n",
    "We can select subsets of the data by column, row, or both. \n",
    "\n",
    "Pass in a single column label or a list of labels to select subsets of the original **`DataFrame`**.\n",
    "\n",
    "<div class=\"alert alert-info\"><h4>10.</h4><p>In separate code cells, try displaying each of the following types of indexing methods into your DataFrame:</p></div>\n",
    "\n",
    "```python\n",
    "# Single column (reduces to a Series)\n",
    "df['X']\n",
    "```\n",
    "\n",
    "(Remember to create a new code cell each time).\n",
    "\n",
    "```python\n",
    "# Multiple columns (creates a subset DataFrame)\n",
    "cols = ['X', 'Z']\n",
    "df[cols]\n",
    "```\n",
    "\n",
    "```python\n",
    "# For row-wise selection, use the special .loc accessor\n",
    "df.loc[['a', 'c']]\n",
    "```\n",
    "\n",
    "```python\n",
    "# You can use ranges to select rows or columns.\n",
    "df.loc['a':'c']\n",
    "```\n",
    "\n",
    "Notice that the slice is *inclusive* on both sides,  unlike your typical slicing of a list. Sometimes, you'd rather slice by *position* instead of label. **`.iloc`** has you covered:\n",
    "\n",
    "```python\n",
    "# Use row positions\n",
    "df.iloc[[0, 1]]\n",
    "```\n",
    "\n",
    "```python\n",
    "# Use row position slicing\n",
    "df.iloc[:2]\n",
    "```\n",
    "\n",
    "This follows the usual python slicing rules: closed on the left, open on the right.\n",
    "\n",
    "As I mentioned, you can slice both rows and columns. Use **`.loc`** for label or **`.iloc`** for position indexing:\n",
    "\n",
    "```python\n",
    "df.loc['a', 'X']\n",
    "```"
   ]
  },
  {
   "cell_type": "markdown",
   "metadata": {},
   "source": [
    "Pandas will reduce dimensions when possible. Select a single column and you get back `Series` (see below). Select a single row and single column, you get a scalar.\n",
    "\n",
    "You can get pretty fancy:\n",
    "\n",
    "```python\n",
    "df.loc['a':'b', ['X', 'Z']]\n",
    "```"
   ]
  },
  {
   "cell_type": "markdown",
   "metadata": {},
   "source": [
    "#### Summary\n",
    "\n",
    "- Use **`[]`** for selecting columns\n",
    "- Use **`.loc[row_lables, column_labels]`** for label-based indexing\n",
    "- Use **`.iloc[row_positions, column_positions]`** for positional index\n",
    "\n",
    "I've left out boolean and hierarchical indexing, which we'll see later."
   ]
  },
  {
   "cell_type": "markdown",
   "metadata": {},
   "source": [
    "## Series\n",
    "\n",
    "You've already seen some **Series** up above. \n",
    "\n",
    "> A Series is the 1-dimensional analog of the DataFrame. \n",
    "\n",
    "Each column in a **DataFrame** is in some sense a **Series**. You can select a **Series** from a DataFrame in a few ways:"
   ]
  },
  {
   "cell_type": "code",
   "execution_count": 6,
   "metadata": {
    "execution": {
     "iopub.execute_input": "2023-12-06T23:09:52.803947Z",
     "iopub.status.busy": "2023-12-06T23:09:52.803722Z",
     "iopub.status.idle": "2023-12-06T23:09:52.818991Z",
     "shell.execute_reply": "2023-12-06T23:09:52.818145Z",
     "shell.execute_reply.started": "2023-12-06T23:09:52.803927Z"
    },
    "tags": []
   },
   "outputs": [
    {
     "data": {
      "text/html": [
       "<div>\n",
       "<style scoped>\n",
       "    .dataframe tbody tr th:only-of-type {\n",
       "        vertical-align: middle;\n",
       "    }\n",
       "\n",
       "    .dataframe tbody tr th {\n",
       "        vertical-align: top;\n",
       "    }\n",
       "\n",
       "    .dataframe thead th {\n",
       "        text-align: right;\n",
       "    }\n",
       "</style>\n",
       "<table border=\"1\" class=\"dataframe\">\n",
       "  <thead>\n",
       "    <tr style=\"text-align: right;\">\n",
       "      <th></th>\n",
       "      <th>X</th>\n",
       "      <th>Y</th>\n",
       "      <th>Z</th>\n",
       "    </tr>\n",
       "  </thead>\n",
       "  <tbody>\n",
       "    <tr>\n",
       "      <th>a</th>\n",
       "      <td>78</td>\n",
       "      <td>84</td>\n",
       "      <td>86</td>\n",
       "    </tr>\n",
       "    <tr>\n",
       "      <th>b</th>\n",
       "      <td>85</td>\n",
       "      <td>94</td>\n",
       "      <td>97</td>\n",
       "    </tr>\n",
       "    <tr>\n",
       "      <th>c</th>\n",
       "      <td>96</td>\n",
       "      <td>89</td>\n",
       "      <td>96</td>\n",
       "    </tr>\n",
       "    <tr>\n",
       "      <th>d</th>\n",
       "      <td>80</td>\n",
       "      <td>83</td>\n",
       "      <td>72</td>\n",
       "    </tr>\n",
       "    <tr>\n",
       "      <th>e</th>\n",
       "      <td>86</td>\n",
       "      <td>86</td>\n",
       "      <td>83</td>\n",
       "    </tr>\n",
       "  </tbody>\n",
       "</table>\n",
       "</div>"
      ],
      "text/plain": [
       "    X   Y   Z\n",
       "a  78  84  86\n",
       "b  85  94  97\n",
       "c  96  89  96\n",
       "d  80  83  72\n",
       "e  86  86  83"
      ]
     },
     "execution_count": 6,
     "metadata": {},
     "output_type": "execute_result"
    }
   ],
   "source": [
    "# Another example:\n",
    "import pandas as pd\n",
    "\n",
    "# We pass a dict of {column name: column values} for the data\n",
    "# and also provide labels for each row in this case\n",
    "df = pd.DataFrame({'X':[78,85,96,80,86], 'Y':[84,94,89,83,86],'Z':[86,97,96,72,83]},\n",
    "                 index=['a','b','c','d','e']);\n",
    "df"
   ]
  },
  {
   "cell_type": "code",
   "execution_count": 7,
   "metadata": {
    "ExecuteTime": {
     "end_time": "2021-07-06T16:31:43.672914Z",
     "start_time": "2021-07-06T16:31:43.539127Z"
    },
    "execution": {
     "iopub.execute_input": "2023-12-06T23:09:52.819997Z",
     "iopub.status.busy": "2023-12-06T23:09:52.819778Z",
     "iopub.status.idle": "2023-12-06T23:09:52.836301Z",
     "shell.execute_reply": "2023-12-06T23:09:52.835229Z",
     "shell.execute_reply.started": "2023-12-06T23:09:52.819967Z"
    },
    "tags": []
   },
   "outputs": [
    {
     "data": {
      "text/plain": [
       "a    84\n",
       "b    94\n",
       "c    89\n",
       "d    83\n",
       "e    86\n",
       "Name: Y, dtype: int64"
      ]
     },
     "execution_count": 7,
     "metadata": {},
     "output_type": "execute_result"
    }
   ],
   "source": [
    "# indexing using the column name\n",
    "df['Y']"
   ]
  },
  {
   "cell_type": "code",
   "execution_count": 8,
   "metadata": {
    "ExecuteTime": {
     "end_time": "2021-07-06T16:31:43.800841Z",
     "start_time": "2021-07-06T16:31:43.680726Z"
    },
    "execution": {
     "iopub.execute_input": "2023-12-06T23:09:52.837930Z",
     "iopub.status.busy": "2023-12-06T23:09:52.837658Z",
     "iopub.status.idle": "2023-12-06T23:09:52.854376Z",
     "shell.execute_reply": "2023-12-06T23:09:52.853395Z",
     "shell.execute_reply.started": "2023-12-06T23:09:52.837906Z"
    },
    "tags": []
   },
   "outputs": [
    {
     "data": {
      "text/plain": [
       "a    84\n",
       "b    94\n",
       "c    89\n",
       "d    83\n",
       "e    86\n",
       "Name: Y, dtype: int64"
      ]
     },
     "execution_count": 8,
     "metadata": {},
     "output_type": "execute_result"
    }
   ],
   "source": [
    "# .loc with column name\n",
    "df.loc[:, 'Y']"
   ]
  },
  {
   "cell_type": "code",
   "execution_count": 9,
   "metadata": {
    "ExecuteTime": {
     "end_time": "2021-07-06T16:31:43.893614Z",
     "start_time": "2021-07-06T16:31:43.807679Z"
    },
    "execution": {
     "iopub.execute_input": "2023-12-06T23:09:52.856034Z",
     "iopub.status.busy": "2023-12-06T23:09:52.855741Z",
     "iopub.status.idle": "2023-12-06T23:09:52.870698Z",
     "shell.execute_reply": "2023-12-06T23:09:52.869452Z",
     "shell.execute_reply.started": "2023-12-06T23:09:52.856010Z"
    },
    "tags": []
   },
   "outputs": [
    {
     "data": {
      "text/plain": [
       "a    84\n",
       "b    94\n",
       "c    89\n",
       "d    83\n",
       "e    86\n",
       "Name: Y, dtype: int64"
      ]
     },
     "execution_count": 9,
     "metadata": {},
     "output_type": "execute_result"
    }
   ],
   "source": [
    "# using `.` attribute to lookup the column\n",
    "df.Y"
   ]
  },
  {
   "cell_type": "markdown",
   "metadata": {},
   "source": [
    "You can also add a new column (or series) to your DataFrame:"
   ]
  },
  {
   "cell_type": "code",
   "execution_count": 10,
   "metadata": {
    "ExecuteTime": {
     "end_time": "2021-07-06T16:31:44.015688Z",
     "start_time": "2021-07-06T16:31:43.899477Z"
    },
    "execution": {
     "iopub.execute_input": "2023-12-06T23:09:52.872494Z",
     "iopub.status.busy": "2023-12-06T23:09:52.872158Z",
     "iopub.status.idle": "2023-12-06T23:09:52.920131Z",
     "shell.execute_reply": "2023-12-06T23:09:52.919068Z",
     "shell.execute_reply.started": "2023-12-06T23:09:52.872464Z"
    },
    "tags": []
   },
   "outputs": [
    {
     "data": {
      "text/html": [
       "<div>\n",
       "<style scoped>\n",
       "    .dataframe tbody tr th:only-of-type {\n",
       "        vertical-align: middle;\n",
       "    }\n",
       "\n",
       "    .dataframe tbody tr th {\n",
       "        vertical-align: top;\n",
       "    }\n",
       "\n",
       "    .dataframe thead th {\n",
       "        text-align: right;\n",
       "    }\n",
       "</style>\n",
       "<table border=\"1\" class=\"dataframe\">\n",
       "  <thead>\n",
       "    <tr style=\"text-align: right;\">\n",
       "      <th></th>\n",
       "      <th>X</th>\n",
       "      <th>Y</th>\n",
       "      <th>Z</th>\n",
       "      <th>W</th>\n",
       "    </tr>\n",
       "  </thead>\n",
       "  <tbody>\n",
       "    <tr>\n",
       "      <th>a</th>\n",
       "      <td>78</td>\n",
       "      <td>84</td>\n",
       "      <td>86</td>\n",
       "      <td>h</td>\n",
       "    </tr>\n",
       "    <tr>\n",
       "      <th>b</th>\n",
       "      <td>85</td>\n",
       "      <td>94</td>\n",
       "      <td>97</td>\n",
       "      <td>i</td>\n",
       "    </tr>\n",
       "    <tr>\n",
       "      <th>c</th>\n",
       "      <td>96</td>\n",
       "      <td>89</td>\n",
       "      <td>96</td>\n",
       "      <td>j</td>\n",
       "    </tr>\n",
       "    <tr>\n",
       "      <th>d</th>\n",
       "      <td>80</td>\n",
       "      <td>83</td>\n",
       "      <td>72</td>\n",
       "      <td>k</td>\n",
       "    </tr>\n",
       "    <tr>\n",
       "      <th>e</th>\n",
       "      <td>86</td>\n",
       "      <td>86</td>\n",
       "      <td>83</td>\n",
       "      <td>l</td>\n",
       "    </tr>\n",
       "  </tbody>\n",
       "</table>\n",
       "</div>"
      ],
      "text/plain": [
       "    X   Y   Z  W\n",
       "a  78  84  86  h\n",
       "b  85  94  97  i\n",
       "c  96  89  96  j\n",
       "d  80  83  72  k\n",
       "e  86  86  83  l"
      ]
     },
     "execution_count": 10,
     "metadata": {},
     "output_type": "execute_result"
    }
   ],
   "source": [
    "df['W'] = ['h', 'i', 'j', 'k', 'l']\n",
    "df"
   ]
  },
  {
   "cell_type": "markdown",
   "metadata": {},
   "source": [
    "You can access the indices and columns of a **DataFrame** or **Series** with the **`.index`** and **`.columns`** attributes."
   ]
  },
  {
   "cell_type": "code",
   "execution_count": 11,
   "metadata": {
    "ExecuteTime": {
     "end_time": "2021-07-06T16:31:44.530824Z",
     "start_time": "2021-07-06T16:31:44.413148Z"
    },
    "execution": {
     "iopub.execute_input": "2023-12-06T23:09:52.921835Z",
     "iopub.status.busy": "2023-12-06T23:09:52.921551Z",
     "iopub.status.idle": "2023-12-06T23:09:52.932226Z",
     "shell.execute_reply": "2023-12-06T23:09:52.931407Z",
     "shell.execute_reply.started": "2023-12-06T23:09:52.921810Z"
    },
    "tags": []
   },
   "outputs": [
    {
     "data": {
      "text/plain": [
       "Index(['a', 'b', 'c', 'd', 'e'], dtype='object')"
      ]
     },
     "execution_count": 11,
     "metadata": {},
     "output_type": "execute_result"
    }
   ],
   "source": [
    "df.index"
   ]
  },
  {
   "cell_type": "code",
   "execution_count": 12,
   "metadata": {
    "ExecuteTime": {
     "end_time": "2021-07-06T16:31:44.648498Z",
     "start_time": "2021-07-06T16:31:44.545471Z"
    },
    "execution": {
     "iopub.execute_input": "2023-12-06T23:09:52.933286Z",
     "iopub.status.busy": "2023-12-06T23:09:52.933082Z",
     "iopub.status.idle": "2023-12-06T23:09:52.950603Z",
     "shell.execute_reply": "2023-12-06T23:09:52.949575Z",
     "shell.execute_reply.started": "2023-12-06T23:09:52.933267Z"
    },
    "tags": []
   },
   "outputs": [
    {
     "data": {
      "text/plain": [
       "Index(['X', 'Y', 'Z', 'W'], dtype='object')"
      ]
     },
     "execution_count": 12,
     "metadata": {},
     "output_type": "execute_result"
    }
   ],
   "source": [
    "df.columns"
   ]
  },
  {
   "cell_type": "markdown",
   "metadata": {},
   "source": [
    "### Dataframe from CSV\n",
    "\n",
    "In the field of Data Science, **[CSV](https://en.wikipedia.org/wiki/Comma-separated_values)** files are used to store large datasets. To efficiently analyze such datasets, we can convert them into a pandas DataFrame.\n",
    "\n",
    "To create a DataFrame from a CSV file, we can use the **`pd.read_csv('file_name')`** function that takes the file name as an input and returns a DataFrame as output."
   ]
  },
  {
   "cell_type": "markdown",
   "metadata": {},
   "source": [
    "**Example 1:** \n",
    "\n",
    "Let’s read the **[stockprice_data.csv](https://github.com/milaan9/10_Python_Pandas_Module/blob/main/stockprice_data.csv)** file into a DataFrame and then convert it into a Series:\n",
    "\n",
    "<div>\n",
    "<img src=\"images/csvfile1.png\" width=\"300\" />\n",
    "</div>"
   ]
  },
  {
   "cell_type": "code",
   "execution_count": 13,
   "metadata": {
    "ExecuteTime": {
     "end_time": "2021-07-06T16:31:44.928769Z",
     "start_time": "2021-07-06T16:31:44.652403Z"
    },
    "execution": {
     "iopub.execute_input": "2023-12-06T23:09:52.952060Z",
     "iopub.status.busy": "2023-12-06T23:09:52.951759Z",
     "iopub.status.idle": "2023-12-06T23:09:53.052931Z",
     "shell.execute_reply": "2023-12-06T23:09:53.051912Z",
     "shell.execute_reply.started": "2023-12-06T23:09:52.952020Z"
    },
    "tags": []
   },
   "outputs": [
    {
     "data": {
      "text/html": [
       "<div>\n",
       "<style scoped>\n",
       "    .dataframe tbody tr th:only-of-type {\n",
       "        vertical-align: middle;\n",
       "    }\n",
       "\n",
       "    .dataframe tbody tr th {\n",
       "        vertical-align: top;\n",
       "    }\n",
       "\n",
       "    .dataframe thead th {\n",
       "        text-align: right;\n",
       "    }\n",
       "</style>\n",
       "<table border=\"1\" class=\"dataframe\">\n",
       "  <thead>\n",
       "    <tr style=\"text-align: right;\">\n",
       "      <th></th>\n",
       "      <th>Date</th>\n",
       "      <th>Closing price</th>\n",
       "      <th>Return</th>\n",
       "    </tr>\n",
       "  </thead>\n",
       "  <tbody>\n",
       "    <tr>\n",
       "      <th>0</th>\n",
       "      <td>1/1/2020</td>\n",
       "      <td>100</td>\n",
       "      <td>0.010000</td>\n",
       "    </tr>\n",
       "    <tr>\n",
       "      <th>1</th>\n",
       "      <td>2/1/2020</td>\n",
       "      <td>120</td>\n",
       "      <td>0.200000</td>\n",
       "    </tr>\n",
       "    <tr>\n",
       "      <th>2</th>\n",
       "      <td>3/1/2020</td>\n",
       "      <td>130</td>\n",
       "      <td>0.083333</td>\n",
       "    </tr>\n",
       "    <tr>\n",
       "      <th>3</th>\n",
       "      <td>4/1/2020</td>\n",
       "      <td>98</td>\n",
       "      <td>-0.246154</td>\n",
       "    </tr>\n",
       "    <tr>\n",
       "      <th>4</th>\n",
       "      <td>5/1/2020</td>\n",
       "      <td>50</td>\n",
       "      <td>-0.489796</td>\n",
       "    </tr>\n",
       "    <tr>\n",
       "      <th>5</th>\n",
       "      <td>6/1/2020</td>\n",
       "      <td>102</td>\n",
       "      <td>1.040000</td>\n",
       "    </tr>\n",
       "    <tr>\n",
       "      <th>6</th>\n",
       "      <td>7/1/2020</td>\n",
       "      <td>104</td>\n",
       "      <td>0.019608</td>\n",
       "    </tr>\n",
       "    <tr>\n",
       "      <th>7</th>\n",
       "      <td>8/1/2020</td>\n",
       "      <td>150</td>\n",
       "      <td>0.442308</td>\n",
       "    </tr>\n",
       "    <tr>\n",
       "      <th>8</th>\n",
       "      <td>9/1/2020</td>\n",
       "      <td>160</td>\n",
       "      <td>0.066667</td>\n",
       "    </tr>\n",
       "    <tr>\n",
       "      <th>9</th>\n",
       "      <td>10/1/2020</td>\n",
       "      <td>109</td>\n",
       "      <td>-0.318750</td>\n",
       "    </tr>\n",
       "    <tr>\n",
       "      <th>10</th>\n",
       "      <td>11/1/2020</td>\n",
       "      <td>95</td>\n",
       "      <td>-0.128440</td>\n",
       "    </tr>\n",
       "  </tbody>\n",
       "</table>\n",
       "</div>"
      ],
      "text/plain": [
       "         Date  Closing price    Return\n",
       "0    1/1/2020            100  0.010000\n",
       "1    2/1/2020            120  0.200000\n",
       "2    3/1/2020            130  0.083333\n",
       "3    4/1/2020             98 -0.246154\n",
       "4    5/1/2020             50 -0.489796\n",
       "5    6/1/2020            102  1.040000\n",
       "6    7/1/2020            104  0.019608\n",
       "7    8/1/2020            150  0.442308\n",
       "8    9/1/2020            160  0.066667\n",
       "9   10/1/2020            109 -0.318750\n",
       "10  11/1/2020             95 -0.128440"
      ]
     },
     "execution_count": 13,
     "metadata": {},
     "output_type": "execute_result"
    }
   ],
   "source": [
    "import pandas as pd\n",
    "\n",
    "# Load all of the data into a DataFrame\n",
    "data = pd.read_csv(\"stockprice_data.csv\")\n",
    "data"
   ]
  },
  {
   "cell_type": "code",
   "execution_count": 14,
   "metadata": {
    "ExecuteTime": {
     "end_time": "2021-07-06T16:31:45.056696Z",
     "start_time": "2021-07-06T16:31:44.948300Z"
    },
    "execution": {
     "iopub.execute_input": "2023-12-06T23:09:53.054430Z",
     "iopub.status.busy": "2023-12-06T23:09:53.054144Z",
     "iopub.status.idle": "2023-12-06T23:09:53.061501Z",
     "shell.execute_reply": "2023-12-06T23:09:53.060760Z",
     "shell.execute_reply.started": "2023-12-06T23:09:53.054406Z"
    },
    "tags": []
   },
   "outputs": [
    {
     "data": {
      "text/plain": [
       "0     0.010000\n",
       "1     0.200000\n",
       "2     0.083333\n",
       "3    -0.246154\n",
       "4    -0.489796\n",
       "5     1.040000\n",
       "6     0.019608\n",
       "7     0.442308\n",
       "8     0.066667\n",
       "9    -0.318750\n",
       "10   -0.128440\n",
       "Name: Return, dtype: float64"
      ]
     },
     "execution_count": 14,
     "metadata": {},
     "output_type": "execute_result"
    }
   ],
   "source": [
    "# Use indexing to select the 3rd column (index=2)\n",
    "# and assign this to a new variable\n",
    "data1 = data.iloc[:,2]\n",
    "data1"
   ]
  },
  {
   "cell_type": "code",
   "execution_count": 15,
   "metadata": {
    "ExecuteTime": {
     "end_time": "2021-07-06T16:31:45.177792Z",
     "start_time": "2021-07-06T16:31:45.065487Z"
    },
    "execution": {
     "iopub.execute_input": "2023-12-06T23:09:53.062584Z",
     "iopub.status.busy": "2023-12-06T23:09:53.062377Z",
     "iopub.status.idle": "2023-12-06T23:09:53.081117Z",
     "shell.execute_reply": "2023-12-06T23:09:53.080150Z",
     "shell.execute_reply.started": "2023-12-06T23:09:53.062565Z"
    },
    "tags": []
   },
   "outputs": [
    {
     "data": {
      "text/plain": [
       "Date             3/1/2020\n",
       "Closing price         130\n",
       "Return           0.083333\n",
       "Name: 2, dtype: object"
      ]
     },
     "execution_count": 15,
     "metadata": {},
     "output_type": "execute_result"
    }
   ],
   "source": [
    "# Use indexing to select the 3rd row\n",
    "data2 = data.iloc[2,:]\n",
    "data2"
   ]
  },
  {
   "cell_type": "markdown",
   "metadata": {},
   "source": [
    "### Get the statistics of DataFrame\n",
    "\n",
    "**`DataFrame.describe()`** is a function that provides statistics of the data in DataFrame. It only applies to the columns that contain numerical values.\n",
    "\n",
    "These statistics include:\n",
    "\n",
    "1. **count**: Total number of non-null values in the column\n",
    "2. **mean**: an average of numbers\n",
    "3. **std**: a standard deviation value\n",
    "4. **min**: minimum value\n",
    "5. **25%**: 25th percentile\n",
    "6. **50%**: 50th percentile\n",
    "7. **75%**: 75th percentile\n",
    "8. **max**: maximum value\n",
    "\n",
    ">**Note:** Output of **`DataFrame.describe()`** function varies depending on the input DataFrame.\n",
    "\n",
    "<div class=\"alert alert-info\"><h4>11.</h4><p>In new code cell, use the following dictionary to create a new DataFrame:</p></div>\n",
    "\n",
    "```python\n",
    "student_dict = {'Name': ['Joe', 'Nat', 'Harry'], \n",
    "                'Age': [20, 21, 19], \n",
    "                'Marks': [85.10, 77.80, 91.54]}\n",
    "```\n",
    "\n",
    "<div class=\"alert alert-info\"><h4>12.</h4><p>Use the .describe() function our your dataframe.</p></div>\n",
    "\n",
    "For example, if your DataFrame is called `df`, you can call\n",
    "\n",
    "```python\n",
    "df.describe()\n",
    "```"
   ]
  },
  {
   "cell_type": "markdown",
   "metadata": {},
   "source": [
    "## DataFrame Attributes\n",
    "\n",
    "The DataFrame has many built-in attributes. Attributes do not modify the underlying data, but they can be used to access details regarding the DataFrame."
   ]
  },
  {
   "cell_type": "markdown",
   "metadata": {},
   "source": [
    "Here are some commonly used attributes of the DataFrame:\n",
    "\n",
    "| Attribute | Description |\n",
    "|:---- |:---- |\n",
    "| **`DataFrame.index`**   | **It gives the Range of the row index** | \n",
    "| **`DataFrame.columns`** | **It gives a list of column labels** |\n",
    "| **`DataFrame.dtypes`**  | **It gives column names and their data type** | \n",
    "| **`DataFrame.values`**  | **It gives all the rows in DataFrame** |\n",
    "| **`DataFrame.empty`**   | **It is used to check if the DataFrame is empty** | \n",
    "| **`DataFrame.size`**    | **It gives a total number of values in DataFrame** |\n",
    "| **`DataFrame.shape`**   | **It a number of rows and columns in DataFrame** | \n",
    "\n",
    "<div class=\"alert alert-info\"><h4>13.</h4><p>Try out the above attributes on your DataFrame.</p></div>\n"
   ]
  },
  {
   "cell_type": "markdown",
   "metadata": {},
   "source": [
    "## DataFrame selection \n",
    "\n",
    "It can be helpful to grab particular subsets of your DataFrame."
   ]
  },
  {
   "cell_type": "markdown",
   "metadata": {},
   "source": [
    "The following are some functions that help in selecting subsets of your DataFrame:\n",
    "\n",
    "| Attribute | Description |\n",
    "|:---- |:---- |\n",
    "| **`DataFrame.head(n)`**  | **Used to select the first ‘n’ rows in DataFrame.** | \n",
    "| **`DataFrame.tail(n)`**  | **Used to select the last ‘n’ rows in DataFrame.** | \n",
    "| **`DataFrame.at`**       | **Used to get and set the particular value of DataFrame using row and column labels.** | \n",
    "| **`DataFrame.iat`**      | **Used to get and set the particular value of DataFrame using row and column index positions.** | \n",
    "| **`DataFrame.get(key)`** | **Used to get the value of a key in DataFrame where Key is the column name.** | \n",
    "| **`DataFrame.loc()`**    | **Used to select a group of data based on the row and column labels. It is used for slicing and filtering of the DataFrame.** | \n",
    "| **`DataFrame.iloc()`**   | **Used to select a group of data based on the row and column index position. Use it for slicing and filtering the DataFrame.** | \n",
    "\n",
    "<div class=\"alert alert-info\"><h4>14.</h4><p>Try out the .head() and .tail() functions on your DataFrame.</p></div>\n"
   ]
  },
  {
   "cell_type": "markdown",
   "metadata": {},
   "source": [
    "## DataFrame modification\n",
    "\n",
    "A DataFrame is similar to an excel sheet or a database table where it is often necessary to insert new data or **[drop columns]()** and rows if they are not needed.\n",
    "\n",
    "In this section, we discuss the data manipulation functions of the DataFrame."
   ]
  },
  {
   "cell_type": "markdown",
   "metadata": {},
   "source": [
    "### Insert columns\n",
    "\n",
    "Sometimes it is required to add a new column in the DataFrame. **`DataFrame.insert()`** function is used to insert a new column in DataFrame at the specified position.\n",
    "\n",
    "In the below example, we insert a new column **'Class'** as a third new column in the DataFrame with default value ‘**A**’ using the syntax:\n",
    "\n",
    "```python\n",
    "df.insert(loc = col_position, column = new_col_name, value = default_value)\n",
    "```"
   ]
  },
  {
   "cell_type": "code",
   "execution_count": 16,
   "metadata": {
    "ExecuteTime": {
     "end_time": "2021-07-06T16:31:46.451221Z",
     "start_time": "2021-07-06T16:31:46.365288Z"
    },
    "execution": {
     "iopub.execute_input": "2023-12-06T23:09:53.082512Z",
     "iopub.status.busy": "2023-12-06T23:09:53.082249Z",
     "iopub.status.idle": "2023-12-06T23:09:53.107364Z",
     "shell.execute_reply": "2023-12-06T23:09:53.106107Z",
     "shell.execute_reply.started": "2023-12-06T23:09:53.082489Z"
    },
    "scrolled": true,
    "tags": []
   },
   "outputs": [
    {
     "name": "stdout",
     "output_type": "stream",
     "text": [
      "    Name  Age  Marks\n",
      "0    Joe   20  85.10\n",
      "1    Nat   21  77.80\n",
      "2  Harry   19  91.54\n",
      "Updated dataframe:\n",
      "     Name  Age Grade  Marks\n",
      "0    Joe   20     B  85.10\n",
      "1    Nat   21     B  77.80\n",
      "2  Harry   19     A  91.54\n"
     ]
    }
   ],
   "source": [
    "# Example:\n",
    "\n",
    "import pandas as pd\n",
    "\n",
    "# Create DataFrame from dict\n",
    "student_dict = {'Name': ['Joe', 'Nat', 'Harry'], 'Age': [20, 21, 19], 'Marks': [85.10, 77.80, 91.54]}\n",
    "student_df = pd.DataFrame(student_dict)\n",
    "print(student_df)\n",
    "\n",
    "# insert new column in dataframe and display\n",
    "student_df.insert(loc=2, column=\"Grade\", value=['B', 'B', 'A'])\n",
    "print(\"Updated dataframe:\\n\", student_df)"
   ]
  },
  {
   "cell_type": "markdown",
   "metadata": {},
   "source": [
    "### Apply condition\n",
    "\n",
    "We may need to update the values in the DataFrame based on some condition. **`DataFrame.where()`** function is used to replace the value of DataFrame, where the condition is **`False`**.\n",
    "\n",
    "**Syntax of the condition:**\n",
    "```python\n",
    "where(filter, other=new_value)\n",
    "```\n",
    "\n",
    "It applies the filter condition on all the rows in the DataFrame, as follows:\n",
    "\n",
    "* If the filter condition returns **`False`**, then it updates the row with the value specified in **`other`** parameter.\n",
    "* If the filter condition returns **`True`**, then it does not update the row."
   ]
  },
  {
   "cell_type": "markdown",
   "metadata": {},
   "source": [
    "In the below example, we want to replace the student marks with ‘0’ where marks are less than 80. We pass a filter condition **`df['Marks'] > 80`** to the function."
   ]
  },
  {
   "cell_type": "code",
   "execution_count": 17,
   "metadata": {
    "ExecuteTime": {
     "end_time": "2021-07-06T16:31:47.244185Z",
     "start_time": "2021-07-06T16:31:46.719287Z"
    },
    "execution": {
     "iopub.execute_input": "2023-12-06T23:09:53.108716Z",
     "iopub.status.busy": "2023-12-06T23:09:53.108487Z",
     "iopub.status.idle": "2023-12-06T23:09:53.273367Z",
     "shell.execute_reply": "2023-12-06T23:09:53.271812Z",
     "shell.execute_reply.started": "2023-12-06T23:09:53.108696Z"
    },
    "scrolled": true,
    "tags": []
   },
   "outputs": [
    {
     "name": "stdout",
     "output_type": "stream",
     "text": [
      "    Name  Age  Marks\n",
      "0    Joe   20  85.10\n",
      "1    Nat   21  77.80\n",
      "2  Harry   19  91.54\n",
      "\n",
      "Updated dataframe:\n",
      "     Name  Age  Marks\n",
      "0    Joe   20  85.10\n",
      "1    Nat   21   0.00\n",
      "2  Harry   19  91.54\n"
     ]
    }
   ],
   "source": [
    "import pandas as pd\n",
    "\n",
    "# Create DataFrame from dict\n",
    "student_dict = {'Name': ['Joe', 'Nat', 'Harry'], 'Age': [20, 21, 19], 'Marks': [85.10, 77.80, 91.54]}\n",
    "\n",
    "student_df = pd.DataFrame(student_dict)\n",
    "print(student_df)\n",
    "\n",
    "# Define filter condition\n",
    "filt = student_df['Marks'] > 80\n",
    "\n",
    "student_df['Marks'].where(filt, other=0, inplace=True)\n",
    "print(\"\\nUpdated dataframe:\\n\", student_df)"
   ]
  },
  {
   "cell_type": "markdown",
   "metadata": {},
   "source": [
    "## DataFrame rename columns\n",
    "\n",
    "While working with a DataFrame, we may need to **[rename the column](https://github.com/milaan9/10_Python_Pandas_Module/blob/main/001_Python_Pandas_Methods/007_Python_Pandas_DataFrame_rename_columns.ipynb)** or row index. We can use **`DataFrame.rename()`** function to alter the row or column labels."
   ]
  },
  {
   "cell_type": "markdown",
   "metadata": {},
   "source": [
    "In the below example, we rename column '**Marks**' to '**Percentage**' in the student DataFrame."
   ]
  },
  {
   "cell_type": "code",
   "execution_count": 18,
   "metadata": {
    "ExecuteTime": {
     "end_time": "2021-07-06T16:31:47.430221Z",
     "start_time": "2021-07-06T16:31:47.316454Z"
    },
    "execution": {
     "iopub.execute_input": "2023-12-06T23:09:53.276687Z",
     "iopub.status.busy": "2023-12-06T23:09:53.275818Z",
     "iopub.status.idle": "2023-12-06T23:09:53.296467Z",
     "shell.execute_reply": "2023-12-06T23:09:53.295230Z",
     "shell.execute_reply.started": "2023-12-06T23:09:53.276628Z"
    },
    "tags": []
   },
   "outputs": [
    {
     "name": "stdout",
     "output_type": "stream",
     "text": [
      "    Name  Age  Marks\n",
      "0    Joe   20  85.10\n",
      "1    Nat   21  77.80\n",
      "2  Harry   19  91.54\n",
      "\n",
      "Updated dataframe:\n",
      "     Name  Age  Percentage\n",
      "0    Joe   20       85.10\n",
      "1    Nat   21       77.80\n",
      "2  Harry   19       91.54\n"
     ]
    }
   ],
   "source": [
    "import pandas as pd\n",
    "\n",
    "# Create DataFrame from dict\n",
    "student_dict = {'Name': ['Joe', 'Nat', 'Harry'], 'Age': [20, 21, 19], 'Marks': [85.10, 77.80, 91.54]}\n",
    "\n",
    "student_df = pd.DataFrame(student_dict)\n",
    "print(student_df)\n",
    "\n",
    "# rename column\n",
    "student_df = student_df.rename(columns={'Marks': 'Percentage'})\n",
    "print(\"\\nUpdated dataframe:\\n\", student_df)"
   ]
  },
  {
   "cell_type": "markdown",
   "metadata": {},
   "source": [
    "## DataFrame Join\n",
    "\n",
    "In most of the use cases of Data Analytics, data is gathered from multiple sources, and we need to combine that data for further analysis. In such instances, join and merge operations are required.\n",
    "\n",
    "**`DataFrame.join()`** function is used to join one DataFrame with another DataFrame as **`df1.join(df2)`**\n",
    "\n",
    "\n",
    "<div class=\"alert alert-info\"><h4>15.</h4><p>In a new code cell define the following DataFrames:</p></div>\n",
    "\n",
    "```python\n",
    "student_dict = {'Name': ['Joe', 'Nat'], 'Age': [20, 21]}\n",
    "student_df = pd.DataFrame(student_dict)\n",
    "print(student_df)\n",
    "\n",
    "marks_dict = {'Marks': [85.10, 77.80]}\n",
    "marks_df = pd.DataFrame(marks_dict)\n",
    "print(marks_df)\n",
    "```\n",
    "\n",
    "<div class=\"alert alert-info\"><h4>16.</h4><p>Join the two using the code below and display the final result.</p></div>\n",
    "\n",
    "```python\n",
    "joined_df = student_df.join(marks_df)\n",
    "```"
   ]
  },
  {
   "cell_type": "markdown",
   "metadata": {},
   "source": [
    "## DataFrame GroupBy\n",
    "\n",
    "**`DataFrame.groupby()`** function groups the DataFrame row-wise or column-wise based on the condition."
   ]
  },
  {
   "cell_type": "markdown",
   "metadata": {},
   "source": [
    "If we want to analyze each class’s average marks, we need to combine the student data based on the ‘Grade’ column and calculate its average using **`df.groupby(col_label).mean()`** as shown in the below example."
   ]
  },
  {
   "cell_type": "code",
   "execution_count": 19,
   "metadata": {
    "ExecuteTime": {
     "end_time": "2021-07-06T16:31:47.771530Z",
     "start_time": "2021-07-06T16:31:47.625535Z"
    },
    "execution": {
     "iopub.execute_input": "2023-12-06T23:09:53.297958Z",
     "iopub.status.busy": "2023-12-06T23:09:53.297644Z",
     "iopub.status.idle": "2023-12-06T23:09:53.377452Z",
     "shell.execute_reply": "2023-12-06T23:09:53.375982Z",
     "shell.execute_reply.started": "2023-12-06T23:09:53.297930Z"
    },
    "tags": []
   },
   "outputs": [
    {
     "name": "stdout",
     "output_type": "stream",
     "text": [
      "    Name Grade  Marks\n",
      "0    Joe     A  85.10\n",
      "1    Nat     B  77.80\n",
      "2  Harry     A  91.54\n",
      "       Marks\n",
      "Grade       \n",
      "A      88.32\n",
      "B      77.80\n"
     ]
    }
   ],
   "source": [
    "import pandas as pd\n",
    "\n",
    "# Create DataFrame from dict\n",
    "student_dict = {'Name': ['Joe', 'Nat', 'Harry'], 'Grade': ['A', 'B', 'A'], 'Marks': [85.10, 77.80, 91.54]}\n",
    "student_df = pd.DataFrame(student_dict)\n",
    "print(student_df)\n",
    "\n",
    "# apply group by \n",
    "student_df = student_df.groupby('Grade').mean(numeric_only=True)\n",
    "print(student_df)"
   ]
  },
  {
   "cell_type": "markdown",
   "metadata": {},
   "source": [
    "## DataFrame Sorting\n",
    "\n",
    "The **`DataFrame.sort_values()`** function is used to sort the DataFrame using one or more columns in ascending (default) or descending order.\n",
    "\n",
    "<div class=\"alert alert-info\"><h4>16.</h4><p>In a new code cell, define a student_df:</p></div>\n",
    "\n",
    "```python\n",
    "student_dict = {'Name': ['Joe', 'Nat', 'Harry'], 'Grade': ['A', 'B', 'A'], 'Marks': [85.10, 77.80, 91.54]}\n",
    "student_df = pd.DataFrame(student_dict)\n",
    "print(student_df)\n",
    "```\n",
    "\n",
    "<div class=\"alert alert-info\"><h4>17.</h4><p>Sort this DataFrame by Marks:</p></div>\n",
    "\n",
    "\n",
    "```python\n",
    "# Resort by Marks\n",
    "student_df = student_df.sort_values(by=['Marks'], ascending=False)\n",
    "print(student_df)\n",
    "```"
   ]
  },
  {
   "cell_type": "markdown",
   "metadata": {},
   "source": [
    "## DataFrame conversion\n",
    "\n",
    "It may be necessary to convert the DataFrame back to its original formats like CSV file or a **`dict`**.\n",
    "\n",
    "Pandas have provided plenty of functions to convert the DataFrames into many different formats."
   ]
  },
  {
   "cell_type": "markdown",
   "metadata": {},
   "source": [
    "For example, **`DataFrame.to_dict()`** function is used to convert a **[DataFrame into a dictionary](https://github.com/milaan9/10_Python_Pandas_Module/blob/main/001_Python_Pandas_Methods/008_Python_Pandas_DataFrame_to_Python_dictionary.ipynb)** object.\n",
    "\n",
    "Below is the example of a DataFrame which we need to convert into the Python **`dict`**."
   ]
  },
  {
   "cell_type": "markdown",
   "metadata": {},
   "source": [
    "<div class=\"alert alert-info\"><h4>18.</h4><p>Convert your DataFrame into a dictionary:</p></div>\n",
    "\n",
    "```python\n",
    "# convert dataframe to dict\n",
    "student_dict = student_df.to_dict()\n",
    "print(student_dict)\n",
    "```"
   ]
  },
  {
   "cell_type": "markdown",
   "metadata": {},
   "source": [
    "# Summary\n",
    "\n",
    "There are loads of functions in Pandas. Here is a list of some that may be useful:"
   ]
  },
  {
   "cell_type": "markdown",
   "metadata": {},
   "source": [
    "## Create Test Objects\n",
    "\n",
    "| Operator | Description |\n",
    "|:---- |:---- |\n",
    "| **`pd.DataFrame(np.random.rand(20,5))`** | **5 columns and 20 rows of random floats** | \n",
    "| **`pd.Series(my_list)`** | **Create a series from an iterable my_list** | \n",
    "| **`df.index = pd.date_range('1900/1/30', periods=df.shape[0])`** | **Add a date index** | "
   ]
  },
  {
   "cell_type": "markdown",
   "metadata": {
    "heading_collapsed": true
   },
   "source": [
    "## Viewing/Inspecting Data\n",
    "\n",
    "| Operator | Description |\n",
    "|:---- |:---- |\n",
    "| **`df.head(n)`** | **First n rows of the DataFrame** | \n",
    "| **`df.tail(n)`** | **Last n rows of the DataFrame** | \n",
    "| **`df.shape`** | **Number of rows and columns** | \n",
    "| **`df.info()`** | **Index, Datatype and Memory information** | \n",
    "| **`df.describe()`** | **Summary statistics for numerical columns** | \n",
    "| **`s.value_counts(dropna=False)`** | **View unique values and counts** | \n",
    "| **`df.apply(pd.Series.value_counts)`** | **Unique values and counts for all columns** | "
   ]
  },
  {
   "cell_type": "markdown",
   "metadata": {},
   "source": [
    "## Selection\n",
    "\n",
    "| Operator | Description |\n",
    "|:---- |:---- |\n",
    "| **`df[col]`** | **Returns column with label col as Series** | \n",
    "| **`df[[col1, col2]]`** | **Returns columns as a new DataFrame** | \n",
    "| **`s.iloc[0]`** | **Selection by position** | \n",
    "| **`s.loc['index_one']`** | **Selection by index** | \n",
    "| **`df.iloc[0,:]`** | **First row** | \n",
    "| **`df.iloc[0,0]`** | **First element of first column** | "
   ]
  },
  {
   "cell_type": "markdown",
   "metadata": {},
   "source": [
    "## Data Cleaning\n",
    "\n",
    "| Operator | Description |\n",
    "|:---- |:---- |\n",
    "| **`df.columns = ['a','b','c']`** | **Rename columns** | \n",
    "| **`pd.isnull()`** | **Checks for null Values, Returns Boolean Arrray** | \n",
    "| **`pd.notnull()`** | **Opposite of pd.isnull()** | \n",
    "| **`df.dropna()`** | **Drop all rows that contain null values** | \n",
    "| **`df.dropna(axis=1)`** | **Drop all columns that contain null values** | \n",
    "| **`df.dropna(axis=1,thresh=n)`** | **Drop all rows have have less than n non null values** | \n",
    "| **`df.fillna(x)`** | **Replace all null values with x** | \n",
    "| **`s.fillna(s.mean())`** | **Replace all null values with the mean** | \n",
    "| **`s.astype(float)`** | **Convert the datatype of the series to float** | \n",
    "| **`s.replace(1,'one')`** | **Replace all values equal to 1 with 'one'** | \n",
    "| **`s.replace([2,3],['two', 'three'])`** | **Replace all 2 with 'two' and 3 with 'three'** | \n",
    "| **`df.rename(columns=lambda x: x + 1)`** | **Mass renaming of columns** | \n",
    "| **`df.rename(columns={'old_name': 'new_ name'})`** | **Selective renaming** | \n",
    "| **`df.set_index('column_one')`** | **Change the index** | \n",
    "| **`df.rename(index=lambda x: x + 1)`** | **Mass renaming of index** | "
   ]
  },
  {
   "cell_type": "markdown",
   "metadata": {},
   "source": [
    "## Filter, Sort, and Groupby\n",
    "\n",
    "| Operator | Description |\n",
    "|:---- |:---- |\n",
    "| **`df[df[col] > 0.6]`** | **Rows where the column col is greater than 0.6** | \n",
    "| **`df[(df[col] > 0.6) & (df[col] < 0.8)]`** | **Rows where 0.8 > col > 0.6** | \n",
    "| **`df.sort_values(col1)`** | **Sort values by col1 in ascending order** | \n",
    "| **`df.sort_values(col2,ascending=False)`** | **Sort values by col2 in descending order.5** | \n",
    "| **`df.sort_values([col1,col2],ascending=[True,False])`** | **Sort values by col1 in ascending order then col2 in descending order** | \n",
    "| **`df.groupby(col)`** | **Returns a groupby object for values from one column** | \n",
    "| **`df.groupby([col1,col2])`** | **Returns groupby object for values from multiple columns** | \n",
    "| **`df.groupby(col1)[col2]`** | **Returns the mean of the values in col2, grouped by the values in col1** | \n",
    "| **`df.pivot_table(index=col1,values=[col2,col3],aggfunc=mean)`** | **Create a pivot table that groups by col1 and calculates the mean of col2 and col3** | \n",
    "| **`df.groupby(col1).agg(np.mean)`** | **Find the average across all columns for every unique col1 group** | \n",
    "| **`df.apply(np.mean)`** | **Apply the function np.mean() across each column** | \n",
    "| **`nf.apply(np.max,axis=1)`** | **Apply the function np.max() across each row** | "
   ]
  },
  {
   "cell_type": "markdown",
   "metadata": {},
   "source": [
    "## Join/Combine\n",
    "\n",
    "| Operator | Description |\n",
    "|:---- |:---- |\n",
    "| **`df1.append(df2)`** | **Add the rows in df1 to the end of df2 (columns should be identical)** | \n",
    "| **`pd.concat([df1, df2],axis=1)`** | **Add the columns in df1 to the end of df2 (rows should be identical)** | \n",
    "| **`df1.join(df2,on=col1, how='inner')`** | **SQL-style join the columns in df1 with the columns on df2 where the rows for col have identical values. The 'how' can be 'left', 'right', 'outer' or 'inner'** | "
   ]
  },
  {
   "cell_type": "markdown",
   "metadata": {},
   "source": [
    "## Statistics\n",
    "\n",
    "| Operator | Description |\n",
    "|:---- |:---- |\n",
    "| **`df.describe()`** | **Summary statistics for numerical columns** | \n",
    "| **`df.mean()`** | **Returns the mean of all columns** | \n",
    "| **`df.corr()`** | **Returns the correlation between columns in a DataFrame** | \n",
    "| **`df.count()`** | **Returns the number of non-null values in each DataFrame column** | \n",
    "| **`df.max()`** | **Returns the highest value in each column** | \n",
    "| **`df.min()`** | **Returns the lowest value in each column** | \n",
    "| **`df.median()`** | **Returns the median of each column** | \n",
    "| **`df.std()`** | **Returns the standard deviation of each column** |"
   ]
  },
  {
   "cell_type": "markdown",
   "metadata": {},
   "source": [
    "## Importing Data\n",
    "\n",
    "| Operator | Description |\n",
    "|:---- |:---- |\n",
    "| **`pd.read_csv(filename)`** | **From a CSV file** | \n",
    "| **`pd.read_table(filename)`** | **From a delimited text file (like TSV)** | \n",
    "| **`pd.read_excel(filename)`** | **From an Excel file** | \n",
    "| **`pd.read_sql(query, connection_object)`** | **Read from a SQL table/database** | \n",
    "| **`pd.read_json(json_string)`** | **Read from a JSON formatted string, URL or file.** | \n",
    "| **`pd.read_html(url)`** | **Parses an html URL, string or file and extracts tables to a list of dataframes** | \n",
    "| **`pd.read_clipboard()`** | **Takes the contents of your clipboard and passes it to read_table()** | \n",
    "| **`pd.DataFrame(dict)`** | **From a dict, keys for columns names, values for data as lists** |"
   ]
  },
  {
   "cell_type": "markdown",
   "metadata": {},
   "source": [
    "## Exporting Data\n",
    "\n",
    "| Operator | Description |\n",
    "|:---- |:---- |\n",
    "| **`df.to_csv(filename)`** | **Write to a CSV file** | \n",
    "| **`df.to_excel(filename)`** | **Write to an Excel file** | \n",
    "| **`df.to_sql(table_name, connection_object)`** | **Write to a SQL table** | \n",
    "| **`df.to_json(filename)`** | **Write to a file in JSON format** |"
   ]
  },
  {
   "cell_type": "markdown",
   "metadata": {},
   "source": [
    "## Challenge\n",
    "\n",
    "**1. Download `Challenge_32.ipynb` from Teams.**\n",
    "\n",
    "**2. Upload this file into your own *Project* on Deepnote by dragging the `Challenge_32.ipynb` file onto the Notebooks tab on the left-hand side.** \n",
    "\n",
    "**3. Use this notebook to complete Challenge 32 in Deepnote.**"
   ]
  },
  {
   "cell_type": "code",
   "execution_count": null,
   "metadata": {},
   "outputs": [],
   "source": []
  }
 ],
 "metadata": {
  "hide_input": false,
  "kernelspec": {
   "display_name": "Python 3 (ipykernel)",
   "language": "python",
   "name": "python3"
  },
  "language_info": {
   "codemirror_mode": {
    "name": "ipython",
    "version": 3
   },
   "file_extension": ".py",
   "mimetype": "text/x-python",
   "name": "python",
   "nbconvert_exporter": "python",
   "pygments_lexer": "ipython3",
   "version": "3.10.12"
  },
  "toc": {
   "base_numbering": 1,
   "nav_menu": {},
   "number_sections": true,
   "sideBar": true,
   "skip_h1_title": false,
   "title_cell": "Table of Contents",
   "title_sidebar": "Contents",
   "toc_cell": false,
   "toc_position": {},
   "toc_section_display": true,
   "toc_window_display": false
  },
  "varInspector": {
   "cols": {
    "lenName": 16,
    "lenType": 16,
    "lenVar": 40
   },
   "kernels_config": {
    "python": {
     "delete_cmd_postfix": "",
     "delete_cmd_prefix": "del ",
     "library": "var_list.py",
     "varRefreshCmd": "print(var_dic_list())"
    },
    "r": {
     "delete_cmd_postfix": ") ",
     "delete_cmd_prefix": "rm(",
     "library": "var_list.r",
     "varRefreshCmd": "cat(var_dic_list()) "
    }
   },
   "types_to_exclude": [
    "module",
    "function",
    "builtin_function_or_method",
    "instance",
    "_Feature"
   ],
   "window_display": false
  }
 },
 "nbformat": 4,
 "nbformat_minor": 4
}
