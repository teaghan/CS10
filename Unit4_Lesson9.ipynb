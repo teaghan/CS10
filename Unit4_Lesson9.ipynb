{
 "cells": [
  {
   "cell_type": "markdown",
   "metadata": {},
   "source": [
    "> *The creation of the lessons in this unit relied heavily on the existing lessons created by Mrs. FitzZaland as well as the [lecture series](https://github.com/milaan9/10_Python_Pandas_Module) produced by Dr. Milaan Parmar. Additionally, these lessons have largely been modelled off of the book [Think Python](https://open.umn.edu/opentextbooks/textbooks/43) by Allen Downey.*"
   ]
  },
  {
   "cell_type": "markdown",
   "metadata": {},
   "source": [
    "# Pandas\n",
    "\n",
    "This Pandas lesson will help you learn all the Pandas basics.\n",
    "\n",
    "If it would be beneficial for your learning, feel free to **take a look at [this 20 minute video](https://www.youtube.com/watch?v=zN2Hua6oII0)** that goes through most of the content covered in this lesson.\n",
    "\n",
    "<div class=\"alert alert-info\"><h4>Tasks</h4><p>Alert boxes like this will provide you with tasks that you must do while going through this lesson.</p></div>\n",
    "\n",
    "**[Pandas](https://pandas.pydata.org/)** provides a fast, flexible, handy, and expressive data structure tool that is designed to make working with 'relational' or 'labeled' data both easy and intuitive. It aims to be the fundamental high-level building block for doing practical, real world complex data analysis in Python.\n",
    "\n",
    "> Pandas is kind of like a simple version of Excel for Python.\n",
    "\n",
    "Pandas is well suited for many different kinds of data including:\n",
    "\n",
    "* Tabular data with heterogeneously-typed columns, as in an SQL table or Excel spreadsheet\n",
    "* Time series data\n",
    "* Arbitrary matrix data with row and column labels\n",
    "* Any other form of observational / statistical data sets"
   ]
  },
  {
   "cell_type": "markdown",
   "metadata": {},
   "source": [
    "# Pandas' DataFrame\n",
    "\n",
    "In this lesson, you will learn about Pandas' DataFrame. The lesson covers the basics of DataFrames: its attributes, functions, and how to use DataFrames for data analysis.\n",
    "\n",
    "> The DataFrame is the most widely used data structure in Pandas. You can imagine it as a table in a database or a spreadsheet."
   ]
  },
  {
   "cell_type": "markdown",
   "metadata": {},
   "source": [
    "## What is a DataFrame in Pandas\n",
    "\n",
    "A DataFrame is a tabular (rows and columns) representation of data. It is a two-dimensional data structure that allows for the data to be in different types (unlike numpy arrays which only allow for a single data type).\n",
    "\n",
    "A Dataframe is a size-mutable structure, which means that data can be added or deleted from it; unlike a data series, which does not allow operations that change its size.\n",
    "\n",
    "<div>\n",
    "<img src=\"images/dataframe.png\" width=\"600\"/>\n",
    "</div>"
   ]
  },
  {
   "cell_type": "markdown",
   "metadata": {},
   "source": [
    "## DataFrame creation\n",
    "\n",
    "Data is available in various forms and types like CSV, SQL table, JSON, or Python structures like list, dictionaries, etc. We need to convert all such different data formats into a DataFrame so that we can use pandas libraries to analyze the data efficiently.\n",
    "\n",
    "To create a DataFrame, we can use either the DataFrame constructor or pandas built-in functions."
   ]
  },
  {
   "cell_type": "markdown",
   "metadata": {},
   "source": [
    "### DataFrame constructor\n",
    "\n",
    "```python\n",
    "pandas.DataFrame(data=None, index=None, columns=None, dtype=None, copy=False)\n",
    "```"
   ]
  },
  {
   "cell_type": "markdown",
   "metadata": {},
   "source": [
    "#### Parameters:\n",
    "\n",
    "- **`data`**: This can either be a **`dict`**, **`list`**, **`set`**, **`ndarray`**, **`iterable`**, or a DataFrame. If the input is not provided, then it creates an empty DataFrame. The resultant column order follows the order of the inserted data.\n",
    "\n",
    "- **`index`**: (Optional) It takes the list of row index for the DataFrame. The default value is a range of integers 0, 1,…n.\n",
    "\n",
    "\n",
    "- **`columns`** : (Optional) It takes the list of column headers for the DataFrame. The default value is a range of integers 0, 1,…n.\n",
    "\n",
    "\n",
    "- **`dtype`**: (Optional) By default, It infers the data type from the data, but this option applies any specific data type to the whole DataFrame."
   ]
  },
  {
   "cell_type": "markdown",
   "metadata": {},
   "source": [
    "## Dictionaries\n",
    "\n",
    "One way to create a DataFrame is to organize your data into a dictionary, which is actually something we haven't looked at yet!\n",
    "\n",
    "### What is a Dictionary?\n",
    "\n",
    "A dictionary in Python is an unordered collection of items. It consists of key-value pairs where each key must be unique. Dictionaries are defined using curly braces `{}` and can be used to store and retrieve data efficiently.\n",
    "\n",
    "<div>\n",
    "<img src=\"images/dictionary.png\" width=\"600\"/>\n",
    "</div>\n",
    "\n",
    "* **Dictionaries are mutable** i.e., the values can be updated.\n",
    "\n",
    "* Keys must be unique and are immutable; i.e. the keys can't be changed\n",
    "\n",
    "### Creating a Dictionary\n",
    "\n",
    "Let's start by creating a simple dictionary:"
   ]
  },
  {
   "cell_type": "code",
   "execution_count": 19,
   "metadata": {
    "execution": {
     "iopub.execute_input": "2023-12-04T00:04:40.791911Z",
     "iopub.status.busy": "2023-12-04T00:04:40.788838Z",
     "iopub.status.idle": "2023-12-04T00:04:40.804281Z",
     "shell.execute_reply": "2023-12-04T00:04:40.803187Z",
     "shell.execute_reply.started": "2023-12-04T00:04:40.791796Z"
    },
    "tags": []
   },
   "outputs": [
    {
     "name": "stdout",
     "output_type": "stream",
     "text": [
      "{'name': 'John', 'age': 25, 'city': 'New York'}\n"
     ]
    }
   ],
   "source": [
    "# Creating a dictionary\n",
    "my_dict = {'name': 'Taylor', 'age': 25, 'city': 'New York'}\n",
    "print(my_dict)"
   ]
  },
  {
   "cell_type": "markdown",
   "metadata": {},
   "source": [
    "### Accessing Values\n",
    "\n",
    "You can access the values in a dictionary using the keys:"
   ]
  },
  {
   "cell_type": "code",
   "execution_count": 20,
   "metadata": {
    "execution": {
     "iopub.execute_input": "2023-12-04T00:09:30.781702Z",
     "iopub.status.busy": "2023-12-04T00:09:30.778817Z",
     "iopub.status.idle": "2023-12-04T00:09:30.792286Z",
     "shell.execute_reply": "2023-12-04T00:09:30.790669Z",
     "shell.execute_reply.started": "2023-12-04T00:09:30.781634Z"
    },
    "tags": []
   },
   "outputs": [
    {
     "name": "stdout",
     "output_type": "stream",
     "text": [
      "Name: John\n",
      "Age: 25\n",
      "City: New York\n"
     ]
    }
   ],
   "source": [
    "print(\"Name:\", my_dict['name'])\n",
    "print(\"Age:\", my_dict['age'])\n",
    "print(\"City:\", my_dict['city'])"
   ]
  },
  {
   "cell_type": "markdown",
   "metadata": {
    "execution": {
     "iopub.execute_input": "2023-12-04T00:12:02.992427Z",
     "iopub.status.busy": "2023-12-04T00:12:02.990641Z",
     "iopub.status.idle": "2023-12-04T00:12:03.004350Z",
     "shell.execute_reply": "2023-12-04T00:12:03.002904Z",
     "shell.execute_reply.started": "2023-12-04T00:12:02.992359Z"
    },
    "tags": []
   },
   "source": [
    "<div class=\"alert alert-info\"><h4>1.</h4><p>Create a new notebook and name it Lesson9_Tasks.</p></div>\n",
    "\n",
    "<div class=\"alert alert-info\"><h4>2.</h4><p>In your notebook, define a dictionary using the following code.</p></div>\n",
    "\n",
    "```python\n",
    "my_dict = {'name': 'Taylor', 'age': 25, 'city': 'New York'}\n",
    "```\n",
    "\n",
    "### Adding New Key-Value Pairs\n",
    "\n",
    "You can add new key-value pairs to the dictionary:\n",
    "\n",
    "<div class=\"alert alert-info\"><h4>3.</h4><p>Try adding the following key/value pair to you dictionary:</p></div>\n",
    "\n",
    "```python\n",
    "my_dict['occupation'] = 'Engineer'\n",
    "print(\"Updated Dictionary:\", my_dict)\n",
    "```\n",
    "\n",
    "### Dictionary Methods\n",
    "\n",
    "\n",
    "`keys()`: Returns a list of all keys in the dictionary.\n",
    "\n",
    "<div class=\"alert alert-info\"><h4>4.</h4><p>Print the keys in your dictionary:</p></div>\n",
    "\n",
    "```python\n",
    "# Using keys()\n",
    "keys = my_dict.keys()\n",
    "print(\"Keys:\", keys)\n",
    "```\n",
    "\n",
    "`values()`: Returns a list of all values in the dictionary.\n",
    "\n",
    "<div class=\"alert alert-info\"><h4>5.</h4><p>Print the values in your dictionary:</p></div>\n",
    "\n",
    "```python\n",
    "# Using values()\n",
    "values = my_dict.values()\n",
    "print(\"Values:\", values)\n",
    "```\n",
    "\n",
    "`items()`: Returns a list of key-value pairs as tuples.\n",
    "\n",
    "<div class=\"alert alert-info\"><h4>6.</h4><p>Print the key-value pairs in your dictionary:</p></div>\n",
    "\n",
    "```python\n",
    "# Using items()\n",
    "items = my_dict.items()\n",
    "print(\"Items:\", items)\n",
    "```"
   ]
  },
  {
   "cell_type": "markdown",
   "metadata": {},
   "source": [
    "### Creating a Dataframe from a dictionary\n",
    "\n",
    "Ok now back to Pandas!\n",
    "\n",
    "When we have data in a **`dict`** or any default data structures in Python, we can convert it into a DataFrame using the DataFrame constructor.\n",
    "\n",
    "To construct a DataFrame from a **`dict`** object, we can pass it to the DataFrame constructor **`pd.DataFrame(dict)`**. It creates DataFrame using, where **`dict`** keys will be column labels, and **`dict`** values will be the columns’ data. "
   ]
  },
  {
   "cell_type": "code",
   "execution_count": 1,
   "metadata": {
    "ExecuteTime": {
     "end_time": "2021-07-06T16:31:40.726150Z",
     "start_time": "2021-07-06T16:31:40.693928Z"
    },
    "execution": {
     "iopub.execute_input": "2023-11-19T23:06:04.126895Z",
     "iopub.status.busy": "2023-11-19T23:06:04.126603Z",
     "iopub.status.idle": "2023-11-19T23:06:04.133860Z",
     "shell.execute_reply": "2023-11-19T23:06:04.133249Z",
     "shell.execute_reply.started": "2023-11-19T23:06:04.126874Z"
    },
    "tags": []
   },
   "outputs": [
    {
     "data": {
      "text/plain": [
       "{'Name': ['Joe', 'Nat'], 'Age': [20, 21], 'Marks': [85.1, 77.8]}"
      ]
     },
     "execution_count": 1,
     "metadata": {},
     "output_type": "execute_result"
    }
   ],
   "source": [
    "# Example of creating a dictionary\n",
    "student_dict = {'Name':['Joe','Nat'], 'Age':[20,21], 'Marks':[85.10, 77.80]}\n",
    "student_dict"
   ]
  },
  {
   "cell_type": "markdown",
   "metadata": {},
   "source": [
    "In the example below, **'Name'**, **'Age'** and **'Marks'** are the keys in the **`dict`**. \n",
    "\n",
    "When you convert the dictionary into a DataFrame, these keys will become the column labels of the DataFrame."
   ]
  },
  {
   "cell_type": "code",
   "execution_count": 2,
   "metadata": {
    "ExecuteTime": {
     "end_time": "2021-07-06T16:31:42.199775Z",
     "start_time": "2021-07-06T16:31:40.732987Z"
    },
    "execution": {
     "iopub.execute_input": "2023-11-19T23:06:04.134789Z",
     "iopub.status.busy": "2023-11-19T23:06:04.134590Z",
     "iopub.status.idle": "2023-11-19T23:06:04.594936Z",
     "shell.execute_reply": "2023-11-19T23:06:04.593673Z",
     "shell.execute_reply.started": "2023-11-19T23:06:04.134772Z"
    },
    "tags": []
   },
   "outputs": [
    {
     "name": "stdout",
     "output_type": "stream",
     "text": [
      "{'Name': ['Joe', 'Nat'], 'Age': [20, 21], 'Marks': [85.1, 77.8]}\n",
      "  Name  Age  Marks\n",
      "0  Joe   20   85.1\n",
      "1  Nat   21   77.8\n"
     ]
    }
   ],
   "source": [
    "import pandas as pd\n",
    "\n",
    "# Defining your dictionary object\n",
    "student_dict = {'Name': ['Joe', 'Nat'], 'Age': [20, 21], 'Marks': [85.10, 77.80]}\n",
    "print(student_dict)\n",
    "\n",
    "# Create DataFrame from dict\n",
    "student_df = pd.DataFrame(student_dict)\n",
    "print(student_df)"
   ]
  },
  {
   "cell_type": "markdown",
   "metadata": {},
   "source": [
    "One nice feature of working in a notebook like this, is that the notebook has a built-in pretty display format for Pandas' DataFrames. You can use this display by simply writing the DataFrame object without the print statement as seen below. (Note that this has to be the last line your code cell to display).\n",
    "\n",
    "(Also note that Deepnote's display is slightly different than the native JupyterLab display.)"
   ]
  },
  {
   "cell_type": "code",
   "execution_count": 3,
   "metadata": {
    "execution": {
     "iopub.execute_input": "2023-11-19T23:06:04.596929Z",
     "iopub.status.busy": "2023-11-19T23:06:04.596446Z",
     "iopub.status.idle": "2023-11-19T23:06:04.608703Z",
     "shell.execute_reply": "2023-11-19T23:06:04.607774Z",
     "shell.execute_reply.started": "2023-11-19T23:06:04.596894Z"
    },
    "tags": []
   },
   "outputs": [
    {
     "data": {
      "text/html": [
       "<div>\n",
       "<style scoped>\n",
       "    .dataframe tbody tr th:only-of-type {\n",
       "        vertical-align: middle;\n",
       "    }\n",
       "\n",
       "    .dataframe tbody tr th {\n",
       "        vertical-align: top;\n",
       "    }\n",
       "\n",
       "    .dataframe thead th {\n",
       "        text-align: right;\n",
       "    }\n",
       "</style>\n",
       "<table border=\"1\" class=\"dataframe\">\n",
       "  <thead>\n",
       "    <tr style=\"text-align: right;\">\n",
       "      <th></th>\n",
       "      <th>Name</th>\n",
       "      <th>Age</th>\n",
       "      <th>Marks</th>\n",
       "    </tr>\n",
       "  </thead>\n",
       "  <tbody>\n",
       "    <tr>\n",
       "      <th>0</th>\n",
       "      <td>Joe</td>\n",
       "      <td>20</td>\n",
       "      <td>85.1</td>\n",
       "    </tr>\n",
       "    <tr>\n",
       "      <th>1</th>\n",
       "      <td>Nat</td>\n",
       "      <td>21</td>\n",
       "      <td>77.8</td>\n",
       "    </tr>\n",
       "  </tbody>\n",
       "</table>\n",
       "</div>"
      ],
      "text/plain": [
       "  Name  Age  Marks\n",
       "0  Joe   20   85.1\n",
       "1  Nat   21   77.8"
      ]
     },
     "execution_count": 3,
     "metadata": {},
     "output_type": "execute_result"
    }
   ],
   "source": [
    "student_df"
   ]
  },
  {
   "cell_type": "code",
   "execution_count": 4,
   "metadata": {
    "ExecuteTime": {
     "end_time": "2021-07-06T16:31:42.231025Z",
     "start_time": "2021-07-06T16:31:42.203683Z"
    },
    "execution": {
     "iopub.execute_input": "2023-11-19T23:06:04.610011Z",
     "iopub.status.busy": "2023-11-19T23:06:04.609685Z",
     "iopub.status.idle": "2023-11-19T23:06:04.903120Z",
     "shell.execute_reply": "2023-11-19T23:06:04.902031Z",
     "shell.execute_reply.started": "2023-11-19T23:06:04.609979Z"
    },
    "scrolled": true,
    "tags": []
   },
   "outputs": [
    {
     "data": {
      "text/html": [
       "<div>\n",
       "<style scoped>\n",
       "    .dataframe tbody tr th:only-of-type {\n",
       "        vertical-align: middle;\n",
       "    }\n",
       "\n",
       "    .dataframe tbody tr th {\n",
       "        vertical-align: top;\n",
       "    }\n",
       "\n",
       "    .dataframe thead th {\n",
       "        text-align: right;\n",
       "    }\n",
       "</style>\n",
       "<table border=\"1\" class=\"dataframe\">\n",
       "  <thead>\n",
       "    <tr style=\"text-align: right;\">\n",
       "      <th></th>\n",
       "      <th>X</th>\n",
       "      <th>Y</th>\n",
       "      <th>Z</th>\n",
       "    </tr>\n",
       "  </thead>\n",
       "  <tbody>\n",
       "    <tr>\n",
       "      <th>a</th>\n",
       "      <td>78</td>\n",
       "      <td>84</td>\n",
       "      <td>86</td>\n",
       "    </tr>\n",
       "    <tr>\n",
       "      <th>b</th>\n",
       "      <td>85</td>\n",
       "      <td>94</td>\n",
       "      <td>97</td>\n",
       "    </tr>\n",
       "    <tr>\n",
       "      <th>c</th>\n",
       "      <td>96</td>\n",
       "      <td>89</td>\n",
       "      <td>96</td>\n",
       "    </tr>\n",
       "    <tr>\n",
       "      <th>d</th>\n",
       "      <td>80</td>\n",
       "      <td>83</td>\n",
       "      <td>72</td>\n",
       "    </tr>\n",
       "    <tr>\n",
       "      <th>e</th>\n",
       "      <td>86</td>\n",
       "      <td>86</td>\n",
       "      <td>83</td>\n",
       "    </tr>\n",
       "  </tbody>\n",
       "</table>\n",
       "</div>"
      ],
      "text/plain": [
       "    X   Y   Z\n",
       "a  78  84  86\n",
       "b  85  94  97\n",
       "c  96  89  96\n",
       "d  80  83  72\n",
       "e  86  86  83"
      ]
     },
     "execution_count": 4,
     "metadata": {},
     "output_type": "execute_result"
    }
   ],
   "source": [
    "# Another example:\n",
    "import pandas as pd\n",
    "\n",
    "# We pass a dict of {column name: column values} for the data\n",
    "# and also provide labels for each row in this case\n",
    "df = pd.DataFrame({'X':[78,85,96,80,86], 'Y':[84,94,89,83,86],'Z':[86,97,96,72,83]},\n",
    "                 index=['a','b','c','d','e']);\n",
    "df"
   ]
  },
  {
   "cell_type": "markdown",
   "metadata": {},
   "source": [
    "### Indexing\n",
    "\n",
    "With Pandas, we can use labeled indexing. \n",
    "\n",
    "We can select subsets of the data by column, row, or both. \n",
    "\n",
    "Pass in a single column label or a list of labels to select subsets of the original **`DataFrame`**."
   ]
  },
  {
   "cell_type": "code",
   "execution_count": 5,
   "metadata": {
    "ExecuteTime": {
     "end_time": "2021-07-06T16:31:42.540108Z",
     "start_time": "2021-07-06T16:31:42.424873Z"
    },
    "execution": {
     "iopub.execute_input": "2023-11-19T23:06:04.904495Z",
     "iopub.status.busy": "2023-11-19T23:06:04.904213Z",
     "iopub.status.idle": "2023-11-19T23:06:04.982055Z",
     "shell.execute_reply": "2023-11-19T23:06:04.980638Z",
     "shell.execute_reply.started": "2023-11-19T23:06:04.904472Z"
    },
    "tags": []
   },
   "outputs": [
    {
     "data": {
      "text/plain": [
       "a    78\n",
       "b    85\n",
       "c    96\n",
       "d    80\n",
       "e    86\n",
       "Name: X, dtype: int64"
      ]
     },
     "execution_count": 5,
     "metadata": {},
     "output_type": "execute_result"
    }
   ],
   "source": [
    "# Single column (reduces to a Series)\n",
    "df['X']"
   ]
  },
  {
   "cell_type": "code",
   "execution_count": 6,
   "metadata": {
    "ExecuteTime": {
     "end_time": "2021-07-06T16:31:42.679754Z",
     "start_time": "2021-07-06T16:31:42.544013Z"
    },
    "execution": {
     "iopub.execute_input": "2023-11-19T23:06:04.986923Z",
     "iopub.status.busy": "2023-11-19T23:06:04.986292Z",
     "iopub.status.idle": "2023-11-19T23:06:05.422272Z",
     "shell.execute_reply": "2023-11-19T23:06:05.420469Z",
     "shell.execute_reply.started": "2023-11-19T23:06:04.986886Z"
    },
    "tags": []
   },
   "outputs": [
    {
     "data": {
      "text/html": [
       "<div>\n",
       "<style scoped>\n",
       "    .dataframe tbody tr th:only-of-type {\n",
       "        vertical-align: middle;\n",
       "    }\n",
       "\n",
       "    .dataframe tbody tr th {\n",
       "        vertical-align: top;\n",
       "    }\n",
       "\n",
       "    .dataframe thead th {\n",
       "        text-align: right;\n",
       "    }\n",
       "</style>\n",
       "<table border=\"1\" class=\"dataframe\">\n",
       "  <thead>\n",
       "    <tr style=\"text-align: right;\">\n",
       "      <th></th>\n",
       "      <th>X</th>\n",
       "      <th>Z</th>\n",
       "    </tr>\n",
       "  </thead>\n",
       "  <tbody>\n",
       "    <tr>\n",
       "      <th>a</th>\n",
       "      <td>78</td>\n",
       "      <td>86</td>\n",
       "    </tr>\n",
       "    <tr>\n",
       "      <th>b</th>\n",
       "      <td>85</td>\n",
       "      <td>97</td>\n",
       "    </tr>\n",
       "    <tr>\n",
       "      <th>c</th>\n",
       "      <td>96</td>\n",
       "      <td>96</td>\n",
       "    </tr>\n",
       "    <tr>\n",
       "      <th>d</th>\n",
       "      <td>80</td>\n",
       "      <td>72</td>\n",
       "    </tr>\n",
       "    <tr>\n",
       "      <th>e</th>\n",
       "      <td>86</td>\n",
       "      <td>83</td>\n",
       "    </tr>\n",
       "  </tbody>\n",
       "</table>\n",
       "</div>"
      ],
      "text/plain": [
       "    X   Z\n",
       "a  78  86\n",
       "b  85  97\n",
       "c  96  96\n",
       "d  80  72\n",
       "e  86  83"
      ]
     },
     "execution_count": 6,
     "metadata": {},
     "output_type": "execute_result"
    }
   ],
   "source": [
    "# Multiple columns (creates a subset DataFrame)\n",
    "cols = ['X', 'Z']\n",
    "df[cols]"
   ]
  },
  {
   "cell_type": "markdown",
   "metadata": {},
   "source": [
    "For row-wise selection, use the special **`.loc`** accessor."
   ]
  },
  {
   "cell_type": "code",
   "execution_count": 7,
   "metadata": {
    "ExecuteTime": {
     "end_time": "2021-07-06T16:31:42.803777Z",
     "start_time": "2021-07-06T16:31:42.686591Z"
    },
    "execution": {
     "iopub.execute_input": "2023-11-19T23:06:05.425016Z",
     "iopub.status.busy": "2023-11-19T23:06:05.424506Z",
     "iopub.status.idle": "2023-11-19T23:06:05.575597Z",
     "shell.execute_reply": "2023-11-19T23:06:05.574003Z",
     "shell.execute_reply.started": "2023-11-19T23:06:05.424976Z"
    },
    "tags": []
   },
   "outputs": [
    {
     "data": {
      "text/html": [
       "<div>\n",
       "<style scoped>\n",
       "    .dataframe tbody tr th:only-of-type {\n",
       "        vertical-align: middle;\n",
       "    }\n",
       "\n",
       "    .dataframe tbody tr th {\n",
       "        vertical-align: top;\n",
       "    }\n",
       "\n",
       "    .dataframe thead th {\n",
       "        text-align: right;\n",
       "    }\n",
       "</style>\n",
       "<table border=\"1\" class=\"dataframe\">\n",
       "  <thead>\n",
       "    <tr style=\"text-align: right;\">\n",
       "      <th></th>\n",
       "      <th>X</th>\n",
       "      <th>Y</th>\n",
       "      <th>Z</th>\n",
       "    </tr>\n",
       "  </thead>\n",
       "  <tbody>\n",
       "    <tr>\n",
       "      <th>a</th>\n",
       "      <td>78</td>\n",
       "      <td>84</td>\n",
       "      <td>86</td>\n",
       "    </tr>\n",
       "    <tr>\n",
       "      <th>c</th>\n",
       "      <td>96</td>\n",
       "      <td>89</td>\n",
       "      <td>96</td>\n",
       "    </tr>\n",
       "  </tbody>\n",
       "</table>\n",
       "</div>"
      ],
      "text/plain": [
       "    X   Y   Z\n",
       "a  78  84  86\n",
       "c  96  89  96"
      ]
     },
     "execution_count": 7,
     "metadata": {},
     "output_type": "execute_result"
    }
   ],
   "source": [
    "df.loc[['a', 'c']]"
   ]
  },
  {
   "cell_type": "markdown",
   "metadata": {},
   "source": [
    "You can use ranges to select rows or columns."
   ]
  },
  {
   "cell_type": "code",
   "execution_count": 8,
   "metadata": {
    "ExecuteTime": {
     "end_time": "2021-07-06T16:31:42.988833Z",
     "start_time": "2021-07-06T16:31:42.810616Z"
    },
    "execution": {
     "iopub.execute_input": "2023-11-19T23:06:05.577214Z",
     "iopub.status.busy": "2023-11-19T23:06:05.576940Z",
     "iopub.status.idle": "2023-11-19T23:06:05.592185Z",
     "shell.execute_reply": "2023-11-19T23:06:05.591075Z",
     "shell.execute_reply.started": "2023-11-19T23:06:05.577192Z"
    },
    "tags": []
   },
   "outputs": [
    {
     "data": {
      "text/html": [
       "<div>\n",
       "<style scoped>\n",
       "    .dataframe tbody tr th:only-of-type {\n",
       "        vertical-align: middle;\n",
       "    }\n",
       "\n",
       "    .dataframe tbody tr th {\n",
       "        vertical-align: top;\n",
       "    }\n",
       "\n",
       "    .dataframe thead th {\n",
       "        text-align: right;\n",
       "    }\n",
       "</style>\n",
       "<table border=\"1\" class=\"dataframe\">\n",
       "  <thead>\n",
       "    <tr style=\"text-align: right;\">\n",
       "      <th></th>\n",
       "      <th>X</th>\n",
       "      <th>Y</th>\n",
       "      <th>Z</th>\n",
       "    </tr>\n",
       "  </thead>\n",
       "  <tbody>\n",
       "    <tr>\n",
       "      <th>a</th>\n",
       "      <td>78</td>\n",
       "      <td>84</td>\n",
       "      <td>86</td>\n",
       "    </tr>\n",
       "    <tr>\n",
       "      <th>b</th>\n",
       "      <td>85</td>\n",
       "      <td>94</td>\n",
       "      <td>97</td>\n",
       "    </tr>\n",
       "    <tr>\n",
       "      <th>c</th>\n",
       "      <td>96</td>\n",
       "      <td>89</td>\n",
       "      <td>96</td>\n",
       "    </tr>\n",
       "  </tbody>\n",
       "</table>\n",
       "</div>"
      ],
      "text/plain": [
       "    X   Y   Z\n",
       "a  78  84  86\n",
       "b  85  94  97\n",
       "c  96  89  96"
      ]
     },
     "execution_count": 8,
     "metadata": {},
     "output_type": "execute_result"
    }
   ],
   "source": [
    "df.loc['a':'c']"
   ]
  },
  {
   "cell_type": "markdown",
   "metadata": {},
   "source": [
    "Notice that the slice is *inclusive* on both sides,  unlike your typical slicing of a list. Sometimes, you'd rather slice by *position* instead of label. **`.iloc`** has you covered:"
   ]
  },
  {
   "cell_type": "code",
   "execution_count": 9,
   "metadata": {
    "ExecuteTime": {
     "end_time": "2021-07-06T16:31:43.127996Z",
     "start_time": "2021-07-06T16:31:42.997624Z"
    },
    "execution": {
     "iopub.execute_input": "2023-11-19T23:06:05.593655Z",
     "iopub.status.busy": "2023-11-19T23:06:05.593419Z",
     "iopub.status.idle": "2023-11-19T23:06:05.837386Z",
     "shell.execute_reply": "2023-11-19T23:06:05.835890Z",
     "shell.execute_reply.started": "2023-11-19T23:06:05.593635Z"
    },
    "tags": []
   },
   "outputs": [
    {
     "data": {
      "text/html": [
       "<div>\n",
       "<style scoped>\n",
       "    .dataframe tbody tr th:only-of-type {\n",
       "        vertical-align: middle;\n",
       "    }\n",
       "\n",
       "    .dataframe tbody tr th {\n",
       "        vertical-align: top;\n",
       "    }\n",
       "\n",
       "    .dataframe thead th {\n",
       "        text-align: right;\n",
       "    }\n",
       "</style>\n",
       "<table border=\"1\" class=\"dataframe\">\n",
       "  <thead>\n",
       "    <tr style=\"text-align: right;\">\n",
       "      <th></th>\n",
       "      <th>X</th>\n",
       "      <th>Y</th>\n",
       "      <th>Z</th>\n",
       "    </tr>\n",
       "  </thead>\n",
       "  <tbody>\n",
       "    <tr>\n",
       "      <th>a</th>\n",
       "      <td>78</td>\n",
       "      <td>84</td>\n",
       "      <td>86</td>\n",
       "    </tr>\n",
       "    <tr>\n",
       "      <th>b</th>\n",
       "      <td>85</td>\n",
       "      <td>94</td>\n",
       "      <td>97</td>\n",
       "    </tr>\n",
       "  </tbody>\n",
       "</table>\n",
       "</div>"
      ],
      "text/plain": [
       "    X   Y   Z\n",
       "a  78  84  86\n",
       "b  85  94  97"
      ]
     },
     "execution_count": 9,
     "metadata": {},
     "output_type": "execute_result"
    }
   ],
   "source": [
    "df.iloc[[0, 1]]"
   ]
  },
  {
   "cell_type": "code",
   "execution_count": 10,
   "metadata": {
    "ExecuteTime": {
     "end_time": "2021-07-06T16:31:43.268131Z",
     "start_time": "2021-07-06T16:31:43.131902Z"
    },
    "execution": {
     "iopub.execute_input": "2023-11-19T23:06:05.839719Z",
     "iopub.status.busy": "2023-11-19T23:06:05.839362Z",
     "iopub.status.idle": "2023-11-19T23:06:06.019262Z",
     "shell.execute_reply": "2023-11-19T23:06:06.017433Z",
     "shell.execute_reply.started": "2023-11-19T23:06:05.839700Z"
    },
    "tags": []
   },
   "outputs": [
    {
     "data": {
      "text/html": [
       "<div>\n",
       "<style scoped>\n",
       "    .dataframe tbody tr th:only-of-type {\n",
       "        vertical-align: middle;\n",
       "    }\n",
       "\n",
       "    .dataframe tbody tr th {\n",
       "        vertical-align: top;\n",
       "    }\n",
       "\n",
       "    .dataframe thead th {\n",
       "        text-align: right;\n",
       "    }\n",
       "</style>\n",
       "<table border=\"1\" class=\"dataframe\">\n",
       "  <thead>\n",
       "    <tr style=\"text-align: right;\">\n",
       "      <th></th>\n",
       "      <th>X</th>\n",
       "      <th>Y</th>\n",
       "      <th>Z</th>\n",
       "    </tr>\n",
       "  </thead>\n",
       "  <tbody>\n",
       "    <tr>\n",
       "      <th>a</th>\n",
       "      <td>78</td>\n",
       "      <td>84</td>\n",
       "      <td>86</td>\n",
       "    </tr>\n",
       "    <tr>\n",
       "      <th>b</th>\n",
       "      <td>85</td>\n",
       "      <td>94</td>\n",
       "      <td>97</td>\n",
       "    </tr>\n",
       "  </tbody>\n",
       "</table>\n",
       "</div>"
      ],
      "text/plain": [
       "    X   Y   Z\n",
       "a  78  84  86\n",
       "b  85  94  97"
      ]
     },
     "execution_count": 10,
     "metadata": {},
     "output_type": "execute_result"
    }
   ],
   "source": [
    "df.iloc[:2]"
   ]
  },
  {
   "cell_type": "markdown",
   "metadata": {},
   "source": [
    "This follows the usual python slicing rules: closed on the left, open on the right.\n",
    "\n",
    "As I mentioned, you can slice both rows and columns. Use **`.loc`** for label or **`.iloc`** for position indexing."
   ]
  },
  {
   "cell_type": "code",
   "execution_count": 11,
   "metadata": {
    "ExecuteTime": {
     "end_time": "2021-07-06T16:31:43.407777Z",
     "start_time": "2021-07-06T16:31:43.275943Z"
    },
    "execution": {
     "iopub.execute_input": "2023-11-19T23:06:06.021737Z",
     "iopub.status.busy": "2023-11-19T23:06:06.021298Z",
     "iopub.status.idle": "2023-11-19T23:06:06.033993Z",
     "shell.execute_reply": "2023-11-19T23:06:06.033051Z",
     "shell.execute_reply.started": "2023-11-19T23:06:06.021699Z"
    },
    "tags": []
   },
   "outputs": [
    {
     "data": {
      "text/plain": [
       "78"
      ]
     },
     "execution_count": 11,
     "metadata": {},
     "output_type": "execute_result"
    }
   ],
   "source": [
    "df.loc['a', 'X']"
   ]
  },
  {
   "cell_type": "markdown",
   "metadata": {},
   "source": [
    "Pandas will reduce dimensions when possible. Select a single column and you get back `Series` (see below). Select a single row and single column, you get a scalar.\n",
    "\n",
    "You can get pretty fancy:"
   ]
  },
  {
   "cell_type": "code",
   "execution_count": 12,
   "metadata": {
    "ExecuteTime": {
     "end_time": "2021-07-06T16:31:43.532291Z",
     "start_time": "2021-07-06T16:31:43.411686Z"
    },
    "execution": {
     "iopub.execute_input": "2023-11-19T23:06:06.035434Z",
     "iopub.status.busy": "2023-11-19T23:06:06.035185Z",
     "iopub.status.idle": "2023-11-19T23:06:06.053407Z",
     "shell.execute_reply": "2023-11-19T23:06:06.051604Z",
     "shell.execute_reply.started": "2023-11-19T23:06:06.035415Z"
    },
    "tags": []
   },
   "outputs": [
    {
     "data": {
      "text/html": [
       "<div>\n",
       "<style scoped>\n",
       "    .dataframe tbody tr th:only-of-type {\n",
       "        vertical-align: middle;\n",
       "    }\n",
       "\n",
       "    .dataframe tbody tr th {\n",
       "        vertical-align: top;\n",
       "    }\n",
       "\n",
       "    .dataframe thead th {\n",
       "        text-align: right;\n",
       "    }\n",
       "</style>\n",
       "<table border=\"1\" class=\"dataframe\">\n",
       "  <thead>\n",
       "    <tr style=\"text-align: right;\">\n",
       "      <th></th>\n",
       "      <th>X</th>\n",
       "      <th>Z</th>\n",
       "    </tr>\n",
       "  </thead>\n",
       "  <tbody>\n",
       "    <tr>\n",
       "      <th>a</th>\n",
       "      <td>78</td>\n",
       "      <td>86</td>\n",
       "    </tr>\n",
       "    <tr>\n",
       "      <th>b</th>\n",
       "      <td>85</td>\n",
       "      <td>97</td>\n",
       "    </tr>\n",
       "  </tbody>\n",
       "</table>\n",
       "</div>"
      ],
      "text/plain": [
       "    X   Z\n",
       "a  78  86\n",
       "b  85  97"
      ]
     },
     "execution_count": 12,
     "metadata": {},
     "output_type": "execute_result"
    }
   ],
   "source": [
    "df.loc['a':'b', ['X', 'Z']]"
   ]
  },
  {
   "cell_type": "markdown",
   "metadata": {},
   "source": [
    "#### Summary\n",
    "\n",
    "- Use **`[]`** for selecting columns\n",
    "- Use **`.loc[row_lables, column_labels]`** for label-based indexing\n",
    "- Use **`.iloc[row_positions, column_positions]`** for positional index\n",
    "\n",
    "I've left out boolean and hierarchical indexing, which we'll see later."
   ]
  },
  {
   "cell_type": "markdown",
   "metadata": {},
   "source": [
    "## Series\n",
    "\n",
    "You've already seen some **Series** up above. \n",
    "\n",
    "> A Series is the 1-dimensional analog of the DataFrame. \n",
    "\n",
    "Each column in a **DataFrame** is in some sense a **Series**. You can select a **Series** from a DataFrame in a few ways:"
   ]
  },
  {
   "cell_type": "code",
   "execution_count": 13,
   "metadata": {
    "ExecuteTime": {
     "end_time": "2021-07-06T16:31:43.672914Z",
     "start_time": "2021-07-06T16:31:43.539127Z"
    },
    "execution": {
     "iopub.execute_input": "2023-11-19T23:06:06.056527Z",
     "iopub.status.busy": "2023-11-19T23:06:06.055806Z",
     "iopub.status.idle": "2023-11-19T23:06:06.075080Z",
     "shell.execute_reply": "2023-11-19T23:06:06.073608Z",
     "shell.execute_reply.started": "2023-11-19T23:06:06.056470Z"
    },
    "tags": []
   },
   "outputs": [
    {
     "data": {
      "text/plain": [
       "a    84\n",
       "b    94\n",
       "c    89\n",
       "d    83\n",
       "e    86\n",
       "Name: Y, dtype: int64"
      ]
     },
     "execution_count": 13,
     "metadata": {},
     "output_type": "execute_result"
    }
   ],
   "source": [
    "# __getitem__ like before\n",
    "df['Y']"
   ]
  },
  {
   "cell_type": "code",
   "execution_count": 14,
   "metadata": {
    "ExecuteTime": {
     "end_time": "2021-07-06T16:31:43.800841Z",
     "start_time": "2021-07-06T16:31:43.680726Z"
    },
    "execution": {
     "iopub.execute_input": "2023-11-19T23:06:06.076794Z",
     "iopub.status.busy": "2023-11-19T23:06:06.076434Z",
     "iopub.status.idle": "2023-11-19T23:06:06.094033Z",
     "shell.execute_reply": "2023-11-19T23:06:06.092825Z",
     "shell.execute_reply.started": "2023-11-19T23:06:06.076763Z"
    },
    "tags": []
   },
   "outputs": [
    {
     "data": {
      "text/plain": [
       "a    84\n",
       "b    94\n",
       "c    89\n",
       "d    83\n",
       "e    86\n",
       "Name: Y, dtype: int64"
      ]
     },
     "execution_count": 14,
     "metadata": {},
     "output_type": "execute_result"
    }
   ],
   "source": [
    "# .loc, like before\n",
    "df.loc[:, 'Y']"
   ]
  },
  {
   "cell_type": "code",
   "execution_count": 15,
   "metadata": {
    "ExecuteTime": {
     "end_time": "2021-07-06T16:31:43.893614Z",
     "start_time": "2021-07-06T16:31:43.807679Z"
    },
    "execution": {
     "iopub.execute_input": "2023-11-19T23:06:06.095410Z",
     "iopub.status.busy": "2023-11-19T23:06:06.095067Z",
     "iopub.status.idle": "2023-11-19T23:06:06.212862Z",
     "shell.execute_reply": "2023-11-19T23:06:06.210835Z",
     "shell.execute_reply.started": "2023-11-19T23:06:06.095381Z"
    },
    "tags": []
   },
   "outputs": [
    {
     "data": {
      "text/plain": [
       "a    84\n",
       "b    94\n",
       "c    89\n",
       "d    83\n",
       "e    86\n",
       "Name: Y, dtype: int64"
      ]
     },
     "execution_count": 15,
     "metadata": {},
     "output_type": "execute_result"
    }
   ],
   "source": [
    "# using `.` attribute lookup\n",
    "df.Y"
   ]
  },
  {
   "cell_type": "markdown",
   "metadata": {},
   "source": [
    "You can also add a new column (or series) to your DataFrame:"
   ]
  },
  {
   "cell_type": "code",
   "execution_count": 16,
   "metadata": {
    "ExecuteTime": {
     "end_time": "2021-07-06T16:31:44.015688Z",
     "start_time": "2021-07-06T16:31:43.899477Z"
    },
    "execution": {
     "iopub.execute_input": "2023-11-19T23:06:06.216338Z",
     "iopub.status.busy": "2023-11-19T23:06:06.215097Z",
     "iopub.status.idle": "2023-11-19T23:06:06.480199Z",
     "shell.execute_reply": "2023-11-19T23:06:06.479087Z",
     "shell.execute_reply.started": "2023-11-19T23:06:06.216283Z"
    },
    "tags": []
   },
   "outputs": [
    {
     "data": {
      "text/html": [
       "<div>\n",
       "<style scoped>\n",
       "    .dataframe tbody tr th:only-of-type {\n",
       "        vertical-align: middle;\n",
       "    }\n",
       "\n",
       "    .dataframe tbody tr th {\n",
       "        vertical-align: top;\n",
       "    }\n",
       "\n",
       "    .dataframe thead th {\n",
       "        text-align: right;\n",
       "    }\n",
       "</style>\n",
       "<table border=\"1\" class=\"dataframe\">\n",
       "  <thead>\n",
       "    <tr style=\"text-align: right;\">\n",
       "      <th></th>\n",
       "      <th>X</th>\n",
       "      <th>Y</th>\n",
       "      <th>Z</th>\n",
       "      <th>W</th>\n",
       "    </tr>\n",
       "  </thead>\n",
       "  <tbody>\n",
       "    <tr>\n",
       "      <th>a</th>\n",
       "      <td>78</td>\n",
       "      <td>84</td>\n",
       "      <td>86</td>\n",
       "      <td>h</td>\n",
       "    </tr>\n",
       "    <tr>\n",
       "      <th>b</th>\n",
       "      <td>85</td>\n",
       "      <td>94</td>\n",
       "      <td>97</td>\n",
       "      <td>i</td>\n",
       "    </tr>\n",
       "    <tr>\n",
       "      <th>c</th>\n",
       "      <td>96</td>\n",
       "      <td>89</td>\n",
       "      <td>96</td>\n",
       "      <td>j</td>\n",
       "    </tr>\n",
       "    <tr>\n",
       "      <th>d</th>\n",
       "      <td>80</td>\n",
       "      <td>83</td>\n",
       "      <td>72</td>\n",
       "      <td>k</td>\n",
       "    </tr>\n",
       "    <tr>\n",
       "      <th>e</th>\n",
       "      <td>86</td>\n",
       "      <td>86</td>\n",
       "      <td>83</td>\n",
       "      <td>l</td>\n",
       "    </tr>\n",
       "  </tbody>\n",
       "</table>\n",
       "</div>"
      ],
      "text/plain": [
       "    X   Y   Z  W\n",
       "a  78  84  86  h\n",
       "b  85  94  97  i\n",
       "c  96  89  96  j\n",
       "d  80  83  72  k\n",
       "e  86  86  83  l"
      ]
     },
     "execution_count": 16,
     "metadata": {},
     "output_type": "execute_result"
    }
   ],
   "source": [
    "df['W'] = ['h', 'i', 'j', 'k', 'l']\n",
    "df"
   ]
  },
  {
   "cell_type": "markdown",
   "metadata": {},
   "source": [
    "## Index\n",
    "\n",
    "**`Index`** are something of a peculiarity to pandas.\n",
    "First off, they are not the kind of indexes you'll find in SQL, which are used to help the engine speed up certain queries.\n",
    "In pandas, **`Index`** are about lables. This helps with selection (like we did above) and automatic alignment when performing operations between two **DataFrames** or **Series**.\n",
    "\n",
    "You can access the indices of a **DataFrame** or **Series** with the **`.index`** attribute."
   ]
  },
  {
   "cell_type": "code",
   "execution_count": 17,
   "metadata": {
    "ExecuteTime": {
     "end_time": "2021-07-06T16:31:44.530824Z",
     "start_time": "2021-07-06T16:31:44.413148Z"
    },
    "execution": {
     "iopub.execute_input": "2023-11-19T23:06:06.481697Z",
     "iopub.status.busy": "2023-11-19T23:06:06.481347Z",
     "iopub.status.idle": "2023-11-19T23:06:06.557791Z",
     "shell.execute_reply": "2023-11-19T23:06:06.555897Z",
     "shell.execute_reply.started": "2023-11-19T23:06:06.481668Z"
    },
    "tags": []
   },
   "outputs": [
    {
     "data": {
      "text/plain": [
       "Index(['a', 'b', 'c', 'd', 'e'], dtype='object')"
      ]
     },
     "execution_count": 17,
     "metadata": {},
     "output_type": "execute_result"
    }
   ],
   "source": [
    "df.index"
   ]
  },
  {
   "cell_type": "code",
   "execution_count": 18,
   "metadata": {
    "ExecuteTime": {
     "end_time": "2021-07-06T16:31:44.648498Z",
     "start_time": "2021-07-06T16:31:44.545471Z"
    },
    "execution": {
     "iopub.execute_input": "2023-11-19T23:06:06.561313Z",
     "iopub.status.busy": "2023-11-19T23:06:06.559985Z",
     "iopub.status.idle": "2023-11-19T23:06:06.789113Z",
     "shell.execute_reply": "2023-11-19T23:06:06.787615Z",
     "shell.execute_reply.started": "2023-11-19T23:06:06.561235Z"
    },
    "tags": []
   },
   "outputs": [
    {
     "data": {
      "text/plain": [
       "Index(['X', 'Y', 'Z', 'W'], dtype='object')"
      ]
     },
     "execution_count": 18,
     "metadata": {},
     "output_type": "execute_result"
    }
   ],
   "source": [
    "df.columns"
   ]
  },
  {
   "cell_type": "markdown",
   "metadata": {},
   "source": [
    "### Dataframe from CSV\n",
    "\n",
    "In the field of Data Science, **[CSV](https://en.wikipedia.org/wiki/Comma-separated_values)** files are used to store large datasets. To efficiently analyze such datasets, we need to convert them into pandas DataFrame.\n",
    "\n",
    "To create a DataFrame from CSV, we use the **`read_csv('file_name')`** function that takes the file name as input and returns DataFrame as output."
   ]
  },
  {
   "cell_type": "markdown",
   "metadata": {},
   "source": [
    "**Example 1:** \n",
    "\n",
    "Let’s see how to read the **[stockprice_data.csv](https://github.com/milaan9/10_Python_Pandas_Module/blob/main/stockprice_data.csv)** file into the DataFrame and then convert it into Pandas Series\n",
    "\n",
    "<div>\n",
    "<img src=\"images/csvfile1.png\" width=\"300\" />\n",
    "</div>"
   ]
  },
  {
   "cell_type": "code",
   "execution_count": 19,
   "metadata": {
    "ExecuteTime": {
     "end_time": "2021-07-06T16:31:44.928769Z",
     "start_time": "2021-07-06T16:31:44.652403Z"
    },
    "execution": {
     "iopub.execute_input": "2023-11-19T23:06:06.791572Z",
     "iopub.status.busy": "2023-11-19T23:06:06.791207Z",
     "iopub.status.idle": "2023-11-19T23:06:06.943190Z",
     "shell.execute_reply": "2023-11-19T23:06:06.942241Z",
     "shell.execute_reply.started": "2023-11-19T23:06:06.791543Z"
    },
    "tags": []
   },
   "outputs": [
    {
     "data": {
      "text/html": [
       "<div>\n",
       "<style scoped>\n",
       "    .dataframe tbody tr th:only-of-type {\n",
       "        vertical-align: middle;\n",
       "    }\n",
       "\n",
       "    .dataframe tbody tr th {\n",
       "        vertical-align: top;\n",
       "    }\n",
       "\n",
       "    .dataframe thead th {\n",
       "        text-align: right;\n",
       "    }\n",
       "</style>\n",
       "<table border=\"1\" class=\"dataframe\">\n",
       "  <thead>\n",
       "    <tr style=\"text-align: right;\">\n",
       "      <th></th>\n",
       "      <th>Date</th>\n",
       "      <th>Closing price</th>\n",
       "      <th>Return</th>\n",
       "    </tr>\n",
       "  </thead>\n",
       "  <tbody>\n",
       "    <tr>\n",
       "      <th>0</th>\n",
       "      <td>1/1/2020</td>\n",
       "      <td>100</td>\n",
       "      <td>0.010000</td>\n",
       "    </tr>\n",
       "    <tr>\n",
       "      <th>1</th>\n",
       "      <td>2/1/2020</td>\n",
       "      <td>120</td>\n",
       "      <td>0.200000</td>\n",
       "    </tr>\n",
       "    <tr>\n",
       "      <th>2</th>\n",
       "      <td>3/1/2020</td>\n",
       "      <td>130</td>\n",
       "      <td>0.083333</td>\n",
       "    </tr>\n",
       "    <tr>\n",
       "      <th>3</th>\n",
       "      <td>4/1/2020</td>\n",
       "      <td>98</td>\n",
       "      <td>-0.246154</td>\n",
       "    </tr>\n",
       "    <tr>\n",
       "      <th>4</th>\n",
       "      <td>5/1/2020</td>\n",
       "      <td>50</td>\n",
       "      <td>-0.489796</td>\n",
       "    </tr>\n",
       "    <tr>\n",
       "      <th>5</th>\n",
       "      <td>6/1/2020</td>\n",
       "      <td>102</td>\n",
       "      <td>1.040000</td>\n",
       "    </tr>\n",
       "    <tr>\n",
       "      <th>6</th>\n",
       "      <td>7/1/2020</td>\n",
       "      <td>104</td>\n",
       "      <td>0.019608</td>\n",
       "    </tr>\n",
       "    <tr>\n",
       "      <th>7</th>\n",
       "      <td>8/1/2020</td>\n",
       "      <td>150</td>\n",
       "      <td>0.442308</td>\n",
       "    </tr>\n",
       "    <tr>\n",
       "      <th>8</th>\n",
       "      <td>9/1/2020</td>\n",
       "      <td>160</td>\n",
       "      <td>0.066667</td>\n",
       "    </tr>\n",
       "    <tr>\n",
       "      <th>9</th>\n",
       "      <td>10/1/2020</td>\n",
       "      <td>109</td>\n",
       "      <td>-0.318750</td>\n",
       "    </tr>\n",
       "    <tr>\n",
       "      <th>10</th>\n",
       "      <td>11/1/2020</td>\n",
       "      <td>95</td>\n",
       "      <td>-0.128440</td>\n",
       "    </tr>\n",
       "  </tbody>\n",
       "</table>\n",
       "</div>"
      ],
      "text/plain": [
       "         Date  Closing price    Return\n",
       "0    1/1/2020            100  0.010000\n",
       "1    2/1/2020            120  0.200000\n",
       "2    3/1/2020            130  0.083333\n",
       "3    4/1/2020             98 -0.246154\n",
       "4    5/1/2020             50 -0.489796\n",
       "5    6/1/2020            102  1.040000\n",
       "6    7/1/2020            104  0.019608\n",
       "7    8/1/2020            150  0.442308\n",
       "8    9/1/2020            160  0.066667\n",
       "9   10/1/2020            109 -0.318750\n",
       "10  11/1/2020             95 -0.128440"
      ]
     },
     "execution_count": 19,
     "metadata": {},
     "output_type": "execute_result"
    }
   ],
   "source": [
    "import pandas as pd\n",
    "data = pd.read_csv(\"stockprice_data.csv\")\n",
    "data"
   ]
  },
  {
   "cell_type": "code",
   "execution_count": 20,
   "metadata": {
    "ExecuteTime": {
     "end_time": "2021-07-06T16:31:45.056696Z",
     "start_time": "2021-07-06T16:31:44.948300Z"
    },
    "execution": {
     "iopub.execute_input": "2023-11-19T23:06:06.944327Z",
     "iopub.status.busy": "2023-11-19T23:06:06.944088Z",
     "iopub.status.idle": "2023-11-19T23:06:07.194686Z",
     "shell.execute_reply": "2023-11-19T23:06:07.192815Z",
     "shell.execute_reply.started": "2023-11-19T23:06:06.944308Z"
    },
    "tags": []
   },
   "outputs": [
    {
     "data": {
      "text/plain": [
       "0     0.010000\n",
       "1     0.200000\n",
       "2     0.083333\n",
       "3    -0.246154\n",
       "4    -0.489796\n",
       "5     1.040000\n",
       "6     0.019608\n",
       "7     0.442308\n",
       "8     0.066667\n",
       "9    -0.318750\n",
       "10   -0.128440\n",
       "Name: Return, dtype: float64"
      ]
     },
     "execution_count": 20,
     "metadata": {},
     "output_type": "execute_result"
    }
   ],
   "source": [
    "# Use indexing to select the 3rd column (index=2)\n",
    "data1 = data.iloc[:,2]\n",
    "data1"
   ]
  },
  {
   "cell_type": "code",
   "execution_count": 21,
   "metadata": {
    "ExecuteTime": {
     "end_time": "2021-07-06T16:31:45.177792Z",
     "start_time": "2021-07-06T16:31:45.065487Z"
    },
    "execution": {
     "iopub.execute_input": "2023-11-19T23:06:07.201912Z",
     "iopub.status.busy": "2023-11-19T23:06:07.201503Z",
     "iopub.status.idle": "2023-11-19T23:06:07.332263Z",
     "shell.execute_reply": "2023-11-19T23:06:07.330500Z",
     "shell.execute_reply.started": "2023-11-19T23:06:07.201880Z"
    },
    "tags": []
   },
   "outputs": [
    {
     "data": {
      "text/plain": [
       "Date             3/1/2020\n",
       "Closing price         130\n",
       "Return           0.083333\n",
       "Name: 2, dtype: object"
      ]
     },
     "execution_count": 21,
     "metadata": {},
     "output_type": "execute_result"
    }
   ],
   "source": [
    "# Use indexing to select the 3rd row (index=2)\n",
    "data2 = data.iloc[2,:]\n",
    "data2"
   ]
  },
  {
   "cell_type": "markdown",
   "metadata": {},
   "source": [
    "### Get the statistics of DataFrame\n",
    "\n",
    "**`DataFrame.describe()`** is a function that gives mathematical statistics of the data in DataFrame. But, it applies to the columns that contain numeric values.\n",
    "\n",
    "In our example of student DataFrame, it gives descriptive statistics of **'Age'** and **'Marks'** columns only, that includes:\n",
    "\n",
    "1. **count**: Total number of non-null values in the column\n",
    "2. **mean**: an average of numbers\n",
    "3. **std**: a standard deviation value\n",
    "4. **min**: minimum value\n",
    "5. **25%**: 25th percentile\n",
    "6. **50%**: 50th percentile\n",
    "7. **75%**: 75th percentile\n",
    "8. **max**: maximum value\n",
    "\n",
    ">**Note:** Output of **`DataFrame.describe()`** function varies depending on the input DataFrame."
   ]
  },
  {
   "cell_type": "code",
   "execution_count": 22,
   "metadata": {
    "ExecuteTime": {
     "end_time": "2021-07-06T16:31:46.045947Z",
     "start_time": "2021-07-06T16:31:45.786186Z"
    },
    "execution": {
     "iopub.execute_input": "2023-11-19T23:06:07.335749Z",
     "iopub.status.busy": "2023-11-19T23:06:07.334495Z",
     "iopub.status.idle": "2023-11-19T23:06:07.474305Z",
     "shell.execute_reply": "2023-11-19T23:06:07.473287Z",
     "shell.execute_reply.started": "2023-11-19T23:06:07.335690Z"
    },
    "tags": []
   },
   "outputs": [
    {
     "data": {
      "text/html": [
       "<div>\n",
       "<style scoped>\n",
       "    .dataframe tbody tr th:only-of-type {\n",
       "        vertical-align: middle;\n",
       "    }\n",
       "\n",
       "    .dataframe tbody tr th {\n",
       "        vertical-align: top;\n",
       "    }\n",
       "\n",
       "    .dataframe thead th {\n",
       "        text-align: right;\n",
       "    }\n",
       "</style>\n",
       "<table border=\"1\" class=\"dataframe\">\n",
       "  <thead>\n",
       "    <tr style=\"text-align: right;\">\n",
       "      <th></th>\n",
       "      <th>Age</th>\n",
       "      <th>Marks</th>\n",
       "    </tr>\n",
       "  </thead>\n",
       "  <tbody>\n",
       "    <tr>\n",
       "      <th>count</th>\n",
       "      <td>3.0</td>\n",
       "      <td>3.000000</td>\n",
       "    </tr>\n",
       "    <tr>\n",
       "      <th>mean</th>\n",
       "      <td>20.0</td>\n",
       "      <td>84.813333</td>\n",
       "    </tr>\n",
       "    <tr>\n",
       "      <th>std</th>\n",
       "      <td>1.0</td>\n",
       "      <td>6.874484</td>\n",
       "    </tr>\n",
       "    <tr>\n",
       "      <th>min</th>\n",
       "      <td>19.0</td>\n",
       "      <td>77.800000</td>\n",
       "    </tr>\n",
       "    <tr>\n",
       "      <th>25%</th>\n",
       "      <td>19.5</td>\n",
       "      <td>81.450000</td>\n",
       "    </tr>\n",
       "    <tr>\n",
       "      <th>50%</th>\n",
       "      <td>20.0</td>\n",
       "      <td>85.100000</td>\n",
       "    </tr>\n",
       "    <tr>\n",
       "      <th>75%</th>\n",
       "      <td>20.5</td>\n",
       "      <td>88.320000</td>\n",
       "    </tr>\n",
       "    <tr>\n",
       "      <th>max</th>\n",
       "      <td>21.0</td>\n",
       "      <td>91.540000</td>\n",
       "    </tr>\n",
       "  </tbody>\n",
       "</table>\n",
       "</div>"
      ],
      "text/plain": [
       "        Age      Marks\n",
       "count   3.0   3.000000\n",
       "mean   20.0  84.813333\n",
       "std     1.0   6.874484\n",
       "min    19.0  77.800000\n",
       "25%    19.5  81.450000\n",
       "50%    20.0  85.100000\n",
       "75%    20.5  88.320000\n",
       "max    21.0  91.540000"
      ]
     },
     "execution_count": 22,
     "metadata": {},
     "output_type": "execute_result"
    }
   ],
   "source": [
    "# Example\n",
    "student_dict = {'Name': ['Joe', 'Nat', 'Harry'], \n",
    "                'Age': [20, 21, 19], \n",
    "                'Marks': [85.10, 77.80, 91.54]}\n",
    "student_df = pd.DataFrame(student_dict)\n",
    "\n",
    "# get dataframe description\n",
    "student_df.describe()"
   ]
  },
  {
   "cell_type": "markdown",
   "metadata": {},
   "source": [
    "## DataFrame Attributes\n",
    "\n",
    "DataFrame has provided many built-in attributes. Attributes do not modify the underlying data, unlike functions, but it is used to get more details about the DataFrame."
   ]
  },
  {
   "cell_type": "markdown",
   "metadata": {},
   "source": [
    "Following are majorly used attributes of the DataFrame:\n",
    "\n",
    "| Attribute | Description |\n",
    "|:---- |:---- |\n",
    "| **`DataFrame.index`**   | **It gives the Range of the row index** | \n",
    "| **`DataFrame.columns`** | **It gives a list of column labels** |\n",
    "| **`DataFrame.dtypes`**  | **It gives column names and their data type** | \n",
    "| **`DataFrame.values`**  | **It gives all the rows in DataFrame** |\n",
    "| **`DataFrame.empty`**   | **It is used to check if the DataFrame is empty** | \n",
    "| **`DataFrame.size`**    | **It gives a total number of values in DataFrame** |\n",
    "| **`DataFrame.shape`**   | **It a number of rows and columns in DataFrame** | "
   ]
  },
  {
   "cell_type": "code",
   "execution_count": 23,
   "metadata": {
    "ExecuteTime": {
     "end_time": "2021-07-06T16:31:46.124074Z",
     "start_time": "2021-07-06T16:31:46.050834Z"
    },
    "execution": {
     "iopub.execute_input": "2023-11-19T23:06:07.475889Z",
     "iopub.status.busy": "2023-11-19T23:06:07.475643Z",
     "iopub.status.idle": "2023-11-19T23:06:07.514568Z",
     "shell.execute_reply": "2023-11-19T23:06:07.512362Z",
     "shell.execute_reply.started": "2023-11-19T23:06:07.475870Z"
    },
    "tags": []
   },
   "outputs": [
    {
     "name": "stdout",
     "output_type": "stream",
     "text": [
      "DataFrame: \n",
      "     Name  Age  Marks\n",
      "0    Joe   20  85.10\n",
      "1    Nat   21  77.80\n",
      "2  Harry   19  91.54\n",
      "\n",
      "DataFrame Index: \n",
      " RangeIndex(start=0, stop=3, step=1)\n",
      "\n",
      "DataFrame Columns: \n",
      " Index(['Name', 'Age', 'Marks'], dtype='object')\n",
      "\n",
      "DataFrame Shape: \n",
      " (3, 3)\n",
      "\n",
      "DataFrame Values: \n",
      " [['Joe' 20 85.1]\n",
      " ['Nat' 21 77.8]\n",
      " ['Harry' 19 91.54]]\n"
     ]
    }
   ],
   "source": [
    "# Example:\n",
    "\n",
    "import pandas as pd\n",
    "\n",
    "# Create DataFrame from dict\n",
    "student_dict = {'Name': ['Joe', 'Nat', 'Harry'], 'Age': [20, 21, 19], 'Marks': [85.10, 77.80, 91.54]}\n",
    "\n",
    "student_df = pd.DataFrame(student_dict)\n",
    "\n",
    "# Some examples\n",
    "print(\"DataFrame: \\n\", student_df)\n",
    "\n",
    "print(\"\\nDataFrame Index: \\n\", student_df.index)\n",
    "print(\"\\nDataFrame Columns: \\n\", student_df.columns)\n",
    "\n",
    "print(\"\\nDataFrame Shape: \\n\", student_df.shape)\n",
    "\n",
    "print(\"\\nDataFrame Values: \\n\", student_df.values)"
   ]
  },
  {
   "cell_type": "markdown",
   "metadata": {},
   "source": [
    "## DataFrame selection \n",
    "\n",
    "While dealing with the vast data in DataFrame, a data analyst always needs to select a particular row or column for the analysis. In such cases, functions that can choose a set of rows or columns like top rows, bottom rows, or data within an index range play a significant role."
   ]
  },
  {
   "cell_type": "markdown",
   "metadata": {},
   "source": [
    "Following are the functions that help in selecting the subset of the DataFrame:\n",
    "\n",
    "| Attribute | Description |\n",
    "|:---- |:---- |\n",
    "| **`DataFrame.head(n)`**  | **It is used to select top ‘n’ rows in DataFrame.** | \n",
    "| **`DataFrame.tail(n)`**  | **It is used to select bottom ‘n’ rows in DataFrame.** | \n",
    "| **`DataFrame.at`**       | **It is used to get and set the particular value of DataFrame using row and column labels.** | \n",
    "| **`DataFrame.iat`**      | **It is used to get and set the particular value of DataFrame using row and column index positions.** | \n",
    "| **`DataFrame.get(key)`** | **It is used to get the value of a key in DataFrame where Key is the column name.** | \n",
    "| **`DataFrame.loc()`**    | **It is used to select a group of data based on the row and column labels. It is used for slicing and filtering of the DataFrame.** | \n",
    "| **`DataFrame.iloc()`**   | **It is used to select a group of data based on the row and column index position. Use it for slicing and filtering the DataFrame.** | "
   ]
  },
  {
   "cell_type": "code",
   "execution_count": 24,
   "metadata": {
    "ExecuteTime": {
     "end_time": "2021-07-06T16:31:46.358448Z",
     "start_time": "2021-07-06T16:31:46.134819Z"
    },
    "execution": {
     "iopub.execute_input": "2023-11-19T23:06:07.518311Z",
     "iopub.status.busy": "2023-11-19T23:06:07.516954Z",
     "iopub.status.idle": "2023-11-19T23:06:07.592516Z",
     "shell.execute_reply": "2023-11-19T23:06:07.590501Z",
     "shell.execute_reply.started": "2023-11-19T23:06:07.518253Z"
    },
    "scrolled": true,
    "tags": []
   },
   "outputs": [
    {
     "name": "stdout",
     "output_type": "stream",
     "text": [
      "DataFrame :      Name  Age  Marks\n",
      "0    Joe   20  85.10\n",
      "1    Nat   21  77.80\n",
      "2  Harry   19  91.54\n",
      "\n",
      " Top 2 rows:\n",
      "   Name  Age  Marks\n",
      "0  Joe   20   85.1\n",
      "1  Nat   21   77.8\n",
      "\n",
      " Bottom 2 rows:\n",
      "     Name  Age  Marks\n",
      "1    Nat   21  77.80\n",
      "2  Harry   19  91.54\n"
     ]
    }
   ],
   "source": [
    "# Example\n",
    "\n",
    "import pandas as pd\n",
    "\n",
    "# Create DataFrame from dict\n",
    "student_dict = {'Name': ['Joe', 'Nat', 'Harry'], 'Age': [20, 21, 19], 'Marks': [85.10, 77.80, 91.54]}\n",
    "\n",
    "student_df = pd.DataFrame(student_dict)\n",
    "\n",
    "# display dataframe\n",
    "print(\"DataFrame : \", student_df)\n",
    "\n",
    "# select top 2 rows\n",
    "print(\"\\n Top 2 rows:\\n\", student_df.head(2))\n",
    "\n",
    "# select bottom 2 rows\n",
    "print(\"\\n Bottom 2 rows:\\n\", student_df.tail(2))"
   ]
  },
  {
   "cell_type": "markdown",
   "metadata": {},
   "source": [
    "## DataFrame modification\n",
    "\n",
    "DataFrame is similar to any excel sheet or a database table where we need to insert new data or **[drop columns]()** and rows if not required. Such data manipulation operations are very common on a DataFrame.\n",
    "\n",
    "In this section, we discuss the data manipulation functions of the DataFrame."
   ]
  },
  {
   "cell_type": "markdown",
   "metadata": {},
   "source": [
    "### Insert columns\n",
    "\n",
    "Sometimes it is required to add a new column in the DataFrame. **`DataFrame.insert()`** function is used to insert a new column in DataFrame at the specified position.\n",
    "\n",
    "In the below example, we insert a new column **'Class'** as a third new column in the DataFrame with default value ‘**A**’ using the syntax:\n",
    "\n",
    "```python\n",
    "df.insert(loc = col_position, column = new_col_name, value = default_value)\n",
    "```"
   ]
  },
  {
   "cell_type": "code",
   "execution_count": 25,
   "metadata": {
    "ExecuteTime": {
     "end_time": "2021-07-06T16:31:46.451221Z",
     "start_time": "2021-07-06T16:31:46.365288Z"
    },
    "execution": {
     "iopub.execute_input": "2023-11-19T23:06:07.596141Z",
     "iopub.status.busy": "2023-11-19T23:06:07.594840Z",
     "iopub.status.idle": "2023-11-19T23:06:07.610784Z",
     "shell.execute_reply": "2023-11-19T23:06:07.609660Z",
     "shell.execute_reply.started": "2023-11-19T23:06:07.596082Z"
    },
    "scrolled": true,
    "tags": []
   },
   "outputs": [
    {
     "name": "stdout",
     "output_type": "stream",
     "text": [
      "    Name  Age  Marks\n",
      "0    Joe   20  85.10\n",
      "1    Nat   21  77.80\n",
      "2  Harry   19  91.54\n",
      "Updated dataframe:\n",
      "     Name  Age Class  Marks\n",
      "0    Joe   20     A  85.10\n",
      "1    Nat   21     A  77.80\n",
      "2  Harry   19     A  91.54\n"
     ]
    }
   ],
   "source": [
    "# Example:\n",
    "\n",
    "import pandas as pd\n",
    "\n",
    "# Create DataFrame from dict\n",
    "student_dict = {'Name': ['Joe', 'Nat', 'Harry'], 'Age': [20, 21, 19], 'Marks': [85.10, 77.80, 91.54]}\n",
    "student_df = pd.DataFrame(student_dict)\n",
    "print(student_df)\n",
    "\n",
    "# insert new column in dataframe and display\n",
    "student_df.insert(loc=2, column=\"Class\", value='A')\n",
    "print(\"Updated dataframe:\\n\", student_df)"
   ]
  },
  {
   "cell_type": "markdown",
   "metadata": {},
   "source": [
    "### Apply condition\n",
    "\n",
    "We may need to update the value in the DataFrame based on some condition. **`DataFrame.where()`** function is used to replace the value of DataFrame, where the condition is **`False`**.\n",
    "\n",
    "**Syntax:**\n",
    "```python\n",
    "where(filter, other=new_value)\n",
    "```\n",
    "\n",
    "It applies the filter condition on all the rows in the DataFrame, as follows:\n",
    "\n",
    "* If the filter condition returns **`False`**, then it updates the row with the value specified in **`other`** parameter.\n",
    "* If the filter condition returns **`True`**, then it does not update the row."
   ]
  },
  {
   "cell_type": "markdown",
   "metadata": {},
   "source": [
    "In the below example, we want to replace the student marks with ‘0’ where marks are less than 80. We pass a filter condition **`df['Marks'] > 80`** to the function."
   ]
  },
  {
   "cell_type": "code",
   "execution_count": 26,
   "metadata": {
    "ExecuteTime": {
     "end_time": "2021-07-06T16:31:47.244185Z",
     "start_time": "2021-07-06T16:31:46.719287Z"
    },
    "execution": {
     "iopub.execute_input": "2023-11-19T23:06:07.611992Z",
     "iopub.status.busy": "2023-11-19T23:06:07.611784Z",
     "iopub.status.idle": "2023-11-19T23:06:07.652401Z",
     "shell.execute_reply": "2023-11-19T23:06:07.651012Z",
     "shell.execute_reply.started": "2023-11-19T23:06:07.611975Z"
    },
    "scrolled": true,
    "tags": []
   },
   "outputs": [
    {
     "name": "stdout",
     "output_type": "stream",
     "text": [
      "    Name  Age  Marks\n",
      "0    Joe   20  85.10\n",
      "1    Nat   21  77.80\n",
      "2  Harry   19  91.54\n",
      "\n",
      "Updated dataframe:\n",
      "     Name  Age  Marks\n",
      "0    Joe   20  85.10\n",
      "1    Nat   21   0.00\n",
      "2  Harry   19  91.54\n"
     ]
    }
   ],
   "source": [
    "import pandas as pd\n",
    "\n",
    "# Create DataFrame from dict\n",
    "student_dict = {'Name': ['Joe', 'Nat', 'Harry'], 'Age': [20, 21, 19], 'Marks': [85.10, 77.80, 91.54]}\n",
    "\n",
    "student_df = pd.DataFrame(student_dict)\n",
    "print(student_df)\n",
    "\n",
    "# Define filter condition\n",
    "filter = student_df['Marks'] > 80\n",
    "\n",
    "student_df['Marks'].where(filter, other=0, inplace=True)\n",
    "print(\"\\nUpdated dataframe:\\n\", student_df)"
   ]
  },
  {
   "cell_type": "markdown",
   "metadata": {},
   "source": [
    "## DataFrame rename columns\n",
    "\n",
    "While working with DataFrame, we may need to **[rename the column](https://github.com/milaan9/10_Python_Pandas_Module/blob/main/001_Python_Pandas_Methods/007_Python_Pandas_DataFrame_rename_columns.ipynb)** or row index. We can use **`DataFrame.rename()`** function to alter the row or column labels.\n",
    "\n",
    "We need to pass a dictionary of key-value pairs as input to the function. Where key of the **`dict`** is the existing column label, and the value of **`dict`** is the new column label.\n",
    "\n",
    "```python\n",
    "df.rename(columns = {'old':'new'})\n",
    "```\n",
    "\n",
    "It can be used to rename single or multiple columns and row labels."
   ]
  },
  {
   "cell_type": "markdown",
   "metadata": {},
   "source": [
    "In the below example, we rename column '**Marks**' to '**Percentage**' in the student DataFrame."
   ]
  },
  {
   "cell_type": "code",
   "execution_count": 27,
   "metadata": {
    "ExecuteTime": {
     "end_time": "2021-07-06T16:31:47.430221Z",
     "start_time": "2021-07-06T16:31:47.316454Z"
    },
    "execution": {
     "iopub.execute_input": "2023-11-19T23:06:07.653477Z",
     "iopub.status.busy": "2023-11-19T23:06:07.653247Z",
     "iopub.status.idle": "2023-11-19T23:06:07.840125Z",
     "shell.execute_reply": "2023-11-19T23:06:07.838762Z",
     "shell.execute_reply.started": "2023-11-19T23:06:07.653458Z"
    },
    "tags": []
   },
   "outputs": [
    {
     "name": "stdout",
     "output_type": "stream",
     "text": [
      "    Name  Age  Marks\n",
      "0    Joe   20  85.10\n",
      "1    Nat   21  77.80\n",
      "2  Harry   19  91.54\n",
      "\n",
      "Updated dataframe:\n",
      "     Name  Age  Percentage\n",
      "0    Joe   20       85.10\n",
      "1    Nat   21       77.80\n",
      "2  Harry   19       91.54\n"
     ]
    }
   ],
   "source": [
    "import pandas as pd\n",
    "\n",
    "# Create DataFrame from dict\n",
    "student_dict = {'Name': ['Joe', 'Nat', 'Harry'], 'Age': [20, 21, 19], 'Marks': [85.10, 77.80, 91.54]}\n",
    "\n",
    "student_df = pd.DataFrame(student_dict)\n",
    "print(student_df)\n",
    "\n",
    "# rename column\n",
    "student_df = student_df.rename(columns={'Marks': 'Percentage'})\n",
    "print(\"\\nUpdated dataframe:\\n\", student_df)"
   ]
  },
  {
   "cell_type": "markdown",
   "metadata": {},
   "source": [
    "## DataFrame Join\n",
    "\n",
    "In most of the use cases of Data Analytics, data gathered from multiple sources, and we need to combine that data for further analysis. In such instances, join and merge operations are required.\n",
    "\n",
    "**`DataFrame.join()`** function is used to join one DataFrame with another DataFrame as **`df1.join(df2)`**"
   ]
  },
  {
   "cell_type": "markdown",
   "metadata": {},
   "source": [
    "In the below example, we joined two different DataFrames to create a new resultant DataFrame."
   ]
  },
  {
   "cell_type": "code",
   "execution_count": 28,
   "metadata": {
    "ExecuteTime": {
     "end_time": "2021-07-06T16:31:47.608934Z",
     "start_time": "2021-07-06T16:31:47.442917Z"
    },
    "execution": {
     "iopub.execute_input": "2023-11-19T23:06:07.841806Z",
     "iopub.status.busy": "2023-11-19T23:06:07.841465Z",
     "iopub.status.idle": "2023-11-19T23:06:07.928502Z",
     "shell.execute_reply": "2023-11-19T23:06:07.927252Z",
     "shell.execute_reply.started": "2023-11-19T23:06:07.841777Z"
    },
    "tags": []
   },
   "outputs": [
    {
     "name": "stdout",
     "output_type": "stream",
     "text": [
      "  Name  Age\n",
      "0  Joe   20\n",
      "1  Nat   21\n",
      "   Marks\n",
      "0   85.1\n",
      "1   77.8\n",
      "\n",
      "Joined dataframe:\n",
      "   Name  Age  Marks\n",
      "0  Joe   20   85.1\n",
      "1  Nat   21   77.8\n"
     ]
    }
   ],
   "source": [
    "import pandas as pd\n",
    "\n",
    "# create dataframe from dict \n",
    "student_dict = {'Name': ['Joe', 'Nat'], 'Age': [20, 21]}\n",
    "student_df = pd.DataFrame(student_dict)\n",
    "print(student_df)\n",
    "\n",
    "# create dataframe from dict \n",
    "marks_dict = {'Marks': [85.10, 77.80]}\n",
    "marks_df = pd.DataFrame(marks_dict)\n",
    "print(marks_df)\n",
    "\n",
    "# join dfs\n",
    "joined_df = student_df.join(marks_df)\n",
    "print(\"\\nJoined dataframe:\\n\", joined_df)"
   ]
  },
  {
   "cell_type": "markdown",
   "metadata": {},
   "source": [
    "## DataFrame GroupBy\n",
    "\n",
    "**`GroupBy`** operation means splitting the data and then combining them based on some condition. Large data can be divided into logical groups to analyze it.\n",
    "\n",
    "**`DataFrame.groupby()`** function groups the DataFrame row-wise or column-wise based on the condition."
   ]
  },
  {
   "cell_type": "markdown",
   "metadata": {},
   "source": [
    "If we want to analyze each class’s average marks, we need to combine the student data based on the ‘Class’ column and calculate its average using **`df.groupby(col_label).mean()`** as shown in the below example."
   ]
  },
  {
   "cell_type": "code",
   "execution_count": 29,
   "metadata": {
    "ExecuteTime": {
     "end_time": "2021-07-06T16:31:47.771530Z",
     "start_time": "2021-07-06T16:31:47.625535Z"
    },
    "execution": {
     "iopub.execute_input": "2023-11-19T23:06:07.929810Z",
     "iopub.status.busy": "2023-11-19T23:06:07.929544Z",
     "iopub.status.idle": "2023-11-19T23:06:08.051598Z",
     "shell.execute_reply": "2023-11-19T23:06:08.050439Z",
     "shell.execute_reply.started": "2023-11-19T23:06:07.929787Z"
    },
    "tags": []
   },
   "outputs": [
    {
     "name": "stdout",
     "output_type": "stream",
     "text": [
      "    Name Class  Marks\n",
      "0    Joe     A  85.10\n",
      "1    Nat     B  77.80\n",
      "2  Harry     A  91.54\n",
      "       Marks\n",
      "Class       \n",
      "A      88.32\n",
      "B      77.80\n"
     ]
    }
   ],
   "source": [
    "import pandas as pd\n",
    "\n",
    "# Create DataFrame from dict\n",
    "student_dict = {'Name': ['Joe', 'Nat', 'Harry'], 'Class': ['A', 'B', 'A'], 'Marks': [85.10, 77.80, 91.54]}\n",
    "student_df = pd.DataFrame(student_dict)\n",
    "print(student_df)\n",
    "\n",
    "# apply group by \n",
    "student_df = student_df.groupby('Class').mean(numeric_only=True)\n",
    "print(student_df)"
   ]
  },
  {
   "cell_type": "markdown",
   "metadata": {},
   "source": [
    "## DataFrame Sorting\n",
    "\n",
    "Data Analyst always needs to perform different operations on the underlying data like merge, sort, concatenate, etc. The most frequently used operation is the sorting of data. Sorted data becomes easy to analyze and inferred.\n",
    "\n",
    "The **`DataFrame.sort_values()`** function is used to sort the DataFrame using one or more columns in ascending (default) or descending order."
   ]
  },
  {
   "cell_type": "markdown",
   "metadata": {},
   "source": [
    "In the below example, we sort the student data based on the '**Marks**'."
   ]
  },
  {
   "cell_type": "code",
   "execution_count": 30,
   "metadata": {
    "ExecuteTime": {
     "end_time": "2021-07-06T16:31:48.006395Z",
     "start_time": "2021-07-06T16:31:47.884810Z"
    },
    "execution": {
     "iopub.execute_input": "2023-11-19T23:06:08.053373Z",
     "iopub.status.busy": "2023-11-19T23:06:08.053027Z",
     "iopub.status.idle": "2023-11-19T23:06:08.412048Z",
     "shell.execute_reply": "2023-11-19T23:06:08.410908Z",
     "shell.execute_reply.started": "2023-11-19T23:06:08.053346Z"
    },
    "tags": []
   },
   "outputs": [
    {
     "name": "stdout",
     "output_type": "stream",
     "text": [
      "    Name  Age  Marks\n",
      "0    Joe   20  85.10\n",
      "1    Nat   21  77.80\n",
      "2  Harry   19  91.54\n",
      "    Name  Age  Marks\n",
      "2  Harry   19  91.54\n",
      "0    Joe   20  85.10\n",
      "1    Nat   21  77.80\n"
     ]
    }
   ],
   "source": [
    "import pandas as pd\n",
    "\n",
    "# Create DataFrame from dict\n",
    "student_dict = {'Name': ['Joe', 'Nat', 'Harry'], 'Age': [20, 21, 19], 'Marks': [85.10, 77.80, 91.54]}\n",
    "student_df = pd.DataFrame(student_dict)\n",
    "print(student_df)\n",
    "\n",
    "# Resort by Marks\n",
    "student_df = student_df.sort_values(by=['Marks'], ascending=False)\n",
    "print(student_df)"
   ]
  },
  {
   "cell_type": "markdown",
   "metadata": {},
   "source": [
    "## DataFrame conversion\n",
    "\n",
    "After all the processing on DataFrame, we will get the expected data in the DataFrame. But, we may require to convert the DataFrame back to its original formats like CSV file or **`dict`**, or we may need to convert it to another format for further action like storing it into the Database as SQL table format.\n",
    "\n",
    "Pandas have provided plenty of functions to convert the DataFrames into many different formats."
   ]
  },
  {
   "cell_type": "markdown",
   "metadata": {},
   "source": [
    "For example, **`DataFrame.to_dict()`** function is used to converts the **[DataFrame into a Python dictionary](https://github.com/milaan9/10_Python_Pandas_Module/blob/main/001_Python_Pandas_Methods/008_Python_Pandas_DataFrame_to_Python_dictionary.ipynb)** object.\n",
    "\n",
    "Below is the example of a DataFrame which we need to convert into the Python **`dict`**.\n",
    "\n",
    "```python\n",
    "    Name  Class Marks\n",
    "0    Joe     A  85.10\n",
    "1    Nat     B  77.80\n",
    "2  Harry     A  91.54\n",
    "```"
   ]
  },
  {
   "cell_type": "markdown",
   "metadata": {},
   "source": [
    "Let’s see how we can use **`DataFrame.to_dict()`** function to convert the DataFrame into the Python dictionary. By default, it creates the dictionary with keys as column labels and values as mapping of the row index and data."
   ]
  },
  {
   "cell_type": "code",
   "execution_count": 31,
   "metadata": {
    "execution": {
     "iopub.execute_input": "2023-11-19T23:06:08.413521Z",
     "iopub.status.busy": "2023-11-19T23:06:08.413180Z",
     "iopub.status.idle": "2023-11-19T23:06:08.478105Z",
     "shell.execute_reply": "2023-11-19T23:06:08.476075Z",
     "shell.execute_reply.started": "2023-11-19T23:06:08.413493Z"
    },
    "tags": []
   },
   "outputs": [
    {
     "name": "stdout",
     "output_type": "stream",
     "text": [
      "{'Name': {2: 'Harry', 0: 'Joe', 1: 'Nat'}, 'Age': {2: 19, 0: 20, 1: 21}, 'Marks': {2: 91.54, 0: 85.1, 1: 77.8}}\n"
     ]
    }
   ],
   "source": [
    "# convert dataframe to dict\n",
    "student_dict = student_df.to_dict()\n",
    "print(student_dict)"
   ]
  },
  {
   "cell_type": "markdown",
   "metadata": {},
   "source": [
    "# Summary\n",
    "\n",
    "There are loads of functions in Pandas. Here is a list of some that may be useful:"
   ]
  },
  {
   "cell_type": "markdown",
   "metadata": {},
   "source": [
    "## Create Test Objects\n",
    "\n",
    "| Operator | Description |\n",
    "|:---- |:---- |\n",
    "| **`pd.DataFrame(np.random.rand(20,5))`** | **5 columns and 20 rows of random floats** | \n",
    "| **`pd.Series(my_list)`** | **Create a series from an iterable my_list** | \n",
    "| **`df.index = pd.date_range('1900/1/30', periods=df.shape[0])`** | **Add a date index** | "
   ]
  },
  {
   "cell_type": "markdown",
   "metadata": {
    "heading_collapsed": true
   },
   "source": [
    "## Viewing/Inspecting Data\n",
    "\n",
    "| Operator | Description |\n",
    "|:---- |:---- |\n",
    "| **`df.head(n)`** | **First n rows of the DataFrame** | \n",
    "| **`df.tail(n)`** | **Last n rows of the DataFrame** | \n",
    "| **`df.shape`** | **Number of rows and columns** | \n",
    "| **`df.info()`** | **Index, Datatype and Memory information** | \n",
    "| **`df.describe()`** | **Summary statistics for numerical columns** | \n",
    "| **`s.value_counts(dropna=False)`** | **View unique values and counts** | \n",
    "| **`df.apply(pd.Series.value_counts)`** | **Unique values and counts for all columns** | "
   ]
  },
  {
   "cell_type": "markdown",
   "metadata": {},
   "source": [
    "## Selection\n",
    "\n",
    "| Operator | Description |\n",
    "|:---- |:---- |\n",
    "| **`df[col]`** | **Returns column with label col as Series** | \n",
    "| **`df[[col1, col2]]`** | **Returns columns as a new DataFrame** | \n",
    "| **`s.iloc[0]`** | **Selection by position** | \n",
    "| **`s.loc['index_one']`** | **Selection by index** | \n",
    "| **`df.iloc[0,:]`** | **First row** | \n",
    "| **`df.iloc[0,0]`** | **First element of first column** | "
   ]
  },
  {
   "cell_type": "markdown",
   "metadata": {},
   "source": [
    "## Data Cleaning\n",
    "\n",
    "| Operator | Description |\n",
    "|:---- |:---- |\n",
    "| **`df.columns = ['a','b','c']`** | **Rename columns** | \n",
    "| **`pd.isnull()`** | **Checks for null Values, Returns Boolean Arrray** | \n",
    "| **`pd.notnull()`** | **Opposite of pd.isnull()** | \n",
    "| **`df.dropna()`** | **Drop all rows that contain null values** | \n",
    "| **`df.dropna(axis=1)`** | **Drop all columns that contain null values** | \n",
    "| **`df.dropna(axis=1,thresh=n)`** | **Drop all rows have have less than n non null values** | \n",
    "| **`df.fillna(x)`** | **Replace all null values with x** | \n",
    "| **`s.fillna(s.mean())`** | **Replace all null values with the mean** | \n",
    "| **`s.astype(float)`** | **Convert the datatype of the series to float** | \n",
    "| **`s.replace(1,'one')`** | **Replace all values equal to 1 with 'one'** | \n",
    "| **`s.replace([2,3],['two', 'three'])`** | **Replace all 2 with 'two' and 3 with 'three'** | \n",
    "| **`df.rename(columns=lambda x: x + 1)`** | **Mass renaming of columns** | \n",
    "| **`df.rename(columns={'old_name': 'new_ name'})`** | **Selective renaming** | \n",
    "| **`df.set_index('column_one')`** | **Change the index** | \n",
    "| **`df.rename(index=lambda x: x + 1)`** | **Mass renaming of index** | "
   ]
  },
  {
   "cell_type": "markdown",
   "metadata": {},
   "source": [
    "## Filter, Sort, and Groupby\n",
    "\n",
    "| Operator | Description |\n",
    "|:---- |:---- |\n",
    "| **`df[df[col] > 0.6]`** | **Rows where the column col is greater than 0.6** | \n",
    "| **`df[(df[col] > 0.6) & (df[col] < 0.8)]`** | **Rows where 0.8 > col > 0.6** | \n",
    "| **`df.sort_values(col1)`** | **Sort values by col1 in ascending order** | \n",
    "| **`df.sort_values(col2,ascending=False)`** | **Sort values by col2 in descending order.5** | \n",
    "| **`df.sort_values([col1,col2],ascending=[True,False])`** | **Sort values by col1 in ascending order then col2 in descending order** | \n",
    "| **`df.groupby(col)`** | **Returns a groupby object for values from one column** | \n",
    "| **`df.groupby([col1,col2])`** | **Returns groupby object for values from multiple columns** | \n",
    "| **`df.groupby(col1)[col2]`** | **Returns the mean of the values in col2, grouped by the values in col1** | \n",
    "| **`df.pivot_table(index=col1,values=[col2,col3],aggfunc=mean)`** | **Create a pivot table that groups by col1 and calculates the mean of col2 and col3** | \n",
    "| **`df.groupby(col1).agg(np.mean)`** | **Find the average across all columns for every unique col1 group** | \n",
    "| **`df.apply(np.mean)`** | **Apply the function np.mean() across each column** | \n",
    "| **`nf.apply(np.max,axis=1)`** | **Apply the function np.max() across each row** | "
   ]
  },
  {
   "cell_type": "markdown",
   "metadata": {},
   "source": [
    "## Join/Combine\n",
    "\n",
    "| Operator | Description |\n",
    "|:---- |:---- |\n",
    "| **`df1.append(df2)`** | **Add the rows in df1 to the end of df2 (columns should be identical)** | \n",
    "| **`pd.concat([df1, df2],axis=1)`** | **Add the columns in df1 to the end of df2 (rows should be identical)** | \n",
    "| **`df1.join(df2,on=col1, how='inner')`** | **SQL-style join the columns in df1 with the columns on df2 where the rows for col have identical values. The 'how' can be 'left', 'right', 'outer' or 'inner'** | "
   ]
  },
  {
   "cell_type": "markdown",
   "metadata": {},
   "source": [
    "## Statistics\n",
    "\n",
    "| Operator | Description |\n",
    "|:---- |:---- |\n",
    "| **`df.describe()`** | **Summary statistics for numerical columns** | \n",
    "| **`df.mean()`** | **Returns the mean of all columns** | \n",
    "| **`df.corr()`** | **Returns the correlation between columns in a DataFrame** | \n",
    "| **`df.count()`** | **Returns the number of non-null values in each DataFrame column** | \n",
    "| **`df.max()`** | **Returns the highest value in each column** | \n",
    "| **`df.min()`** | **Returns the lowest value in each column** | \n",
    "| **`df.median()`** | **Returns the median of each column** | \n",
    "| **`df.std()`** | **Returns the standard deviation of each column** |"
   ]
  },
  {
   "cell_type": "markdown",
   "metadata": {},
   "source": [
    "## Importing Data\n",
    "\n",
    "| Operator | Description |\n",
    "|:---- |:---- |\n",
    "| **`pd.read_csv(filename)`** | **From a CSV file** | \n",
    "| **`pd.read_table(filename)`** | **From a delimited text file (like TSV)** | \n",
    "| **`pd.read_excel(filename)`** | **From an Excel file** | \n",
    "| **`pd.read_sql(query, connection_object)`** | **Read from a SQL table/database** | \n",
    "| **`pd.read_json(json_string)`** | **Read from a JSON formatted string, URL or file.** | \n",
    "| **`pd.read_html(url)`** | **Parses an html URL, string or file and extracts tables to a list of dataframes** | \n",
    "| **`pd.read_clipboard()`** | **Takes the contents of your clipboard and passes it to read_table()** | \n",
    "| **`pd.DataFrame(dict)`** | **From a dict, keys for columns names, values for data as lists** |"
   ]
  },
  {
   "cell_type": "markdown",
   "metadata": {},
   "source": [
    "## Exporting Data\n",
    "\n",
    "| Operator | Description |\n",
    "|:---- |:---- |\n",
    "| **`df.to_csv(filename)`** | **Write to a CSV file** | \n",
    "| **`df.to_excel(filename)`** | **Write to an Excel file** | \n",
    "| **`df.to_sql(table_name, connection_object)`** | **Write to a SQL table** | \n",
    "| **`df.to_json(filename)`** | **Write to a file in JSON format** |"
   ]
  },
  {
   "cell_type": "markdown",
   "metadata": {},
   "source": [
    "## Challenge\n",
    "\n",
    "**5. Download `Challenge_31.ipynb` from Teams.**\n",
    "\n",
    "**6. Upload this file into your own *Project* on Deepnote by dragging the `Challenge_31.ipynb` file onto the Notebooks tab on the left-hand side.** \n",
    "\n",
    "**7. Use this notebook to complete Challenge 31 in Deepnote.**"
   ]
  },
  {
   "cell_type": "code",
   "execution_count": null,
   "metadata": {},
   "outputs": [],
   "source": []
  }
 ],
 "metadata": {
  "hide_input": false,
  "kernelspec": {
   "display_name": "Python 3 (ipykernel)",
   "language": "python",
   "name": "python3"
  },
  "language_info": {
   "codemirror_mode": {
    "name": "ipython",
    "version": 3
   },
   "file_extension": ".py",
   "mimetype": "text/x-python",
   "name": "python",
   "nbconvert_exporter": "python",
   "pygments_lexer": "ipython3",
   "version": "3.10.12"
  },
  "toc": {
   "base_numbering": 1,
   "nav_menu": {},
   "number_sections": true,
   "sideBar": true,
   "skip_h1_title": false,
   "title_cell": "Table of Contents",
   "title_sidebar": "Contents",
   "toc_cell": false,
   "toc_position": {},
   "toc_section_display": true,
   "toc_window_display": false
  },
  "varInspector": {
   "cols": {
    "lenName": 16,
    "lenType": 16,
    "lenVar": 40
   },
   "kernels_config": {
    "python": {
     "delete_cmd_postfix": "",
     "delete_cmd_prefix": "del ",
     "library": "var_list.py",
     "varRefreshCmd": "print(var_dic_list())"
    },
    "r": {
     "delete_cmd_postfix": ") ",
     "delete_cmd_prefix": "rm(",
     "library": "var_list.r",
     "varRefreshCmd": "cat(var_dic_list()) "
    }
   },
   "types_to_exclude": [
    "module",
    "function",
    "builtin_function_or_method",
    "instance",
    "_Feature"
   ],
   "window_display": false
  }
 },
 "nbformat": 4,
 "nbformat_minor": 4
}
