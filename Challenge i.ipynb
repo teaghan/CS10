{
 "cells": [
  {
   "cell_type": "markdown",
   "id": "90ebb1e6-ba89-473f-b294-2ce9f8737ab6",
   "metadata": {},
   "source": [
    "# Hangman\n",
    "\n",
    "*By completing these challenges, you'll demonstrate that you understand key programming concepts.*\n",
    "\n",
    "Download the `Challenge i.ipynb` file and upload it into your own *Project* on Deepnote by dragging the `Challenge i.ipynb` file onto the Notebooks tab on the left-hand side. This will give you a file to organize your code and provide your answers to the reflection questions. Once you are finished, you can download your notebook and embed it within your portfolio for safe keeping. \n",
    "\n",
    "When you’ve finished the challenge, call me over to read it and sign off on it. I’ll also want to run your programs, so make sure the notebook runs properly.\n",
    "\n",
    "Don’t forget to use comments appropriately.\n",
    "\n",
    "\n",
    "\n",
    "**Write a program that allows the user to play a game of Hangman, where they\n",
    "try to guess a hidden word by guessing one letter at a time. The program should choose\n",
    "a random word from a list, and then ask the user to guess a letter. If the letter is in the\n",
    "word, the program should reveal its position in the word, otherwise it should draw a\n",
    "part of a hangman's gallows.**"
   ]
  },
  {
   "cell_type": "code",
   "execution_count": null,
   "id": "f7d98de8-c263-4a05-a111-4d7420ac55bb",
   "metadata": {},
   "outputs": [],
   "source": []
  }
 ],
 "metadata": {
  "kernelspec": {
   "display_name": "Python 3 (ipykernel)",
   "language": "python",
   "name": "python3"
  },
  "language_info": {
   "codemirror_mode": {
    "name": "ipython",
    "version": 3
   },
   "file_extension": ".py",
   "mimetype": "text/x-python",
   "name": "python",
   "nbconvert_exporter": "python",
   "pygments_lexer": "ipython3",
   "version": "3.10.12"
  }
 },
 "nbformat": 4,
 "nbformat_minor": 5
}
