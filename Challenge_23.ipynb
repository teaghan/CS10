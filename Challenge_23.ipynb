{
 "cells": [
  {
   "cell_type": "markdown",
   "metadata": {
    "cell_id": "e9ef7860c76342f1a622247bb05ebcf3",
    "deepnote_cell_type": "markdown"
   },
   "source": [
    "# Programming Using Python\n",
    "\n",
    "*By completing these challenges, you'll demonstrate that you understand key programming concepts.*\n",
    "\n",
    "**Download the `Challenge_23.ipynb` file from GitHub using the download button as seen below:**\n",
    "\n",
    "![download](images/download_notebook.png)\n",
    "\n",
    "\n",
    "**Upload this file into your own *Project* on Deepnote by dragging the `Challenge_23.ipynb` file onto the Notebooks tab on the left-hand side.** \n",
    "\n",
    "This notebook will give you a file to organize your answers and show some code to support your answers.\n",
    "\n",
    "\n",
    "For example, if the question is:\n",
    "\n",
    "> *What does the `*` operator do?*\n",
    "\n",
    "Your answer should combine an answer in full sentence form (using a Markdown cell) as well as some code to support your answer (using a code cell):"
   ]
  },
  {
   "cell_type": "markdown",
   "metadata": {
    "cell_id": "a9de21be7bb84f3cb9058a1e78995966",
    "deepnote_cell_type": "markdown"
   },
   "source": [
    "The `*` operator is used for multiplication in Python."
   ]
  },
  {
   "cell_type": "code",
   "execution_count": 1,
   "metadata": {
    "cell_id": "ab0572de53cb460a8fad73be65b0fa66",
    "deepnote_cell_type": "code",
    "deepnote_to_be_reexecuted": false,
    "execution": {
     "iopub.execute_input": "2023-10-09T02:31:35.101153Z",
     "iopub.status.busy": "2023-10-09T02:31:35.100898Z",
     "iopub.status.idle": "2023-10-09T02:31:35.107873Z",
     "shell.execute_reply": "2023-10-09T02:31:35.107173Z",
     "shell.execute_reply.started": "2023-10-09T02:31:35.101128Z"
    },
    "execution_millis": 35,
    "execution_start": 1696531649249,
    "source_hash": null
   },
   "outputs": [
    {
     "data": {
      "text/plain": [
       "18"
      ]
     },
     "execution_count": 1,
     "metadata": {},
     "output_type": "execute_result"
    }
   ],
   "source": [
    "6 * 3"
   ]
  },
  {
   "cell_type": "markdown",
   "metadata": {
    "cell_id": "112d9d3ba4bd437898fe2c9ad6431ce6",
    "deepnote_cell_type": "markdown"
   },
   "source": [
    "*Whenever you are experimenting with a new feature, you should try to make mistakes. This kind of experiment helps you remember what you read; it also helps when you are programming, because you get to know what the error messages mean. It is better to make mistakes now and on purpose than later and accidentally.*\n",
    "\n",
    "1. In a print statement, what happens if you leave out one of the parentheses, or both?"
   ]
  },
  {
   "cell_type": "markdown",
   "metadata": {
    "cell_id": "233ee56d4dbd4ed080b6d7603a03b54a",
    "deepnote_cell_type": "markdown"
   },
   "source": []
  },
  {
   "cell_type": "code",
   "execution_count": null,
   "metadata": {
    "cell_id": "e8b8bdfcaee94e148974f19fa5c3f04e",
    "deepnote_cell_type": "code"
   },
   "outputs": [],
   "source": []
  },
  {
   "cell_type": "markdown",
   "metadata": {
    "cell_id": "434f0b76fe9b482e896c0ce52446b084",
    "deepnote_cell_type": "markdown"
   },
   "source": [
    "2. If you are trying to print a string, what happens if you leave out one of the quotation marks, or both?"
   ]
  },
  {
   "cell_type": "markdown",
   "metadata": {
    "cell_id": "34bcef89f5954c83a3878e7b0aba63b0",
    "deepnote_cell_type": "markdown"
   },
   "source": []
  },
  {
   "cell_type": "code",
   "execution_count": null,
   "metadata": {
    "cell_id": "0eff992dd7d94c20aee55822fe117702",
    "deepnote_cell_type": "code"
   },
   "outputs": [],
   "source": []
  },
  {
   "cell_type": "markdown",
   "metadata": {
    "cell_id": "99ae5de62af045eda86434f5bac5bc76",
    "deepnote_cell_type": "markdown"
   },
   "source": [
    "3. You can use a minus sign to make a negative number like `-2`. What happens if you type `2+-2` into a code cell?"
   ]
  },
  {
   "cell_type": "markdown",
   "metadata": {
    "cell_id": "26c540fb371547b19f87ac21ee7b5265",
    "deepnote_cell_type": "markdown"
   },
   "source": []
  },
  {
   "cell_type": "code",
   "execution_count": null,
   "metadata": {
    "cell_id": "9a7c43ea0834441cb5d12c05f11e2bd2",
    "deepnote_cell_type": "code"
   },
   "outputs": [],
   "source": []
  },
  {
   "cell_type": "markdown",
   "metadata": {
    "cell_id": "b3b58efa5a7e4fc4b192dcbc4cfcd3ac",
    "deepnote_cell_type": "markdown"
   },
   "source": [
    "4. What happens if you put a plus sign before a number as in `2-+2` or `2++2`?"
   ]
  },
  {
   "cell_type": "markdown",
   "metadata": {
    "cell_id": "c4b4c18327da4efe819fb4db128069e0",
    "deepnote_cell_type": "markdown"
   },
   "source": []
  },
  {
   "cell_type": "code",
   "execution_count": null,
   "metadata": {
    "cell_id": "785eeb0dd69c45a4a330e06868a381c1",
    "deepnote_cell_type": "code"
   },
   "outputs": [],
   "source": []
  },
  {
   "cell_type": "markdown",
   "metadata": {
    "cell_id": "5f6eeb8b8f174ac3a98b6c8484864183",
    "deepnote_cell_type": "markdown"
   },
   "source": [
    "5. In math notation, leading zeros are okay, as in `02`. What happens if you try this in Python?"
   ]
  },
  {
   "cell_type": "markdown",
   "metadata": {
    "cell_id": "011dd2b6d7c3487e9f1fbb747ea90391",
    "deepnote_cell_type": "markdown"
   },
   "source": []
  },
  {
   "cell_type": "code",
   "execution_count": null,
   "metadata": {
    "cell_id": "5315f179152047b5b6fd12db9c55ae18",
    "deepnote_cell_type": "code"
   },
   "outputs": [],
   "source": []
  },
  {
   "cell_type": "markdown",
   "metadata": {
    "cell_id": "78230c3d193a4e09a128b1de4c51ebf2",
    "deepnote_cell_type": "markdown"
   },
   "source": [
    "6. What happens if you have two values with no operator between them? (ex: `55 32`)"
   ]
  },
  {
   "cell_type": "markdown",
   "metadata": {
    "cell_id": "2136c275081e456b95f04ccbada83c60",
    "deepnote_cell_type": "markdown"
   },
   "source": []
  },
  {
   "cell_type": "code",
   "execution_count": null,
   "metadata": {
    "cell_id": "88da1b39fb7f41a88db0035335bea2b0",
    "deepnote_cell_type": "code"
   },
   "outputs": [],
   "source": []
  },
  {
   "cell_type": "markdown",
   "metadata": {
    "cell_id": "bd1d2c3596c245df8b67846f4d36f778",
    "deepnote_cell_type": "markdown"
   },
   "source": [
    "For the next few questions, use a Python cell as a calculator.\n",
    "\n",
    "7. How many seconds are there in 42 minutes 42 seconds?"
   ]
  },
  {
   "cell_type": "code",
   "execution_count": null,
   "metadata": {
    "cell_id": "306f1b1c4f3e414ab4334ef0e4fac8d4",
    "deepnote_cell_type": "code"
   },
   "outputs": [],
   "source": []
  },
  {
   "cell_type": "markdown",
   "metadata": {
    "cell_id": "99b40c8f7d524471907b59e3b962e30d",
    "deepnote_cell_type": "markdown"
   },
   "source": []
  },
  {
   "cell_type": "markdown",
   "metadata": {
    "cell_id": "19de593b5f254eee9a25c7a392831b22",
    "deepnote_cell_type": "markdown"
   },
   "source": [
    "8. How many miles are there in 10 kilometers? (Hint: there are 1.61 km in a mile)"
   ]
  },
  {
   "cell_type": "code",
   "execution_count": null,
   "metadata": {
    "cell_id": "442b02e6fddd4056ad9d630a0c22388e",
    "deepnote_cell_type": "code"
   },
   "outputs": [],
   "source": []
  },
  {
   "cell_type": "markdown",
   "metadata": {
    "cell_id": "083bbb4ee80840f5b6d7863562a9a694",
    "deepnote_cell_type": "markdown"
   },
   "source": []
  },
  {
   "cell_type": "markdown",
   "metadata": {},
   "source": [
    "9. Using a notebook like this has many advantages; as you've seen, combining Markdown and code makes it easy to format your work nicely. Another little trick is using the `?` symbol, which makes it easy to learn about new functions (or ones you have forgotten about). Try using the following code in a code cell:\n",
    "\n",
    "```python\n",
    "print?\n",
    "```\n",
    "\n",
    "Can you explain in your own words what putting `?` at the end of a function accomplishes? Using what you have now learned about the `print` function, try using it in a new way that has not been discussed in the first lesson. Feel free to experiment! "
   ]
  },
  {
   "cell_type": "code",
   "execution_count": null,
   "metadata": {
    "tags": []
   },
   "outputs": [],
   "source": []
  },
  {
   "cell_type": "markdown",
   "metadata": {},
   "source": []
  },
  {
   "cell_type": "code",
   "execution_count": null,
   "metadata": {},
   "outputs": [],
   "source": []
  },
  {
   "cell_type": "markdown",
   "metadata": {
    "cell_id": "8c822a8d6d03475f9eca79ba2ca72f31",
    "deepnote_cell_type": "markdown"
   },
   "source": [
    "**Bonus:**\n",
    "10. If you run a 10-kilometer race in 42 minutes 42 seconds, what is your average pace (time per mile in minutes and seconds)? What is your average speed in miles per hour?"
   ]
  },
  {
   "cell_type": "markdown",
   "metadata": {
    "cell_id": "409d6d21da6f41548e747bdccfbe641f",
    "deepnote_cell_type": "markdown"
   },
   "source": []
  },
  {
   "cell_type": "markdown",
   "metadata": {
    "cell_id": "4cbfb8bc65f4406faca1038c6c4be2ab",
    "deepnote_cell_type": "markdown"
   },
   "source": []
  },
  {
   "cell_type": "code",
   "execution_count": null,
   "metadata": {},
   "outputs": [],
   "source": []
  },
  {
   "cell_type": "code",
   "execution_count": null,
   "metadata": {},
   "outputs": [],
   "source": []
  },
  {
   "cell_type": "markdown",
   "metadata": {
    "cell_id": "b0e2fa4d4f084416bd6f8a5a306d272c",
    "deepnote_cell_type": "markdown"
   },
   "source": [
    "When you’ve finished this challenge, call me over to look at your portfolio and sign off on it."
   ]
  },
  {
   "cell_type": "markdown",
   "metadata": {
    "cell_id": "166c18481b2744b198229597ca74a98b",
    "deepnote_cell_type": "markdown"
   },
   "source": []
  }
 ],
 "metadata": {
  "deepnote": {},
  "deepnote_execution_queue": [],
  "deepnote_notebook_id": "3180af78827d4455bf172f03f634ae8d",
  "kernelspec": {
   "display_name": "Python 3 (ipykernel)",
   "language": "python",
   "name": "python3"
  },
  "language_info": {
   "codemirror_mode": {
    "name": "ipython",
    "version": 3
   },
   "file_extension": ".py",
   "mimetype": "text/x-python",
   "name": "python",
   "nbconvert_exporter": "python",
   "pygments_lexer": "ipython3",
   "version": "3.10.12"
  }
 },
 "nbformat": 4,
 "nbformat_minor": 4
}
