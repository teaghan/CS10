{
 "cells": [
  {
   "cell_type": "markdown",
   "metadata": {},
   "source": [
    "> *The creation of the lessons in this unit relied heavily on the existing lessons created by Mrs. FitzZaland as well as the [lecture series](https://github.com/milaan9/04_Python_Functions) produced by Dr. Milaan Parmar. Additionally, these lessons have largely been modelled off of the book [Think Python](https://open.umn.edu/opentextbooks/textbooks/43) by Allen Downey.*"
   ]
  },
  {
   "cell_type": "markdown",
   "metadata": {},
   "source": [
    "# Python Functions\n",
    "\n",
    "In this lesson, you'll learn about functions; what a function is, the syntax, components, and types of functions. You'll also learn how to create a function in Python.\n",
    "\n",
    "If it would be beneficial for your learning, feel free to take a look at [this quick video](https://www.youtube.com/watch?v=aftw0WX4oCc) for an introduction into Python functions.\n",
    "\n",
    "<div class=\"alert alert-info\"><h4>Tasks</h4><p>Alert boxes like this will provide you with tasks that you must do while going through this lesson.</p></div>\n"
   ]
  },
  {
   "cell_type": "markdown",
   "metadata": {},
   "source": [
    "# What is a function in Python?\n",
    "\n",
    "> In Python, a **function is a block of organized, reusable code with a name** that is used to perform a single, specific task. \n",
    "\n",
    "In math, you have seen functions such as *linear functions*:\n",
    "\n",
    "![function](images/function_machine.png)\n",
    "\n",
    "Functions in Python are similar in that they can take *inputs* and return *outputs*; however, they can do much more than just math!\n",
    "\n",
    "Some benefits of using functions in your code:\n",
    "- Functions help break our program into smaller and modular chunks. \n",
    "    - As our program grows larger and larger, functions make it more organized and manageable.\n",
    "- Furthermore, functions improve efficiency and reduces errors because of the reusability of a code."
   ]
  },
  {
   "cell_type": "markdown",
   "metadata": {},
   "source": [
    "&nbsp;"
   ]
  },
  {
   "cell_type": "markdown",
   "metadata": {},
   "source": [
    "## Types of Functions\n",
    "\n",
    "Python support two types of functions:\n",
    "\n",
    "1. **Built-in** functions\n",
    "2. **User-defined** functions\n",
    "\n",
    "### **Built-in functions**\n",
    "\n",
    "These are the functions that come along with Python itself. Actually, you have already been using many of these!\n",
    "\n",
    "Some examples are:\n",
    "\n",
    "**`range()`**, **`print()`**, **`input()`**, **`type()`**, **`id()`**, **`eval()`** etc.\n",
    "\n",
    "**Example:** Python's **`range()`** function generates a sequence of numbers starting from the given start integer to the stop integer.\n",
    "\n",
    "```python\n",
    "for i in range(1, 10):\n",
    "    print(i, end=' ')\n",
    "\n",
    "1 2 3 4 5 6 7 8 9\n",
    "```\n",
    "\n",
    "### **User-defined functions**\n",
    "\n",
    "User-defined functions are created by the programmer explicitly. To create a function, you need to follow the correct syntax."
   ]
  },
  {
   "cell_type": "markdown",
   "metadata": {},
   "source": [
    "**Syntax:**\n",
    "\n",
    "```python\n",
    "def function_name(parameter1, parameter2):\n",
    "    \"\"\"docstring\"\"\"\n",
    "    # function body    \n",
    "    # write some action\n",
    "return value\n",
    "```\n",
    "\n",
    "<div>\n",
    "<img src=\"images/f1.png\" width=\"550\"/>\n",
    "</div>"
   ]
  },
  {
   "cell_type": "markdown",
   "metadata": {},
   "source": [
    "## Defining a Function\n",
    "\n",
    "1. **`def`** is a keyword that marks the start of the function header. You can think of this as starting to \"define\" the function.\n",
    "\n",
    "2. **Function name** is a unique name that you use to identify the function. Function naming follows the same rules as identifying variables.\n",
    "> In fact, once you defined a function, you can use it later on in your code similar to how you use a variable that you defined.\n",
    "\n",
    "3. **`parameter`** are the value(s) passed to the function as the inputs. A function does not necessarily need to have input parameters.\n",
    "\n",
    "4. You use a **`:`** (colon) to mark the end of the function definition.\n",
    "\n",
    "5. The **function body** is a block of code that performs some task(s) within the function.\n",
    "> All of the statements in the **`function body`** must have the same **indentation** level (4 spaces or 1 tab) to be considered part of the function.\n",
    "\n",
    "6. The **\"\"\"docstring\"\"\"** is documentation string is used to describe what the function does.\n",
    "\n",
    "7. **`return`** is a keyword to return a value from the function.\n",
    "> If your function does not have a return statement, it will return **`None`**.\n",
    "\n",
    "**Note:** While defining a function, we use two keywords, **`def`** (mandatory) and **`return`** (optional).\n",
    "\n",
    "**Example:**\n",
    "\n",
    "```python\n",
    "def add(num1, num2):\n",
    "    '''Compute the addition between two numbers and return the sum.'''\n",
    "    \n",
    "    # Function body\n",
    "    print(\"Number 1: \", num1)\n",
    "    print(\"Number 2: \", num2)\n",
    "    addition = num1 + num2\n",
    "    \n",
    "    # Return the value\n",
    "    return addition\n",
    "\n",
    "# Call the function to test it\n",
    "res = add(2, 4)\n",
    "print(\"Result: \", res)\n",
    "```\n",
    "\n",
    "In the above example, the function name is `add` and the parameters are given the variable names `num1` and `num2`.\n",
    "\n",
    "Within the function, the variable `addition` is created and returned.\n",
    "\n",
    "You'll notice that everything inside the function is indented. Outside of the function, the function is *called* in order to use it.\n",
    "\n",
    "> To call a function, you must use the variable name followed by parenthesis `()`. If the function requires input parameters, these must be included inside the parenthesis."
   ]
  },
  {
   "cell_type": "markdown",
   "metadata": {},
   "source": [
    "## Docstrings\n",
    "\n",
    "The first string after the function header is called the **docstring** and is short for documentation string. It is a descriptive text (like a comment) written by a programmer to let others know what the code inside the function does.\n",
    "\n",
    "> Although it is optional, documentation is a good programming practice. It is actually most useful for future you!\n",
    "\n",
    "The docstring is declared using triple quotes (either **`''' '''`** or **`\"\"\" \"\"\"`**) so that the docstring can extend up to multiple lines.\n",
    "\n",
    "We can access the docstring by using doc attribute **`__doc__`**. Actually, we can do this for any object like a list, tuple, dict, user-defined function, etc."
   ]
  },
  {
   "cell_type": "code",
   "execution_count": 1,
   "metadata": {
    "execution": {
     "iopub.execute_input": "2023-12-03T01:33:30.415430Z",
     "iopub.status.busy": "2023-12-03T01:33:30.415202Z",
     "iopub.status.idle": "2023-12-03T01:33:30.420109Z",
     "shell.execute_reply": "2023-12-03T01:33:30.419301Z",
     "shell.execute_reply.started": "2023-12-03T01:33:30.415407Z"
    },
    "tags": []
   },
   "outputs": [
    {
     "name": "stdout",
     "output_type": "stream",
     "text": [
      "Hello\n"
     ]
    }
   ],
   "source": [
    "# Example\n",
    "def hello():\n",
    "    '''This function prints Hello to the screen.'''\n",
    "    print('Hello')\n",
    "    \n",
    "hello()"
   ]
  },
  {
   "cell_type": "code",
   "execution_count": 2,
   "metadata": {
    "execution": {
     "iopub.execute_input": "2023-12-03T01:33:30.421464Z",
     "iopub.status.busy": "2023-12-03T01:33:30.421185Z",
     "iopub.status.idle": "2023-12-03T01:33:30.554364Z",
     "shell.execute_reply": "2023-12-03T01:33:30.552142Z",
     "shell.execute_reply.started": "2023-12-03T01:33:30.421440Z"
    },
    "tags": []
   },
   "outputs": [
    {
     "name": "stdout",
     "output_type": "stream",
     "text": [
      "This function prints Hello to the screen.\n"
     ]
    }
   ],
   "source": [
    "print(hello.__doc__)"
   ]
  },
  {
   "cell_type": "markdown",
   "metadata": {},
   "source": [
    "We will revisit Docstrings in a future lesson when we address documentation in more detail."
   ]
  },
  {
   "cell_type": "markdown",
   "metadata": {},
   "source": [
    "## Defining a function *without* any parameters\n",
    "\n",
    "Functions can be declared without parameters."
   ]
  },
  {
   "cell_type": "code",
   "execution_count": 3,
   "metadata": {
    "ExecuteTime": {
     "end_time": "2021-10-08T17:47:57.838353Z",
     "start_time": "2021-10-08T17:47:57.814918Z"
    },
    "execution": {
     "iopub.execute_input": "2023-12-03T01:33:30.557207Z",
     "iopub.status.busy": "2023-12-03T01:33:30.556678Z",
     "iopub.status.idle": "2023-12-03T01:33:30.570456Z",
     "shell.execute_reply": "2023-12-03T01:33:30.568927Z",
     "shell.execute_reply.started": "2023-12-03T01:33:30.557163Z"
    },
    "scrolled": true,
    "tags": []
   },
   "outputs": [
    {
     "name": "stdout",
     "output_type": "stream",
     "text": [
      "Welcome to Computer Studies 10\n"
     ]
    }
   ],
   "source": [
    "# Example \n",
    "def greet():\n",
    "    print(\"Welcome to Computer Studies 10\")\n",
    "\n",
    "# Call the function using its name\n",
    "greet()"
   ]
  },
  {
   "cell_type": "markdown",
   "metadata": {},
   "source": [
    "<div class=\"alert alert-info\"><h4>1.</h4><p>Create a new notebook and name it Lesson5_Tasks.</p></div>\n",
    "\n",
    "<div class=\"alert alert-info\"><h4>2.</h4><p>In this notebook, define a new function using the following code:</p></div>\n",
    "\n",
    "```python\n",
    "def print_lyrics():\n",
    "    print(\"I'm a lumberjack, and I'm ok\")\n",
    "    print(\"I sleep all night and I work all day.\")\n",
    "```\n",
    "<div class=\"alert alert-info\"><h4>3.</h4><p>In a separate code cell, call your function using:</p></div>\n",
    "\n",
    "```python\n",
    "print_lyrics()\n",
    "```\n",
    "\n",
    "**You can also call a function within another function.**\n",
    "\n",
    "<div class=\"alert alert-info\"><h4>4.</h4><p>Add the following function to your notebook:</p></div>\n",
    "\n",
    "```python\n",
    "def repeat_lyrics():\n",
    "    print_lyrics()\n",
    "    print_lyrics()\n",
    "```\n",
    "\n",
    "\n",
    "<div class=\"alert alert-info\"><h4>5.</h4><p>Now call the repeat_lyrics() function and see what happens</p></div>"
   ]
  },
  {
   "cell_type": "markdown",
   "metadata": {},
   "source": [
    "## Defining a function *with* parameters\n",
    "\n",
    "In a function we can pass different data types (a number, string, boolean, list, tuple, dictionary or set) as a parameter."
   ]
  },
  {
   "cell_type": "markdown",
   "metadata": {},
   "source": [
    "### Single Parameter: \n",
    "\n",
    "If our function takes a parameter, we should call our function with an argument"
   ]
  },
  {
   "cell_type": "code",
   "execution_count": 4,
   "metadata": {
    "ExecuteTime": {
     "end_time": "2021-10-08T17:47:58.422343Z",
     "start_time": "2021-10-08T17:47:58.301246Z"
    },
    "execution": {
     "iopub.execute_input": "2023-12-03T01:33:30.572611Z",
     "iopub.status.busy": "2023-12-03T01:33:30.572184Z",
     "iopub.status.idle": "2023-12-03T01:33:30.583963Z",
     "shell.execute_reply": "2023-12-03T01:33:30.582657Z",
     "shell.execute_reply.started": "2023-12-03T01:33:30.572566Z"
    },
    "tags": []
   },
   "outputs": [
    {
     "name": "stdout",
     "output_type": "stream",
     "text": [
      "Hello, John. Good morning!\n"
     ]
    }
   ],
   "source": [
    "# Example\n",
    "def greet(name):\n",
    "    \"\"\"\n",
    "    This function greets to the person passed in as a parameter\n",
    "    \"\"\"\n",
    "    print(\"Hello, \" + name + \". Good morning!\")\n",
    "    \n",
    "# Call this function\n",
    "greet('John')"
   ]
  },
  {
   "cell_type": "markdown",
   "metadata": {},
   "source": [
    "### Two Parameters: \n",
    "\n",
    "A function may or may not have a parameter or parameters. A function may also have two or more parameters. If our function takes parameters we should call it with the correct number of arguments."
   ]
  },
  {
   "cell_type": "code",
   "execution_count": 5,
   "metadata": {
    "ExecuteTime": {
     "end_time": "2021-10-08T17:47:58.652810Z",
     "start_time": "2021-10-08T17:47:58.552712Z"
    },
    "execution": {
     "iopub.execute_input": "2023-12-03T01:33:30.587183Z",
     "iopub.status.busy": "2023-12-03T01:33:30.586871Z",
     "iopub.status.idle": "2023-12-03T01:33:30.599417Z",
     "shell.execute_reply": "2023-12-03T01:33:30.598322Z",
     "shell.execute_reply.started": "2023-12-03T01:33:30.587154Z"
    },
    "tags": []
   },
   "outputs": [
    {
     "name": "stdout",
     "output_type": "stream",
     "text": [
      "Hello Arthur\n",
      "Welcome to Computer Studies 10\n"
     ]
    }
   ],
   "source": [
    "# Example\n",
    "def course(name, course_name):\n",
    "    '''This function welcomes the student to the course.'''\n",
    "    print(\"Hello\", name)\n",
    "    print(\"Welcome to\", course_name)\n",
    "\n",
    "# call function\n",
    "course('Arthur', 'Computer Studies 10')"
   ]
  },
  {
   "cell_type": "markdown",
   "metadata": {},
   "source": [
    "<div class=\"alert alert-info\"><h4>6.</h4><p>Add the following function to your notebook:</p></div>\n",
    "\n",
    "```python\n",
    "def calculate_remainder(num1, num2):\n",
    "    '''Calculate the division between two numbers including the remainder.'''\n",
    "    div = int(num1 / num2)\n",
    "    rem = num1 % num2\n",
    "    print(num1, 'divided by', num2, 'is equal to', div, 'with a remainder of', rem)\n",
    "```\n",
    "\n",
    "<div class=\"alert alert-info\"><h4>7.</h4><p>Call this function using two arguments.</p></div>\n"
   ]
  },
  {
   "cell_type": "markdown",
   "metadata": {},
   "source": [
    "## Passing Arguments with Key and Value\n",
    "\n",
    "If we pass the arguments with key and value, the order of the arguments does not matter."
   ]
  },
  {
   "cell_type": "code",
   "execution_count": 6,
   "metadata": {
    "execution": {
     "iopub.execute_input": "2023-12-03T01:33:30.600554Z",
     "iopub.status.busy": "2023-12-03T01:33:30.600322Z",
     "iopub.status.idle": "2023-12-03T01:33:30.619069Z",
     "shell.execute_reply": "2023-12-03T01:33:30.617546Z",
     "shell.execute_reply.started": "2023-12-03T01:33:30.600532Z"
    },
    "tags": []
   },
   "outputs": [
    {
     "name": "stdout",
     "output_type": "stream",
     "text": [
      "Parmar Milaan\n"
     ]
    }
   ],
   "source": [
    "# Example\n",
    "def print_fullname(firstname, lastname):\n",
    "    space = ' '\n",
    "    full_name = firstname  + space + lastname\n",
    "    print(full_name)\n",
    "print_fullname(lastname='Milaan', firstname='Parmar')"
   ]
  },
  {
   "cell_type": "markdown",
   "metadata": {},
   "source": [
    "## The `return` Statement\n",
    "\n",
    "In Python, to return value from the function, a **`return`** statement is used. It returns the value of the expression following the `return` keyword.\n",
    "\n",
    "**Syntax:**\n",
    "\n",
    "```python\n",
    "def fun():\n",
    "    statement-1\n",
    "    statement-2\n",
    "    statement-3\n",
    "    .          \n",
    "    .          \n",
    "    return [expression]\n",
    "```\n",
    "\n",
    "The **`return`** value is the outcome of the function.\n",
    "\n",
    "> When the **`return`** statement is used, it will end the function execution."
   ]
  },
  {
   "cell_type": "markdown",
   "metadata": {},
   "source": [
    "### Return a Single Value"
   ]
  },
  {
   "cell_type": "code",
   "execution_count": 7,
   "metadata": {
    "ExecuteTime": {
     "end_time": "2021-10-08T17:47:59.718728Z",
     "start_time": "2021-10-08T17:47:59.626442Z"
    },
    "execution": {
     "iopub.execute_input": "2023-12-03T01:33:30.620800Z",
     "iopub.status.busy": "2023-12-03T01:33:30.620447Z",
     "iopub.status.idle": "2023-12-03T01:33:30.635871Z",
     "shell.execute_reply": "2023-12-03T01:33:30.634885Z",
     "shell.execute_reply.started": "2023-12-03T01:33:30.620756Z"
    },
    "tags": []
   },
   "outputs": [
    {
     "name": "stdout",
     "output_type": "stream",
     "text": [
      "9\n"
     ]
    }
   ],
   "source": [
    "# Example\n",
    "def square_number(x):\n",
    "    '''This function returns the value of x squared.'''\n",
    "    return x * x\n",
    "\n",
    "sq3 = square_number(3)\n",
    "print(sq3)"
   ]
  },
  {
   "cell_type": "markdown",
   "metadata": {},
   "source": [
    "Here, $x$ is the input parameter and the function returns the value of $x^2$."
   ]
  },
  {
   "cell_type": "markdown",
   "metadata": {},
   "source": [
    "### Return Multiple Values\n",
    "\n",
    "To return multiple values from a function, use the return statement followed by each the value separated by a comma."
   ]
  },
  {
   "cell_type": "code",
   "execution_count": 8,
   "metadata": {
    "ExecuteTime": {
     "end_time": "2021-10-08T17:48:00.795876Z",
     "start_time": "2021-10-08T17:48:00.677226Z"
    },
    "execution": {
     "iopub.execute_input": "2023-12-03T01:33:30.637638Z",
     "iopub.status.busy": "2023-12-03T01:33:30.637195Z",
     "iopub.status.idle": "2023-12-03T01:33:30.653662Z",
     "shell.execute_reply": "2023-12-03T01:33:30.652101Z",
     "shell.execute_reply.started": "2023-12-03T01:33:30.637607Z"
    },
    "tags": []
   },
   "outputs": [
    {
     "name": "stdout",
     "output_type": "stream",
     "text": [
      "Addition:  12\n",
      "Subtraction:  8\n",
      "Multiplication:  20\n",
      "Division:  5.0\n"
     ]
    }
   ],
   "source": [
    "# Example\n",
    "def arithmetic(num1, num2):\n",
    "    '''\n",
    "    Perform addition, subtraction, multiplication \n",
    "    and division on num1 and num2.\n",
    "    '''\n",
    "    add = num1 + num2\n",
    "    sub = num1 - num2\n",
    "    multiply = num1 * num2\n",
    "    division = num1 / num2\n",
    "    # Return four values\n",
    "    return add, sub, multiply, division\n",
    "\n",
    "# Call the function and assign the values to new varibles\n",
    "a, b, c, d = arithmetic(10, 2)\n",
    "# Print the values of these variables\n",
    "print(\"Addition: \", a)\n",
    "print(\"Subtraction: \", b)\n",
    "print(\"Multiplication: \", c)\n",
    "print(\"Division: \", d)"
   ]
  },
  {
   "cell_type": "markdown",
   "metadata": {},
   "source": [
    "> **Notice here that the function returns 4 values, so when the function is called, 4 variables must be used to *recieve* these values.**\n",
    "\n",
    "<div class=\"alert alert-info\"><h4>8.</h4><p>Add the following function to your notebook:</p></div>\n",
    "\n",
    "```python\n",
    "def sum_all_nums(*nums):\n",
    "    total = 0\n",
    "    for num in nums:\n",
    "        total += num     # This is shorthand for total = total + num \n",
    "    return total\n",
    "```\n",
    "\n",
    "<div class=\"alert alert-info\"><h4>9.</h4><p>Test this function by calling it with several arguments.</p></div>"
   ]
  },
  {
   "cell_type": "markdown",
   "metadata": {},
   "source": [
    "## The `pass` Statement\n",
    "\n",
    "Sometimes there are situations where we need to define an empty block of code, which can be accomplished using the **`pass`** keyword."
   ]
  },
  {
   "cell_type": "code",
   "execution_count": 9,
   "metadata": {
    "execution": {
     "iopub.execute_input": "2023-12-03T01:33:30.656201Z",
     "iopub.status.busy": "2023-12-03T01:33:30.655691Z",
     "iopub.status.idle": "2023-12-03T01:33:30.668263Z",
     "shell.execute_reply": "2023-12-03T01:33:30.667077Z",
     "shell.execute_reply.started": "2023-12-03T01:33:30.656161Z"
    },
    "tags": []
   },
   "outputs": [
    {
     "name": "stdout",
     "output_type": "stream",
     "text": [
      "False\n",
      "12\n"
     ]
    }
   ],
   "source": [
    "# Example\n",
    "def addition(num1, num2):\n",
    "    \n",
    "    total = False\n",
    "    \n",
    "    # Only add the two numbers if they are both integers or both floats\n",
    "    if type(num1)!=type(num2):\n",
    "        # Do not do anything\n",
    "        pass\n",
    "    else:\n",
    "        total = num1+num2\n",
    "    \n",
    "    return total\n",
    "\n",
    "print(addition(10, 2.0))\n",
    "print(addition(10, 2))"
   ]
  },
  {
   "cell_type": "markdown",
   "metadata": {},
   "source": [
    "# Python Global and Local variables\n",
    "\n",
    "In Python, the **scope** of a variable is the portion of a program where the variable is available. \n",
    "\n",
    "> **Parameters and variables defined inside a function are not visible from outside the function.**\n",
    "\n",
    "Hence, the variable has a *local scope* within the function.\n",
    "\n",
    "Once a function is finished running, the variables defined within the function get deleted."
   ]
  },
  {
   "cell_type": "markdown",
   "metadata": {},
   "source": [
    "## Global Variables\n",
    "\n",
    "In Python, a variable declared outside of the function or in global scope is known as a global variable. This means that a global variable can be accessed inside or outside of the function."
   ]
  },
  {
   "cell_type": "code",
   "execution_count": 10,
   "metadata": {
    "execution": {
     "iopub.execute_input": "2023-12-03T01:33:30.669846Z",
     "iopub.status.busy": "2023-12-03T01:33:30.669536Z",
     "iopub.status.idle": "2023-12-03T01:33:30.843582Z",
     "shell.execute_reply": "2023-12-03T01:33:30.841514Z",
     "shell.execute_reply.started": "2023-12-03T01:33:30.669819Z"
    },
    "tags": []
   },
   "outputs": [
    {
     "name": "stdout",
     "output_type": "stream",
     "text": [
      "Value in 1st function: 999\n",
      "Value in 2nd function: 999\n"
     ]
    }
   ],
   "source": [
    "# Example\n",
    "\n",
    "# Create a Global Variable\n",
    "x = 999\n",
    "\n",
    "def fun1():\n",
    "    print(\"Value in 1st function:\", x)\n",
    "\n",
    "def fun2():\n",
    "    print(\"Value in 2nd function:\", x)\n",
    "\n",
    "fun1()\n",
    "fun2()"
   ]
  },
  {
   "cell_type": "markdown",
   "metadata": {},
   "source": [
    "In the above code, we created **`x`** as a global variable that was accessible by the code that followed, including the functions.\n",
    "\n",
    "What if you want to change the value of **`x`** inside a function?"
   ]
  },
  {
   "cell_type": "code",
   "execution_count": 11,
   "metadata": {
    "execution": {
     "iopub.execute_input": "2023-12-03T01:33:30.848460Z",
     "iopub.status.busy": "2023-12-03T01:33:30.846296Z",
     "iopub.status.idle": "2023-12-03T01:33:31.110967Z",
     "shell.execute_reply": "2023-12-03T01:33:31.109185Z",
     "shell.execute_reply.started": "2023-12-03T01:33:30.848359Z"
    },
    "tags": []
   },
   "outputs": [
    {
     "ename": "UnboundLocalError",
     "evalue": "local variable 'x' referenced before assignment",
     "output_type": "error",
     "traceback": [
      "\u001b[0;31m---------------------------------------------------------------------------\u001b[0m",
      "\u001b[0;31mUnboundLocalError\u001b[0m                         Traceback (most recent call last)",
      "Cell \u001b[0;32mIn[11], line 10\u001b[0m\n\u001b[1;32m      7\u001b[0m     x \u001b[38;5;241m=\u001b[39m x \u001b[38;5;241m*\u001b[39m \u001b[38;5;241m2\u001b[39m\n\u001b[1;32m      8\u001b[0m     \u001b[38;5;28mprint\u001b[39m(x)\n\u001b[0;32m---> 10\u001b[0m \u001b[43mfun\u001b[49m\u001b[43m(\u001b[49m\u001b[43m)\u001b[49m\n",
      "Cell \u001b[0;32mIn[11], line 7\u001b[0m, in \u001b[0;36mfun\u001b[0;34m()\u001b[0m\n\u001b[1;32m      6\u001b[0m \u001b[38;5;28;01mdef\u001b[39;00m \u001b[38;5;21mfun\u001b[39m():\n\u001b[0;32m----> 7\u001b[0m     x \u001b[38;5;241m=\u001b[39m \u001b[43mx\u001b[49m \u001b[38;5;241m*\u001b[39m \u001b[38;5;241m2\u001b[39m\n\u001b[1;32m      8\u001b[0m     \u001b[38;5;28mprint\u001b[39m(x)\n",
      "\u001b[0;31mUnboundLocalError\u001b[0m: local variable 'x' referenced before assignment"
     ]
    }
   ],
   "source": [
    "# Example\n",
    "\n",
    "# Create a Global Variable\n",
    "x = 999\n",
    "\n",
    "def fun():\n",
    "    x = x * 2\n",
    "    print(x)\n",
    "\n",
    "fun()"
   ]
  },
  {
   "cell_type": "markdown",
   "metadata": {},
   "source": [
    "Since the variable is not local to the function, we cannot change it inside the function!"
   ]
  },
  {
   "cell_type": "markdown",
   "metadata": {},
   "source": [
    "## Local Variables\n",
    "\n",
    "A variable declared inside the function's body or in the local scope is known as a local variable.\n",
    "\n",
    "If we try to access the local variable from the outside of the function, we will get the error as **`NameError`**."
   ]
  },
  {
   "cell_type": "code",
   "execution_count": 12,
   "metadata": {
    "execution": {
     "iopub.execute_input": "2023-12-03T01:33:36.549955Z",
     "iopub.status.busy": "2023-12-03T01:33:36.547758Z",
     "iopub.status.idle": "2023-12-03T01:33:36.575886Z",
     "shell.execute_reply": "2023-12-03T01:33:36.574594Z",
     "shell.execute_reply.started": "2023-12-03T01:33:36.549878Z"
    },
    "tags": []
   },
   "outputs": [
    {
     "ename": "NameError",
     "evalue": "name 'y' is not defined",
     "output_type": "error",
     "traceback": [
      "\u001b[0;31m---------------------------------------------------------------------------\u001b[0m",
      "\u001b[0;31mNameError\u001b[0m                                 Traceback (most recent call last)",
      "Cell \u001b[0;32mIn[12], line 7\u001b[0m\n\u001b[1;32m      4\u001b[0m     y \u001b[38;5;241m=\u001b[39m \u001b[38;5;124m\"\u001b[39m\u001b[38;5;124mlocal\u001b[39m\u001b[38;5;124m\"\u001b[39m\n\u001b[1;32m      6\u001b[0m fun()\n\u001b[0;32m----> 7\u001b[0m \u001b[38;5;28mprint\u001b[39m(\u001b[43my\u001b[49m)\n",
      "\u001b[0;31mNameError\u001b[0m: name 'y' is not defined"
     ]
    }
   ],
   "source": [
    "# Example\n",
    "\n",
    "def fun():\n",
    "    y = \"local\"\n",
    "    \n",
    "fun()\n",
    "print(y)"
   ]
  },
  {
   "cell_type": "markdown",
   "metadata": {},
   "source": [
    "To learn more about Global, Local and Nonlocal variables, check out [this notebook](https://github.com/milaan9/04_Python_Functions/blob/main/002_Python_Function_Global_Local_Nonlocal.ipynb)."
   ]
  },
  {
   "cell_type": "markdown",
   "metadata": {},
   "source": [
    "## Debugging\n",
    "\n",
    "One of the most important skills you will acquire is debugging. Although it can be frustrating,\n",
    "debugging is one of the most intellectually rich, challenging, and interesting parts of\n",
    "programming.\n",
    "\n",
    "In some ways debugging is like detective work. You are confronted with clues, and you have to\n",
    "infer the processes and events that led to the results you see.\n",
    "\n",
    "Debugging is also like an experimental science. You have an idea or a hypothesis about what is\n",
    "going wrong, you modify your program and test to see if your hypothesis is correct. If your\n",
    "hypothesis was wrong, you have to come up with a new one. As Sherlock Holmes pointed out,\n",
    "“When you have eliminated the impossible, whatever remains, however improbably, must be\n",
    "the truth.” (A. Conan Doyle, The Sign of Four)\n",
    "\n",
    "For many people, programming and debugging are the same thing. That is, programming is the\n",
    "process of gradually debugging a program until it does what you want. When writing longer\n",
    "programs, it’s always a good idea to test and debug them as you go. The basic idea is that you\n",
    "should start with a working program and make small modifications, debugging them as you go."
   ]
  },
  {
   "cell_type": "markdown",
   "metadata": {},
   "source": [
    "## Glossary\n",
    "\n",
    "This list may help you to understand the terms used in this lesson.\n",
    "\n",
    "- **argument:** A value provided to a function when the function is called. This value is assigned to the corresponding parameter in the function.\n",
    "\n",
    "- **body:** The sequence of statements inside a function definition.\n",
    "- **flow of execution:** The order in which statements are executed during a program run\n",
    "- **function:** A named sequence of statements that performs some useful operation. Functions may or may not take arguments and may or may not produce a result.\n",
    "- **function definition:** A statement that creates a new function, specifying its name, parameters, and the statements it executes.\n",
    "- **function call:** A statement that executes a function. It consists of the function name followed by an argument list.\n",
    "- **function object:** A value created by a function definition (like `__doc__`). The name of the function is a variable that refers to a function object.\n",
    "- **doc string:** The first line of a function definition.\n",
    "- **local variable:** A variable defined inside a function. A local variable can only be used inside its function.\n",
    "- **parameter:** A name used inside a function to refer to the value passed as an argument.\n",
    "- **return value:** The result of a function. If a function call is used as an expression, the return value is the value of the expression."
   ]
  },
  {
   "cell_type": "markdown",
   "metadata": {},
   "source": [
    "## Challenge\n",
    "\n",
    "**1. Download `Challenge_27.ipynb` from Teams.**\n",
    "\n",
    "**2. Upload this file into your own *Project* on Deepnote by dragging the `Challenge_27.ipynb` file onto the Notebooks tab on the left-hand side.** \n",
    "\n",
    "**3. Use this notebook to complete Challenge 27 in Deepnote.**"
   ]
  },
  {
   "cell_type": "code",
   "execution_count": null,
   "metadata": {},
   "outputs": [],
   "source": []
  }
 ],
 "metadata": {
  "gist": {
   "data": {
    "description": "01_Learn_Python4Data/04_Python_Functions/001_Python_Functions.ipynb",
    "public": true
   },
   "id": ""
  },
  "hide_input": false,
  "kernelspec": {
   "display_name": "Python 3 (ipykernel)",
   "language": "python",
   "name": "python3"
  },
  "language_info": {
   "codemirror_mode": {
    "name": "ipython",
    "version": 3
   },
   "file_extension": ".py",
   "mimetype": "text/x-python",
   "name": "python",
   "nbconvert_exporter": "python",
   "pygments_lexer": "ipython3",
   "version": "3.10.12"
  },
  "toc": {
   "base_numbering": 1,
   "nav_menu": {},
   "number_sections": true,
   "sideBar": true,
   "skip_h1_title": false,
   "title_cell": "Table of Contents",
   "title_sidebar": "Contents",
   "toc_cell": false,
   "toc_position": {},
   "toc_section_display": true,
   "toc_window_display": false
  },
  "varInspector": {
   "cols": {
    "lenName": 16,
    "lenType": 16,
    "lenVar": 40
   },
   "kernels_config": {
    "python": {
     "delete_cmd_postfix": "",
     "delete_cmd_prefix": "del ",
     "library": "var_list.py",
     "varRefreshCmd": "print(var_dic_list())"
    },
    "r": {
     "delete_cmd_postfix": ") ",
     "delete_cmd_prefix": "rm(",
     "library": "var_list.r",
     "varRefreshCmd": "cat(var_dic_list()) "
    }
   },
   "types_to_exclude": [
    "module",
    "function",
    "builtin_function_or_method",
    "instance",
    "_Feature"
   ],
   "window_display": false
  }
 },
 "nbformat": 4,
 "nbformat_minor": 4
}
