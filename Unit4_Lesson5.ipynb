{
 "cells": [
  {
   "cell_type": "markdown",
   "metadata": {},
   "source": [
    "> *The creation of the lessons in this unit relied heavily on the existing lessons created by Mrs. FitzZaland as well as the [lecture series](https://github.com/milaan9/04_Python_Functions) produced by Dr. Milaan Parmar. Additionally, these lessons have largely been modelled off of the book [Think Python](https://open.umn.edu/opentextbooks/textbooks/43) by Allen Downey.*"
   ]
  },
  {
   "cell_type": "markdown",
   "metadata": {},
   "source": [
    "# Python Functions\n",
    "\n",
    "In this class, you'll learn about functions, what a function is, the syntax, components, and types of functions. Also, you'll learn to create a function in Python."
   ]
  },
  {
   "cell_type": "markdown",
   "metadata": {},
   "source": [
    "# What is a function in Python?\n",
    "\n",
    "In Python, a **function is a block of organized, reusable code with a name** that is used to perform a single, specific task. \n",
    "\n",
    "Functions can take arguments and return values.\n",
    "\n",
    "Functions help break our program into smaller and modular chunks. As our program grows larger and larger, functions make it more organized and manageable.\n",
    "\n",
    "Furthermore, it improves efficiency and reduces errors because of the reusability of a code."
   ]
  },
  {
   "cell_type": "markdown",
   "metadata": {},
   "source": [
    "## Types of Functions\n",
    "\n",
    "Python support two types of functions\n",
    "\n",
    "1. **Built-in** functions\n",
    "2. **User-defined** functions\n",
    "\n",
    "1.**Built-in function**\n",
    "\n",
    "You have already seen many examples of these. They are the functions which are come along with Python itself. \n",
    "\n",
    "Some examples are:\n",
    "**`range()`**, **`print()`**, **`input()`**, **`type()`**, **`id()`**, **`eval()`** etc.\n",
    "\n",
    "**Example:** Python **`range()`** function generates the immutable sequence of numbers starting from the given start integer to the stop integer.\n",
    "\n",
    "```python\n",
    ">>> for i in range(1, 10):\n",
    ">>>     print(i, end=' ')\n",
    "\n",
    "1 2 3 4 5 6 7 8 9\n",
    "```\n",
    "\n",
    "2. **User-defined function**\n",
    "\n",
    "Functions which are created by programmer explicitly according to the requirement are called a user-defined function."
   ]
  },
  {
   "cell_type": "markdown",
   "metadata": {},
   "source": [
    "**Syntax:**\n",
    "\n",
    "```python\n",
    "def function_name(parameter1, parameter2):\n",
    "    \"\"\"docstring\"\"\"\n",
    "    # function body    \n",
    "    # write some action\n",
    "return value\n",
    "```\n",
    "\n",
    "<div>\n",
    "<img src=\"images/f1.png\" width=\"550\"/>\n",
    "</div>"
   ]
  },
  {
   "cell_type": "markdown",
   "metadata": {},
   "source": [
    "## Defining a Function\n",
    "\n",
    "1. **`def`** is a keyword that marks the start of the function header.\n",
    "\n",
    "2. **`function_name`** to uniquely identify the function. Function naming follows the same **[rules of writing identifiers in Python](https://github.com/milaan9/01_Python_Introduction/blob/main/005_Python_Keywords_and_Identifiers.ipynb)**.\n",
    "\n",
    "2. **`parameter`** is the value passed to the function. They are optional.\n",
    "\n",
    "3. **`:`** (colon) to mark the end of the function header.\n",
    "\n",
    "4. **`function body`** is a block of code that performs some task and all the statements in **`function body`** must have the same **indentation** level (usually 4 spaces). \n",
    "\n",
    "5. **\"\"\"docstring\"\"\"** documentation string is used to describe what the function does.\n",
    "\n",
    "6. **`return`** is a keyword to return a value from the function.. A return statement with no arguments is the same as return **`None`**.\n",
    "\n",
    ">**Note:** While defining a function, we use two keywords, **`def`** (mandatory) and **`return`** (optional).\n",
    "\n",
    "**Example:**\n",
    "\n",
    "```python\n",
    ">>> def add(num1,num2):           # Function name: 'add', Parameters: 'num1', 'num2'\n",
    ">>>     print(\"Number 1: \", num1) #  Function body\n",
    ">>>     print(\"Number 2: \", num2) #  Function body\n",
    ">>>     addition = num1 + num2    #  Function body\n",
    ">>>     return addition           # return value\n",
    "\n",
    "\n",
    ">>> res = add(2, 4)   # Function call\n",
    ">>> print(\"Result: \", res)\n",
    "```"
   ]
  },
  {
   "cell_type": "markdown",
   "metadata": {},
   "source": [
    "## Defining a function without any parameters\n",
    "\n",
    "Function can be declared without parameters."
   ]
  },
  {
   "cell_type": "code",
   "execution_count": 1,
   "metadata": {
    "ExecuteTime": {
     "end_time": "2021-10-08T17:47:57.838353Z",
     "start_time": "2021-10-08T17:47:57.814918Z"
    },
    "execution": {
     "iopub.execute_input": "2023-10-29T21:32:59.859484Z",
     "iopub.status.busy": "2023-10-29T21:32:59.859192Z",
     "iopub.status.idle": "2023-10-29T21:32:59.864040Z",
     "shell.execute_reply": "2023-10-29T21:32:59.863133Z",
     "shell.execute_reply.started": "2023-10-29T21:32:59.859457Z"
    },
    "scrolled": true
   },
   "outputs": [
    {
     "name": "stdout",
     "output_type": "stream",
     "text": [
      "Welcome to Computer Studies 10\n"
     ]
    }
   ],
   "source": [
    "# Example 1: \n",
    "    \n",
    "def greet():\n",
    "    print(\"Welcome to Computer Studies 10\")\n",
    "\n",
    "# call function using its name\n",
    "greet()"
   ]
  },
  {
   "cell_type": "markdown",
   "metadata": {},
   "source": [
    "**1. Create a new notebook for this lesson and define a new function using the following code:**\n",
    "\n",
    "```python\n",
    "def print_lyrics():\n",
    "    print(\"I'm a lumberjack, and I'm ok\")\n",
    "    print(\"I sleep all night and I work all day.\")\n",
    "```\n",
    "\n",
    "**2. In a separate code cell, call you function using `print_lyrics()`**\n",
    "\n",
    "You can also call a function within another function.\n",
    "\n",
    "**3. Add the following function to your notebook:**\n",
    "\n",
    "```python\n",
    "def repeat_lyrics():\n",
    "    print_lyrics()\n",
    "    print_lyrics()\n",
    "```\n",
    "\n",
    "**4. Now call the `repeat_lyrics()` function and see what happens.**"
   ]
  },
  {
   "cell_type": "markdown",
   "metadata": {},
   "source": [
    "\n",
    "## Docstrings\n",
    "\n",
    "The first string after the function header is called the **docstring** and is short for documentation string. It is a descriptive text (like a comment) written by a programmer to let others know what block of code does.\n",
    "\n",
    "Although **optional**, documentation is a good programming practice. Unless you can remember what you had for dinner last week, always document your code.\n",
    "\n",
    "It is being declared using triple single quotes **`''' '''`** or triple-double quote **`\"\"\" \"\"\"`** so that docstring can extend up to multiple lines.\n",
    "\n",
    "We can access docstring using doc attribute **`__doc__`** for any object like list, tuple, dict, and user-defined function, etc.\n",
    "\n",
    "Typically, we have a docstring immediately below the function header."
   ]
  },
  {
   "cell_type": "code",
   "execution_count": 2,
   "metadata": {
    "execution": {
     "iopub.execute_input": "2023-10-29T21:32:59.865142Z",
     "iopub.status.busy": "2023-10-29T21:32:59.864861Z",
     "iopub.status.idle": "2023-10-29T21:33:00.197051Z",
     "shell.execute_reply": "2023-10-29T21:33:00.196316Z",
     "shell.execute_reply.started": "2023-10-29T21:32:59.865115Z"
    },
    "tags": []
   },
   "outputs": [
    {
     "name": "stdout",
     "output_type": "stream",
     "text": [
      "Hello\n"
     ]
    }
   ],
   "source": [
    "# Example\n",
    "def hello():\n",
    "    '''This function prints Hello to the screen.'''\n",
    "    print('Hello')\n",
    "    \n",
    "hello()"
   ]
  },
  {
   "cell_type": "code",
   "execution_count": 3,
   "metadata": {
    "execution": {
     "iopub.execute_input": "2023-10-29T21:33:00.198105Z",
     "iopub.status.busy": "2023-10-29T21:33:00.197835Z",
     "iopub.status.idle": "2023-10-29T21:33:00.328600Z",
     "shell.execute_reply": "2023-10-29T21:33:00.327857Z",
     "shell.execute_reply.started": "2023-10-29T21:33:00.198081Z"
    },
    "tags": []
   },
   "outputs": [
    {
     "name": "stdout",
     "output_type": "stream",
     "text": [
      "This function prints Hello to the screen.\n"
     ]
    }
   ],
   "source": [
    "print(hello.__doc__)"
   ]
  },
  {
   "cell_type": "markdown",
   "metadata": {},
   "source": [
    "## Defining a function with parameters\n",
    "\n",
    "In a function we can pass different data types(number, string, boolean, list, tuple, dictionary or set) as a parameter."
   ]
  },
  {
   "cell_type": "markdown",
   "metadata": {},
   "source": [
    "### Single Parameter: \n",
    "\n",
    "If our function takes a parameter, we should call our function with an argument"
   ]
  },
  {
   "cell_type": "code",
   "execution_count": 4,
   "metadata": {
    "ExecuteTime": {
     "end_time": "2021-10-08T17:47:58.422343Z",
     "start_time": "2021-10-08T17:47:58.301246Z"
    },
    "execution": {
     "iopub.execute_input": "2023-10-29T21:33:00.329722Z",
     "iopub.status.busy": "2023-10-29T21:33:00.329445Z",
     "iopub.status.idle": "2023-10-29T21:33:00.344798Z",
     "shell.execute_reply": "2023-10-29T21:33:00.344064Z",
     "shell.execute_reply.started": "2023-10-29T21:33:00.329698Z"
    },
    "tags": []
   },
   "outputs": [
    {
     "name": "stdout",
     "output_type": "stream",
     "text": [
      "Hello, John. Good morning!\n"
     ]
    }
   ],
   "source": [
    "# Example 1: Greeting\n",
    "\n",
    "def greet(name):\n",
    "    \"\"\"\n",
    "    This function greets to the person passed in as a parameter\n",
    "    \"\"\"\n",
    "    print(\"Hello, \" + name + \". Good morning!\")\n",
    "    \n",
    "# Call this function\n",
    "greet('John')"
   ]
  },
  {
   "cell_type": "markdown",
   "metadata": {},
   "source": [
    "### Two Parameter: \n",
    "\n",
    "A function may or may not have a parameter or parameters. A function may also have two or more parameters. If our function takes parameters we should call it with arguments."
   ]
  },
  {
   "cell_type": "code",
   "execution_count": 5,
   "metadata": {
    "ExecuteTime": {
     "end_time": "2021-10-08T17:47:58.652810Z",
     "start_time": "2021-10-08T17:47:58.552712Z"
    },
    "execution": {
     "iopub.execute_input": "2023-10-29T21:33:00.347474Z",
     "iopub.status.busy": "2023-10-29T21:33:00.347219Z",
     "iopub.status.idle": "2023-10-29T21:33:00.360728Z",
     "shell.execute_reply": "2023-10-29T21:33:00.360011Z",
     "shell.execute_reply.started": "2023-10-29T21:33:00.347449Z"
    },
    "tags": []
   },
   "outputs": [
    {
     "name": "stdout",
     "output_type": "stream",
     "text": [
      "Hello Arthur\n",
      "Welcome to Computer Studies 10\n"
     ]
    }
   ],
   "source": [
    "# Example 1: \n",
    "def course(name, course_name):\n",
    "    '''This function welcomes the student to the course.'''\n",
    "    print(\"Hello\", name)\n",
    "    print(\"Welcome to\", course_name)\n",
    "\n",
    "# call function\n",
    "course('Arthur', 'Computer Studies 10')"
   ]
  },
  {
   "cell_type": "markdown",
   "metadata": {},
   "source": [
    "## Function `return` Statement\n",
    "\n",
    "In Python, to return value from the function, a **`return`** statement is used. It returns the value of the expression following the returns keyword.\n",
    "\n",
    "**Syntax:**\n",
    "\n",
    "```python\n",
    "def fun():\n",
    "    statement-1\n",
    "    statement-2\n",
    "    statement-3\n",
    "    .          \n",
    "    .          \n",
    "    return [expression]\n",
    "```\n",
    "\n",
    "The **`return`** value is nothing but a outcome of function.\n",
    "\n",
    "* The **`return`** statement ends the function execution.\n",
    "* For a function, it is not mandatory to return a value.\n",
    "* If a **`return`** statement is used without any expression, then the **`None`** is returned.\n",
    "* The **`return`** statement should be inside of the function block."
   ]
  },
  {
   "cell_type": "markdown",
   "metadata": {},
   "source": [
    "### Return a Single Value"
   ]
  },
  {
   "cell_type": "code",
   "execution_count": 6,
   "metadata": {
    "ExecuteTime": {
     "end_time": "2021-10-08T17:47:59.718728Z",
     "start_time": "2021-10-08T17:47:59.626442Z"
    },
    "execution": {
     "iopub.execute_input": "2023-10-29T21:33:00.361996Z",
     "iopub.status.busy": "2023-10-29T21:33:00.361744Z",
     "iopub.status.idle": "2023-10-29T21:33:00.373654Z",
     "shell.execute_reply": "2023-10-29T21:33:00.372906Z",
     "shell.execute_reply.started": "2023-10-29T21:33:00.361971Z"
    },
    "tags": []
   },
   "outputs": [
    {
     "name": "stdout",
     "output_type": "stream",
     "text": [
      "9\n"
     ]
    }
   ],
   "source": [
    "# Example 1: \n",
    "def square_number(x):\n",
    "    '''This function returns the value of x squared.'''\n",
    "    return x * x\n",
    "\n",
    "sq3 = square_number(3)\n",
    "print(sq3)"
   ]
  },
  {
   "cell_type": "markdown",
   "metadata": {},
   "source": [
    "Here, $x$ is the input parameter and the function returns the value of $x^2$."
   ]
  },
  {
   "cell_type": "markdown",
   "metadata": {},
   "source": [
    "## Passing Arguments with Key and Value\n",
    "\n",
    "If we pass the arguments with key and value, the order of the arguments does not matter."
   ]
  },
  {
   "cell_type": "code",
   "execution_count": 7,
   "metadata": {
    "ExecuteTime": {
     "end_time": "2021-10-08T17:47:59.854957Z",
     "start_time": "2021-10-08T17:47:59.727520Z"
    },
    "execution": {
     "iopub.execute_input": "2023-10-29T21:33:00.374847Z",
     "iopub.status.busy": "2023-10-29T21:33:00.374551Z",
     "iopub.status.idle": "2023-10-29T21:33:00.555374Z",
     "shell.execute_reply": "2023-10-29T21:33:00.554654Z",
     "shell.execute_reply.started": "2023-10-29T21:33:00.374822Z"
    },
    "tags": []
   },
   "outputs": [
    {
     "name": "stdout",
     "output_type": "stream",
     "text": [
      "Milaan Parmar\n",
      "None\n"
     ]
    }
   ],
   "source": [
    "# Example 1: \n",
    "\n",
    "def print_fullname(firstname, lastname):\n",
    "    space = ' '\n",
    "    full_name = firstname  + space + lastname\n",
    "    print(full_name)\n",
    "print(print_fullname(firstname = 'Milaan', lastname = 'Parmar'))"
   ]
  },
  {
   "cell_type": "markdown",
   "metadata": {},
   "source": [
    "Notice here that if we do not **`return`** a value with a function, then our function is returning **`None`** by default. To return a value with a function we use the keyword **`return`** followed by the variable we are returning. We can return any kind of data types from a function."
   ]
  },
  {
   "cell_type": "markdown",
   "metadata": {},
   "source": [
    "### Return Multiple Values\n",
    "\n",
    "You can also return multiple values from a function. Use the return statement by separating each expression by a comma."
   ]
  },
  {
   "cell_type": "code",
   "execution_count": 8,
   "metadata": {
    "ExecuteTime": {
     "end_time": "2021-10-08T17:48:00.795876Z",
     "start_time": "2021-10-08T17:48:00.677226Z"
    },
    "execution": {
     "iopub.execute_input": "2023-10-29T21:33:00.556568Z",
     "iopub.status.busy": "2023-10-29T21:33:00.556318Z",
     "iopub.status.idle": "2023-10-29T21:33:00.828786Z",
     "shell.execute_reply": "2023-10-29T21:33:00.828004Z",
     "shell.execute_reply.started": "2023-10-29T21:33:00.556539Z"
    },
    "tags": []
   },
   "outputs": [
    {
     "name": "stdout",
     "output_type": "stream",
     "text": [
      "Addition:  12\n",
      "Subtraction:  8\n",
      "Multiplication:  20\n",
      "Division:  5.0\n"
     ]
    }
   ],
   "source": [
    "# Example 1:\n",
    "\n",
    "def arithmetic(num1, num2):\n",
    "    '''\n",
    "    Perform addition, subtraction, multiplication \n",
    "    and division on num1 and num2.\n",
    "    '''\n",
    "    add = num1 + num2\n",
    "    sub = num1 - num2\n",
    "    multiply = num1 * num2\n",
    "    division = num1 / num2\n",
    "    # return four values\n",
    "    return add, sub, multiply, division\n",
    "\n",
    "a, b, c, d = arithmetic(10, 2)\n",
    "\n",
    "print(\"Addition: \", a)\n",
    "print(\"Subtraction: \", b)\n",
    "print(\"Multiplication: \", c)\n",
    "print(\"Division: \", d)"
   ]
  },
  {
   "cell_type": "markdown",
   "metadata": {},
   "source": [
    "To learn more about docstrings in Python, visit **[Python Docstrings](https://github.com/milaan9/04_Python_Functions/blob/main/Python_Docstrings.ipynb)**."
   ]
  },
  {
   "cell_type": "markdown",
   "metadata": {},
   "source": [
    "## Function `pass` Statement\n",
    "\n",
    "In Python, the **`pass`** is the keyword, which won’t do anything. Sometimes there is a situation where we need to define a syntactically empty block. We can define that block using the **`pass`** keyword.\n",
    "\n",
    "When the interpreter finds a **`pass`** statement in the program, it returns no operation."
   ]
  },
  {
   "cell_type": "code",
   "execution_count": 9,
   "metadata": {
    "ExecuteTime": {
     "end_time": "2021-10-08T17:48:02.420395Z",
     "start_time": "2021-10-08T17:48:02.294414Z"
    },
    "execution": {
     "iopub.execute_input": "2023-10-29T21:33:00.830002Z",
     "iopub.status.busy": "2023-10-29T21:33:00.829745Z",
     "iopub.status.idle": "2023-10-29T21:33:00.935353Z",
     "shell.execute_reply": "2023-10-29T21:33:00.934643Z",
     "shell.execute_reply.started": "2023-10-29T21:33:00.829978Z"
    }
   },
   "outputs": [],
   "source": [
    "# Example 1:\n",
    "\n",
    "def addition(num1, num2):\n",
    "    # Implementation of addition function in comming release\n",
    "    # Pass statement \n",
    "    pass\n",
    "\n",
    "addition(10, 2)"
   ]
  },
  {
   "cell_type": "markdown",
   "metadata": {},
   "source": [
    "# Python Global and Local variables\n",
    "\n",
    "When we define a function with variables, then those variables scope is limited to that function. \n",
    "\n",
    "In Python, the scope of a variable is the portion of a program where the variable is declared. Parameters and variables defined inside a function are not visible from outside the function. Hence, it is called the variable’s local scope.\n",
    "\n",
    ">**Note:** The inner function does have access to the outer function’s local scope.\n",
    "\n",
    "When we are executing a function, the life of the variables is up to running time. Once we return from the function, those variables get destroyed. So function does no need to remember the value of a variable from its previous call."
   ]
  },
  {
   "cell_type": "markdown",
   "metadata": {},
   "source": [
    "## Global Variables\n",
    "\n",
    "In Python, a variable declared outside of the function or in global scope is known as a global variable. This means that a global variable can be accessed inside or outside of the function."
   ]
  },
  {
   "cell_type": "code",
   "execution_count": 10,
   "metadata": {
    "execution": {
     "iopub.execute_input": "2023-10-29T21:33:00.936564Z",
     "iopub.status.busy": "2023-10-29T21:33:00.936292Z",
     "iopub.status.idle": "2023-10-29T21:33:00.965274Z",
     "shell.execute_reply": "2023-10-29T21:33:00.964541Z",
     "shell.execute_reply.started": "2023-10-29T21:33:00.936541Z"
    },
    "tags": []
   },
   "outputs": [
    {
     "name": "stdout",
     "output_type": "stream",
     "text": [
      "Value in 1st function: 999\n",
      "Value in 2nd function: 999\n"
     ]
    }
   ],
   "source": [
    "# Example 1: Create a Global Variable\n",
    "\n",
    "global_var = 999\n",
    "\n",
    "def fun1():\n",
    "    print(\"Value in 1st function:\", global_var)\n",
    "\n",
    "def fun2():\n",
    "    print(\"Value in 2nd function:\", global_var)\n",
    "\n",
    "fun1()\n",
    "fun2()"
   ]
  },
  {
   "cell_type": "markdown",
   "metadata": {},
   "source": [
    "In the above code, we created **`x`** as a global variable and defined a **`fun()`** to print the global variable **`x`**. Finally, we call the **`fun()`** which will print the value of **`x`**.\n",
    "\n",
    "What if you want to change the value of **`x`** inside a function?"
   ]
  },
  {
   "cell_type": "code",
   "execution_count": 11,
   "metadata": {
    "execution": {
     "iopub.execute_input": "2023-10-29T21:33:00.966552Z",
     "iopub.status.busy": "2023-10-29T21:33:00.966272Z",
     "iopub.status.idle": "2023-10-29T21:33:01.205748Z",
     "shell.execute_reply": "2023-10-29T21:33:01.204001Z",
     "shell.execute_reply.started": "2023-10-29T21:33:00.966517Z"
    },
    "tags": []
   },
   "outputs": [
    {
     "ename": "UnboundLocalError",
     "evalue": "local variable 'x' referenced before assignment",
     "output_type": "error",
     "traceback": [
      "\u001b[0;31m---------------------------------------------------------------------------\u001b[0m",
      "\u001b[0;31mUnboundLocalError\u001b[0m                         Traceback (most recent call last)",
      "Cell \u001b[0;32mIn[11], line 9\u001b[0m\n\u001b[1;32m      6\u001b[0m     x \u001b[38;5;241m=\u001b[39m x \u001b[38;5;241m*\u001b[39m \u001b[38;5;241m2\u001b[39m\n\u001b[1;32m      7\u001b[0m     \u001b[38;5;28mprint\u001b[39m(x)\n\u001b[0;32m----> 9\u001b[0m \u001b[43mfun\u001b[49m\u001b[43m(\u001b[49m\u001b[43m)\u001b[49m\n",
      "Cell \u001b[0;32mIn[11], line 6\u001b[0m, in \u001b[0;36mfun\u001b[0;34m()\u001b[0m\n\u001b[1;32m      5\u001b[0m \u001b[38;5;28;01mdef\u001b[39;00m \u001b[38;5;21mfun\u001b[39m():\n\u001b[0;32m----> 6\u001b[0m     x \u001b[38;5;241m=\u001b[39m \u001b[43mx\u001b[49m \u001b[38;5;241m*\u001b[39m \u001b[38;5;241m2\u001b[39m\n\u001b[1;32m      7\u001b[0m     \u001b[38;5;28mprint\u001b[39m(x)\n",
      "\u001b[0;31mUnboundLocalError\u001b[0m: local variable 'x' referenced before assignment"
     ]
    }
   ],
   "source": [
    "# Example 3: \n",
    "\n",
    "x = \"global\"\n",
    "\n",
    "def fun():\n",
    "    x = x * 2\n",
    "    print(x)\n",
    "\n",
    "fun()"
   ]
  },
  {
   "cell_type": "markdown",
   "metadata": {},
   "source": [
    "## Local Variables\n",
    "\n",
    "A variable declared inside the function's body or in the local scope is known as a local variable.\n",
    "\n",
    "If we try to access the local variable from the outside of the function, we will get the error as **`NameError`**."
   ]
  },
  {
   "cell_type": "code",
   "execution_count": 12,
   "metadata": {
    "execution": {
     "iopub.execute_input": "2023-10-29T21:33:02.310291Z",
     "iopub.status.busy": "2023-10-29T21:33:02.309824Z",
     "iopub.status.idle": "2023-10-29T21:33:02.330888Z",
     "shell.execute_reply": "2023-10-29T21:33:02.329705Z",
     "shell.execute_reply.started": "2023-10-29T21:33:02.310262Z"
    },
    "tags": []
   },
   "outputs": [
    {
     "ename": "NameError",
     "evalue": "name 'y' is not defined",
     "output_type": "error",
     "traceback": [
      "\u001b[0;31m---------------------------------------------------------------------------\u001b[0m",
      "\u001b[0;31mNameError\u001b[0m                                 Traceback (most recent call last)",
      "Cell \u001b[0;32mIn[12], line 7\u001b[0m\n\u001b[1;32m      4\u001b[0m     y \u001b[38;5;241m=\u001b[39m \u001b[38;5;124m\"\u001b[39m\u001b[38;5;124mlocal\u001b[39m\u001b[38;5;124m\"\u001b[39m\n\u001b[1;32m      6\u001b[0m fun()\n\u001b[0;32m----> 7\u001b[0m \u001b[38;5;28mprint\u001b[39m(\u001b[43my\u001b[49m)\n",
      "\u001b[0;31mNameError\u001b[0m: name 'y' is not defined"
     ]
    }
   ],
   "source": [
    "# Example 1: Accessing local variable outside the scope\n",
    "\n",
    "def fun():\n",
    "    y = \"local\"\n",
    "    \n",
    "fun()\n",
    "print(y)"
   ]
  },
  {
   "cell_type": "markdown",
   "metadata": {},
   "source": [
    "To learn more about Global, Local and Nonlocal variables, check out [this notebook](https://github.com/milaan9/04_Python_Functions/blob/main/002_Python_Function_Global_Local_Nonlocal.ipynb)."
   ]
  },
  {
   "cell_type": "markdown",
   "metadata": {},
   "source": [
    "## Debugging\n",
    "\n",
    "One of the most important skills you will acquire is debugging. Although it can be frustrating,\n",
    "debugging is one of the most intellectually rich, challenging, and interesting parts of\n",
    "programming.\n",
    "\n",
    "In some ways debugging is like detective work. You are confronted with clues, and you have to\n",
    "infer the processes and events that led to the results you see.\n",
    "\n",
    "Debugging is also like an experimental science. You have an idea or a hypothesis about what is\n",
    "going wrong, you modify your program and test to see if your hypothesis is correct. If your\n",
    "hypothesis was wrong, you have to come up with a new one. As Sherlock Holmes pointed out,\n",
    "“When you have eliminated the impossible, whatever remains, however improbably, must be\n",
    "the truth.” (A. Conan Doyle, The Sign of Four)\n",
    "\n",
    "For many people, programming and debugging are the same thing. That is, programming is the\n",
    "process of gradually debugging a program until it does what you want. When writing longer\n",
    "programs, it’s always a good idea to test and debug them as you go. The basic idea is that you\n",
    "should start with a working program and make small modifications, debugging them as you go."
   ]
  },
  {
   "cell_type": "markdown",
   "metadata": {},
   "source": [
    "## Glossary\n",
    "\n",
    "This list may help you to understand the terms used in this lesson.\n",
    "\n",
    "- **argument:** A value provided to a function when the function is called. This value is assigned to the corresponding parameter in the function.\n",
    "- **body:** The sequence of statements inside a function definition.\n",
    "- **flow of execution:** The order in which statements are executed during a program run\n",
    "- **function:** A named sequence of statements that performs some useful operation. Functions may or may not take arguments and may or may not produce a result.\n",
    "- **function definition:** A statement that creates a new function, specifying its name, parameters, and the statements it executes.\n",
    "- **function call:** A statement that executes a function. It consists of the function name followed by an argument list.\n",
    "- **function object:** A value created by a function definition (like `__doc__`). The name of the function is a variable that refers to a function object.\n",
    "- **doc string:** The first line of a function definition.\n",
    "- **local variable:** A variable defined inside a function. A local variable can only be used inside its function.\n",
    "- **parameter:** A name used inside a function to refer to the value passed as an argument.\n",
    "- **return value:** The result of a function. If a function call is used as an expression, the return value is the value of the expression."
   ]
  },
  {
   "cell_type": "markdown",
   "metadata": {},
   "source": [
    "## Challenge\n",
    "\n",
    "**5. Download the [Challenge_27.ipynb](https://github.com/teaghan/CS10/blob/main/Challenge_27.ipynb) file from GitHub.**\n",
    "\n",
    "**6. Upload this file into your own *Project* on Deepnote by dragging the `Challenge_27.ipynb` file onto the Notebooks tab on the left-hand side.** \n",
    "\n",
    "**7. Use this notebook to complete Challenge 27 in Deepnote.**"
   ]
  },
  {
   "cell_type": "code",
   "execution_count": null,
   "metadata": {},
   "outputs": [],
   "source": []
  }
 ],
 "metadata": {
  "gist": {
   "data": {
    "description": "01_Learn_Python4Data/04_Python_Functions/001_Python_Functions.ipynb",
    "public": true
   },
   "id": ""
  },
  "hide_input": false,
  "kernelspec": {
   "display_name": "Python 3 (ipykernel)",
   "language": "python",
   "name": "python3"
  },
  "language_info": {
   "codemirror_mode": {
    "name": "ipython",
    "version": 3
   },
   "file_extension": ".py",
   "mimetype": "text/x-python",
   "name": "python",
   "nbconvert_exporter": "python",
   "pygments_lexer": "ipython3",
   "version": "3.10.12"
  },
  "toc": {
   "base_numbering": 1,
   "nav_menu": {},
   "number_sections": true,
   "sideBar": true,
   "skip_h1_title": false,
   "title_cell": "Table of Contents",
   "title_sidebar": "Contents",
   "toc_cell": false,
   "toc_position": {},
   "toc_section_display": true,
   "toc_window_display": false
  },
  "varInspector": {
   "cols": {
    "lenName": 16,
    "lenType": 16,
    "lenVar": 40
   },
   "kernels_config": {
    "python": {
     "delete_cmd_postfix": "",
     "delete_cmd_prefix": "del ",
     "library": "var_list.py",
     "varRefreshCmd": "print(var_dic_list())"
    },
    "r": {
     "delete_cmd_postfix": ") ",
     "delete_cmd_prefix": "rm(",
     "library": "var_list.r",
     "varRefreshCmd": "cat(var_dic_list()) "
    }
   },
   "types_to_exclude": [
    "module",
    "function",
    "builtin_function_or_method",
    "instance",
    "_Feature"
   ],
   "window_display": false
  }
 },
 "nbformat": 4,
 "nbformat_minor": 4
}
