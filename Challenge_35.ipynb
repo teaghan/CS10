{
 "cells": [
  {
   "cell_type": "markdown",
   "id": "a1fd8447-5401-455a-a5ca-da802c45adf9",
   "metadata": {
    "execution": {
     "iopub.execute_input": "2023-02-24T18:34:37.192592Z",
     "iopub.status.busy": "2023-02-24T18:34:37.192078Z",
     "iopub.status.idle": "2023-02-24T18:34:37.775460Z",
     "shell.execute_reply": "2023-02-24T18:34:37.774489Z",
     "shell.execute_reply.started": "2023-02-24T18:34:37.192537Z"
    },
    "tags": []
   },
   "source": [
    "# Investigating Galaxy Data\n",
    "\n",
    "Today we are going to revisit our Pandas and Matplotlib skills in order to investigate some real data that was taken from the NGC5533 galaxy.\n",
    "\n",
    "The investigation we are going to undergo is very much a real-world application of these skills. In fact, this same research endevour was carried out by physicists to provide one of the first pieces of evidence of Dark Matter in our universe. \n",
    "\n",
    "> Don't worry, you will not need to know any physics ahead of time. I will provide you with a bit of background information as well as any equations you need."
   ]
  },
  {
   "cell_type": "markdown",
   "id": "a5e46498-0809-46df-8832-06871d2c9aa3",
   "metadata": {},
   "source": [
    "## NGC5533\n",
    "\n",
    "We will be studying stars in the [NGC5533](https://en.wikipedia.org/wiki/NGC_5533) galaxy, which is a spiral galaxy in the constellation Boötes.\n",
    "\n",
    "![ngc5533](NGC5533.jpg)\n"
   ]
  },
  {
   "cell_type": "markdown",
   "id": "325d9984-4681-4065-b6ab-8cd5cd12b841",
   "metadata": {},
   "source": [
    "# Circular Motion and Gravity\n",
    "\n",
    "Similar to how the Earth rotates around the Sun, stars in a galaxy rotate around the centre of the galaxy (which is typically a black hole). **The speed at which the stars rotate at depends on how much mass is *enclosed* within their orbit**. For instance, the enclosed mass within the Earth's orbit is dominated by the mass of the Sun.\n",
    "\n",
    "> A **rotation curve** is a plot of the rotational (or orbital) velocity of stars in a galaxy in terms of their distance from the center of the galaxy (also known as the radius). \n",
    "\n",
    "\n",
    "Here is an example of a rotation curve for the galaxy NGC3198:\n",
    "\n",
    "![rc](rotation.png)\n",
    "\n",
    "\n",
    "\n",
    "\n",
    "Using photometric data of the luminous matter (i.e. the stuff we can see), a rotation curve of a galaxy can be created. It is used to estimate the enclosed mass within a radius by equating the centripetal force to the gravitational force. By doing so, you can find the following relationship:\n",
    "\n",
    "\\begin{equation}\n",
    "M_{enc}=\\frac{v^2r}{G}\n",
    "\\end{equation}\n",
    "\n",
    "where:\n",
    "\n",
    "$v$ = orbital speed of the star\n",
    "\n",
    "$G$ = gravitational constant\n",
    "                \n",
    "$M_{enc}$ = enclosed mass within the star's orbit\n",
    "        \n",
    "$r$ = radius or distance from the center of the galaxy\n",
    "\n",
    "\n",
    "\n",
    "Since stars are very massive objects - and the distances we are considering are also very large - we typically use the units of sollar masses ($M_\\odot$) and kiloparsecs ($1\\mathrm{kpc}=3.086\\times10^{19}\\mathrm{m}$). We can also set our gravitational constant to be in similar units, where $G=4.30\\times 10^{-6}\\mathrm{kpc}\\cdot\\mathrm{km}^2/ M_\\odot / \\mathrm{s}^2$."
   ]
  },
  {
   "cell_type": "markdown",
   "id": "a20aad95-090c-479e-931a-d91ce7243b26",
   "metadata": {},
   "source": [
    "### 1. Import the following modules under the given variable names\n",
    "- `numpy` as `np`\n",
    "- `pandas` as `pd`\n",
    "- `matplotlib.pyplot` as `plt`"
   ]
  },
  {
   "cell_type": "code",
   "execution_count": null,
   "id": "784c4bc5-259b-447c-82f8-27071dff94e4",
   "metadata": {
    "tags": []
   },
   "outputs": [],
   "source": []
  },
  {
   "cell_type": "markdown",
   "id": "ba5f44fc-4de0-4cf4-a7d7-cd368affcc5a",
   "metadata": {},
   "source": [
    "### 2. Define a variable `G` and assign it to the value of the gravitational constant above.\n",
    "- **Tip:** To keep track of the units of your variables, it is useful to include the units in a comment beside the variable definition. For example:\n",
    "\n",
    "```python\n",
    "acceleration = 20 # m / s^2\n",
    "```"
   ]
  },
  {
   "cell_type": "code",
   "execution_count": null,
   "id": "cc0d1d6e-37db-4f4a-b3a2-680223f9ef00",
   "metadata": {
    "tags": []
   },
   "outputs": [],
   "source": []
  },
  {
   "cell_type": "markdown",
   "id": "2d78d99b-5166-4d72-afbe-e779186bc184",
   "metadata": {},
   "source": [
    "### 3. Refer to the equations above to define the function:\n",
    "- `calculate_enclosed_mass` which calculates **and returns** `M_enc` from input arguments `v` and `r`. \n",
    "    - You can use the global variable `G` defined previously. "
   ]
  },
  {
   "cell_type": "code",
   "execution_count": null,
   "id": "50ce7094-f51f-4742-905e-25318eb981cb",
   "metadata": {
    "tags": []
   },
   "outputs": [],
   "source": []
  },
  {
   "cell_type": "markdown",
   "id": "7902461a-71a6-4421-b6ac-eac0f763897b",
   "metadata": {},
   "source": [
    "### 4. Load the `NGC5533.csv` file into a Pandas dataframe and assign this to the variable `galaxy_df`.\n",
    "- Display the data in your notebook to get an understanding of what is included in the file."
   ]
  },
  {
   "cell_type": "code",
   "execution_count": null,
   "id": "49c4468b-e6c2-44a1-bc63-0552e4322841",
   "metadata": {
    "tags": []
   },
   "outputs": [],
   "source": []
  },
  {
   "cell_type": "markdown",
   "id": "1cf86e4e-729f-4e69-89cf-f06959a0a9a0",
   "metadata": {},
   "source": [
    "You will notice that there are several columns in this dataset. The first two represent rotation curve information for stars in the NGC5533 galaxy:\n",
    "- **Distance (kpc)**: Distance measurements (in kiloparsecs) from the centre of the galaxy to the star.\n",
    "- **Velocity (km/s)**: Orbital velocity measurements (in km/s) of the star orbiting the centre of the galaxy.\n",
    "\n",
    "You will also notice several *enclosed mass* columns which are all in units of Solar Masses. We will look into these shortly.\n",
    "\n",
    "### 5. Using `plt.scatter` create a rotation curve for the NGC5533 galaxy.\n",
    "- Velocity should be on the vertical axis and radius should be on the horizontal axis.\n",
    "- Include a title.\n",
    "- Label your axes appropriately (and include units).\n",
    "- Before running `plt.show()`, call `plt.grid()` or `ax.grid()` to include gridlines on your plot."
   ]
  },
  {
   "cell_type": "code",
   "execution_count": null,
   "id": "ca5d31eb-a5f4-4e7c-bbe7-1528128b77c3",
   "metadata": {
    "tags": []
   },
   "outputs": [],
   "source": []
  },
  {
   "cell_type": "markdown",
   "id": "a7bc4538-80b0-418e-91fe-52eeb661feb1",
   "metadata": {},
   "source": [
    "# Galaxy Structure\n",
    "\n",
    "As seen in the image below, there are multiple sources that contribute to the mass of a galaxy. Some of the main sources include:\n",
    "\n",
    "- a central black hole\n",
    "- the mass of the stars in the \"bulge\" of the galaxy\n",
    "- the main stellar disk\n",
    "- the surrounding gas cloud. \n",
    "\n",
    "These contributions make up what is reffered to as the **luminous matter** of the galaxy.\n",
    "\n",
    "When we measure the enclosed mass for a given star, some of these masses will increase as you move further away from the centre of the galaxy since you are \"enclosing\" more mass in that star's orbit.\n",
    "\n",
    "![structure](galaxy_structure.png)"
   ]
  },
  {
   "cell_type": "markdown",
   "id": "924e3ee8-f7c7-4a1c-87e2-05666568b07e",
   "metadata": {},
   "source": [
    "### 6. Create another `scatter` plot of the different mass contributions as a function of the distance from the centre of the galaxy.\n",
    "\n",
    "- Mass should be on the vertical axis and radius should be on the horizontal axis.\n",
    "- Include a title.\n",
    "- Label your axes appropriately (and include units).\n",
    "- Before running `plt.show()`, call `plt.grid()` or `ax.grid()` to include gridlines on your plot.\n",
    "- Include a legend that should look similar to the one below:\n",
    "\n",
    "![legend](mass_legend.png)"
   ]
  },
  {
   "cell_type": "code",
   "execution_count": null,
   "id": "de6d033a-d09d-40cc-8d0a-faca8dfbe9c4",
   "metadata": {
    "tags": []
   },
   "outputs": [],
   "source": []
  },
  {
   "cell_type": "markdown",
   "id": "1703209c-c9fc-4f42-85c8-e20d24d81a5f",
   "metadata": {},
   "source": [
    "> **Our goal is to combine these contributions and compare this to the measured enclosed mass that we can obtain from the radial velocity curve of the galaxy.**\n",
    "\n",
    "### 7. Calculate the enclosed luminous mass `M_lum` by include these four contributions such that\n",
    "\n",
    "\\begin{equation}\n",
    "M_{lum} = M_{BH} + M_{bulge} + M_{disk} + M_{gas}\n",
    "\\label{eq:M_enc}\n",
    "\\end{equation}\n",
    "\n",
    "where:\n",
    "\n",
    "$M_{BH}$ = mass of the central black hole\n",
    "\n",
    "$M_{bulge}$ = mass of the galaxy bulge\n",
    "\n",
    "$M_{disk}$ = mass of the main stellar disk\n",
    "\n",
    "$M_{gas}$ = mass of the main gas cloud\n",
    "\n",
    "**Note:** Since each of your masses is actually a Sequence of values (one for each distance), by adding them together, your luminous mass will also be a Sequence of values!"
   ]
  },
  {
   "cell_type": "code",
   "execution_count": null,
   "id": "ddcd4a94-4dab-48e7-b70e-9b4636c5385a",
   "metadata": {
    "tags": []
   },
   "outputs": [],
   "source": []
  },
  {
   "cell_type": "markdown",
   "id": "1dc4b6e5-b437-4201-9eed-050fc284c33e",
   "metadata": {},
   "source": [
    "### 8. Use your `calculate_enclosed_mass` function to calculate the *actual* enclosed mass by using the measurements of **`Distance (kpc)`** and **`Velocity (km/s)`** from the original data file. Assign this to the variable `M_meas`.\n",
    "\n",
    "> Again, this should provide a sequence of enclosed masses - one for each star."
   ]
  },
  {
   "cell_type": "code",
   "execution_count": null,
   "id": "94ea8f80-97d2-4df0-9c04-597b98450f5d",
   "metadata": {
    "tags": []
   },
   "outputs": [],
   "source": []
  },
  {
   "cell_type": "markdown",
   "id": "374db547-2777-44f8-b72d-08a0be613247",
   "metadata": {},
   "source": [
    "### 9. Create a scatter plot that compares `M_lum` and `M_meas`.\n",
    "\n",
    "- Mass should be on the vertical axis and radius should be on the horizontal axis.\n",
    "- Include a title.\n",
    "- Label your axes appropriately (and include units).\n",
    "- Before running `plt.show()`, call `plt.grid()` or `ax.grid()` to include gridlines on your plot.\n",
    "- Include a legend that should have two entries (Luminous and Measured)."
   ]
  },
  {
   "cell_type": "code",
   "execution_count": null,
   "id": "4cf038f6-e48e-40f0-95a9-46a4b2389cab",
   "metadata": {
    "tags": []
   },
   "outputs": [],
   "source": []
  },
  {
   "cell_type": "markdown",
   "id": "30e76a49-d73e-4d7e-8f42-7c1b4066d62a",
   "metadata": {},
   "source": [
    "### 10. **Reflect:** What do you notice about this comparison?\n",
    "> Remember: The luminous matter consists of the mass from all of the stars, gas, central black hole, etc. But the measured mass is the mass that is *actually* enclosed within each star's orbit. If they disagree by a substantial amount, there must be something BIG missing."
   ]
  },
  {
   "cell_type": "markdown",
   "id": "6d393c04-5055-419f-b115-e588ba87f769",
   "metadata": {},
   "source": []
  },
  {
   "cell_type": "markdown",
   "id": "c853d6ea-bb9b-47db-8e0d-fe3ef854d5ad",
   "metadata": {},
   "source": [
    "### 11. Calculate the difference between the two enclosed masses: `M_meas - M_lum`. What is this difference equal to for the star that is furthest away from the centre of the galaxy?\n"
   ]
  },
  {
   "cell_type": "code",
   "execution_count": null,
   "id": "35a7403a-a9f5-41c5-b0e8-24123cdfc1b0",
   "metadata": {
    "tags": []
   },
   "outputs": [],
   "source": []
  },
  {
   "cell_type": "markdown",
   "id": "a2a9f950-e019-4d34-bcdd-3fbb8adb9c29",
   "metadata": {},
   "source": [
    "### 12. **Reflect:** What does this difference in mass tell you?"
   ]
  },
  {
   "cell_type": "markdown",
   "id": "c4be5ee9-d516-4f13-ae28-a6c10f765920",
   "metadata": {},
   "source": []
  },
  {
   "cell_type": "code",
   "execution_count": null,
   "id": "2431a0fe-d09e-42a3-8a9c-9935e89e2a81",
   "metadata": {},
   "outputs": [],
   "source": []
  }
 ],
 "metadata": {
  "kernelspec": {
   "display_name": "Python 3 (ipykernel)",
   "language": "python",
   "name": "python3"
  },
  "language_info": {
   "codemirror_mode": {
    "name": "ipython",
    "version": 3
   },
   "file_extension": ".py",
   "mimetype": "text/x-python",
   "name": "python",
   "nbconvert_exporter": "python",
   "pygments_lexer": "ipython3",
   "version": "3.10.12"
  }
 },
 "nbformat": 4,
 "nbformat_minor": 5
}
