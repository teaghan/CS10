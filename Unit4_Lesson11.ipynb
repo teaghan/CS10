{
 "cells": [
  {
   "cell_type": "markdown",
   "metadata": {},
   "source": [
    "> *The creation of the lessons in this unit relied heavily on the existing lessons created by Mrs. FitzZaland as well as the [lecture series](https://github.com/milaan9/05_Python_Files) produced by Dr. Milaan Parmar. Additionally, these lessons have largely been modelled off of the book [Think Python](https://open.umn.edu/opentextbooks/textbooks/43) by Allen Downey.*"
   ]
  },
  {
   "cell_type": "markdown",
   "metadata": {},
   "source": [
    "# Python File I/O\n",
    "\n",
    "**[This video](https://www.youtube.com/watch?v=gSbEXZvgyBw) provides a decent introduction into reading and writing files with Python.**\n",
    "\n",
    "In this class, you'll learn about Python file operations. More specifically, opening a file, reading from it, writing into it, closing it, and various file methods that you should be aware of."
   ]
  },
  {
   "cell_type": "markdown",
   "metadata": {},
   "source": [
    "## Files\n",
    "\n",
    "Files are named locations on disk to store related information. They are used to permanently store data in a non-volatile memory (e.g. hard disk).\n",
    "\n",
    "Since Random Access Memory (RAM) is volatile (which loses its data when the computer is turned off), we use files for future use of the data by permanently storing them.\n",
    "\n",
    "When we want to read from or write to a file, we need to open it first. When we are done, it needs to be closed so that the resources that are tied with the file are freed.\n",
    "\n",
    "Hence, in Python, a file operation takes place in the following order:\n",
    "<b>\n",
    "1. Open a file\n",
    "2. Close the file\n",
    "3. Write into files (perform operation)\n",
    "4. Read contents of files (perform operation)\n",
    "</b>"
   ]
  },
  {
   "cell_type": "markdown",
   "metadata": {},
   "source": [
    "## 1. Opening Files in Python\n",
    "\n",
    "Python has a built-in **`open()`** function to open a file. This function returns a file object, also called a handle, as it is used to read or modify the file accordingly.\n",
    "\n",
    "```python\n",
    ">>> f = open(\"test.txt\")  # open file in current directory\n",
    ">>> f = open(\"C:/Python99/README.txt\")   # specifying full path\n",
    "```\n",
    "\n",
    "We can specify the mode while opening a file. In mode, we specify whether we want to read **`r`**, write **`w`** or append **`a`** to the file. We can also specify if we want to open the file in text mode or binary mode.\n",
    "\n",
    "The default is reading in text mode. In this mode, we get strings when reading from the file.\n",
    "\n",
    "On the other hand, binary mode returns bytes and this is the mode to be used when dealing with non-text files like images or executable files.\n",
    "\n",
    "| Mode | Description |\n",
    "|:----:| :--- |\n",
    "| **`r`** | **Read** -Opens a file for reading only. The file pointer is placed at the beginning of the file. This is the default mode.   | \n",
    "| **`t`** | **Text** - Opens in text mode. (default).   | \n",
    "| **`b`** | **Binary** - Opens in binary mode (e.g. images).  | \n",
    "| **`x`** | **Create** - Opens a file for exclusive creation. If the file already exists, the operation fails.   | \n",
    "| **`rb`** | Opens a file for reading only in binary format. The file pointer is placed at the beginning of the file. This is the default mode.   | \n",
    "| **`r+`** | Opens a file for both reading and writing. The file pointer placed at the beginning of the file.   | \n",
    "| **`rb+`** | Opens a file for both reading and writing in binary format. The file pointer placed at the beginning of the file.   |  \n",
    "| **`w`** | **Write** - Opens a file for writing only. Overwrites the file if the file exists. If the file does not exist, creates a new file for writing.   | \n",
    "| **`wb`** | Opens a file for writing only in binary format. Overwrites the file if the file exists. If the file does not exist, creates a new file for writing.   | \n",
    "| **`w+`** | Opens a file for both writing and reading. Overwrites the existing file if the file exists. If the file does not exist, creates a new file for reading and writing.   | \n",
    "| **`wb+`** | Opens a file for both writing and reading in binary format. Overwrites the existing file if the file exists. If the file does not exist, creates a new file for reading and writing.   | \n",
    "| **`a`** | **Append** - Opens a file for appending. The file pointer is at the end of the file if the file exists. That is, the file is in the append mode. If the file does not exist, it creates a new file for writing.   | \n",
    "| **`ab`** | Opens a file for appending in binary format. The file pointer is at the end of the file if the file exists. That is, the file is in the append mode. If the file does not exist, it creates a new file for writing.   | \n",
    "| **`a+`** | Opens a file for both appending and reading. The file pointer is at the end of the file if the file exists. The file opens in the append mode. If the file does not exist, it creates a new file for reading and writing.   |\n",
    "| **`ab+`** | Opens a file for both appending and reading in binary format. The file pointer is at the end of the file if the file exists. The file opens in the append mode. If the file does not exist, it creates a new file for reading and writing.   |  "
   ]
  },
  {
   "cell_type": "code",
   "execution_count": 1,
   "metadata": {
    "ExecuteTime": {
     "end_time": "2021-10-25T14:28:08.145188Z",
     "start_time": "2021-10-25T14:28:08.074879Z"
    },
    "execution": {
     "iopub.execute_input": "2023-11-27T16:24:59.723388Z",
     "iopub.status.busy": "2023-11-27T16:24:59.722096Z",
     "iopub.status.idle": "2023-11-27T16:24:59.734517Z",
     "shell.execute_reply": "2023-11-27T16:24:59.732752Z",
     "shell.execute_reply.started": "2023-11-27T16:24:59.723324Z"
    },
    "scrolled": true,
    "tags": []
   },
   "outputs": [
    {
     "name": "stdout",
     "output_type": "stream",
     "text": [
      "<_io.TextIOWrapper name='test.txt' mode='r' encoding='UTF-8'>\n"
     ]
    }
   ],
   "source": [
    "f = open(\"test.txt\")   # equivalent to 'r' or 'rt'\n",
    "print(f)               # <_io.TextIOWrapper name='test.txt' mode='r' encoding='cp1252'>"
   ]
  },
  {
   "cell_type": "markdown",
   "metadata": {},
   "source": [
    "As you can see in the example above, I printed the opened file and it gave  some information about it. Opened file has different reading methods: **`read()`**, **`readline`**, **`readlines`**. An opened file has to be closed with **`close()`** method."
   ]
  },
  {
   "cell_type": "code",
   "execution_count": 2,
   "metadata": {
    "ExecuteTime": {
     "end_time": "2021-10-25T14:28:08.207692Z",
     "start_time": "2021-10-25T14:28:08.151052Z"
    },
    "execution": {
     "iopub.execute_input": "2023-11-27T16:24:59.736073Z",
     "iopub.status.busy": "2023-11-27T16:24:59.735642Z",
     "iopub.status.idle": "2023-11-27T16:24:59.767804Z",
     "shell.execute_reply": "2023-11-27T16:24:59.766237Z",
     "shell.execute_reply.started": "2023-11-27T16:24:59.736021Z"
    },
    "tags": []
   },
   "outputs": [
    {
     "name": "stdout",
     "output_type": "stream",
     "text": [
      "<_io.TextIOWrapper name='test.txt' mode='w' encoding='UTF-8'>\n"
     ]
    }
   ],
   "source": [
    "f = open(\"test.txt\",'w')  # write in text mode\n",
    "print(f)"
   ]
  },
  {
   "cell_type": "code",
   "execution_count": 3,
   "metadata": {
    "ExecuteTime": {
     "end_time": "2021-10-25T14:28:08.317071Z",
     "start_time": "2021-10-25T14:28:08.217459Z"
    },
    "execution": {
     "iopub.execute_input": "2023-11-27T16:24:59.770185Z",
     "iopub.status.busy": "2023-11-27T16:24:59.769819Z",
     "iopub.status.idle": "2023-11-27T16:24:59.775602Z",
     "shell.execute_reply": "2023-11-27T16:24:59.774626Z",
     "shell.execute_reply.started": "2023-11-27T16:24:59.770156Z"
    },
    "tags": []
   },
   "outputs": [],
   "source": [
    "f = open(\"logo.png\",'a+b')  # read and write in binary mode"
   ]
  },
  {
   "cell_type": "markdown",
   "metadata": {},
   "source": [
    "Unlike other languages, the character **`a`** does not imply the number 97 until it is encoded using **`ASCII`** (or other equivalent encodings).\n",
    "\n",
    "Moreover, the default encoding is platform dependent. In windows, it is **`cp1252`** but **`utf-8`** in Linux.\n",
    "\n",
    "So, we must not also rely on the default encoding or else our code will behave differently in different platforms.\n",
    "\n",
    "Hence, when working with files in text mode, it is highly recommended to specify the encoding type."
   ]
  },
  {
   "cell_type": "code",
   "execution_count": 4,
   "metadata": {
    "ExecuteTime": {
     "end_time": "2021-10-25T14:28:08.426445Z",
     "start_time": "2021-10-25T14:28:08.321954Z"
    },
    "execution": {
     "iopub.execute_input": "2023-11-27T16:24:59.777369Z",
     "iopub.status.busy": "2023-11-27T16:24:59.776891Z",
     "iopub.status.idle": "2023-11-27T16:24:59.788591Z",
     "shell.execute_reply": "2023-11-27T16:24:59.787764Z",
     "shell.execute_reply.started": "2023-11-27T16:24:59.777337Z"
    },
    "tags": []
   },
   "outputs": [],
   "source": [
    "f = open(\"test.txt\", mode='r', encoding='utf-8')"
   ]
  },
  {
   "cell_type": "markdown",
   "metadata": {},
   "source": [
    "## 2. Closing Files in Python\n",
    "\n",
    "When we are done with performing operations on the file, we need to properly close the file.\n",
    "\n",
    "Closing a file will free up the resources that were tied with the file. It is done using the **`close()`** method available in Python.\n",
    "\n",
    "Python has a garbage collector to clean up unreferenced objects but we must not rely on it to close the file."
   ]
  },
  {
   "cell_type": "code",
   "execution_count": 5,
   "metadata": {
    "ExecuteTime": {
     "end_time": "2021-10-25T14:28:08.582216Z",
     "start_time": "2021-10-25T14:28:08.430355Z"
    },
    "execution": {
     "iopub.execute_input": "2023-11-27T16:24:59.790115Z",
     "iopub.status.busy": "2023-11-27T16:24:59.789880Z",
     "iopub.status.idle": "2023-11-27T16:24:59.801713Z",
     "shell.execute_reply": "2023-11-27T16:24:59.800810Z",
     "shell.execute_reply.started": "2023-11-27T16:24:59.790095Z"
    },
    "tags": []
   },
   "outputs": [],
   "source": [
    "f = open(\"test.txt\", encoding = 'utf-8')\n",
    "# perform file operations\n",
    "f.close()"
   ]
  },
  {
   "cell_type": "markdown",
   "metadata": {},
   "source": [
    "This method is not entirely safe. If an exception occurs when we are performing some operation with the file, the code exits without closing the file.\n",
    "\n",
    "A safer way is to use a **[try-finally](https://github.com/milaan9/05_Python_Files/blob/main/004_Python_Exceptions_Handling.ipynb)** block."
   ]
  },
  {
   "cell_type": "code",
   "execution_count": 6,
   "metadata": {
    "ExecuteTime": {
     "end_time": "2021-10-25T14:28:08.881538Z",
     "start_time": "2021-10-25T14:28:08.590028Z"
    },
    "execution": {
     "iopub.execute_input": "2023-11-27T16:24:59.803086Z",
     "iopub.status.busy": "2023-11-27T16:24:59.802721Z",
     "iopub.status.idle": "2023-11-27T16:24:59.816518Z",
     "shell.execute_reply": "2023-11-27T16:24:59.814729Z",
     "shell.execute_reply.started": "2023-11-27T16:24:59.803031Z"
    },
    "tags": []
   },
   "outputs": [],
   "source": [
    "try:\n",
    "    f = open(\"test.txt\", encoding = 'utf-8')\n",
    "    # perform file operations\n",
    "finally:\n",
    "    f.close()"
   ]
  },
  {
   "cell_type": "markdown",
   "metadata": {},
   "source": [
    "This way, we are guaranteeing that the file is properly closed even if an exception is raised that causes program flow to stop.\n",
    "\n",
    "**The best way to open and close a file is by using the **`with`** statement.** This ensures that the file is closed when the block inside the **`with`** statement is exited.\n",
    "\n",
    "We don't need to explicitly call the **`close()`** method. It is done internally.\n",
    "\n",
    "```python\n",
    ">>>with open(\"test.txt\", encoding = 'utf-8') as f:\n",
    "   # perform file operations\n",
    "```"
   ]
  },
  {
   "cell_type": "markdown",
   "metadata": {},
   "source": [
    "### The file Object Attributes\n",
    "\n",
    "* **file.closed** - Returns true if file is closed, false otherwise.\n",
    "* **file.mode** - Returns access mode with which file was opened.\n",
    "* **file.name** - Returns name of the file."
   ]
  },
  {
   "cell_type": "code",
   "execution_count": 7,
   "metadata": {
    "ExecuteTime": {
     "end_time": "2021-10-25T14:28:09.020214Z",
     "start_time": "2021-10-25T14:28:08.891306Z"
    },
    "execution": {
     "iopub.execute_input": "2023-11-27T16:24:59.820430Z",
     "iopub.status.busy": "2023-11-27T16:24:59.819165Z",
     "iopub.status.idle": "2023-11-27T16:24:59.836451Z",
     "shell.execute_reply": "2023-11-27T16:24:59.835689Z",
     "shell.execute_reply.started": "2023-11-27T16:24:59.820394Z"
    },
    "tags": []
   },
   "outputs": [
    {
     "name": "stdout",
     "output_type": "stream",
     "text": [
      "Name of the file:  data.txt\n",
      "Closed or not :  False\n",
      "Opening mode :  wb\n"
     ]
    }
   ],
   "source": [
    "# Open a file\n",
    "with open(\"data.txt\", \"wb\") as data:\n",
    "\n",
    "    print (\"Name of the file: \", data.name)\n",
    "    print (\"Closed or not : \", data.closed)\n",
    "    print (\"Opening mode : \", data.mode)\n"
   ]
  },
  {
   "cell_type": "markdown",
   "metadata": {},
   "source": [
    "## 3. Writing to Files in Python\n",
    "\n",
    "In order to write into a file in Python, we need to open it in write **`w`**, append **`a`** or exclusive creation **`x`** mode.\n",
    "\n",
    "We need to be careful with the **`w`** mode, as it will overwrite into the file if it already exists. Due to this, all the previous data are erased.\n",
    "\n",
    "Writing a string or sequence of bytes (for binary files) is done using the **`write()`** method. This method returns the number of characters written to the file."
   ]
  },
  {
   "cell_type": "code",
   "execution_count": 8,
   "metadata": {
    "ExecuteTime": {
     "end_time": "2021-10-25T14:28:09.124707Z",
     "start_time": "2021-10-25T14:28:09.028027Z"
    },
    "execution": {
     "iopub.execute_input": "2023-11-27T16:24:59.840221Z",
     "iopub.status.busy": "2023-11-27T16:24:59.839980Z",
     "iopub.status.idle": "2023-11-27T16:24:59.849861Z",
     "shell.execute_reply": "2023-11-27T16:24:59.848196Z",
     "shell.execute_reply.started": "2023-11-27T16:24:59.840201Z"
    },
    "tags": []
   },
   "outputs": [],
   "source": [
    "with open(\"test_1.txt\", 'w', encoding='utf-8') as f:\n",
    "    f.write(\"my first file\\n\")\n",
    "    f.write(\"This file\\n\\n\")\n",
    "    f.write(\"contains three lines\\n\")"
   ]
  },
  {
   "cell_type": "markdown",
   "metadata": {},
   "source": [
    "This program will create a new file named **`test_1.txt`** in the current directory if it does not exist. **If it does exist, it is overwritten.**\n",
    "\n",
    "We must include the newline characters ourselves to distinguish the different lines."
   ]
  },
  {
   "cell_type": "code",
   "execution_count": 9,
   "metadata": {
    "ExecuteTime": {
     "end_time": "2021-10-25T14:28:09.269731Z",
     "start_time": "2021-10-25T14:28:09.134477Z"
    },
    "execution": {
     "iopub.execute_input": "2023-11-27T16:24:59.852916Z",
     "iopub.status.busy": "2023-11-27T16:24:59.851994Z",
     "iopub.status.idle": "2023-11-27T16:24:59.863122Z",
     "shell.execute_reply": "2023-11-27T16:24:59.862030Z",
     "shell.execute_reply.started": "2023-11-27T16:24:59.852857Z"
    },
    "tags": []
   },
   "outputs": [],
   "source": [
    "with open(\"test_2.txt\", 'w', encoding='utf-8') as f:\n",
    "    f.write(\"This is file\\n\")\n",
    "    f.write(\"my\\n\")\n",
    "    f.write(\"first file\\n\")"
   ]
  },
  {
   "cell_type": "markdown",
   "metadata": {},
   "source": [
    "Let us append **`a`** some text to the file we have been reading:"
   ]
  },
  {
   "cell_type": "code",
   "execution_count": 10,
   "metadata": {
    "ExecuteTime": {
     "end_time": "2021-10-25T14:28:09.296102Z",
     "start_time": "2021-10-25T14:28:09.274614Z"
    },
    "execution": {
     "iopub.execute_input": "2023-11-27T16:24:59.864667Z",
     "iopub.status.busy": "2023-11-27T16:24:59.864344Z",
     "iopub.status.idle": "2023-11-27T16:24:59.872925Z",
     "shell.execute_reply": "2023-11-27T16:24:59.871916Z",
     "shell.execute_reply.started": "2023-11-27T16:24:59.864638Z"
    },
    "tags": []
   },
   "outputs": [],
   "source": [
    "with open(\"test_2.txt\", 'a', encoding='utf-8') as f:\n",
    "    f.write('This text has to be appended at the end')"
   ]
  },
  {
   "cell_type": "markdown",
   "metadata": {},
   "source": [
    "## 4. Reading Files in Python\n",
    "\n",
    "To read a file in Python, we must open the file in reading **`r`** mode.\n",
    "\n",
    "There are various methods available for this purpose. We can use the **`read(size)`** method to read in the **`size`** number of data. If the **`size`** parameter is not specified, it reads and returns up to the end of the file.\n",
    "\n",
    "We can read the **`text_1.txt`** file we wrote in the above section in the following way:"
   ]
  },
  {
   "cell_type": "code",
   "execution_count": 11,
   "metadata": {
    "ExecuteTime": {
     "end_time": "2021-10-25T14:28:09.525600Z",
     "start_time": "2021-10-25T14:28:09.418663Z"
    },
    "execution": {
     "iopub.execute_input": "2023-11-27T16:24:59.874340Z",
     "iopub.status.busy": "2023-11-27T16:24:59.874053Z",
     "iopub.status.idle": "2023-11-27T16:24:59.885924Z",
     "shell.execute_reply": "2023-11-27T16:24:59.885186Z",
     "shell.execute_reply.started": "2023-11-27T16:24:59.874316Z"
    },
    "scrolled": true,
    "tags": []
   },
   "outputs": [
    {
     "name": "stdout",
     "output_type": "stream",
     "text": [
      "<class 'str'>\n",
      "This is file\n",
      "my\n",
      "first file\n",
      "This text has to be appended at the end\n"
     ]
    }
   ],
   "source": [
    "f = open(\"test_2.txt\",'r',encoding = 'utf-8')\n",
    "txt = f.read()  # read all the characters in the file\n",
    "print(type(txt))\n",
    "print(txt)\n",
    "f.close()"
   ]
  },
  {
   "cell_type": "code",
   "execution_count": 12,
   "metadata": {
    "ExecuteTime": {
     "end_time": "2021-10-25T14:28:09.662808Z",
     "start_time": "2021-10-25T14:28:09.529505Z"
    },
    "execution": {
     "iopub.execute_input": "2023-11-27T16:24:59.887027Z",
     "iopub.status.busy": "2023-11-27T16:24:59.886795Z",
     "iopub.status.idle": "2023-11-27T16:24:59.906145Z",
     "shell.execute_reply": "2023-11-27T16:24:59.904979Z",
     "shell.execute_reply.started": "2023-11-27T16:24:59.887007Z"
    },
    "tags": []
   },
   "outputs": [
    {
     "data": {
      "text/plain": [
       "'my first'"
      ]
     },
     "execution_count": 12,
     "metadata": {},
     "output_type": "execute_result"
    }
   ],
   "source": [
    "f = open(\"test_1.txt\",'r',encoding = 'utf-8')\n",
    "f.read(8)  # read the first 8 data characters"
   ]
  },
  {
   "cell_type": "code",
   "execution_count": 13,
   "metadata": {
    "ExecuteTime": {
     "end_time": "2021-10-25T14:28:09.816134Z",
     "start_time": "2021-10-25T14:28:09.665737Z"
    },
    "execution": {
     "iopub.execute_input": "2023-11-27T16:24:59.908470Z",
     "iopub.status.busy": "2023-11-27T16:24:59.907673Z",
     "iopub.status.idle": "2023-11-27T16:24:59.920519Z",
     "shell.execute_reply": "2023-11-27T16:24:59.919695Z",
     "shell.execute_reply.started": "2023-11-27T16:24:59.908427Z"
    },
    "tags": []
   },
   "outputs": [
    {
     "data": {
      "text/plain": [
       "' file'"
      ]
     },
     "execution_count": 13,
     "metadata": {},
     "output_type": "execute_result"
    }
   ],
   "source": [
    "f.read(5)  # read the next 5 data characters"
   ]
  },
  {
   "cell_type": "code",
   "execution_count": 14,
   "metadata": {
    "ExecuteTime": {
     "end_time": "2021-10-25T14:28:09.924044Z",
     "start_time": "2021-10-25T14:28:09.820039Z"
    },
    "execution": {
     "iopub.execute_input": "2023-11-27T16:24:59.921897Z",
     "iopub.status.busy": "2023-11-27T16:24:59.921640Z",
     "iopub.status.idle": "2023-11-27T16:24:59.934904Z",
     "shell.execute_reply": "2023-11-27T16:24:59.933936Z",
     "shell.execute_reply.started": "2023-11-27T16:24:59.921875Z"
    },
    "tags": []
   },
   "outputs": [
    {
     "data": {
      "text/plain": [
       "'\\nThis file\\n\\ncontains three lines\\n'"
      ]
     },
     "execution_count": 14,
     "metadata": {},
     "output_type": "execute_result"
    }
   ],
   "source": [
    "f.read()  # read in the rest till end of file"
   ]
  },
  {
   "cell_type": "code",
   "execution_count": 15,
   "metadata": {
    "ExecuteTime": {
     "end_time": "2021-10-25T14:28:10.032936Z",
     "start_time": "2021-10-25T14:28:09.928929Z"
    },
    "execution": {
     "iopub.execute_input": "2023-11-27T16:24:59.936434Z",
     "iopub.status.busy": "2023-11-27T16:24:59.936104Z",
     "iopub.status.idle": "2023-11-27T16:24:59.947295Z",
     "shell.execute_reply": "2023-11-27T16:24:59.946334Z",
     "shell.execute_reply.started": "2023-11-27T16:24:59.936405Z"
    },
    "tags": []
   },
   "outputs": [
    {
     "data": {
      "text/plain": [
       "''"
      ]
     },
     "execution_count": 15,
     "metadata": {},
     "output_type": "execute_result"
    }
   ],
   "source": [
    "f.read()  # further reading returns empty sting"
   ]
  },
  {
   "cell_type": "markdown",
   "metadata": {},
   "source": [
    "We can see that the **`read()`** method returns a newline as **`'\\n'`**. Once the end of the file is reached, we get an empty string on further reading.\n",
    "\n",
    "We can change our current file cursor (position) using the **`seek()`** method. Similarly, the **`tell()`** method returns our current position (in number of bytes)."
   ]
  },
  {
   "cell_type": "code",
   "execution_count": 16,
   "metadata": {
    "ExecuteTime": {
     "end_time": "2021-10-25T14:28:10.141825Z",
     "start_time": "2021-10-25T14:28:10.037819Z"
    },
    "execution": {
     "iopub.execute_input": "2023-11-27T16:24:59.948532Z",
     "iopub.status.busy": "2023-11-27T16:24:59.948272Z",
     "iopub.status.idle": "2023-11-27T16:25:00.036824Z",
     "shell.execute_reply": "2023-11-27T16:25:00.035346Z",
     "shell.execute_reply.started": "2023-11-27T16:24:59.948510Z"
    },
    "tags": []
   },
   "outputs": [
    {
     "data": {
      "text/plain": [
       "46"
      ]
     },
     "execution_count": 16,
     "metadata": {},
     "output_type": "execute_result"
    }
   ],
   "source": [
    "f.tell()    # get the current file position"
   ]
  },
  {
   "cell_type": "code",
   "execution_count": 17,
   "metadata": {
    "ExecuteTime": {
     "end_time": "2021-10-25T14:28:10.235578Z",
     "start_time": "2021-10-25T14:28:10.145731Z"
    },
    "execution": {
     "iopub.execute_input": "2023-11-27T16:25:00.039631Z",
     "iopub.status.busy": "2023-11-27T16:25:00.039000Z",
     "iopub.status.idle": "2023-11-27T16:25:00.053521Z",
     "shell.execute_reply": "2023-11-27T16:25:00.052012Z",
     "shell.execute_reply.started": "2023-11-27T16:25:00.039577Z"
    },
    "tags": []
   },
   "outputs": [
    {
     "data": {
      "text/plain": [
       "0"
      ]
     },
     "execution_count": 17,
     "metadata": {},
     "output_type": "execute_result"
    }
   ],
   "source": [
    "f.seek(0)   # bring file cursor to initial position"
   ]
  },
  {
   "cell_type": "code",
   "execution_count": 18,
   "metadata": {
    "ExecuteTime": {
     "end_time": "2021-10-25T14:28:10.351794Z",
     "start_time": "2021-10-25T14:28:10.239484Z"
    },
    "execution": {
     "iopub.execute_input": "2023-11-27T16:25:00.056558Z",
     "iopub.status.busy": "2023-11-27T16:25:00.055585Z",
     "iopub.status.idle": "2023-11-27T16:25:00.066125Z",
     "shell.execute_reply": "2023-11-27T16:25:00.064999Z",
     "shell.execute_reply.started": "2023-11-27T16:25:00.056498Z"
    },
    "scrolled": true,
    "tags": []
   },
   "outputs": [
    {
     "name": "stdout",
     "output_type": "stream",
     "text": [
      "my first file\n",
      "This file\n",
      "\n",
      "contains three lines\n",
      "\n"
     ]
    }
   ],
   "source": [
    "print(f.read())  # read the entire file"
   ]
  },
  {
   "cell_type": "markdown",
   "metadata": {},
   "source": [
    "We can read a file line-by-line using a **[for loop](https://github.com/milaan9/03_Python_Flow_Control/blob/main/005_Python_for_Loop.ipynb)**. This is both efficient and fast."
   ]
  },
  {
   "cell_type": "code",
   "execution_count": 19,
   "metadata": {
    "ExecuteTime": {
     "end_time": "2021-10-25T14:28:10.454334Z",
     "start_time": "2021-10-25T14:28:10.364489Z"
    },
    "execution": {
     "iopub.execute_input": "2023-11-27T16:25:00.068114Z",
     "iopub.status.busy": "2023-11-27T16:25:00.067633Z",
     "iopub.status.idle": "2023-11-27T16:25:00.079964Z",
     "shell.execute_reply": "2023-11-27T16:25:00.079015Z",
     "shell.execute_reply.started": "2023-11-27T16:25:00.068075Z"
    },
    "tags": []
   },
   "outputs": [
    {
     "name": "stdout",
     "output_type": "stream",
     "text": [
      "my first file\n",
      "This file\n",
      "\n",
      "contains three lines\n"
     ]
    }
   ],
   "source": [
    "f = open(\"test_1.txt\",'r',encoding = 'utf-8')\n",
    "for line in f:\n",
    "    print(line, end = '')"
   ]
  },
  {
   "cell_type": "markdown",
   "metadata": {},
   "source": [
    "In this program, the lines in the file itself include a newline character **`\\n`**. So, we use the end parameter of the **`print()`** function to avoid two newlines when printing."
   ]
  },
  {
   "cell_type": "markdown",
   "metadata": {},
   "source": [
    "Alternatively, we can use the **`readline()`** method to read individual lines of a file. This method reads a file till the newline, including the newline character."
   ]
  },
  {
   "cell_type": "code",
   "execution_count": 20,
   "metadata": {
    "ExecuteTime": {
     "end_time": "2021-10-25T14:28:10.578847Z",
     "start_time": "2021-10-25T14:28:10.458240Z"
    },
    "execution": {
     "iopub.execute_input": "2023-11-27T16:25:00.081246Z",
     "iopub.status.busy": "2023-11-27T16:25:00.080977Z",
     "iopub.status.idle": "2023-11-27T16:25:00.097165Z",
     "shell.execute_reply": "2023-11-27T16:25:00.096300Z",
     "shell.execute_reply.started": "2023-11-27T16:25:00.081223Z"
    },
    "tags": []
   },
   "outputs": [
    {
     "data": {
      "text/plain": [
       "'my first file\\n'"
      ]
     },
     "execution_count": 20,
     "metadata": {},
     "output_type": "execute_result"
    }
   ],
   "source": [
    "f.seek(0)  # bring file cursor to initial position\n",
    "f.readline()"
   ]
  },
  {
   "cell_type": "code",
   "execution_count": 21,
   "metadata": {
    "ExecuteTime": {
     "end_time": "2021-10-25T14:28:10.749264Z",
     "start_time": "2021-10-25T14:28:10.582755Z"
    },
    "execution": {
     "iopub.execute_input": "2023-11-27T16:25:00.098492Z",
     "iopub.status.busy": "2023-11-27T16:25:00.098205Z",
     "iopub.status.idle": "2023-11-27T16:25:00.113932Z",
     "shell.execute_reply": "2023-11-27T16:25:00.113113Z",
     "shell.execute_reply.started": "2023-11-27T16:25:00.098466Z"
    },
    "tags": []
   },
   "outputs": [
    {
     "data": {
      "text/plain": [
       "'This file\\n'"
      ]
     },
     "execution_count": 21,
     "metadata": {},
     "output_type": "execute_result"
    }
   ],
   "source": [
    "f.readline()"
   ]
  },
  {
   "cell_type": "code",
   "execution_count": 22,
   "metadata": {
    "ExecuteTime": {
     "end_time": "2021-10-25T14:28:10.874263Z",
     "start_time": "2021-10-25T14:28:10.760981Z"
    },
    "execution": {
     "iopub.execute_input": "2023-11-27T16:25:00.115358Z",
     "iopub.status.busy": "2023-11-27T16:25:00.115027Z",
     "iopub.status.idle": "2023-11-27T16:25:00.127799Z",
     "shell.execute_reply": "2023-11-27T16:25:00.126934Z",
     "shell.execute_reply.started": "2023-11-27T16:25:00.115330Z"
    },
    "tags": []
   },
   "outputs": [
    {
     "data": {
      "text/plain": [
       "'\\n'"
      ]
     },
     "execution_count": 22,
     "metadata": {},
     "output_type": "execute_result"
    }
   ],
   "source": [
    "f.readline()"
   ]
  },
  {
   "cell_type": "code",
   "execution_count": 23,
   "metadata": {
    "ExecuteTime": {
     "end_time": "2021-10-25T14:28:11.014891Z",
     "start_time": "2021-10-25T14:28:10.880126Z"
    },
    "execution": {
     "iopub.execute_input": "2023-11-27T16:25:00.129267Z",
     "iopub.status.busy": "2023-11-27T16:25:00.128933Z",
     "iopub.status.idle": "2023-11-27T16:25:00.143284Z",
     "shell.execute_reply": "2023-11-27T16:25:00.142567Z",
     "shell.execute_reply.started": "2023-11-27T16:25:00.129239Z"
    },
    "tags": []
   },
   "outputs": [
    {
     "data": {
      "text/plain": [
       "'contains three lines\\n'"
      ]
     },
     "execution_count": 23,
     "metadata": {},
     "output_type": "execute_result"
    }
   ],
   "source": [
    "f.readline()"
   ]
  },
  {
   "cell_type": "markdown",
   "metadata": {},
   "source": [
    "Lastly, the **`readlines()`** method returns a list of remaining lines of the entire file. All these reading methods return empty values when the end of file **(EOF)** is reached."
   ]
  },
  {
   "cell_type": "code",
   "execution_count": 24,
   "metadata": {
    "ExecuteTime": {
     "end_time": "2021-10-25T14:28:11.139894Z",
     "start_time": "2021-10-25T14:28:11.018801Z"
    },
    "execution": {
     "iopub.execute_input": "2023-11-27T16:25:00.144489Z",
     "iopub.status.busy": "2023-11-27T16:25:00.144183Z",
     "iopub.status.idle": "2023-11-27T16:25:00.155198Z",
     "shell.execute_reply": "2023-11-27T16:25:00.154303Z",
     "shell.execute_reply.started": "2023-11-27T16:25:00.144462Z"
    },
    "scrolled": true,
    "tags": []
   },
   "outputs": [
    {
     "data": {
      "text/plain": [
       "['my first file\\n', 'This file\\n', '\\n', 'contains three lines\\n']"
      ]
     },
     "execution_count": 24,
     "metadata": {},
     "output_type": "execute_result"
    }
   ],
   "source": [
    "f.seek(0)  # bring file cursor to initial position\n",
    "f.readlines()"
   ]
  },
  {
   "cell_type": "markdown",
   "metadata": {},
   "source": [
    "Another way to get all the lines as a list is using **`splitlines()`**"
   ]
  },
  {
   "cell_type": "code",
   "execution_count": 25,
   "metadata": {
    "ExecuteTime": {
     "end_time": "2021-10-25T14:28:11.279548Z",
     "start_time": "2021-10-25T14:28:11.142828Z"
    },
    "execution": {
     "iopub.execute_input": "2023-11-27T16:25:00.156510Z",
     "iopub.status.busy": "2023-11-27T16:25:00.156219Z",
     "iopub.status.idle": "2023-11-27T16:25:00.169840Z",
     "shell.execute_reply": "2023-11-27T16:25:00.168963Z",
     "shell.execute_reply.started": "2023-11-27T16:25:00.156485Z"
    },
    "tags": []
   },
   "outputs": [
    {
     "data": {
      "text/plain": [
       "['my first file', 'This file', '', 'contains three lines']"
      ]
     },
     "execution_count": 25,
     "metadata": {},
     "output_type": "execute_result"
    }
   ],
   "source": [
    "f.seek(0)  # bring file cursor to initial position\n",
    "f.read().splitlines()"
   ]
  },
  {
   "cell_type": "markdown",
   "metadata": {},
   "source": [
    "## 5. Python File Methods\n",
    "\n",
    "There are various methods available with the file object. Some of them have been used in the above examples.\n",
    "\n",
    "Here is the complete list of methods in text mode with a brief description:\n",
    "\n",
    "| Method | Description |\n",
    "|:----| :--- |\n",
    "| **`close()`** |   Closes an opened file. It has no effect if the file is already closed.   | \n",
    "| **`detach()`** |   Separates the underlying binary buffer from the **`TextIOBase`** and returns it.   | \n",
    "| **`fileno()`** |   Returns an integer number (file descriptor) of the file.   | \n",
    "| **`flush()`** |   Flushes the write buffer of the file stream.   | \n",
    "| **`isatty()`** |   Returns **`True`** if the file stream is interactive.   | \n",
    "| **`read(n)`** |   Reads at most `n` characters from the file. Reads till end of file if it is negative or `None`.   | \n",
    "| **`readable()`** |   Returns **`True`** if the file stream can be read from.   | \n",
    "| **`readline(n=-1)`** |   Reads and returns one line from the file. Reads in at most **`n`** bytes if specified.   | \n",
    "| **`readlines(n=-1)`** |   Reads and returns a list of lines from the file. Reads in at most **`n`** bytes/characters if specified.   | \n",
    "| **`seek(offset,from=SEEK_SET)`** |   Changes the file position to **`offset`** bytes, in reference to `from` (start, current, end).   | \n",
    "| **`seekable()`** |   Returns **`True`** if the file stream supports random access.   | \n",
    "| **`tell()`** |   Returns the current file location.   | \n",
    "| **`truncate(size=None)`** |   Resizes the file stream to **`size`** bytes. If **`size`** is not specified, resizes to current location..   | \n",
    "| **`writable()`** |   Returns **`True`** if the file stream can be written to.   | \n",
    "| **`write(s)`** |   Writes the string **`s`** to the file and returns the number of characters written..   | \n",
    "| **`writelines(lines)`** |   Writes a list of **`lines`** to the file..   | "
   ]
  },
  {
   "cell_type": "markdown",
   "metadata": {},
   "source": [
    "## 6. Deleting Files\n",
    "\n",
    "If we want to remove a file we use the built-in **`os`** module."
   ]
  },
  {
   "cell_type": "markdown",
   "metadata": {},
   "source": [
    "If the file does not exist, the remove method will raise an error, so it is good to use a condition like this:"
   ]
  },
  {
   "cell_type": "code",
   "execution_count": 26,
   "metadata": {
    "ExecuteTime": {
     "end_time": "2021-10-25T14:28:19.870587Z",
     "start_time": "2021-10-25T14:28:19.861800Z"
    },
    "execution": {
     "iopub.execute_input": "2023-11-27T16:25:00.171266Z",
     "iopub.status.busy": "2023-11-27T16:25:00.170966Z",
     "iopub.status.idle": "2023-11-27T16:25:00.238162Z",
     "shell.execute_reply": "2023-11-27T16:25:00.236380Z",
     "shell.execute_reply.started": "2023-11-27T16:25:00.171241Z"
    },
    "tags": []
   },
   "outputs": [
    {
     "name": "stdout",
     "output_type": "stream",
     "text": [
      "The file does not exist\n"
     ]
    }
   ],
   "source": [
    "import os\n",
    "if os.path.exists('./files/example.txt'):\n",
    "    os.remove('./files/example.txt')\n",
    "else:\n",
    "    print('The file does not exist')"
   ]
  },
  {
   "cell_type": "markdown",
   "metadata": {},
   "source": [
    "## 7. File with csv Extension\n",
    "\n",
    "**CSV** stands for **C**omma **S**eparated **V**alues. CSV is a simple file format used to store tabular data, such as a spreadsheet or database. CSV is a very common data format in data science.\n",
    "\n",
    "For example, create **csv_example.csv** in your working directory with the following contents:\n",
    "\n",
    "```csv\n",
    "\"name\",\"country\",\"city\",\"skills\"\n",
    "\"Milaan\",\"England\",\"London\",\"Python\"\n",
    "```"
   ]
  },
  {
   "cell_type": "code",
   "execution_count": 27,
   "metadata": {
    "ExecuteTime": {
     "end_time": "2021-10-25T14:28:25.606081Z",
     "start_time": "2021-10-25T14:28:25.589481Z"
    },
    "execution": {
     "iopub.execute_input": "2023-11-27T16:25:00.241151Z",
     "iopub.status.busy": "2023-11-27T16:25:00.240506Z",
     "iopub.status.idle": "2023-11-27T16:25:00.373824Z",
     "shell.execute_reply": "2023-11-27T16:25:00.371912Z",
     "shell.execute_reply.started": "2023-11-27T16:25:00.241097Z"
    },
    "scrolled": true,
    "tags": []
   },
   "outputs": [
    {
     "name": "stdout",
     "output_type": "stream",
     "text": [
      "Column names are :name, country, city, skills\n",
      "\tMilaan is a teachers. He lives in England, London.\n",
      "Number of lines:  2\n"
     ]
    }
   ],
   "source": [
    "import csv\n",
    "with open('csv_example.csv') as f:\n",
    "    csv_reader = csv.reader(f, delimiter=',') # w use, reader method to read csv\n",
    "    line_count = 0\n",
    "    for row in csv_reader:\n",
    "        if line_count == 0:\n",
    "            print(f'Column names are :{\", \".join(row)}')\n",
    "            line_count += 1\n",
    "        else:\n",
    "            print(\n",
    "                f'\\t{row[0]} is a teachers. He lives in {row[1]}, {row[2]}.')\n",
    "            line_count += 1\n",
    "    print(f'Number of lines:  {line_count}')"
   ]
  },
  {
   "cell_type": "markdown",
   "metadata": {},
   "source": [
    "## Challenge\n",
    "\n",
    "**1. Download `Challenge_34.ipynb` from Teams.**\n",
    "\n",
    "**2. Upload this file into your own *Project* on Deepnote by dragging the `Challenge_34.ipynb` file onto the Notebooks tab on the left-hand side.** \n",
    "\n",
    "**3. Also download the txt and csv files in the Challenge_34 folder and upload these to the Files tab in your project.**\n",
    "\n",
    "**4. Use this notebook to complete Challenge 34 in Deepnote.**"
   ]
  },
  {
   "cell_type": "code",
   "execution_count": null,
   "metadata": {},
   "outputs": [],
   "source": []
  }
 ],
 "metadata": {
  "hide_input": false,
  "kernelspec": {
   "display_name": "Python 3 (ipykernel)",
   "language": "python",
   "name": "python3"
  },
  "language_info": {
   "codemirror_mode": {
    "name": "ipython",
    "version": 3
   },
   "file_extension": ".py",
   "mimetype": "text/x-python",
   "name": "python",
   "nbconvert_exporter": "python",
   "pygments_lexer": "ipython3",
   "version": "3.10.12"
  },
  "toc": {
   "base_numbering": 1,
   "nav_menu": {},
   "number_sections": true,
   "sideBar": true,
   "skip_h1_title": false,
   "title_cell": "Table of Contents",
   "title_sidebar": "Contents",
   "toc_cell": false,
   "toc_position": {
    "height": "calc(100% - 180px)",
    "left": "10px",
    "top": "150px",
    "width": "204.797px"
   },
   "toc_section_display": true,
   "toc_window_display": false
  },
  "varInspector": {
   "cols": {
    "lenName": 16,
    "lenType": 16,
    "lenVar": 40
   },
   "kernels_config": {
    "python": {
     "delete_cmd_postfix": "",
     "delete_cmd_prefix": "del ",
     "library": "var_list.py",
     "varRefreshCmd": "print(var_dic_list())"
    },
    "r": {
     "delete_cmd_postfix": ") ",
     "delete_cmd_prefix": "rm(",
     "library": "var_list.r",
     "varRefreshCmd": "cat(var_dic_list()) "
    }
   },
   "types_to_exclude": [
    "module",
    "function",
    "builtin_function_or_method",
    "instance",
    "_Feature"
   ],
   "window_display": false
  }
 },
 "nbformat": 4,
 "nbformat_minor": 4
}
