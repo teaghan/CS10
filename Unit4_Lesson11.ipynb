{
 "cells": [
  {
   "cell_type": "markdown",
   "metadata": {},
   "source": [
    "> *The creation of the lessons in this unit relied heavily on the existing lessons created by Mrs. FitzZaland as well as the [lecture series](https://github.com/milaan9/05_Python_Files) produced by Dr. Milaan Parmar. Additionally, these lessons have largely been modelled off of the book [Think Python](https://open.umn.edu/opentextbooks/textbooks/43) by Allen Downey.*"
   ]
  },
  {
   "cell_type": "markdown",
   "metadata": {},
   "source": [
    "# Python File I/O\n",
    "\n",
    "In this lesson, you'll learn about Python file operations. More specifically, opening a file, reading from it, writing into it, closing it, and various file methods that you should be aware of.\n",
    "\n",
    "**[This video](https://www.youtube.com/watch?v=gSbEXZvgyBw) provides a good introduction into reading and writing to files with Python.**\n",
    "\n",
    "<div class=\"alert alert-info\"><h4>Tasks</h4><p>Alert boxes like this will provide you with tasks that you must do while going through this lesson.</p></div>\n"
   ]
  },
  {
   "cell_type": "markdown",
   "metadata": {},
   "source": [
    "## Files\n",
    "\n",
    "When we want to read from or write to a file, we need to open it first. When we are done, it needs to be closed so that the resources that are tied to the file are freed."
   ]
  },
  {
   "cell_type": "markdown",
   "metadata": {},
   "source": [
    "## 1. Opening Files in Python\n",
    "\n",
    "Python has a built-in **`open()`** function to open a file. This function returns a file object (also called a handle) which is used to read or modify the file accordingly.\n",
    "\n",
    "```python\n",
    ">>> f = open(\"test.txt\")  # open file in current directory\n",
    ">>> f = open(\"C:/Python99/README.txt\")   # specifying full path\n",
    "```\n",
    "\n",
    "We can specify the **mode** while opening a file. In mode, we specify whether we want to read **`r`**, write **`w`** or append **`a`** to the file. We can also specify if we want to open the file in text mode or binary mode.\n",
    "\n",
    "> The default is reading in text mode. \n",
    "\n",
    "In text mode, we get strings when reading from the file.\n",
    "\n",
    "Binary mode returns bytes and this is the mode to be used when dealing with non-text files like images or executable files.\n",
    "\n",
    "The keys for each mode are described below:\n",
    "\n",
    "| Mode | Description |\n",
    "|:----:| :--- |\n",
    "| **`r`** | **Read** -Opens a file for reading only. The file pointer is placed at the beginning of the file. This is the default mode.   | \n",
    "| **`t`** | **Text** - Opens in text mode. (default).   | \n",
    "| **`b`** | **Binary** - Opens in binary mode (e.g. images).  | \n",
    "| **`x`** | **Create** - Opens a file for exclusive creation. If the file already exists, the operation fails.   | \n",
    "| **`rb`** | Opens a file for reading only in binary format. The file pointer is placed at the beginning of the file. This is the default mode.   | \n",
    "| **`r+`** | Opens a file for both reading and writing. The file pointer placed at the beginning of the file.   | \n",
    "| **`rb+`** | Opens a file for both reading and writing in binary format. The file pointer placed at the beginning of the file.   |  \n",
    "| **`w`** | **Write** - Opens a file for writing only. Overwrites the file if the file exists. If the file does not exist, creates a new file for writing.   | \n",
    "| **`wb`** | Opens a file for writing only in binary format. Overwrites the file if the file exists. If the file does not exist, creates a new file for writing.   | \n",
    "| **`w+`** | Opens a file for both writing and reading. Overwrites the existing file if the file exists. If the file does not exist, creates a new file for reading and writing.   | \n",
    "| **`wb+`** | Opens a file for both writing and reading in binary format. Overwrites the existing file if the file exists. If the file does not exist, creates a new file for reading and writing.   | \n",
    "| **`a`** | **Append** - Opens a file for appending. The file pointer is at the end of the file if the file exists. That is, the file is in the append mode. If the file does not exist, it creates a new file for writing.   | \n",
    "| **`ab`** | Opens a file for appending in binary format. The file pointer is at the end of the file if the file exists. That is, the file is in the append mode. If the file does not exist, it creates a new file for writing.   | \n",
    "| **`a+`** | Opens a file for both appending and reading. The file pointer is at the end of the file if the file exists. The file opens in the append mode. If the file does not exist, it creates a new file for reading and writing.   |\n",
    "| **`ab+`** | Opens a file for both appending and reading in binary format. The file pointer is at the end of the file if the file exists. The file opens in the append mode. If the file does not exist, it creates a new file for reading and writing.   |  "
   ]
  },
  {
   "cell_type": "code",
   "execution_count": 1,
   "metadata": {
    "ExecuteTime": {
     "end_time": "2021-10-25T14:28:08.145188Z",
     "start_time": "2021-10-25T14:28:08.074879Z"
    },
    "execution": {
     "iopub.execute_input": "2023-12-07T16:28:53.870033Z",
     "iopub.status.busy": "2023-12-07T16:28:53.868555Z",
     "iopub.status.idle": "2023-12-07T16:28:53.878797Z",
     "shell.execute_reply": "2023-12-07T16:28:53.877317Z",
     "shell.execute_reply.started": "2023-12-07T16:28:53.869971Z"
    },
    "scrolled": true,
    "tags": []
   },
   "outputs": [
    {
     "name": "stdout",
     "output_type": "stream",
     "text": [
      "<_io.TextIOWrapper name='test.txt' mode='r' encoding='UTF-8'>\n"
     ]
    }
   ],
   "source": [
    "f = open(\"test.txt\")   # equivalent to 'r' or 'rt'\n",
    "print(f)               # <_io.TextIOWrapper name='test.txt' mode='r' encoding='cp1252'>\n",
    "f.close()"
   ]
  },
  {
   "cell_type": "markdown",
   "metadata": {},
   "source": [
    "As you can see in the example above, I printed the opened file and it gave  some information about it. \n",
    "\n",
    "An opened file has different reading methods - for example, **`read()`**, **`readline`**, **`readlines`**. \n",
    "\n",
    "> An opened file has to be closed with **`close()`** method."
   ]
  },
  {
   "cell_type": "code",
   "execution_count": 2,
   "metadata": {
    "ExecuteTime": {
     "end_time": "2021-10-25T14:28:08.207692Z",
     "start_time": "2021-10-25T14:28:08.151052Z"
    },
    "execution": {
     "iopub.execute_input": "2023-12-07T16:28:54.405228Z",
     "iopub.status.busy": "2023-12-07T16:28:54.403426Z",
     "iopub.status.idle": "2023-12-07T16:28:54.415867Z",
     "shell.execute_reply": "2023-12-07T16:28:54.414262Z",
     "shell.execute_reply.started": "2023-12-07T16:28:54.405167Z"
    },
    "tags": []
   },
   "outputs": [
    {
     "name": "stdout",
     "output_type": "stream",
     "text": [
      "<_io.TextIOWrapper name='test.txt' mode='w' encoding='UTF-8'>\n"
     ]
    }
   ],
   "source": [
    "f = open(\"test.txt\",'w')  # write in text mode\n",
    "print(f)\n",
    "f.close()"
   ]
  },
  {
   "cell_type": "code",
   "execution_count": 3,
   "metadata": {
    "ExecuteTime": {
     "end_time": "2021-10-25T14:28:08.317071Z",
     "start_time": "2021-10-25T14:28:08.217459Z"
    },
    "execution": {
     "iopub.execute_input": "2023-12-07T16:28:54.752106Z",
     "iopub.status.busy": "2023-12-07T16:28:54.750662Z",
     "iopub.status.idle": "2023-12-07T16:28:54.760122Z",
     "shell.execute_reply": "2023-12-07T16:28:54.758290Z",
     "shell.execute_reply.started": "2023-12-07T16:28:54.751999Z"
    },
    "tags": []
   },
   "outputs": [],
   "source": [
    "f = open(\"logo.png\",'a+b')  # append (read and write) in binary mode\n",
    "f.close()"
   ]
  },
  {
   "cell_type": "markdown",
   "metadata": {},
   "source": [
    "The default encoding is platform dependent. On windows, it is **`cp1252`** but **`utf-8`** on Linux.\n",
    "\n",
    "When working with files in text mode, it is highly recommended to specify the encoding type so our code won't behave differently in different platforms."
   ]
  },
  {
   "cell_type": "code",
   "execution_count": 4,
   "metadata": {
    "ExecuteTime": {
     "end_time": "2021-10-25T14:28:08.426445Z",
     "start_time": "2021-10-25T14:28:08.321954Z"
    },
    "execution": {
     "iopub.execute_input": "2023-12-07T16:28:57.404143Z",
     "iopub.status.busy": "2023-12-07T16:28:57.402697Z",
     "iopub.status.idle": "2023-12-07T16:28:57.412122Z",
     "shell.execute_reply": "2023-12-07T16:28:57.410364Z",
     "shell.execute_reply.started": "2023-12-07T16:28:57.404078Z"
    },
    "tags": []
   },
   "outputs": [],
   "source": [
    "f = open(\"test.txt\", mode='r', encoding='utf-8')\n",
    "f.close()"
   ]
  },
  {
   "cell_type": "markdown",
   "metadata": {},
   "source": [
    "## 2. Closing Files in Python\n",
    "\n",
    "As seen above, when we are done with performing operations on the file, we need to properly close the file.\n",
    "\n",
    "Closing a file will free up the resources that were tied with the file. It is done using the **`close()`** method available in Python."
   ]
  },
  {
   "cell_type": "code",
   "execution_count": 5,
   "metadata": {
    "ExecuteTime": {
     "end_time": "2021-10-25T14:28:08.582216Z",
     "start_time": "2021-10-25T14:28:08.430355Z"
    },
    "execution": {
     "iopub.execute_input": "2023-11-27T16:24:59.790115Z",
     "iopub.status.busy": "2023-11-27T16:24:59.789880Z",
     "iopub.status.idle": "2023-11-27T16:24:59.801713Z",
     "shell.execute_reply": "2023-11-27T16:24:59.800810Z",
     "shell.execute_reply.started": "2023-11-27T16:24:59.790095Z"
    },
    "tags": []
   },
   "outputs": [],
   "source": [
    "# Open file\n",
    "f = open(\"test.txt\", encoding = 'utf-8')\n",
    "# Perform file operations here...\n",
    "\n",
    "# Then close\n",
    "f.close()"
   ]
  },
  {
   "cell_type": "markdown",
   "metadata": {},
   "source": [
    "This method is not entirely safe. If an exception occurs when we are performing some operation with the file, the code exits without closing the file."
   ]
  },
  {
   "cell_type": "markdown",
   "metadata": {},
   "source": [
    "> **The best way to open and close a file is by using the **`with`** statement.** This ensures that the file is closed when the block inside the **`with`** statement is exited.\n",
    "\n",
    "We don't need to explicitly call the **`close()`** method. It is done internally.\n",
    "\n",
    "```python\n",
    "with open(\"test.txt\", encoding = 'utf-8') as f:\n",
    "   # Perform file operations inside with statement\n",
    "\n",
    "# Continue code outside of with statement\n",
    "```"
   ]
  },
  {
   "cell_type": "markdown",
   "metadata": {},
   "source": [
    "In the above example, the `f` variable will only be accessible inside the with statement."
   ]
  },
  {
   "cell_type": "markdown",
   "metadata": {},
   "source": [
    "### The file Object Attributes\n",
    "\n",
    "* **file.closed** - Returns true if file is closed, false otherwise.\n",
    "* **file.mode** - Returns access mode with which file was opened.\n",
    "* **file.name** - Returns name of the file.\n",
    "\n",
    "For example:"
   ]
  },
  {
   "cell_type": "code",
   "execution_count": 8,
   "metadata": {
    "ExecuteTime": {
     "end_time": "2021-10-25T14:28:09.020214Z",
     "start_time": "2021-10-25T14:28:08.891306Z"
    },
    "execution": {
     "iopub.execute_input": "2023-12-07T17:04:15.605079Z",
     "iopub.status.busy": "2023-12-07T17:04:15.603843Z",
     "iopub.status.idle": "2023-12-07T17:04:15.614491Z",
     "shell.execute_reply": "2023-12-07T17:04:15.613414Z",
     "shell.execute_reply.started": "2023-12-07T17:04:15.605027Z"
    },
    "tags": []
   },
   "outputs": [
    {
     "name": "stdout",
     "output_type": "stream",
     "text": [
      "Name of the file:  data.txt\n",
      "Closed or not :  False\n",
      "Opening mode :  wb\n"
     ]
    }
   ],
   "source": [
    "# Open a file\n",
    "with open(\"data.txt\", \"wb\") as data:\n",
    "\n",
    "    print (\"Name of the file: \", data.name)\n",
    "    print (\"Closed or not : \", data.closed)\n",
    "    print (\"Opening mode : \", data.mode)\n"
   ]
  },
  {
   "cell_type": "markdown",
   "metadata": {},
   "source": [
    "## 3. Writing to Files in Python\n",
    "\n",
    "In order to write into a file in Python, we need to open it in write **`w`**, append **`a`** or exclusive creation **`x`** mode.\n",
    "\n",
    "> We need to be careful with the **`w`** mode, as **it will overwrite into the file if it already exists.** In this case, all of the previous information in the file will be erased.\n",
    "\n",
    "Writing a string or sequence of bytes (for binary files) is done using the **`write()`** method.\n",
    "\n",
    "For example:"
   ]
  },
  {
   "cell_type": "code",
   "execution_count": 9,
   "metadata": {
    "ExecuteTime": {
     "end_time": "2021-10-25T14:28:09.124707Z",
     "start_time": "2021-10-25T14:28:09.028027Z"
    },
    "execution": {
     "iopub.execute_input": "2023-12-07T17:04:24.075422Z",
     "iopub.status.busy": "2023-12-07T17:04:24.074080Z",
     "iopub.status.idle": "2023-12-07T17:04:24.086418Z",
     "shell.execute_reply": "2023-12-07T17:04:24.085069Z",
     "shell.execute_reply.started": "2023-12-07T17:04:24.075359Z"
    },
    "tags": []
   },
   "outputs": [],
   "source": [
    "with open(\"test_1.txt\", 'w', encoding='utf-8') as f:\n",
    "    f.write(\"my first file\\n\")\n",
    "    f.write(\"This file\\n\\n\")\n",
    "    f.write(\"contains three lines\\n\")"
   ]
  },
  {
   "cell_type": "markdown",
   "metadata": {},
   "source": [
    "This program will create a new file named **`test_1.txt`** in the current directory if it does not exist. **If it does exist, it is overwritten.**\n",
    "\n",
    "We must include the newline characters ourselves to distinguish the different lines.\n",
    "\n",
    "<div class=\"alert alert-info\"><h4>1.</h4><p>Create a new notebook and name it Lesson11_Tasks.</p></div>\n",
    "\n",
    "<div class=\"alert alert-info\"><h4>2.</h4><p>In your notebook, add to the following code to write some text to a file.</p></div>\n",
    "\n",
    "```python\n",
    "with open(\"test123.txt\", 'w', encoding='utf-8') as f:\n",
    "    # Write something to this file\n",
    "```\n",
    "\n",
    "<div class=\"alert alert-info\"><h4>3.</h4><p>Open the file to see if it worked as you expected.</p></div>"
   ]
  },
  {
   "cell_type": "markdown",
   "metadata": {},
   "source": [
    "We can \"append\" **`a`** some text to a file we previously created:"
   ]
  },
  {
   "cell_type": "code",
   "execution_count": 6,
   "metadata": {
    "ExecuteTime": {
     "end_time": "2021-10-25T14:28:09.296102Z",
     "start_time": "2021-10-25T14:28:09.274614Z"
    },
    "execution": {
     "iopub.execute_input": "2023-12-07T16:39:51.836741Z",
     "iopub.status.busy": "2023-12-07T16:39:51.835366Z",
     "iopub.status.idle": "2023-12-07T16:39:51.846483Z",
     "shell.execute_reply": "2023-12-07T16:39:51.845010Z",
     "shell.execute_reply.started": "2023-12-07T16:39:51.836677Z"
    },
    "tags": []
   },
   "outputs": [],
   "source": [
    "with open(\"test_1.txt\", 'a', encoding='utf-8') as f:\n",
    "    f.write('This text has to be appended at the end')"
   ]
  },
  {
   "cell_type": "markdown",
   "metadata": {
    "execution": {
     "iopub.execute_input": "2023-12-07T16:40:50.127275Z",
     "iopub.status.busy": "2023-12-07T16:40:50.125374Z",
     "iopub.status.idle": "2023-12-07T16:40:50.138926Z",
     "shell.execute_reply": "2023-12-07T16:40:50.137289Z",
     "shell.execute_reply.started": "2023-12-07T16:40:50.127179Z"
    },
    "tags": []
   },
   "source": [
    "<div class=\"alert alert-info\"><h4>4.</h4><p>In a new code cell, append to the file you just created:</p></div>\n",
    "\n",
    "```python\n",
    "with open(\"test123.txt\", 'a', encoding='utf-8') as f:\n",
    "    # Append some more text to this file\n",
    "```\n",
    "\n",
    "<div class=\"alert alert-info\"><h4>5.</h4><p>Open the file to see if it worked as you expected.</p></div>"
   ]
  },
  {
   "cell_type": "markdown",
   "metadata": {},
   "source": [
    "## 4. Reading Files in Python\n",
    "\n",
    "To read a file, we must open the file in read **`r`** mode.\n",
    "\n",
    "We can read the **`text_1.txt`** file we wrote in the above section in the following way:"
   ]
  },
  {
   "cell_type": "code",
   "execution_count": 14,
   "metadata": {
    "ExecuteTime": {
     "end_time": "2021-10-25T14:28:09.525600Z",
     "start_time": "2021-10-25T14:28:09.418663Z"
    },
    "execution": {
     "iopub.execute_input": "2023-12-07T17:49:23.884261Z",
     "iopub.status.busy": "2023-12-07T17:49:23.883778Z",
     "iopub.status.idle": "2023-12-07T17:49:23.894259Z",
     "shell.execute_reply": "2023-12-07T17:49:23.892560Z",
     "shell.execute_reply.started": "2023-12-07T17:49:23.884226Z"
    },
    "scrolled": true,
    "tags": []
   },
   "outputs": [
    {
     "name": "stdout",
     "output_type": "stream",
     "text": [
      "my first file\n",
      "This file\n",
      "\n",
      "contains three lines\n",
      "\n"
     ]
    }
   ],
   "source": [
    "with open(\"test_1.txt\",'r',encoding = 'utf-8') as f:\n",
    "    # Read all the characters in the file\n",
    "    txt = f.read()\n",
    "    \n",
    "    # Print the contents\n",
    "    print(txt)"
   ]
  },
  {
   "cell_type": "markdown",
   "metadata": {},
   "source": [
    "We can also read part of the text:"
   ]
  },
  {
   "cell_type": "code",
   "execution_count": 21,
   "metadata": {
    "ExecuteTime": {
     "end_time": "2021-10-25T14:28:09.662808Z",
     "start_time": "2021-10-25T14:28:09.529505Z"
    },
    "execution": {
     "iopub.execute_input": "2023-12-07T17:50:49.803430Z",
     "iopub.status.busy": "2023-12-07T17:50:49.802479Z",
     "iopub.status.idle": "2023-12-07T17:50:49.814628Z",
     "shell.execute_reply": "2023-12-07T17:50:49.812757Z",
     "shell.execute_reply.started": "2023-12-07T17:50:49.803371Z"
    },
    "tags": []
   },
   "outputs": [
    {
     "data": {
      "text/plain": [
       "'my first'"
      ]
     },
     "execution_count": 21,
     "metadata": {},
     "output_type": "execute_result"
    }
   ],
   "source": [
    "f = open(\"test_1.txt\",'r',encoding = 'utf-8')\n",
    "# read the first 8 data characters\n",
    "f.read(8)"
   ]
  },
  {
   "cell_type": "code",
   "execution_count": 22,
   "metadata": {
    "ExecuteTime": {
     "end_time": "2021-10-25T14:28:09.816134Z",
     "start_time": "2021-10-25T14:28:09.665737Z"
    },
    "execution": {
     "iopub.execute_input": "2023-12-07T17:50:50.041319Z",
     "iopub.status.busy": "2023-12-07T17:50:50.039906Z",
     "iopub.status.idle": "2023-12-07T17:50:50.050371Z",
     "shell.execute_reply": "2023-12-07T17:50:50.049320Z",
     "shell.execute_reply.started": "2023-12-07T17:50:50.041257Z"
    },
    "tags": []
   },
   "outputs": [
    {
     "data": {
      "text/plain": [
       "' file'"
      ]
     },
     "execution_count": 22,
     "metadata": {},
     "output_type": "execute_result"
    }
   ],
   "source": [
    "# read the next 5 data characters\n",
    "f.read(5)  "
   ]
  },
  {
   "cell_type": "code",
   "execution_count": 23,
   "metadata": {
    "ExecuteTime": {
     "end_time": "2021-10-25T14:28:09.924044Z",
     "start_time": "2021-10-25T14:28:09.820039Z"
    },
    "execution": {
     "iopub.execute_input": "2023-12-07T17:50:50.529817Z",
     "iopub.status.busy": "2023-12-07T17:50:50.528392Z",
     "iopub.status.idle": "2023-12-07T17:50:50.539133Z",
     "shell.execute_reply": "2023-12-07T17:50:50.537520Z",
     "shell.execute_reply.started": "2023-12-07T17:50:50.529757Z"
    },
    "tags": []
   },
   "outputs": [
    {
     "data": {
      "text/plain": [
       "'\\nThis file\\n\\ncontains three lines\\n'"
      ]
     },
     "execution_count": 23,
     "metadata": {},
     "output_type": "execute_result"
    }
   ],
   "source": [
    "# read in the rest till end of file\n",
    "f.read()  "
   ]
  },
  {
   "cell_type": "code",
   "execution_count": 24,
   "metadata": {
    "ExecuteTime": {
     "end_time": "2021-10-25T14:28:10.032936Z",
     "start_time": "2021-10-25T14:28:09.928929Z"
    },
    "execution": {
     "iopub.execute_input": "2023-12-07T17:50:51.498622Z",
     "iopub.status.busy": "2023-12-07T17:50:51.497225Z",
     "iopub.status.idle": "2023-12-07T17:50:51.511031Z",
     "shell.execute_reply": "2023-12-07T17:50:51.508650Z",
     "shell.execute_reply.started": "2023-12-07T17:50:51.498543Z"
    },
    "tags": []
   },
   "outputs": [
    {
     "data": {
      "text/plain": [
       "''"
      ]
     },
     "execution_count": 24,
     "metadata": {},
     "output_type": "execute_result"
    }
   ],
   "source": [
    "# further reading returns empty sting\n",
    "f.read()  "
   ]
  },
  {
   "cell_type": "markdown",
   "metadata": {},
   "source": [
    "We can see that the **`read()`** method returns a newline as **`'\\n'`**. Once you reach the end of the file, we get an empty string upon further reading.\n",
    "\n",
    "We can change our current file cursor (position) using the **`seek()`** method. Similarly, the **`tell()`** method returns our current position (in number of bytes)."
   ]
  },
  {
   "cell_type": "code",
   "execution_count": 25,
   "metadata": {
    "ExecuteTime": {
     "end_time": "2021-10-25T14:28:10.141825Z",
     "start_time": "2021-10-25T14:28:10.037819Z"
    },
    "execution": {
     "iopub.execute_input": "2023-12-07T17:51:41.938434Z",
     "iopub.status.busy": "2023-12-07T17:51:41.936942Z",
     "iopub.status.idle": "2023-12-07T17:51:41.949588Z",
     "shell.execute_reply": "2023-12-07T17:51:41.947485Z",
     "shell.execute_reply.started": "2023-12-07T17:51:41.938370Z"
    },
    "tags": []
   },
   "outputs": [
    {
     "data": {
      "text/plain": [
       "46"
      ]
     },
     "execution_count": 25,
     "metadata": {},
     "output_type": "execute_result"
    }
   ],
   "source": [
    "f.tell()    # get the current file position"
   ]
  },
  {
   "cell_type": "code",
   "execution_count": 26,
   "metadata": {
    "ExecuteTime": {
     "end_time": "2021-10-25T14:28:10.235578Z",
     "start_time": "2021-10-25T14:28:10.145731Z"
    },
    "execution": {
     "iopub.execute_input": "2023-12-07T17:51:42.900880Z",
     "iopub.status.busy": "2023-12-07T17:51:42.899294Z",
     "iopub.status.idle": "2023-12-07T17:51:42.912195Z",
     "shell.execute_reply": "2023-12-07T17:51:42.910394Z",
     "shell.execute_reply.started": "2023-12-07T17:51:42.900817Z"
    },
    "tags": []
   },
   "outputs": [
    {
     "data": {
      "text/plain": [
       "0"
      ]
     },
     "execution_count": 26,
     "metadata": {},
     "output_type": "execute_result"
    }
   ],
   "source": [
    "f.seek(0)   # bring file cursor to initial position"
   ]
  },
  {
   "cell_type": "code",
   "execution_count": 27,
   "metadata": {
    "ExecuteTime": {
     "end_time": "2021-10-25T14:28:10.351794Z",
     "start_time": "2021-10-25T14:28:10.239484Z"
    },
    "execution": {
     "iopub.execute_input": "2023-12-07T17:51:43.931414Z",
     "iopub.status.busy": "2023-12-07T17:51:43.929786Z",
     "iopub.status.idle": "2023-12-07T17:51:43.939666Z",
     "shell.execute_reply": "2023-12-07T17:51:43.937947Z",
     "shell.execute_reply.started": "2023-12-07T17:51:43.931353Z"
    },
    "scrolled": true,
    "tags": []
   },
   "outputs": [
    {
     "name": "stdout",
     "output_type": "stream",
     "text": [
      "my first file\n",
      "This file\n",
      "\n",
      "contains three lines\n",
      "\n"
     ]
    }
   ],
   "source": [
    "print(f.read())  # read the entire file"
   ]
  },
  {
   "cell_type": "markdown",
   "metadata": {},
   "source": [
    "We can read a file line-by-line using a for loop through the file. This is both efficient and fast.\n",
    "\n",
    "<div class=\"alert alert-info\"><h4>6.</h4><p>In a new code cell, read the lines of your file using the following for loop:</p></div>\n",
    "\n",
    "```python\n",
    "with open(\"test123.txt\", 'r') as f:\n",
    "    for line in f:\n",
    "        print(line)\n",
    "```"
   ]
  },
  {
   "cell_type": "markdown",
   "metadata": {},
   "source": [
    "In this program, the lines in the file itself include a newline character **`\\n`**, which results in two newlines when printing.\n",
    "\n",
    "Alternatively, we can use the **`readline()`** method to read individual lines of a file. This method reads a file till the newline, including the newline character."
   ]
  },
  {
   "cell_type": "code",
   "execution_count": 28,
   "metadata": {
    "ExecuteTime": {
     "end_time": "2021-10-25T14:28:10.578847Z",
     "start_time": "2021-10-25T14:28:10.458240Z"
    },
    "execution": {
     "iopub.execute_input": "2023-12-07T17:58:11.661547Z",
     "iopub.status.busy": "2023-12-07T17:58:11.658990Z",
     "iopub.status.idle": "2023-12-07T17:58:11.672799Z",
     "shell.execute_reply": "2023-12-07T17:58:11.671219Z",
     "shell.execute_reply.started": "2023-12-07T17:58:11.661462Z"
    },
    "tags": []
   },
   "outputs": [
    {
     "data": {
      "text/plain": [
       "'my first file\\n'"
      ]
     },
     "execution_count": 28,
     "metadata": {},
     "output_type": "execute_result"
    }
   ],
   "source": [
    "f.seek(0)  # bring file cursor to initial position\n",
    "f.readline()"
   ]
  },
  {
   "cell_type": "code",
   "execution_count": 29,
   "metadata": {
    "ExecuteTime": {
     "end_time": "2021-10-25T14:28:10.749264Z",
     "start_time": "2021-10-25T14:28:10.582755Z"
    },
    "execution": {
     "iopub.execute_input": "2023-12-07T17:58:12.205656Z",
     "iopub.status.busy": "2023-12-07T17:58:12.203951Z",
     "iopub.status.idle": "2023-12-07T17:58:12.215654Z",
     "shell.execute_reply": "2023-12-07T17:58:12.214014Z",
     "shell.execute_reply.started": "2023-12-07T17:58:12.205573Z"
    },
    "tags": []
   },
   "outputs": [
    {
     "data": {
      "text/plain": [
       "'This file\\n'"
      ]
     },
     "execution_count": 29,
     "metadata": {},
     "output_type": "execute_result"
    }
   ],
   "source": [
    "f.readline()"
   ]
  },
  {
   "cell_type": "code",
   "execution_count": 30,
   "metadata": {
    "ExecuteTime": {
     "end_time": "2021-10-25T14:28:10.874263Z",
     "start_time": "2021-10-25T14:28:10.760981Z"
    },
    "execution": {
     "iopub.execute_input": "2023-12-07T17:58:12.779340Z",
     "iopub.status.busy": "2023-12-07T17:58:12.777874Z",
     "iopub.status.idle": "2023-12-07T17:58:12.790555Z",
     "shell.execute_reply": "2023-12-07T17:58:12.787444Z",
     "shell.execute_reply.started": "2023-12-07T17:58:12.779273Z"
    },
    "tags": []
   },
   "outputs": [
    {
     "data": {
      "text/plain": [
       "'\\n'"
      ]
     },
     "execution_count": 30,
     "metadata": {},
     "output_type": "execute_result"
    }
   ],
   "source": [
    "f.readline()"
   ]
  },
  {
   "cell_type": "code",
   "execution_count": 31,
   "metadata": {
    "ExecuteTime": {
     "end_time": "2021-10-25T14:28:11.014891Z",
     "start_time": "2021-10-25T14:28:10.880126Z"
    },
    "execution": {
     "iopub.execute_input": "2023-12-07T17:58:13.825620Z",
     "iopub.status.busy": "2023-12-07T17:58:13.824832Z",
     "iopub.status.idle": "2023-12-07T17:58:13.834551Z",
     "shell.execute_reply": "2023-12-07T17:58:13.832922Z",
     "shell.execute_reply.started": "2023-12-07T17:58:13.825576Z"
    },
    "tags": []
   },
   "outputs": [
    {
     "data": {
      "text/plain": [
       "'contains three lines\\n'"
      ]
     },
     "execution_count": 31,
     "metadata": {},
     "output_type": "execute_result"
    }
   ],
   "source": [
    "f.readline()"
   ]
  },
  {
   "cell_type": "code",
   "execution_count": 32,
   "metadata": {
    "execution": {
     "iopub.execute_input": "2023-12-07T18:05:08.135946Z",
     "iopub.status.busy": "2023-12-07T18:05:08.134141Z",
     "iopub.status.idle": "2023-12-07T18:05:08.144977Z",
     "shell.execute_reply": "2023-12-07T18:05:08.143813Z",
     "shell.execute_reply.started": "2023-12-07T18:05:08.135855Z"
    },
    "tags": []
   },
   "outputs": [
    {
     "name": "stdout",
     "output_type": "stream",
     "text": [
      "my first file\n",
      "\n",
      "This file\n",
      "\n",
      "\n",
      "\n",
      "contains three lines\n",
      "\n"
     ]
    }
   ],
   "source": [
    "with open(\"test_1.txt\", 'r') as f:\n",
    "    for line in f.readlines():\n",
    "        print(line)"
   ]
  },
  {
   "cell_type": "markdown",
   "metadata": {},
   "source": [
    "Lastly, the **`readlines()`** method returns a list of remaining lines of the entire file.\n",
    "\n",
    "<div class=\"alert alert-info\"><h4>7.</h4><p>In a new code cell, open your text file and create a forloop similar to the previous task. This time, rather than iterating through your file \"f\", iterate through \"f.readlines()\"</p></div>"
   ]
  },
  {
   "cell_type": "markdown",
   "metadata": {},
   "source": [
    "Another way to get all the lines as a list is using **`splitlines()`**"
   ]
  },
  {
   "cell_type": "code",
   "execution_count": 38,
   "metadata": {
    "ExecuteTime": {
     "end_time": "2021-10-25T14:28:11.279548Z",
     "start_time": "2021-10-25T14:28:11.142828Z"
    },
    "execution": {
     "iopub.execute_input": "2023-12-07T18:45:26.238674Z",
     "iopub.status.busy": "2023-12-07T18:45:26.237153Z",
     "iopub.status.idle": "2023-12-07T18:45:26.248329Z",
     "shell.execute_reply": "2023-12-07T18:45:26.246650Z",
     "shell.execute_reply.started": "2023-12-07T18:45:26.238608Z"
    },
    "tags": []
   },
   "outputs": [
    {
     "name": "stdout",
     "output_type": "stream",
     "text": [
      "['my first file', 'This file', '', 'contains three lines']\n"
     ]
    }
   ],
   "source": [
    "with open(\"test_1.txt\", 'r') as f:\n",
    "    lines =  f.read().splitlines()\n",
    "    print(lines)"
   ]
  },
  {
   "cell_type": "markdown",
   "metadata": {},
   "source": [
    "## 5. Python File Methods\n",
    "\n",
    "There are various methods available with the file object. Some of them have been used in the above examples.\n",
    "\n",
    "Here is the complete list of methods in text mode with a brief description:\n",
    "\n",
    "| Method | Description |\n",
    "|:----| :--- |\n",
    "| **`close()`** |   Closes an opened file. It has no effect if the file is already closed.   | \n",
    "| **`detach()`** |   Separates the underlying binary buffer from the **`TextIOBase`** and returns it.   | \n",
    "| **`fileno()`** |   Returns an integer number (file descriptor) of the file.   | \n",
    "| **`flush()`** |   Flushes the write buffer of the file stream.   | \n",
    "| **`isatty()`** |   Returns **`True`** if the file stream is interactive.   | \n",
    "| **`read(n)`** |   Reads at most `n` characters from the file. Reads till end of file if it is negative or `None`.   | \n",
    "| **`readable()`** |   Returns **`True`** if the file stream can be read from.   | \n",
    "| **`readline(n=-1)`** |   Reads and returns one line from the file. Reads in at most **`n`** bytes if specified.   | \n",
    "| **`readlines(n=-1)`** |   Reads and returns a list of lines from the file. Reads in at most **`n`** bytes/characters if specified.   | \n",
    "| **`seek(offset,from=SEEK_SET)`** |   Changes the file position to **`offset`** bytes, in reference to `from` (start, current, end).   | \n",
    "| **`seekable()`** |   Returns **`True`** if the file stream supports random access.   | \n",
    "| **`tell()`** |   Returns the current file location.   | \n",
    "| **`truncate(size=None)`** |   Resizes the file stream to **`size`** bytes. If **`size`** is not specified, resizes to current location..   | \n",
    "| **`writable()`** |   Returns **`True`** if the file stream can be written to.   | \n",
    "| **`write(s)`** |   Writes the string **`s`** to the file and returns the number of characters written..   | \n",
    "| **`writelines(lines)`** |   Writes a list of **`lines`** to the file..   | "
   ]
  },
  {
   "cell_type": "markdown",
   "metadata": {},
   "source": [
    "## 6. Deleting Files\n",
    "\n",
    "If we want to remove a file we use the built-in **`os`** module."
   ]
  },
  {
   "cell_type": "markdown",
   "metadata": {},
   "source": [
    "If the file does not exist, the `os.remove()` method will raise an error, so it is good practice to use a condition like this:"
   ]
  },
  {
   "cell_type": "code",
   "execution_count": 26,
   "metadata": {
    "ExecuteTime": {
     "end_time": "2021-10-25T14:28:19.870587Z",
     "start_time": "2021-10-25T14:28:19.861800Z"
    },
    "execution": {
     "iopub.execute_input": "2023-11-27T16:25:00.171266Z",
     "iopub.status.busy": "2023-11-27T16:25:00.170966Z",
     "iopub.status.idle": "2023-11-27T16:25:00.238162Z",
     "shell.execute_reply": "2023-11-27T16:25:00.236380Z",
     "shell.execute_reply.started": "2023-11-27T16:25:00.171241Z"
    },
    "tags": []
   },
   "outputs": [
    {
     "name": "stdout",
     "output_type": "stream",
     "text": [
      "The file does not exist\n"
     ]
    }
   ],
   "source": [
    "import os\n",
    "if os.path.exists('./files/example.txt'):\n",
    "    os.remove('./files/example.txt')\n",
    "else:\n",
    "    print('The file does not exist')"
   ]
  },
  {
   "cell_type": "markdown",
   "metadata": {},
   "source": [
    "## 7. File with csv Extension\n",
    "\n",
    "**CSV** stands for **C**omma **S**eparated **V**alues. CSV is a simple file format used to store tabular data like you see in excel.\n",
    "\n",
    "We can easily read a csv file by using the `csv` module:"
   ]
  },
  {
   "cell_type": "code",
   "execution_count": 52,
   "metadata": {
    "ExecuteTime": {
     "end_time": "2021-10-25T14:28:25.606081Z",
     "start_time": "2021-10-25T14:28:25.589481Z"
    },
    "execution": {
     "iopub.execute_input": "2023-12-07T19:12:53.025761Z",
     "iopub.status.busy": "2023-12-07T19:12:53.024411Z",
     "iopub.status.idle": "2023-12-07T19:12:53.188618Z",
     "shell.execute_reply": "2023-12-07T19:12:53.187810Z",
     "shell.execute_reply.started": "2023-12-07T19:12:53.025699Z"
    },
    "scrolled": true,
    "tags": []
   },
   "outputs": [
    {
     "name": "stdout",
     "output_type": "stream",
     "text": [
      "Number of lines:  18208\n",
      "\n",
      "\n",
      "Messi's info:\n",
      "﻿: 0\n",
      "ID: 158023\n",
      "Name: L. Messi\n",
      "Age: 31\n",
      "Photo: https://cdn.sofifa.org/players/4/19/158023.png\n",
      "Nationality: Argentina\n",
      "Flag: https://cdn.sofifa.org/flags/52.png\n",
      "Overall: 94\n",
      "Potential: 94\n",
      "Club: FC Barcelona\n",
      "Club Logo: https://cdn.sofifa.org/teams/2/light/241.png\n",
      "Value: €110.5M\n",
      "Wage: €565K\n",
      "Special: 2202\n",
      "Preferred Foot: Left\n",
      "International Reputation: 5\n",
      "Weak Foot: 4\n",
      "Skill Moves: 4\n",
      "Work Rate: Medium/ Medium\n",
      "Body Type: Messi\n",
      "Real Face: Yes\n",
      "Position: RF\n",
      "Jersey Number: 10\n",
      "Joined: Jul 1, 2004\n",
      "Loaned From: \n",
      "Contract Valid Until: 2021\n",
      "Height: 5'7\n",
      "Weight: 159lbs\n",
      "LS: 88+2\n",
      "ST: 88+2\n",
      "RS: 88+2\n",
      "LW: 92+2\n",
      "LF: 93+2\n",
      "CF: 93+2\n",
      "RF: 93+2\n",
      "RW: 92+2\n",
      "LAM: 93+2\n",
      "CAM: 93+2\n",
      "RAM: 93+2\n",
      "LM: 91+2\n",
      "LCM: 84+2\n",
      "CM: 84+2\n",
      "RCM: 84+2\n",
      "RM: 91+2\n",
      "LWB: 64+2\n",
      "LDM: 61+2\n",
      "CDM: 61+2\n",
      "RDM: 61+2\n",
      "RWB: 64+2\n",
      "LB: 59+2\n",
      "LCB: 47+2\n",
      "CB: 47+2\n",
      "RCB: 47+2\n",
      "RB: 59+2\n",
      "Crossing: 84\n",
      "Finishing: 95\n",
      "HeadingAccuracy: 70\n",
      "ShortPassing: 90\n",
      "Volleys: 86\n",
      "Dribbling: 97\n",
      "Curve: 93\n",
      "FKAccuracy: 94\n",
      "LongPassing: 87\n",
      "BallControl: 96\n",
      "Acceleration: 91\n",
      "SprintSpeed: 86\n",
      "Agility: 91\n",
      "Reactions: 95\n",
      "Balance: 95\n",
      "ShotPower: 85\n",
      "Jumping: 68\n",
      "Stamina: 72\n",
      "Strength: 59\n",
      "LongShots: 94\n",
      "Aggression: 48\n",
      "Interceptions: 22\n",
      "Positioning: 94\n",
      "Vision: 94\n",
      "Penalties: 75\n",
      "Composure: 96\n",
      "Marking: 33\n",
      "StandingTackle: 28\n",
      "SlidingTackle: 26\n",
      "GKDiving: 6\n",
      "GKHandling: 11\n",
      "GKKicking: 15\n",
      "GKPositioning: 14\n",
      "GKReflexes: 8\n",
      "Release Clause: €226.5M\n"
     ]
    }
   ],
   "source": [
    "import csv\n",
    "\n",
    "with open('fifa_data.csv') as f:\n",
    "    # Create a reader for the csv file\n",
    "    csv_reader = csv.reader(f, delimiter=',')\n",
    "    \n",
    "    # Iterate through the rows of the csv file\n",
    "    line_count = 0\n",
    "    for row in csv_reader:\n",
    "        line_count += 1\n",
    "        \n",
    "        if line_count == 0:\n",
    "            # The first row are the column names\n",
    "            column_names = row\n",
    "        else:\n",
    "            # Check for Messi's info\n",
    "            if 'Messi' in row:\n",
    "                messi = row\n",
    "    print(f'Number of lines:  {line_count}\\n\\n')\n",
    "    \n",
    "# Display Messi's stats\n",
    "print(\"Messi's info:\")\n",
    "for col, data in zip(column_names, messi):\n",
    "    print(f'{col}: {data}')"
   ]
  },
  {
   "cell_type": "markdown",
   "metadata": {},
   "source": [
    "## Challenge\n",
    "\n",
    "**1. Download `Challenge_34.ipynb` from Teams.**\n",
    "\n",
    "**2. Upload this file into your own *Project* on Deepnote by dragging the `Challenge_34.ipynb` file onto the Notebooks tab on the left-hand side.** \n",
    "\n",
    "**3. Also download the txt and csv files in the Challenge_34 folder and upload these to the Files tab in your project.**\n",
    "\n",
    "**4. Use this notebook to complete Challenge 34 in Deepnote.**"
   ]
  },
  {
   "cell_type": "code",
   "execution_count": null,
   "metadata": {},
   "outputs": [],
   "source": []
  }
 ],
 "metadata": {
  "hide_input": false,
  "kernelspec": {
   "display_name": "Python 3 (ipykernel)",
   "language": "python",
   "name": "python3"
  },
  "language_info": {
   "codemirror_mode": {
    "name": "ipython",
    "version": 3
   },
   "file_extension": ".py",
   "mimetype": "text/x-python",
   "name": "python",
   "nbconvert_exporter": "python",
   "pygments_lexer": "ipython3",
   "version": "3.10.12"
  },
  "toc": {
   "base_numbering": 1,
   "nav_menu": {},
   "number_sections": true,
   "sideBar": true,
   "skip_h1_title": false,
   "title_cell": "Table of Contents",
   "title_sidebar": "Contents",
   "toc_cell": false,
   "toc_position": {
    "height": "calc(100% - 180px)",
    "left": "10px",
    "top": "150px",
    "width": "204.797px"
   },
   "toc_section_display": true,
   "toc_window_display": false
  },
  "varInspector": {
   "cols": {
    "lenName": 16,
    "lenType": 16,
    "lenVar": 40
   },
   "kernels_config": {
    "python": {
     "delete_cmd_postfix": "",
     "delete_cmd_prefix": "del ",
     "library": "var_list.py",
     "varRefreshCmd": "print(var_dic_list())"
    },
    "r": {
     "delete_cmd_postfix": ") ",
     "delete_cmd_prefix": "rm(",
     "library": "var_list.r",
     "varRefreshCmd": "cat(var_dic_list()) "
    }
   },
   "types_to_exclude": [
    "module",
    "function",
    "builtin_function_or_method",
    "instance",
    "_Feature"
   ],
   "window_display": false
  }
 },
 "nbformat": 4,
 "nbformat_minor": 4
}
