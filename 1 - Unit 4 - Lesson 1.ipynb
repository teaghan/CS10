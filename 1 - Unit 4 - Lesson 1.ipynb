{
 "cells": [
  {
   "cell_type": "markdown",
   "metadata": {
    "cell_id": "eb4395a3f7ef491e8a140c24ba74e09a",
    "deepnote_cell_type": "markdown"
   },
   "source": [
    "<small><small><i>\n",
    "The creation of the lessons in this unit relied heavily on the existing lessons created by Mrs. FitzZaland as well as the **[lecture series](https://github.com/milaan9/01_Python_Introduction)** produced by Dr. Milaan Parmar.\n",
    "</i></small></small>"
   ]
  },
  {
   "cell_type": "markdown",
   "metadata": {
    "cell_id": "4c3a76988d9f4519bc51a19c2fdd17ae",
    "deepnote_cell_type": "markdown"
   },
   "source": [
    "The single most important skill for a computer scientist is problem solving. Problem solving means the ability to formulate problems, think creatively about solutions, and express a solution clearly and accurately. As it turns out, the process of learning to program is an excellent opportunity to practice problem-solving skills. On one hand, you will be learning to program, a useful skill by itself. On another hand, you will use programming as a means to an end."
   ]
  },
  {
   "cell_type": "markdown",
   "metadata": {
    "cell_id": "6889f2a4ece5443fb00bc7c04ad2db99",
    "deepnote_cell_type": "markdown",
    "tags": []
   },
   "source": [
    "# Python Programming\n",
    "\n",
    "Python is a powerful multipurpose programming language created by *Guido van Rossum*.\n",
    "\n",
    "It has a simple and easy-to-use syntax, making it a popular first-choice programming language for beginners.\n",
    "\n",
    "Many tech companies write programs using Python. It’s used by Intel, IBM, NASA, Pixar, Netflix, Facebook, and Spotify. It’s one of the four main languages used by Google. Python was used to write YouTube, Reddit, Pinterest, and Instagram. It’s used heavily in academic research, particularly in biology, mathematics, and physics. Python is also the standard introductory language for many university computer science programs.\n",
    "\n",
    "If you started using Python in IT8 or IT9, some of the information in the first two lessons may be a review. Don’t worry, we’ll be covering this information in more depth than before and you’ll be writing more complex code in no time.\n",
    "\n",
    "In this lesson, you’ll learn about the history of programming languages and you’ll start using Python."
   ]
  },
  {
   "cell_type": "markdown",
   "metadata": {
    "cell_id": "a29377f5640b4e48bfdc6766bd2faeb7",
    "deepnote_cell_type": "markdown",
    "execution": {
     "iopub.execute_input": "2023-10-01T18:38:18.823876Z",
     "iopub.status.busy": "2023-10-01T18:38:18.823112Z",
     "iopub.status.idle": "2023-10-01T18:38:18.832564Z",
     "shell.execute_reply": "2023-10-01T18:38:18.831521Z",
     "shell.execute_reply.started": "2023-10-01T18:38:18.823826Z"
    },
    "tags": []
   },
   "source": [
    "## History of Programming\n",
    "\n",
    "Before we dive into writing programs in Python, you need to know a little more about the history of programming. The first programming language was created in 1843 before computers even existed. Ada Lovelace, a female mathematician, developed an algorithm that she wrote down on paper to remember since there were no computers. Needless to say, programming languages have evolved tremendously.\n",
    "\n",
    "**Video \\#1**: Watch [this video](https://www.youtube.com/watch?v=nwDq4adJwzM&list=PL8dPuuaLjXtNlUrzyH5r6jN9ulIgZBpdo).\n",
    "\n",
    "**Video \\#2**: Watch [this video](https://www.youtube.com/watch?v=RU1u-js7db8&list=PL8dPuuaLjXtNlUrzyH5r6jN9ulIgZBpdo&index=13).\n",
    "\n",
    "(You can also find these videos in the Lesson folder)"
   ]
  },
  {
   "cell_type": "markdown",
   "metadata": {
    "cell_id": "71085e29f17f4a99ac4e3472ee437843",
    "deepnote_cell_type": "markdown"
   },
   "source": [
    "## The Python Programming Language\n",
    "\n",
    "There are hundreds of programming languages, each with their own unique strengths and applications. Ultimately, the best programming language for you depends on what you’re looking to achieve.\n",
    "\n",
    "As I mentioned earlier, the programming language you will learn in this unit is Python. Python is an example of a high-level language; other high-level languages you might have heard of are C, C++, Perl, and Java.\n",
    "\n",
    "There are also low-level languages, sometimes referred to as “machine languages” or “assembly languages.” Loosely speaking, computers can only run programs written in low level languages. So, programs written in a high-level language must be processed before they can run. This extra processing takes some time, which is a small disadvantage of high- level languages.\n",
    "\n",
    "![high_vs_low_level](images/high_vs_low_level.png)\n",
    "\n",
    "However, **the advantages of high-level languages are enormous**:\n",
    "\n",
    "- First, it is much easier to program in a high-level language. Programs written in a high- level language take less time to write, they are shorter and easier to read, and they are more likely to be correct.\n",
    "- Second, high-level languages are portable, meaning that they can run on different kinds of computers with few or no modifications. Low-level programs can run on only one kind of computer and have to be rewritten to run on another.\n",
    "Due to these advantages, almost all programs are written in high-level languages. Low level languages are used only for a few specialized applications. Two kinds of programs process high- level languages into low-level languages: **interpreters** and **compilers**."
   ]
  },
  {
   "cell_type": "markdown",
   "metadata": {
    "cell_id": "724356dcc90e45f9a50436a9a79723ba",
    "deepnote_cell_type": "markdown"
   },
   "source": [
    "### Interpreters and Compilers\n",
    "\n",
    "An **interpreter** reads a high-level program and executes it, meaning that it does what the program says. It processes the program a little at a time, alternately reading lines and performing computations.\n",
    "\n",
    "![interpreter](images/interpreter.png)\n",
    "\n",
    "A **compiler** reads the program and translates it completely before the program starts running. In this context, the high-level program is called the **source code**, and the translated program is called the **object code** or the executable. Once a program is compiled, you can execute it repeatedly without further translation.\n",
    "\n",
    "![compiler](images/compiler.png)"
   ]
  },
  {
   "cell_type": "markdown",
   "metadata": {
    "cell_id": "c77c4339023140beb511e8832475c94f",
    "deepnote_cell_type": "markdown"
   },
   "source": [
    "### Interactive and Script mode\n",
    "\n",
    "Python is considered an interpreted language because Python programs are executed by an interpreter. There are two ways to use the interpreter: **interactive mode** and **script mode**. \n",
    "\n",
    "In interactive mode, you type Python code, and the interpreter displays the result:"
   ]
  },
  {
   "cell_type": "code",
   "execution_count": 1,
   "metadata": {
    "cell_id": "06701b36621249a283d7fe931fe2e1e2",
    "deepnote_cell_type": "code",
    "deepnote_to_be_reexecuted": false,
    "execution": {
     "iopub.execute_input": "2023-10-09T02:31:30.655477Z",
     "iopub.status.busy": "2023-10-09T02:31:30.655207Z",
     "iopub.status.idle": "2023-10-09T02:31:30.665213Z",
     "shell.execute_reply": "2023-10-09T02:31:30.664342Z",
     "shell.execute_reply.started": "2023-10-09T02:31:30.655448Z"
    },
    "execution_millis": 31,
    "execution_start": 1696300637332,
    "source_hash": null,
    "tags": []
   },
   "outputs": [
    {
     "data": {
      "text/plain": [
       "2"
      ]
     },
     "execution_count": 1,
     "metadata": {},
     "output_type": "execute_result"
    }
   ],
   "source": [
    "1+1"
   ]
  },
  {
   "cell_type": "markdown",
   "metadata": {
    "cell_id": "9b967888c7284427a512da42370dee64",
    "deepnote_cell_type": "markdown"
   },
   "source": [
    "Working in interactive mode is convenient for testing small pieces of code because you can type and execute them immediately. But if you want to write code to be used again and again, you’ll probably want to save your code as a **script** so you can modify and execute it in the future. By convention, Python scripts have names that end with the file extension **.py**."
   ]
  },
  {
   "cell_type": "markdown",
   "metadata": {
    "cell_id": "11444bb9a0ba411092bb057f6c6b894d",
    "deepnote_cell_type": "markdown"
   },
   "source": [
    "### What is a Program?\n",
    "\n",
    "A **program** is a sequence of instructions that specifies how to perform a computation. The computation might be something mathematical, such as solving a system of equations or finding the roots of a polynomial, but it can also be a symbolic computation, such as searching and replacing text in a document or something graphical, like processing an image or playing a video.\n",
    "\n",
    "The details look different in different languages, but a few basic instructions appear in just about every language:\n",
    "\n",
    "- **Input:** Get data from the keyboard, a file, the network, or some other device. \n",
    "- **Output:** Display data on the screen, save it in a file, send it over the network, etc. \n",
    "- **Math:** Perform basic mathematical operations like addition and multiplication. \n",
    "- **Conditional Execution:** Check for certain conditions and run the appropriate code. \n",
    "- **Repetition:** Perform some action repeatedly, usually with some variation.\n",
    "\n",
    "Believe it or not, that’s pretty much all there is to programming. Every program you’ve ever used, no matter how complicated, is made up of instructions that look pretty much like these.\n",
    "\n",
    "You can think of programming as the process of breaking a large, complex task into smaller and smaller subtasks until the subtasks are simple enough to be performed with one of these basic instructions."
   ]
  },
  {
   "cell_type": "markdown",
   "metadata": {
    "cell_id": "01fae501ab914bbf92c9ecfa82854370",
    "deepnote_cell_type": "markdown"
   },
   "source": [
    "## Interactive Development Environment\n",
    "\n",
    "When you write a program, in any programming language, you usually type your code into an Interactive Development Environment or IDE for short. An IDE is a little bit like a word processor. An IDE will typically allow you to:\n",
    "\n",
    "- write, edit, and save your code\n",
    "- build and run your code (via an interpreter)\n",
    "- debug your code\n",
    "\n",
    "IDEs may also include other desirable features and tools. Choosing between IDEs is often a matter of preference, but the unique features of an IDE often play a role in decision making.\n",
    "\n",
    "The first difference between my approach and Mrs. FitzZaland's is that you will be working with a cloud-based version of JupyterLab in my class, rather than IDLE.\n",
    "\n",
    "There are a few reasons why I have chosen JupyterLab rather than IDLE:\n",
    "\n",
    "- Allows for more interactive and exploratory coding\n",
    "- Provides live data visualization and analysis\n",
    "- Makes it easy to collaborate and share your work\n",
    "- It is used extensively by the python community, especially in the sciences"
   ]
  },
  {
   "cell_type": "markdown",
   "metadata": {
    "cell_id": "86224b61bf6b4345a90f7f264ba533ce",
    "deepnote_cell_type": "markdown"
   },
   "source": [
    "# Deepnote\n",
    "\n",
    "Deepnote is a cloud-based workspace that allows you to create *notebooks*, python script files, and run those script files from a terminal - all in the cloud! This means that you can get started with Python without downloading anything and you can seemlessly move between your school computer and your computer at home."
   ]
  },
  {
   "cell_type": "markdown",
   "metadata": {
    "cell_id": "60520389d91b4521a525d20415021545",
    "deepnote_cell_type": "markdown"
   },
   "source": [
    "## Getting Started with Deepnote\n",
    "\n",
    "First things first, provide your teacher with your email address and they will send you an invite to join the class Workspace on Deepnote. This will prompt you to create an account with your personal or school email address. When creating your account, please **do not use your actual name for your Deepnote profile**. Instead, you can stick with the same notation as your school email. For example, if your email is tea1010@sd64.org, you can use \"Tea\" as your first name and \"1010\" as your last name.\n",
    "\n",
    "Once you have joined the workspace, you can **create your own project** by selecting `+ >Projects > New Project` within the left-hand panel:\n",
    "\n",
    "![New Project](images/new_project.png)\n",
    "\n",
    "1. **Try creating your own project and please check with your teacher to make sure it is set-up correctly.** Again, please do not use your full name when naming your project.\n",
    "\n",
    "Once you have created your project, it will automatically start you in a new notebook, which should look similar to the screenshot below.\n",
    "\n",
    "2. **Rename this notebook with the name** `My First Notebook`\n",
    "\n",
    "\n",
    "![First Notebook](images/first_notebook.png)\n",
    "\n",
    "Within a notebook like this, you can write python code, write \"normal text\" alongside your code, and save your work to share!"
   ]
  },
  {
   "cell_type": "markdown",
   "metadata": {
    "cell_id": "1b431979c08945beac52f3e311921414",
    "deepnote_cell_type": "markdown"
   },
   "source": [
    "## Running code in a notebook"
   ]
  },
  {
   "cell_type": "markdown",
   "metadata": {
    "cell_id": "4ee675cdc64442688fec57b3e71b9554",
    "deepnote_cell_type": "markdown"
   },
   "source": [
    "3. **Enter the following text into a cell and then press <span class='label label-default'>Shift</span> + <span class='label label-default'>Enter</span>:**"
   ]
  },
  {
   "cell_type": "code",
   "execution_count": 2,
   "metadata": {
    "cell_id": "78f02a8090644f03bd295df5f2de2927",
    "deepnote_cell_type": "code",
    "deepnote_to_be_reexecuted": false,
    "execution": {
     "iopub.execute_input": "2023-10-09T02:31:30.666360Z",
     "iopub.status.busy": "2023-10-09T02:31:30.666096Z",
     "iopub.status.idle": "2023-10-09T02:31:30.869626Z",
     "shell.execute_reply": "2023-10-09T02:31:30.868634Z",
     "shell.execute_reply.started": "2023-10-09T02:31:30.666314Z"
    },
    "execution_millis": 34,
    "execution_start": 1696300637345,
    "source_hash": null,
    "tags": []
   },
   "outputs": [
    {
     "name": "stdout",
     "output_type": "stream",
     "text": [
      "Hello world!\n"
     ]
    }
   ],
   "source": [
    "print('Hello world!')"
   ]
  },
  {
   "cell_type": "markdown",
   "metadata": {
    "cell_id": "385c1efeee6f44ce9ba410d0e2ab3067",
    "deepnote_cell_type": "markdown"
   },
   "source": [
    "This is an example of a **print statement**, although it doesn’t actually print anything on paper. It displays a result on the screen. You should get the response `Hello world!` on the next line. If you forget an apostrophe or bracket, you'll get an error message and have to retype it.\n",
    "\n",
    "The quotation marks in the program mark the beginning and end of the text to be displayed; they don’t appear in the result.\n",
    "\n",
    "The parentheses indicate that **print** is a function. We’ll get to **functions** a little later."
   ]
  },
  {
   "cell_type": "markdown",
   "metadata": {
    "cell_id": "83427bc0af1246bc9b94fb9ccf6c5c0e",
    "deepnote_cell_type": "markdown"
   },
   "source": [
    "## Markdown\n",
    "\n",
    "After you execute the cell, the notebook will automatically create a new *code* cell for you to provide a new command. You can also create a **Markdown** cell, which allows you to format regular text (like what you are reading right now). There are multiple ways to accomplish this. One way is to select the 3 horizontal lines at the right of your current cell, and select `Add markdown block below`\n",
    "\n",
    "![New Markdown](images/new_markdown.png)\n",
    "\n",
    "\n"
   ]
  },
  {
   "cell_type": "markdown",
   "metadata": {
    "cell_id": "d896f9b3624346e6a5d61c6d7a1c857b",
    "deepnote_cell_type": "markdown"
   },
   "source": [
    "4. **Create a new Markdown block and add some text like in the screenshot below then press <span class='label label-default'>Shift</span> + <span class='label label-default'>Enter</span>.** \n",
    "\n",
    "Note that the next cell that is automatically created will also be Markdown now. If you want to create a `code` cell, you will have to create a new code cell. Feel free to experiment with these functions to get comfortable with creating and running different types of cells.\n",
    "\n",
    "![Markdown Example](images/markdown_example.png)\n",
    "\n",
    "Now you will be able to include both code and regular text into one file, which will make it easy for you to organize and submit your programming work in this class.\n",
    "\n",
    "If you're interested in learning how to format in Markdown, check out [this page](https://www.datacamp.com/tutorial/markdown-in-jupyter-notebook).\n"
   ]
  },
  {
   "cell_type": "markdown",
   "metadata": {
    "cell_id": "23f18a4fa28d42659a75404efd061ebb",
    "deepnote_cell_type": "markdown"
   },
   "source": [
    "## Arithmetic Operators\n",
    "\n",
    "After “Hello World”, the next step in learning to program is arithmetic. Python provides **operators**, which are special symbols that represent computations like addition and multiplication.\n",
    "\n",
    "The operators `+`, `-`, `*`, `/`  perform addition, subtraction, multiplication, and division as in the following examples:"
   ]
  },
  {
   "cell_type": "code",
   "execution_count": 3,
   "metadata": {
    "cell_id": "ce5dc59a5a014614af62091ed7e9ab15",
    "deepnote_cell_type": "code",
    "deepnote_to_be_reexecuted": false,
    "execution": {
     "iopub.execute_input": "2023-10-09T02:31:30.871260Z",
     "iopub.status.busy": "2023-10-09T02:31:30.870965Z",
     "iopub.status.idle": "2023-10-09T02:31:30.969743Z",
     "shell.execute_reply": "2023-10-09T02:31:30.968583Z",
     "shell.execute_reply.started": "2023-10-09T02:31:30.871229Z"
    },
    "execution_millis": 9,
    "execution_start": 1696300637345,
    "source_hash": null,
    "tags": []
   },
   "outputs": [
    {
     "data": {
      "text/plain": [
       "42"
      ]
     },
     "execution_count": 3,
     "metadata": {},
     "output_type": "execute_result"
    }
   ],
   "source": [
    "40 + 2"
   ]
  },
  {
   "cell_type": "code",
   "execution_count": 4,
   "metadata": {
    "cell_id": "ffac8cf09d7842d3b0f88ef215b26540",
    "deepnote_cell_type": "code",
    "deepnote_to_be_reexecuted": false,
    "execution": {
     "iopub.execute_input": "2023-10-09T02:31:30.971692Z",
     "iopub.status.busy": "2023-10-09T02:31:30.971169Z",
     "iopub.status.idle": "2023-10-09T02:31:31.040148Z",
     "shell.execute_reply": "2023-10-09T02:31:31.039223Z",
     "shell.execute_reply.started": "2023-10-09T02:31:30.971660Z"
    },
    "execution_millis": 50,
    "execution_start": 1696300637358,
    "source_hash": null,
    "tags": []
   },
   "outputs": [
    {
     "data": {
      "text/plain": [
       "42"
      ]
     },
     "execution_count": 4,
     "metadata": {},
     "output_type": "execute_result"
    }
   ],
   "source": [
    "43 - 1"
   ]
  },
  {
   "cell_type": "code",
   "execution_count": 5,
   "metadata": {
    "cell_id": "608bb05623ee42c98c5b47afa611d838",
    "deepnote_cell_type": "code",
    "deepnote_to_be_reexecuted": false,
    "execution": {
     "iopub.execute_input": "2023-10-09T02:31:31.043588Z",
     "iopub.status.busy": "2023-10-09T02:31:31.043229Z",
     "iopub.status.idle": "2023-10-09T02:31:31.116313Z",
     "shell.execute_reply": "2023-10-09T02:31:31.115279Z",
     "shell.execute_reply.started": "2023-10-09T02:31:31.043556Z"
    },
    "execution_millis": 35,
    "execution_start": 1696300637358,
    "source_hash": null,
    "tags": []
   },
   "outputs": [
    {
     "data": {
      "text/plain": [
       "42"
      ]
     },
     "execution_count": 5,
     "metadata": {},
     "output_type": "execute_result"
    }
   ],
   "source": [
    "6 * 7"
   ]
  },
  {
   "cell_type": "code",
   "execution_count": 6,
   "metadata": {
    "cell_id": "9a5bcda958534034ac3e7a79a95fe8a0",
    "deepnote_cell_type": "code",
    "deepnote_to_be_reexecuted": false,
    "execution": {
     "iopub.execute_input": "2023-10-09T02:31:31.118231Z",
     "iopub.status.busy": "2023-10-09T02:31:31.117548Z",
     "iopub.status.idle": "2023-10-09T02:31:31.211955Z",
     "shell.execute_reply": "2023-10-09T02:31:31.210919Z",
     "shell.execute_reply.started": "2023-10-09T02:31:31.118198Z"
    },
    "execution_millis": 14,
    "execution_start": 1696300637359,
    "source_hash": null,
    "tags": []
   },
   "outputs": [
    {
     "data": {
      "text/plain": [
       "42.0"
      ]
     },
     "execution_count": 6,
     "metadata": {},
     "output_type": "execute_result"
    }
   ],
   "source": [
    "84 / 2"
   ]
  },
  {
   "cell_type": "markdown",
   "metadata": {
    "cell_id": "e879c391b4eb4f23b8907c1a8bae2e5e",
    "deepnote_cell_type": "markdown"
   },
   "source": [
    "## Values and Types\n",
    "\n",
    "A value is one of the basic things a program works with, like a letter or a number. Some values\n",
    "we’ve seen so far are 2, 42.0 and ‘Hello World!’. These values belong to different **types**:\n",
    "\n",
    "* 2 is an **integer**\n",
    "* 42.0 is a **floating-point number**\n",
    "* ‘Hello World!’ is a **string** (so-called because the letters it contains are strung together)\n",
    "\n",
    "If you are not sure what type a value has, the Python shell can tell you.\n",
    "\n",
    "5. **Enter the following code into individual code cells and run the cells separately to determine the type of each value.**\n",
    "\n",
    "```python\n",
    "type(2)\n",
    "```\n",
    "```python\n",
    "type(42.0) \n",
    "```\n",
    "```python\n",
    "type(‘Hello World’)\n",
    "```\n",
    "\n",
    "In the results, you should have gotten the category of values. Not surprisingly, integers belong to the type `int`, strings belong to `str`, and floating-point numbers belong to `float`.\n",
    "\n",
    "What about values like `‘2’` and `’42.0’`? They look like numbers, but they’re in quotation marks like strings.\n",
    "\n",
    "\n",
    "6. **Enter the following code into code cells and <span class='label label-default'>Shift</span> + <span class='label label-default'>Enter</span> enter after each line.**\n",
    "\n",
    "```python\n",
    "type(‘2’)\n",
    "```\n",
    "```python\n",
    "type(‘42.0’)\n",
    "```\n",
    "\n",
    "**Do they belong to `str` or `int` or `float`?**"
   ]
  },
  {
   "cell_type": "markdown",
   "metadata": {
    "cell_id": "1702617f105345548a2742a77ee8e763",
    "deepnote_cell_type": "markdown"
   },
   "source": [
    "## Saving\n",
    "\n",
    "Your notebook will save automatically. You can also download the **.ipynb** file to share your notebook. Typically, you can export your notebook as a **.pdf**, which will format the code and markdown cells nicely. However, I have not found a way to do this nicely within Deepnote. Stay tuned!"
   ]
  },
  {
   "cell_type": "markdown",
   "metadata": {
    "cell_id": "c31a112b5bb84d0493668237733275c8",
    "deepnote_cell_type": "markdown"
   },
   "source": [
    "6. **Try downloading your notebook as an `.ipynb` file.**\n",
    "\n",
    "![Save](images/save_notebook.png)\n"
   ]
  },
  {
   "cell_type": "markdown",
   "metadata": {
    "cell_id": "aa84c3743b77431eaabc5cba5960c339",
    "deepnote_cell_type": "markdown"
   },
   "source": [
    "# Formal and Natural Languages\n",
    "\n",
    "**Natural Languages** are the languages people speak, such as English, Spanish, and French. They were not designed by people (although people try to impose some order on them); they evolved naturally.\n",
    "\n",
    "**Formal Languages** are languages that are designed by people for specific applications. For example, the notation that mathematicians use is a formal language that is particularly good at denoting relationships among numbers and symbols.Chemists use a formal language to represent the chemical structure of molecules. And most importantly, programming languages are formal languages that have been designed to express computations.\n",
    "\n",
    "Formal languages tend to have strict **syntax** rules that govern the structure of statements. For example, in mathematics the statement `3 + 3 = 6` has correct syntax, but `3 + = 3$6` does not. In chemistry $H_20$ is a syntactically correct formula, but $_2Zz$ is not.\n",
    "\n",
    "Syntax rules come in two flavors, pertaining to **tokens** and **structure**.\n",
    "\n",
    "**Tokens** are the basic elements of the language, such as words, numbers, and chemical elements. One of the problems with `3 + = 3$6` is that `$` is not a legal token in mathematics (at least as far as I know). Similarly, $_2Zz$ is not legal because there is no element with the abbreviation $Zz$.\n",
    "\n",
    "> *Ex: This is @ well-structured Engli$h sentence with invalid t\\*kens in it.*\n",
    "\n",
    "The second type of syntax rule pertains to the **structure** of a statement; that is, the way the tokens are arranged. The statement `3+ = 3` is illegal because even though `+` and `=` are legal tokens, you can’t have one right after the other. Similarly, in a chemical formula the subscript comes after the element name, not before.\n",
    "\n",
    "> *Ex: This sentence all valid tokens has, but invalid structure with.*\n",
    "\n",
    "When you read a sentence in English or a statement in a formal language, you have to figure out what the structure of the sentence is (although in a natural language you do this subconsciously). This process is called **parsing**.\n",
    "\n",
    "Although formal and natural languages have many features in common—tokens, structure, syntax, and semantics—there are some differences:\n",
    "\n",
    "* Formal languages are designed to be nearly or completely unambiguous, which means that any statement has exactly one meaning, regardless of context.\n",
    "* Formal languages are less redundant and more concise.\n",
    "* Formal languages mean exactly what they say.\n",
    "* Finally, the details matter. Small errors in spelling and punctuation, which you can get\n",
    "away with in natural languages, can make a big difference in a formal language.\n",
    "\n"
   ]
  },
  {
   "cell_type": "markdown",
   "metadata": {
    "cell_id": "873c011732ff42308085797b717221ab",
    "deepnote_cell_type": "markdown"
   },
   "source": [
    "# Debugging\n",
    "\n",
    "Programmers make mistakes. For whimsical reasons, programming errors are called **bugs** and the process of tracking them down is called **debugging**.\n",
    "\n",
    "Programming, and especially debugging, sometimes brigs out strong emotions. If you’re struggling with a difficult bug, you may feel angry, despondent, or embarrassed.\n",
    "\n",
    "Preparing for these reactions might help you deal with them. Learning to debug can be frustrating, but it is a valuable skill that is useful for many activities beyond programming.\n",
    "\n",
    "# Glossary\n",
    "\n",
    "In this lesson, I introduced a lot of new terms, and it can get confusing. This list may help you to understand these terms. Please read it carefully.\n",
    "\n",
    "- **algorithm**: A general process for solving a category of problems.\n",
    "- **bug**: An error in a program.\n",
    "- **compile**: To translate a program written in a high-level language into a low-level language all at once, in preparation for later execution.\n",
    "- **debugging**: The process of finding and removing any of the three kinds of programming errors.\n",
    "- **executable**: Another name for object code that is ready to be executed.\n",
    "- **formal language**: Any one of the languages that people have designed for specific purposes, such as representing mathematical ideas or computer programs; all programming languages are formal languages.\n",
    "\n",
    "- **high-level language**: A programming language like Python that is designed to be easy for humans to read and write.\n",
    "- **interactive mode**: A way of using the Python interpreter by typing commands and expressions at the prompt.\n",
    "- **interpret**: To execute a program in a high-level language by translating it one line at a time.\n",
    "- **low-level language**: A programming language that is designed to be easy for a computer to execute; also called “machine language” or “assembly language.”\n",
    "- **natural language**: Any one of the languages that people speak that evolved naturally.\n",
    "- **object code**: The output of the compiler after it translates the program.\n",
    "- **parse**: To examine a program and analyze the syntactic structure.\n",
    "- **print**: A function that causes the Python interpreter to display a value on the screen.\n",
    "- **problem solving**: The process of formulating a problem, finding a solution, and expressing the solution.\n",
    "- **program**: A set of instructions that specifies a computation.\n",
    "- **prompt**: Characters displayed by the interpreter to indicate that it is ready to take input from the user.\n",
    "- **script**: A program stored in a file (usually one that will be interpreted).\n",
    "\n",
    "- **script mode**: A way of using the Python interpreter to read and execute statements in a script.\n",
    "- **semantics**: The meaning of a program.\n",
    "- **semantic error**: An error in a program that makes it do something other than what the programmer intended.\n",
    "- **source code**: A program in a high-level language before being compiled.\n",
    "- **syntax**: The structure of a program.\n",
    "- **syntax error**: An error in a program that makes it impossible to parse (and therefore impossible to interpret).\n",
    "- **token**: One of the basic elements of the syntactic structure of a program, analogous to a word in a natural language."
   ]
  },
  {
   "cell_type": "markdown",
   "metadata": {
    "cell_id": "52dbbac70fb94654a338efd3c12c7fb6",
    "deepnote_cell_type": "markdown"
   },
   "source": [
    "### (optional) Installing Python and JupyterLab locally\n",
    "\n",
    "If you happen to want to install Python on your own computer (**which is not a requirement**), go to www.python.org and select the Download link. Here you should be able to download the latest Python version for your system. After the file downloads, run the installer.\n",
    "\n",
    "To install JupyterLab (**also not a requirement**) on your own computer follow [these instructions](https://jupyterlab.readthedocs.io/en/stable/getting_started/installation.html)."
   ]
  },
  {
   "cell_type": "markdown",
   "metadata": {
    "cell_id": "e342564a327842279c39f5660bbdb5a6",
    "deepnote_cell_type": "code",
    "deepnote_to_be_reexecuted": false,
    "execution_millis": 12,
    "execution_start": 1696300637405,
    "source_hash": null
   },
   "source": [
    "**Next you should do Challenge 23.**"
   ]
  },
  {
   "cell_type": "code",
   "execution_count": null,
   "metadata": {},
   "outputs": [],
   "source": []
  }
 ],
 "metadata": {
  "deepnote": {},
  "deepnote_execution_queue": [],
  "deepnote_notebook_id": "ebd0a52321784a31bfc4c70747fca1e9",
  "hide_input": false,
  "kernelspec": {
   "display_name": "Python 3 (ipykernel)",
   "language": "python",
   "name": "python3"
  },
  "language_info": {
   "codemirror_mode": {
    "name": "ipython",
    "version": 3
   },
   "file_extension": ".py",
   "mimetype": "text/x-python",
   "name": "python",
   "nbconvert_exporter": "python",
   "pygments_lexer": "ipython3",
   "version": "3.10.12"
  },
  "toc": {
   "base_numbering": 1,
   "nav_menu": {},
   "number_sections": true,
   "sideBar": true,
   "skip_h1_title": false,
   "title_cell": "Table of Contents",
   "title_sidebar": "Contents",
   "toc_cell": false,
   "toc_position": {},
   "toc_section_display": true,
   "toc_window_display": false
  },
  "varInspector": {
   "cols": {
    "lenName": 16,
    "lenType": 16,
    "lenVar": 40
   },
   "kernels_config": {
    "python": {
     "delete_cmd_postfix": "",
     "delete_cmd_prefix": "del ",
     "library": "var_list.py",
     "varRefreshCmd": "print(var_dic_list())"
    },
    "r": {
     "delete_cmd_postfix": ") ",
     "delete_cmd_prefix": "rm(",
     "library": "var_list.r",
     "varRefreshCmd": "cat(var_dic_list()) "
    }
   },
   "types_to_exclude": [
    "module",
    "function",
    "builtin_function_or_method",
    "instance",
    "_Feature"
   ],
   "window_display": false
  }
 },
 "nbformat": 4,
 "nbformat_minor": 4
}
