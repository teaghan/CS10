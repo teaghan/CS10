{
 "cells": [
  {
   "cell_type": "markdown",
   "id": "90ebb1e6-ba89-473f-b294-2ce9f8737ab6",
   "metadata": {},
   "source": [
    "# Functions\n",
    "\n",
    "*By completing these challenges, you'll demonstrate that you understand key programming concepts.*\n",
    "\n",
    "**Use the provided code cells to answer at least eight of the following question.** There are questions of varying difficulty (Levels 1, 2 and 3) so please select at least one from each level!\n",
    "\n",
    "When you’ve finished, call me over to read it and sign off on it. I’ll also want to run your programs, so make sure the notebook runs properly!\n",
    "\n",
    "Don’t forget to use comments appropriately."
   ]
  },
  {
   "cell_type": "markdown",
   "id": "8ff1a94b-6af6-4cfc-afcc-d8d1bb67685c",
   "metadata": {},
   "source": [
    "\n",
    "### Level 1\n",
    "\n",
    "1. Area of a circle is calculated as follows: $area = \\pi r^2$ and $perimeter = 2\\pi r$. Write a function that calculates **`area_of_circle`** and **`perimeter_of_circle`**. Your code should test this function using a **`print`** statement."
   ]
  },
  {
   "cell_type": "code",
   "execution_count": null,
   "id": "6b91b7c2-85fb-411c-a85b-e5ddd32891a8",
   "metadata": {},
   "outputs": [],
   "source": []
  },
  {
   "cell_type": "markdown",
   "id": "ae4bfe31-8811-4272-bede-43713a545d92",
   "metadata": {
    "execution": {
     "iopub.execute_input": "2023-11-07T22:19:31.180002Z",
     "iopub.status.busy": "2023-11-07T22:19:31.179621Z",
     "iopub.status.idle": "2023-11-07T22:19:31.188011Z",
     "shell.execute_reply": "2023-11-07T22:19:31.186701Z",
     "shell.execute_reply.started": "2023-11-07T22:19:31.179976Z"
    },
    "tags": []
   },
   "source": [
    "2. Write a function called **`add_all_nums`** which takes arbitrary number of arguments and sums all the arguments. Check if all the list items are number types. If not, give the user a reasonable feedback."
   ]
  },
  {
   "cell_type": "code",
   "execution_count": null,
   "id": "c6a5e11f-dfff-40b0-af90-04743b46d34a",
   "metadata": {},
   "outputs": [],
   "source": []
  },
  {
   "cell_type": "markdown",
   "id": "dcce91f3-5b7e-4081-b5a8-7d591aa4d93f",
   "metadata": {},
   "source": [
    "3. Temperature in **°C** can be converted to **°F** using this formula: **°F = (°C x 9/5) + 32**. Write a function which converts **°C to °F**, **`convert_celsius_2_fahrenheit`**."
   ]
  },
  {
   "cell_type": "code",
   "execution_count": null,
   "id": "ef8605be-ce3d-4013-b0fc-774e3966b8b1",
   "metadata": {},
   "outputs": [],
   "source": []
  },
  {
   "cell_type": "markdown",
   "id": "723784b6-8656-43cd-b819-7d6ff3939f18",
   "metadata": {},
   "source": [
    "4. Write a function called **`check_season`**, it takes a month parameter and returns the season: Autumn, Winter, Spring or Summer."
   ]
  },
  {
   "cell_type": "code",
   "execution_count": null,
   "id": "2395f148-9190-4bc0-a9ac-7ca377cffb03",
   "metadata": {},
   "outputs": [],
   "source": []
  },
  {
   "cell_type": "markdown",
   "id": "b0a5a6fc-6e62-44cd-847b-3da36362b428",
   "metadata": {},
   "source": [
    "5. Write a function called **`calculate_slope`** which return the slope of a linear equation"
   ]
  },
  {
   "cell_type": "code",
   "execution_count": null,
   "id": "bf4c0491-6057-49ae-ad24-f163fdd0effd",
   "metadata": {},
   "outputs": [],
   "source": []
  },
  {
   "cell_type": "markdown",
   "id": "d25583cd-884e-471b-9f2f-8e2d5e83f35e",
   "metadata": {},
   "source": [
    "6. Quadratic equation is calculated as follows: $ax^2 + bx +c =0$. Write a function which calculates the solution set of a quadratic equation, **`solve_quadratic_eqn`**.\n"
   ]
  },
  {
   "cell_type": "code",
   "execution_count": null,
   "id": "28cfa3aa-4c73-47cd-bace-e5e197f2f5ca",
   "metadata": {},
   "outputs": [],
   "source": []
  },
  {
   "cell_type": "code",
   "execution_count": null,
   "id": "7a2383b0-6856-41ef-b673-885cdba011bf",
   "metadata": {},
   "outputs": [],
   "source": []
  },
  {
   "cell_type": "markdown",
   "id": "1b459939-680c-4fa8-bbca-6f1c517532a0",
   "metadata": {},
   "source": [
    "7. Declare a function named **`print_list`**. It takes a list as a parameter and it prints out each element of the list."
   ]
  },
  {
   "cell_type": "code",
   "execution_count": null,
   "id": "674fb29f-a59e-4bf5-9d6c-b9822df65c2b",
   "metadata": {},
   "outputs": [],
   "source": []
  },
  {
   "cell_type": "markdown",
   "id": "36aeb2e0-1bf1-495c-9e9a-be181c069e3b",
   "metadata": {},
   "source": [
    "8. Declare a function named **`reverse_list`**. It takes an array as a parameter and it returns the reverse of the array (use loops).\n",
    "\n",
    "```python\n",
    "print(reverse_list([1, 2, 3, 4, 5]))\n",
    "#[5, 4, 3, 2, 1]\n",
    "print(reverse_list1([\"A\", \"B\", \"C\"]))\n",
    "#[\"C\", \"B\", \"A\"]\n",
    "```"
   ]
  },
  {
   "cell_type": "code",
   "execution_count": null,
   "id": "a91be6ff-9356-4513-9b70-5142f13f402b",
   "metadata": {},
   "outputs": [],
   "source": []
  },
  {
   "cell_type": "markdown",
   "id": "b5780c7b-d65a-43f6-a395-1dd4308ca8ca",
   "metadata": {},
   "source": [
    "9. Declare a function named **`capitalize_list_items`**. It takes a list as a parameter and it returns a capitalized list of items"
   ]
  },
  {
   "cell_type": "code",
   "execution_count": null,
   "id": "887f2bcf-8f24-47d4-87a2-3aa9d2193a65",
   "metadata": {},
   "outputs": [],
   "source": []
  },
  {
   "cell_type": "markdown",
   "id": "0273218f-bc9b-4eeb-9911-e48f4b61efbf",
   "metadata": {},
   "source": [
    "10. Declare a function named **`add_item`**. It takes a list and an item parameters. It returns a list with the item added at the end.\n",
    "\n",
    "```python\n",
    "food_staff = ['Potato', 'Tomato', 'Mango', 'Milk']\n",
    "print(add_item(food_staff, 'Fungi'))  #['Potato', 'Tomato', 'Mango', 'Milk', 'Fungi']\n",
    "numbers = [2, 3, 7, 9]\n",
    "print(add_item(numbers, 5))      #[2, 3, 7, 9, 5]\n",
    "```"
   ]
  },
  {
   "cell_type": "code",
   "execution_count": null,
   "id": "73ca6816-837a-4017-90cc-ae7c8aa9bd5c",
   "metadata": {},
   "outputs": [],
   "source": []
  },
  {
   "cell_type": "markdown",
   "id": "9c60609a-3048-4629-86aa-33300e9d6f45",
   "metadata": {},
   "source": [
    "11. Declare a function named **`remove_item`**. It takes a list and an item parameters. It returns a list with the item removed from it.\n",
    "\n",
    "```python\n",
    "food_staff = ['Potato', 'Tomato', 'Mango', 'Milk']\n",
    "print(remove_item(food_staff, 'Mango'))  # ['Potato', 'Tomato', 'Milk']\n",
    "numbers = [2, 3, 7, 9]\n",
    "print(remove_item(numbers, 3))  # [2, 7, 9]\n",
    "```"
   ]
  },
  {
   "cell_type": "code",
   "execution_count": null,
   "id": "25d68952-5034-4d7e-ad57-82c423341b75",
   "metadata": {},
   "outputs": [],
   "source": []
  },
  {
   "cell_type": "markdown",
   "id": "0d53f7c1-e78e-4998-9c66-b825f8e7facc",
   "metadata": {},
   "source": [
    "12. Declare a function named **`sum_of_numbers`**. It takes a number parameter and it adds all the numbers in that range.\n",
    "\n",
    "```python\n",
    "print(sum_of_numbers(5))  # 15\n",
    "print(sum_all_numbers(10)) # 55\n",
    "print(sum_all_numbers(100)) # 5050\n",
    "```\n"
   ]
  },
  {
   "cell_type": "code",
   "execution_count": null,
   "id": "5a34b781-dfff-4237-8711-fb0f3481db06",
   "metadata": {},
   "outputs": [],
   "source": []
  },
  {
   "cell_type": "markdown",
   "id": "3e74543d-e5b0-493f-a166-6f7e484db303",
   "metadata": {},
   "source": [
    "13. Declare a function named **`sum_of_odds`**. It takes a number parameter and it adds all the odd numbers in that range."
   ]
  },
  {
   "cell_type": "code",
   "execution_count": null,
   "id": "2c1910fb-ec64-464a-a3b9-1fad5bf44c1f",
   "metadata": {},
   "outputs": [],
   "source": []
  },
  {
   "cell_type": "markdown",
   "id": "9fe8ed12-33ab-42cf-8dc9-0a654d462ee4",
   "metadata": {},
   "source": [
    "14. Declare a function named **`sum_of_even`**. It takes a number parameter and it adds all the even numbers in that - range.\n"
   ]
  },
  {
   "cell_type": "code",
   "execution_count": null,
   "id": "39cb563d-1dff-48a5-85b4-0150cdec6ed5",
   "metadata": {},
   "outputs": [],
   "source": []
  },
  {
   "cell_type": "markdown",
   "id": "00a014fa-a09a-4b2a-bfe0-712840e5d801",
   "metadata": {},
   "source": [
    "### Level 2\n",
    "\n",
    "15.  Declare a function named **`evens_and_odds`**. It takes a positive integer as parameter and it counts number of evens and odds in the number.\n",
    "\n",
    "```python\n",
    "print(evens_and_odds(100))\n",
    "#The number of odds are 50.\n",
    "#The number of evens are 51.\n",
    "```"
   ]
  },
  {
   "cell_type": "code",
   "execution_count": null,
   "id": "dcf22c37-1d74-4296-adb3-1b67045d7e56",
   "metadata": {},
   "outputs": [],
   "source": []
  },
  {
   "cell_type": "code",
   "execution_count": null,
   "id": "c201be9f-44d2-4849-a30c-7b40aafe2913",
   "metadata": {},
   "outputs": [],
   "source": []
  },
  {
   "cell_type": "markdown",
   "id": "14fae4df-85c9-4fe1-8925-98ad36add335",
   "metadata": {},
   "source": [
    "16. Call your function **`factorial`**, it takes a whole number as a parameter and it return a factorial of the number"
   ]
  },
  {
   "cell_type": "code",
   "execution_count": null,
   "id": "33dff4db-5d83-44a8-a594-82e8d10943bb",
   "metadata": {},
   "outputs": [],
   "source": []
  },
  {
   "cell_type": "markdown",
   "id": "708630a7-017a-4852-a4be-f4f5ac11d001",
   "metadata": {},
   "source": [
    "17. Call your function **`is_empty`**, it takes a parameter and it checks if it is empty or not"
   ]
  },
  {
   "cell_type": "code",
   "execution_count": null,
   "id": "70b387a3-9419-4632-bb79-9ca34a7f7fee",
   "metadata": {},
   "outputs": [],
   "source": []
  },
  {
   "cell_type": "markdown",
   "id": "4b7a9788-1a56-4faf-84a5-4cd9f439d578",
   "metadata": {},
   "source": [
    "18. Write different functions which take lists. They should **`calculate_mean`**, **`calculate_median`**, **`calculate_mode`**, **`calculate_range`**, **`calculate_variance`**, **`calculate_std`** (standard deviation)."
   ]
  },
  {
   "cell_type": "code",
   "execution_count": null,
   "id": "f3993274-aa09-432f-82b9-13674e57686f",
   "metadata": {},
   "outputs": [],
   "source": []
  },
  {
   "cell_type": "markdown",
   "id": "f07b89fd-b993-4f0a-b701-07f24604d38e",
   "metadata": {},
   "source": [
    "### Level 3\n",
    "\n",
    "19. Write a function called **`is_prime`**, which checks if a number is prime."
   ]
  },
  {
   "cell_type": "code",
   "execution_count": null,
   "id": "946bbb5d-4872-44f2-a2cf-08226a50667d",
   "metadata": {},
   "outputs": [],
   "source": []
  },
  {
   "cell_type": "markdown",
   "id": "c8e1f90b-0d52-410f-a82a-7604eac2bd29",
   "metadata": {
    "execution": {
     "iopub.execute_input": "2023-11-07T22:21:54.104991Z",
     "iopub.status.busy": "2023-11-07T22:21:54.104499Z",
     "iopub.status.idle": "2023-11-07T22:21:54.205629Z",
     "shell.execute_reply": "2023-11-07T22:21:54.204373Z",
     "shell.execute_reply.started": "2023-11-07T22:21:54.104964Z"
    },
    "tags": []
   },
   "source": [
    "20. Write a functions which checks if all items are unique in the list."
   ]
  },
  {
   "cell_type": "code",
   "execution_count": null,
   "id": "741af0ff-0fe4-463d-95c3-8e152994a7fb",
   "metadata": {},
   "outputs": [],
   "source": []
  },
  {
   "cell_type": "markdown",
   "id": "3e083f41-a495-49ac-aa6b-152ed067b007",
   "metadata": {},
   "source": [
    "21. Write a function which checks if all the items of the list are of the same data type."
   ]
  },
  {
   "cell_type": "code",
   "execution_count": null,
   "id": "72f98f0f-c72f-455a-b855-0df34e618b81",
   "metadata": {},
   "outputs": [],
   "source": []
  },
  {
   "cell_type": "markdown",
   "id": "9f8012f7-2ed3-4f96-857a-082708d99d8d",
   "metadata": {
    "execution": {
     "iopub.execute_input": "2023-11-07T22:22:10.634988Z",
     "iopub.status.busy": "2023-11-07T22:22:10.634090Z",
     "iopub.status.idle": "2023-11-07T22:22:10.640204Z",
     "shell.execute_reply": "2023-11-07T22:22:10.639175Z",
     "shell.execute_reply.started": "2023-11-07T22:22:10.634958Z"
    },
    "tags": []
   },
   "source": [
    "22. Write a function which check if provided variable is a valid python variable"
   ]
  },
  {
   "cell_type": "code",
   "execution_count": null,
   "id": "7d7f8a7f-10cd-4dfa-8c42-68ad32c80aad",
   "metadata": {},
   "outputs": [],
   "source": []
  },
  {
   "cell_type": "markdown",
   "id": "40bd2f87-c33c-4543-85a5-27af15e498ab",
   "metadata": {},
   "source": [
    "23. Download the `countries_details_data.py` from Teams and upload it to your project by dragging it to the `FILES` section on the left hand panel. You can load this list of country data into the variable `country_data` by using the following code\n",
    "\n",
    "```python\n",
    "from countries_details_data import country_data\n",
    "```\n",
    "\n",
    "- Create a function called the **`most_spoken_languages`** in the world. It should return 10 or 20 most spoken languages in the world in descending order\n",
    "- Create a function called the **`most_populated_countries`**. It should return 10 or 20 most populated countries in descending order."
   ]
  },
  {
   "cell_type": "code",
   "execution_count": null,
   "id": "fda0da2a-10df-4c83-bdf2-f0352f32322d",
   "metadata": {},
   "outputs": [],
   "source": []
  },
  {
   "cell_type": "code",
   "execution_count": null,
   "id": "77e51ea0-ba8e-419c-a0af-7f830b2087bd",
   "metadata": {},
   "outputs": [],
   "source": []
  }
 ],
 "metadata": {
  "kernelspec": {
   "display_name": "Python 3 (ipykernel)",
   "language": "python",
   "name": "python3"
  },
  "language_info": {
   "codemirror_mode": {
    "name": "ipython",
    "version": 3
   },
   "file_extension": ".py",
   "mimetype": "text/x-python",
   "name": "python",
   "nbconvert_exporter": "python",
   "pygments_lexer": "ipython3",
   "version": "3.10.12"
  }
 },
 "nbformat": 4,
 "nbformat_minor": 5
}
